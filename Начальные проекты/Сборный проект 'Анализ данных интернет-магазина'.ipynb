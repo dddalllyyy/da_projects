{
 "cells": [
  {
   "cell_type": "markdown",
   "metadata": {},
   "source": [
    "# Анализ ассортимента игр магазина \"Стримчик\""
   ]
  },
  {
   "cell_type": "markdown",
   "metadata": {},
   "source": [
    "**Вводная информация о проекте и датасете:** <br>\n",
    "Описание данных и ТЗ:"
   ]
  },
  {
   "cell_type": "markdown",
   "metadata": {},
   "source": [
    "Датасет - /datasets/games.csv\n"
   ]
  },
  {
   "cell_type": "markdown",
   "metadata": {},
   "source": [
    "**Содержание датасета:** <br>\n",
    "`Name` — название игры <br>\n",
    "`Platform` — платформа <br>\n",
    "`Year_of_Release` — год выпуска <br>\n",
    "`Genre` — жанр игры <br>\n",
    "`NA_sales` — продажи в Северной Америке (миллионы проданных копий) <br>\n",
    "`EU_sales` — продажи в Европе (миллионы проданных копий)<br>\n",
    "`JP_sales` — продажи в Японии (миллионы проданных копий) <br>\n",
    "`Other_sales` — продажи в других странах (миллионы проданных копий) <br>\n",
    "`Critic_Score` — оценка критиков (максимум 100) <br>\n",
    "`User_Score` — оценка пользователей (максимум 10) <br>\n",
    "`Rating` — рейтинг от организации ESRB (англ. Entertainment Software Rating Board). Эта ассоциация определяет рейтинг компьютерных игр и присваивает им подходящую возрастную категорию."
   ]
  },
  {
   "cell_type": "markdown",
   "metadata": {},
   "source": [
    "ТЗ проекта: <br>\n",
    "- изучить общую информацию \n",
    "- подготовить данные к анализу (регистр, типы, пропуски)\n",
    "- создать отдельный столбец с суммарными продажами во всех регионах\n",
    "- провести ИАД:\n",
    "1. сколько игр выпускалось в разные годы\n",
    "2. продажи по платформам, распределение по годам\n",
    "3. определить актуальный период, дальнейший анализ проводить по этим годам\n",
    "4. лидеры по продажам (платформы)\n",
    "5. глобальные продажи игр в разбивке по платформам (boxplot)\n",
    "6. корреляция между отзывами и продажами\n",
    "7. общее распределение игр по жанрам\n",
    "- составить портрет пользователя каждого региона по: \n",
    "1. популярные платформы (топ-5)\n",
    "2. популярные жанры (топ-5)\n",
    "3. влияет ли рейтинг ESRB на продажи в отдельном регионе?\n",
    "- проверка гипотез:\n",
    "1. средние пользовательские рейтинги платформ Xbox One и PC одинаковые;\n",
    "2. средние пользовательские рейтинги жанров Action и Sports разные.\n",
    "- общий вывод"
   ]
  },
  {
   "cell_type": "markdown",
   "metadata": {},
   "source": [
    "## Загрузка датасета, получение общей информации"
   ]
  },
  {
   "cell_type": "code",
   "execution_count": 1,
   "metadata": {},
   "outputs": [],
   "source": [
    "import pandas as pd\n",
    "import matplotlib.pyplot as plt\n",
    "import numpy as np\n",
    "import seaborn as sns\n",
    "from matplotlib import style\n",
    "from scipy import stats as st"
   ]
  },
  {
   "cell_type": "code",
   "execution_count": 2,
   "metadata": {},
   "outputs": [],
   "source": [
    "data = pd.read_csv('/datasets/games.csv')"
   ]
  },
  {
   "cell_type": "code",
   "execution_count": 3,
   "metadata": {},
   "outputs": [
    {
     "data": {
      "text/html": [
       "<div>\n",
       "<style scoped>\n",
       "    .dataframe tbody tr th:only-of-type {\n",
       "        vertical-align: middle;\n",
       "    }\n",
       "\n",
       "    .dataframe tbody tr th {\n",
       "        vertical-align: top;\n",
       "    }\n",
       "\n",
       "    .dataframe thead th {\n",
       "        text-align: right;\n",
       "    }\n",
       "</style>\n",
       "<table border=\"1\" class=\"dataframe\">\n",
       "  <thead>\n",
       "    <tr style=\"text-align: right;\">\n",
       "      <th></th>\n",
       "      <th>Name</th>\n",
       "      <th>Platform</th>\n",
       "      <th>Year_of_Release</th>\n",
       "      <th>Genre</th>\n",
       "      <th>NA_sales</th>\n",
       "      <th>EU_sales</th>\n",
       "      <th>JP_sales</th>\n",
       "      <th>Other_sales</th>\n",
       "      <th>Critic_Score</th>\n",
       "      <th>User_Score</th>\n",
       "      <th>Rating</th>\n",
       "    </tr>\n",
       "  </thead>\n",
       "  <tbody>\n",
       "    <tr>\n",
       "      <th>0</th>\n",
       "      <td>Wii Sports</td>\n",
       "      <td>Wii</td>\n",
       "      <td>2006.0</td>\n",
       "      <td>Sports</td>\n",
       "      <td>41.36</td>\n",
       "      <td>28.96</td>\n",
       "      <td>3.77</td>\n",
       "      <td>8.45</td>\n",
       "      <td>76.0</td>\n",
       "      <td>8</td>\n",
       "      <td>E</td>\n",
       "    </tr>\n",
       "    <tr>\n",
       "      <th>1</th>\n",
       "      <td>Super Mario Bros.</td>\n",
       "      <td>NES</td>\n",
       "      <td>1985.0</td>\n",
       "      <td>Platform</td>\n",
       "      <td>29.08</td>\n",
       "      <td>3.58</td>\n",
       "      <td>6.81</td>\n",
       "      <td>0.77</td>\n",
       "      <td>NaN</td>\n",
       "      <td>NaN</td>\n",
       "      <td>NaN</td>\n",
       "    </tr>\n",
       "    <tr>\n",
       "      <th>2</th>\n",
       "      <td>Mario Kart Wii</td>\n",
       "      <td>Wii</td>\n",
       "      <td>2008.0</td>\n",
       "      <td>Racing</td>\n",
       "      <td>15.68</td>\n",
       "      <td>12.76</td>\n",
       "      <td>3.79</td>\n",
       "      <td>3.29</td>\n",
       "      <td>82.0</td>\n",
       "      <td>8.3</td>\n",
       "      <td>E</td>\n",
       "    </tr>\n",
       "    <tr>\n",
       "      <th>3</th>\n",
       "      <td>Wii Sports Resort</td>\n",
       "      <td>Wii</td>\n",
       "      <td>2009.0</td>\n",
       "      <td>Sports</td>\n",
       "      <td>15.61</td>\n",
       "      <td>10.93</td>\n",
       "      <td>3.28</td>\n",
       "      <td>2.95</td>\n",
       "      <td>80.0</td>\n",
       "      <td>8</td>\n",
       "      <td>E</td>\n",
       "    </tr>\n",
       "    <tr>\n",
       "      <th>4</th>\n",
       "      <td>Pokemon Red/Pokemon Blue</td>\n",
       "      <td>GB</td>\n",
       "      <td>1996.0</td>\n",
       "      <td>Role-Playing</td>\n",
       "      <td>11.27</td>\n",
       "      <td>8.89</td>\n",
       "      <td>10.22</td>\n",
       "      <td>1.00</td>\n",
       "      <td>NaN</td>\n",
       "      <td>NaN</td>\n",
       "      <td>NaN</td>\n",
       "    </tr>\n",
       "  </tbody>\n",
       "</table>\n",
       "</div>"
      ],
      "text/plain": [
       "                       Name Platform  Year_of_Release         Genre  NA_sales  \\\n",
       "0                Wii Sports      Wii           2006.0        Sports     41.36   \n",
       "1         Super Mario Bros.      NES           1985.0      Platform     29.08   \n",
       "2            Mario Kart Wii      Wii           2008.0        Racing     15.68   \n",
       "3         Wii Sports Resort      Wii           2009.0        Sports     15.61   \n",
       "4  Pokemon Red/Pokemon Blue       GB           1996.0  Role-Playing     11.27   \n",
       "\n",
       "   EU_sales  JP_sales  Other_sales  Critic_Score User_Score Rating  \n",
       "0     28.96      3.77         8.45          76.0          8      E  \n",
       "1      3.58      6.81         0.77           NaN        NaN    NaN  \n",
       "2     12.76      3.79         3.29          82.0        8.3      E  \n",
       "3     10.93      3.28         2.95          80.0          8      E  \n",
       "4      8.89     10.22         1.00           NaN        NaN    NaN  "
      ]
     },
     "execution_count": 3,
     "metadata": {},
     "output_type": "execute_result"
    }
   ],
   "source": [
    "data.head() "
   ]
  },
  {
   "cell_type": "code",
   "execution_count": 4,
   "metadata": {},
   "outputs": [
    {
     "name": "stdout",
     "output_type": "stream",
     "text": [
      "<class 'pandas.core.frame.DataFrame'>\n",
      "RangeIndex: 16715 entries, 0 to 16714\n",
      "Data columns (total 11 columns):\n",
      " #   Column           Non-Null Count  Dtype  \n",
      "---  ------           --------------  -----  \n",
      " 0   Name             16713 non-null  object \n",
      " 1   Platform         16715 non-null  object \n",
      " 2   Year_of_Release  16446 non-null  float64\n",
      " 3   Genre            16713 non-null  object \n",
      " 4   NA_sales         16715 non-null  float64\n",
      " 5   EU_sales         16715 non-null  float64\n",
      " 6   JP_sales         16715 non-null  float64\n",
      " 7   Other_sales      16715 non-null  float64\n",
      " 8   Critic_Score     8137 non-null   float64\n",
      " 9   User_Score       10014 non-null  object \n",
      " 10  Rating           9949 non-null   object \n",
      "dtypes: float64(6), object(5)\n",
      "memory usage: 1.4+ MB\n"
     ]
    }
   ],
   "source": [
    "data.info()"
   ]
  },
  {
   "cell_type": "code",
   "execution_count": 5,
   "metadata": {
    "scrolled": true
   },
   "outputs": [
    {
     "data": {
      "text/plain": [
       "Platform              0\n",
       "NA_sales              0\n",
       "EU_sales              0\n",
       "JP_sales              0\n",
       "Other_sales           0\n",
       "Name                  2\n",
       "Genre                 2\n",
       "Year_of_Release     269\n",
       "User_Score         6701\n",
       "Rating             6766\n",
       "Critic_Score       8578\n",
       "dtype: int64"
      ]
     },
     "execution_count": 5,
     "metadata": {},
     "output_type": "execute_result"
    }
   ],
   "source": [
    "data.isna().sum().sort_values()"
   ]
  },
  {
   "cell_type": "markdown",
   "metadata": {},
   "source": [
    "Разделитель стандартный, имена колонок нужно исправлять, присутствуют пропуски, тип данных некоторых столбцов нужно поменять"
   ]
  },
  {
   "cell_type": "code",
   "execution_count": 6,
   "metadata": {},
   "outputs": [
    {
     "data": {
      "text/plain": [
       "0"
      ]
     },
     "execution_count": 6,
     "metadata": {},
     "output_type": "execute_result"
    }
   ],
   "source": [
    "data.duplicated().sum()"
   ]
  },
  {
   "cell_type": "markdown",
   "metadata": {},
   "source": [
    "Явных дубликатов нет"
   ]
  },
  {
   "cell_type": "code",
   "execution_count": 7,
   "metadata": {},
   "outputs": [],
   "source": [
    "shape = data.shape[0]"
   ]
  },
  {
   "cell_type": "markdown",
   "metadata": {},
   "source": [
    "**Изучив вводные, видим, что:**\n",
    "- имена колонок не в snake_case\n",
    "- есть пропуски\n",
    "- не оптимальные типы данных\n",
    "- явных дубликатов нет \n",
    "<br>\n",
    "После исправления этих пунктов можно будет переходить к исследованиям"
   ]
  },
  {
   "cell_type": "markdown",
   "metadata": {},
   "source": [
    "## Подготовка данных к анализу"
   ]
  },
  {
   "cell_type": "markdown",
   "metadata": {},
   "source": [
    "### Имена столбцов"
   ]
  },
  {
   "cell_type": "markdown",
   "metadata": {},
   "source": [
    "Для начала, заменим названия столбцов"
   ]
  },
  {
   "cell_type": "code",
   "execution_count": 8,
   "metadata": {},
   "outputs": [],
   "source": [
    "data.columns = ('name', \n",
    "                'platform', \n",
    "                'year_of_release', \n",
    "                'genre', 'na_sales', \n",
    "                'eu_sales', \n",
    "                'jp_sales', \n",
    "                'other_sales', \n",
    "                'critic_score', \n",
    "                'user_score', 'rating')"
   ]
  },
  {
   "cell_type": "code",
   "execution_count": 9,
   "metadata": {},
   "outputs": [
    {
     "data": {
      "text/html": [
       "<div>\n",
       "<style scoped>\n",
       "    .dataframe tbody tr th:only-of-type {\n",
       "        vertical-align: middle;\n",
       "    }\n",
       "\n",
       "    .dataframe tbody tr th {\n",
       "        vertical-align: top;\n",
       "    }\n",
       "\n",
       "    .dataframe thead th {\n",
       "        text-align: right;\n",
       "    }\n",
       "</style>\n",
       "<table border=\"1\" class=\"dataframe\">\n",
       "  <thead>\n",
       "    <tr style=\"text-align: right;\">\n",
       "      <th></th>\n",
       "      <th>name</th>\n",
       "      <th>platform</th>\n",
       "      <th>year_of_release</th>\n",
       "      <th>genre</th>\n",
       "      <th>na_sales</th>\n",
       "      <th>eu_sales</th>\n",
       "      <th>jp_sales</th>\n",
       "      <th>other_sales</th>\n",
       "      <th>critic_score</th>\n",
       "      <th>user_score</th>\n",
       "      <th>rating</th>\n",
       "    </tr>\n",
       "  </thead>\n",
       "  <tbody>\n",
       "    <tr>\n",
       "      <th>0</th>\n",
       "      <td>Wii Sports</td>\n",
       "      <td>Wii</td>\n",
       "      <td>2006.0</td>\n",
       "      <td>Sports</td>\n",
       "      <td>41.36</td>\n",
       "      <td>28.96</td>\n",
       "      <td>3.77</td>\n",
       "      <td>8.45</td>\n",
       "      <td>76.0</td>\n",
       "      <td>8</td>\n",
       "      <td>E</td>\n",
       "    </tr>\n",
       "    <tr>\n",
       "      <th>1</th>\n",
       "      <td>Super Mario Bros.</td>\n",
       "      <td>NES</td>\n",
       "      <td>1985.0</td>\n",
       "      <td>Platform</td>\n",
       "      <td>29.08</td>\n",
       "      <td>3.58</td>\n",
       "      <td>6.81</td>\n",
       "      <td>0.77</td>\n",
       "      <td>NaN</td>\n",
       "      <td>NaN</td>\n",
       "      <td>NaN</td>\n",
       "    </tr>\n",
       "    <tr>\n",
       "      <th>2</th>\n",
       "      <td>Mario Kart Wii</td>\n",
       "      <td>Wii</td>\n",
       "      <td>2008.0</td>\n",
       "      <td>Racing</td>\n",
       "      <td>15.68</td>\n",
       "      <td>12.76</td>\n",
       "      <td>3.79</td>\n",
       "      <td>3.29</td>\n",
       "      <td>82.0</td>\n",
       "      <td>8.3</td>\n",
       "      <td>E</td>\n",
       "    </tr>\n",
       "    <tr>\n",
       "      <th>3</th>\n",
       "      <td>Wii Sports Resort</td>\n",
       "      <td>Wii</td>\n",
       "      <td>2009.0</td>\n",
       "      <td>Sports</td>\n",
       "      <td>15.61</td>\n",
       "      <td>10.93</td>\n",
       "      <td>3.28</td>\n",
       "      <td>2.95</td>\n",
       "      <td>80.0</td>\n",
       "      <td>8</td>\n",
       "      <td>E</td>\n",
       "    </tr>\n",
       "    <tr>\n",
       "      <th>4</th>\n",
       "      <td>Pokemon Red/Pokemon Blue</td>\n",
       "      <td>GB</td>\n",
       "      <td>1996.0</td>\n",
       "      <td>Role-Playing</td>\n",
       "      <td>11.27</td>\n",
       "      <td>8.89</td>\n",
       "      <td>10.22</td>\n",
       "      <td>1.00</td>\n",
       "      <td>NaN</td>\n",
       "      <td>NaN</td>\n",
       "      <td>NaN</td>\n",
       "    </tr>\n",
       "  </tbody>\n",
       "</table>\n",
       "</div>"
      ],
      "text/plain": [
       "                       name platform  year_of_release         genre  na_sales  \\\n",
       "0                Wii Sports      Wii           2006.0        Sports     41.36   \n",
       "1         Super Mario Bros.      NES           1985.0      Platform     29.08   \n",
       "2            Mario Kart Wii      Wii           2008.0        Racing     15.68   \n",
       "3         Wii Sports Resort      Wii           2009.0        Sports     15.61   \n",
       "4  Pokemon Red/Pokemon Blue       GB           1996.0  Role-Playing     11.27   \n",
       "\n",
       "   eu_sales  jp_sales  other_sales  critic_score user_score rating  \n",
       "0     28.96      3.77         8.45          76.0          8      E  \n",
       "1      3.58      6.81         0.77           NaN        NaN    NaN  \n",
       "2     12.76      3.79         3.29          82.0        8.3      E  \n",
       "3     10.93      3.28         2.95          80.0          8      E  \n",
       "4      8.89     10.22         1.00           NaN        NaN    NaN  "
      ]
     },
     "metadata": {},
     "output_type": "display_data"
    },
    {
     "data": {
      "text/plain": [
       "name                object\n",
       "platform            object\n",
       "year_of_release    float64\n",
       "genre               object\n",
       "na_sales           float64\n",
       "eu_sales           float64\n",
       "jp_sales           float64\n",
       "other_sales        float64\n",
       "critic_score       float64\n",
       "user_score          object\n",
       "rating              object\n",
       "dtype: object"
      ]
     },
     "execution_count": 9,
     "metadata": {},
     "output_type": "execute_result"
    }
   ],
   "source": [
    "display(data.head())\n",
    "data.dtypes"
   ]
  },
  {
   "cell_type": "code",
   "execution_count": 10,
   "metadata": {},
   "outputs": [
    {
     "data": {
      "text/plain": [
       "array([76., nan, 82., 80., 89., 58., 87., 91., 61., 97., 95., 77., 88.,\n",
       "       83., 94., 93., 85., 86., 98., 96., 90., 84., 73., 74., 78., 92.,\n",
       "       71., 72., 68., 62., 49., 67., 81., 66., 56., 79., 70., 59., 64.,\n",
       "       75., 60., 63., 69., 50., 25., 42., 44., 55., 48., 57., 29., 47.,\n",
       "       65., 54., 20., 53., 37., 38., 33., 52., 30., 32., 43., 45., 51.,\n",
       "       40., 46., 39., 34., 35., 41., 36., 28., 31., 27., 26., 19., 23.,\n",
       "       24., 21., 17., 22., 13.])"
      ]
     },
     "execution_count": 10,
     "metadata": {},
     "output_type": "execute_result"
    }
   ],
   "source": [
    "data['critic_score'].unique() #есть ли в столбце с оценками критиков дробные числа"
   ]
  },
  {
   "cell_type": "markdown",
   "metadata": {},
   "source": [
    "### Обработка пропусков и изменение типа данных столбцов"
   ]
  },
  {
   "cell_type": "markdown",
   "metadata": {},
   "source": [
    "Названия столбцов в порядке, теперь нужно заменить тип данных на int64 в столбцах year_of_release, critic_score, так как это целые числа <br>\n",
    "<br>\n",
    "В столбце user_score - во float64. <br>\n",
    "<br>\n",
    "tbd можно перевести в NaN, либо заполнить -1, потому что на момент анализа оценка не известна, либо оценки только начали вставлять. Пустующие оценки можно заменить на -1<br>\n",
    "отсутствуюший рейтинг заменим на unknown"
   ]
  },
  {
   "cell_type": "code",
   "execution_count": 11,
   "metadata": {},
   "outputs": [
    {
     "data": {
      "text/html": [
       "<div>\n",
       "<style scoped>\n",
       "    .dataframe tbody tr th:only-of-type {\n",
       "        vertical-align: middle;\n",
       "    }\n",
       "\n",
       "    .dataframe tbody tr th {\n",
       "        vertical-align: top;\n",
       "    }\n",
       "\n",
       "    .dataframe thead th {\n",
       "        text-align: right;\n",
       "    }\n",
       "</style>\n",
       "<table border=\"1\" class=\"dataframe\">\n",
       "  <thead>\n",
       "    <tr style=\"text-align: right;\">\n",
       "      <th></th>\n",
       "      <th>name</th>\n",
       "      <th>platform</th>\n",
       "      <th>year_of_release</th>\n",
       "      <th>genre</th>\n",
       "      <th>na_sales</th>\n",
       "      <th>eu_sales</th>\n",
       "      <th>jp_sales</th>\n",
       "      <th>other_sales</th>\n",
       "      <th>critic_score</th>\n",
       "      <th>user_score</th>\n",
       "      <th>rating</th>\n",
       "    </tr>\n",
       "  </thead>\n",
       "  <tbody>\n",
       "    <tr>\n",
       "      <th>659</th>\n",
       "      <td>NaN</td>\n",
       "      <td>GEN</td>\n",
       "      <td>1993.0</td>\n",
       "      <td>NaN</td>\n",
       "      <td>1.78</td>\n",
       "      <td>0.53</td>\n",
       "      <td>0.00</td>\n",
       "      <td>0.08</td>\n",
       "      <td>NaN</td>\n",
       "      <td>NaN</td>\n",
       "      <td>NaN</td>\n",
       "    </tr>\n",
       "    <tr>\n",
       "      <th>14244</th>\n",
       "      <td>NaN</td>\n",
       "      <td>GEN</td>\n",
       "      <td>1993.0</td>\n",
       "      <td>NaN</td>\n",
       "      <td>0.00</td>\n",
       "      <td>0.00</td>\n",
       "      <td>0.03</td>\n",
       "      <td>0.00</td>\n",
       "      <td>NaN</td>\n",
       "      <td>NaN</td>\n",
       "      <td>NaN</td>\n",
       "    </tr>\n",
       "  </tbody>\n",
       "</table>\n",
       "</div>"
      ],
      "text/plain": [
       "      name platform  year_of_release genre  na_sales  eu_sales  jp_sales  \\\n",
       "659    NaN      GEN           1993.0   NaN      1.78      0.53      0.00   \n",
       "14244  NaN      GEN           1993.0   NaN      0.00      0.00      0.03   \n",
       "\n",
       "       other_sales  critic_score user_score rating  \n",
       "659           0.08           NaN        NaN    NaN  \n",
       "14244         0.00           NaN        NaN    NaN  "
      ]
     },
     "execution_count": 11,
     "metadata": {},
     "output_type": "execute_result"
    }
   ],
   "source": [
    "data[data['name'].isna()]"
   ]
  },
  {
   "cell_type": "markdown",
   "metadata": {},
   "source": [
    "В датафрейме есть два пропуска в столбце имени и два пропуска в столбце жанра. **Строки совпали - по ним максимально мало информации, можно их удалить**"
   ]
  },
  {
   "cell_type": "code",
   "execution_count": 12,
   "metadata": {},
   "outputs": [],
   "source": [
    "data = data[data['name'].isna() != True]"
   ]
  },
  {
   "cell_type": "markdown",
   "metadata": {},
   "source": [
    "Далее - год релиза. Смотрим отношение количества пропусков к длине датафрейма"
   ]
  },
  {
   "cell_type": "code",
   "execution_count": 13,
   "metadata": {
    "scrolled": true
   },
   "outputs": [
    {
     "name": "stdout",
     "output_type": "stream",
     "text": [
      "1.609332934489979\n",
      "<class 'pandas.core.frame.DataFrame'>\n",
      "Int64Index: 16444 entries, 0 to 16714\n",
      "Data columns (total 11 columns):\n",
      " #   Column           Non-Null Count  Dtype  \n",
      "---  ------           --------------  -----  \n",
      " 0   name             16444 non-null  object \n",
      " 1   platform         16444 non-null  object \n",
      " 2   year_of_release  16444 non-null  float64\n",
      " 3   genre            16444 non-null  object \n",
      " 4   na_sales         16444 non-null  float64\n",
      " 5   eu_sales         16444 non-null  float64\n",
      " 6   jp_sales         16444 non-null  float64\n",
      " 7   other_sales      16444 non-null  float64\n",
      " 8   critic_score     7983 non-null   float64\n",
      " 9   user_score       9839 non-null   object \n",
      " 10  rating           9768 non-null   object \n",
      "dtypes: float64(6), object(5)\n",
      "memory usage: 1.5+ MB\n"
     ]
    }
   ],
   "source": [
    "print(data['year_of_release'].isna().sum() / shape * 100 )\n",
    "\n",
    "#строк с пропуском года выпуска мало - 1,6% по всему датафрейму. Эти строки можно удалить\n",
    "\n",
    "data = data[data['year_of_release'].isna() != True]\n",
    "data.info() #проверка"
   ]
  },
  {
   "cell_type": "code",
   "execution_count": 14,
   "metadata": {},
   "outputs": [
    {
     "name": "stdout",
     "output_type": "stream",
     "text": [
      "1591     Need for Speed: Most WantedX360\n",
      "11715      Need for Speed: Most WantedPC\n",
      "16230                   Madden NFL 13PS3\n",
      "dtype: object\n"
     ]
    },
    {
     "data": {
      "text/plain": [
       "(16443, 11)"
      ]
     },
     "execution_count": 14,
     "metadata": {},
     "output_type": "execute_result"
    }
   ],
   "source": [
    "n = data['name'] + data['platform']\n",
    "print(n[n.duplicated()])\n",
    "#поиск неявных дубликатов\n",
    "data.query('name == \"Madden NFL 13\"') #прошел query по играм NFS, неявный дубликат нашелся в Madden NFL - 16230 строчка\n",
    "data = data.drop(16230)\n",
    "data.reset_index(drop=True)\n",
    "data.shape"
   ]
  },
  {
   "cell_type": "code",
   "execution_count": 15,
   "metadata": {
    "scrolled": false
   },
   "outputs": [
    {
     "data": {
      "text/plain": [
       "98.37271911456776"
      ]
     },
     "execution_count": 15,
     "metadata": {},
     "output_type": "execute_result"
    }
   ],
   "source": [
    "#проверим количество строк до обработки и после\n",
    "len(data) / shape * 100"
   ]
  },
  {
   "cell_type": "markdown",
   "metadata": {},
   "source": [
    "От изначального количества строк осталось 98% - можно проводить актуальный анализ <br>\n",
    "<br>\n",
    "Остались пропуски с оценками критиков, пользователей и рейтинг. Рейтинг можно заменить на unknown, остальное заменить на -1, так как мы не можем поставить медианное или среднее значение - это не объективно. Быть может, игра получила хорошие отзывы от критиков, а от игроков плохие и наоборот.<br>\n",
    "**Удалять эти строки нельзя**, так как в них есть полезная информация. Просто при исследовании, которое касается оценок не будем включать результаты с -1"
   ]
  },
  {
   "cell_type": "code",
   "execution_count": 16,
   "metadata": {},
   "outputs": [],
   "source": [
    "data['critic_score'] = data['critic_score'].fillna(-1)\n",
    "data['user_score'] = data['user_score'].replace('tbd', np.NaN)\n",
    "data['user_score'] = data['user_score'].fillna(-1)\n",
    "data['rating'] = data['rating'].fillna('unknown')\n",
    "#теперь можно изменить типы данных столбцов"
   ]
  },
  {
   "cell_type": "code",
   "execution_count": 17,
   "metadata": {},
   "outputs": [],
   "source": [
    "data['year_of_release'] = data['year_of_release'].astype('int64')\n",
    "data['critic_score'] = data['critic_score'].astype('int64')\n",
    "data['user_score'] = data['user_score'].astype('float64')"
   ]
  },
  {
   "cell_type": "code",
   "execution_count": 18,
   "metadata": {
    "scrolled": false
   },
   "outputs": [
    {
     "name": "stdout",
     "output_type": "stream",
     "text": [
      "<class 'pandas.core.frame.DataFrame'>\n",
      "Int64Index: 16443 entries, 0 to 16714\n",
      "Data columns (total 11 columns):\n",
      " #   Column           Non-Null Count  Dtype  \n",
      "---  ------           --------------  -----  \n",
      " 0   name             16443 non-null  object \n",
      " 1   platform         16443 non-null  object \n",
      " 2   year_of_release  16443 non-null  int64  \n",
      " 3   genre            16443 non-null  object \n",
      " 4   na_sales         16443 non-null  float64\n",
      " 5   eu_sales         16443 non-null  float64\n",
      " 6   jp_sales         16443 non-null  float64\n",
      " 7   other_sales      16443 non-null  float64\n",
      " 8   critic_score     16443 non-null  int64  \n",
      " 9   user_score       16443 non-null  float64\n",
      " 10  rating           16443 non-null  object \n",
      "dtypes: float64(5), int64(2), object(4)\n",
      "memory usage: 1.5+ MB\n"
     ]
    }
   ],
   "source": [
    "data.info() #проверка типов данных и заполненности "
   ]
  },
  {
   "cell_type": "markdown",
   "metadata": {},
   "source": [
    "### Создание столбца с общим количеством продаж"
   ]
  },
  {
   "cell_type": "code",
   "execution_count": 19,
   "metadata": {
    "scrolled": true
   },
   "outputs": [
    {
     "data": {
      "text/html": [
       "<div>\n",
       "<style scoped>\n",
       "    .dataframe tbody tr th:only-of-type {\n",
       "        vertical-align: middle;\n",
       "    }\n",
       "\n",
       "    .dataframe tbody tr th {\n",
       "        vertical-align: top;\n",
       "    }\n",
       "\n",
       "    .dataframe thead th {\n",
       "        text-align: right;\n",
       "    }\n",
       "</style>\n",
       "<table border=\"1\" class=\"dataframe\">\n",
       "  <thead>\n",
       "    <tr style=\"text-align: right;\">\n",
       "      <th></th>\n",
       "      <th>name</th>\n",
       "      <th>platform</th>\n",
       "      <th>year_of_release</th>\n",
       "      <th>genre</th>\n",
       "      <th>na_sales</th>\n",
       "      <th>eu_sales</th>\n",
       "      <th>jp_sales</th>\n",
       "      <th>other_sales</th>\n",
       "      <th>critic_score</th>\n",
       "      <th>user_score</th>\n",
       "      <th>rating</th>\n",
       "      <th>total</th>\n",
       "    </tr>\n",
       "  </thead>\n",
       "  <tbody>\n",
       "    <tr>\n",
       "      <th>0</th>\n",
       "      <td>Wii Sports</td>\n",
       "      <td>Wii</td>\n",
       "      <td>2006</td>\n",
       "      <td>Sports</td>\n",
       "      <td>41.36</td>\n",
       "      <td>28.96</td>\n",
       "      <td>3.77</td>\n",
       "      <td>8.45</td>\n",
       "      <td>76</td>\n",
       "      <td>8.0</td>\n",
       "      <td>E</td>\n",
       "      <td>74.09</td>\n",
       "    </tr>\n",
       "    <tr>\n",
       "      <th>1</th>\n",
       "      <td>Super Mario Bros.</td>\n",
       "      <td>NES</td>\n",
       "      <td>1985</td>\n",
       "      <td>Platform</td>\n",
       "      <td>29.08</td>\n",
       "      <td>3.58</td>\n",
       "      <td>6.81</td>\n",
       "      <td>0.77</td>\n",
       "      <td>-1</td>\n",
       "      <td>-1.0</td>\n",
       "      <td>unknown</td>\n",
       "      <td>39.47</td>\n",
       "    </tr>\n",
       "  </tbody>\n",
       "</table>\n",
       "</div>"
      ],
      "text/plain": [
       "                name platform  year_of_release     genre  na_sales  eu_sales  \\\n",
       "0         Wii Sports      Wii             2006    Sports     41.36     28.96   \n",
       "1  Super Mario Bros.      NES             1985  Platform     29.08      3.58   \n",
       "\n",
       "   jp_sales  other_sales  critic_score  user_score   rating  total  \n",
       "0      3.77         8.45            76         8.0        E  74.09  \n",
       "1      6.81         0.77            -1        -1.0  unknown  39.47  "
      ]
     },
     "execution_count": 19,
     "metadata": {},
     "output_type": "execute_result"
    }
   ],
   "source": [
    "data['total'] = data['na_sales'] + data['eu_sales'] + data['jp_sales']\n",
    "data.head(2)"
   ]
  },
  {
   "cell_type": "markdown",
   "metadata": {},
   "source": [
    "**Данные подготовлены к анализу:**\n",
    "- имена столбцов преведены к snake_case\n",
    "- в столбцах year_of_release, critic_score, user_score изменены типы данных\n",
    "- обработаны пропуски, некоторые данные, например с отсутствием года релиза - были удалены\n",
    "- добавлен столбец с количеством продаж по всем регионам\n",
    "\n",
    "Датасет после обработки сохранил 98% данных, что говорит нам о том, что можно проводить актуальный анализ"
   ]
  },
  {
   "cell_type": "markdown",
   "metadata": {},
   "source": [
    "## Исследовательский анализ данных"
   ]
  },
  {
   "cell_type": "markdown",
   "metadata": {},
   "source": [
    "### Количество релизов за год"
   ]
  },
  {
   "cell_type": "code",
   "execution_count": 20,
   "metadata": {},
   "outputs": [
    {
     "data": {
      "text/plain": [
       "<function matplotlib.pyplot.show(close=None, block=None)>"
      ]
     },
     "execution_count": 20,
     "metadata": {},
     "output_type": "execute_result"
    },
    {
     "data": {
      "image/png": "[encoded data removed]",
      "text/plain": [
       "<Figure size 1152x504 with 1 Axes>"
      ]
     },
     "metadata": {
      "needs_background": "light"
     },
     "output_type": "display_data"
    }
   ],
   "source": [
    "years = data.pivot_table(index='year_of_release', values='name', aggfunc='count')\n",
    "plt.figure(figsize=(16, 7))\n",
    "sns.barplot(data=years, x=years.index, y='name')\n",
    "plt.xticks(rotation=90)\n",
    "plt.title('Количество выпускаемых игр по годам')\n",
    "plt.xlabel('Год')\n",
    "plt.ylabel('Количество игр')\n",
    "plt.show"
   ]
  },
  {
   "cell_type": "markdown",
   "metadata": {},
   "source": [
    "**Вывод:**\n",
    "- в датафрейме представлены игры с 1980 по 2016 год\n",
    "- с 1994 года начался рост количества игр, выпущенных за год - до 2008 года, после пошел спад\n",
    "- с 2012 по 2016 количество новых игр в среднем по 500\n",
    "Дальнейший анализ можно проводить с играми от 2013 года по 2016. Это более актуальные игры на момент 2016 года (средний цикл \"жизни\" консоли - 10 лет), так как вышли консоли нового поколения в 2013 и продажи игр на них должны расти, а на консоли предыдущего поколения - падать"
   ]
  },
  {
   "cell_type": "markdown",
   "metadata": {},
   "source": [
    "### Исследование платформ"
   ]
  },
  {
   "cell_type": "code",
   "execution_count": 21,
   "metadata": {},
   "outputs": [
    {
     "data": {
      "text/html": [
       "<div>\n",
       "<style scoped>\n",
       "    .dataframe tbody tr th:only-of-type {\n",
       "        vertical-align: middle;\n",
       "    }\n",
       "\n",
       "    .dataframe tbody tr th {\n",
       "        vertical-align: top;\n",
       "    }\n",
       "\n",
       "    .dataframe thead th {\n",
       "        text-align: right;\n",
       "    }\n",
       "</style>\n",
       "<table border=\"1\" class=\"dataframe\">\n",
       "  <thead>\n",
       "    <tr style=\"text-align: right;\">\n",
       "      <th></th>\n",
       "      <th>total_games</th>\n",
       "      <th>max_year</th>\n",
       "      <th>min_year</th>\n",
       "    </tr>\n",
       "    <tr>\n",
       "      <th>platform</th>\n",
       "      <th></th>\n",
       "      <th></th>\n",
       "      <th></th>\n",
       "    </tr>\n",
       "  </thead>\n",
       "  <tbody>\n",
       "    <tr>\n",
       "      <th>PS2</th>\n",
       "      <td>1043.09</td>\n",
       "      <td>2011</td>\n",
       "      <td>2000</td>\n",
       "    </tr>\n",
       "    <tr>\n",
       "      <th>X360</th>\n",
       "      <td>876.36</td>\n",
       "      <td>2016</td>\n",
       "      <td>2005</td>\n",
       "    </tr>\n",
       "    <tr>\n",
       "      <th>Wii</th>\n",
       "      <td>813.47</td>\n",
       "      <td>2016</td>\n",
       "      <td>2006</td>\n",
       "    </tr>\n",
       "    <tr>\n",
       "      <th>PS3</th>\n",
       "      <td>796.74</td>\n",
       "      <td>2016</td>\n",
       "      <td>2006</td>\n",
       "    </tr>\n",
       "    <tr>\n",
       "      <th>DS</th>\n",
       "      <td>743.74</td>\n",
       "      <td>2013</td>\n",
       "      <td>1985</td>\n",
       "    </tr>\n",
       "    <tr>\n",
       "      <th>PS</th>\n",
       "      <td>686.89</td>\n",
       "      <td>2003</td>\n",
       "      <td>1994</td>\n",
       "    </tr>\n",
       "    <tr>\n",
       "      <th>GBA</th>\n",
       "      <td>305.27</td>\n",
       "      <td>2007</td>\n",
       "      <td>2000</td>\n",
       "    </tr>\n",
       "    <tr>\n",
       "      <th>PS4</th>\n",
       "      <td>265.79</td>\n",
       "      <td>2016</td>\n",
       "      <td>2013</td>\n",
       "    </tr>\n",
       "    <tr>\n",
       "      <th>PSP</th>\n",
       "      <td>248.77</td>\n",
       "      <td>2015</td>\n",
       "      <td>2004</td>\n",
       "    </tr>\n",
       "    <tr>\n",
       "      <th>GB</th>\n",
       "      <td>246.27</td>\n",
       "      <td>2001</td>\n",
       "      <td>1988</td>\n",
       "    </tr>\n",
       "  </tbody>\n",
       "</table>\n",
       "</div>"
      ],
      "text/plain": [
       "          total_games  max_year  min_year\n",
       "platform                                 \n",
       "PS2           1043.09      2011      2000\n",
       "X360           876.36      2016      2005\n",
       "Wii            813.47      2016      2006\n",
       "PS3            796.74      2016      2006\n",
       "DS             743.74      2013      1985\n",
       "PS             686.89      2003      1994\n",
       "GBA            305.27      2007      2000\n",
       "PS4            265.79      2016      2013\n",
       "PSP            248.77      2015      2004\n",
       "GB             246.27      2001      1988"
      ]
     },
     "metadata": {},
     "output_type": "display_data"
    }
   ],
   "source": [
    "platform = data.pivot_table(index='platform', \n",
    "                            values=['total', 'year_of_release'], \n",
    "                            aggfunc={'total':sum, 'year_of_release':['min', 'max']})\n",
    "platform.columns = ('total_games', 'max_year', 'min_year')\n",
    "platform = platform.sort_values(by='total_games', ascending=False)\n",
    "display(platform.head(10))"
   ]
  },
  {
   "cell_type": "markdown",
   "metadata": {},
   "source": [
    "Итак, после вывода топ-10 консолей с большинством проданных игр, видим топ:\n",
    "- PS2\n",
    "- Xbox 360\n",
    "- Nintendo Wii\n",
    "- PS3\n",
    "- Nintendo DS"
   ]
  },
  {
   "cell_type": "markdown",
   "metadata": {},
   "source": [
    "Далее - из таблицы видно, что по максимальному году выпуска игры на консоль, отличие от минимального составляет примерно 6-10 лет. У консоли Nintendo DS же минимальный год выпуска игры - 1985, но консоль вышла в 2004 году. Поддерживалась консоль до 2013 года. "
   ]
  },
  {
   "cell_type": "code",
   "execution_count": 22,
   "metadata": {},
   "outputs": [
    {
     "data": {
      "image/png": "[encoded data removed]",
      "text/plain": [
       "<Figure size 1152x504 with 1 Axes>"
      ]
     },
     "metadata": {
      "needs_background": "light"
     },
     "output_type": "display_data"
    }
   ],
   "source": [
    "platform['total_games'].plot(kind='bar', figsize=(16, 7), grid=True)\n",
    "plt.xlabel('Консоли')\n",
    "plt.ylabel('Суммарное количество продаж')\n",
    "plt.title('Визуализация суммарного количества продаж игр по каждой консоли')\n",
    "plt.show()"
   ]
  },
  {
   "cell_type": "code",
   "execution_count": 23,
   "metadata": {},
   "outputs": [
    {
     "data": {
      "text/html": [
       "<div>\n",
       "<style scoped>\n",
       "    .dataframe tbody tr th:only-of-type {\n",
       "        vertical-align: middle;\n",
       "    }\n",
       "\n",
       "    .dataframe tbody tr th {\n",
       "        vertical-align: top;\n",
       "    }\n",
       "\n",
       "    .dataframe thead th {\n",
       "        text-align: right;\n",
       "    }\n",
       "</style>\n",
       "<table border=\"1\" class=\"dataframe\">\n",
       "  <thead>\n",
       "    <tr style=\"text-align: right;\">\n",
       "      <th></th>\n",
       "      <th>total_games</th>\n",
       "      <th>max_year</th>\n",
       "      <th>min_year</th>\n",
       "    </tr>\n",
       "    <tr>\n",
       "      <th>platform</th>\n",
       "      <th></th>\n",
       "      <th></th>\n",
       "      <th></th>\n",
       "    </tr>\n",
       "  </thead>\n",
       "  <tbody>\n",
       "    <tr>\n",
       "      <th>X360</th>\n",
       "      <td>876.36</td>\n",
       "      <td>2016</td>\n",
       "      <td>2005</td>\n",
       "    </tr>\n",
       "    <tr>\n",
       "      <th>Wii</th>\n",
       "      <td>813.47</td>\n",
       "      <td>2016</td>\n",
       "      <td>2006</td>\n",
       "    </tr>\n",
       "    <tr>\n",
       "      <th>PS3</th>\n",
       "      <td>796.74</td>\n",
       "      <td>2016</td>\n",
       "      <td>2006</td>\n",
       "    </tr>\n",
       "    <tr>\n",
       "      <th>PS4</th>\n",
       "      <td>265.79</td>\n",
       "      <td>2016</td>\n",
       "      <td>2013</td>\n",
       "    </tr>\n",
       "    <tr>\n",
       "      <th>3DS</th>\n",
       "      <td>244.54</td>\n",
       "      <td>2016</td>\n",
       "      <td>2011</td>\n",
       "    </tr>\n",
       "    <tr>\n",
       "      <th>XOne</th>\n",
       "      <td>145.05</td>\n",
       "      <td>2016</td>\n",
       "      <td>2013</td>\n",
       "    </tr>\n",
       "    <tr>\n",
       "      <th>WiiU</th>\n",
       "      <td>76.24</td>\n",
       "      <td>2016</td>\n",
       "      <td>2012</td>\n",
       "    </tr>\n",
       "    <tr>\n",
       "      <th>PSV</th>\n",
       "      <td>47.38</td>\n",
       "      <td>2016</td>\n",
       "      <td>2011</td>\n",
       "    </tr>\n",
       "  </tbody>\n",
       "</table>\n",
       "</div>"
      ],
      "text/plain": [
       "          total_games  max_year  min_year\n",
       "platform                                 \n",
       "X360           876.36      2016      2005\n",
       "Wii            813.47      2016      2006\n",
       "PS3            796.74      2016      2006\n",
       "PS4            265.79      2016      2013\n",
       "3DS            244.54      2016      2011\n",
       "XOne           145.05      2016      2013\n",
       "WiiU            76.24      2016      2012\n",
       "PSV             47.38      2016      2011"
      ]
     },
     "execution_count": 23,
     "metadata": {},
     "output_type": "execute_result"
    }
   ],
   "source": [
    "platform.query('min_year >= 2005')"
   ]
  },
  {
   "cell_type": "code",
   "execution_count": 24,
   "metadata": {},
   "outputs": [
    {
     "data": {
      "image/png": "[encoded data removed]",
      "text/plain": [
       "<Figure size 432x288 with 1 Axes>"
      ]
     },
     "metadata": {
      "needs_background": "light"
     },
     "output_type": "display_data"
    }
   ],
   "source": [
    "platform.query('min_year >= 2005')['total_games'].plot(kind='bar', figsize=(6, 4), grid=True)\n",
    "plt.xlabel('Консоли')\n",
    "plt.ylabel('Суммарное количество продаж')\n",
    "plt.title('График для актуальных консолей')\n",
    "plt.show()"
   ]
  },
  {
   "cell_type": "markdown",
   "metadata": {},
   "source": [
    "Далее - можно подтвердить средний жизненный цикл консолей на примере PlayStation"
   ]
  },
  {
   "cell_type": "code",
   "execution_count": 25,
   "metadata": {},
   "outputs": [
    {
     "data": {
      "text/html": [
       "<div>\n",
       "<style scoped>\n",
       "    .dataframe tbody tr th:only-of-type {\n",
       "        vertical-align: middle;\n",
       "    }\n",
       "\n",
       "    .dataframe tbody tr th {\n",
       "        vertical-align: top;\n",
       "    }\n",
       "\n",
       "    .dataframe thead th {\n",
       "        text-align: right;\n",
       "    }\n",
       "</style>\n",
       "<table border=\"1\" class=\"dataframe\">\n",
       "  <thead>\n",
       "    <tr style=\"text-align: right;\">\n",
       "      <th></th>\n",
       "      <th>total_games</th>\n",
       "      <th>max_year</th>\n",
       "      <th>min_year</th>\n",
       "    </tr>\n",
       "    <tr>\n",
       "      <th>platform</th>\n",
       "      <th></th>\n",
       "      <th></th>\n",
       "      <th></th>\n",
       "    </tr>\n",
       "  </thead>\n",
       "  <tbody>\n",
       "    <tr>\n",
       "      <th>PS</th>\n",
       "      <td>686.89</td>\n",
       "      <td>2003</td>\n",
       "      <td>1994</td>\n",
       "    </tr>\n",
       "  </tbody>\n",
       "</table>\n",
       "</div>"
      ],
      "text/plain": [
       "          total_games  max_year  min_year\n",
       "platform                                 \n",
       "PS             686.89      2003      1994"
      ]
     },
     "metadata": {},
     "output_type": "display_data"
    },
    {
     "data": {
      "text/html": [
       "<div>\n",
       "<style scoped>\n",
       "    .dataframe tbody tr th:only-of-type {\n",
       "        vertical-align: middle;\n",
       "    }\n",
       "\n",
       "    .dataframe tbody tr th {\n",
       "        vertical-align: top;\n",
       "    }\n",
       "\n",
       "    .dataframe thead th {\n",
       "        text-align: right;\n",
       "    }\n",
       "</style>\n",
       "<table border=\"1\" class=\"dataframe\">\n",
       "  <thead>\n",
       "    <tr style=\"text-align: right;\">\n",
       "      <th></th>\n",
       "      <th>total_games</th>\n",
       "      <th>max_year</th>\n",
       "      <th>min_year</th>\n",
       "    </tr>\n",
       "    <tr>\n",
       "      <th>platform</th>\n",
       "      <th></th>\n",
       "      <th></th>\n",
       "      <th></th>\n",
       "    </tr>\n",
       "  </thead>\n",
       "  <tbody>\n",
       "    <tr>\n",
       "      <th>PS2</th>\n",
       "      <td>1043.09</td>\n",
       "      <td>2011</td>\n",
       "      <td>2000</td>\n",
       "    </tr>\n",
       "  </tbody>\n",
       "</table>\n",
       "</div>"
      ],
      "text/plain": [
       "          total_games  max_year  min_year\n",
       "platform                                 \n",
       "PS2           1043.09      2011      2000"
      ]
     },
     "metadata": {},
     "output_type": "display_data"
    },
    {
     "data": {
      "text/html": [
       "<div>\n",
       "<style scoped>\n",
       "    .dataframe tbody tr th:only-of-type {\n",
       "        vertical-align: middle;\n",
       "    }\n",
       "\n",
       "    .dataframe tbody tr th {\n",
       "        vertical-align: top;\n",
       "    }\n",
       "\n",
       "    .dataframe thead th {\n",
       "        text-align: right;\n",
       "    }\n",
       "</style>\n",
       "<table border=\"1\" class=\"dataframe\">\n",
       "  <thead>\n",
       "    <tr style=\"text-align: right;\">\n",
       "      <th></th>\n",
       "      <th>total_games</th>\n",
       "      <th>max_year</th>\n",
       "      <th>min_year</th>\n",
       "    </tr>\n",
       "    <tr>\n",
       "      <th>platform</th>\n",
       "      <th></th>\n",
       "      <th></th>\n",
       "      <th></th>\n",
       "    </tr>\n",
       "  </thead>\n",
       "  <tbody>\n",
       "    <tr>\n",
       "      <th>PS3</th>\n",
       "      <td>796.74</td>\n",
       "      <td>2016</td>\n",
       "      <td>2006</td>\n",
       "    </tr>\n",
       "  </tbody>\n",
       "</table>\n",
       "</div>"
      ],
      "text/plain": [
       "          total_games  max_year  min_year\n",
       "platform                                 \n",
       "PS3            796.74      2016      2006"
      ]
     },
     "metadata": {},
     "output_type": "display_data"
    },
    {
     "data": {
      "text/html": [
       "<div>\n",
       "<style scoped>\n",
       "    .dataframe tbody tr th:only-of-type {\n",
       "        vertical-align: middle;\n",
       "    }\n",
       "\n",
       "    .dataframe tbody tr th {\n",
       "        vertical-align: top;\n",
       "    }\n",
       "\n",
       "    .dataframe thead th {\n",
       "        text-align: right;\n",
       "    }\n",
       "</style>\n",
       "<table border=\"1\" class=\"dataframe\">\n",
       "  <thead>\n",
       "    <tr style=\"text-align: right;\">\n",
       "      <th></th>\n",
       "      <th>total_games</th>\n",
       "      <th>max_year</th>\n",
       "      <th>min_year</th>\n",
       "    </tr>\n",
       "    <tr>\n",
       "      <th>platform</th>\n",
       "      <th></th>\n",
       "      <th></th>\n",
       "      <th></th>\n",
       "    </tr>\n",
       "  </thead>\n",
       "  <tbody>\n",
       "    <tr>\n",
       "      <th>PS4</th>\n",
       "      <td>265.79</td>\n",
       "      <td>2016</td>\n",
       "      <td>2013</td>\n",
       "    </tr>\n",
       "  </tbody>\n",
       "</table>\n",
       "</div>"
      ],
      "text/plain": [
       "          total_games  max_year  min_year\n",
       "platform                                 \n",
       "PS4            265.79      2016      2013"
      ]
     },
     "metadata": {},
     "output_type": "display_data"
    }
   ],
   "source": [
    "display(platform.query(\"platform in 'PS'\"))\n",
    "display(platform.query(\"platform in 'PS2'\"))\n",
    "display(platform.query(\"platform in 'PS3'\"))\n",
    "display(platform.query(\"platform in 'PS4'\"))"
   ]
  },
  {
   "cell_type": "markdown",
   "metadata": {},
   "source": [
    "По этим данным можно предположить, что консоль PS4 будет поддерживаться до 2023-24 года. Консоль нового поколения же выходит ранее завершения поддержки консоли нынешнего поколения. То есть, выход PS5 можно спрогнозировать на 2020 год. - что подтверждается данными википедии, релиз состоялся в ноябре 2020 года. А поддержка PS4 актуальна и на сегодняшний день - май 2024 года"
   ]
  },
  {
   "cell_type": "code",
   "execution_count": 26,
   "metadata": {},
   "outputs": [
    {
     "data": {
      "text/html": [
       "<div>\n",
       "<style scoped>\n",
       "    .dataframe tbody tr th:only-of-type {\n",
       "        vertical-align: middle;\n",
       "    }\n",
       "\n",
       "    .dataframe tbody tr th {\n",
       "        vertical-align: top;\n",
       "    }\n",
       "\n",
       "    .dataframe thead th {\n",
       "        text-align: right;\n",
       "    }\n",
       "</style>\n",
       "<table border=\"1\" class=\"dataframe\">\n",
       "  <thead>\n",
       "    <tr style=\"text-align: right;\">\n",
       "      <th></th>\n",
       "      <th>eu_sales</th>\n",
       "      <th>jp_sales</th>\n",
       "      <th>na_sales</th>\n",
       "    </tr>\n",
       "    <tr>\n",
       "      <th>platform</th>\n",
       "      <th></th>\n",
       "      <th></th>\n",
       "      <th></th>\n",
       "    </tr>\n",
       "  </thead>\n",
       "  <tbody>\n",
       "    <tr>\n",
       "      <th>PS4</th>\n",
       "      <td>83.54</td>\n",
       "      <td>12.05</td>\n",
       "      <td>63.86</td>\n",
       "    </tr>\n",
       "    <tr>\n",
       "      <th>XOne</th>\n",
       "      <td>28.10</td>\n",
       "      <td>0.18</td>\n",
       "      <td>50.30</td>\n",
       "    </tr>\n",
       "    <tr>\n",
       "      <th>3DS</th>\n",
       "      <td>7.39</td>\n",
       "      <td>23.55</td>\n",
       "      <td>10.31</td>\n",
       "    </tr>\n",
       "    <tr>\n",
       "      <th>PS3</th>\n",
       "      <td>7.30</td>\n",
       "      <td>4.97</td>\n",
       "      <td>5.66</td>\n",
       "    </tr>\n",
       "    <tr>\n",
       "      <th>WiiU</th>\n",
       "      <td>6.49</td>\n",
       "      <td>4.12</td>\n",
       "      <td>8.86</td>\n",
       "    </tr>\n",
       "    <tr>\n",
       "      <th>X360</th>\n",
       "      <td>4.21</td>\n",
       "      <td>0.00</td>\n",
       "      <td>8.05</td>\n",
       "    </tr>\n",
       "    <tr>\n",
       "      <th>PSV</th>\n",
       "      <td>1.08</td>\n",
       "      <td>8.41</td>\n",
       "      <td>0.54</td>\n",
       "    </tr>\n",
       "    <tr>\n",
       "      <th>Wii</th>\n",
       "      <td>0.73</td>\n",
       "      <td>0.00</td>\n",
       "      <td>0.49</td>\n",
       "    </tr>\n",
       "  </tbody>\n",
       "</table>\n",
       "</div>"
      ],
      "text/plain": [
       "          eu_sales  jp_sales  na_sales\n",
       "platform                              \n",
       "PS4          83.54     12.05     63.86\n",
       "XOne         28.10      0.18     50.30\n",
       "3DS           7.39     23.55     10.31\n",
       "PS3           7.30      4.97      5.66\n",
       "WiiU          6.49      4.12      8.86\n",
       "X360          4.21      0.00      8.05\n",
       "PSV           1.08      8.41      0.54\n",
       "Wii           0.73      0.00      0.49"
      ]
     },
     "execution_count": 26,
     "metadata": {},
     "output_type": "execute_result"
    }
   ],
   "source": [
    "act = ['X360', 'Wii', 'PS3', 'PS4', '3DS', 'XOne', 'WiiU', 'PSV']\n",
    "data.query('platform in @act').query('year_of_release >= 2015').pivot_table(index='platform', \n",
    "                                           values=['eu_sales', 'na_sales', 'jp_sales'], \n",
    "                                           aggfunc=sum).sort_values(by='eu_sales', ascending=False)"
   ]
  },
  {
   "cell_type": "markdown",
   "metadata": {},
   "source": [
    "Смотрим по Европейскому рынку: больше всего игр на момент 2015-2016 года продается на консоли PS4 и XBox One - подавляющее большинство рынка, как Европы, так и России. В других регионах ситуация другая. В Америке была очень популярна XBox 360, но с выходом нового поколения консолей - PlayStation немного обогнала XBox. Японский рынок отличается от Европейского и Американского"
   ]
  },
  {
   "cell_type": "code",
   "execution_count": 27,
   "metadata": {},
   "outputs": [
    {
     "data": {
      "image/png": "[encoded data removed]",
      "text/plain": [
       "<Figure size 432x288 with 1 Axes>"
      ]
     },
     "metadata": {
      "needs_background": "light"
     },
     "output_type": "display_data"
    },
    {
     "data": {
      "image/png": "[encoded data removed]",
      "text/plain": [
       "<Figure size 432x288 with 1 Axes>"
      ]
     },
     "metadata": {
      "needs_background": "light"
     },
     "output_type": "display_data"
    },
    {
     "data": {
      "image/png": "[encoded data removed]",
      "text/plain": [
       "<Figure size 432x288 with 1 Axes>"
      ]
     },
     "metadata": {
      "needs_background": "light"
     },
     "output_type": "display_data"
    },
    {
     "data": {
      "image/png": "[encoded data removed]",
      "text/plain": [
       "<Figure size 432x288 with 1 Axes>"
      ]
     },
     "metadata": {
      "needs_background": "light"
     },
     "output_type": "display_data"
    }
   ],
   "source": [
    "#список с популярными консолями предыдущего (X360, PS3) поколения и нового (XOne, PS4) для оценки динамики продаж\n",
    "#динамику продаж будем смотреть по евро региону\n",
    "interested_platforms = ['X360', 'XOne', 'PS3', 'PS4']\n",
    "for i in interested_platforms:\n",
    "    a = data.query('platform == @i').pivot_table(index=['platform', 'year_of_release'], values='eu_sales', aggfunc=sum)\n",
    "    a.plot(figsize=(6, 4), grid=True)\n",
    "    plt.xlabel('Консоль, год продаж')\n",
    "    plt.ylabel('Суммарное количество продаж, млн.')\n",
    "    plt.title('Динамика продаж игр')\n",
    "    plt.xticks(rotation=90)\n",
    "    plt.show()"
   ]
  },
  {
   "cell_type": "markdown",
   "metadata": {},
   "source": [
    "Динамика продаж игр всех консолей падает к 2016 году - значит, что данные за 2016 год не заполнены до конца/2016 еще не закончился на момент сборки датафрейма. Далее - после 2013 года на консолях прошлого поколения наблюдается спад на фоне выхода консолей нового поколения. Топ продаж игр на консолях прошлого поколения - 2010 год, после этого продажи снижаются. На консолях нового поколения с 2013 по 2015 происходит прост продаж. Можно предположить, что после окончания 2016 и дозаполнения датафрейма, 2016 год будет тоже в плюсе у консолей PS4 и Xbox One. "
   ]
  },
  {
   "cell_type": "markdown",
   "metadata": {},
   "source": [
    "**Проведя исследование игровых платформ, выяснили:**\n",
    "- за все время (1980-2016) в топе по суммарному количеству проданных игр консоли PS2, Xbox 360, Nintendo Wii, PS3, Nintendo DS\n",
    "- актуальные консоли (2016): X360, Wii, PS3, PS4, 3DS, XOne, WiiU, PSV\n",
    "- средний жизненный цикл консоли - от 7 до 11 лет. Релиз PS5 можно спрогнозировать на 2020, a PS4 будет актуальна еще более 8 лет\n",
    "- на момент 2015-2016 года в России наиболее актуальны две консоли - PS4 и XBox One. Это подтвердилось как на цифрах продаж в таблице с консолями по играм 2015-16 годов, так и по динамике продаж консолей нового поколения по годам. Ставку нужно делать на игры именно этих платформ (PS4, Xbox One)\n",
    "Дальнейший анализ будет проведен по актуальным играм, с годом релиза от 2013"
   ]
  },
  {
   "cell_type": "markdown",
   "metadata": {},
   "source": [
    "### Глобальные продажи по платформам и топовые консоли актуального периода"
   ]
  },
  {
   "cell_type": "code",
   "execution_count": 28,
   "metadata": {},
   "outputs": [],
   "source": [
    "data_act = data.query('year_of_release >= 2013') "
   ]
  },
  {
   "cell_type": "code",
   "execution_count": 29,
   "metadata": {},
   "outputs": [
    {
     "data": {
      "text/html": [
       "<div>\n",
       "<style scoped>\n",
       "    .dataframe tbody tr th:only-of-type {\n",
       "        vertical-align: middle;\n",
       "    }\n",
       "\n",
       "    .dataframe tbody tr th {\n",
       "        vertical-align: top;\n",
       "    }\n",
       "\n",
       "    .dataframe thead th {\n",
       "        text-align: right;\n",
       "    }\n",
       "</style>\n",
       "<table border=\"1\" class=\"dataframe\">\n",
       "  <thead>\n",
       "    <tr style=\"text-align: right;\">\n",
       "      <th></th>\n",
       "      <th>total</th>\n",
       "      <th>max</th>\n",
       "      <th>min</th>\n",
       "    </tr>\n",
       "    <tr>\n",
       "      <th>platform</th>\n",
       "      <th></th>\n",
       "      <th></th>\n",
       "      <th></th>\n",
       "    </tr>\n",
       "  </thead>\n",
       "  <tbody>\n",
       "    <tr>\n",
       "      <th>PS4</th>\n",
       "      <td>265.79</td>\n",
       "      <td>2016</td>\n",
       "      <td>2013</td>\n",
       "    </tr>\n",
       "    <tr>\n",
       "      <th>PS3</th>\n",
       "      <td>154.66</td>\n",
       "      <td>2016</td>\n",
       "      <td>2013</td>\n",
       "    </tr>\n",
       "    <tr>\n",
       "      <th>XOne</th>\n",
       "      <td>145.05</td>\n",
       "      <td>2016</td>\n",
       "      <td>2013</td>\n",
       "    </tr>\n",
       "    <tr>\n",
       "      <th>3DS</th>\n",
       "      <td>136.97</td>\n",
       "      <td>2016</td>\n",
       "      <td>2013</td>\n",
       "    </tr>\n",
       "    <tr>\n",
       "      <th>X360</th>\n",
       "      <td>124.69</td>\n",
       "      <td>2016</td>\n",
       "      <td>2013</td>\n",
       "    </tr>\n",
       "  </tbody>\n",
       "</table>\n",
       "</div>"
      ],
      "text/plain": [
       "           total   max   min\n",
       "platform                    \n",
       "PS4       265.79  2016  2013\n",
       "PS3       154.66  2016  2013\n",
       "XOne      145.05  2016  2013\n",
       "3DS       136.97  2016  2013\n",
       "X360      124.69  2016  2013"
      ]
     },
     "metadata": {},
     "output_type": "display_data"
    },
    {
     "data": {
      "image/png": "[encoded data removed]",
      "text/plain": [
       "<Figure size 1152x432 with 1 Axes>"
      ]
     },
     "metadata": {
      "needs_background": "light"
     },
     "output_type": "display_data"
    }
   ],
   "source": [
    "console_act = data_act.pivot_table(index='platform', \n",
    "                            values=['total', 'year_of_release'], \n",
    "                            aggfunc={'total':'sum', 'year_of_release':['min', 'max']})\n",
    "console_act.columns = ('total', 'max', 'min')\n",
    "console_act = console_act.sort_values(by='total', ascending=False)\n",
    "display(console_act.head())\n",
    "console_act['total'].plot(kind='bar', figsize=(16, 6), grid=True)\n",
    "plt.xlabel('Консоли')\n",
    "plt.ylabel('Суммарное количество продаж')\n",
    "plt.title('График для актуальных консолей')\n",
    "plt.show()"
   ]
  },
  {
   "cell_type": "markdown",
   "metadata": {},
   "source": [
    "В актуальном периоде с 2013 по 2016 год выпуска игр - видим самые популярные консоли - **PS4, PS3, Xbox One, 3DS, Xbox 360**"
   ]
  },
  {
   "cell_type": "code",
   "execution_count": 30,
   "metadata": {},
   "outputs": [
    {
     "data": {
      "text/plain": [
       "Text(0.5, 1.0, 'Глобальные продажи игр в разбивке по платформам')"
      ]
     },
     "execution_count": 30,
     "metadata": {},
     "output_type": "execute_result"
    },
    {
     "data": {
      "image/png": "[encoded data removed]",
      "text/plain": [
       "<Figure size 1152x576 with 1 Axes>"
      ]
     },
     "metadata": {
      "needs_background": "light"
     },
     "output_type": "display_data"
    }
   ],
   "source": [
    "plt.figure(figsize=(16, 8))\n",
    "sns.boxplot(x=data_act['platform'], y=data_act['total'])\n",
    "plt.grid(True)\n",
    "plt.ylim(0, 2)\n",
    "plt.xlabel('Платформа')\n",
    "plt.ylabel('Количество продаж, млн.')\n",
    "plt.title('Глобальные продажи игр в разбивке по платформам')"
   ]
  },
  {
   "cell_type": "markdown",
   "metadata": {},
   "source": [
    "По графику видим, что медианы продаж игр на популярных консолях приблизительно на 170-250 тыс. копий. В нашем датафрейме данные по множеству игр, популярные тайтлы выходят естественно намного реже - поэтому выбросы по \"ящику с усами\" начинаются уже с 1-1.5 млн. проданных копий."
   ]
  },
  {
   "cell_type": "markdown",
   "metadata": {},
   "source": [
    "### Корреляция между отзывами критиков и геймеров"
   ]
  },
  {
   "cell_type": "markdown",
   "metadata": {},
   "source": [
    "Возьмем три актуальные консоли - PS4, PS3, Xbox One"
   ]
  },
  {
   "cell_type": "code",
   "execution_count": 56,
   "metadata": {},
   "outputs": [
    {
     "name": "stdout",
     "output_type": "stream",
     "text": [
      "Корреляция между продажами и отзывами критиков равна (PS4): 0.226\n"
     ]
    },
    {
     "data": {
      "image/png": "[encoded data removed]",
      "text/plain": [
       "<Figure size 576x432 with 1 Axes>"
      ]
     },
     "metadata": {
      "needs_background": "light"
     },
     "output_type": "display_data"
    }
   ],
   "source": [
    "data_act.query('platform in \"PS4\"').plot(x='critic_score', \n",
    "                                                    y ='total', \n",
    "                                                    xlim=(1, 100), \n",
    "                                                    kind ='scatter', \n",
    "                                                    figsize=(8, 6), \n",
    "                                                    legend=True, \n",
    "                                                    alpha = 0.2)\n",
    "plt.show\n",
    "plt.title('Корреляция продаж с отзывами критиков PS4')\n",
    "print('Корреляция между продажами и отзывами критиков равна (PS4):',\n",
    "      data_act.query('platform in \"PS4\"')['total']\n",
    "      .corr(data_act.query('platform in \"PS4\"')['critic_score']).round(3))"
   ]
  },
  {
   "cell_type": "code",
   "execution_count": 57,
   "metadata": {},
   "outputs": [
    {
     "name": "stdout",
     "output_type": "stream",
     "text": [
      "Корреляция между продажами и отзывами критиков равна (PS3): 0.282\n"
     ]
    },
    {
     "data": {
      "image/png": "[encoded data removed]",
      "text/plain": [
       "<Figure size 576x432 with 1 Axes>"
      ]
     },
     "metadata": {
      "needs_background": "light"
     },
     "output_type": "display_data"
    }
   ],
   "source": [
    "data_act.query('platform in \"PS3\"').plot(x='critic_score', \n",
    "                                                    y ='total', \n",
    "                                                    xlim=(1, 100), \n",
    "                                                    kind ='scatter', \n",
    "                                                    figsize=(8, 6), \n",
    "                                                    legend=True, \n",
    "                                                    alpha = 0.2)\n",
    "plt.show\n",
    "plt.title('Корреляция продаж с отзывами критиков PS3')\n",
    "print('Корреляция между продажами и отзывами критиков равна (PS3):',\n",
    "      data_act.query('platform in \"PS3\"')['total']\n",
    "      .corr(data_act.query('platform in \"PS3\"')['critic_score']).round(3))"
   ]
  },
  {
   "cell_type": "code",
   "execution_count": 58,
   "metadata": {},
   "outputs": [
    {
     "name": "stdout",
     "output_type": "stream",
     "text": [
      "Корреляция между продажами и отзывами критиков равна (Xbox One): 0.274\n"
     ]
    },
    {
     "data": {
      "image/png": "[encoded data removed]",
      "text/plain": [
       "<Figure size 576x432 with 1 Axes>"
      ]
     },
     "metadata": {
      "needs_background": "light"
     },
     "output_type": "display_data"
    }
   ],
   "source": [
    "data_act.query('platform in \"XOne\"').plot(x='critic_score', \n",
    "                                                    y ='total', \n",
    "                                                    xlim=(1, 100), \n",
    "                                                    kind ='scatter', \n",
    "                                                    figsize=(8, 6), \n",
    "                                                    legend=True, \n",
    "                                                    alpha = 0.2)\n",
    "plt.show\n",
    "plt.title('Корреляция продаж с отзывами критиков Xbox One')\n",
    "print('Корреляция между продажами и отзывами критиков равна (Xbox One):',\n",
    "      data_act.query('platform in \"XOne\"')['total']\n",
    "      .corr(data_act.query('platform in \"XOne\"')['critic_score']).round(3))"
   ]
  },
  {
   "cell_type": "markdown",
   "metadata": {},
   "source": [
    "Корреляция положительная, близкая к средней, (больше всего коррелирует PS3, Xbox One) что говорит о том, что зависимость между отзывами критиков (чем выше оценка - тем больше продаж) и продажами игр присутствует, проявляется средне"
   ]
  },
  {
   "cell_type": "code",
   "execution_count": 59,
   "metadata": {
    "scrolled": false
   },
   "outputs": [
    {
     "name": "stdout",
     "output_type": "stream",
     "text": [
      "Корреляция между продажами и отзывами пользователей равна (PS4): 0.115\n"
     ]
    },
    {
     "data": {
      "image/png": "[encoded data removed]",
      "text/plain": [
       "<Figure size 576x432 with 1 Axes>"
      ]
     },
     "metadata": {
      "needs_background": "light"
     },
     "output_type": "display_data"
    }
   ],
   "source": [
    "data_act.query('platform in \"PS4\"').plot(x='user_score',\n",
    "                                                    y ='total', \n",
    "                                                    xlim=(0, 10), \n",
    "                                                    kind ='scatter',\n",
    "                                                    figsize=(8, 6), \n",
    "                                                    legend=True, \n",
    "                                                    alpha = 0.2)\n",
    "plt.show\n",
    "plt.title('Корреляция продаж с отзывами пользователей PS4')\n",
    "print('Корреляция между продажами и отзывами пользователей равна (PS4):',\n",
    "      data_act.query('platform in \"PS4\"')['total']\n",
    "      .corr(data_act.query('platform in \"PS4\"')['user_score']).round(3))"
   ]
  },
  {
   "cell_type": "code",
   "execution_count": 60,
   "metadata": {},
   "outputs": [
    {
     "name": "stdout",
     "output_type": "stream",
     "text": [
      "Корреляция между продажами и отзывами пользователей равна (PS3): 0.209\n"
     ]
    },
    {
     "data": {
      "image/png": "[encoded data removed]",
      "text/plain": [
       "<Figure size 576x432 with 1 Axes>"
      ]
     },
     "metadata": {
      "needs_background": "light"
     },
     "output_type": "display_data"
    }
   ],
   "source": [
    "data_act.query('platform in \"PS3\"').plot(x='user_score',\n",
    "                                                    y ='total', \n",
    "                                                    xlim=(0, 10), \n",
    "                                                    kind ='scatter',\n",
    "                                                    figsize=(8, 6), \n",
    "                                                    legend=True, \n",
    "                                                    alpha = 0.2)\n",
    "plt.show\n",
    "plt.title('Корреляция продаж с отзывами пользователей PS3')\n",
    "print('Корреляция между продажами и отзывами пользователей равна (PS3):',\n",
    "      data_act.query('platform in \"PS3\"')['total']\n",
    "      .corr(data_act.query('platform in \"PS3\"')['user_score']).round(3))"
   ]
  },
  {
   "cell_type": "code",
   "execution_count": 61,
   "metadata": {},
   "outputs": [
    {
     "name": "stdout",
     "output_type": "stream",
     "text": [
      "Корреляция между продажами и отзывами пользователей равна (Xbox One): 0.122\n"
     ]
    },
    {
     "data": {
      "image/png": "[encoded data removed]",
      "text/plain": [
       "<Figure size 576x432 with 1 Axes>"
      ]
     },
     "metadata": {
      "needs_background": "light"
     },
     "output_type": "display_data"
    }
   ],
   "source": [
    "data_act.query('platform in \"XOne\"').plot(x='user_score',\n",
    "                                                    y ='total', \n",
    "                                                    xlim=(0, 10), \n",
    "                                                    kind ='scatter',\n",
    "                                                    figsize=(8, 6), \n",
    "                                                    legend=True, \n",
    "                                                    alpha = 0.2)\n",
    "plt.show\n",
    "plt.title('Корреляция продаж с отзывами пользователей Xbox One')\n",
    "print('Корреляция между продажами и отзывами пользователей равна (Xbox One):',\n",
    "      data_act.query('platform in \"XOne\"')['total']\n",
    "      .corr(data_act.query('platform in \"XOne\"')['user_score']).round(3))"
   ]
  },
  {
   "cell_type": "markdown",
   "metadata": {},
   "source": [
    "Корреляция положительная, больше всего коррелирует PS3 - 0.209. У остальных консолей (PS4, Xbox One) корреляция между отзывами геймеров и продажами очень слабая 0.11-0.12."
   ]
  },
  {
   "cell_type": "markdown",
   "metadata": {},
   "source": [
    "### Жанры игр"
   ]
  },
  {
   "cell_type": "code",
   "execution_count": 33,
   "metadata": {},
   "outputs": [
    {
     "data": {
      "text/html": [
       "<div>\n",
       "<style scoped>\n",
       "    .dataframe tbody tr th:only-of-type {\n",
       "        vertical-align: middle;\n",
       "    }\n",
       "\n",
       "    .dataframe tbody tr th {\n",
       "        vertical-align: top;\n",
       "    }\n",
       "\n",
       "    .dataframe thead th {\n",
       "        text-align: right;\n",
       "    }\n",
       "</style>\n",
       "<table border=\"1\" class=\"dataframe\">\n",
       "  <thead>\n",
       "    <tr style=\"text-align: right;\">\n",
       "      <th></th>\n",
       "      <th>count</th>\n",
       "      <th>total_sell</th>\n",
       "    </tr>\n",
       "    <tr>\n",
       "      <th>genre</th>\n",
       "      <th></th>\n",
       "      <th></th>\n",
       "    </tr>\n",
       "  </thead>\n",
       "  <tbody>\n",
       "    <tr>\n",
       "      <th>Action</th>\n",
       "      <td>766</td>\n",
       "      <td>284.67</td>\n",
       "    </tr>\n",
       "    <tr>\n",
       "      <th>Role-Playing</th>\n",
       "      <td>292</td>\n",
       "      <td>134.41</td>\n",
       "    </tr>\n",
       "    <tr>\n",
       "      <th>Adventure</th>\n",
       "      <td>245</td>\n",
       "      <td>21.21</td>\n",
       "    </tr>\n",
       "    <tr>\n",
       "      <th>Sports</th>\n",
       "      <td>214</td>\n",
       "      <td>131.20</td>\n",
       "    </tr>\n",
       "    <tr>\n",
       "      <th>Shooter</th>\n",
       "      <td>187</td>\n",
       "      <td>204.21</td>\n",
       "    </tr>\n",
       "    <tr>\n",
       "      <th>Misc</th>\n",
       "      <td>155</td>\n",
       "      <td>56.73</td>\n",
       "    </tr>\n",
       "    <tr>\n",
       "      <th>Racing</th>\n",
       "      <td>85</td>\n",
       "      <td>35.45</td>\n",
       "    </tr>\n",
       "    <tr>\n",
       "      <th>Fighting</th>\n",
       "      <td>80</td>\n",
       "      <td>31.75</td>\n",
       "    </tr>\n",
       "    <tr>\n",
       "      <th>Platform</th>\n",
       "      <td>74</td>\n",
       "      <td>38.51</td>\n",
       "    </tr>\n",
       "    <tr>\n",
       "      <th>Simulation</th>\n",
       "      <td>62</td>\n",
       "      <td>20.30</td>\n",
       "    </tr>\n",
       "    <tr>\n",
       "      <th>Strategy</th>\n",
       "      <td>56</td>\n",
       "      <td>9.27</td>\n",
       "    </tr>\n",
       "    <tr>\n",
       "      <th>Puzzle</th>\n",
       "      <td>17</td>\n",
       "      <td>3.01</td>\n",
       "    </tr>\n",
       "  </tbody>\n",
       "</table>\n",
       "</div>"
      ],
      "text/plain": [
       "              count  total_sell\n",
       "genre                          \n",
       "Action          766      284.67\n",
       "Role-Playing    292      134.41\n",
       "Adventure       245       21.21\n",
       "Sports          214      131.20\n",
       "Shooter         187      204.21\n",
       "Misc            155       56.73\n",
       "Racing           85       35.45\n",
       "Fighting         80       31.75\n",
       "Platform         74       38.51\n",
       "Simulation       62       20.30\n",
       "Strategy         56        9.27\n",
       "Puzzle           17        3.01"
      ]
     },
     "metadata": {},
     "output_type": "display_data"
    },
    {
     "data": {
      "image/png": "[encoded data removed]",
      "text/plain": [
       "<Figure size 1152x432 with 1 Axes>"
      ]
     },
     "metadata": {
      "needs_background": "light"
     },
     "output_type": "display_data"
    },
    {
     "data": {
      "text/html": [
       "<div>\n",
       "<style scoped>\n",
       "    .dataframe tbody tr th:only-of-type {\n",
       "        vertical-align: middle;\n",
       "    }\n",
       "\n",
       "    .dataframe tbody tr th {\n",
       "        vertical-align: top;\n",
       "    }\n",
       "\n",
       "    .dataframe thead th {\n",
       "        text-align: right;\n",
       "    }\n",
       "</style>\n",
       "<table border=\"1\" class=\"dataframe\">\n",
       "  <thead>\n",
       "    <tr style=\"text-align: right;\">\n",
       "      <th></th>\n",
       "      <th>count</th>\n",
       "      <th>total_sell</th>\n",
       "      <th>top_sell</th>\n",
       "    </tr>\n",
       "    <tr>\n",
       "      <th>genre</th>\n",
       "      <th></th>\n",
       "      <th></th>\n",
       "      <th></th>\n",
       "    </tr>\n",
       "  </thead>\n",
       "  <tbody>\n",
       "    <tr>\n",
       "      <th>Adventure</th>\n",
       "      <td>245</td>\n",
       "      <td>21.21</td>\n",
       "      <td>11.551155</td>\n",
       "    </tr>\n",
       "    <tr>\n",
       "      <th>Strategy</th>\n",
       "      <td>56</td>\n",
       "      <td>9.27</td>\n",
       "      <td>6.040992</td>\n",
       "    </tr>\n",
       "    <tr>\n",
       "      <th>Puzzle</th>\n",
       "      <td>17</td>\n",
       "      <td>3.01</td>\n",
       "      <td>5.647841</td>\n",
       "    </tr>\n",
       "    <tr>\n",
       "      <th>Simulation</th>\n",
       "      <td>62</td>\n",
       "      <td>20.30</td>\n",
       "      <td>3.054187</td>\n",
       "    </tr>\n",
       "    <tr>\n",
       "      <th>Misc</th>\n",
       "      <td>155</td>\n",
       "      <td>56.73</td>\n",
       "      <td>2.732240</td>\n",
       "    </tr>\n",
       "    <tr>\n",
       "      <th>Action</th>\n",
       "      <td>766</td>\n",
       "      <td>284.67</td>\n",
       "      <td>2.690835</td>\n",
       "    </tr>\n",
       "    <tr>\n",
       "      <th>Fighting</th>\n",
       "      <td>80</td>\n",
       "      <td>31.75</td>\n",
       "      <td>2.519685</td>\n",
       "    </tr>\n",
       "    <tr>\n",
       "      <th>Racing</th>\n",
       "      <td>85</td>\n",
       "      <td>35.45</td>\n",
       "      <td>2.397743</td>\n",
       "    </tr>\n",
       "    <tr>\n",
       "      <th>Role-Playing</th>\n",
       "      <td>292</td>\n",
       "      <td>134.41</td>\n",
       "      <td>2.172457</td>\n",
       "    </tr>\n",
       "    <tr>\n",
       "      <th>Platform</th>\n",
       "      <td>74</td>\n",
       "      <td>38.51</td>\n",
       "      <td>1.921579</td>\n",
       "    </tr>\n",
       "    <tr>\n",
       "      <th>Sports</th>\n",
       "      <td>214</td>\n",
       "      <td>131.20</td>\n",
       "      <td>1.631098</td>\n",
       "    </tr>\n",
       "    <tr>\n",
       "      <th>Shooter</th>\n",
       "      <td>187</td>\n",
       "      <td>204.21</td>\n",
       "      <td>0.915724</td>\n",
       "    </tr>\n",
       "  </tbody>\n",
       "</table>\n",
       "</div>"
      ],
      "text/plain": [
       "              count  total_sell   top_sell\n",
       "genre                                     \n",
       "Adventure       245       21.21  11.551155\n",
       "Strategy         56        9.27   6.040992\n",
       "Puzzle           17        3.01   5.647841\n",
       "Simulation       62       20.30   3.054187\n",
       "Misc            155       56.73   2.732240\n",
       "Action          766      284.67   2.690835\n",
       "Fighting         80       31.75   2.519685\n",
       "Racing           85       35.45   2.397743\n",
       "Role-Playing    292      134.41   2.172457\n",
       "Platform         74       38.51   1.921579\n",
       "Sports          214      131.20   1.631098\n",
       "Shooter         187      204.21   0.915724"
      ]
     },
     "metadata": {},
     "output_type": "display_data"
    }
   ],
   "source": [
    "actual_genres = data_act.pivot_table(index='genre',\n",
    "                     values=['total', 'name'],\n",
    "                     aggfunc={'total':'sum', 'name':'count'})\n",
    "actual_genres.columns = ('count', 'total_sell')\n",
    "display(actual_genres.sort_values(by='count', ascending=False))\n",
    "actual_genres = actual_genres.sort_values(by='count', ascending=False)\n",
    "actual_genres.plot(kind='bar', alpha=0.8, figsize=(16, 6), legend=True)\n",
    "plt.title('Распределение игр по жанрам (количество) и их продажи')\n",
    "plt.xlabel('Жанр')\n",
    "plt.ylabel('Количество игр')\n",
    "plt.show()\n",
    "actual_genres['top_sell'] = actual_genres['count'] / actual_genres['total_sell']\n",
    "display(actual_genres.sort_values(by='top_sell', ascending=False))"
   ]
  },
  {
   "cell_type": "markdown",
   "metadata": {},
   "source": [
    "Больше всего игр жанра action, далее идут жанры RP, Adventure, Sports, Shooter. В конце списка стратегии и пазлы. Игры первых трех жанров составляют почти 50% объема от всех игр. По продажам немного другая картина - в топе Action, Shooter, RP, Sports. По соотношению количества игр к продажам игр этого жанра лидирует Shooter, Strategy, Puzzle, Simulation.\n"
   ]
  },
  {
   "cell_type": "code",
   "execution_count": 34,
   "metadata": {},
   "outputs": [
    {
     "data": {
      "text/plain": [
       "genre\n",
       "Shooter         0.410\n",
       "Sports          0.205\n",
       "Platform        0.190\n",
       "Role-Playing    0.120\n",
       "Fighting        0.115\n",
       "Action          0.100\n",
       "Racing          0.100\n",
       "Simulation      0.095\n",
       "Misc            0.090\n",
       "Strategy        0.070\n",
       "Puzzle          0.060\n",
       "Adventure       0.030\n",
       "Name: total, dtype: float64"
      ]
     },
     "metadata": {},
     "output_type": "display_data"
    }
   ],
   "source": [
    "display(data_act.groupby('genre')['total'].median().sort_values(ascending=False))"
   ]
  },
  {
   "cell_type": "markdown",
   "metadata": {},
   "source": [
    "По медиане продаж, можно сделать вывод, что лучше всего продаются игры жанра Shooter, Sports, Platform, RP, Fightting"
   ]
  },
  {
   "cell_type": "markdown",
   "metadata": {},
   "source": [
    "**Вывод по исследовательскому анализу датафрейма:**\n",
    "- в датафрейме представлены игры с 1980 по 2016 год\n",
    "- с 1994 года начался рост количества игр, выпущенных за год - до 2008 года, после пошел спад\n",
    "- за все время (1980-2016) в топе по суммарному количеству проданных игр консоли PS2, Xbox 360, Nintendo Wii, PS3, Nintendo DS\n",
    "- актуальные консоли (2016): PS4, PS3, Xbox One, 3DS, Xbox 360\n",
    "- средний жизненный цикл консоли - от 7 до 11 лет. \n",
    "- на момент 2015-2016 года в России наиболее актуальны две консоли - PS4 и XBox One. Ставку нужно делать на игры именно этих платформ\n",
    "- медианы продаж игр на популярных консолях приблизительно на 170-250 тыс. копий. В нашем датафрейме данные по множеству игр, популярные тайтлы выходят естественно намного реже - поэтому выбросы по \"ящику с усами\" начинаются уже с 1-1.5 млн. проданных копий\n",
    "- корреляция между отзывами критиков и продажами положительная, близкая к средней, (больше всего коррелирует PS3, Xbox One) что говорит о том, что зависимость между отзывами критиков (чем выше оценка - тем больше продаж) и продажами игр присутствует, проявляется средне\n",
    "- корреляция между отзывами пользователей и продажами положительная, больше всего коррелирует PS3 - 0.209. У остальных консолей (PS4, Xbox One) корреляция между отзывами геймеров и продажами очень слабая 0.11-0.12\n",
    "- По количеству игр лидируют: Action, RP, Adventure, Sports, Shooter. \n",
    "- По количеству продаж лидируют: Action, Shooter, RP, Sports.\n",
    "- По медиане продаж игр лучше всего продаются игры жанра Shooter, Sports, Platform, RP, Fightting"
   ]
  },
  {
   "cell_type": "markdown",
   "metadata": {},
   "source": [
    "## Портрет пользователя региона"
   ]
  },
  {
   "cell_type": "markdown",
   "metadata": {},
   "source": [
    "### Япония"
   ]
  },
  {
   "cell_type": "code",
   "execution_count": 35,
   "metadata": {},
   "outputs": [
    {
     "data": {
      "image/png": "[encoded data removed]",
      "text/plain": [
       "<Figure size 576x432 with 1 Axes>"
      ]
     },
     "metadata": {
      "needs_background": "light"
     },
     "output_type": "display_data"
    }
   ],
   "source": [
    "data_act.pivot_table(index='platform', \n",
    "                 values='jp_sales', \n",
    "                 aggfunc='sum').sort_values(by='jp_sales', \n",
    "                                            ascending=False).head(5).plot(kind='bar',\n",
    "                                                                         grid=True,\n",
    "                                                                         figsize=(8, 6))\n",
    "plt.title('Суммарные продажи игр на консолях в Японии по платформе')\n",
    "plt.xlabel('Платформа')\n",
    "plt.ylabel('Продаж игр в млн.')\n",
    "plt.show()"
   ]
  },
  {
   "cell_type": "code",
   "execution_count": 36,
   "metadata": {},
   "outputs": [
    {
     "data": {
      "image/png": "[encoded data removed]",
      "text/plain": [
       "<Figure size 576x432 with 1 Axes>"
      ]
     },
     "metadata": {
      "needs_background": "light"
     },
     "output_type": "display_data"
    }
   ],
   "source": [
    "data_act.pivot_table(index='genre', \n",
    "                 values='jp_sales', \n",
    "                 aggfunc='sum').sort_values(by='jp_sales', \n",
    "                                            ascending=False).head(5).plot(kind='bar',\n",
    "                                                                         grid=True,\n",
    "                                                                         figsize=(8, 6))\n",
    "plt.title('Суммарные продажи игр на консолях в Японии по жанру')\n",
    "plt.xlabel('Жанр')\n",
    "plt.ylabel('Продаж игр в млн.')\n",
    "plt.show()"
   ]
  },
  {
   "cell_type": "markdown",
   "metadata": {},
   "source": [
    "Итак, в Японии с играми, вышедшими в 2013 году и позже вырисовывается портрет типичного пользователя: \n",
    "- популярная консоль 3DS, консоли от PlayStation (PS4, PSV, PS3), WiiU.\n",
    "- популярные игровые жанры: Role-Playing, Action - распространены больше всех"
   ]
  },
  {
   "cell_type": "markdown",
   "metadata": {},
   "source": [
    "### Северная Америка"
   ]
  },
  {
   "cell_type": "code",
   "execution_count": 37,
   "metadata": {},
   "outputs": [
    {
     "data": {
      "image/png": "[encoded data removed]",
      "text/plain": [
       "<Figure size 576x432 with 1 Axes>"
      ]
     },
     "metadata": {
      "needs_background": "light"
     },
     "output_type": "display_data"
    }
   ],
   "source": [
    "data_act.pivot_table(index='platform', \n",
    "                 values='na_sales', \n",
    "                 aggfunc='sum').sort_values(by='na_sales', \n",
    "                                            ascending=False).head(5).plot(kind='bar',\n",
    "                                                                         grid=True,\n",
    "                                                                         figsize=(8, 6))\n",
    "plt.title('Суммарные продажи игр на консолях в СА по платформе')\n",
    "plt.xlabel('Платформа')\n",
    "plt.ylabel('Продаж игр в млн.')\n",
    "plt.show()"
   ]
  },
  {
   "cell_type": "code",
   "execution_count": 38,
   "metadata": {},
   "outputs": [
    {
     "data": {
      "image/png": "[encoded data removed]",
      "text/plain": [
       "<Figure size 576x432 with 1 Axes>"
      ]
     },
     "metadata": {
      "needs_background": "light"
     },
     "output_type": "display_data"
    }
   ],
   "source": [
    "data_act.pivot_table(index='genre', \n",
    "                 values='na_sales', \n",
    "                 aggfunc='sum').sort_values(by='na_sales', \n",
    "                                            ascending=False).head(5).plot(kind='bar',\n",
    "                                                                         grid=True,\n",
    "                                                                         figsize=(8, 6))\n",
    "plt.title('Суммарные продажи игр на консолях в СА по жанру')\n",
    "plt.xlabel('Жанр')\n",
    "plt.ylabel('Продаж игр в млн.')\n",
    "plt.show()"
   ]
  },
  {
   "cell_type": "markdown",
   "metadata": {},
   "source": [
    "Итак, в Северной Америка с играми, вышедшими в 2013 году и позже вырисовывается портрет типичного пользователя: \n",
    "- популярные консоли: PS4, XBox One, за ними их предшественники предыдущего поколения, в конце топа - Nintendo 3DS\n",
    "- популярные игровые жанры: Action, Shooter, Sports, RP, в конце - сборный жанр Misc"
   ]
  },
  {
   "cell_type": "markdown",
   "metadata": {},
   "source": [
    "### Европа"
   ]
  },
  {
   "cell_type": "code",
   "execution_count": 39,
   "metadata": {},
   "outputs": [
    {
     "data": {
      "image/png": "[encoded data removed]",
      "text/plain": [
       "<Figure size 576x432 with 1 Axes>"
      ]
     },
     "metadata": {
      "needs_background": "light"
     },
     "output_type": "display_data"
    }
   ],
   "source": [
    "data_act.pivot_table(index='platform', \n",
    "                 values='eu_sales', \n",
    "                 aggfunc='sum').sort_values(by='eu_sales', \n",
    "                                            ascending=False).head(5).plot(kind='bar',\n",
    "                                                                         grid=True,\n",
    "                                                                         figsize=(8, 6))\n",
    "plt.title('Суммарные продажи игр на консолях в Европе по платформе')\n",
    "plt.xlabel('Платформа')\n",
    "plt.ylabel('Продаж игр в млн.')\n",
    "plt.show()"
   ]
  },
  {
   "cell_type": "code",
   "execution_count": 40,
   "metadata": {},
   "outputs": [
    {
     "data": {
      "image/png": "[encoded data removed]",
      "text/plain": [
       "<Figure size 576x432 with 1 Axes>"
      ]
     },
     "metadata": {
      "needs_background": "light"
     },
     "output_type": "display_data"
    }
   ],
   "source": [
    "data_act.pivot_table(index='genre', \n",
    "                 values='eu_sales', \n",
    "                 aggfunc='sum').sort_values(by='eu_sales', \n",
    "                                            ascending=False).head(5).plot(kind='bar',\n",
    "                                                                         grid=True,\n",
    "                                                                         figsize=(8, 6))\n",
    "plt.title('Суммарные продажи игр на консолях в Европе по жанру')\n",
    "plt.xlabel('Жанр')\n",
    "plt.ylabel('Продаж игр в млн.')\n",
    "plt.show()"
   ]
  },
  {
   "cell_type": "markdown",
   "metadata": {},
   "source": [
    "Итак, в Европе с играми, вышедшими в 2013 году и позже вырисовывается портрет типичного пользователя: \n",
    "- популярные консоли: две первых строчки за PS4 и PS3, далее консоли XBox - One и 360. В конце топа - Nintendo 3DS\n",
    "- популярные игровые жанры: Action, Shooter, Sports, RP, почти так же, как в Америке, но последний жанр в топ 5 - Racing"
   ]
  },
  {
   "cell_type": "markdown",
   "metadata": {},
   "source": [
    "### Оценки рейтинга ESRB в регионах"
   ]
  },
  {
   "cell_type": "markdown",
   "metadata": {},
   "source": [
    "для начала - расшифровка рейтинга:\n",
    "- «EC» («Early childhood») — «Для детей младшего возраста».\n",
    "- «E» («Everyone») — «Для всех».\n",
    "- «E10+» («Everyone 10 and older») — «Для всех старше 10 лет».\n",
    "- «T» («Teen») — «Подросткам 13–19 лет».\n",
    "- «M» («Mature») — «От 17 лет».\n",
    "- «AO» («Adults Only 18+») — «Только для взрослых».\n",
    "- «RP» («Rating Pending») — «Рейтинг ожидается»."
   ]
  },
  {
   "cell_type": "code",
   "execution_count": 41,
   "metadata": {},
   "outputs": [
    {
     "data": {
      "text/html": [
       "<div>\n",
       "<style scoped>\n",
       "    .dataframe tbody tr th:only-of-type {\n",
       "        vertical-align: middle;\n",
       "    }\n",
       "\n",
       "    .dataframe tbody tr th {\n",
       "        vertical-align: top;\n",
       "    }\n",
       "\n",
       "    .dataframe thead th {\n",
       "        text-align: right;\n",
       "    }\n",
       "</style>\n",
       "<table border=\"1\" class=\"dataframe\">\n",
       "  <thead>\n",
       "    <tr style=\"text-align: right;\">\n",
       "      <th></th>\n",
       "      <th>eu_sales</th>\n",
       "      <th>jp_sales</th>\n",
       "      <th>na_sales</th>\n",
       "    </tr>\n",
       "    <tr>\n",
       "      <th>rating</th>\n",
       "      <th></th>\n",
       "      <th></th>\n",
       "      <th></th>\n",
       "    </tr>\n",
       "  </thead>\n",
       "  <tbody>\n",
       "    <tr>\n",
       "      <th>M</th>\n",
       "      <td>145.32</td>\n",
       "      <td>14.11</td>\n",
       "      <td>165.21</td>\n",
       "    </tr>\n",
       "    <tr>\n",
       "      <th>E</th>\n",
       "      <td>83.36</td>\n",
       "      <td>15.14</td>\n",
       "      <td>79.05</td>\n",
       "    </tr>\n",
       "    <tr>\n",
       "      <th>unknown</th>\n",
       "      <td>78.91</td>\n",
       "      <td>85.05</td>\n",
       "      <td>89.42</td>\n",
       "    </tr>\n",
       "    <tr>\n",
       "      <th>E10+</th>\n",
       "      <td>42.69</td>\n",
       "      <td>5.89</td>\n",
       "      <td>54.24</td>\n",
       "    </tr>\n",
       "    <tr>\n",
       "      <th>T</th>\n",
       "      <td>41.95</td>\n",
       "      <td>20.59</td>\n",
       "      <td>49.79</td>\n",
       "    </tr>\n",
       "  </tbody>\n",
       "</table>\n",
       "</div>"
      ],
      "text/plain": [
       "         eu_sales  jp_sales  na_sales\n",
       "rating                               \n",
       "M          145.32     14.11    165.21\n",
       "E           83.36     15.14     79.05\n",
       "unknown     78.91     85.05     89.42\n",
       "E10+        42.69      5.89     54.24\n",
       "T           41.95     20.59     49.79"
      ]
     },
     "metadata": {},
     "output_type": "display_data"
    },
    {
     "data": {
      "image/png": "[encoded data removed]",
      "text/plain": [
       "<Figure size 720x432 with 1 Axes>"
      ]
     },
     "metadata": {
      "needs_background": "light"
     },
     "output_type": "display_data"
    }
   ],
   "source": [
    "esrb = data_act.pivot_table(index = 'rating', values = ['eu_sales','jp_sales','na_sales'], aggfunc = 'sum')\n",
    "display(esrb.sort_values(by='eu_sales', ascending=False))\n",
    "plt.figure(figsize=(10, 6))\n",
    "plt.grid(True)\n",
    "sns.lineplot(data=esrb, markers=True, dashes=False)\n",
    "plt.title('Продажи в зависимости от рейтинга по регионам')\n",
    "plt.xlabel('Рейтинг')\n",
    "plt.ylabel('Количество продаж, млн.')\n",
    "plt.show()"
   ]
  },
  {
   "cell_type": "markdown",
   "metadata": {},
   "source": [
    "Из сводной таблицы можно сделать вывод, что продажи в зависимости от рейтинга в Европе и Америке почти одинаковы (игры жанра \"Для всех\" и игры без рейтинга меняются местами на 2 и 3 месте). В Японии же продажи складываются совсем по другому - в топе игры без рейтинга, далее игры \"Подросткам 13–19 лет\", \"Для всех\", \"От 17 лет\", \"Для всех старше 10 лет\". Если взять рейтинг игр гарантом реального возраста пользователя, то можно сделать вывод, что консолями в Европе и Америке пользуется аудитория старше 17 лет, в консоли любят играть семьями. В Японии же менее возрастная аудитория. \n",
    "Причина неизвестного рейтинга в топ 1 по Японии - в Японии другие популярные консоли, много локальных игр, которые популярны только на Японском рынке, деятельность ESRB официально ограничена Канадой, США и Мексикой - они не будут оценивать игры, в которые играют только в Японии."
   ]
  },
  {
   "cell_type": "markdown",
   "metadata": {},
   "source": [
    "**Вывод по исследованию портрета пользователя:**\n",
    "- в Японии\n",
    "1. популярная консоль 3DS, консоли от PlayStation (PS4, PSV, PS3), WiiU.\n",
    "2. популярные игровые жанры: Role-Playing, Action - распространены больше всех\n",
    "3. ESRB: T, E, M, E10+\n",
    "- в Северной Америке\n",
    "1. популярные консоли: PS4, XBox One, за ними их предшественники предыдущего поколения, в конце топа - Nintendo 3DS\n",
    "2. популярные игровые жанры: Action, Shooter, Sports, RP, в конце - сборный жанр Misc\n",
    "3. ESRB: M, E, E10+, T\n",
    "- в Европе\n",
    "1. популярные консоли: две первых строчки за PS4 и PS3, далее консоли XBox - One и 360. В конце топа - Nintendo 3DS\n",
    "2. популярные игровые жанры: Action, Shooter, Sports, RP, почти так же, как в Америке, но последний жанр в топ 5 - Racing\n",
    "3. ESRB: M, E, E10+, T\n",
    "- продажи по рейтингу ESRB в Европе и Америке почти одинаковы. Продажи по рейтингу в Японии в сравнении с Европой/Америкой сильно отличаются. Если взять рейтинг игр гарантом реального возраста пользователя, то можно сделать вывод, что консолями в Европе и Америке пользуется аудитория старше 17 лет, в консоли любят играть семьями. В Японии же менее возрастная аудитория. "
   ]
  },
  {
   "cell_type": "markdown",
   "metadata": {},
   "source": [
    "## Проверка гипотез"
   ]
  },
  {
   "cell_type": "markdown",
   "metadata": {},
   "source": [
    "### Средние пользовательские рейтинги платформ Xbox One и PC одинаковые;"
   ]
  },
  {
   "cell_type": "markdown",
   "metadata": {},
   "source": [
    "Сформулируем гипотезы:\n",
    "\n",
    "H0: Средние пользовательские рейтинги платформ Xbox One и PC равны <br>\n",
    "H1: Средние пользовательские рейтинги платформ Xbox One и PC различаются\n"
   ]
  },
  {
   "cell_type": "code",
   "execution_count": 42,
   "metadata": {},
   "outputs": [
    {
     "name": "stdout",
     "output_type": "stream",
     "text": [
      "6.521428571428572\n",
      "6.2696774193548395\n"
     ]
    }
   ],
   "source": [
    "XOne = data_act.query('platform == \"XOne\" & user_score > 0')['user_score']\n",
    "PC = data_act.query('platform == \"PC\" & user_score > 0')['user_score']\n",
    "print(XOne.mean())\n",
    "print(PC.mean())"
   ]
  },
  {
   "cell_type": "code",
   "execution_count": 43,
   "metadata": {},
   "outputs": [
    {
     "name": "stdout",
     "output_type": "stream",
     "text": [
      "p-value = 0.14759594013430463\n",
      "Не получилось отвергнуть нулевую гипотезу\n"
     ]
    }
   ],
   "source": [
    "alpha = 0.05\n",
    "\n",
    "results = st.ttest_ind(XOne, PC, equal_var=False)\n",
    "\n",
    "print('p-value =', results.pvalue)\n",
    "\n",
    "if results.pvalue < alpha:\n",
    "    print('Отвергаем нулевую гипотезу')\n",
    "else:\n",
    "    print('Не получилось отвергнуть нулевую гипотезу')"
   ]
  },
  {
   "cell_type": "markdown",
   "metadata": {},
   "source": [
    "При уровне значимости в 5% **не получилось отвергнуть** нулевую гипотезу, значит, можно говорить, что средние пользовательские рейтинги платформ Xbox One и PC равны"
   ]
  },
  {
   "cell_type": "markdown",
   "metadata": {},
   "source": [
    "### Средние пользовательские рейтинги жанров Action (англ. «действие», экшен-игры) и Sports (англ. «спортивные соревнования») разные."
   ]
  },
  {
   "cell_type": "markdown",
   "metadata": {},
   "source": [
    "H0: Средние пользовательские рейтинги жанров Action (англ. «действие», экшен-игры) и Sports (англ. «спортивные соревнования») равны <br>\n",
    "H1: Средние пользовательские рейтинги жанров Action (англ. «действие», экшен-игры) и Sports (англ. «спортивные соревнования») различаются"
   ]
  },
  {
   "cell_type": "code",
   "execution_count": 44,
   "metadata": {},
   "outputs": [
    {
     "name": "stdout",
     "output_type": "stream",
     "text": [
      "6.837532133676092\n",
      "5.238124999999999\n"
     ]
    }
   ],
   "source": [
    "action=data_act.query('genre == \"Action\" & user_score > 0')['user_score']\n",
    "sports=data_act.query('genre == \"Sports\" & user_score > 0')['user_score']\n",
    "print(action.mean())\n",
    "print(sports.mean())"
   ]
  },
  {
   "cell_type": "code",
   "execution_count": 45,
   "metadata": {},
   "outputs": [
    {
     "name": "stdout",
     "output_type": "stream",
     "text": [
      "p-value = 1.4460039700704315e-20\n",
      "Отвергаем нулевую гипотезу\n"
     ]
    }
   ],
   "source": [
    "alpha = 0.05\n",
    "\n",
    "results = st.ttest_ind(action, sports, equal_var=False)\n",
    "\n",
    "print('p-value =', results.pvalue)\n",
    "\n",
    "if results.pvalue < alpha:\n",
    "    print('Отвергаем нулевую гипотезу')\n",
    "else:\n",
    "    print('Не получилось отвергнуть нулевую гипотезу')"
   ]
  },
  {
   "cell_type": "markdown",
   "metadata": {},
   "source": [
    "При уровне значимости в 5% **получилось отвергнуть** нулевую гипотезу, значит, можно говорить, что дейстивтельно, средние пользовательские рейтинги жанров Action (англ. «действие», экшен-игры) и Sports (англ. «спортивные соревнования») разные."
   ]
  },
  {
   "cell_type": "markdown",
   "metadata": {},
   "source": [
    "Проверив гипотезы, можно говорить, что:\n",
    "- Средние пользовательские рейтинги платформ Xbox One и PC одинаковые \n",
    "- Средние пользовательские рейтинги жанров Action (англ. «действие», экшен-игры) и Sports (англ. «спортивные соревнования») разные"
   ]
  },
  {
   "cell_type": "markdown",
   "metadata": {},
   "source": [
    "## Вывод"
   ]
  },
  {
   "cell_type": "markdown",
   "metadata": {},
   "source": [
    "Я провел анализ игр по данным 2016 года с целью **выявить определяющие успешность игры закономерности**. Это позволит сделать ставку на потенциально популярный продукт и спланировать рекламные кампании. <br>\n",
    "Изучив датафрейм, была проведена подготовка датасета: **изменены имена столбцов, найдены неявные дубликаты, удалены некоторые данные, заполнены пропуски.** После обработки в датасете осталось 98% данных, был создал столбец с продажами по всем регионам датафрейма"
   ]
  },
  {
   "cell_type": "markdown",
   "metadata": {},
   "source": [
    "Далее, был проведен исследовательский анализ данных, по итогам которого можно сказать:\n",
    "- в датафрейме представлены игры с **1980 по 2016 год**\n",
    "- с 1994 года начался рост количества игр, выпущенных за год - до 2008 года, после пошел спад\n",
    "<br>\n",
    "<br>\n",
    "Дальнейший анализ проводился с играми от **2013 года по 2016.** Это более актуальные игры на момент 2016 года, так как вышли консоли нового поколения в 2013 и продажи игр на них должны расти, а на консоли предыдущего поколения - падать <br> <br> \n",
    "Анализ платформ:\n",
    "- за все время (1980-2016) в топе по суммарному количеству проданных игр консоли PS2, Xbox 360, Nintendo Wii, PS3, Nintendo DS\n",
    "- актуальные консоли на 2016: **PS4, PS3, Xbox One, 3DS, Xbox 360**\n",
    "- средний жизненный цикл консоли - **от 7 до 11 лет**\n",
    "- на момент 2015-2016 года в России наиболее актуальны две консоли - PS4 и XBox One. Это подтвердилось как на цифрах продаж в таблице с консолями по играм 2015-16 годов, так и по динамике продаж консолей нового поколения по годам. **Ставку нужно делать на игры именно этих платформ (PS4, Xbox One)**"
   ]
  },
  {
   "cell_type": "markdown",
   "metadata": {},
   "source": [
    "Далее были проведены исследования, в ходе которых выяснилось, что:\n",
    "- корреляция между отзывами критиков и продажами положительная, близкая к средней, (больше всего коррелирует PS3, Xbox One) что говорит о том, что **зависимость между отзывами критиков (чем выше оценка - тем больше продаж) и продажами игр присутствует, проявляется средне**, а корреляция между отзывами пользователей и продажами так же положительна, но едва заметна, (кроме PS3 - 0.209) у PS4, Xbox One корреляция между отзывами геймеров и продажами **очень слабая 0.11-0.12**\n",
    "- По **количеству игр** лидируют: Action, RP, Adventure, Sports, Shooter. \n",
    "- По **количеству продаж** лидируют: Action, Shooter, RP, Sports.\n",
    "- По **медиане продаж игр** лучше всего продаются игры жанра Shooter, Sports, Platform, RP, Fightting\n",
    "- медианы продаж игр на популярных консолях приблизительно **на 170-250 тыс. копий.** В нашем датафрейме данные по множеству игр, популярные тайтлы выходят естественно намного реже - поэтому выбросы по \"ящику с усами\" начинаются уже с 1-1.5 млн. проданных копий."
   ]
  },
  {
   "cell_type": "markdown",
   "metadata": {},
   "source": [
    "Составил портрет пользователя каждого региона: \n",
    "- в Японии\n",
    "1. популярная консоль 3DS, консоли от PlayStation (PS4, PSV, PS3), WiiU.\n",
    "2. популярные игровые жанры: Role-Playing, Action - распространены больше всех\n",
    "3. ESRB: T, E, M, E10+\n",
    "- в Северной Америке\n",
    "1. популярные консоли: PS4, XBox One, за ними их предшественники предыдущего поколения, в конце топа - Nintendo 3DS\n",
    "2. популярные игровые жанры: Action, Shooter, Sports, RP, в конце - сборный жанр Misc\n",
    "3. ESRB: M, E, E10+, T\n",
    "- в Европе\n",
    "1. популярные консоли: две первых строчки за PS4 и PS3, далее консоли XBox - One и 360. В конце топа - Nintendo 3DS\n",
    "2. популярные игровые жанры: Action, Shooter, Sports, RP, почти так же, как в Америке, но последний жанр в топ 5 - Racing\n",
    "3. ESRB: M, E, E10+, T\n",
    "- продажи по рейтингу ESRB в Европе и Америке почти одинаковы. Продажи по рейтингу в Японии в сравнении с Европой/Америкой сильно отличаются. Если взять рейтинг игр гарантом реального возраста пользователя, то можно сделать вывод, что консолями в Европе и Америке пользуется аудитория старше 17 лет, в консоли любят играть семьями. В Японии же менее возрастная аудитория."
   ]
  },
  {
   "cell_type": "markdown",
   "metadata": {},
   "source": [
    "Были проверенны гипотезы, в ходе проверки выяснилось, что действительно, средние пользовательские рейтинги платформ Xbox One и PC **одинаковые**, и средние пользовательские рейтинги жанров Action и Sports **разные**, уровень значимости был выбран 0.05 (5%)"
   ]
  },
  {
   "cell_type": "markdown",
   "metadata": {},
   "source": [
    "Проанализировав все, можно сказать, что **при планировании кампании для 2017 года магазину игр нужно обратить внимание на консоли PS4, PS3, Xbox One, 3DS, Xbox 360; игры жанра Shooter, Action, Sports, Adventure, RP, Fighting; возрастного рейтинга ESRB - M, E, E10+, также стоит посмотреть на рейтинги критиков - брать высоко оцененные игры**"
   ]
  }
 ],
 "metadata": {
  "ExecuteTimeLog": [
   {
    "duration": 1273,
    "start_time": "2024-05-07T15:35:03.310Z"
   },
   {
    "duration": 105,
    "start_time": "2024-05-07T15:39:04.169Z"
   },
   {
    "duration": 17,
    "start_time": "2024-05-07T15:39:09.687Z"
   },
   {
    "duration": 12,
    "start_time": "2024-05-07T15:39:51.046Z"
   },
   {
    "duration": 15,
    "start_time": "2024-05-07T15:39:53.829Z"
   },
   {
    "duration": 8,
    "start_time": "2024-05-07T15:40:18.459Z"
   },
   {
    "duration": 93,
    "start_time": "2024-05-07T15:42:17.745Z"
   },
   {
    "duration": 16,
    "start_time": "2024-05-07T15:42:23.549Z"
   },
   {
    "duration": 16,
    "start_time": "2024-05-07T15:42:32.167Z"
   },
   {
    "duration": 29,
    "start_time": "2024-05-07T15:43:37.307Z"
   },
   {
    "duration": 7,
    "start_time": "2024-05-07T15:44:56.639Z"
   },
   {
    "duration": 3,
    "start_time": "2024-05-07T15:44:59.755Z"
   },
   {
    "duration": 3,
    "start_time": "2024-05-07T15:45:03.595Z"
   },
   {
    "duration": 2,
    "start_time": "2024-05-07T15:45:10.849Z"
   },
   {
    "duration": 1335,
    "start_time": "2024-05-08T07:24:35.866Z"
   },
   {
    "duration": 118,
    "start_time": "2024-05-08T07:24:37.204Z"
   },
   {
    "duration": 19,
    "start_time": "2024-05-08T07:24:37.324Z"
   },
   {
    "duration": 14,
    "start_time": "2024-05-08T07:24:37.345Z"
   },
   {
    "duration": 10,
    "start_time": "2024-05-08T07:24:37.361Z"
   },
   {
    "duration": 38,
    "start_time": "2024-05-08T07:24:37.372Z"
   },
   {
    "duration": 3,
    "start_time": "2024-05-08T07:24:37.411Z"
   },
   {
    "duration": 285,
    "start_time": "2024-05-08T07:37:15.331Z"
   },
   {
    "duration": 4,
    "start_time": "2024-05-08T07:37:42.105Z"
   },
   {
    "duration": 14,
    "start_time": "2024-05-08T07:37:49.717Z"
   },
   {
    "duration": 8,
    "start_time": "2024-05-08T07:38:28.053Z"
   },
   {
    "duration": 4,
    "start_time": "2024-05-08T07:38:33.367Z"
   },
   {
    "duration": 20,
    "start_time": "2024-05-08T07:38:42.308Z"
   },
   {
    "duration": 6,
    "start_time": "2024-05-08T07:42:27.739Z"
   },
   {
    "duration": 5,
    "start_time": "2024-05-08T07:43:07.705Z"
   },
   {
    "duration": 12,
    "start_time": "2024-05-08T09:26:40.395Z"
   },
   {
    "duration": 15,
    "start_time": "2024-05-08T09:26:49.311Z"
   },
   {
    "duration": 7,
    "start_time": "2024-05-08T09:29:38.072Z"
   },
   {
    "duration": 19,
    "start_time": "2024-05-08T09:29:40.747Z"
   },
   {
    "duration": 14,
    "start_time": "2024-05-08T09:55:44.125Z"
   },
   {
    "duration": 16,
    "start_time": "2024-05-08T09:55:47.421Z"
   },
   {
    "duration": 7,
    "start_time": "2024-05-08T10:31:46.628Z"
   },
   {
    "duration": 5,
    "start_time": "2024-05-08T10:32:06.724Z"
   },
   {
    "duration": 6,
    "start_time": "2024-05-08T10:32:36.441Z"
   },
   {
    "duration": 14,
    "start_time": "2024-05-08T10:32:40.747Z"
   },
   {
    "duration": 22,
    "start_time": "2024-05-08T10:32:56.520Z"
   },
   {
    "duration": 15,
    "start_time": "2024-05-08T10:56:37.468Z"
   },
   {
    "duration": 17,
    "start_time": "2024-05-08T10:57:07.401Z"
   },
   {
    "duration": 10,
    "start_time": "2024-05-08T10:57:41.374Z"
   },
   {
    "duration": 14,
    "start_time": "2024-05-08T10:58:11.400Z"
   },
   {
    "duration": 12,
    "start_time": "2024-05-08T10:58:15.910Z"
   },
   {
    "duration": 19,
    "start_time": "2024-05-08T12:53:26.898Z"
   },
   {
    "duration": 4,
    "start_time": "2024-05-08T12:54:02.567Z"
   },
   {
    "duration": 5,
    "start_time": "2024-05-08T12:54:15.813Z"
   },
   {
    "duration": 1126,
    "start_time": "2024-05-08T12:54:45.350Z"
   },
   {
    "duration": 63,
    "start_time": "2024-05-08T12:54:46.478Z"
   },
   {
    "duration": 17,
    "start_time": "2024-05-08T12:54:46.544Z"
   },
   {
    "duration": 14,
    "start_time": "2024-05-08T12:54:46.564Z"
   },
   {
    "duration": 13,
    "start_time": "2024-05-08T12:54:46.579Z"
   },
   {
    "duration": 18,
    "start_time": "2024-05-08T12:54:46.593Z"
   },
   {
    "duration": 2,
    "start_time": "2024-05-08T12:54:46.613Z"
   },
   {
    "duration": 6,
    "start_time": "2024-05-08T12:54:46.616Z"
   },
   {
    "duration": 19,
    "start_time": "2024-05-08T12:54:46.623Z"
   },
   {
    "duration": 26,
    "start_time": "2024-05-08T12:54:46.644Z"
   },
   {
    "duration": 18,
    "start_time": "2024-05-08T12:54:46.672Z"
   },
   {
    "duration": 14,
    "start_time": "2024-05-08T12:54:46.691Z"
   },
   {
    "duration": 5,
    "start_time": "2024-05-08T12:54:46.707Z"
   },
   {
    "duration": 5,
    "start_time": "2024-05-08T12:54:46.714Z"
   },
   {
    "duration": 35,
    "start_time": "2024-05-08T12:54:46.721Z"
   },
   {
    "duration": 5,
    "start_time": "2024-05-08T12:55:17.515Z"
   },
   {
    "duration": 5,
    "start_time": "2024-05-08T12:55:27.377Z"
   },
   {
    "duration": 7,
    "start_time": "2024-05-08T12:56:45.819Z"
   },
   {
    "duration": 18,
    "start_time": "2024-05-08T12:56:54.193Z"
   },
   {
    "duration": 13,
    "start_time": "2024-05-08T12:57:12.700Z"
   },
   {
    "duration": 17,
    "start_time": "2024-05-08T12:57:15.481Z"
   },
   {
    "duration": 6,
    "start_time": "2024-05-08T12:57:27.333Z"
   },
   {
    "duration": 15,
    "start_time": "2024-05-08T12:58:28.163Z"
   },
   {
    "duration": 104,
    "start_time": "2024-05-08T13:00:09.528Z"
   },
   {
    "duration": 4,
    "start_time": "2024-05-08T13:00:47.708Z"
   },
   {
    "duration": 3,
    "start_time": "2024-05-08T13:00:55.189Z"
   },
   {
    "duration": 6,
    "start_time": "2024-05-08T13:01:01.667Z"
   },
   {
    "duration": 21,
    "start_time": "2024-05-08T13:05:43.019Z"
   },
   {
    "duration": 7,
    "start_time": "2024-05-08T13:07:12.046Z"
   },
   {
    "duration": 15,
    "start_time": "2024-05-08T13:07:23.873Z"
   },
   {
    "duration": 17,
    "start_time": "2024-05-08T13:08:05.951Z"
   },
   {
    "duration": 9,
    "start_time": "2024-05-08T13:08:10.323Z"
   },
   {
    "duration": 8,
    "start_time": "2024-05-08T13:08:50.245Z"
   },
   {
    "duration": 1094,
    "start_time": "2024-05-08T13:09:06.349Z"
   },
   {
    "duration": 11,
    "start_time": "2024-05-08T13:09:14.670Z"
   },
   {
    "duration": 8,
    "start_time": "2024-05-08T13:09:32.747Z"
   },
   {
    "duration": 5,
    "start_time": "2024-05-08T13:10:00.241Z"
   },
   {
    "duration": 7,
    "start_time": "2024-05-08T13:10:28.647Z"
   },
   {
    "duration": 21,
    "start_time": "2024-05-08T13:10:31.189Z"
   },
   {
    "duration": 4,
    "start_time": "2024-05-08T13:28:29.689Z"
   },
   {
    "duration": 12,
    "start_time": "2024-05-08T13:28:40.222Z"
   },
   {
    "duration": 5,
    "start_time": "2024-05-08T13:34:03.037Z"
   },
   {
    "duration": 15,
    "start_time": "2024-05-08T13:45:50.009Z"
   },
   {
    "duration": 14,
    "start_time": "2024-05-08T13:45:57.838Z"
   },
   {
    "duration": 1186,
    "start_time": "2024-05-08T13:50:45.864Z"
   },
   {
    "duration": 56,
    "start_time": "2024-05-08T13:50:47.052Z"
   },
   {
    "duration": 16,
    "start_time": "2024-05-08T13:50:47.110Z"
   },
   {
    "duration": 13,
    "start_time": "2024-05-08T13:50:47.128Z"
   },
   {
    "duration": 8,
    "start_time": "2024-05-08T13:50:47.142Z"
   },
   {
    "duration": 23,
    "start_time": "2024-05-08T13:50:47.152Z"
   },
   {
    "duration": 2,
    "start_time": "2024-05-08T13:50:47.177Z"
   },
   {
    "duration": 6,
    "start_time": "2024-05-08T13:50:47.180Z"
   },
   {
    "duration": 25,
    "start_time": "2024-05-08T13:50:47.187Z"
   },
   {
    "duration": 38,
    "start_time": "2024-05-08T13:50:47.214Z"
   },
   {
    "duration": 20,
    "start_time": "2024-05-08T13:50:47.254Z"
   },
   {
    "duration": 13,
    "start_time": "2024-05-08T13:50:47.276Z"
   },
   {
    "duration": 16,
    "start_time": "2024-05-08T13:50:47.291Z"
   },
   {
    "duration": 4,
    "start_time": "2024-05-08T13:50:47.308Z"
   },
   {
    "duration": 9,
    "start_time": "2024-05-08T13:50:47.313Z"
   },
   {
    "duration": 6,
    "start_time": "2024-05-08T13:50:47.323Z"
   },
   {
    "duration": 15,
    "start_time": "2024-05-08T13:50:47.331Z"
   },
   {
    "duration": 13,
    "start_time": "2024-05-08T13:50:47.365Z"
   },
   {
    "duration": 48,
    "start_time": "2024-05-09T08:49:21.954Z"
   },
   {
    "duration": 1388,
    "start_time": "2024-05-09T08:49:30.562Z"
   },
   {
    "duration": 111,
    "start_time": "2024-05-09T08:49:31.952Z"
   },
   {
    "duration": 17,
    "start_time": "2024-05-09T08:49:32.064Z"
   },
   {
    "duration": 14,
    "start_time": "2024-05-09T08:49:32.083Z"
   },
   {
    "duration": 10,
    "start_time": "2024-05-09T08:49:32.099Z"
   },
   {
    "duration": 15,
    "start_time": "2024-05-09T08:49:32.110Z"
   },
   {
    "duration": 2,
    "start_time": "2024-05-09T08:49:32.127Z"
   },
   {
    "duration": 30,
    "start_time": "2024-05-09T08:49:32.131Z"
   },
   {
    "duration": 17,
    "start_time": "2024-05-09T08:49:32.162Z"
   },
   {
    "duration": 5,
    "start_time": "2024-05-09T08:49:32.180Z"
   },
   {
    "duration": 14,
    "start_time": "2024-05-09T08:49:32.187Z"
   },
   {
    "duration": 6,
    "start_time": "2024-05-09T08:49:32.202Z"
   },
   {
    "duration": 15,
    "start_time": "2024-05-09T08:49:32.210Z"
   },
   {
    "duration": 36,
    "start_time": "2024-05-09T08:49:32.227Z"
   },
   {
    "duration": 10,
    "start_time": "2024-05-09T08:49:32.264Z"
   },
   {
    "duration": 6,
    "start_time": "2024-05-09T08:49:32.275Z"
   },
   {
    "duration": 14,
    "start_time": "2024-05-09T08:49:32.283Z"
   },
   {
    "duration": 14,
    "start_time": "2024-05-09T08:49:32.298Z"
   },
   {
    "duration": 14,
    "start_time": "2024-05-09T08:49:32.313Z"
   },
   {
    "duration": 185,
    "start_time": "2024-05-09T08:50:01.756Z"
   },
   {
    "duration": 92,
    "start_time": "2024-05-09T08:51:47.140Z"
   },
   {
    "duration": 107,
    "start_time": "2024-05-09T08:52:31.277Z"
   },
   {
    "duration": 103,
    "start_time": "2024-05-09T08:52:53.569Z"
   },
   {
    "duration": 13,
    "start_time": "2024-05-09T08:53:00.774Z"
   },
   {
    "duration": 19,
    "start_time": "2024-05-09T08:53:27.596Z"
   },
   {
    "duration": 18,
    "start_time": "2024-05-09T08:53:29.972Z"
   },
   {
    "duration": 119,
    "start_time": "2024-05-09T08:53:38.652Z"
   },
   {
    "duration": 100,
    "start_time": "2024-05-09T08:54:05.074Z"
   },
   {
    "duration": 125,
    "start_time": "2024-05-09T08:54:09.414Z"
   },
   {
    "duration": 93,
    "start_time": "2024-05-09T08:54:19.067Z"
   },
   {
    "duration": 138,
    "start_time": "2024-05-09T08:54:22.699Z"
   },
   {
    "duration": 193,
    "start_time": "2024-05-09T08:54:36.371Z"
   },
   {
    "duration": 191,
    "start_time": "2024-05-09T08:56:29.033Z"
   },
   {
    "duration": 192,
    "start_time": "2024-05-09T08:56:41.502Z"
   },
   {
    "duration": 192,
    "start_time": "2024-05-09T08:56:55.205Z"
   },
   {
    "duration": 14,
    "start_time": "2024-05-09T08:57:01.655Z"
   },
   {
    "duration": 18,
    "start_time": "2024-05-09T08:58:36.632Z"
   },
   {
    "duration": 366,
    "start_time": "2024-05-09T09:21:32.698Z"
   },
   {
    "duration": 147,
    "start_time": "2024-05-09T09:22:00.114Z"
   },
   {
    "duration": 340,
    "start_time": "2024-05-09T09:24:35.437Z"
   },
   {
    "duration": 351,
    "start_time": "2024-05-09T09:24:41.159Z"
   },
   {
    "duration": 356,
    "start_time": "2024-05-09T09:25:46.011Z"
   },
   {
    "duration": 471,
    "start_time": "2024-05-09T09:26:01.159Z"
   },
   {
    "duration": 338,
    "start_time": "2024-05-09T09:26:06.559Z"
   },
   {
    "duration": 336,
    "start_time": "2024-05-09T09:32:49.072Z"
   },
   {
    "duration": 395,
    "start_time": "2024-05-09T09:35:20.158Z"
   },
   {
    "duration": 414,
    "start_time": "2024-05-09T09:37:45.847Z"
   },
   {
    "duration": 431,
    "start_time": "2024-05-09T09:38:49.867Z"
   },
   {
    "duration": 11,
    "start_time": "2024-05-09T09:56:10.316Z"
   },
   {
    "duration": 18,
    "start_time": "2024-05-09T09:56:14.853Z"
   },
   {
    "duration": 29,
    "start_time": "2024-05-09T10:42:51.015Z"
   },
   {
    "duration": 29,
    "start_time": "2024-05-09T10:43:30.112Z"
   },
   {
    "duration": 25,
    "start_time": "2024-05-09T10:43:33.826Z"
   },
   {
    "duration": 24,
    "start_time": "2024-05-09T10:43:38.370Z"
   },
   {
    "duration": 17,
    "start_time": "2024-05-09T10:44:37.276Z"
   },
   {
    "duration": 25,
    "start_time": "2024-05-09T10:44:55.953Z"
   },
   {
    "duration": 31,
    "start_time": "2024-05-09T10:45:07.084Z"
   },
   {
    "duration": 27,
    "start_time": "2024-05-09T10:45:12.081Z"
   },
   {
    "duration": 352,
    "start_time": "2024-05-09T12:31:35.757Z"
   },
   {
    "duration": 29,
    "start_time": "2024-05-09T12:33:08.589Z"
   },
   {
    "duration": 313,
    "start_time": "2024-05-09T12:33:30.390Z"
   },
   {
    "duration": 39,
    "start_time": "2024-05-09T12:34:01.213Z"
   },
   {
    "duration": 24,
    "start_time": "2024-05-09T12:34:13.314Z"
   },
   {
    "duration": 28,
    "start_time": "2024-05-09T12:34:17.865Z"
   },
   {
    "duration": 1164,
    "start_time": "2024-05-09T12:34:27.725Z"
   },
   {
    "duration": 56,
    "start_time": "2024-05-09T12:34:28.891Z"
   },
   {
    "duration": 15,
    "start_time": "2024-05-09T12:34:28.949Z"
   },
   {
    "duration": 14,
    "start_time": "2024-05-09T12:34:28.966Z"
   },
   {
    "duration": 9,
    "start_time": "2024-05-09T12:34:28.981Z"
   },
   {
    "duration": 17,
    "start_time": "2024-05-09T12:34:28.992Z"
   },
   {
    "duration": 3,
    "start_time": "2024-05-09T12:34:29.010Z"
   },
   {
    "duration": 5,
    "start_time": "2024-05-09T12:34:29.014Z"
   },
   {
    "duration": 17,
    "start_time": "2024-05-09T12:34:29.020Z"
   },
   {
    "duration": 5,
    "start_time": "2024-05-09T12:34:29.061Z"
   },
   {
    "duration": 16,
    "start_time": "2024-05-09T12:34:29.067Z"
   },
   {
    "duration": 10,
    "start_time": "2024-05-09T12:34:29.084Z"
   },
   {
    "duration": 20,
    "start_time": "2024-05-09T12:34:29.096Z"
   },
   {
    "duration": 4,
    "start_time": "2024-05-09T12:34:29.118Z"
   },
   {
    "duration": 12,
    "start_time": "2024-05-09T12:34:29.123Z"
   },
   {
    "duration": 7,
    "start_time": "2024-05-09T12:34:29.161Z"
   },
   {
    "duration": 14,
    "start_time": "2024-05-09T12:34:29.170Z"
   },
   {
    "duration": 14,
    "start_time": "2024-05-09T12:34:29.186Z"
   },
   {
    "duration": 406,
    "start_time": "2024-05-09T12:34:29.202Z"
   },
   {
    "duration": 26,
    "start_time": "2024-05-09T12:34:29.610Z"
   },
   {
    "duration": 1120,
    "start_time": "2024-05-09T12:35:24.559Z"
   },
   {
    "duration": 65,
    "start_time": "2024-05-09T12:35:25.681Z"
   },
   {
    "duration": 25,
    "start_time": "2024-05-09T12:35:25.748Z"
   },
   {
    "duration": 15,
    "start_time": "2024-05-09T12:35:25.774Z"
   },
   {
    "duration": 10,
    "start_time": "2024-05-09T12:35:25.791Z"
   },
   {
    "duration": 18,
    "start_time": "2024-05-09T12:35:25.803Z"
   },
   {
    "duration": 3,
    "start_time": "2024-05-09T12:35:25.823Z"
   },
   {
    "duration": 34,
    "start_time": "2024-05-09T12:35:25.827Z"
   },
   {
    "duration": 21,
    "start_time": "2024-05-09T12:35:25.863Z"
   },
   {
    "duration": 17,
    "start_time": "2024-05-09T12:35:25.886Z"
   },
   {
    "duration": 19,
    "start_time": "2024-05-09T12:35:25.905Z"
   },
   {
    "duration": 9,
    "start_time": "2024-05-09T12:35:25.926Z"
   },
   {
    "duration": 44,
    "start_time": "2024-05-09T12:35:25.937Z"
   },
   {
    "duration": 4,
    "start_time": "2024-05-09T12:35:25.985Z"
   },
   {
    "duration": 11,
    "start_time": "2024-05-09T12:35:25.991Z"
   },
   {
    "duration": 7,
    "start_time": "2024-05-09T12:35:26.004Z"
   },
   {
    "duration": 13,
    "start_time": "2024-05-09T12:35:26.013Z"
   },
   {
    "duration": 47,
    "start_time": "2024-05-09T12:35:26.028Z"
   },
   {
    "duration": 402,
    "start_time": "2024-05-09T12:35:26.077Z"
   },
   {
    "duration": 24,
    "start_time": "2024-05-09T12:35:26.481Z"
   },
   {
    "duration": 23,
    "start_time": "2024-05-09T12:35:40.622Z"
   },
   {
    "duration": 25,
    "start_time": "2024-05-09T12:35:52.842Z"
   },
   {
    "duration": 24,
    "start_time": "2024-05-09T12:36:02.362Z"
   },
   {
    "duration": 6,
    "start_time": "2024-05-09T12:41:23.478Z"
   },
   {
    "duration": 24,
    "start_time": "2024-05-09T12:42:24.997Z"
   },
   {
    "duration": 11,
    "start_time": "2024-05-09T12:47:43.370Z"
   },
   {
    "duration": 164,
    "start_time": "2024-05-09T12:56:20.067Z"
   },
   {
    "duration": 363,
    "start_time": "2024-05-09T12:56:27.412Z"
   },
   {
    "duration": 130,
    "start_time": "2024-05-09T12:56:40.040Z"
   },
   {
    "duration": 113,
    "start_time": "2024-05-09T12:56:52.764Z"
   },
   {
    "duration": 135,
    "start_time": "2024-05-09T12:57:06.093Z"
   },
   {
    "duration": 235,
    "start_time": "2024-05-09T12:57:15.313Z"
   },
   {
    "duration": 272,
    "start_time": "2024-05-09T12:57:40.136Z"
   },
   {
    "duration": 279,
    "start_time": "2024-05-09T12:57:59.598Z"
   },
   {
    "duration": 370,
    "start_time": "2024-05-09T12:58:41.112Z"
   },
   {
    "duration": 294,
    "start_time": "2024-05-09T12:59:08.884Z"
   },
   {
    "duration": 319,
    "start_time": "2024-05-09T12:59:18.580Z"
   },
   {
    "duration": 331,
    "start_time": "2024-05-09T12:59:23.407Z"
   },
   {
    "duration": 380,
    "start_time": "2024-05-09T12:59:30.086Z"
   },
   {
    "duration": 305,
    "start_time": "2024-05-09T12:59:48.550Z"
   },
   {
    "duration": 273,
    "start_time": "2024-05-09T13:00:34.749Z"
   },
   {
    "duration": 148,
    "start_time": "2024-05-09T13:01:18.785Z"
   },
   {
    "duration": 143,
    "start_time": "2024-05-09T13:01:51.015Z"
   },
   {
    "duration": 95,
    "start_time": "2024-05-09T13:06:08.138Z"
   },
   {
    "duration": 656,
    "start_time": "2024-05-09T13:06:16.010Z"
   },
   {
    "duration": 715,
    "start_time": "2024-05-09T13:06:30.106Z"
   },
   {
    "duration": 41,
    "start_time": "2024-05-09T13:06:53.321Z"
   },
   {
    "duration": 4,
    "start_time": "2024-05-09T13:06:57.681Z"
   },
   {
    "duration": 10,
    "start_time": "2024-05-09T13:07:00.903Z"
   },
   {
    "duration": 9,
    "start_time": "2024-05-09T13:07:26.207Z"
   },
   {
    "duration": 393,
    "start_time": "2024-05-09T13:07:35.787Z"
   },
   {
    "duration": 21,
    "start_time": "2024-05-09T13:07:49.345Z"
   },
   {
    "duration": 22,
    "start_time": "2024-05-09T13:08:32.974Z"
   },
   {
    "duration": 19,
    "start_time": "2024-05-09T13:08:51.160Z"
   },
   {
    "duration": 8,
    "start_time": "2024-05-09T13:09:11.684Z"
   },
   {
    "duration": 8,
    "start_time": "2024-05-09T13:09:20.826Z"
   },
   {
    "duration": 9,
    "start_time": "2024-05-09T13:09:24.300Z"
   },
   {
    "duration": 9,
    "start_time": "2024-05-09T13:09:28.337Z"
   },
   {
    "duration": 9,
    "start_time": "2024-05-09T13:10:04.308Z"
   },
   {
    "duration": 12,
    "start_time": "2024-05-09T13:16:28.116Z"
   },
   {
    "duration": 14,
    "start_time": "2024-05-09T13:16:34.547Z"
   },
   {
    "duration": 12,
    "start_time": "2024-05-09T13:16:47.350Z"
   },
   {
    "duration": 8,
    "start_time": "2024-05-09T13:16:52.282Z"
   },
   {
    "duration": 14,
    "start_time": "2024-05-09T13:17:23.455Z"
   },
   {
    "duration": 12,
    "start_time": "2024-05-09T13:17:31.922Z"
   },
   {
    "duration": 12,
    "start_time": "2024-05-09T13:17:39.934Z"
   },
   {
    "duration": 12,
    "start_time": "2024-05-09T13:17:49.582Z"
   },
   {
    "duration": 12,
    "start_time": "2024-05-09T13:17:56.475Z"
   },
   {
    "duration": 13,
    "start_time": "2024-05-09T13:17:58.927Z"
   },
   {
    "duration": 17,
    "start_time": "2024-05-09T13:18:49.486Z"
   },
   {
    "duration": 9,
    "start_time": "2024-05-09T13:19:05.027Z"
   },
   {
    "duration": 10,
    "start_time": "2024-05-09T13:19:14.439Z"
   },
   {
    "duration": 11,
    "start_time": "2024-05-09T13:19:22.112Z"
   },
   {
    "duration": 12,
    "start_time": "2024-05-09T13:19:26.508Z"
   },
   {
    "duration": 14,
    "start_time": "2024-05-09T13:19:35.141Z"
   },
   {
    "duration": 28,
    "start_time": "2024-05-09T13:19:56.274Z"
   },
   {
    "duration": 18,
    "start_time": "2024-05-09T13:41:29.458Z"
   },
   {
    "duration": 19,
    "start_time": "2024-05-09T13:42:27.818Z"
   },
   {
    "duration": 20,
    "start_time": "2024-05-09T13:42:39.812Z"
   },
   {
    "duration": 18,
    "start_time": "2024-05-09T13:42:45.707Z"
   },
   {
    "duration": 19,
    "start_time": "2024-05-09T13:43:59.696Z"
   },
   {
    "duration": 19,
    "start_time": "2024-05-09T13:44:10.061Z"
   },
   {
    "duration": 22,
    "start_time": "2024-05-09T13:48:13.676Z"
   },
   {
    "duration": 42,
    "start_time": "2024-05-09T13:49:47.198Z"
   },
   {
    "duration": 39,
    "start_time": "2024-05-09T13:49:55.342Z"
   },
   {
    "duration": 38,
    "start_time": "2024-05-09T13:50:29.205Z"
   },
   {
    "duration": 21,
    "start_time": "2024-05-09T13:50:35.502Z"
   },
   {
    "duration": 13,
    "start_time": "2024-05-09T13:50:40.851Z"
   },
   {
    "duration": 31,
    "start_time": "2024-05-09T13:50:45.840Z"
   },
   {
    "duration": 23,
    "start_time": "2024-05-09T13:50:55.794Z"
   },
   {
    "duration": 23,
    "start_time": "2024-05-09T13:51:16.644Z"
   },
   {
    "duration": 24,
    "start_time": "2024-05-09T13:51:35.310Z"
   },
   {
    "duration": 20,
    "start_time": "2024-05-09T13:52:27.464Z"
   },
   {
    "duration": 29,
    "start_time": "2024-05-09T14:14:05.606Z"
   },
   {
    "duration": 31,
    "start_time": "2024-05-09T14:14:34.141Z"
   },
   {
    "duration": 22,
    "start_time": "2024-05-09T14:14:44.652Z"
   },
   {
    "duration": 17,
    "start_time": "2024-05-09T14:15:16.020Z"
   },
   {
    "duration": 45,
    "start_time": "2024-05-09T14:21:20.020Z"
   },
   {
    "duration": 41,
    "start_time": "2024-05-09T14:21:43.395Z"
   },
   {
    "duration": 34,
    "start_time": "2024-05-09T14:22:06.945Z"
   },
   {
    "duration": 40,
    "start_time": "2024-05-09T14:22:35.348Z"
   },
   {
    "duration": 551,
    "start_time": "2024-05-09T14:23:09.204Z"
   },
   {
    "duration": 618,
    "start_time": "2024-05-09T14:23:16.548Z"
   },
   {
    "duration": 589,
    "start_time": "2024-05-09T14:23:23.411Z"
   },
   {
    "duration": 4,
    "start_time": "2024-05-09T14:24:29.934Z"
   },
   {
    "duration": 777,
    "start_time": "2024-05-09T14:24:35.701Z"
   },
   {
    "duration": 650,
    "start_time": "2024-05-09T14:25:23.567Z"
   },
   {
    "duration": 605,
    "start_time": "2024-05-09T14:26:12.074Z"
   },
   {
    "duration": 636,
    "start_time": "2024-05-09T14:28:30.862Z"
   },
   {
    "duration": 13,
    "start_time": "2024-05-09T14:51:05.104Z"
   },
   {
    "duration": 141,
    "start_time": "2024-05-09T14:51:15.355Z"
   },
   {
    "duration": 288,
    "start_time": "2024-05-09T14:51:28.255Z"
   },
   {
    "duration": 20,
    "start_time": "2024-05-09T14:52:34.057Z"
   },
   {
    "duration": 14,
    "start_time": "2024-05-09T14:52:58.509Z"
   },
   {
    "duration": 25,
    "start_time": "2024-05-09T14:55:29.101Z"
   },
   {
    "duration": 6,
    "start_time": "2024-05-09T15:05:26.594Z"
   },
   {
    "duration": 35,
    "start_time": "2024-05-09T15:05:33.796Z"
   },
   {
    "duration": 675,
    "start_time": "2024-05-09T15:05:51.932Z"
   },
   {
    "duration": 686,
    "start_time": "2024-05-09T15:06:16.307Z"
   },
   {
    "duration": 5,
    "start_time": "2024-05-09T15:06:55.276Z"
   },
   {
    "duration": 11,
    "start_time": "2024-05-09T15:07:04.854Z"
   },
   {
    "duration": 9,
    "start_time": "2024-05-09T15:07:13.288Z"
   },
   {
    "duration": 9,
    "start_time": "2024-05-09T15:07:17.215Z"
   },
   {
    "duration": 8,
    "start_time": "2024-05-09T15:07:21.904Z"
   },
   {
    "duration": 7,
    "start_time": "2024-05-09T15:07:40.861Z"
   },
   {
    "duration": 10,
    "start_time": "2024-05-09T15:07:54.568Z"
   },
   {
    "duration": 31,
    "start_time": "2024-05-09T15:09:07.539Z"
   },
   {
    "duration": 31,
    "start_time": "2024-05-09T15:09:12.014Z"
   },
   {
    "duration": 23,
    "start_time": "2024-05-09T15:09:30.010Z"
   },
   {
    "duration": 10,
    "start_time": "2024-05-09T15:10:00.320Z"
   },
   {
    "duration": 18,
    "start_time": "2024-05-09T15:12:11.070Z"
   },
   {
    "duration": 14,
    "start_time": "2024-05-09T15:12:16.444Z"
   },
   {
    "duration": 10,
    "start_time": "2024-05-09T15:12:21.376Z"
   },
   {
    "duration": 20,
    "start_time": "2024-05-09T15:12:27.833Z"
   },
   {
    "duration": 21,
    "start_time": "2024-05-09T15:14:08.528Z"
   },
   {
    "duration": 17,
    "start_time": "2024-05-09T15:15:25.471Z"
   },
   {
    "duration": 32,
    "start_time": "2024-05-09T15:15:52.393Z"
   },
   {
    "duration": 17,
    "start_time": "2024-05-09T15:16:06.042Z"
   },
   {
    "duration": 25,
    "start_time": "2024-05-09T15:16:27.997Z"
   },
   {
    "duration": 28,
    "start_time": "2024-05-09T15:17:15.892Z"
   },
   {
    "duration": 1177,
    "start_time": "2024-05-09T15:17:21.997Z"
   },
   {
    "duration": 57,
    "start_time": "2024-05-09T15:17:23.176Z"
   },
   {
    "duration": 18,
    "start_time": "2024-05-09T15:17:23.235Z"
   },
   {
    "duration": 32,
    "start_time": "2024-05-09T15:17:23.254Z"
   },
   {
    "duration": 18,
    "start_time": "2024-05-09T15:17:23.288Z"
   },
   {
    "duration": 52,
    "start_time": "2024-05-09T15:17:23.307Z"
   },
   {
    "duration": 16,
    "start_time": "2024-05-09T15:17:23.361Z"
   },
   {
    "duration": 23,
    "start_time": "2024-05-09T15:17:23.378Z"
   },
   {
    "duration": 30,
    "start_time": "2024-05-09T15:17:23.403Z"
   },
   {
    "duration": 14,
    "start_time": "2024-05-09T15:17:23.435Z"
   },
   {
    "duration": 20,
    "start_time": "2024-05-09T15:17:23.451Z"
   },
   {
    "duration": 8,
    "start_time": "2024-05-09T15:17:23.472Z"
   },
   {
    "duration": 23,
    "start_time": "2024-05-09T15:17:23.482Z"
   },
   {
    "duration": 3,
    "start_time": "2024-05-09T15:17:23.507Z"
   },
   {
    "duration": 14,
    "start_time": "2024-05-09T15:17:23.512Z"
   },
   {
    "duration": 26,
    "start_time": "2024-05-09T15:17:23.528Z"
   },
   {
    "duration": 28,
    "start_time": "2024-05-09T15:17:23.556Z"
   },
   {
    "duration": 37,
    "start_time": "2024-05-09T15:17:23.586Z"
   },
   {
    "duration": 14,
    "start_time": "2024-05-09T15:17:23.625Z"
   },
   {
    "duration": 458,
    "start_time": "2024-05-09T15:17:23.641Z"
   },
   {
    "duration": 28,
    "start_time": "2024-05-09T15:17:24.101Z"
   },
   {
    "duration": 338,
    "start_time": "2024-05-09T15:17:24.131Z"
   },
   {
    "duration": 12,
    "start_time": "2024-05-09T15:17:24.470Z"
   },
   {
    "duration": 149,
    "start_time": "2024-05-09T15:17:24.484Z"
   },
   {
    "duration": 30,
    "start_time": "2024-05-09T15:17:24.634Z"
   },
   {
    "duration": 19,
    "start_time": "2024-05-09T15:17:24.666Z"
   },
   {
    "duration": 686,
    "start_time": "2024-05-09T15:17:24.686Z"
   },
   {
    "duration": 112,
    "start_time": "2024-05-09T15:17:39.287Z"
   },
   {
    "duration": 1164,
    "start_time": "2024-05-09T15:17:45.758Z"
   },
   {
    "duration": 56,
    "start_time": "2024-05-09T15:17:46.924Z"
   },
   {
    "duration": 18,
    "start_time": "2024-05-09T15:17:46.982Z"
   },
   {
    "duration": 17,
    "start_time": "2024-05-09T15:17:47.001Z"
   },
   {
    "duration": 10,
    "start_time": "2024-05-09T15:17:47.020Z"
   },
   {
    "duration": 42,
    "start_time": "2024-05-09T15:17:47.032Z"
   },
   {
    "duration": 3,
    "start_time": "2024-05-09T15:17:47.077Z"
   },
   {
    "duration": 10,
    "start_time": "2024-05-09T15:17:47.081Z"
   },
   {
    "duration": 23,
    "start_time": "2024-05-09T15:17:47.093Z"
   },
   {
    "duration": 13,
    "start_time": "2024-05-09T15:17:47.118Z"
   },
   {
    "duration": 40,
    "start_time": "2024-05-09T15:17:47.133Z"
   },
   {
    "duration": 7,
    "start_time": "2024-05-09T15:17:47.174Z"
   },
   {
    "duration": 16,
    "start_time": "2024-05-09T15:17:47.182Z"
   },
   {
    "duration": 3,
    "start_time": "2024-05-09T15:17:47.201Z"
   },
   {
    "duration": 9,
    "start_time": "2024-05-09T15:17:47.206Z"
   },
   {
    "duration": 7,
    "start_time": "2024-05-09T15:17:47.216Z"
   },
   {
    "duration": 46,
    "start_time": "2024-05-09T15:17:47.224Z"
   },
   {
    "duration": 16,
    "start_time": "2024-05-09T15:17:47.272Z"
   },
   {
    "duration": 13,
    "start_time": "2024-05-09T15:17:47.290Z"
   },
   {
    "duration": 411,
    "start_time": "2024-05-09T15:17:47.305Z"
   },
   {
    "duration": 24,
    "start_time": "2024-05-09T15:17:47.718Z"
   },
   {
    "duration": 338,
    "start_time": "2024-05-09T15:17:47.743Z"
   },
   {
    "duration": 9,
    "start_time": "2024-05-09T15:17:48.083Z"
   },
   {
    "duration": 149,
    "start_time": "2024-05-09T15:17:48.094Z"
   },
   {
    "duration": 30,
    "start_time": "2024-05-09T15:17:48.245Z"
   },
   {
    "duration": 19,
    "start_time": "2024-05-09T15:17:48.277Z"
   },
   {
    "duration": 694,
    "start_time": "2024-05-09T15:17:48.297Z"
   },
   {
    "duration": 33,
    "start_time": "2024-05-09T15:31:17.821Z"
   },
   {
    "duration": 8,
    "start_time": "2024-05-09T15:31:34.089Z"
   },
   {
    "duration": 114,
    "start_time": "2024-05-09T15:33:50.356Z"
   },
   {
    "duration": 663,
    "start_time": "2024-05-09T15:35:52.236Z"
   },
   {
    "duration": 727,
    "start_time": "2024-05-09T15:36:03.074Z"
   },
   {
    "duration": 815,
    "start_time": "2024-05-09T15:36:20.891Z"
   },
   {
    "duration": 9,
    "start_time": "2024-05-09T15:36:37.972Z"
   },
   {
    "duration": 499,
    "start_time": "2024-05-09T15:48:08.018Z"
   },
   {
    "duration": 526,
    "start_time": "2024-05-09T15:48:35.327Z"
   },
   {
    "duration": 132,
    "start_time": "2024-05-09T15:49:26.595Z"
   },
   {
    "duration": 17,
    "start_time": "2024-05-09T15:49:51.016Z"
   },
   {
    "duration": 17,
    "start_time": "2024-05-09T15:50:07.331Z"
   },
   {
    "duration": 332,
    "start_time": "2024-05-09T15:50:27.281Z"
   },
   {
    "duration": 560,
    "start_time": "2024-05-09T15:54:28.502Z"
   },
   {
    "duration": 142,
    "start_time": "2024-05-09T15:55:15.447Z"
   },
   {
    "duration": 12,
    "start_time": "2024-05-09T15:55:42.129Z"
   },
   {
    "duration": 11,
    "start_time": "2024-05-09T15:55:55.219Z"
   },
   {
    "duration": 6,
    "start_time": "2024-05-09T16:05:09.767Z"
   },
   {
    "duration": 6,
    "start_time": "2024-05-09T16:05:34.914Z"
   },
   {
    "duration": 303,
    "start_time": "2024-05-09T16:06:37.054Z"
   },
   {
    "duration": 361,
    "start_time": "2024-05-09T16:07:36.224Z"
   },
   {
    "duration": 289,
    "start_time": "2024-05-09T16:07:45.309Z"
   },
   {
    "duration": 335,
    "start_time": "2024-05-09T16:07:56.089Z"
   },
   {
    "duration": 283,
    "start_time": "2024-05-09T16:09:16.730Z"
   },
   {
    "duration": 311,
    "start_time": "2024-05-09T16:09:28.763Z"
   },
   {
    "duration": 302,
    "start_time": "2024-05-09T16:09:38.653Z"
   },
   {
    "duration": 392,
    "start_time": "2024-05-09T16:09:51.659Z"
   },
   {
    "duration": 288,
    "start_time": "2024-05-09T16:09:57.248Z"
   },
   {
    "duration": 309,
    "start_time": "2024-05-09T16:11:18.656Z"
   },
   {
    "duration": 312,
    "start_time": "2024-05-09T16:11:23.896Z"
   },
   {
    "duration": 298,
    "start_time": "2024-05-09T16:11:39.988Z"
   },
   {
    "duration": 320,
    "start_time": "2024-05-09T16:11:46.824Z"
   },
   {
    "duration": 324,
    "start_time": "2024-05-09T16:11:56.646Z"
   },
   {
    "duration": 424,
    "start_time": "2024-05-09T16:12:08.976Z"
   },
   {
    "duration": 6,
    "start_time": "2024-05-09T16:13:10.044Z"
   },
   {
    "duration": 280,
    "start_time": "2024-05-09T16:13:12.395Z"
   },
   {
    "duration": 7,
    "start_time": "2024-05-09T16:13:22.601Z"
   },
   {
    "duration": 308,
    "start_time": "2024-05-09T16:17:17.672Z"
   },
   {
    "duration": 293,
    "start_time": "2024-05-09T16:18:48.730Z"
   },
   {
    "duration": 48,
    "start_time": "2024-05-10T11:58:17.829Z"
   },
   {
    "duration": 1311,
    "start_time": "2024-05-10T11:58:28.347Z"
   },
   {
    "duration": 199,
    "start_time": "2024-05-10T11:58:29.660Z"
   },
   {
    "duration": 24,
    "start_time": "2024-05-10T11:58:29.861Z"
   },
   {
    "duration": 26,
    "start_time": "2024-05-10T11:58:29.887Z"
   },
   {
    "duration": 25,
    "start_time": "2024-05-10T11:58:29.915Z"
   },
   {
    "duration": 20,
    "start_time": "2024-05-10T11:58:29.942Z"
   },
   {
    "duration": 4,
    "start_time": "2024-05-10T11:58:29.964Z"
   },
   {
    "duration": 6,
    "start_time": "2024-05-10T11:58:29.970Z"
   },
   {
    "duration": 25,
    "start_time": "2024-05-10T11:58:29.977Z"
   },
   {
    "duration": 156,
    "start_time": "2024-05-10T11:58:30.005Z"
   },
   {
    "duration": 98,
    "start_time": "2024-05-10T11:58:30.162Z"
   },
   {
    "duration": 99,
    "start_time": "2024-05-10T11:58:30.262Z"
   },
   {
    "duration": 210,
    "start_time": "2024-05-10T11:58:30.363Z"
   },
   {
    "duration": 165,
    "start_time": "2024-05-10T11:58:30.575Z"
   },
   {
    "duration": 250,
    "start_time": "2024-05-10T11:58:30.742Z"
   },
   {
    "duration": 115,
    "start_time": "2024-05-10T11:58:30.994Z"
   },
   {
    "duration": 66,
    "start_time": "2024-05-10T11:58:31.111Z"
   },
   {
    "duration": 43,
    "start_time": "2024-05-10T11:58:31.179Z"
   },
   {
    "duration": 65,
    "start_time": "2024-05-10T11:58:31.223Z"
   },
   {
    "duration": 452,
    "start_time": "2024-05-10T11:58:31.289Z"
   },
   {
    "duration": 30,
    "start_time": "2024-05-10T11:58:31.743Z"
   },
   {
    "duration": 847,
    "start_time": "2024-05-10T11:58:31.775Z"
   },
   {
    "duration": 10,
    "start_time": "2024-05-10T11:58:32.623Z"
   },
   {
    "duration": 548,
    "start_time": "2024-05-10T11:58:32.635Z"
   },
   {
    "duration": 27,
    "start_time": "2024-05-10T11:58:33.185Z"
   },
   {
    "duration": 22,
    "start_time": "2024-05-10T11:58:33.214Z"
   },
   {
    "duration": 749,
    "start_time": "2024-05-10T11:58:33.237Z"
   },
   {
    "duration": 6,
    "start_time": "2024-05-10T11:58:33.993Z"
   },
   {
    "duration": 454,
    "start_time": "2024-05-10T11:58:34.002Z"
   },
   {
    "duration": 6,
    "start_time": "2024-05-10T11:59:39.486Z"
   },
   {
    "duration": 374,
    "start_time": "2024-05-10T11:59:40.583Z"
   },
   {
    "duration": 200,
    "start_time": "2024-05-10T12:06:30.803Z"
   },
   {
    "duration": 39,
    "start_time": "2024-05-10T12:06:57.457Z"
   },
   {
    "duration": 9,
    "start_time": "2024-05-10T12:07:03.149Z"
   },
   {
    "duration": 371,
    "start_time": "2024-05-10T12:07:04.989Z"
   },
   {
    "duration": 7,
    "start_time": "2024-05-10T12:30:28.077Z"
   },
   {
    "duration": 174,
    "start_time": "2024-05-10T12:33:42.741Z"
   },
   {
    "duration": 177,
    "start_time": "2024-05-10T12:33:54.758Z"
   },
   {
    "duration": 158,
    "start_time": "2024-05-10T12:40:27.310Z"
   },
   {
    "duration": 75,
    "start_time": "2024-05-10T12:40:53.086Z"
   },
   {
    "duration": 70,
    "start_time": "2024-05-10T12:40:57.624Z"
   },
   {
    "duration": 177,
    "start_time": "2024-05-10T12:41:14.707Z"
   },
   {
    "duration": 307,
    "start_time": "2024-05-10T12:42:47.270Z"
   },
   {
    "duration": 178,
    "start_time": "2024-05-10T12:42:51.239Z"
   },
   {
    "duration": 177,
    "start_time": "2024-05-10T13:04:01.804Z"
   },
   {
    "duration": 201,
    "start_time": "2024-05-10T13:04:35.544Z"
   },
   {
    "duration": 198,
    "start_time": "2024-05-10T13:04:47.125Z"
   },
   {
    "duration": 200,
    "start_time": "2024-05-10T13:05:10.567Z"
   },
   {
    "duration": 5,
    "start_time": "2024-05-10T13:10:53.060Z"
   },
   {
    "duration": 170,
    "start_time": "2024-05-10T13:11:01.019Z"
   },
   {
    "duration": 141,
    "start_time": "2024-05-10T13:13:36.667Z"
   },
   {
    "duration": 15,
    "start_time": "2024-05-10T13:14:02.717Z"
   },
   {
    "duration": 14,
    "start_time": "2024-05-10T13:14:12.614Z"
   },
   {
    "duration": 10,
    "start_time": "2024-05-10T13:14:42.338Z"
   },
   {
    "duration": 239,
    "start_time": "2024-05-10T13:15:05.722Z"
   },
   {
    "duration": 145,
    "start_time": "2024-05-10T13:17:19.000Z"
   },
   {
    "duration": 140,
    "start_time": "2024-05-10T13:18:13.328Z"
   },
   {
    "duration": 219,
    "start_time": "2024-05-10T13:18:27.780Z"
   },
   {
    "duration": 219,
    "start_time": "2024-05-10T13:18:41.158Z"
   },
   {
    "duration": 154,
    "start_time": "2024-05-10T13:18:49.826Z"
   },
   {
    "duration": 69,
    "start_time": "2024-05-10T13:18:58.554Z"
   },
   {
    "duration": 82,
    "start_time": "2024-05-10T13:19:04.951Z"
   },
   {
    "duration": 253,
    "start_time": "2024-05-10T13:19:11.107Z"
   },
   {
    "duration": 30,
    "start_time": "2024-05-10T13:20:02.887Z"
   },
   {
    "duration": 4,
    "start_time": "2024-05-10T13:20:09.384Z"
   },
   {
    "duration": 18,
    "start_time": "2024-05-10T13:20:13.152Z"
   },
   {
    "duration": 18,
    "start_time": "2024-05-10T13:20:20.639Z"
   },
   {
    "duration": 10,
    "start_time": "2024-05-10T13:20:26.461Z"
   },
   {
    "duration": 73,
    "start_time": "2024-05-10T13:20:31.372Z"
   },
   {
    "duration": 12,
    "start_time": "2024-05-10T13:20:33.708Z"
   },
   {
    "duration": 16,
    "start_time": "2024-05-10T13:20:40.152Z"
   },
   {
    "duration": 174,
    "start_time": "2024-05-10T13:20:53.158Z"
   },
   {
    "duration": 167,
    "start_time": "2024-05-10T13:21:03.873Z"
   },
   {
    "duration": 11,
    "start_time": "2024-05-10T13:21:14.211Z"
   },
   {
    "duration": 159,
    "start_time": "2024-05-10T13:21:34.705Z"
   },
   {
    "duration": 212,
    "start_time": "2024-05-10T13:21:45.806Z"
   },
   {
    "duration": 213,
    "start_time": "2024-05-10T13:22:33.848Z"
   },
   {
    "duration": 221,
    "start_time": "2024-05-10T13:24:05.705Z"
   },
   {
    "duration": 246,
    "start_time": "2024-05-10T13:24:49.053Z"
   },
   {
    "duration": 51,
    "start_time": "2024-05-10T13:25:46.427Z"
   },
   {
    "duration": 9,
    "start_time": "2024-05-10T13:26:34.662Z"
   },
   {
    "duration": 2,
    "start_time": "2024-05-10T13:26:45.959Z"
   },
   {
    "duration": 338,
    "start_time": "2024-05-10T13:28:08.131Z"
   },
   {
    "duration": 214,
    "start_time": "2024-05-10T13:28:31.750Z"
   },
   {
    "duration": 294,
    "start_time": "2024-05-10T13:28:50.207Z"
   },
   {
    "duration": 3,
    "start_time": "2024-05-10T13:30:15.368Z"
   },
   {
    "duration": 4,
    "start_time": "2024-05-10T13:30:44.116Z"
   },
   {
    "duration": 223,
    "start_time": "2024-05-10T13:31:09.341Z"
   },
   {
    "duration": 220,
    "start_time": "2024-05-10T13:31:21.522Z"
   },
   {
    "duration": 224,
    "start_time": "2024-05-10T13:31:29.439Z"
   },
   {
    "duration": 273,
    "start_time": "2024-05-10T13:31:39.667Z"
   },
   {
    "duration": 247,
    "start_time": "2024-05-10T13:31:49.212Z"
   },
   {
    "duration": 238,
    "start_time": "2024-05-10T13:32:00.062Z"
   },
   {
    "duration": 249,
    "start_time": "2024-05-10T13:32:12.181Z"
   },
   {
    "duration": 263,
    "start_time": "2024-05-10T13:32:24.214Z"
   },
   {
    "duration": 253,
    "start_time": "2024-05-10T13:32:36.615Z"
   },
   {
    "duration": 220,
    "start_time": "2024-05-10T13:32:50.816Z"
   },
   {
    "duration": 242,
    "start_time": "2024-05-10T13:33:05.270Z"
   },
   {
    "duration": 354,
    "start_time": "2024-05-10T13:33:14.728Z"
   },
   {
    "duration": 231,
    "start_time": "2024-05-10T13:33:29.826Z"
   },
   {
    "duration": 225,
    "start_time": "2024-05-10T13:33:31.947Z"
   },
   {
    "duration": 224,
    "start_time": "2024-05-10T13:33:39.846Z"
   },
   {
    "duration": 212,
    "start_time": "2024-05-10T13:33:43.220Z"
   },
   {
    "duration": 10,
    "start_time": "2024-05-10T13:33:44.410Z"
   },
   {
    "duration": 211,
    "start_time": "2024-05-10T13:33:45.846Z"
   },
   {
    "duration": 252,
    "start_time": "2024-05-10T13:33:51.857Z"
   },
   {
    "duration": 198,
    "start_time": "2024-05-10T13:33:57.209Z"
   },
   {
    "duration": 1273,
    "start_time": "2024-05-10T13:34:14.175Z"
   },
   {
    "duration": 72,
    "start_time": "2024-05-10T13:34:15.450Z"
   },
   {
    "duration": 18,
    "start_time": "2024-05-10T13:34:15.524Z"
   },
   {
    "duration": 16,
    "start_time": "2024-05-10T13:34:15.543Z"
   },
   {
    "duration": 9,
    "start_time": "2024-05-10T13:34:15.562Z"
   },
   {
    "duration": 41,
    "start_time": "2024-05-10T13:34:15.573Z"
   },
   {
    "duration": 2,
    "start_time": "2024-05-10T13:34:15.616Z"
   },
   {
    "duration": 9,
    "start_time": "2024-05-10T13:34:15.620Z"
   },
   {
    "duration": 19,
    "start_time": "2024-05-10T13:34:15.630Z"
   },
   {
    "duration": 5,
    "start_time": "2024-05-10T13:34:15.650Z"
   },
   {
    "duration": 24,
    "start_time": "2024-05-10T13:34:15.656Z"
   },
   {
    "duration": 21,
    "start_time": "2024-05-10T13:34:15.685Z"
   },
   {
    "duration": 23,
    "start_time": "2024-05-10T13:34:15.712Z"
   },
   {
    "duration": 16,
    "start_time": "2024-05-10T13:34:15.738Z"
   },
   {
    "duration": 60,
    "start_time": "2024-05-10T13:34:15.756Z"
   },
   {
    "duration": 56,
    "start_time": "2024-05-10T13:34:15.818Z"
   },
   {
    "duration": 21,
    "start_time": "2024-05-10T13:34:15.875Z"
   },
   {
    "duration": 26,
    "start_time": "2024-05-10T13:34:15.897Z"
   },
   {
    "duration": 31,
    "start_time": "2024-05-10T13:34:15.925Z"
   },
   {
    "duration": 480,
    "start_time": "2024-05-10T13:34:15.957Z"
   },
   {
    "duration": 27,
    "start_time": "2024-05-10T13:34:16.438Z"
   },
   {
    "duration": 384,
    "start_time": "2024-05-10T13:34:16.466Z"
   },
   {
    "duration": 10,
    "start_time": "2024-05-10T13:34:16.851Z"
   },
   {
    "duration": 175,
    "start_time": "2024-05-10T13:34:16.862Z"
   },
   {
    "duration": 27,
    "start_time": "2024-05-10T13:34:17.039Z"
   },
   {
    "duration": 50,
    "start_time": "2024-05-10T13:34:17.068Z"
   },
   {
    "duration": 755,
    "start_time": "2024-05-10T13:34:17.120Z"
   },
   {
    "duration": 21,
    "start_time": "2024-05-10T13:34:17.877Z"
   },
   {
    "duration": 396,
    "start_time": "2024-05-10T13:34:17.900Z"
   },
   {
    "duration": 200,
    "start_time": "2024-05-10T13:34:18.297Z"
   },
   {
    "duration": 186,
    "start_time": "2024-05-10T13:34:18.503Z"
   },
   {
    "duration": 207,
    "start_time": "2024-05-10T13:34:18.694Z"
   },
   {
    "duration": 4,
    "start_time": "2024-05-10T13:34:56.304Z"
   },
   {
    "duration": 210,
    "start_time": "2024-05-10T13:35:03.527Z"
   },
   {
    "duration": 224,
    "start_time": "2024-05-10T13:36:06.918Z"
   },
   {
    "duration": 4,
    "start_time": "2024-05-10T13:36:24.281Z"
   },
   {
    "duration": 217,
    "start_time": "2024-05-10T13:36:34.521Z"
   },
   {
    "duration": 219,
    "start_time": "2024-05-10T13:36:40.636Z"
   },
   {
    "duration": 215,
    "start_time": "2024-05-10T13:36:43.747Z"
   },
   {
    "duration": 308,
    "start_time": "2024-05-10T13:36:50.353Z"
   },
   {
    "duration": 220,
    "start_time": "2024-05-10T13:37:05.610Z"
   },
   {
    "duration": 237,
    "start_time": "2024-05-10T13:38:11.037Z"
   },
   {
    "duration": 223,
    "start_time": "2024-05-10T13:41:02.845Z"
   },
   {
    "duration": 222,
    "start_time": "2024-05-10T13:41:23.247Z"
   },
   {
    "duration": 238,
    "start_time": "2024-05-10T13:41:37.646Z"
   },
   {
    "duration": 229,
    "start_time": "2024-05-10T13:41:50.619Z"
   },
   {
    "duration": 41,
    "start_time": "2024-05-11T07:03:12.239Z"
   },
   {
    "duration": 1122,
    "start_time": "2024-05-11T07:03:16.817Z"
   },
   {
    "duration": 187,
    "start_time": "2024-05-11T07:03:17.940Z"
   },
   {
    "duration": 14,
    "start_time": "2024-05-11T07:03:18.128Z"
   },
   {
    "duration": 19,
    "start_time": "2024-05-11T07:03:18.143Z"
   },
   {
    "duration": 7,
    "start_time": "2024-05-11T07:03:18.163Z"
   },
   {
    "duration": 13,
    "start_time": "2024-05-11T07:03:18.171Z"
   },
   {
    "duration": 16,
    "start_time": "2024-05-11T07:03:18.185Z"
   },
   {
    "duration": 6,
    "start_time": "2024-05-11T07:03:18.202Z"
   },
   {
    "duration": 13,
    "start_time": "2024-05-11T07:03:18.209Z"
   },
   {
    "duration": 4,
    "start_time": "2024-05-11T07:03:18.224Z"
   },
   {
    "duration": 20,
    "start_time": "2024-05-11T07:03:18.229Z"
   },
   {
    "duration": 8,
    "start_time": "2024-05-11T07:03:18.250Z"
   },
   {
    "duration": 12,
    "start_time": "2024-05-11T07:03:18.260Z"
   },
   {
    "duration": 4,
    "start_time": "2024-05-11T07:03:18.273Z"
   },
   {
    "duration": 10,
    "start_time": "2024-05-11T07:03:18.278Z"
   },
   {
    "duration": 15,
    "start_time": "2024-05-11T07:03:18.290Z"
   },
   {
    "duration": 11,
    "start_time": "2024-05-11T07:03:18.306Z"
   },
   {
    "duration": 13,
    "start_time": "2024-05-11T07:03:18.318Z"
   },
   {
    "duration": 25,
    "start_time": "2024-05-11T07:03:18.332Z"
   },
   {
    "duration": 305,
    "start_time": "2024-05-11T07:03:18.358Z"
   },
   {
    "duration": 34,
    "start_time": "2024-05-11T07:03:18.665Z"
   },
   {
    "duration": 251,
    "start_time": "2024-05-11T07:03:18.701Z"
   },
   {
    "duration": 9,
    "start_time": "2024-05-11T07:03:18.953Z"
   },
   {
    "duration": 116,
    "start_time": "2024-05-11T07:03:18.963Z"
   },
   {
    "duration": 21,
    "start_time": "2024-05-11T07:03:19.084Z"
   },
   {
    "duration": 17,
    "start_time": "2024-05-11T07:03:19.106Z"
   },
   {
    "duration": 573,
    "start_time": "2024-05-11T07:03:19.125Z"
   },
   {
    "duration": 6,
    "start_time": "2024-05-11T07:03:19.701Z"
   },
   {
    "duration": 282,
    "start_time": "2024-05-11T07:03:19.708Z"
   },
   {
    "duration": 146,
    "start_time": "2024-05-11T07:03:19.991Z"
   },
   {
    "duration": 150,
    "start_time": "2024-05-11T07:03:20.138Z"
   },
   {
    "duration": 184,
    "start_time": "2024-05-11T07:03:20.290Z"
   },
   {
    "duration": 22,
    "start_time": "2024-05-11T07:03:20.476Z"
   },
   {
    "duration": 20,
    "start_time": "2024-05-11T07:03:36.700Z"
   },
   {
    "duration": 13,
    "start_time": "2024-05-11T07:05:34.911Z"
   },
   {
    "duration": 95,
    "start_time": "2024-05-11T07:06:00.267Z"
   },
   {
    "duration": 14,
    "start_time": "2024-05-11T07:06:19.819Z"
   },
   {
    "duration": 15,
    "start_time": "2024-05-11T07:06:35.001Z"
   },
   {
    "duration": 13,
    "start_time": "2024-05-11T07:06:57.729Z"
   },
   {
    "duration": 15,
    "start_time": "2024-05-11T07:07:04.823Z"
   },
   {
    "duration": 14,
    "start_time": "2024-05-11T07:07:19.195Z"
   },
   {
    "duration": 109,
    "start_time": "2024-05-11T07:07:31.533Z"
   },
   {
    "duration": 110,
    "start_time": "2024-05-11T07:07:40.036Z"
   },
   {
    "duration": 16,
    "start_time": "2024-05-11T07:07:53.720Z"
   },
   {
    "duration": 128,
    "start_time": "2024-05-11T07:08:01.619Z"
   },
   {
    "duration": 111,
    "start_time": "2024-05-11T07:08:06.138Z"
   },
   {
    "duration": 118,
    "start_time": "2024-05-11T07:08:39.106Z"
   },
   {
    "duration": 169,
    "start_time": "2024-05-11T07:08:42.271Z"
   },
   {
    "duration": 124,
    "start_time": "2024-05-11T07:09:23.396Z"
   },
   {
    "duration": 135,
    "start_time": "2024-05-11T07:10:01.970Z"
   },
   {
    "duration": 132,
    "start_time": "2024-05-11T07:10:20.530Z"
   },
   {
    "duration": 123,
    "start_time": "2024-05-11T07:11:21.054Z"
   },
   {
    "duration": 120,
    "start_time": "2024-05-11T07:11:32.893Z"
   },
   {
    "duration": 6,
    "start_time": "2024-05-11T07:11:46.659Z"
   },
   {
    "duration": 121,
    "start_time": "2024-05-11T07:12:18.827Z"
   },
   {
    "duration": 136,
    "start_time": "2024-05-11T07:12:37.081Z"
   },
   {
    "duration": 134,
    "start_time": "2024-05-11T07:16:41.446Z"
   },
   {
    "duration": 122,
    "start_time": "2024-05-11T07:16:47.579Z"
   },
   {
    "duration": 129,
    "start_time": "2024-05-11T07:17:43.760Z"
   },
   {
    "duration": 124,
    "start_time": "2024-05-11T07:17:49.903Z"
   },
   {
    "duration": 124,
    "start_time": "2024-05-11T07:18:40.904Z"
   },
   {
    "duration": 131,
    "start_time": "2024-05-11T07:18:42.923Z"
   },
   {
    "duration": 6,
    "start_time": "2024-05-11T07:18:55.330Z"
   },
   {
    "duration": 337,
    "start_time": "2024-05-11T07:18:57.416Z"
   },
   {
    "duration": 61,
    "start_time": "2024-05-11T07:19:26.842Z"
   },
   {
    "duration": 264,
    "start_time": "2024-05-11T07:19:28.679Z"
   },
   {
    "duration": 4,
    "start_time": "2024-05-11T07:19:37.126Z"
   },
   {
    "duration": 267,
    "start_time": "2024-05-11T07:19:38.281Z"
   },
   {
    "duration": 127,
    "start_time": "2024-05-11T07:20:00.206Z"
   },
   {
    "duration": 132,
    "start_time": "2024-05-11T07:20:08.994Z"
   },
   {
    "duration": 24,
    "start_time": "2024-05-11T07:23:52.148Z"
   },
   {
    "duration": 9,
    "start_time": "2024-05-11T07:24:51.126Z"
   },
   {
    "duration": 16,
    "start_time": "2024-05-11T07:25:14.608Z"
   },
   {
    "duration": 11,
    "start_time": "2024-05-11T07:25:18.901Z"
   },
   {
    "duration": 135,
    "start_time": "2024-05-11T07:27:46.602Z"
   },
   {
    "duration": 5,
    "start_time": "2024-05-11T07:29:14.790Z"
   },
   {
    "duration": 244,
    "start_time": "2024-05-11T07:29:17.054Z"
   },
   {
    "duration": 4,
    "start_time": "2024-05-11T07:30:11.726Z"
   },
   {
    "duration": 195,
    "start_time": "2024-05-11T07:30:41.528Z"
   },
   {
    "duration": 4,
    "start_time": "2024-05-11T07:32:35.907Z"
   },
   {
    "duration": 4,
    "start_time": "2024-05-11T07:32:49.255Z"
   },
   {
    "duration": 141,
    "start_time": "2024-05-11T07:34:16.904Z"
   },
   {
    "duration": 132,
    "start_time": "2024-05-11T07:34:19.477Z"
   },
   {
    "duration": 122,
    "start_time": "2024-05-11T07:35:10.062Z"
   },
   {
    "duration": 209,
    "start_time": "2024-05-11T07:35:49.191Z"
   },
   {
    "duration": 134,
    "start_time": "2024-05-11T07:39:00.185Z"
   },
   {
    "duration": 128,
    "start_time": "2024-05-11T07:39:32.961Z"
   },
   {
    "duration": 127,
    "start_time": "2024-05-11T07:39:38.341Z"
   },
   {
    "duration": 10,
    "start_time": "2024-05-11T07:44:01.478Z"
   },
   {
    "duration": 26,
    "start_time": "2024-05-11T07:44:34.106Z"
   },
   {
    "duration": 24,
    "start_time": "2024-05-11T07:44:54.559Z"
   },
   {
    "duration": 7,
    "start_time": "2024-05-11T07:47:33.374Z"
   },
   {
    "duration": 8,
    "start_time": "2024-05-11T07:47:39.435Z"
   },
   {
    "duration": 11,
    "start_time": "2024-05-11T07:47:53.610Z"
   },
   {
    "duration": 13,
    "start_time": "2024-05-11T07:48:02.124Z"
   },
   {
    "duration": 16,
    "start_time": "2024-05-11T07:48:24.714Z"
   },
   {
    "duration": 16,
    "start_time": "2024-05-11T07:48:38.674Z"
   },
   {
    "duration": 136,
    "start_time": "2024-05-11T08:14:01.546Z"
   },
   {
    "duration": 136,
    "start_time": "2024-05-11T08:14:33.634Z"
   },
   {
    "duration": 140,
    "start_time": "2024-05-11T08:14:47.808Z"
   },
   {
    "duration": 146,
    "start_time": "2024-05-11T08:15:01.812Z"
   },
   {
    "duration": 23,
    "start_time": "2024-05-11T08:17:16.897Z"
   },
   {
    "duration": 167,
    "start_time": "2024-05-11T08:17:26.776Z"
   },
   {
    "duration": 70,
    "start_time": "2024-05-11T08:17:55.559Z"
   },
   {
    "duration": 74,
    "start_time": "2024-05-11T08:18:04.770Z"
   },
   {
    "duration": 22,
    "start_time": "2024-05-11T08:18:10.158Z"
   },
   {
    "duration": 22,
    "start_time": "2024-05-11T08:18:16.527Z"
   },
   {
    "duration": 18,
    "start_time": "2024-05-11T08:18:37.229Z"
   },
   {
    "duration": 64,
    "start_time": "2024-05-11T08:18:42.254Z"
   },
   {
    "duration": 107,
    "start_time": "2024-05-11T08:18:46.207Z"
   },
   {
    "duration": 151,
    "start_time": "2024-05-11T08:21:57.046Z"
   },
   {
    "duration": 156,
    "start_time": "2024-05-11T08:22:28.362Z"
   },
   {
    "duration": 166,
    "start_time": "2024-05-11T08:22:36.988Z"
   },
   {
    "duration": 28,
    "start_time": "2024-05-11T08:23:32.240Z"
   },
   {
    "duration": 22,
    "start_time": "2024-05-11T08:23:38.136Z"
   },
   {
    "duration": 164,
    "start_time": "2024-05-11T08:24:19.696Z"
   },
   {
    "duration": 171,
    "start_time": "2024-05-11T08:24:28.374Z"
   },
   {
    "duration": 165,
    "start_time": "2024-05-11T08:24:36.292Z"
   },
   {
    "duration": 116,
    "start_time": "2024-05-11T08:24:46.882Z"
   },
   {
    "duration": 173,
    "start_time": "2024-05-11T08:25:08.988Z"
   },
   {
    "duration": 289,
    "start_time": "2024-05-11T08:26:05.025Z"
   },
   {
    "duration": 193,
    "start_time": "2024-05-11T08:26:40.631Z"
   },
   {
    "duration": 190,
    "start_time": "2024-05-11T08:26:44.730Z"
   },
   {
    "duration": 181,
    "start_time": "2024-05-11T08:27:12.719Z"
   },
   {
    "duration": 1057,
    "start_time": "2024-05-11T08:27:30.568Z"
   },
   {
    "duration": 50,
    "start_time": "2024-05-11T08:27:31.626Z"
   },
   {
    "duration": 14,
    "start_time": "2024-05-11T08:27:31.677Z"
   },
   {
    "duration": 20,
    "start_time": "2024-05-11T08:27:31.692Z"
   },
   {
    "duration": 26,
    "start_time": "2024-05-11T08:27:31.713Z"
   },
   {
    "duration": 31,
    "start_time": "2024-05-11T08:27:31.741Z"
   },
   {
    "duration": 11,
    "start_time": "2024-05-11T08:27:31.773Z"
   },
   {
    "duration": 44,
    "start_time": "2024-05-11T08:27:31.785Z"
   },
   {
    "duration": 33,
    "start_time": "2024-05-11T08:27:31.830Z"
   },
   {
    "duration": 14,
    "start_time": "2024-05-11T08:27:31.865Z"
   },
   {
    "duration": 16,
    "start_time": "2024-05-11T08:27:31.880Z"
   },
   {
    "duration": 13,
    "start_time": "2024-05-11T08:27:31.897Z"
   },
   {
    "duration": 27,
    "start_time": "2024-05-11T08:27:31.912Z"
   },
   {
    "duration": 3,
    "start_time": "2024-05-11T08:27:31.940Z"
   },
   {
    "duration": 15,
    "start_time": "2024-05-11T08:27:31.944Z"
   },
   {
    "duration": 5,
    "start_time": "2024-05-11T08:27:31.960Z"
   },
   {
    "duration": 13,
    "start_time": "2024-05-11T08:27:31.966Z"
   },
   {
    "duration": 13,
    "start_time": "2024-05-11T08:27:31.980Z"
   },
   {
    "duration": 12,
    "start_time": "2024-05-11T08:27:31.994Z"
   },
   {
    "duration": 337,
    "start_time": "2024-05-11T08:27:32.007Z"
   },
   {
    "duration": 19,
    "start_time": "2024-05-11T08:27:32.345Z"
   },
   {
    "duration": 282,
    "start_time": "2024-05-11T08:27:32.366Z"
   },
   {
    "duration": 7,
    "start_time": "2024-05-11T08:27:32.650Z"
   },
   {
    "duration": 144,
    "start_time": "2024-05-11T08:27:32.659Z"
   },
   {
    "duration": 22,
    "start_time": "2024-05-11T08:27:32.805Z"
   },
   {
    "duration": 18,
    "start_time": "2024-05-11T08:27:32.828Z"
   },
   {
    "duration": 577,
    "start_time": "2024-05-11T08:27:32.847Z"
   },
   {
    "duration": 5,
    "start_time": "2024-05-11T08:27:33.428Z"
   },
   {
    "duration": 266,
    "start_time": "2024-05-11T08:27:33.435Z"
   },
   {
    "duration": 156,
    "start_time": "2024-05-11T08:27:33.702Z"
   },
   {
    "duration": 149,
    "start_time": "2024-05-11T08:27:33.860Z"
   },
   {
    "duration": 184,
    "start_time": "2024-05-11T08:27:34.010Z"
   },
   {
    "duration": 135,
    "start_time": "2024-05-11T08:27:34.195Z"
   },
   {
    "duration": 134,
    "start_time": "2024-05-11T08:27:34.331Z"
   },
   {
    "duration": 130,
    "start_time": "2024-05-11T08:27:34.466Z"
   },
   {
    "duration": 139,
    "start_time": "2024-05-11T08:27:34.597Z"
   },
   {
    "duration": 150,
    "start_time": "2024-05-11T08:27:34.737Z"
   },
   {
    "duration": 190,
    "start_time": "2024-05-11T08:27:34.889Z"
   },
   {
    "duration": 193,
    "start_time": "2024-05-11T08:27:35.081Z"
   },
   {
    "duration": 134,
    "start_time": "2024-05-11T08:31:57.876Z"
   },
   {
    "duration": 36,
    "start_time": "2024-05-11T08:32:22.667Z"
   },
   {
    "duration": 13,
    "start_time": "2024-05-11T08:32:37.598Z"
   },
   {
    "duration": 2,
    "start_time": "2024-05-11T08:33:10.809Z"
   },
   {
    "duration": 1036,
    "start_time": "2024-05-11T08:33:16.007Z"
   },
   {
    "duration": 51,
    "start_time": "2024-05-11T08:33:17.044Z"
   },
   {
    "duration": 14,
    "start_time": "2024-05-11T08:33:17.096Z"
   },
   {
    "duration": 14,
    "start_time": "2024-05-11T08:33:17.111Z"
   },
   {
    "duration": 7,
    "start_time": "2024-05-11T08:33:17.126Z"
   },
   {
    "duration": 16,
    "start_time": "2024-05-11T08:33:17.134Z"
   },
   {
    "duration": 2,
    "start_time": "2024-05-11T08:33:17.151Z"
   },
   {
    "duration": 16,
    "start_time": "2024-05-11T08:33:17.154Z"
   },
   {
    "duration": 24,
    "start_time": "2024-05-11T08:33:17.171Z"
   },
   {
    "duration": 6,
    "start_time": "2024-05-11T08:33:17.196Z"
   },
   {
    "duration": 17,
    "start_time": "2024-05-11T08:33:17.203Z"
   },
   {
    "duration": 14,
    "start_time": "2024-05-11T08:33:17.222Z"
   },
   {
    "duration": 14,
    "start_time": "2024-05-11T08:33:17.238Z"
   },
   {
    "duration": 3,
    "start_time": "2024-05-11T08:33:17.253Z"
   },
   {
    "duration": 27,
    "start_time": "2024-05-11T08:33:17.257Z"
   },
   {
    "duration": 5,
    "start_time": "2024-05-11T08:33:17.286Z"
   },
   {
    "duration": 11,
    "start_time": "2024-05-11T08:33:17.293Z"
   },
   {
    "duration": 14,
    "start_time": "2024-05-11T08:33:17.305Z"
   },
   {
    "duration": 11,
    "start_time": "2024-05-11T08:33:17.320Z"
   },
   {
    "duration": 371,
    "start_time": "2024-05-11T08:33:17.332Z"
   },
   {
    "duration": 26,
    "start_time": "2024-05-11T08:33:17.705Z"
   },
   {
    "duration": 267,
    "start_time": "2024-05-11T08:33:17.733Z"
   },
   {
    "duration": 8,
    "start_time": "2024-05-11T08:33:18.001Z"
   },
   {
    "duration": 126,
    "start_time": "2024-05-11T08:33:18.010Z"
   },
   {
    "duration": 22,
    "start_time": "2024-05-11T08:33:18.137Z"
   },
   {
    "duration": 33,
    "start_time": "2024-05-11T08:33:18.160Z"
   },
   {
    "duration": 572,
    "start_time": "2024-05-11T08:33:18.194Z"
   },
   {
    "duration": 17,
    "start_time": "2024-05-11T08:33:18.769Z"
   },
   {
    "duration": 288,
    "start_time": "2024-05-11T08:33:18.787Z"
   },
   {
    "duration": 149,
    "start_time": "2024-05-11T08:33:19.077Z"
   },
   {
    "duration": 156,
    "start_time": "2024-05-11T08:33:19.228Z"
   },
   {
    "duration": 192,
    "start_time": "2024-05-11T08:33:19.385Z"
   },
   {
    "duration": 148,
    "start_time": "2024-05-11T08:33:19.579Z"
   },
   {
    "duration": 135,
    "start_time": "2024-05-11T08:33:19.729Z"
   },
   {
    "duration": 137,
    "start_time": "2024-05-11T08:33:19.865Z"
   },
   {
    "duration": 161,
    "start_time": "2024-05-11T08:33:20.003Z"
   },
   {
    "duration": 142,
    "start_time": "2024-05-11T08:33:20.165Z"
   },
   {
    "duration": 194,
    "start_time": "2024-05-11T08:33:20.308Z"
   },
   {
    "duration": 205,
    "start_time": "2024-05-11T08:33:20.503Z"
   },
   {
    "duration": 120,
    "start_time": "2024-05-11T08:33:20.709Z"
   },
   {
    "duration": 13,
    "start_time": "2024-05-11T08:34:42.591Z"
   },
   {
    "duration": 10,
    "start_time": "2024-05-11T08:35:16.008Z"
   },
   {
    "duration": 12,
    "start_time": "2024-05-11T08:35:59.781Z"
   },
   {
    "duration": 8,
    "start_time": "2024-05-11T08:36:08.582Z"
   },
   {
    "duration": 9,
    "start_time": "2024-05-11T08:36:16.654Z"
   },
   {
    "duration": 9,
    "start_time": "2024-05-11T08:36:27.441Z"
   },
   {
    "duration": 4,
    "start_time": "2024-05-11T08:36:34.408Z"
   },
   {
    "duration": 4,
    "start_time": "2024-05-11T08:36:38.935Z"
   },
   {
    "duration": 4,
    "start_time": "2024-05-11T08:36:44.790Z"
   },
   {
    "duration": 7,
    "start_time": "2024-05-11T08:39:54.974Z"
   },
   {
    "duration": 4,
    "start_time": "2024-05-11T08:40:03.087Z"
   },
   {
    "duration": 4,
    "start_time": "2024-05-11T08:40:25.244Z"
   },
   {
    "duration": 4,
    "start_time": "2024-05-11T08:40:31.111Z"
   },
   {
    "duration": 7,
    "start_time": "2024-05-11T08:40:48.192Z"
   },
   {
    "duration": 10,
    "start_time": "2024-05-11T08:40:52.552Z"
   },
   {
    "duration": 9,
    "start_time": "2024-05-11T08:40:57.295Z"
   },
   {
    "duration": 3,
    "start_time": "2024-05-11T08:40:59.845Z"
   },
   {
    "duration": 8,
    "start_time": "2024-05-11T08:41:09.725Z"
   },
   {
    "duration": 3,
    "start_time": "2024-05-11T08:41:12.426Z"
   },
   {
    "duration": 8,
    "start_time": "2024-05-11T08:41:30.115Z"
   },
   {
    "duration": 5,
    "start_time": "2024-05-11T08:41:31.278Z"
   },
   {
    "duration": 8,
    "start_time": "2024-05-11T08:45:05.666Z"
   },
   {
    "duration": 8,
    "start_time": "2024-05-11T08:45:29.100Z"
   },
   {
    "duration": 4,
    "start_time": "2024-05-11T08:51:44.481Z"
   },
   {
    "duration": 20,
    "start_time": "2024-05-11T08:59:38.536Z"
   },
   {
    "duration": 1000,
    "start_time": "2024-05-11T08:59:43.021Z"
   },
   {
    "duration": 48,
    "start_time": "2024-05-11T08:59:44.023Z"
   },
   {
    "duration": 14,
    "start_time": "2024-05-11T08:59:44.072Z"
   },
   {
    "duration": 16,
    "start_time": "2024-05-11T08:59:44.088Z"
   },
   {
    "duration": 7,
    "start_time": "2024-05-11T08:59:44.105Z"
   },
   {
    "duration": 13,
    "start_time": "2024-05-11T08:59:44.113Z"
   },
   {
    "duration": 3,
    "start_time": "2024-05-11T08:59:44.127Z"
   },
   {
    "duration": 4,
    "start_time": "2024-05-11T08:59:44.131Z"
   },
   {
    "duration": 14,
    "start_time": "2024-05-11T08:59:44.136Z"
   },
   {
    "duration": 4,
    "start_time": "2024-05-11T08:59:44.152Z"
   },
   {
    "duration": 34,
    "start_time": "2024-05-11T08:59:44.158Z"
   },
   {
    "duration": 4,
    "start_time": "2024-05-11T08:59:44.194Z"
   },
   {
    "duration": 13,
    "start_time": "2024-05-11T08:59:44.200Z"
   },
   {
    "duration": 12,
    "start_time": "2024-05-11T08:59:44.214Z"
   },
   {
    "duration": 8,
    "start_time": "2024-05-11T08:59:44.227Z"
   },
   {
    "duration": 15,
    "start_time": "2024-05-11T08:59:44.236Z"
   },
   {
    "duration": 12,
    "start_time": "2024-05-11T08:59:44.252Z"
   },
   {
    "duration": 19,
    "start_time": "2024-05-11T08:59:44.265Z"
   },
   {
    "duration": 11,
    "start_time": "2024-05-11T08:59:44.285Z"
   },
   {
    "duration": 336,
    "start_time": "2024-05-11T08:59:44.297Z"
   },
   {
    "duration": 20,
    "start_time": "2024-05-11T08:59:44.635Z"
   },
   {
    "duration": 276,
    "start_time": "2024-05-11T08:59:44.656Z"
   },
   {
    "duration": 8,
    "start_time": "2024-05-11T08:59:44.933Z"
   },
   {
    "duration": 124,
    "start_time": "2024-05-11T08:59:44.942Z"
   },
   {
    "duration": 24,
    "start_time": "2024-05-11T08:59:45.067Z"
   },
   {
    "duration": 27,
    "start_time": "2024-05-11T08:59:45.092Z"
   },
   {
    "duration": 559,
    "start_time": "2024-05-11T08:59:45.121Z"
   },
   {
    "duration": 5,
    "start_time": "2024-05-11T08:59:45.683Z"
   },
   {
    "duration": 256,
    "start_time": "2024-05-11T08:59:45.689Z"
   },
   {
    "duration": 151,
    "start_time": "2024-05-11T08:59:45.947Z"
   },
   {
    "duration": 149,
    "start_time": "2024-05-11T08:59:46.099Z"
   },
   {
    "duration": 188,
    "start_time": "2024-05-11T08:59:46.249Z"
   },
   {
    "duration": 137,
    "start_time": "2024-05-11T08:59:46.438Z"
   },
   {
    "duration": 149,
    "start_time": "2024-05-11T08:59:46.576Z"
   },
   {
    "duration": 129,
    "start_time": "2024-05-11T08:59:46.727Z"
   },
   {
    "duration": 145,
    "start_time": "2024-05-11T08:59:46.858Z"
   },
   {
    "duration": 142,
    "start_time": "2024-05-11T08:59:47.004Z"
   },
   {
    "duration": 186,
    "start_time": "2024-05-11T08:59:47.147Z"
   },
   {
    "duration": 192,
    "start_time": "2024-05-11T08:59:47.335Z"
   },
   {
    "duration": 8,
    "start_time": "2024-05-11T08:59:47.529Z"
   },
   {
    "duration": 12,
    "start_time": "2024-05-11T08:59:47.538Z"
   },
   {
    "duration": 9,
    "start_time": "2024-05-11T08:59:47.552Z"
   },
   {
    "duration": 5,
    "start_time": "2024-05-11T08:59:47.562Z"
   },
   {
    "duration": 1001,
    "start_time": "2024-05-11T09:00:35.444Z"
   },
   {
    "duration": 50,
    "start_time": "2024-05-11T09:00:36.447Z"
   },
   {
    "duration": 15,
    "start_time": "2024-05-11T09:00:36.498Z"
   },
   {
    "duration": 11,
    "start_time": "2024-05-11T09:00:36.515Z"
   },
   {
    "duration": 18,
    "start_time": "2024-05-11T09:00:36.528Z"
   },
   {
    "duration": 23,
    "start_time": "2024-05-11T09:00:36.547Z"
   },
   {
    "duration": 57,
    "start_time": "2024-05-11T09:00:36.572Z"
   },
   {
    "duration": 63,
    "start_time": "2024-05-11T09:00:36.630Z"
   },
   {
    "duration": 119,
    "start_time": "2024-05-11T09:00:36.695Z"
   },
   {
    "duration": 16,
    "start_time": "2024-05-11T09:00:36.816Z"
   },
   {
    "duration": 30,
    "start_time": "2024-05-11T09:00:36.833Z"
   },
   {
    "duration": 10,
    "start_time": "2024-05-11T09:00:36.864Z"
   },
   {
    "duration": 21,
    "start_time": "2024-05-11T09:00:36.875Z"
   },
   {
    "duration": 14,
    "start_time": "2024-05-11T09:00:36.897Z"
   },
   {
    "duration": 6,
    "start_time": "2024-05-11T09:00:36.912Z"
   },
   {
    "duration": 8,
    "start_time": "2024-05-11T09:00:36.920Z"
   },
   {
    "duration": 8,
    "start_time": "2024-05-11T09:00:36.929Z"
   },
   {
    "duration": 39,
    "start_time": "2024-05-11T09:00:36.938Z"
   },
   {
    "duration": 10,
    "start_time": "2024-05-11T09:00:36.979Z"
   },
   {
    "duration": 338,
    "start_time": "2024-05-11T09:00:36.990Z"
   },
   {
    "duration": 21,
    "start_time": "2024-05-11T09:00:37.330Z"
   },
   {
    "duration": 271,
    "start_time": "2024-05-11T09:00:37.352Z"
   },
   {
    "duration": 8,
    "start_time": "2024-05-11T09:00:37.624Z"
   },
   {
    "duration": 123,
    "start_time": "2024-05-11T09:00:37.633Z"
   },
   {
    "duration": 28,
    "start_time": "2024-05-11T09:00:37.757Z"
   },
   {
    "duration": 17,
    "start_time": "2024-05-11T09:00:37.786Z"
   },
   {
    "duration": 566,
    "start_time": "2024-05-11T09:00:37.804Z"
   },
   {
    "duration": 5,
    "start_time": "2024-05-11T09:00:38.373Z"
   },
   {
    "duration": 262,
    "start_time": "2024-05-11T09:00:38.378Z"
   },
   {
    "duration": 158,
    "start_time": "2024-05-11T09:00:38.641Z"
   },
   {
    "duration": 155,
    "start_time": "2024-05-11T09:00:38.800Z"
   },
   {
    "duration": 191,
    "start_time": "2024-05-11T09:00:38.957Z"
   },
   {
    "duration": 148,
    "start_time": "2024-05-11T09:00:39.150Z"
   },
   {
    "duration": 140,
    "start_time": "2024-05-11T09:00:39.299Z"
   },
   {
    "duration": 141,
    "start_time": "2024-05-11T09:00:39.440Z"
   },
   {
    "duration": 143,
    "start_time": "2024-05-11T09:00:39.584Z"
   },
   {
    "duration": 146,
    "start_time": "2024-05-11T09:00:39.728Z"
   },
   {
    "duration": 197,
    "start_time": "2024-05-11T09:00:39.876Z"
   },
   {
    "duration": 196,
    "start_time": "2024-05-11T09:00:40.075Z"
   },
   {
    "duration": 14,
    "start_time": "2024-05-11T09:00:40.272Z"
   },
   {
    "duration": 13,
    "start_time": "2024-05-11T09:00:40.287Z"
   },
   {
    "duration": 11,
    "start_time": "2024-05-11T09:00:40.301Z"
   },
   {
    "duration": 20,
    "start_time": "2024-05-11T09:00:40.314Z"
   },
   {
    "duration": 1047,
    "start_time": "2024-05-11T09:25:24.784Z"
   },
   {
    "duration": 50,
    "start_time": "2024-05-11T09:25:25.832Z"
   },
   {
    "duration": 14,
    "start_time": "2024-05-11T09:25:25.883Z"
   },
   {
    "duration": 37,
    "start_time": "2024-05-11T09:25:25.898Z"
   },
   {
    "duration": 13,
    "start_time": "2024-05-11T09:25:25.937Z"
   },
   {
    "duration": 27,
    "start_time": "2024-05-11T09:25:25.951Z"
   },
   {
    "duration": 7,
    "start_time": "2024-05-11T09:25:25.979Z"
   },
   {
    "duration": 10,
    "start_time": "2024-05-11T09:25:25.987Z"
   },
   {
    "duration": 19,
    "start_time": "2024-05-11T09:25:25.998Z"
   },
   {
    "duration": 15,
    "start_time": "2024-05-11T09:25:26.019Z"
   },
   {
    "duration": 10,
    "start_time": "2024-05-11T09:25:26.035Z"
   },
   {
    "duration": 5,
    "start_time": "2024-05-11T09:25:26.046Z"
   },
   {
    "duration": 14,
    "start_time": "2024-05-11T09:25:26.052Z"
   },
   {
    "duration": 12,
    "start_time": "2024-05-11T09:25:26.067Z"
   },
   {
    "duration": 13,
    "start_time": "2024-05-11T09:25:26.080Z"
   },
   {
    "duration": 9,
    "start_time": "2024-05-11T09:25:26.094Z"
   },
   {
    "duration": 8,
    "start_time": "2024-05-11T09:25:26.104Z"
   },
   {
    "duration": 20,
    "start_time": "2024-05-11T09:25:26.113Z"
   },
   {
    "duration": 34,
    "start_time": "2024-05-11T09:25:26.134Z"
   },
   {
    "duration": 310,
    "start_time": "2024-05-11T09:25:26.169Z"
   },
   {
    "duration": 21,
    "start_time": "2024-05-11T09:25:26.483Z"
   },
   {
    "duration": 249,
    "start_time": "2024-05-11T09:25:26.505Z"
   },
   {
    "duration": 8,
    "start_time": "2024-05-11T09:25:26.755Z"
   },
   {
    "duration": 126,
    "start_time": "2024-05-11T09:25:26.764Z"
   },
   {
    "duration": 20,
    "start_time": "2024-05-11T09:25:26.892Z"
   },
   {
    "duration": 16,
    "start_time": "2024-05-11T09:25:26.913Z"
   },
   {
    "duration": 554,
    "start_time": "2024-05-11T09:25:26.931Z"
   },
   {
    "duration": 5,
    "start_time": "2024-05-11T09:25:27.488Z"
   },
   {
    "duration": 252,
    "start_time": "2024-05-11T09:25:27.494Z"
   },
   {
    "duration": 140,
    "start_time": "2024-05-11T09:25:27.747Z"
   },
   {
    "duration": 160,
    "start_time": "2024-05-11T09:25:27.888Z"
   },
   {
    "duration": 179,
    "start_time": "2024-05-11T09:25:28.049Z"
   },
   {
    "duration": 137,
    "start_time": "2024-05-11T09:25:28.229Z"
   },
   {
    "duration": 131,
    "start_time": "2024-05-11T09:25:28.367Z"
   },
   {
    "duration": 127,
    "start_time": "2024-05-11T09:25:28.499Z"
   },
   {
    "duration": 136,
    "start_time": "2024-05-11T09:25:28.628Z"
   },
   {
    "duration": 134,
    "start_time": "2024-05-11T09:25:28.765Z"
   },
   {
    "duration": 183,
    "start_time": "2024-05-11T09:25:28.901Z"
   },
   {
    "duration": 201,
    "start_time": "2024-05-11T09:25:29.085Z"
   },
   {
    "duration": 8,
    "start_time": "2024-05-11T09:25:29.288Z"
   },
   {
    "duration": 6,
    "start_time": "2024-05-11T09:25:29.297Z"
   },
   {
    "duration": 29,
    "start_time": "2024-05-11T09:25:29.304Z"
   },
   {
    "duration": 4,
    "start_time": "2024-05-11T09:25:29.335Z"
   },
   {
    "duration": 73,
    "start_time": "2024-05-11T12:24:44.216Z"
   },
   {
    "duration": 56,
    "start_time": "2024-05-11T12:25:24.088Z"
   },
   {
    "duration": 6,
    "start_time": "2024-05-11T12:25:32.613Z"
   },
   {
    "duration": 6,
    "start_time": "2024-05-11T12:25:39.808Z"
   },
   {
    "duration": 1375,
    "start_time": "2024-05-11T12:25:44.719Z"
   },
   {
    "duration": 201,
    "start_time": "2024-05-11T12:25:46.096Z"
   },
   {
    "duration": 19,
    "start_time": "2024-05-11T12:25:46.299Z"
   },
   {
    "duration": 18,
    "start_time": "2024-05-11T12:25:46.321Z"
   },
   {
    "duration": 11,
    "start_time": "2024-05-11T12:25:46.341Z"
   },
   {
    "duration": 41,
    "start_time": "2024-05-11T12:25:46.353Z"
   },
   {
    "duration": 3,
    "start_time": "2024-05-11T12:25:46.396Z"
   },
   {
    "duration": 5,
    "start_time": "2024-05-11T12:25:46.402Z"
   },
   {
    "duration": 24,
    "start_time": "2024-05-11T12:25:46.409Z"
   },
   {
    "duration": 5,
    "start_time": "2024-05-11T12:25:46.436Z"
   },
   {
    "duration": 37,
    "start_time": "2024-05-11T12:25:46.443Z"
   },
   {
    "duration": 17,
    "start_time": "2024-05-11T12:25:46.482Z"
   },
   {
    "duration": 25,
    "start_time": "2024-05-11T12:25:46.502Z"
   },
   {
    "duration": 47,
    "start_time": "2024-05-11T12:25:46.528Z"
   },
   {
    "duration": 18,
    "start_time": "2024-05-11T12:25:46.578Z"
   },
   {
    "duration": 12,
    "start_time": "2024-05-11T12:25:46.598Z"
   },
   {
    "duration": 8,
    "start_time": "2024-05-11T12:25:46.612Z"
   },
   {
    "duration": 25,
    "start_time": "2024-05-11T12:25:46.622Z"
   },
   {
    "duration": 28,
    "start_time": "2024-05-11T12:25:46.651Z"
   },
   {
    "duration": 417,
    "start_time": "2024-05-11T12:25:46.681Z"
   },
   {
    "duration": 26,
    "start_time": "2024-05-11T12:25:47.099Z"
   },
   {
    "duration": 316,
    "start_time": "2024-05-11T12:25:47.126Z"
   },
   {
    "duration": 10,
    "start_time": "2024-05-11T12:25:47.443Z"
   },
   {
    "duration": 157,
    "start_time": "2024-05-11T12:25:47.454Z"
   },
   {
    "duration": 25,
    "start_time": "2024-05-11T12:25:47.612Z"
   },
   {
    "duration": 41,
    "start_time": "2024-05-11T12:25:47.639Z"
   },
   {
    "duration": 742,
    "start_time": "2024-05-11T12:25:47.682Z"
   },
   {
    "duration": 6,
    "start_time": "2024-05-11T12:25:48.428Z"
   },
   {
    "duration": 328,
    "start_time": "2024-05-11T12:25:48.435Z"
   },
   {
    "duration": 174,
    "start_time": "2024-05-11T12:25:48.769Z"
   },
   {
    "duration": 180,
    "start_time": "2024-05-11T12:25:48.945Z"
   },
   {
    "duration": 247,
    "start_time": "2024-05-11T12:25:49.127Z"
   },
   {
    "duration": 181,
    "start_time": "2024-05-11T12:25:49.375Z"
   },
   {
    "duration": 173,
    "start_time": "2024-05-11T12:25:49.558Z"
   },
   {
    "duration": 169,
    "start_time": "2024-05-11T12:25:49.733Z"
   },
   {
    "duration": 194,
    "start_time": "2024-05-11T12:25:49.904Z"
   },
   {
    "duration": 182,
    "start_time": "2024-05-11T12:25:50.100Z"
   },
   {
    "duration": 282,
    "start_time": "2024-05-11T12:25:50.284Z"
   },
   {
    "duration": 245,
    "start_time": "2024-05-11T12:25:50.570Z"
   },
   {
    "duration": 10,
    "start_time": "2024-05-11T12:25:50.817Z"
   },
   {
    "duration": 13,
    "start_time": "2024-05-11T12:25:50.828Z"
   },
   {
    "duration": 13,
    "start_time": "2024-05-11T12:25:50.842Z"
   },
   {
    "duration": 4,
    "start_time": "2024-05-11T12:25:50.869Z"
   },
   {
    "duration": 9,
    "start_time": "2024-05-11T12:26:03.924Z"
   },
   {
    "duration": 1193,
    "start_time": "2024-05-11T12:26:12.474Z"
   },
   {
    "duration": 55,
    "start_time": "2024-05-11T12:26:13.668Z"
   },
   {
    "duration": 17,
    "start_time": "2024-05-11T12:26:13.725Z"
   },
   {
    "duration": 20,
    "start_time": "2024-05-11T12:26:13.744Z"
   },
   {
    "duration": 11,
    "start_time": "2024-05-11T12:26:13.769Z"
   },
   {
    "duration": 26,
    "start_time": "2024-05-11T12:26:13.781Z"
   },
   {
    "duration": 3,
    "start_time": "2024-05-11T12:26:13.808Z"
   },
   {
    "duration": 6,
    "start_time": "2024-05-11T12:26:13.812Z"
   },
   {
    "duration": 17,
    "start_time": "2024-05-11T12:26:13.820Z"
   },
   {
    "duration": 8,
    "start_time": "2024-05-11T12:26:13.840Z"
   },
   {
    "duration": 36,
    "start_time": "2024-05-11T12:26:13.850Z"
   },
   {
    "duration": 15,
    "start_time": "2024-05-11T12:26:13.888Z"
   },
   {
    "duration": 19,
    "start_time": "2024-05-11T12:26:13.905Z"
   },
   {
    "duration": 16,
    "start_time": "2024-05-11T12:26:13.925Z"
   },
   {
    "duration": 27,
    "start_time": "2024-05-11T12:26:13.942Z"
   },
   {
    "duration": 12,
    "start_time": "2024-05-11T12:26:13.971Z"
   },
   {
    "duration": 9,
    "start_time": "2024-05-11T12:26:13.985Z"
   },
   {
    "duration": 31,
    "start_time": "2024-05-11T12:26:13.996Z"
   },
   {
    "duration": 14,
    "start_time": "2024-05-11T12:26:14.029Z"
   },
   {
    "duration": 471,
    "start_time": "2024-05-11T12:26:14.045Z"
   },
   {
    "duration": 24,
    "start_time": "2024-05-11T12:26:14.518Z"
   },
   {
    "duration": 345,
    "start_time": "2024-05-11T12:26:14.543Z"
   },
   {
    "duration": 10,
    "start_time": "2024-05-11T12:26:14.890Z"
   },
   {
    "duration": 148,
    "start_time": "2024-05-11T12:26:14.901Z"
   },
   {
    "duration": 30,
    "start_time": "2024-05-11T12:26:15.051Z"
   },
   {
    "duration": 40,
    "start_time": "2024-05-11T12:26:15.083Z"
   },
   {
    "duration": 736,
    "start_time": "2024-05-11T12:26:15.125Z"
   },
   {
    "duration": 5,
    "start_time": "2024-05-11T12:26:15.870Z"
   },
   {
    "duration": 306,
    "start_time": "2024-05-11T12:26:15.877Z"
   },
   {
    "duration": 186,
    "start_time": "2024-05-11T12:26:16.185Z"
   },
   {
    "duration": 190,
    "start_time": "2024-05-11T12:26:16.372Z"
   },
   {
    "duration": 236,
    "start_time": "2024-05-11T12:26:16.564Z"
   },
   {
    "duration": 176,
    "start_time": "2024-05-11T12:26:16.801Z"
   },
   {
    "duration": 165,
    "start_time": "2024-05-11T12:26:16.978Z"
   },
   {
    "duration": 167,
    "start_time": "2024-05-11T12:26:17.144Z"
   },
   {
    "duration": 174,
    "start_time": "2024-05-11T12:26:17.312Z"
   },
   {
    "duration": 170,
    "start_time": "2024-05-11T12:26:17.488Z"
   },
   {
    "duration": 264,
    "start_time": "2024-05-11T12:26:17.659Z"
   },
   {
    "duration": 259,
    "start_time": "2024-05-11T12:26:17.926Z"
   },
   {
    "duration": 10,
    "start_time": "2024-05-11T12:26:18.186Z"
   },
   {
    "duration": 6,
    "start_time": "2024-05-11T12:26:18.198Z"
   },
   {
    "duration": 13,
    "start_time": "2024-05-11T12:26:18.206Z"
   },
   {
    "duration": 5,
    "start_time": "2024-05-11T12:26:18.220Z"
   },
   {
    "duration": 1266,
    "start_time": "2024-05-11T12:32:51.731Z"
   },
   {
    "duration": 56,
    "start_time": "2024-05-11T12:32:53.000Z"
   },
   {
    "duration": 26,
    "start_time": "2024-05-11T12:32:53.058Z"
   },
   {
    "duration": 16,
    "start_time": "2024-05-11T12:32:53.086Z"
   },
   {
    "duration": 10,
    "start_time": "2024-05-11T12:32:53.103Z"
   },
   {
    "duration": 22,
    "start_time": "2024-05-11T12:32:53.115Z"
   },
   {
    "duration": 4,
    "start_time": "2024-05-11T12:32:53.139Z"
   },
   {
    "duration": 25,
    "start_time": "2024-05-11T12:32:53.145Z"
   },
   {
    "duration": 29,
    "start_time": "2024-05-11T12:32:53.171Z"
   },
   {
    "duration": 12,
    "start_time": "2024-05-11T12:32:53.203Z"
   },
   {
    "duration": 14,
    "start_time": "2024-05-11T12:32:53.217Z"
   },
   {
    "duration": 10,
    "start_time": "2024-05-11T12:32:53.233Z"
   },
   {
    "duration": 33,
    "start_time": "2024-05-11T12:32:53.245Z"
   },
   {
    "duration": 19,
    "start_time": "2024-05-11T12:32:53.280Z"
   },
   {
    "duration": 4,
    "start_time": "2024-05-11T12:32:53.301Z"
   },
   {
    "duration": 14,
    "start_time": "2024-05-11T12:32:53.307Z"
   },
   {
    "duration": 8,
    "start_time": "2024-05-11T12:32:53.322Z"
   },
   {
    "duration": 26,
    "start_time": "2024-05-11T12:32:53.332Z"
   },
   {
    "duration": 14,
    "start_time": "2024-05-11T12:32:53.369Z"
   },
   {
    "duration": 422,
    "start_time": "2024-05-11T12:32:53.385Z"
   },
   {
    "duration": 26,
    "start_time": "2024-05-11T12:32:53.808Z"
   },
   {
    "duration": 322,
    "start_time": "2024-05-11T12:32:53.835Z"
   },
   {
    "duration": 13,
    "start_time": "2024-05-11T12:32:54.159Z"
   },
   {
    "duration": 153,
    "start_time": "2024-05-11T12:32:54.174Z"
   },
   {
    "duration": 42,
    "start_time": "2024-05-11T12:32:54.329Z"
   },
   {
    "duration": 25,
    "start_time": "2024-05-11T12:32:54.373Z"
   },
   {
    "duration": 732,
    "start_time": "2024-05-11T12:32:54.400Z"
   },
   {
    "duration": 6,
    "start_time": "2024-05-11T12:32:55.136Z"
   },
   {
    "duration": 336,
    "start_time": "2024-05-11T12:32:55.143Z"
   },
   {
    "duration": 177,
    "start_time": "2024-05-11T12:32:55.480Z"
   },
   {
    "duration": 186,
    "start_time": "2024-05-11T12:32:55.659Z"
   },
   {
    "duration": 242,
    "start_time": "2024-05-11T12:32:55.847Z"
   },
   {
    "duration": 179,
    "start_time": "2024-05-11T12:32:56.090Z"
   },
   {
    "duration": 171,
    "start_time": "2024-05-11T12:32:56.271Z"
   },
   {
    "duration": 159,
    "start_time": "2024-05-11T12:32:56.443Z"
   },
   {
    "duration": 167,
    "start_time": "2024-05-11T12:32:56.604Z"
   },
   {
    "duration": 174,
    "start_time": "2024-05-11T12:32:56.773Z"
   },
   {
    "duration": 266,
    "start_time": "2024-05-11T12:32:56.949Z"
   },
   {
    "duration": 245,
    "start_time": "2024-05-11T12:32:57.217Z"
   },
   {
    "duration": 13,
    "start_time": "2024-05-11T12:32:57.464Z"
   },
   {
    "duration": 58,
    "start_time": "2024-05-11T12:32:57.479Z"
   },
   {
    "duration": 22,
    "start_time": "2024-05-11T12:32:57.539Z"
   },
   {
    "duration": 31,
    "start_time": "2024-05-11T12:32:57.563Z"
   },
   {
    "duration": 24,
    "start_time": "2024-05-11T12:34:19.295Z"
   },
   {
    "duration": 35,
    "start_time": "2024-05-11T12:34:58.751Z"
   },
   {
    "duration": 25,
    "start_time": "2024-05-11T12:35:21.555Z"
   },
   {
    "duration": 119,
    "start_time": "2024-05-11T12:35:36.809Z"
   },
   {
    "duration": 18,
    "start_time": "2024-05-11T12:36:35.709Z"
   },
   {
    "duration": 21,
    "start_time": "2024-05-11T12:37:10.968Z"
   },
   {
    "duration": 26,
    "start_time": "2024-05-11T12:37:16.991Z"
   },
   {
    "duration": 20,
    "start_time": "2024-05-11T12:37:27.843Z"
   },
   {
    "duration": 23,
    "start_time": "2024-05-11T12:37:34.430Z"
   },
   {
    "duration": 283,
    "start_time": "2024-05-11T12:37:58.092Z"
   },
   {
    "duration": 182,
    "start_time": "2024-05-11T12:38:23.990Z"
   },
   {
    "duration": 4,
    "start_time": "2024-05-11T12:40:41.547Z"
   },
   {
    "duration": 10,
    "start_time": "2024-05-11T12:40:50.869Z"
   },
   {
    "duration": 1059,
    "start_time": "2024-05-11T12:41:25.714Z"
   },
   {
    "duration": 56,
    "start_time": "2024-05-11T12:41:26.775Z"
   },
   {
    "duration": 18,
    "start_time": "2024-05-11T12:41:26.832Z"
   },
   {
    "duration": 15,
    "start_time": "2024-05-11T12:41:26.851Z"
   },
   {
    "duration": 11,
    "start_time": "2024-05-11T12:41:26.867Z"
   },
   {
    "duration": 28,
    "start_time": "2024-05-11T12:41:26.879Z"
   },
   {
    "duration": 2,
    "start_time": "2024-05-11T12:41:26.909Z"
   },
   {
    "duration": 25,
    "start_time": "2024-05-11T12:41:26.912Z"
   },
   {
    "duration": 22,
    "start_time": "2024-05-11T12:41:26.939Z"
   },
   {
    "duration": 5,
    "start_time": "2024-05-11T12:41:26.964Z"
   },
   {
    "duration": 24,
    "start_time": "2024-05-11T12:41:26.971Z"
   },
   {
    "duration": 27,
    "start_time": "2024-05-11T12:41:26.997Z"
   },
   {
    "duration": 42,
    "start_time": "2024-05-11T12:41:27.025Z"
   },
   {
    "duration": 16,
    "start_time": "2024-05-11T12:41:27.068Z"
   },
   {
    "duration": 4,
    "start_time": "2024-05-11T12:41:27.086Z"
   },
   {
    "duration": 19,
    "start_time": "2024-05-11T12:41:27.092Z"
   },
   {
    "duration": 6,
    "start_time": "2024-05-11T12:41:27.113Z"
   },
   {
    "duration": 21,
    "start_time": "2024-05-11T12:41:27.120Z"
   },
   {
    "duration": 32,
    "start_time": "2024-05-11T12:41:27.142Z"
   },
   {
    "duration": 414,
    "start_time": "2024-05-11T12:41:27.176Z"
   },
   {
    "duration": 24,
    "start_time": "2024-05-11T12:41:27.591Z"
   },
   {
    "duration": 307,
    "start_time": "2024-05-11T12:41:27.617Z"
   },
   {
    "duration": 10,
    "start_time": "2024-05-11T12:41:27.925Z"
   },
   {
    "duration": 143,
    "start_time": "2024-05-11T12:41:27.936Z"
   },
   {
    "duration": 25,
    "start_time": "2024-05-11T12:41:28.080Z"
   },
   {
    "duration": 19,
    "start_time": "2024-05-11T12:41:28.107Z"
   },
   {
    "duration": 695,
    "start_time": "2024-05-11T12:41:28.128Z"
   },
   {
    "duration": 5,
    "start_time": "2024-05-11T12:41:28.826Z"
   },
   {
    "duration": 213,
    "start_time": "2024-05-11T12:41:28.832Z"
   },
   {
    "duration": 297,
    "start_time": "2024-05-11T12:41:29.046Z"
   },
   {
    "duration": 172,
    "start_time": "2024-05-11T12:41:29.344Z"
   },
   {
    "duration": 181,
    "start_time": "2024-05-11T12:41:29.518Z"
   },
   {
    "duration": 234,
    "start_time": "2024-05-11T12:41:29.701Z"
   },
   {
    "duration": 169,
    "start_time": "2024-05-11T12:41:29.937Z"
   },
   {
    "duration": 184,
    "start_time": "2024-05-11T12:41:30.107Z"
   },
   {
    "duration": 168,
    "start_time": "2024-05-11T12:41:30.292Z"
   },
   {
    "duration": 179,
    "start_time": "2024-05-11T12:41:30.462Z"
   },
   {
    "duration": 252,
    "start_time": "2024-05-11T12:41:30.643Z"
   },
   {
    "duration": 175,
    "start_time": "2024-05-11T12:41:30.897Z"
   },
   {
    "duration": 245,
    "start_time": "2024-05-11T12:41:31.074Z"
   },
   {
    "duration": 11,
    "start_time": "2024-05-11T12:41:31.321Z"
   },
   {
    "duration": 52,
    "start_time": "2024-05-11T12:41:31.333Z"
   },
   {
    "duration": 49,
    "start_time": "2024-05-11T12:41:31.387Z"
   },
   {
    "duration": 25,
    "start_time": "2024-05-11T12:41:31.437Z"
   },
   {
    "duration": 160,
    "start_time": "2024-05-11T12:42:50.324Z"
   },
   {
    "duration": 155,
    "start_time": "2024-05-11T12:43:02.995Z"
   },
   {
    "duration": 3,
    "start_time": "2024-05-11T12:44:20.122Z"
   },
   {
    "duration": 143,
    "start_time": "2024-05-11T12:44:59.607Z"
   },
   {
    "duration": 151,
    "start_time": "2024-05-11T12:45:28.560Z"
   },
   {
    "duration": 167,
    "start_time": "2024-05-11T12:45:44.470Z"
   },
   {
    "duration": 171,
    "start_time": "2024-05-11T12:45:46.768Z"
   },
   {
    "duration": 2,
    "start_time": "2024-05-11T12:46:16.722Z"
   },
   {
    "duration": 157,
    "start_time": "2024-05-11T12:46:19.707Z"
   },
   {
    "duration": 152,
    "start_time": "2024-05-11T12:46:22.636Z"
   },
   {
    "duration": 2,
    "start_time": "2024-05-11T12:46:28.353Z"
   },
   {
    "duration": 146,
    "start_time": "2024-05-11T12:46:30.633Z"
   },
   {
    "duration": 153,
    "start_time": "2024-05-11T12:46:32.562Z"
   },
   {
    "duration": 8,
    "start_time": "2024-05-11T12:48:43.209Z"
   },
   {
    "duration": 4,
    "start_time": "2024-05-11T12:48:53.461Z"
   },
   {
    "duration": 23,
    "start_time": "2024-05-11T12:49:04.435Z"
   },
   {
    "duration": 12,
    "start_time": "2024-05-11T12:50:09.002Z"
   },
   {
    "duration": 12,
    "start_time": "2024-05-11T12:50:22.591Z"
   },
   {
    "duration": 14,
    "start_time": "2024-05-11T12:50:34.438Z"
   },
   {
    "duration": 14,
    "start_time": "2024-05-11T12:50:44.831Z"
   },
   {
    "duration": 246,
    "start_time": "2024-05-11T12:50:58.326Z"
   },
   {
    "duration": 130,
    "start_time": "2024-05-11T12:51:03.855Z"
   },
   {
    "duration": 214,
    "start_time": "2024-05-11T12:51:17.579Z"
   },
   {
    "duration": 258,
    "start_time": "2024-05-11T12:52:05.570Z"
   },
   {
    "duration": 217,
    "start_time": "2024-05-11T12:52:22.819Z"
   },
   {
    "duration": 207,
    "start_time": "2024-05-11T12:52:37.732Z"
   },
   {
    "duration": 190,
    "start_time": "2024-05-11T12:54:37.193Z"
   },
   {
    "duration": 9,
    "start_time": "2024-05-11T12:54:49.704Z"
   },
   {
    "duration": 212,
    "start_time": "2024-05-11T12:55:22.949Z"
   },
   {
    "duration": 69,
    "start_time": "2024-05-11T12:56:05.283Z"
   },
   {
    "duration": 67,
    "start_time": "2024-05-11T12:57:01.087Z"
   },
   {
    "duration": 243,
    "start_time": "2024-05-11T12:57:12.410Z"
   },
   {
    "duration": 266,
    "start_time": "2024-05-11T12:57:38.251Z"
   },
   {
    "duration": 249,
    "start_time": "2024-05-11T12:57:52.397Z"
   },
   {
    "duration": 348,
    "start_time": "2024-05-11T12:59:24.328Z"
   },
   {
    "duration": 283,
    "start_time": "2024-05-11T13:00:09.999Z"
   },
   {
    "duration": 1218,
    "start_time": "2024-05-11T13:01:05.211Z"
   },
   {
    "duration": 59,
    "start_time": "2024-05-11T13:01:06.431Z"
   },
   {
    "duration": 16,
    "start_time": "2024-05-11T13:01:06.492Z"
   },
   {
    "duration": 20,
    "start_time": "2024-05-11T13:01:06.510Z"
   },
   {
    "duration": 35,
    "start_time": "2024-05-11T13:01:06.532Z"
   },
   {
    "duration": 38,
    "start_time": "2024-05-11T13:01:06.569Z"
   },
   {
    "duration": 27,
    "start_time": "2024-05-11T13:01:06.609Z"
   },
   {
    "duration": 30,
    "start_time": "2024-05-11T13:01:06.637Z"
   },
   {
    "duration": 27,
    "start_time": "2024-05-11T13:01:06.669Z"
   },
   {
    "duration": 10,
    "start_time": "2024-05-11T13:01:06.698Z"
   },
   {
    "duration": 54,
    "start_time": "2024-05-11T13:01:06.709Z"
   },
   {
    "duration": 19,
    "start_time": "2024-05-11T13:01:06.764Z"
   },
   {
    "duration": 46,
    "start_time": "2024-05-11T13:01:06.785Z"
   },
   {
    "duration": 20,
    "start_time": "2024-05-11T13:01:06.835Z"
   },
   {
    "duration": 17,
    "start_time": "2024-05-11T13:01:06.856Z"
   },
   {
    "duration": 23,
    "start_time": "2024-05-11T13:01:06.878Z"
   },
   {
    "duration": 23,
    "start_time": "2024-05-11T13:01:06.902Z"
   },
   {
    "duration": 33,
    "start_time": "2024-05-11T13:01:06.926Z"
   },
   {
    "duration": 31,
    "start_time": "2024-05-11T13:01:06.961Z"
   },
   {
    "duration": 456,
    "start_time": "2024-05-11T13:01:06.994Z"
   },
   {
    "duration": 41,
    "start_time": "2024-05-11T13:01:07.452Z"
   },
   {
    "duration": 341,
    "start_time": "2024-05-11T13:01:07.495Z"
   },
   {
    "duration": 10,
    "start_time": "2024-05-11T13:01:07.838Z"
   },
   {
    "duration": 176,
    "start_time": "2024-05-11T13:01:07.850Z"
   },
   {
    "duration": 24,
    "start_time": "2024-05-11T13:01:08.028Z"
   },
   {
    "duration": 40,
    "start_time": "2024-05-11T13:01:08.054Z"
   },
   {
    "duration": 736,
    "start_time": "2024-05-11T13:01:08.095Z"
   },
   {
    "duration": 15,
    "start_time": "2024-05-11T13:01:08.833Z"
   },
   {
    "duration": 235,
    "start_time": "2024-05-11T13:01:08.850Z"
   },
   {
    "duration": 3,
    "start_time": "2024-05-11T13:01:09.087Z"
   },
   {
    "duration": 338,
    "start_time": "2024-05-11T13:01:09.091Z"
   },
   {
    "duration": 172,
    "start_time": "2024-05-11T13:01:09.430Z"
   },
   {
    "duration": 182,
    "start_time": "2024-05-11T13:01:09.604Z"
   },
   {
    "duration": 257,
    "start_time": "2024-05-11T13:01:09.788Z"
   },
   {
    "duration": 293,
    "start_time": "2024-05-11T13:01:10.046Z"
   },
   {
    "duration": 5,
    "start_time": "2024-05-11T13:01:10.341Z"
   },
   {
    "duration": 214,
    "start_time": "2024-05-11T13:01:10.348Z"
   },
   {
    "duration": 179,
    "start_time": "2024-05-11T13:01:10.563Z"
   },
   {
    "duration": 179,
    "start_time": "2024-05-11T13:01:10.744Z"
   },
   {
    "duration": 266,
    "start_time": "2024-05-11T13:01:10.925Z"
   },
   {
    "duration": 194,
    "start_time": "2024-05-11T13:01:11.195Z"
   },
   {
    "duration": 190,
    "start_time": "2024-05-11T13:01:11.391Z"
   },
   {
    "duration": 262,
    "start_time": "2024-05-11T13:01:11.587Z"
   },
   {
    "duration": 11,
    "start_time": "2024-05-11T13:01:11.850Z"
   },
   {
    "duration": 8,
    "start_time": "2024-05-11T13:01:11.878Z"
   },
   {
    "duration": 12,
    "start_time": "2024-05-11T13:01:11.887Z"
   },
   {
    "duration": 10,
    "start_time": "2024-05-11T13:01:11.900Z"
   },
   {
    "duration": 292,
    "start_time": "2024-05-11T13:03:35.355Z"
   },
   {
    "duration": 1153,
    "start_time": "2024-05-11T13:05:51.407Z"
   },
   {
    "duration": 57,
    "start_time": "2024-05-11T13:05:52.562Z"
   },
   {
    "duration": 18,
    "start_time": "2024-05-11T13:05:52.620Z"
   },
   {
    "duration": 14,
    "start_time": "2024-05-11T13:05:52.640Z"
   },
   {
    "duration": 9,
    "start_time": "2024-05-11T13:05:52.656Z"
   },
   {
    "duration": 30,
    "start_time": "2024-05-11T13:05:52.666Z"
   },
   {
    "duration": 2,
    "start_time": "2024-05-11T13:05:52.698Z"
   },
   {
    "duration": 14,
    "start_time": "2024-05-11T13:05:52.702Z"
   },
   {
    "duration": 22,
    "start_time": "2024-05-11T13:05:52.718Z"
   },
   {
    "duration": 5,
    "start_time": "2024-05-11T13:05:52.743Z"
   },
   {
    "duration": 30,
    "start_time": "2024-05-11T13:05:52.749Z"
   },
   {
    "duration": 10,
    "start_time": "2024-05-11T13:05:52.780Z"
   },
   {
    "duration": 16,
    "start_time": "2024-05-11T13:05:52.791Z"
   },
   {
    "duration": 15,
    "start_time": "2024-05-11T13:05:52.808Z"
   },
   {
    "duration": 16,
    "start_time": "2024-05-11T13:05:52.825Z"
   },
   {
    "duration": 13,
    "start_time": "2024-05-11T13:05:52.843Z"
   },
   {
    "duration": 15,
    "start_time": "2024-05-11T13:05:52.858Z"
   },
   {
    "duration": 15,
    "start_time": "2024-05-11T13:05:52.874Z"
   },
   {
    "duration": 13,
    "start_time": "2024-05-11T13:05:52.891Z"
   },
   {
    "duration": 433,
    "start_time": "2024-05-11T13:05:52.906Z"
   },
   {
    "duration": 31,
    "start_time": "2024-05-11T13:05:53.341Z"
   },
   {
    "duration": 319,
    "start_time": "2024-05-11T13:05:53.374Z"
   },
   {
    "duration": 9,
    "start_time": "2024-05-11T13:05:53.696Z"
   },
   {
    "duration": 149,
    "start_time": "2024-05-11T13:05:53.707Z"
   },
   {
    "duration": 28,
    "start_time": "2024-05-11T13:05:53.858Z"
   },
   {
    "duration": 20,
    "start_time": "2024-05-11T13:05:53.887Z"
   },
   {
    "duration": 716,
    "start_time": "2024-05-11T13:05:53.908Z"
   },
   {
    "duration": 6,
    "start_time": "2024-05-11T13:05:54.627Z"
   },
   {
    "duration": 179,
    "start_time": "2024-05-11T13:05:54.634Z"
   },
   {
    "duration": 3,
    "start_time": "2024-05-11T13:05:54.814Z"
   },
   {
    "duration": 313,
    "start_time": "2024-05-11T13:05:54.818Z"
   },
   {
    "duration": 154,
    "start_time": "2024-05-11T13:05:55.132Z"
   },
   {
    "duration": 161,
    "start_time": "2024-05-11T13:05:55.287Z"
   },
   {
    "duration": 235,
    "start_time": "2024-05-11T13:05:55.449Z"
   },
   {
    "duration": 269,
    "start_time": "2024-05-11T13:05:55.685Z"
   },
   {
    "duration": 171,
    "start_time": "2024-05-11T13:05:55.956Z"
   },
   {
    "duration": 172,
    "start_time": "2024-05-11T13:05:56.129Z"
   },
   {
    "duration": 167,
    "start_time": "2024-05-11T13:05:56.302Z"
   },
   {
    "duration": 237,
    "start_time": "2024-05-11T13:05:56.471Z"
   },
   {
    "duration": 169,
    "start_time": "2024-05-11T13:05:56.709Z"
   },
   {
    "duration": 181,
    "start_time": "2024-05-11T13:05:56.879Z"
   },
   {
    "duration": 230,
    "start_time": "2024-05-11T13:05:57.061Z"
   },
   {
    "duration": 10,
    "start_time": "2024-05-11T13:05:57.292Z"
   },
   {
    "duration": 13,
    "start_time": "2024-05-11T13:05:57.303Z"
   },
   {
    "duration": 20,
    "start_time": "2024-05-11T13:05:57.318Z"
   },
   {
    "duration": 10,
    "start_time": "2024-05-11T13:05:57.339Z"
   },
   {
    "duration": 354,
    "start_time": "2024-05-11T13:06:31.338Z"
   },
   {
    "duration": 269,
    "start_time": "2024-05-11T13:06:55.541Z"
   },
   {
    "duration": 29,
    "start_time": "2024-05-11T13:07:09.755Z"
   },
   {
    "duration": 1426,
    "start_time": "2024-05-11T13:07:27.058Z"
   },
   {
    "duration": 275,
    "start_time": "2024-05-11T13:07:44.327Z"
   },
   {
    "duration": 290,
    "start_time": "2024-05-11T13:08:19.568Z"
   },
   {
    "duration": 272,
    "start_time": "2024-05-11T13:09:48.964Z"
   },
   {
    "duration": 309,
    "start_time": "2024-05-11T13:09:59.919Z"
   },
   {
    "duration": 23,
    "start_time": "2024-05-11T13:14:18.287Z"
   },
   {
    "duration": 6,
    "start_time": "2024-05-11T13:14:42.085Z"
   },
   {
    "duration": 7,
    "start_time": "2024-05-11T13:14:52.734Z"
   },
   {
    "duration": 7,
    "start_time": "2024-05-11T13:15:00.117Z"
   },
   {
    "duration": 6,
    "start_time": "2024-05-11T13:15:14.907Z"
   },
   {
    "duration": 6,
    "start_time": "2024-05-11T13:15:18.660Z"
   },
   {
    "duration": 7,
    "start_time": "2024-05-11T13:15:35.328Z"
   },
   {
    "duration": 7,
    "start_time": "2024-05-11T13:15:50.147Z"
   },
   {
    "duration": 6,
    "start_time": "2024-05-11T13:16:14.900Z"
   },
   {
    "duration": 11,
    "start_time": "2024-05-11T13:16:31.492Z"
   },
   {
    "duration": 13,
    "start_time": "2024-05-11T13:17:13.347Z"
   },
   {
    "duration": 14,
    "start_time": "2024-05-11T13:17:20.657Z"
   },
   {
    "duration": 8,
    "start_time": "2024-05-11T13:17:41.307Z"
   },
   {
    "duration": 12,
    "start_time": "2024-05-11T13:17:48.277Z"
   },
   {
    "duration": 12,
    "start_time": "2024-05-11T13:18:22.292Z"
   },
   {
    "duration": 12,
    "start_time": "2024-05-11T13:19:00.941Z"
   },
   {
    "duration": 9,
    "start_time": "2024-05-11T13:19:58.881Z"
   },
   {
    "duration": 66,
    "start_time": "2024-05-11T13:24:15.500Z"
   },
   {
    "duration": 65,
    "start_time": "2024-05-11T13:24:27.376Z"
   },
   {
    "duration": 299,
    "start_time": "2024-05-11T13:32:16.062Z"
   },
   {
    "duration": 169,
    "start_time": "2024-05-11T13:34:10.013Z"
   },
   {
    "duration": 179,
    "start_time": "2024-05-11T13:34:39.806Z"
   },
   {
    "duration": 3,
    "start_time": "2024-05-11T13:38:35.290Z"
   },
   {
    "duration": 1229,
    "start_time": "2024-05-11T13:40:02.066Z"
   },
   {
    "duration": 54,
    "start_time": "2024-05-11T13:40:03.297Z"
   },
   {
    "duration": 19,
    "start_time": "2024-05-11T13:40:03.353Z"
   },
   {
    "duration": 32,
    "start_time": "2024-05-11T13:40:03.374Z"
   },
   {
    "duration": 9,
    "start_time": "2024-05-11T13:40:03.408Z"
   },
   {
    "duration": 27,
    "start_time": "2024-05-11T13:40:03.419Z"
   },
   {
    "duration": 2,
    "start_time": "2024-05-11T13:40:03.448Z"
   },
   {
    "duration": 10,
    "start_time": "2024-05-11T13:40:03.452Z"
   },
   {
    "duration": 27,
    "start_time": "2024-05-11T13:40:03.464Z"
   },
   {
    "duration": 8,
    "start_time": "2024-05-11T13:40:03.493Z"
   },
   {
    "duration": 45,
    "start_time": "2024-05-11T13:40:03.503Z"
   },
   {
    "duration": 9,
    "start_time": "2024-05-11T13:40:03.550Z"
   },
   {
    "duration": 18,
    "start_time": "2024-05-11T13:40:03.560Z"
   },
   {
    "duration": 17,
    "start_time": "2024-05-11T13:40:03.580Z"
   },
   {
    "duration": 21,
    "start_time": "2024-05-11T13:40:03.599Z"
   },
   {
    "duration": 33,
    "start_time": "2024-05-11T13:40:03.622Z"
   },
   {
    "duration": 15,
    "start_time": "2024-05-11T13:40:03.656Z"
   },
   {
    "duration": 32,
    "start_time": "2024-05-11T13:40:03.673Z"
   },
   {
    "duration": 15,
    "start_time": "2024-05-11T13:40:03.707Z"
   },
   {
    "duration": 402,
    "start_time": "2024-05-11T13:40:03.724Z"
   },
   {
    "duration": 27,
    "start_time": "2024-05-11T13:40:04.128Z"
   },
   {
    "duration": 317,
    "start_time": "2024-05-11T13:40:04.170Z"
   },
   {
    "duration": 10,
    "start_time": "2024-05-11T13:40:04.489Z"
   },
   {
    "duration": 154,
    "start_time": "2024-05-11T13:40:04.500Z"
   },
   {
    "duration": 42,
    "start_time": "2024-05-11T13:40:04.656Z"
   },
   {
    "duration": 32,
    "start_time": "2024-05-11T13:40:04.700Z"
   },
   {
    "duration": 718,
    "start_time": "2024-05-11T13:40:04.734Z"
   },
   {
    "duration": 19,
    "start_time": "2024-05-11T13:40:05.456Z"
   },
   {
    "duration": 211,
    "start_time": "2024-05-11T13:40:05.478Z"
   },
   {
    "duration": 3,
    "start_time": "2024-05-11T13:40:05.691Z"
   },
   {
    "duration": 327,
    "start_time": "2024-05-11T13:40:05.696Z"
   },
   {
    "duration": 159,
    "start_time": "2024-05-11T13:40:06.024Z"
   },
   {
    "duration": 167,
    "start_time": "2024-05-11T13:40:06.189Z"
   },
   {
    "duration": 281,
    "start_time": "2024-05-11T13:40:06.358Z"
   },
   {
    "duration": 5,
    "start_time": "2024-05-11T13:40:06.641Z"
   },
   {
    "duration": 171,
    "start_time": "2024-05-11T13:40:06.648Z"
   },
   {
    "duration": 162,
    "start_time": "2024-05-11T13:40:06.821Z"
   },
   {
    "duration": 163,
    "start_time": "2024-05-11T13:40:06.985Z"
   },
   {
    "duration": 171,
    "start_time": "2024-05-11T13:40:07.149Z"
   },
   {
    "duration": 269,
    "start_time": "2024-05-11T13:40:07.322Z"
   },
   {
    "duration": 163,
    "start_time": "2024-05-11T13:40:07.593Z"
   },
   {
    "duration": 236,
    "start_time": "2024-05-11T13:40:07.758Z"
   },
   {
    "duration": 9,
    "start_time": "2024-05-11T13:40:07.996Z"
   },
   {
    "duration": 47,
    "start_time": "2024-05-11T13:40:08.007Z"
   },
   {
    "duration": 45,
    "start_time": "2024-05-11T13:40:08.055Z"
   },
   {
    "duration": 19,
    "start_time": "2024-05-11T13:40:08.102Z"
   },
   {
    "duration": 47,
    "start_time": "2024-05-12T06:13:33.746Z"
   },
   {
    "duration": 1277,
    "start_time": "2024-05-12T06:13:38.619Z"
   },
   {
    "duration": 101,
    "start_time": "2024-05-12T06:13:39.898Z"
   },
   {
    "duration": 16,
    "start_time": "2024-05-12T06:13:40.000Z"
   },
   {
    "duration": 33,
    "start_time": "2024-05-12T06:13:40.018Z"
   },
   {
    "duration": 18,
    "start_time": "2024-05-12T06:13:40.053Z"
   },
   {
    "duration": 23,
    "start_time": "2024-05-12T06:13:40.073Z"
   },
   {
    "duration": 2,
    "start_time": "2024-05-12T06:13:40.098Z"
   },
   {
    "duration": 5,
    "start_time": "2024-05-12T06:13:40.101Z"
   },
   {
    "duration": 17,
    "start_time": "2024-05-12T06:13:40.107Z"
   },
   {
    "duration": 9,
    "start_time": "2024-05-12T06:13:40.126Z"
   },
   {
    "duration": 19,
    "start_time": "2024-05-12T06:13:40.136Z"
   },
   {
    "duration": 5,
    "start_time": "2024-05-12T06:13:40.165Z"
   },
   {
    "duration": 15,
    "start_time": "2024-05-12T06:13:40.171Z"
   },
   {
    "duration": 14,
    "start_time": "2024-05-12T06:13:40.187Z"
   },
   {
    "duration": 11,
    "start_time": "2024-05-12T06:13:40.202Z"
   },
   {
    "duration": 8,
    "start_time": "2024-05-12T06:13:40.215Z"
   },
   {
    "duration": 5,
    "start_time": "2024-05-12T06:13:40.225Z"
   },
   {
    "duration": 36,
    "start_time": "2024-05-12T06:13:40.232Z"
   },
   {
    "duration": 12,
    "start_time": "2024-05-12T06:13:40.270Z"
   },
   {
    "duration": 361,
    "start_time": "2024-05-12T06:13:40.283Z"
   },
   {
    "duration": 31,
    "start_time": "2024-05-12T06:13:40.645Z"
   },
   {
    "duration": 288,
    "start_time": "2024-05-12T06:13:40.677Z"
   },
   {
    "duration": 9,
    "start_time": "2024-05-12T06:13:40.966Z"
   },
   {
    "duration": 150,
    "start_time": "2024-05-12T06:13:40.976Z"
   },
   {
    "duration": 37,
    "start_time": "2024-05-12T06:13:41.129Z"
   },
   {
    "duration": 26,
    "start_time": "2024-05-12T06:13:41.168Z"
   },
   {
    "duration": 634,
    "start_time": "2024-05-12T06:13:41.196Z"
   },
   {
    "duration": 5,
    "start_time": "2024-05-12T06:13:41.833Z"
   },
   {
    "duration": 192,
    "start_time": "2024-05-12T06:13:41.839Z"
   },
   {
    "duration": 286,
    "start_time": "2024-05-12T06:13:42.033Z"
   },
   {
    "duration": 151,
    "start_time": "2024-05-12T06:13:42.321Z"
   },
   {
    "duration": 120,
    "start_time": "2024-05-12T06:13:42.473Z"
   },
   {
    "duration": 0,
    "start_time": "2024-05-12T06:13:42.595Z"
   },
   {
    "duration": 0,
    "start_time": "2024-05-12T06:13:42.596Z"
   },
   {
    "duration": 0,
    "start_time": "2024-05-12T06:13:42.597Z"
   },
   {
    "duration": 0,
    "start_time": "2024-05-12T06:13:42.598Z"
   },
   {
    "duration": 0,
    "start_time": "2024-05-12T06:13:42.599Z"
   },
   {
    "duration": 0,
    "start_time": "2024-05-12T06:13:42.600Z"
   },
   {
    "duration": 0,
    "start_time": "2024-05-12T06:13:42.601Z"
   },
   {
    "duration": 0,
    "start_time": "2024-05-12T06:13:42.601Z"
   },
   {
    "duration": 0,
    "start_time": "2024-05-12T06:13:42.603Z"
   },
   {
    "duration": 0,
    "start_time": "2024-05-12T06:13:42.604Z"
   },
   {
    "duration": 0,
    "start_time": "2024-05-12T06:13:42.605Z"
   },
   {
    "duration": 0,
    "start_time": "2024-05-12T06:13:42.607Z"
   },
   {
    "duration": 0,
    "start_time": "2024-05-12T06:13:42.608Z"
   },
   {
    "duration": 1088,
    "start_time": "2024-05-12T06:14:32.886Z"
   },
   {
    "duration": 54,
    "start_time": "2024-05-12T06:14:33.975Z"
   },
   {
    "duration": 17,
    "start_time": "2024-05-12T06:14:34.030Z"
   },
   {
    "duration": 13,
    "start_time": "2024-05-12T06:14:34.049Z"
   },
   {
    "duration": 9,
    "start_time": "2024-05-12T06:14:34.064Z"
   },
   {
    "duration": 14,
    "start_time": "2024-05-12T06:14:34.075Z"
   },
   {
    "duration": 3,
    "start_time": "2024-05-12T06:14:34.090Z"
   },
   {
    "duration": 4,
    "start_time": "2024-05-12T06:14:34.094Z"
   },
   {
    "duration": 17,
    "start_time": "2024-05-12T06:14:34.100Z"
   },
   {
    "duration": 5,
    "start_time": "2024-05-12T06:14:34.120Z"
   },
   {
    "duration": 47,
    "start_time": "2024-05-12T06:14:34.127Z"
   },
   {
    "duration": 7,
    "start_time": "2024-05-12T06:14:34.176Z"
   },
   {
    "duration": 22,
    "start_time": "2024-05-12T06:14:34.184Z"
   },
   {
    "duration": 15,
    "start_time": "2024-05-12T06:14:34.207Z"
   },
   {
    "duration": 4,
    "start_time": "2024-05-12T06:14:34.223Z"
   },
   {
    "duration": 8,
    "start_time": "2024-05-12T06:14:34.228Z"
   },
   {
    "duration": 7,
    "start_time": "2024-05-12T06:14:34.264Z"
   },
   {
    "duration": 12,
    "start_time": "2024-05-12T06:14:34.272Z"
   },
   {
    "duration": 13,
    "start_time": "2024-05-12T06:14:34.285Z"
   },
   {
    "duration": 368,
    "start_time": "2024-05-12T06:14:34.299Z"
   },
   {
    "duration": 23,
    "start_time": "2024-05-12T06:14:34.668Z"
   },
   {
    "duration": 289,
    "start_time": "2024-05-12T06:14:34.692Z"
   },
   {
    "duration": 9,
    "start_time": "2024-05-12T06:14:34.983Z"
   },
   {
    "duration": 141,
    "start_time": "2024-05-12T06:14:34.993Z"
   },
   {
    "duration": 34,
    "start_time": "2024-05-12T06:14:35.136Z"
   },
   {
    "duration": 20,
    "start_time": "2024-05-12T06:14:35.172Z"
   },
   {
    "duration": 649,
    "start_time": "2024-05-12T06:14:35.194Z"
   },
   {
    "duration": 5,
    "start_time": "2024-05-12T06:14:35.846Z"
   },
   {
    "duration": 197,
    "start_time": "2024-05-12T06:14:35.853Z"
   },
   {
    "duration": 285,
    "start_time": "2024-05-12T06:14:36.052Z"
   },
   {
    "duration": 134,
    "start_time": "2024-05-12T06:14:36.339Z"
   },
   {
    "duration": 147,
    "start_time": "2024-05-12T06:14:36.475Z"
   },
   {
    "duration": 268,
    "start_time": "2024-05-12T06:14:36.624Z"
   },
   {
    "duration": 5,
    "start_time": "2024-05-12T06:14:36.894Z"
   },
   {
    "duration": 154,
    "start_time": "2024-05-12T06:14:36.900Z"
   },
   {
    "duration": 144,
    "start_time": "2024-05-12T06:14:37.055Z"
   },
   {
    "duration": 147,
    "start_time": "2024-05-12T06:14:37.201Z"
   },
   {
    "duration": 161,
    "start_time": "2024-05-12T06:14:37.350Z"
   },
   {
    "duration": 243,
    "start_time": "2024-05-12T06:14:37.512Z"
   },
   {
    "duration": 161,
    "start_time": "2024-05-12T06:14:37.757Z"
   },
   {
    "duration": 227,
    "start_time": "2024-05-12T06:14:37.919Z"
   },
   {
    "duration": 21,
    "start_time": "2024-05-12T06:14:38.148Z"
   },
   {
    "duration": 7,
    "start_time": "2024-05-12T06:14:38.171Z"
   },
   {
    "duration": 13,
    "start_time": "2024-05-12T06:14:38.179Z"
   },
   {
    "duration": 13,
    "start_time": "2024-05-12T06:14:38.193Z"
   },
   {
    "duration": 146,
    "start_time": "2024-05-12T06:15:28.931Z"
   },
   {
    "duration": 137,
    "start_time": "2024-05-12T06:15:45.089Z"
   },
   {
    "duration": 135,
    "start_time": "2024-05-12T06:15:56.466Z"
   },
   {
    "duration": 141,
    "start_time": "2024-05-12T06:17:03.473Z"
   },
   {
    "duration": 133,
    "start_time": "2024-05-12T06:17:18.403Z"
   },
   {
    "duration": 133,
    "start_time": "2024-05-12T06:17:32.841Z"
   },
   {
    "duration": 148,
    "start_time": "2024-05-12T06:18:01.741Z"
   },
   {
    "duration": 130,
    "start_time": "2024-05-12T06:18:32.749Z"
   },
   {
    "duration": 144,
    "start_time": "2024-05-12T06:18:58.028Z"
   },
   {
    "duration": 161,
    "start_time": "2024-05-12T06:19:08.465Z"
   },
   {
    "duration": 210,
    "start_time": "2024-05-12T06:19:28.516Z"
   },
   {
    "duration": 139,
    "start_time": "2024-05-12T06:19:35.282Z"
   },
   {
    "duration": 132,
    "start_time": "2024-05-12T06:19:41.234Z"
   },
   {
    "duration": 143,
    "start_time": "2024-05-12T06:19:53.852Z"
   },
   {
    "duration": 132,
    "start_time": "2024-05-12T06:20:16.570Z"
   },
   {
    "duration": 133,
    "start_time": "2024-05-12T06:20:35.346Z"
   }
  ],
  "kernelspec": {
   "display_name": "Python 3 (ipykernel)",
   "language": "python",
   "name": "python3"
  },
  "language_info": {
   "codemirror_mode": {
    "name": "ipython",
    "version": 3
   },
   "file_extension": ".py",
   "mimetype": "text/x-python",
   "name": "python",
   "nbconvert_exporter": "python",
   "pygments_lexer": "ipython3",
   "version": "3.9.5"
  },
  "toc": {
   "base_numbering": 1,
   "nav_menu": {
    "height": "379px",
    "width": "412px"
   },
   "number_sections": true,
   "sideBar": true,
   "skip_h1_title": true,
   "title_cell": "Table of Contents",
   "title_sidebar": "Contents",
   "toc_cell": false,
   "toc_position": {},
   "toc_section_display": true,
   "toc_window_display": false
  }
 },
 "nbformat": 4,
 "nbformat_minor": 2
}

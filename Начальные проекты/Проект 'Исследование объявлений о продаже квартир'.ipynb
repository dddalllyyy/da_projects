{
 "cells": [
  {
   "cell_type": "markdown",
   "metadata": {
    "id": "-VFbjcb3Awb7"
   },
   "source": [
    "# Исследование объявлений о продаже квартир\n",
    "\n",
    "В вашем распоряжении данные сервиса Яндекс Недвижимость — архив объявлений о продаже квартир в Санкт-Петербурге и соседних населённых пунктах за несколько лет. Вам нужно научиться определять рыночную стоимость объектов недвижимости. Для этого проведите исследовательский анализ данных и установите параметры, влияющие на цену объектов. Это позволит построить автоматизированную систему: она отследит аномалии и мошенническую деятельность.\n",
    "\n",
    "По каждой квартире на продажу доступны два вида данных. Первые вписаны пользователем, вторые — получены автоматически на основе картографических данных. Например, расстояние до центра, аэропорта и других объектов — эти данные автоматически получены из геосервисов. Количество парков и водоёмов также заполняется без участия пользователя."
   ]
  },
  {
   "cell_type": "markdown",
   "metadata": {},
   "source": [
    "ТЗ исследования:\n",
    "<br>- оценить первичную информацию о датафрейме, построить гистограммы\n",
    "<br>- провести предобработку данных, заменить пропуски где возможно, обработать дубликаты\n",
    "<br>- провести исследование по основным параметрам квартир, не включать в анализ аномалии\n",
    "<br>- исследовать темпы продажи недвижимости\n",
    "<br>- установить корреляцию различных параметров и итоговой стоимости\n",
    "<br>- определить топ-10 населенных пунктов по количеству объявлений, установить среднюю стоимость квадратного метра\n",
    "<br>- изучить изменение стоимости квадратного метра по мере удаления от центра города"
   ]
  },
  {
   "cell_type": "markdown",
   "metadata": {
    "id": "aeFLH07FAwb9"
   },
   "source": [
    "### Общая информация о датафрейме"
   ]
  },
  {
   "cell_type": "code",
   "execution_count": 1,
   "metadata": {
    "id": "7MZxY65pAwb9"
   },
   "outputs": [],
   "source": [
    "import pandas as pd\n",
    "import matplotlib.pyplot as plt #для удобной работы с графиками"
   ]
  },
  {
   "cell_type": "code",
   "execution_count": 2,
   "metadata": {},
   "outputs": [],
   "source": [
    "data = pd.read_csv('/datasets/real_estate_data.csv', sep='\\t') #в данном датафрейме разделитель не стандартный"
   ]
  },
  {
   "cell_type": "code",
   "execution_count": 3,
   "metadata": {},
   "outputs": [
    {
     "data": {
      "text/html": [
       "<div>\n",
       "<style scoped>\n",
       "    .dataframe tbody tr th:only-of-type {\n",
       "        vertical-align: middle;\n",
       "    }\n",
       "\n",
       "    .dataframe tbody tr th {\n",
       "        vertical-align: top;\n",
       "    }\n",
       "\n",
       "    .dataframe thead th {\n",
       "        text-align: right;\n",
       "    }\n",
       "</style>\n",
       "<table border=\"1\" class=\"dataframe\">\n",
       "  <thead>\n",
       "    <tr style=\"text-align: right;\">\n",
       "      <th></th>\n",
       "      <th>total_images</th>\n",
       "      <th>last_price</th>\n",
       "      <th>total_area</th>\n",
       "      <th>first_day_exposition</th>\n",
       "      <th>rooms</th>\n",
       "      <th>ceiling_height</th>\n",
       "      <th>floors_total</th>\n",
       "      <th>living_area</th>\n",
       "      <th>floor</th>\n",
       "      <th>is_apartment</th>\n",
       "      <th>...</th>\n",
       "      <th>kitchen_area</th>\n",
       "      <th>balcony</th>\n",
       "      <th>locality_name</th>\n",
       "      <th>airports_nearest</th>\n",
       "      <th>cityCenters_nearest</th>\n",
       "      <th>parks_around3000</th>\n",
       "      <th>parks_nearest</th>\n",
       "      <th>ponds_around3000</th>\n",
       "      <th>ponds_nearest</th>\n",
       "      <th>days_exposition</th>\n",
       "    </tr>\n",
       "  </thead>\n",
       "  <tbody>\n",
       "    <tr>\n",
       "      <th>0</th>\n",
       "      <td>20</td>\n",
       "      <td>13000000.0</td>\n",
       "      <td>108.0</td>\n",
       "      <td>2019-03-07T00:00:00</td>\n",
       "      <td>3</td>\n",
       "      <td>2.70</td>\n",
       "      <td>16.0</td>\n",
       "      <td>51.0</td>\n",
       "      <td>8</td>\n",
       "      <td>NaN</td>\n",
       "      <td>...</td>\n",
       "      <td>25.0</td>\n",
       "      <td>NaN</td>\n",
       "      <td>Санкт-Петербург</td>\n",
       "      <td>18863.0</td>\n",
       "      <td>16028.0</td>\n",
       "      <td>1.0</td>\n",
       "      <td>482.0</td>\n",
       "      <td>2.0</td>\n",
       "      <td>755.0</td>\n",
       "      <td>NaN</td>\n",
       "    </tr>\n",
       "    <tr>\n",
       "      <th>1</th>\n",
       "      <td>7</td>\n",
       "      <td>3350000.0</td>\n",
       "      <td>40.4</td>\n",
       "      <td>2018-12-04T00:00:00</td>\n",
       "      <td>1</td>\n",
       "      <td>NaN</td>\n",
       "      <td>11.0</td>\n",
       "      <td>18.6</td>\n",
       "      <td>1</td>\n",
       "      <td>NaN</td>\n",
       "      <td>...</td>\n",
       "      <td>11.0</td>\n",
       "      <td>2.0</td>\n",
       "      <td>посёлок Шушары</td>\n",
       "      <td>12817.0</td>\n",
       "      <td>18603.0</td>\n",
       "      <td>0.0</td>\n",
       "      <td>NaN</td>\n",
       "      <td>0.0</td>\n",
       "      <td>NaN</td>\n",
       "      <td>81.0</td>\n",
       "    </tr>\n",
       "    <tr>\n",
       "      <th>2</th>\n",
       "      <td>10</td>\n",
       "      <td>5196000.0</td>\n",
       "      <td>56.0</td>\n",
       "      <td>2015-08-20T00:00:00</td>\n",
       "      <td>2</td>\n",
       "      <td>NaN</td>\n",
       "      <td>5.0</td>\n",
       "      <td>34.3</td>\n",
       "      <td>4</td>\n",
       "      <td>NaN</td>\n",
       "      <td>...</td>\n",
       "      <td>8.3</td>\n",
       "      <td>0.0</td>\n",
       "      <td>Санкт-Петербург</td>\n",
       "      <td>21741.0</td>\n",
       "      <td>13933.0</td>\n",
       "      <td>1.0</td>\n",
       "      <td>90.0</td>\n",
       "      <td>2.0</td>\n",
       "      <td>574.0</td>\n",
       "      <td>558.0</td>\n",
       "    </tr>\n",
       "    <tr>\n",
       "      <th>3</th>\n",
       "      <td>0</td>\n",
       "      <td>64900000.0</td>\n",
       "      <td>159.0</td>\n",
       "      <td>2015-07-24T00:00:00</td>\n",
       "      <td>3</td>\n",
       "      <td>NaN</td>\n",
       "      <td>14.0</td>\n",
       "      <td>NaN</td>\n",
       "      <td>9</td>\n",
       "      <td>NaN</td>\n",
       "      <td>...</td>\n",
       "      <td>NaN</td>\n",
       "      <td>0.0</td>\n",
       "      <td>Санкт-Петербург</td>\n",
       "      <td>28098.0</td>\n",
       "      <td>6800.0</td>\n",
       "      <td>2.0</td>\n",
       "      <td>84.0</td>\n",
       "      <td>3.0</td>\n",
       "      <td>234.0</td>\n",
       "      <td>424.0</td>\n",
       "    </tr>\n",
       "    <tr>\n",
       "      <th>4</th>\n",
       "      <td>2</td>\n",
       "      <td>10000000.0</td>\n",
       "      <td>100.0</td>\n",
       "      <td>2018-06-19T00:00:00</td>\n",
       "      <td>2</td>\n",
       "      <td>3.03</td>\n",
       "      <td>14.0</td>\n",
       "      <td>32.0</td>\n",
       "      <td>13</td>\n",
       "      <td>NaN</td>\n",
       "      <td>...</td>\n",
       "      <td>41.0</td>\n",
       "      <td>NaN</td>\n",
       "      <td>Санкт-Петербург</td>\n",
       "      <td>31856.0</td>\n",
       "      <td>8098.0</td>\n",
       "      <td>2.0</td>\n",
       "      <td>112.0</td>\n",
       "      <td>1.0</td>\n",
       "      <td>48.0</td>\n",
       "      <td>121.0</td>\n",
       "    </tr>\n",
       "  </tbody>\n",
       "</table>\n",
       "<p>5 rows × 22 columns</p>\n",
       "</div>"
      ],
      "text/plain": [
       "   total_images  last_price  total_area first_day_exposition  rooms  \\\n",
       "0            20  13000000.0       108.0  2019-03-07T00:00:00      3   \n",
       "1             7   3350000.0        40.4  2018-12-04T00:00:00      1   \n",
       "2            10   5196000.0        56.0  2015-08-20T00:00:00      2   \n",
       "3             0  64900000.0       159.0  2015-07-24T00:00:00      3   \n",
       "4             2  10000000.0       100.0  2018-06-19T00:00:00      2   \n",
       "\n",
       "   ceiling_height  floors_total  living_area  floor is_apartment  ...  \\\n",
       "0            2.70          16.0         51.0      8          NaN  ...   \n",
       "1             NaN          11.0         18.6      1          NaN  ...   \n",
       "2             NaN           5.0         34.3      4          NaN  ...   \n",
       "3             NaN          14.0          NaN      9          NaN  ...   \n",
       "4            3.03          14.0         32.0     13          NaN  ...   \n",
       "\n",
       "   kitchen_area  balcony    locality_name  airports_nearest  \\\n",
       "0          25.0      NaN  Санкт-Петербург           18863.0   \n",
       "1          11.0      2.0   посёлок Шушары           12817.0   \n",
       "2           8.3      0.0  Санкт-Петербург           21741.0   \n",
       "3           NaN      0.0  Санкт-Петербург           28098.0   \n",
       "4          41.0      NaN  Санкт-Петербург           31856.0   \n",
       "\n",
       "  cityCenters_nearest  parks_around3000  parks_nearest  ponds_around3000  \\\n",
       "0             16028.0               1.0          482.0               2.0   \n",
       "1             18603.0               0.0            NaN               0.0   \n",
       "2             13933.0               1.0           90.0               2.0   \n",
       "3              6800.0               2.0           84.0               3.0   \n",
       "4              8098.0               2.0          112.0               1.0   \n",
       "\n",
       "   ponds_nearest  days_exposition  \n",
       "0          755.0              NaN  \n",
       "1            NaN             81.0  \n",
       "2          574.0            558.0  \n",
       "3          234.0            424.0  \n",
       "4           48.0            121.0  \n",
       "\n",
       "[5 rows x 22 columns]"
      ]
     },
     "metadata": {},
     "output_type": "display_data"
    }
   ],
   "source": [
    "display(data.head())"
   ]
  },
  {
   "cell_type": "code",
   "execution_count": 4,
   "metadata": {},
   "outputs": [
    {
     "name": "stdout",
     "output_type": "stream",
     "text": [
      "<class 'pandas.core.frame.DataFrame'>\n",
      "RangeIndex: 23699 entries, 0 to 23698\n",
      "Data columns (total 22 columns):\n",
      " #   Column                Non-Null Count  Dtype  \n",
      "---  ------                --------------  -----  \n",
      " 0   total_images          23699 non-null  int64  \n",
      " 1   last_price            23699 non-null  float64\n",
      " 2   total_area            23699 non-null  float64\n",
      " 3   first_day_exposition  23699 non-null  object \n",
      " 4   rooms                 23699 non-null  int64  \n",
      " 5   ceiling_height        14504 non-null  float64\n",
      " 6   floors_total          23613 non-null  float64\n",
      " 7   living_area           21796 non-null  float64\n",
      " 8   floor                 23699 non-null  int64  \n",
      " 9   is_apartment          2775 non-null   object \n",
      " 10  studio                23699 non-null  bool   \n",
      " 11  open_plan             23699 non-null  bool   \n",
      " 12  kitchen_area          21421 non-null  float64\n",
      " 13  balcony               12180 non-null  float64\n",
      " 14  locality_name         23650 non-null  object \n",
      " 15  airports_nearest      18157 non-null  float64\n",
      " 16  cityCenters_nearest   18180 non-null  float64\n",
      " 17  parks_around3000      18181 non-null  float64\n",
      " 18  parks_nearest         8079 non-null   float64\n",
      " 19  ponds_around3000      18181 non-null  float64\n",
      " 20  ponds_nearest         9110 non-null   float64\n",
      " 21  days_exposition       20518 non-null  float64\n",
      "dtypes: bool(2), float64(14), int64(3), object(3)\n",
      "memory usage: 3.7+ MB\n"
     ]
    }
   ],
   "source": [
    "data.info() #информация о датафрейме"
   ]
  },
  {
   "cell_type": "markdown",
   "metadata": {},
   "source": [
    "Видны названия не в snake_case, нужно заменять. Также, есть столбцы где нужно заменять тип данных"
   ]
  },
  {
   "cell_type": "code",
   "execution_count": 5,
   "metadata": {
    "scrolled": true
   },
   "outputs": [
    {
     "data": {
      "text/html": [
       "<div>\n",
       "<style scoped>\n",
       "    .dataframe tbody tr th:only-of-type {\n",
       "        vertical-align: middle;\n",
       "    }\n",
       "\n",
       "    .dataframe tbody tr th {\n",
       "        vertical-align: top;\n",
       "    }\n",
       "\n",
       "    .dataframe thead th {\n",
       "        text-align: right;\n",
       "    }\n",
       "</style>\n",
       "<table border=\"1\" class=\"dataframe\">\n",
       "  <thead>\n",
       "    <tr style=\"text-align: right;\">\n",
       "      <th></th>\n",
       "      <th>total_images</th>\n",
       "      <th>last_price</th>\n",
       "      <th>total_area</th>\n",
       "      <th>rooms</th>\n",
       "      <th>ceiling_height</th>\n",
       "      <th>floors_total</th>\n",
       "      <th>living_area</th>\n",
       "      <th>floor</th>\n",
       "      <th>kitchen_area</th>\n",
       "      <th>balcony</th>\n",
       "      <th>airports_nearest</th>\n",
       "      <th>cityCenters_nearest</th>\n",
       "      <th>parks_around3000</th>\n",
       "      <th>parks_nearest</th>\n",
       "      <th>ponds_around3000</th>\n",
       "      <th>ponds_nearest</th>\n",
       "      <th>days_exposition</th>\n",
       "    </tr>\n",
       "  </thead>\n",
       "  <tbody>\n",
       "    <tr>\n",
       "      <th>count</th>\n",
       "      <td>23699.000000</td>\n",
       "      <td>2.369900e+04</td>\n",
       "      <td>23699.000000</td>\n",
       "      <td>23699.000000</td>\n",
       "      <td>14504.000000</td>\n",
       "      <td>23613.000000</td>\n",
       "      <td>21796.000000</td>\n",
       "      <td>23699.000000</td>\n",
       "      <td>21421.000000</td>\n",
       "      <td>12180.000000</td>\n",
       "      <td>18157.000000</td>\n",
       "      <td>18180.000000</td>\n",
       "      <td>18181.000000</td>\n",
       "      <td>8079.000000</td>\n",
       "      <td>18181.000000</td>\n",
       "      <td>9110.000000</td>\n",
       "      <td>20518.000000</td>\n",
       "    </tr>\n",
       "    <tr>\n",
       "      <th>mean</th>\n",
       "      <td>9.858475</td>\n",
       "      <td>6.541549e+06</td>\n",
       "      <td>60.348651</td>\n",
       "      <td>2.070636</td>\n",
       "      <td>2.771499</td>\n",
       "      <td>10.673824</td>\n",
       "      <td>34.457852</td>\n",
       "      <td>5.892358</td>\n",
       "      <td>10.569807</td>\n",
       "      <td>1.150082</td>\n",
       "      <td>28793.672193</td>\n",
       "      <td>14191.277833</td>\n",
       "      <td>0.611408</td>\n",
       "      <td>490.804555</td>\n",
       "      <td>0.770255</td>\n",
       "      <td>517.980900</td>\n",
       "      <td>180.888634</td>\n",
       "    </tr>\n",
       "    <tr>\n",
       "      <th>std</th>\n",
       "      <td>5.682529</td>\n",
       "      <td>1.088701e+07</td>\n",
       "      <td>35.654083</td>\n",
       "      <td>1.078405</td>\n",
       "      <td>1.261056</td>\n",
       "      <td>6.597173</td>\n",
       "      <td>22.030445</td>\n",
       "      <td>4.885249</td>\n",
       "      <td>5.905438</td>\n",
       "      <td>1.071300</td>\n",
       "      <td>12630.880622</td>\n",
       "      <td>8608.386210</td>\n",
       "      <td>0.802074</td>\n",
       "      <td>342.317995</td>\n",
       "      <td>0.938346</td>\n",
       "      <td>277.720643</td>\n",
       "      <td>219.727988</td>\n",
       "    </tr>\n",
       "    <tr>\n",
       "      <th>min</th>\n",
       "      <td>0.000000</td>\n",
       "      <td>1.219000e+04</td>\n",
       "      <td>12.000000</td>\n",
       "      <td>0.000000</td>\n",
       "      <td>1.000000</td>\n",
       "      <td>1.000000</td>\n",
       "      <td>2.000000</td>\n",
       "      <td>1.000000</td>\n",
       "      <td>1.300000</td>\n",
       "      <td>0.000000</td>\n",
       "      <td>0.000000</td>\n",
       "      <td>181.000000</td>\n",
       "      <td>0.000000</td>\n",
       "      <td>1.000000</td>\n",
       "      <td>0.000000</td>\n",
       "      <td>13.000000</td>\n",
       "      <td>1.000000</td>\n",
       "    </tr>\n",
       "    <tr>\n",
       "      <th>25%</th>\n",
       "      <td>6.000000</td>\n",
       "      <td>3.400000e+06</td>\n",
       "      <td>40.000000</td>\n",
       "      <td>1.000000</td>\n",
       "      <td>2.520000</td>\n",
       "      <td>5.000000</td>\n",
       "      <td>18.600000</td>\n",
       "      <td>2.000000</td>\n",
       "      <td>7.000000</td>\n",
       "      <td>0.000000</td>\n",
       "      <td>18585.000000</td>\n",
       "      <td>9238.000000</td>\n",
       "      <td>0.000000</td>\n",
       "      <td>288.000000</td>\n",
       "      <td>0.000000</td>\n",
       "      <td>294.000000</td>\n",
       "      <td>45.000000</td>\n",
       "    </tr>\n",
       "    <tr>\n",
       "      <th>50%</th>\n",
       "      <td>9.000000</td>\n",
       "      <td>4.650000e+06</td>\n",
       "      <td>52.000000</td>\n",
       "      <td>2.000000</td>\n",
       "      <td>2.650000</td>\n",
       "      <td>9.000000</td>\n",
       "      <td>30.000000</td>\n",
       "      <td>4.000000</td>\n",
       "      <td>9.100000</td>\n",
       "      <td>1.000000</td>\n",
       "      <td>26726.000000</td>\n",
       "      <td>13098.500000</td>\n",
       "      <td>0.000000</td>\n",
       "      <td>455.000000</td>\n",
       "      <td>1.000000</td>\n",
       "      <td>502.000000</td>\n",
       "      <td>95.000000</td>\n",
       "    </tr>\n",
       "    <tr>\n",
       "      <th>75%</th>\n",
       "      <td>14.000000</td>\n",
       "      <td>6.800000e+06</td>\n",
       "      <td>69.900000</td>\n",
       "      <td>3.000000</td>\n",
       "      <td>2.800000</td>\n",
       "      <td>16.000000</td>\n",
       "      <td>42.300000</td>\n",
       "      <td>8.000000</td>\n",
       "      <td>12.000000</td>\n",
       "      <td>2.000000</td>\n",
       "      <td>37273.000000</td>\n",
       "      <td>16293.000000</td>\n",
       "      <td>1.000000</td>\n",
       "      <td>612.000000</td>\n",
       "      <td>1.000000</td>\n",
       "      <td>729.000000</td>\n",
       "      <td>232.000000</td>\n",
       "    </tr>\n",
       "    <tr>\n",
       "      <th>max</th>\n",
       "      <td>50.000000</td>\n",
       "      <td>7.630000e+08</td>\n",
       "      <td>900.000000</td>\n",
       "      <td>19.000000</td>\n",
       "      <td>100.000000</td>\n",
       "      <td>60.000000</td>\n",
       "      <td>409.700000</td>\n",
       "      <td>33.000000</td>\n",
       "      <td>112.000000</td>\n",
       "      <td>5.000000</td>\n",
       "      <td>84869.000000</td>\n",
       "      <td>65968.000000</td>\n",
       "      <td>3.000000</td>\n",
       "      <td>3190.000000</td>\n",
       "      <td>3.000000</td>\n",
       "      <td>1344.000000</td>\n",
       "      <td>1580.000000</td>\n",
       "    </tr>\n",
       "  </tbody>\n",
       "</table>\n",
       "</div>"
      ],
      "text/plain": [
       "       total_images    last_price    total_area         rooms  ceiling_height  \\\n",
       "count  23699.000000  2.369900e+04  23699.000000  23699.000000    14504.000000   \n",
       "mean       9.858475  6.541549e+06     60.348651      2.070636        2.771499   \n",
       "std        5.682529  1.088701e+07     35.654083      1.078405        1.261056   \n",
       "min        0.000000  1.219000e+04     12.000000      0.000000        1.000000   \n",
       "25%        6.000000  3.400000e+06     40.000000      1.000000        2.520000   \n",
       "50%        9.000000  4.650000e+06     52.000000      2.000000        2.650000   \n",
       "75%       14.000000  6.800000e+06     69.900000      3.000000        2.800000   \n",
       "max       50.000000  7.630000e+08    900.000000     19.000000      100.000000   \n",
       "\n",
       "       floors_total   living_area         floor  kitchen_area       balcony  \\\n",
       "count  23613.000000  21796.000000  23699.000000  21421.000000  12180.000000   \n",
       "mean      10.673824     34.457852      5.892358     10.569807      1.150082   \n",
       "std        6.597173     22.030445      4.885249      5.905438      1.071300   \n",
       "min        1.000000      2.000000      1.000000      1.300000      0.000000   \n",
       "25%        5.000000     18.600000      2.000000      7.000000      0.000000   \n",
       "50%        9.000000     30.000000      4.000000      9.100000      1.000000   \n",
       "75%       16.000000     42.300000      8.000000     12.000000      2.000000   \n",
       "max       60.000000    409.700000     33.000000    112.000000      5.000000   \n",
       "\n",
       "       airports_nearest  cityCenters_nearest  parks_around3000  parks_nearest  \\\n",
       "count      18157.000000         18180.000000      18181.000000    8079.000000   \n",
       "mean       28793.672193         14191.277833          0.611408     490.804555   \n",
       "std        12630.880622          8608.386210          0.802074     342.317995   \n",
       "min            0.000000           181.000000          0.000000       1.000000   \n",
       "25%        18585.000000          9238.000000          0.000000     288.000000   \n",
       "50%        26726.000000         13098.500000          0.000000     455.000000   \n",
       "75%        37273.000000         16293.000000          1.000000     612.000000   \n",
       "max        84869.000000         65968.000000          3.000000    3190.000000   \n",
       "\n",
       "       ponds_around3000  ponds_nearest  days_exposition  \n",
       "count      18181.000000    9110.000000     20518.000000  \n",
       "mean           0.770255     517.980900       180.888634  \n",
       "std            0.938346     277.720643       219.727988  \n",
       "min            0.000000      13.000000         1.000000  \n",
       "25%            0.000000     294.000000        45.000000  \n",
       "50%            1.000000     502.000000        95.000000  \n",
       "75%            1.000000     729.000000       232.000000  \n",
       "max            3.000000    1344.000000      1580.000000  "
      ]
     },
     "execution_count": 5,
     "metadata": {},
     "output_type": "execute_result"
    }
   ],
   "source": [
    "data.describe() #описание множества параметров по столбцам"
   ]
  },
  {
   "cell_type": "markdown",
   "metadata": {},
   "source": [
    "Некоторые колонки заполнены аномальными значениями. Нужно проверять и фильтровать данные"
   ]
  },
  {
   "cell_type": "code",
   "execution_count": 6,
   "metadata": {},
   "outputs": [
    {
     "data": {
      "text/plain": [
       "array([[<AxesSubplot:title={'center':'total_images'}>,\n",
       "        <AxesSubplot:title={'center':'last_price'}>,\n",
       "        <AxesSubplot:title={'center':'total_area'}>,\n",
       "        <AxesSubplot:title={'center':'rooms'}>],\n",
       "       [<AxesSubplot:title={'center':'ceiling_height'}>,\n",
       "        <AxesSubplot:title={'center':'floors_total'}>,\n",
       "        <AxesSubplot:title={'center':'living_area'}>,\n",
       "        <AxesSubplot:title={'center':'floor'}>],\n",
       "       [<AxesSubplot:title={'center':'kitchen_area'}>,\n",
       "        <AxesSubplot:title={'center':'balcony'}>,\n",
       "        <AxesSubplot:title={'center':'airports_nearest'}>,\n",
       "        <AxesSubplot:title={'center':'cityCenters_nearest'}>],\n",
       "       [<AxesSubplot:title={'center':'parks_around3000'}>,\n",
       "        <AxesSubplot:title={'center':'parks_nearest'}>,\n",
       "        <AxesSubplot:title={'center':'ponds_around3000'}>,\n",
       "        <AxesSubplot:title={'center':'ponds_nearest'}>],\n",
       "       [<AxesSubplot:title={'center':'days_exposition'}>, <AxesSubplot:>,\n",
       "        <AxesSubplot:>, <AxesSubplot:>]], dtype=object)"
      ]
     },
     "execution_count": 6,
     "metadata": {},
     "output_type": "execute_result"
    },
    {
     "data": {
      "image/png": "[encoded data removed]",
      "text/plain": [
       "<Figure size 1080x1440 with 20 Axes>"
      ]
     },
     "metadata": {
      "needs_background": "light"
     },
     "output_type": "display_data"
    }
   ],
   "source": [
    "data.hist(figsize=(15, 20), bins=20) #построение гистограмм"
   ]
  },
  {
   "cell_type": "code",
   "execution_count": 7,
   "metadata": {},
   "outputs": [
    {
     "data": {
      "text/plain": [
       "23699"
      ]
     },
     "execution_count": 7,
     "metadata": {},
     "output_type": "execute_result"
    }
   ],
   "source": [
    "shape=data.shape[0]\n",
    "shape"
   ]
  },
  {
   "cell_type": "markdown",
   "metadata": {},
   "source": [
    "В датафрейме 23699 записей, на гистограммах видны аномальные значения, а благодаря методу describe() - видны минимумы и максимумы всех колонок, большинство из них требуют фильтрации аномальных значений. После их удаления и заполнения пропущенных значений, данные будут пригодны к объективному анализу. "
   ]
  },
  {
   "cell_type": "markdown",
   "metadata": {
    "id": "-O5NtivEAwb9"
   },
   "source": [
    "### Предобработка данных\n"
   ]
  },
  {
   "cell_type": "markdown",
   "metadata": {},
   "source": [
    "#### Изменение типа данных, названия колонок, заполнение пропусков"
   ]
  },
  {
   "cell_type": "code",
   "execution_count": 8,
   "metadata": {},
   "outputs": [],
   "source": [
    "data = data.rename(columns={'cityCenters_nearest': 'city_centers_nearest', \n",
    "                            'parks_around3000': 'parks_around_3000', \n",
    "                            'ponds_around3000': 'ponds_around_3000'}) #переименовываем в правильный snake_case"
   ]
  },
  {
   "cell_type": "markdown",
   "metadata": {},
   "source": [
    "Применили правильные названия столбцов, далее заполнение пропусков"
   ]
  },
  {
   "cell_type": "markdown",
   "metadata": {},
   "source": [
    "**Пропущенные значения наблюдаются в столбцах:**"
   ]
  },
  {
   "cell_type": "code",
   "execution_count": 9,
   "metadata": {},
   "outputs": [
    {
     "data": {
      "text/plain": [
       "total_images                0\n",
       "last_price                  0\n",
       "total_area                  0\n",
       "first_day_exposition        0\n",
       "rooms                       0\n",
       "ceiling_height           9195\n",
       "floors_total               86\n",
       "living_area              1903\n",
       "floor                       0\n",
       "is_apartment            20924\n",
       "studio                      0\n",
       "open_plan                   0\n",
       "kitchen_area             2278\n",
       "balcony                 11519\n",
       "locality_name              49\n",
       "airports_nearest         5542\n",
       "city_centers_nearest     5519\n",
       "parks_around_3000        5518\n",
       "parks_nearest           15620\n",
       "ponds_around_3000        5518\n",
       "ponds_nearest           14589\n",
       "days_exposition          3181\n",
       "dtype: int64"
      ]
     },
     "execution_count": 9,
     "metadata": {},
     "output_type": "execute_result"
    }
   ],
   "source": [
    "data.isna().sum() #считаем пропуски. Во многих столбцах нельзя заменить пропущенные данные, так как это может исказить настоящую информацию о квартире"
   ]
  },
  {
   "cell_type": "markdown",
   "metadata": {},
   "source": [
    "*Пропуски данных в этих столбцах возникают, в большинстве, из-за человеческого фактора. Не все продавцы заполняют полную информацию, когда создают объявление. Но так же не стоит упускать возможность появления пропусков из-за багов, технических неполадок, отсутствия необходимой информации.*"
   ]
  },
  {
   "cell_type": "markdown",
   "metadata": {},
   "source": [
    "Из всех пропусков мы можем заменить только пропуски в колонках is_apartment и balcony на False и 0 соответственно. Потому что владельцы жилых помещений просто не указывают информацию об апартаментах, а количество балокнов не указывают из-за их отсутствия "
   ]
  },
  {
   "cell_type": "code",
   "execution_count": 10,
   "metadata": {},
   "outputs": [],
   "source": [
    "data['is_apartment'].fillna(False, inplace=True)\n",
    "data['balcony'].fillna(0, inplace=True)"
   ]
  },
  {
   "cell_type": "code",
   "execution_count": 11,
   "metadata": {
    "id": "7v3vAeTuAwb-"
   },
   "outputs": [
    {
     "data": {
      "text/plain": [
       "is_apartment    0\n",
       "balcony         0\n",
       "dtype: int64"
      ]
     },
     "execution_count": 11,
     "metadata": {},
     "output_type": "execute_result"
    }
   ],
   "source": [
    "data[['is_apartment', 'balcony']].isna().sum() #проверка замены"
   ]
  },
  {
   "cell_type": "markdown",
   "metadata": {},
   "source": [
    "Столбцы - first_day_exposition - замена в формат datetime из object\n",
    "<br>Остальные замены в тип данных int64 нужны для того, чтобы заменить float64, в переменных, где встречаются только целые числа\n",
    "<br>*В некоторых столбцах, например, floors_total из-за отсутствия данных невозможно сменить тип на int64*\n"
   ]
  },
  {
   "cell_type": "code",
   "execution_count": 12,
   "metadata": {},
   "outputs": [],
   "source": [
    "data['first_day_exposition'] = pd.to_datetime(\n",
    "    data['first_day_exposition'],format='%Y-%m-%dT%H:%M:%S')\n",
    "data['last_price'] = data['last_price'].astype('int')\n",
    "data['balcony'] = data['balcony'].astype('int')"
   ]
  },
  {
   "cell_type": "code",
   "execution_count": 13,
   "metadata": {},
   "outputs": [
    {
     "data": {
      "text/plain": [
       "first_day_exposition    datetime64[ns]\n",
       "last_price                       int64\n",
       "balcony                          int64\n",
       "dtype: object"
      ]
     },
     "execution_count": 13,
     "metadata": {},
     "output_type": "execute_result"
    }
   ],
   "source": [
    "data[['first_day_exposition', 'last_price', 'balcony']].dtypes #проверка"
   ]
  },
  {
   "cell_type": "markdown",
   "metadata": {},
   "source": [
    "#### Поиск и обработка дубликатов"
   ]
  },
  {
   "cell_type": "code",
   "execution_count": 14,
   "metadata": {},
   "outputs": [
    {
     "data": {
      "text/plain": [
       "0"
      ]
     },
     "execution_count": 14,
     "metadata": {},
     "output_type": "execute_result"
    }
   ],
   "source": [
    "data.duplicated().sum() #явные дубликаты"
   ]
  },
  {
   "cell_type": "markdown",
   "metadata": {},
   "source": [
    "Явных дубликатов нет, значит придется искать дубликаты через уникальные значения. Искать их будем в столбце locality_name"
   ]
  },
  {
   "cell_type": "code",
   "execution_count": 15,
   "metadata": {},
   "outputs": [
    {
     "data": {
      "text/plain": [
       "array(['Бокситогорск', 'Волосово', 'Волхов', 'Всеволожск', 'Выборг',\n",
       "       'Высоцк', 'Гатчина', 'Зеленогорск', 'Ивангород', 'Каменногорск',\n",
       "       'Кингисепп', 'Кириши', 'Кировск', 'Колпино', 'Коммунар',\n",
       "       'Красное Село', 'Кронштадт', 'Кудрово', 'Лодейное Поле',\n",
       "       'Ломоносов', 'Луга', 'Любань', 'Мурино', 'Никольское',\n",
       "       'Новая Ладога', 'Отрадное', 'Павловск', 'Петергоф', 'Пикалёво',\n",
       "       'Подпорожье', 'Приморск', 'Приозерск', 'Пушкин', 'Санкт-Петербург',\n",
       "       'Светогорск', 'Сертолово', 'Сестрорецк', 'Сланцы', 'Сосновый Бор',\n",
       "       'Сясьстрой', 'Тихвин', 'Тосно', 'Шлиссельбург',\n",
       "       'городской поселок Большая Ижора', 'городской поселок Янино-1',\n",
       "       'городской посёлок Будогощь', 'городской посёлок Виллози',\n",
       "       'городской посёлок Лесогорский', 'городской посёлок Мга',\n",
       "       'городской посёлок Назия', 'городской посёлок Новоселье',\n",
       "       'городской посёлок Павлово', 'городской посёлок Рощино',\n",
       "       'городской посёлок Свирьстрой', 'городской посёлок Советский',\n",
       "       'городской посёлок Фёдоровское', 'городской посёлок Янино-1',\n",
       "       'деревня Агалатово', 'деревня Аро', 'деревня Батово',\n",
       "       'деревня Бегуницы', 'деревня Белогорка', 'деревня Большая Вруда',\n",
       "       'деревня Большая Пустомержа', 'деревня Большие Колпаны',\n",
       "       'деревня Большое Рейзино', 'деревня Большой Сабск', 'деревня Бор',\n",
       "       'деревня Борисова Грива', 'деревня Ваганово', 'деревня Вартемяги',\n",
       "       'деревня Вахнова Кара', 'деревня Выскатка', 'деревня Гарболово',\n",
       "       'деревня Глинка', 'деревня Горбунки', 'деревня Гостилицы',\n",
       "       'деревня Заклинье', 'деревня Заневка', 'деревня Зимитицы',\n",
       "       'деревня Извара', 'деревня Иссад', 'деревня Калитино',\n",
       "       'деревня Кальтино', 'деревня Камышовка', 'деревня Каськово',\n",
       "       'деревня Келози', 'деревня Кипень', 'деревня Кисельня',\n",
       "       'деревня Колтуши', 'деревня Коркино', 'деревня Котлы',\n",
       "       'деревня Кривко', 'деревня Кудрово', 'деревня Кузьмолово',\n",
       "       'деревня Курковицы', 'деревня Куровицы', 'деревня Куттузи',\n",
       "       'деревня Лаврики', 'деревня Лаголово', 'деревня Лампово',\n",
       "       'деревня Лесколово', 'деревня Лопухинка', 'деревня Лупполово',\n",
       "       'деревня Малая Романовка', 'деревня Малое Верево',\n",
       "       'деревня Малое Карлино', 'деревня Малые Колпаны',\n",
       "       'деревня Мануйлово', 'деревня Меньково', 'деревня Мины',\n",
       "       'деревня Мистолово', 'деревня Ненимяки', 'деревня Нижние Осельки',\n",
       "       'деревня Нижняя', 'деревня Низино', 'деревня Новое Девяткино',\n",
       "       'деревня Новолисино', 'деревня Нурма', 'деревня Оржицы',\n",
       "       'деревня Парицы', 'деревня Пельгора', 'деревня Пеники',\n",
       "       'деревня Пижма', 'деревня Пикколово', 'деревня Пудомяги',\n",
       "       'деревня Пустынка', 'деревня Пчева', 'деревня Рабитицы',\n",
       "       'деревня Разбегаево', 'деревня Раздолье', 'деревня Разметелево',\n",
       "       'деревня Рапполово', 'деревня Реброво', 'деревня Русско',\n",
       "       'деревня Сижно', 'деревня Снегирёвка', 'деревня Старая',\n",
       "       'деревня Старая Пустошь', 'деревня Старое Хинколово',\n",
       "       'деревня Старополье', 'деревня Старосиверская',\n",
       "       'деревня Старые Бегуницы', 'деревня Суоранда',\n",
       "       'деревня Сяськелево', 'деревня Тарасово', 'деревня Терпилицы',\n",
       "       'деревня Тихковицы', 'деревня Тойворово', 'деревня Торосово',\n",
       "       'деревня Торошковичи', 'деревня Трубников Бор',\n",
       "       'деревня Фалилеево', 'деревня Фёдоровское', 'деревня Хапо-Ое',\n",
       "       'деревня Хязельки', 'деревня Чудской Бор', 'деревня Шпаньково',\n",
       "       'деревня Щеглово', 'деревня Юкки', 'деревня Ялгино',\n",
       "       'деревня Яльгелево', 'деревня Ям-Тесово',\n",
       "       'коттеджный поселок Кивеннапа Север', 'коттеджный поселок Счастье',\n",
       "       'коттеджный посёлок Лесное', 'поселок Аннино', 'поселок Барышево',\n",
       "       'поселок Бугры', 'поселок Возрождение', 'поселок Войсковицы',\n",
       "       'поселок Володарское', 'поселок Гаврилово', 'поселок Гарболово',\n",
       "       'поселок Гладкое', 'поселок Глажево', 'поселок Глебычево',\n",
       "       'поселок Гончарово', 'поселок Громово', 'поселок Дружноселье',\n",
       "       'поселок Елизаветино', 'поселок Жилгородок', 'поселок Жилпосёлок',\n",
       "       'поселок Житково', 'поселок Заводской', 'поселок Запорожское',\n",
       "       'поселок Зимитицы', 'поселок Ильичёво', 'поселок Калитино',\n",
       "       'поселок Каложицы', 'поселок Кингисеппский', 'поселок Кирпичное',\n",
       "       'поселок Кобралово', 'поселок Кобринское', 'поселок Коммунары',\n",
       "       'поселок Коробицыно', 'поселок Котельский',\n",
       "       'поселок Красная Долина', 'поселок Красносельское',\n",
       "       'поселок Лесное', 'поселок Лисий Нос', 'поселок Лукаши',\n",
       "       'поселок Любань', 'поселок Мельниково', 'поселок Мичуринское',\n",
       "       'поселок Молодцово', 'поселок Мурино', 'поселок Новый Свет',\n",
       "       'поселок Новый Учхоз', 'поселок Оредеж',\n",
       "       'поселок Пансионат Зелёный Бор', 'поселок Первомайское',\n",
       "       'поселок Перово', 'поселок Петровское', 'поселок Победа',\n",
       "       'поселок Поляны', 'поселок Почап', 'поселок Починок',\n",
       "       'поселок Пушное', 'поселок Пчевжа', 'поселок Рабитицы',\n",
       "       'поселок Романовка', 'поселок Ромашки', 'поселок Рябово',\n",
       "       'поселок Севастьяново', 'поселок Селезнёво', 'поселок Сельцо',\n",
       "       'поселок Семиозерье', 'поселок Семрино', 'поселок Серебрянский',\n",
       "       'поселок Совхозный', 'поселок Старая Малукса',\n",
       "       'поселок Стеклянный', 'поселок Сумино', 'поселок Суходолье',\n",
       "       'поселок Тельмана', 'поселок Терволово', 'поселок Торковичи',\n",
       "       'поселок Тёсово-4', 'поселок Углово', 'поселок Усть-Луга',\n",
       "       'поселок Ушаки', 'поселок Цвелодубово', 'поселок Цвылёво',\n",
       "       'поселок городского типа Большая Ижора',\n",
       "       'поселок городского типа Вырица',\n",
       "       'поселок городского типа Дружная Горка',\n",
       "       'поселок городского типа Дубровка',\n",
       "       'поселок городского типа Ефимовский',\n",
       "       'поселок городского типа Кондратьево',\n",
       "       'поселок городского типа Красный Бор',\n",
       "       'поселок городского типа Кузьмоловский',\n",
       "       'поселок городского типа Лебяжье',\n",
       "       'поселок городского типа Лесогорский',\n",
       "       'поселок городского типа Назия',\n",
       "       'поселок городского типа Никольский',\n",
       "       'поселок городского типа Приладожский',\n",
       "       'поселок городского типа Рахья', 'поселок городского типа Рощино',\n",
       "       'поселок городского типа Рябово',\n",
       "       'поселок городского типа Синявино',\n",
       "       'поселок городского типа Советский',\n",
       "       'поселок городского типа Токсово',\n",
       "       'поселок городского типа Форносово',\n",
       "       'поселок городского типа имени Свердлова',\n",
       "       'поселок станции Вещево', 'поселок станции Корнево',\n",
       "       'поселок станции Лужайка', 'поселок станции Приветнинское',\n",
       "       'посёлок Александровская', 'посёлок Алексеевка', 'посёлок Аннино',\n",
       "       'посёлок Белоостров', 'посёлок Бугры', 'посёлок Возрождение',\n",
       "       'посёлок Войскорово', 'посёлок Высокоключевой',\n",
       "       'посёлок Гаврилово', 'посёлок Дзержинского', 'посёлок Жилгородок',\n",
       "       'посёлок Ильичёво', 'посёлок Кикерино', 'посёлок Кобралово',\n",
       "       'посёлок Коробицыно', 'посёлок Левашово', 'посёлок Ленинское',\n",
       "       'посёлок Лисий Нос', 'посёлок Мельниково', 'посёлок Металлострой',\n",
       "       'посёлок Мичуринское', 'посёлок Молодёжное', 'посёлок Мурино',\n",
       "       'посёлок Мыза-Ивановка', 'посёлок Новогорелово',\n",
       "       'посёлок Новый Свет', 'посёлок Пансионат Зелёный Бор',\n",
       "       'посёлок Парголово', 'посёлок Перово', 'посёлок Песочный',\n",
       "       'посёлок Петро-Славянка', 'посёлок Петровское',\n",
       "       'посёлок Платформа 69-й километр', 'посёлок Плодовое',\n",
       "       'посёлок Плоское', 'посёлок Победа', 'посёлок Поляны',\n",
       "       'посёлок Понтонный', 'посёлок Пригородный', 'посёлок Пудость',\n",
       "       'посёлок Репино', 'посёлок Ропша', 'посёлок Сапёрное',\n",
       "       'посёлок Сапёрный', 'посёлок Сосново', 'посёлок Старая Малукса',\n",
       "       'посёлок Стеклянный', 'посёлок Стрельна', 'посёлок Суйда',\n",
       "       'посёлок Сумино', 'посёлок Тельмана', 'посёлок Терволово',\n",
       "       'посёлок Торфяное', 'посёлок Усть-Ижора', 'посёлок Усть-Луга',\n",
       "       'посёлок Форт Красная Горка', 'посёлок Шугозеро', 'посёлок Шушары',\n",
       "       'посёлок Щеглово', 'посёлок городского типа Важины',\n",
       "       'посёлок городского типа Вознесенье',\n",
       "       'посёлок городского типа Вырица',\n",
       "       'посёлок городского типа Красный Бор',\n",
       "       'посёлок городского типа Кузнечное',\n",
       "       'посёлок городского типа Кузьмоловский',\n",
       "       'посёлок городского типа Лебяжье', 'посёлок городского типа Мга',\n",
       "       'посёлок городского типа Павлово',\n",
       "       'посёлок городского типа Рощино', 'посёлок городского типа Рябово',\n",
       "       'посёлок городского типа Сиверский',\n",
       "       'посёлок городского типа Тайцы', 'посёлок городского типа Токсово',\n",
       "       'посёлок городского типа Ульяновка',\n",
       "       'посёлок городского типа Форносово',\n",
       "       'посёлок городского типа имени Морозова',\n",
       "       'посёлок городского типа имени Свердлова',\n",
       "       'посёлок при железнодорожной станции Вещево',\n",
       "       'посёлок при железнодорожной станции Приветнинское',\n",
       "       'посёлок станции Громово', 'посёлок станции Свирь',\n",
       "       'садоводческое некоммерческое товарищество Лесная Поляна',\n",
       "       'садовое товарищество Новая Ропша',\n",
       "       'садовое товарищество Приладожский', 'садовое товарищество Рахья',\n",
       "       'садовое товарищество Садко', 'село Копорье', 'село Никольское',\n",
       "       'село Павлово', 'село Паша', 'село Путилово', 'село Рождествено',\n",
       "       'село Русско-Высоцкое', 'село Старая Ладога', 'село Шум', nan],\n",
       "      dtype=object)"
      ]
     },
     "execution_count": 15,
     "metadata": {},
     "output_type": "execute_result"
    }
   ],
   "source": [
    "data['locality_name'].sort_values().unique()"
   ]
  },
  {
   "cell_type": "markdown",
   "metadata": {},
   "source": [
    "Из уникальных значений видно:\n",
    "<br>Нужно заменить строки содержащие Ё, есть такие же названия, но с буквой Е"
   ]
  },
  {
   "cell_type": "code",
   "execution_count": 16,
   "metadata": {
    "scrolled": true
   },
   "outputs": [
    {
     "data": {
      "text/plain": [
       "array(['Бокситогорск', 'Волосово', 'Волхов', 'Всеволожск', 'Выборг',\n",
       "       'Высоцк', 'Гатчина', 'Зеленогорск', 'Ивангород', 'Каменногорск',\n",
       "       'Кингисепп', 'Кириши', 'Кировск', 'Колпино', 'Коммунар',\n",
       "       'Красное Село', 'Кронштадт', 'Кудрово', 'Лодейное Поле',\n",
       "       'Ломоносов', 'Луга', 'Любань', 'Мурино', 'Никольское',\n",
       "       'Новая Ладога', 'Отрадное', 'Павловск', 'Петергоф', 'Пикалево',\n",
       "       'Подпорожье', 'Приморск', 'Приозерск', 'Пушкин', 'Санкт-Петербург',\n",
       "       'Светогорск', 'Сертолово', 'Сестрорецк', 'Сланцы', 'Сосновый Бор',\n",
       "       'Сясьстрой', 'Тихвин', 'Тосно', 'Шлиссельбург',\n",
       "       'городской поселок Большая Ижора', 'городской поселок Будогощь',\n",
       "       'городской поселок Виллози', 'городской поселок Лесогорский',\n",
       "       'городской поселок Мга', 'городской поселок Назия',\n",
       "       'городской поселок Новоселье', 'городской поселок Павлово',\n",
       "       'городской поселок Рощино', 'городской поселок Свирьстрой',\n",
       "       'городской поселок Советский', 'городской поселок Федоровское',\n",
       "       'городской поселок Янино-1', 'деревня Агалатово', 'деревня Аро',\n",
       "       'деревня Батово', 'деревня Бегуницы', 'деревня Белогорка',\n",
       "       'деревня Большая Вруда', 'деревня Большая Пустомержа',\n",
       "       'деревня Большие Колпаны', 'деревня Большое Рейзино',\n",
       "       'деревня Большой Сабск', 'деревня Бор', 'деревня Борисова Грива',\n",
       "       'деревня Ваганово', 'деревня Вартемяги', 'деревня Вахнова Кара',\n",
       "       'деревня Выскатка', 'деревня Гарболово', 'деревня Глинка',\n",
       "       'деревня Горбунки', 'деревня Гостилицы', 'деревня Заклинье',\n",
       "       'деревня Заневка', 'деревня Зимитицы', 'деревня Извара',\n",
       "       'деревня Иссад', 'деревня Калитино', 'деревня Кальтино',\n",
       "       'деревня Камышовка', 'деревня Каськово', 'деревня Келози',\n",
       "       'деревня Кипень', 'деревня Кисельня', 'деревня Колтуши',\n",
       "       'деревня Коркино', 'деревня Котлы', 'деревня Кривко',\n",
       "       'деревня Кудрово', 'деревня Кузьмолово', 'деревня Курковицы',\n",
       "       'деревня Куровицы', 'деревня Куттузи', 'деревня Лаврики',\n",
       "       'деревня Лаголово', 'деревня Лампово', 'деревня Лесколово',\n",
       "       'деревня Лопухинка', 'деревня Лупполово',\n",
       "       'деревня Малая Романовка', 'деревня Малое Верево',\n",
       "       'деревня Малое Карлино', 'деревня Малые Колпаны',\n",
       "       'деревня Мануйлово', 'деревня Меньково', 'деревня Мины',\n",
       "       'деревня Мистолово', 'деревня Ненимяки', 'деревня Нижние Осельки',\n",
       "       'деревня Нижняя', 'деревня Низино', 'деревня Новое Девяткино',\n",
       "       'деревня Новолисино', 'деревня Нурма', 'деревня Оржицы',\n",
       "       'деревня Парицы', 'деревня Пельгора', 'деревня Пеники',\n",
       "       'деревня Пижма', 'деревня Пикколово', 'деревня Пудомяги',\n",
       "       'деревня Пустынка', 'деревня Пчева', 'деревня Рабитицы',\n",
       "       'деревня Разбегаево', 'деревня Раздолье', 'деревня Разметелево',\n",
       "       'деревня Рапполово', 'деревня Реброво', 'деревня Русско',\n",
       "       'деревня Сижно', 'деревня Снегиревка', 'деревня Старая',\n",
       "       'деревня Старая Пустошь', 'деревня Старое Хинколово',\n",
       "       'деревня Старополье', 'деревня Старосиверская',\n",
       "       'деревня Старые Бегуницы', 'деревня Суоранда',\n",
       "       'деревня Сяськелево', 'деревня Тарасово', 'деревня Терпилицы',\n",
       "       'деревня Тихковицы', 'деревня Тойворово', 'деревня Торосово',\n",
       "       'деревня Торошковичи', 'деревня Трубников Бор',\n",
       "       'деревня Фалилеево', 'деревня Федоровское', 'деревня Хапо-Ое',\n",
       "       'деревня Хязельки', 'деревня Чудской Бор', 'деревня Шпаньково',\n",
       "       'деревня Щеглово', 'деревня Юкки', 'деревня Ялгино',\n",
       "       'деревня Яльгелево', 'деревня Ям-Тесово',\n",
       "       'коттеджный поселок Кивеннапа Север', 'коттеджный поселок Лесное',\n",
       "       'коттеджный поселок Счастье', 'поселок Александровская',\n",
       "       'поселок Алексеевка', 'поселок Аннино', 'поселок Барышево',\n",
       "       'поселок Белоостров', 'поселок Бугры', 'поселок Возрождение',\n",
       "       'поселок Войсковицы', 'поселок Войскорово', 'поселок Володарское',\n",
       "       'поселок Высокоключевой', 'поселок Гаврилово', 'поселок Гарболово',\n",
       "       'поселок Гладкое', 'поселок Глажево', 'поселок Глебычево',\n",
       "       'поселок Гончарово', 'поселок Громово', 'поселок Дзержинского',\n",
       "       'поселок Дружноселье', 'поселок Елизаветино', 'поселок Жилгородок',\n",
       "       'поселок Жилпоселок', 'поселок Житково', 'поселок Заводской',\n",
       "       'поселок Запорожское', 'поселок Зимитицы', 'поселок Ильичево',\n",
       "       'поселок Калитино', 'поселок Каложицы', 'поселок Кикерино',\n",
       "       'поселок Кингисеппский', 'поселок Кирпичное', 'поселок Кобралово',\n",
       "       'поселок Кобринское', 'поселок Коммунары', 'поселок Коробицыно',\n",
       "       'поселок Котельский', 'поселок Красная Долина',\n",
       "       'поселок Красносельское', 'поселок Левашово', 'поселок Ленинское',\n",
       "       'поселок Лесное', 'поселок Лисий Нос', 'поселок Лукаши',\n",
       "       'поселок Любань', 'поселок Мельниково', 'поселок Металлострой',\n",
       "       'поселок Мичуринское', 'поселок Молодежное', 'поселок Молодцово',\n",
       "       'поселок Мурино', 'поселок Мыза-Ивановка', 'поселок Новогорелово',\n",
       "       'поселок Новый Свет', 'поселок Новый Учхоз', 'поселок Оредеж',\n",
       "       'поселок Пансионат Зеленый Бор', 'поселок Парголово',\n",
       "       'поселок Первомайское', 'поселок Перово', 'поселок Песочный',\n",
       "       'поселок Петро-Славянка', 'поселок Петровское',\n",
       "       'поселок Платформа 69-й километр', 'поселок Плодовое',\n",
       "       'поселок Плоское', 'поселок Победа', 'поселок Поляны',\n",
       "       'поселок Понтонный', 'поселок Почап', 'поселок Починок',\n",
       "       'поселок Пригородный', 'поселок Пудость', 'поселок Пушное',\n",
       "       'поселок Пчевжа', 'поселок Рабитицы', 'поселок Репино',\n",
       "       'поселок Романовка', 'поселок Ромашки', 'поселок Ропша',\n",
       "       'поселок Рябово', 'поселок Саперное', 'поселок Саперный',\n",
       "       'поселок Севастьяново', 'поселок Селезнево', 'поселок Сельцо',\n",
       "       'поселок Семиозерье', 'поселок Семрино', 'поселок Серебрянский',\n",
       "       'поселок Совхозный', 'поселок Сосново', 'поселок Старая Малукса',\n",
       "       'поселок Стеклянный', 'поселок Стрельна', 'поселок Суйда',\n",
       "       'поселок Сумино', 'поселок Суходолье', 'поселок Тельмана',\n",
       "       'поселок Терволово', 'поселок Тесово-4', 'поселок Торковичи',\n",
       "       'поселок Торфяное', 'поселок Углово', 'поселок Усть-Ижора',\n",
       "       'поселок Усть-Луга', 'поселок Ушаки', 'поселок Форт Красная Горка',\n",
       "       'поселок Цвелодубово', 'поселок Цвылево', 'поселок Шугозеро',\n",
       "       'поселок Шушары', 'поселок Щеглово',\n",
       "       'поселок городского типа Большая Ижора',\n",
       "       'поселок городского типа Важины',\n",
       "       'поселок городского типа Вознесенье',\n",
       "       'поселок городского типа Вырица',\n",
       "       'поселок городского типа Дружная Горка',\n",
       "       'поселок городского типа Дубровка',\n",
       "       'поселок городского типа Ефимовский',\n",
       "       'поселок городского типа Кондратьево',\n",
       "       'поселок городского типа Красный Бор',\n",
       "       'поселок городского типа Кузнечное',\n",
       "       'поселок городского типа Кузьмоловский',\n",
       "       'поселок городского типа Лебяжье',\n",
       "       'поселок городского типа Лесогорский',\n",
       "       'поселок городского типа Мга', 'поселок городского типа Назия',\n",
       "       'поселок городского типа Никольский',\n",
       "       'поселок городского типа Павлово',\n",
       "       'поселок городского типа Приладожский',\n",
       "       'поселок городского типа Рахья', 'поселок городского типа Рощино',\n",
       "       'поселок городского типа Рябово',\n",
       "       'поселок городского типа Сиверский',\n",
       "       'поселок городского типа Синявино',\n",
       "       'поселок городского типа Советский',\n",
       "       'поселок городского типа Тайцы', 'поселок городского типа Токсово',\n",
       "       'поселок городского типа Ульяновка',\n",
       "       'поселок городского типа Форносово',\n",
       "       'поселок городского типа имени Морозова',\n",
       "       'поселок городского типа имени Свердлова',\n",
       "       'поселок при железнодорожной станции Вещево',\n",
       "       'поселок при железнодорожной станции Приветнинское',\n",
       "       'поселок станции Вещево', 'поселок станции Громово',\n",
       "       'поселок станции Корнево', 'поселок станции Лужайка',\n",
       "       'поселок станции Приветнинское', 'поселок станции Свирь',\n",
       "       'садоводческое некоммерческое товарищество Лесная Поляна',\n",
       "       'садовое товарищество Новая Ропша',\n",
       "       'садовое товарищество Приладожский', 'садовое товарищество Рахья',\n",
       "       'садовое товарищество Садко', 'село Копорье', 'село Никольское',\n",
       "       'село Павлово', 'село Паша', 'село Путилово', 'село Рождествено',\n",
       "       'село Русско-Высоцкое', 'село Старая Ладога', 'село Шум', nan],\n",
       "      dtype=object)"
      ]
     },
     "execution_count": 16,
     "metadata": {},
     "output_type": "execute_result"
    }
   ],
   "source": [
    "data['locality_name'] = data['locality_name'].str.replace('ё', 'е')\n",
    "data['locality_name'].sort_values().unique()"
   ]
  },
  {
   "cell_type": "markdown",
   "metadata": {},
   "source": [
    "Далее, я заметил, что встречаются городской поселок Мга и поселок городского типа Мга, поселок при железнодорожной станции Вещево и поселок станции Вещево и т.п. Нужно привести данные к одному виду"
   ]
  },
  {
   "cell_type": "code",
   "execution_count": 17,
   "metadata": {},
   "outputs": [
    {
     "data": {
      "text/plain": [
       "array(['Бокситогорск', 'Волосово', 'Волхов', 'Всеволожск', 'Выборг',\n",
       "       'Высоцк', 'Гатчина', 'Зеленогорск', 'Ивангород', 'Каменногорск',\n",
       "       'Кингисепп', 'Кириши', 'Кировск', 'Колпино', 'Коммунар',\n",
       "       'Красное Село', 'Кронштадт', 'Кудрово', 'Лодейное Поле',\n",
       "       'Ломоносов', 'Луга', 'Любань', 'Мурино', 'Никольское',\n",
       "       'Новая Ладога', 'Отрадное', 'Павловск', 'Петергоф', 'Пикалево',\n",
       "       'Подпорожье', 'Приморск', 'Приозерск', 'Пушкин', 'Санкт-Петербург',\n",
       "       'Светогорск', 'Сертолово', 'Сестрорецк', 'Сланцы', 'Сосновый Бор',\n",
       "       'Сясьстрой', 'Тихвин', 'Тосно', 'Шлиссельбург',\n",
       "       'деревня Агалатово', 'деревня Аро', 'деревня Батово',\n",
       "       'деревня Бегуницы', 'деревня Белогорка', 'деревня Большая Вруда',\n",
       "       'деревня Большая Пустомержа', 'деревня Большие Колпаны',\n",
       "       'деревня Большое Рейзино', 'деревня Большой Сабск', 'деревня Бор',\n",
       "       'деревня Борисова Грива', 'деревня Ваганово', 'деревня Вартемяги',\n",
       "       'деревня Вахнова Кара', 'деревня Выскатка', 'деревня Гарболово',\n",
       "       'деревня Глинка', 'деревня Горбунки', 'деревня Гостилицы',\n",
       "       'деревня Заклинье', 'деревня Заневка', 'деревня Зимитицы',\n",
       "       'деревня Извара', 'деревня Иссад', 'деревня Калитино',\n",
       "       'деревня Кальтино', 'деревня Камышовка', 'деревня Каськово',\n",
       "       'деревня Келози', 'деревня Кипень', 'деревня Кисельня',\n",
       "       'деревня Колтуши', 'деревня Коркино', 'деревня Котлы',\n",
       "       'деревня Кривко', 'деревня Кудрово', 'деревня Кузьмолово',\n",
       "       'деревня Курковицы', 'деревня Куровицы', 'деревня Куттузи',\n",
       "       'деревня Лаврики', 'деревня Лаголово', 'деревня Лампово',\n",
       "       'деревня Лесколово', 'деревня Лопухинка', 'деревня Лупполово',\n",
       "       'деревня Малая Романовка', 'деревня Малое Верево',\n",
       "       'деревня Малое Карлино', 'деревня Малые Колпаны',\n",
       "       'деревня Мануйлово', 'деревня Меньково', 'деревня Мины',\n",
       "       'деревня Мистолово', 'деревня Ненимяки', 'деревня Нижние Осельки',\n",
       "       'деревня Нижняя', 'деревня Низино', 'деревня Новое Девяткино',\n",
       "       'деревня Новолисино', 'деревня Нурма', 'деревня Оржицы',\n",
       "       'деревня Парицы', 'деревня Пельгора', 'деревня Пеники',\n",
       "       'деревня Пижма', 'деревня Пикколово', 'деревня Пудомяги',\n",
       "       'деревня Пустынка', 'деревня Пчева', 'деревня Рабитицы',\n",
       "       'деревня Разбегаево', 'деревня Раздолье', 'деревня Разметелево',\n",
       "       'деревня Рапполово', 'деревня Реброво', 'деревня Русско',\n",
       "       'деревня Сижно', 'деревня Снегиревка', 'деревня Старая',\n",
       "       'деревня Старая Пустошь', 'деревня Старое Хинколово',\n",
       "       'деревня Старополье', 'деревня Старосиверская',\n",
       "       'деревня Старые Бегуницы', 'деревня Суоранда',\n",
       "       'деревня Сяськелево', 'деревня Тарасово', 'деревня Терпилицы',\n",
       "       'деревня Тихковицы', 'деревня Тойворово', 'деревня Торосово',\n",
       "       'деревня Торошковичи', 'деревня Трубников Бор',\n",
       "       'деревня Фалилеево', 'деревня Федоровское', 'деревня Хапо-Ое',\n",
       "       'деревня Хязельки', 'деревня Чудской Бор', 'деревня Шпаньково',\n",
       "       'деревня Щеглово', 'деревня Юкки', 'деревня Ялгино',\n",
       "       'деревня Яльгелево', 'деревня Ям-Тесово',\n",
       "       'поселок Александровская', 'поселок Алексеевка', 'поселок Аннино',\n",
       "       'поселок Барышево', 'поселок Белоостров', 'поселок Бугры',\n",
       "       'поселок Возрождение', 'поселок Войсковицы', 'поселок Войскорово',\n",
       "       'поселок Володарское', 'поселок Высокоключевой',\n",
       "       'поселок Гаврилово', 'поселок Гарболово', 'поселок Гладкое',\n",
       "       'поселок Глажево', 'поселок Глебычево', 'поселок Гончарово',\n",
       "       'поселок Громово', 'поселок Дзержинского', 'поселок Дружноселье',\n",
       "       'поселок Елизаветино', 'поселок Жилгородок', 'поселок Жилпоселок',\n",
       "       'поселок Житково', 'поселок Заводской', 'поселок Запорожское',\n",
       "       'поселок Зимитицы', 'поселок Ильичево', 'поселок Калитино',\n",
       "       'поселок Каложицы', 'поселок Кивеннапа Север', 'поселок Кикерино',\n",
       "       'поселок Кингисеппский', 'поселок Кирпичное', 'поселок Кобралово',\n",
       "       'поселок Кобринское', 'поселок Коммунары', 'поселок Коробицыно',\n",
       "       'поселок Котельский', 'поселок Красная Долина',\n",
       "       'поселок Красносельское', 'поселок Левашово', 'поселок Ленинское',\n",
       "       'поселок Лесное', 'поселок Лисий Нос', 'поселок Лукаши',\n",
       "       'поселок Любань', 'поселок Мельниково', 'поселок Металлострой',\n",
       "       'поселок Мичуринское', 'поселок Молодежное', 'поселок Молодцово',\n",
       "       'поселок Мурино', 'поселок Мыза-Ивановка', 'поселок Новогорелово',\n",
       "       'поселок Новый Свет', 'поселок Новый Учхоз', 'поселок Оредеж',\n",
       "       'поселок Пансионат Зеленый Бор', 'поселок Парголово',\n",
       "       'поселок Первомайское', 'поселок Перово', 'поселок Песочный',\n",
       "       'поселок Петро-Славянка', 'поселок Петровское',\n",
       "       'поселок Платформа 69-й километр', 'поселок Плодовое',\n",
       "       'поселок Плоское', 'поселок Победа', 'поселок Поляны',\n",
       "       'поселок Понтонный', 'поселок Почап', 'поселок Починок',\n",
       "       'поселок Пригородный', 'поселок Пудость', 'поселок Пушное',\n",
       "       'поселок Пчевжа', 'поселок Рабитицы', 'поселок Репино',\n",
       "       'поселок Романовка', 'поселок Ромашки', 'поселок Ропша',\n",
       "       'поселок Рябово', 'поселок Саперное', 'поселок Саперный',\n",
       "       'поселок Севастьяново', 'поселок Селезнево', 'поселок Сельцо',\n",
       "       'поселок Семиозерье', 'поселок Семрино', 'поселок Серебрянский',\n",
       "       'поселок Совхозный', 'поселок Сосново', 'поселок Старая Малукса',\n",
       "       'поселок Стеклянный', 'поселок Стрельна', 'поселок Суйда',\n",
       "       'поселок Сумино', 'поселок Суходолье', 'поселок Счастье',\n",
       "       'поселок Тельмана', 'поселок Терволово', 'поселок Тесово-4',\n",
       "       'поселок Торковичи', 'поселок Торфяное', 'поселок Углово',\n",
       "       'поселок Усть-Ижора', 'поселок Усть-Луга', 'поселок Ушаки',\n",
       "       'поселок Форт Красная Горка', 'поселок Цвелодубово',\n",
       "       'поселок Цвылево', 'поселок Шугозеро', 'поселок Шушары',\n",
       "       'поселок Щеглово', 'поселок городского типа Большая Ижора',\n",
       "       'поселок городского типа Будогощь',\n",
       "       'поселок городского типа Важины',\n",
       "       'поселок городского типа Виллози',\n",
       "       'поселок городского типа Вознесенье',\n",
       "       'поселок городского типа Вырица',\n",
       "       'поселок городского типа Дружная Горка',\n",
       "       'поселок городского типа Дубровка',\n",
       "       'поселок городского типа Ефимовский',\n",
       "       'поселок городского типа Кондратьево',\n",
       "       'поселок городского типа Красный Бор',\n",
       "       'поселок городского типа Кузнечное',\n",
       "       'поселок городского типа Кузьмоловский',\n",
       "       'поселок городского типа Лебяжье',\n",
       "       'поселок городского типа Лесогорский',\n",
       "       'поселок городского типа Мга', 'поселок городского типа Назия',\n",
       "       'поселок городского типа Никольский',\n",
       "       'поселок городского типа Новоселье',\n",
       "       'поселок городского типа Павлово',\n",
       "       'поселок городского типа Приладожский',\n",
       "       'поселок городского типа Рахья', 'поселок городского типа Рощино',\n",
       "       'поселок городского типа Рябово',\n",
       "       'поселок городского типа Свирьстрой',\n",
       "       'поселок городского типа Сиверский',\n",
       "       'поселок городского типа Синявино',\n",
       "       'поселок городского типа Советский',\n",
       "       'поселок городского типа Тайцы', 'поселок городского типа Токсово',\n",
       "       'поселок городского типа Ульяновка',\n",
       "       'поселок городского типа Федоровское',\n",
       "       'поселок городского типа Форносово',\n",
       "       'поселок городского типа Янино-1',\n",
       "       'поселок городского типа имени Морозова',\n",
       "       'поселок городского типа имени Свердлова',\n",
       "       'поселок при железнодорожной станции Вещево',\n",
       "       'поселок при железнодорожной станции Громово',\n",
       "       'поселок при железнодорожной станции Корнево',\n",
       "       'поселок при железнодорожной станции Лужайка',\n",
       "       'поселок при железнодорожной станции Приветнинское',\n",
       "       'поселок при железнодорожной станции Свирь',\n",
       "       'садоводческое некоммерческое товарищество Лесная Поляна',\n",
       "       'садовое товарищество Новая Ропша',\n",
       "       'садовое товарищество Приладожский', 'садовое товарищество Рахья',\n",
       "       'садовое товарищество Садко', 'село Копорье', 'село Никольское',\n",
       "       'село Павлово', 'село Паша', 'село Путилово', 'село Рождествено',\n",
       "       'село Русско-Высоцкое', 'село Старая Ладога', 'село Шум', nan],\n",
       "      dtype=object)"
      ]
     },
     "execution_count": 17,
     "metadata": {},
     "output_type": "execute_result"
    }
   ],
   "source": [
    "data['locality_name'] = data['locality_name'].str.replace('городской поселок', 'поселок городского типа')\n",
    "data['locality_name'] = data['locality_name'].str.replace('поселок станции', 'поселок при железнодорожной станции')\n",
    "data['locality_name'] = data['locality_name'].str.replace('коттеджный поселок', 'поселок')\n",
    "data['locality_name'].sort_values().unique()"
   ]
  },
  {
   "cell_type": "markdown",
   "metadata": {},
   "source": [
    "Повторяются некоторые названия населенных пунктов"
   ]
  },
  {
   "cell_type": "code",
   "execution_count": 18,
   "metadata": {},
   "outputs": [
    {
     "data": {
      "text/plain": [
       "array(['Бокситогорск', 'Волосово', 'Волхов', 'Всеволожск', 'Выборг',\n",
       "       'Высоцк', 'Гатчина', 'Зеленогорск', 'Ивангород', 'Каменногорск',\n",
       "       'Кингисепп', 'Кириши', 'Кировск', 'Колпино', 'Коммунар',\n",
       "       'Красное Село', 'Кронштадт', 'Кудрово', 'Лодейное Поле',\n",
       "       'Ломоносов', 'Луга', 'Любань', 'Мурино', 'Новая Ладога',\n",
       "       'Отрадное', 'Павловск', 'Петергоф', 'Пикалево', 'Подпорожье',\n",
       "       'Приморск', 'Приозерск', 'Пушкин', 'Санкт-Петербург', 'Светогорск',\n",
       "       'Сертолово', 'Сестрорецк', 'Сланцы', 'Сосновый Бор', 'Сясьстрой',\n",
       "       'Тихвин', 'Тосно', 'Шлиссельбург', 'деревня Агалатово',\n",
       "       'деревня Аро', 'деревня Батово', 'деревня Бегуницы',\n",
       "       'деревня Белогорка', 'деревня Большая Вруда',\n",
       "       'деревня Большая Пустомержа', 'деревня Большие Колпаны',\n",
       "       'деревня Большое Рейзино', 'деревня Большой Сабск', 'деревня Бор',\n",
       "       'деревня Борисова Грива', 'деревня Ваганово', 'деревня Вартемяги',\n",
       "       'деревня Вахнова Кара', 'деревня Выскатка', 'деревня Глинка',\n",
       "       'деревня Горбунки', 'деревня Гостилицы', 'деревня Заклинье',\n",
       "       'деревня Заневка', 'деревня Извара', 'деревня Иссад',\n",
       "       'деревня Кальтино', 'деревня Камышовка', 'деревня Каськово',\n",
       "       'деревня Келози', 'деревня Кипень', 'деревня Кисельня',\n",
       "       'деревня Колтуши', 'деревня Коркино', 'деревня Котлы',\n",
       "       'деревня Кривко', 'деревня Кузьмолово', 'деревня Курковицы',\n",
       "       'деревня Куровицы', 'деревня Куттузи', 'деревня Лаврики',\n",
       "       'деревня Лаголово', 'деревня Лампово', 'деревня Лесколово',\n",
       "       'деревня Лопухинка', 'деревня Лупполово',\n",
       "       'деревня Малая Романовка', 'деревня Малое Верево',\n",
       "       'деревня Малое Карлино', 'деревня Малые Колпаны',\n",
       "       'деревня Мануйлово', 'деревня Меньково', 'деревня Мины',\n",
       "       'деревня Мистолово', 'деревня Ненимяки', 'деревня Нижние Осельки',\n",
       "       'деревня Нижняя', 'деревня Низино', 'деревня Новое Девяткино',\n",
       "       'деревня Новолисино', 'деревня Нурма', 'деревня Оржицы',\n",
       "       'деревня Парицы', 'деревня Пельгора', 'деревня Пеники',\n",
       "       'деревня Пижма', 'деревня Пикколово', 'деревня Пудомяги',\n",
       "       'деревня Пустынка', 'деревня Пчева', 'деревня Разбегаево',\n",
       "       'деревня Раздолье', 'деревня Разметелево', 'деревня Рапполово',\n",
       "       'деревня Реброво', 'деревня Русско', 'деревня Сижно',\n",
       "       'деревня Снегиревка', 'деревня Старая', 'деревня Старая Пустошь',\n",
       "       'деревня Старое Хинколово', 'деревня Старополье',\n",
       "       'деревня Старосиверская', 'деревня Старые Бегуницы',\n",
       "       'деревня Суоранда', 'деревня Сяськелево', 'деревня Тарасово',\n",
       "       'деревня Терпилицы', 'деревня Тихковицы', 'деревня Тойворово',\n",
       "       'деревня Торосово', 'деревня Торошковичи', 'деревня Трубников Бор',\n",
       "       'деревня Фалилеево', 'деревня Федоровское', 'деревня Хапо-Ое',\n",
       "       'деревня Хязельки', 'деревня Чудской Бор', 'деревня Шпаньково',\n",
       "       'деревня Юкки', 'деревня Ялгино', 'деревня Яльгелево',\n",
       "       'деревня Ям-Тесово', 'поселок Александровская',\n",
       "       'поселок Алексеевка', 'поселок Аннино', 'поселок Барышево',\n",
       "       'поселок Белоостров', 'поселок Бугры', 'поселок Возрождение',\n",
       "       'поселок Войсковицы', 'поселок Войскорово', 'поселок Володарское',\n",
       "       'поселок Высокоключевой', 'поселок Гаврилово', 'поселок Гарболово',\n",
       "       'поселок Гладкое', 'поселок Глажево', 'поселок Глебычево',\n",
       "       'поселок Гончарово', 'поселок Дзержинского', 'поселок Дружноселье',\n",
       "       'поселок Елизаветино', 'поселок Жилгородок', 'поселок Жилпоселок',\n",
       "       'поселок Житково', 'поселок Заводской', 'поселок Запорожское',\n",
       "       'поселок Зимитицы', 'поселок Ильичево', 'поселок Калитино',\n",
       "       'поселок Каложицы', 'поселок Кивеннапа Север', 'поселок Кикерино',\n",
       "       'поселок Кингисеппский', 'поселок Кирпичное', 'поселок Кобралово',\n",
       "       'поселок Кобринское', 'поселок Коммунары', 'поселок Коробицыно',\n",
       "       'поселок Котельский', 'поселок Красная Долина',\n",
       "       'поселок Красносельское', 'поселок Левашово', 'поселок Ленинское',\n",
       "       'поселок Лесное', 'поселок Лисий Нос', 'поселок Лукаши',\n",
       "       'поселок Мельниково', 'поселок Металлострой',\n",
       "       'поселок Мичуринское', 'поселок Молодежное', 'поселок Молодцово',\n",
       "       'поселок Мыза-Ивановка', 'поселок Новогорелово',\n",
       "       'поселок Новый Свет', 'поселок Новый Учхоз', 'поселок Оредеж',\n",
       "       'поселок Пансионат Зеленый Бор', 'поселок Парголово',\n",
       "       'поселок Первомайское', 'поселок Перово', 'поселок Песочный',\n",
       "       'поселок Петро-Славянка', 'поселок Петровское',\n",
       "       'поселок Платформа 69-й километр', 'поселок Плодовое',\n",
       "       'поселок Плоское', 'поселок Победа', 'поселок Поляны',\n",
       "       'поселок Понтонный', 'поселок Почап', 'поселок Починок',\n",
       "       'поселок Пригородный', 'поселок Пудость', 'поселок Пушное',\n",
       "       'поселок Пчевжа', 'поселок Рабитицы', 'поселок Репино',\n",
       "       'поселок Романовка', 'поселок Ромашки', 'поселок Ропша',\n",
       "       'поселок Саперное', 'поселок Саперный', 'поселок Севастьяново',\n",
       "       'поселок Селезнево', 'поселок Сельцо', 'поселок Семиозерье',\n",
       "       'поселок Семрино', 'поселок Серебрянский', 'поселок Совхозный',\n",
       "       'поселок Сосново', 'поселок Старая Малукса', 'поселок Стеклянный',\n",
       "       'поселок Стрельна', 'поселок Суйда', 'поселок Сумино',\n",
       "       'поселок Суходолье', 'поселок Счастье', 'поселок Тельмана',\n",
       "       'поселок Терволово', 'поселок Тесово-4', 'поселок Торковичи',\n",
       "       'поселок Торфяное', 'поселок Углово', 'поселок Усть-Ижора',\n",
       "       'поселок Усть-Луга', 'поселок Ушаки', 'поселок Форт Красная Горка',\n",
       "       'поселок Цвелодубово', 'поселок Цвылево', 'поселок Шугозеро',\n",
       "       'поселок Шушары', 'поселок Щеглово',\n",
       "       'поселок городского типа Большая Ижора',\n",
       "       'поселок городского типа Будогощь',\n",
       "       'поселок городского типа Важины',\n",
       "       'поселок городского типа Виллози',\n",
       "       'поселок городского типа Вознесенье',\n",
       "       'поселок городского типа Вырица',\n",
       "       'поселок городского типа Дружная Горка',\n",
       "       'поселок городского типа Дубровка',\n",
       "       'поселок городского типа Ефимовский',\n",
       "       'поселок городского типа Кондратьево',\n",
       "       'поселок городского типа Красный Бор',\n",
       "       'поселок городского типа Кузнечное',\n",
       "       'поселок городского типа Кузьмоловский',\n",
       "       'поселок городского типа Лебяжье',\n",
       "       'поселок городского типа Лесогорский',\n",
       "       'поселок городского типа Мга', 'поселок городского типа Назия',\n",
       "       'поселок городского типа Никольский',\n",
       "       'поселок городского типа Новоселье',\n",
       "       'поселок городского типа Павлово',\n",
       "       'поселок городского типа Приладожский',\n",
       "       'поселок городского типа Рахья', 'поселок городского типа Рощино',\n",
       "       'поселок городского типа Рябово',\n",
       "       'поселок городского типа Свирьстрой',\n",
       "       'поселок городского типа Сиверский',\n",
       "       'поселок городского типа Синявино',\n",
       "       'поселок городского типа Советский',\n",
       "       'поселок городского типа Тайцы', 'поселок городского типа Токсово',\n",
       "       'поселок городского типа Ульяновка',\n",
       "       'поселок городского типа Федоровское',\n",
       "       'поселок городского типа Форносово',\n",
       "       'поселок городского типа Янино-1',\n",
       "       'поселок городского типа имени Морозова',\n",
       "       'поселок городского типа имени Свердлова',\n",
       "       'поселок при железнодорожной станции Вещево',\n",
       "       'поселок при железнодорожной станции Громово',\n",
       "       'поселок при железнодорожной станции Корнево',\n",
       "       'поселок при железнодорожной станции Лужайка',\n",
       "       'поселок при железнодорожной станции Приветнинское',\n",
       "       'поселок при железнодорожной станции Свирь',\n",
       "       'садоводческое некоммерческое товарищество Лесная Поляна',\n",
       "       'садовое товарищество Новая Ропша', 'садовое товарищество Садко',\n",
       "       'село Копорье', 'село Никольское', 'село Паша', 'село Путилово',\n",
       "       'село Рождествено', 'село Русско-Высоцкое', 'село Старая Ладога',\n",
       "       'село Шум', nan], dtype=object)"
      ]
     },
     "execution_count": 18,
     "metadata": {},
     "output_type": "execute_result"
    }
   ],
   "source": [
    "data = data.replace({'locality_name':{'деревня Кудрово':'Кудрово', 'поселок Любань':'Любань', 'поселок Мурино':'Мурино', 'Никольское':'село Никольское', 'деревня Гарболово':'поселок Гарболово', 'деревня Зимитицы':'поселок Зимитицы', 'деревня Калитино':'поселок Калитино', 'деревня Рабитицы':'поселок Рабитицы', 'деревня Фёдоровское':'поселок городского типа Фёдоровское', 'деревня Щеглово':'поселок Щеглово', 'поселок Громово': 'поселок при железнодорожной станции Громово', 'поселок Рябово':'поселок городского типа Рябово', 'село Павлово':'поселок городского типа Павлово', 'садовое товарищество Приладожский':'поселок городского типа Приладожский', 'садовое товарищество Рахья':'поселок городского типа Рахья',}})\n",
    "data['locality_name'].sort_values().unique()"
   ]
  },
  {
   "cell_type": "markdown",
   "metadata": {},
   "source": [
    "Все неявные дубликаты были обработанны, теперь можно удалить строки, в которых нет названия населенного пункта, так как их невозможно будет исследовать"
   ]
  },
  {
   "cell_type": "code",
   "execution_count": 19,
   "metadata": {},
   "outputs": [
    {
     "data": {
      "text/plain": [
       "0"
      ]
     },
     "execution_count": 19,
     "metadata": {},
     "output_type": "execute_result"
    }
   ],
   "source": [
    "data = data[data['locality_name'].isna() != True]\n",
    "data['locality_name'].isna().sum()"
   ]
  },
  {
   "cell_type": "markdown",
   "metadata": {},
   "source": [
    "**Удалил неявные дубликаты в названиях населенных пунктов, переименовал столбцы, привел их к правильному формату, заменил форматы столбцов на правильные, чтобы анализ был более объективным и можно было работать с датой и временем**"
   ]
  },
  {
   "cell_type": "markdown",
   "metadata": {
    "id": "QCcvyY6YAwb-"
   },
   "source": [
    "### Добавление в таблицу новых столбцов"
   ]
  },
  {
   "cell_type": "code",
   "execution_count": 20,
   "metadata": {
    "id": "Z8eJek3IAwb-"
   },
   "outputs": [],
   "source": [
    "data['metr_price'] = data['last_price'] / data['total_area'] #цена одного квадратного метра \n",
    "data['metr_price'] = data['metr_price'].round(2) #округление"
   ]
  },
  {
   "cell_type": "code",
   "execution_count": 21,
   "metadata": {},
   "outputs": [],
   "source": [
    "data['day'] = data['first_day_exposition'].dt.weekday #день недели, месяц и год\n",
    "data['month'] = data['first_day_exposition'].dt.month\n",
    "data['year'] = data['first_day_exposition'].dt.year"
   ]
  },
  {
   "cell_type": "code",
   "execution_count": 22,
   "metadata": {},
   "outputs": [],
   "source": [
    "def floor_type_def(row): #создание фнукции определения этажа\n",
    "    floor=row['floor']\n",
    "    floors_total=row['floors_total'] #столбцы из датафрейма\n",
    "    if floor == 1: \n",
    "        return 'первый'\n",
    "    elif floor == floors_total:\n",
    "        return 'последний'\n",
    "    else:\n",
    "        return 'другой'"
   ]
  },
  {
   "cell_type": "code",
   "execution_count": 23,
   "metadata": {},
   "outputs": [],
   "source": [
    "data['floor_type'] = data.apply(floor_type_def, axis=1) #применение функции"
   ]
  },
  {
   "cell_type": "code",
   "execution_count": 24,
   "metadata": {},
   "outputs": [],
   "source": [
    "data['center_km'] = data['city_centers_nearest'] / 1000 #превод в километры\n",
    "data['center_km'] = data['center_km'].round() #округление"
   ]
  },
  {
   "cell_type": "code",
   "execution_count": 25,
   "metadata": {},
   "outputs": [
    {
     "data": {
      "text/html": [
       "<div>\n",
       "<style scoped>\n",
       "    .dataframe tbody tr th:only-of-type {\n",
       "        vertical-align: middle;\n",
       "    }\n",
       "\n",
       "    .dataframe tbody tr th {\n",
       "        vertical-align: top;\n",
       "    }\n",
       "\n",
       "    .dataframe thead th {\n",
       "        text-align: right;\n",
       "    }\n",
       "</style>\n",
       "<table border=\"1\" class=\"dataframe\">\n",
       "  <thead>\n",
       "    <tr style=\"text-align: right;\">\n",
       "      <th></th>\n",
       "      <th>total_images</th>\n",
       "      <th>last_price</th>\n",
       "      <th>total_area</th>\n",
       "      <th>first_day_exposition</th>\n",
       "      <th>rooms</th>\n",
       "      <th>ceiling_height</th>\n",
       "      <th>floors_total</th>\n",
       "      <th>living_area</th>\n",
       "      <th>floor</th>\n",
       "      <th>is_apartment</th>\n",
       "      <th>...</th>\n",
       "      <th>parks_nearest</th>\n",
       "      <th>ponds_around_3000</th>\n",
       "      <th>ponds_nearest</th>\n",
       "      <th>days_exposition</th>\n",
       "      <th>metr_price</th>\n",
       "      <th>day</th>\n",
       "      <th>month</th>\n",
       "      <th>year</th>\n",
       "      <th>floor_type</th>\n",
       "      <th>center_km</th>\n",
       "    </tr>\n",
       "  </thead>\n",
       "  <tbody>\n",
       "    <tr>\n",
       "      <th>0</th>\n",
       "      <td>20</td>\n",
       "      <td>13000000</td>\n",
       "      <td>108.0</td>\n",
       "      <td>2019-03-07</td>\n",
       "      <td>3</td>\n",
       "      <td>2.70</td>\n",
       "      <td>16.0</td>\n",
       "      <td>51.0</td>\n",
       "      <td>8</td>\n",
       "      <td>False</td>\n",
       "      <td>...</td>\n",
       "      <td>482.0</td>\n",
       "      <td>2.0</td>\n",
       "      <td>755.0</td>\n",
       "      <td>NaN</td>\n",
       "      <td>120370.37</td>\n",
       "      <td>3</td>\n",
       "      <td>3</td>\n",
       "      <td>2019</td>\n",
       "      <td>другой</td>\n",
       "      <td>16.0</td>\n",
       "    </tr>\n",
       "    <tr>\n",
       "      <th>1</th>\n",
       "      <td>7</td>\n",
       "      <td>3350000</td>\n",
       "      <td>40.4</td>\n",
       "      <td>2018-12-04</td>\n",
       "      <td>1</td>\n",
       "      <td>NaN</td>\n",
       "      <td>11.0</td>\n",
       "      <td>18.6</td>\n",
       "      <td>1</td>\n",
       "      <td>False</td>\n",
       "      <td>...</td>\n",
       "      <td>NaN</td>\n",
       "      <td>0.0</td>\n",
       "      <td>NaN</td>\n",
       "      <td>81.0</td>\n",
       "      <td>82920.79</td>\n",
       "      <td>1</td>\n",
       "      <td>12</td>\n",
       "      <td>2018</td>\n",
       "      <td>первый</td>\n",
       "      <td>19.0</td>\n",
       "    </tr>\n",
       "    <tr>\n",
       "      <th>2</th>\n",
       "      <td>10</td>\n",
       "      <td>5196000</td>\n",
       "      <td>56.0</td>\n",
       "      <td>2015-08-20</td>\n",
       "      <td>2</td>\n",
       "      <td>NaN</td>\n",
       "      <td>5.0</td>\n",
       "      <td>34.3</td>\n",
       "      <td>4</td>\n",
       "      <td>False</td>\n",
       "      <td>...</td>\n",
       "      <td>90.0</td>\n",
       "      <td>2.0</td>\n",
       "      <td>574.0</td>\n",
       "      <td>558.0</td>\n",
       "      <td>92785.71</td>\n",
       "      <td>3</td>\n",
       "      <td>8</td>\n",
       "      <td>2015</td>\n",
       "      <td>другой</td>\n",
       "      <td>14.0</td>\n",
       "    </tr>\n",
       "    <tr>\n",
       "      <th>3</th>\n",
       "      <td>0</td>\n",
       "      <td>64900000</td>\n",
       "      <td>159.0</td>\n",
       "      <td>2015-07-24</td>\n",
       "      <td>3</td>\n",
       "      <td>NaN</td>\n",
       "      <td>14.0</td>\n",
       "      <td>NaN</td>\n",
       "      <td>9</td>\n",
       "      <td>False</td>\n",
       "      <td>...</td>\n",
       "      <td>84.0</td>\n",
       "      <td>3.0</td>\n",
       "      <td>234.0</td>\n",
       "      <td>424.0</td>\n",
       "      <td>408176.10</td>\n",
       "      <td>4</td>\n",
       "      <td>7</td>\n",
       "      <td>2015</td>\n",
       "      <td>другой</td>\n",
       "      <td>7.0</td>\n",
       "    </tr>\n",
       "    <tr>\n",
       "      <th>4</th>\n",
       "      <td>2</td>\n",
       "      <td>10000000</td>\n",
       "      <td>100.0</td>\n",
       "      <td>2018-06-19</td>\n",
       "      <td>2</td>\n",
       "      <td>3.03</td>\n",
       "      <td>14.0</td>\n",
       "      <td>32.0</td>\n",
       "      <td>13</td>\n",
       "      <td>False</td>\n",
       "      <td>...</td>\n",
       "      <td>112.0</td>\n",
       "      <td>1.0</td>\n",
       "      <td>48.0</td>\n",
       "      <td>121.0</td>\n",
       "      <td>100000.00</td>\n",
       "      <td>1</td>\n",
       "      <td>6</td>\n",
       "      <td>2018</td>\n",
       "      <td>другой</td>\n",
       "      <td>8.0</td>\n",
       "    </tr>\n",
       "  </tbody>\n",
       "</table>\n",
       "<p>5 rows × 28 columns</p>\n",
       "</div>"
      ],
      "text/plain": [
       "   total_images  last_price  total_area first_day_exposition  rooms  \\\n",
       "0            20    13000000       108.0           2019-03-07      3   \n",
       "1             7     3350000        40.4           2018-12-04      1   \n",
       "2            10     5196000        56.0           2015-08-20      2   \n",
       "3             0    64900000       159.0           2015-07-24      3   \n",
       "4             2    10000000       100.0           2018-06-19      2   \n",
       "\n",
       "   ceiling_height  floors_total  living_area  floor  is_apartment  ...  \\\n",
       "0            2.70          16.0         51.0      8         False  ...   \n",
       "1             NaN          11.0         18.6      1         False  ...   \n",
       "2             NaN           5.0         34.3      4         False  ...   \n",
       "3             NaN          14.0          NaN      9         False  ...   \n",
       "4            3.03          14.0         32.0     13         False  ...   \n",
       "\n",
       "   parks_nearest  ponds_around_3000  ponds_nearest  days_exposition  \\\n",
       "0          482.0                2.0          755.0              NaN   \n",
       "1            NaN                0.0            NaN             81.0   \n",
       "2           90.0                2.0          574.0            558.0   \n",
       "3           84.0                3.0          234.0            424.0   \n",
       "4          112.0                1.0           48.0            121.0   \n",
       "\n",
       "  metr_price  day  month  year  floor_type  center_km  \n",
       "0  120370.37    3      3  2019      другой       16.0  \n",
       "1   82920.79    1     12  2018      первый       19.0  \n",
       "2   92785.71    3      8  2015      другой       14.0  \n",
       "3  408176.10    4      7  2015      другой        7.0  \n",
       "4  100000.00    1      6  2018      другой        8.0  \n",
       "\n",
       "[5 rows x 28 columns]"
      ]
     },
     "execution_count": 25,
     "metadata": {},
     "output_type": "execute_result"
    }
   ],
   "source": [
    "data.head() #проверка столбцов"
   ]
  },
  {
   "cell_type": "markdown",
   "metadata": {},
   "source": [
    "**Для определения типа этажа была создана функция, были добавлены столбцы с днем недели, месяцем и годом публикации объявления, а так же - столбцы с расстоянием до центра и ценой за квадратный метр. После добавления новых столбцов, которые пригодятся для дальнейшего анализа, можно переходить непосредственно к анализу данных датафрейма**"
   ]
  },
  {
   "cell_type": "markdown",
   "metadata": {
    "id": "pPyxrKWTAwb-"
   },
   "source": [
    "### Исследовательский анализ данных"
   ]
  },
  {
   "cell_type": "code",
   "execution_count": 26,
   "metadata": {},
   "outputs": [
    {
     "data": {
      "text/plain": [
       "23650"
      ]
     },
     "metadata": {},
     "output_type": "display_data"
    },
    {
     "data": {
      "text/plain": [
       "23699"
      ]
     },
     "metadata": {},
     "output_type": "display_data"
    }
   ],
   "source": [
    "shape_after_filtr = data.shape[0]\n",
    "display(shape_after_filtr)\n",
    "display(shape)"
   ]
  },
  {
   "cell_type": "markdown",
   "metadata": {},
   "source": [
    "После фильтрации дубликатов и заполнения пропусков, количество строк сократилось на 49. Можно проводить актуальный анализ данных, так как более 90% данных сохранено"
   ]
  },
  {
   "cell_type": "markdown",
   "metadata": {},
   "source": [
    "#### Общая площадь"
   ]
  },
  {
   "cell_type": "code",
   "execution_count": 27,
   "metadata": {
    "id": "V2f0D3kLAwb-"
   },
   "outputs": [
    {
     "data": {
      "text/plain": [
       "count    23650.000000\n",
       "mean        60.329069\n",
       "std         35.661808\n",
       "min         12.000000\n",
       "25%         40.000000\n",
       "50%         52.000000\n",
       "75%         69.700000\n",
       "max        900.000000\n",
       "Name: total_area, dtype: float64"
      ]
     },
     "execution_count": 27,
     "metadata": {},
     "output_type": "execute_result"
    }
   ],
   "source": [
    "data['total_area'].describe()"
   ]
  },
  {
   "cell_type": "markdown",
   "metadata": {},
   "source": [
    "После применения describe(), видно, что первый квартиль = 40, третий квартиль = 69. IQR приблизительно равен 35.6."
   ]
  },
  {
   "cell_type": "code",
   "execution_count": 28,
   "metadata": {},
   "outputs": [
    {
     "data": {
      "image/png": "[encoded data removed]",
      "text/plain": [
       "<Figure size 720x432 with 1 Axes>"
      ]
     },
     "metadata": {
      "needs_background": "light"
     },
     "output_type": "display_data"
    }
   ],
   "source": [
    "q1 = data['total_area'].quantile(.25) \n",
    "q3 = data['total_area'].quantile(.75)\n",
    "iqr = q3 - q1 #межквартильный размах\n",
    "data['total_area'].hist(range=(q1-1.5*iqr, q3+1.5*iqr), bins=30, legend=True, grid=True, figsize=(10, 6)) #составление гистограммы без выбросов\n",
    "plt.show()"
   ]
  },
  {
   "cell_type": "markdown",
   "metadata": {},
   "source": [
    "Изучив данные о полной площади квартир (не беря в счет выдающиеся значения), можно сделать вывод, что площадь большинства квартир равна 45 метрам. Основную часть от всех составляют квартиры площадью 26-65 квадратных метров. После 60 квадратных метров количество квартир на продаже сокращается пропорционально повышению площади квартиры."
   ]
  },
  {
   "cell_type": "markdown",
   "metadata": {},
   "source": [
    "#### Жилая площадь"
   ]
  },
  {
   "cell_type": "code",
   "execution_count": 29,
   "metadata": {},
   "outputs": [
    {
     "data": {
      "text/plain": [
       "count    21752.000000\n",
       "mean        34.448356\n",
       "std         22.037664\n",
       "min          2.000000\n",
       "25%         18.600000\n",
       "50%         30.000000\n",
       "75%         42.300000\n",
       "max        409.700000\n",
       "Name: living_area, dtype: float64"
      ]
     },
     "execution_count": 29,
     "metadata": {},
     "output_type": "execute_result"
    }
   ],
   "source": [
    "data['living_area'].describe()"
   ]
  },
  {
   "cell_type": "markdown",
   "metadata": {},
   "source": [
    "В этом случае шаги те же, что и в исследовании общей площади. Q1 = 18, Q3 = 42."
   ]
  },
  {
   "cell_type": "code",
   "execution_count": 30,
   "metadata": {},
   "outputs": [
    {
     "data": {
      "image/png": "[encoded data removed]",
      "text/plain": [
       "<Figure size 720x432 with 1 Axes>"
      ]
     },
     "metadata": {
      "needs_background": "light"
     },
     "output_type": "display_data"
    }
   ],
   "source": [
    "q1 = data['living_area'].quantile(.25)\n",
    "q3 = data['living_area'].quantile(.75)\n",
    "iqr = q3 - q1\n",
    "data['living_area'].hist(range=(q1-1.5*iqr, q3+1.5*iqr), bins=30, legend=True, grid=True, figsize=(10, 6)) #составление гистограммы без выбросов\n",
    "plt.show()"
   ]
  },
  {
   "cell_type": "markdown",
   "metadata": {},
   "source": [
    "Исходя из данных гистограммы, можно сделать вывод, что у большинства продаваемых квартир жилая площадь примерно 16-18 кв.м., также есть пик в районе 28-30кв.м.\n",
    "<br>Итого, часто встречаются квартиры с жилой площадью 16-30кв.м., но есть провал в районе 22-26кв.м.. Квартир с жилой площадью больше 45 и меньше 15 мало. "
   ]
  },
  {
   "cell_type": "markdown",
   "metadata": {},
   "source": [
    "#### Площадь кухни"
   ]
  },
  {
   "cell_type": "code",
   "execution_count": 31,
   "metadata": {},
   "outputs": [
    {
     "data": {
      "text/plain": [
       "count    21381.000000\n",
       "mean        10.566403\n",
       "std          5.901753\n",
       "min          1.300000\n",
       "25%          7.000000\n",
       "50%          9.100000\n",
       "75%         12.000000\n",
       "max        112.000000\n",
       "Name: kitchen_area, dtype: float64"
      ]
     },
     "execution_count": 31,
     "metadata": {},
     "output_type": "execute_result"
    }
   ],
   "source": [
    "data['kitchen_area'].describe()"
   ]
  },
  {
   "cell_type": "code",
   "execution_count": 32,
   "metadata": {},
   "outputs": [
    {
     "data": {
      "image/png": "[encoded data removed]",
      "text/plain": [
       "<Figure size 720x432 with 1 Axes>"
      ]
     },
     "metadata": {
      "needs_background": "light"
     },
     "output_type": "display_data"
    }
   ],
   "source": [
    "q1 = data['kitchen_area'].quantile(.25) #первый квартиль\n",
    "q3 = data['kitchen_area'].quantile(.75) #третий квартиль\n",
    "iqr = q3 - q1 #межквартильный размах\n",
    "data['kitchen_area'].hist(range=(q1-1.5*iqr, q3+1.5*iqr), bins=30, legend=True, grid=True, figsize=(10, 6)) #составление гистограммы без выбросов\n",
    "plt.show()"
   ]
  },
  {
   "cell_type": "markdown",
   "metadata": {},
   "source": [
    "Изучив гистограмму площади кухни в продаваемых квартирах, я пришел к выводу, что у большинства квартир площадь кухни находится в пределах 5,5-12 квадратных метров. Самая распространенная площадь - около 5,5-6 метров. Кухни большей площади встречаются чаще, чем кухни меньшей площади."
   ]
  },
  {
   "cell_type": "markdown",
   "metadata": {},
   "source": [
    "#### Цена объекта"
   ]
  },
  {
   "cell_type": "code",
   "execution_count": 33,
   "metadata": {},
   "outputs": [
    {
     "data": {
      "text/plain": [
       "count    2.365000e+04\n",
       "mean     6.541127e+06\n",
       "std      1.089640e+07\n",
       "min      1.219000e+04\n",
       "25%      3.400000e+06\n",
       "50%      4.650000e+06\n",
       "75%      6.799000e+06\n",
       "max      7.630000e+08\n",
       "Name: last_price, dtype: float64"
      ]
     },
     "execution_count": 33,
     "metadata": {},
     "output_type": "execute_result"
    }
   ],
   "source": [
    "data['last_price'].describe()#описание столбца: квартили, медиана, среднее, максимум и минимум"
   ]
  },
  {
   "cell_type": "code",
   "execution_count": 34,
   "metadata": {},
   "outputs": [
    {
     "data": {
      "image/png": "[encoded data removed]",
      "text/plain": [
       "<Figure size 720x432 with 1 Axes>"
      ]
     },
     "metadata": {
      "needs_background": "light"
     },
     "output_type": "display_data"
    }
   ],
   "source": [
    "q1 = data['last_price'].quantile(.25) #первый квартиль\n",
    "q3 = data['last_price'].quantile(.75) #третий квартиль\n",
    "iqr = q3 - q1 #межквартильный размах\n",
    "data['last_price'].hist(range=(q1-1.5*iqr, q3+1.5*iqr), bins=30, legend=True, grid=True, figsize=(10, 6)) #составление гистограммы без выбросов\n",
    "plt.show() \n",
    "#ось Х умножаем на 10 миллионов рублей"
   ]
  },
  {
   "cell_type": "markdown",
   "metadata": {},
   "source": [
    "Отбросив выбросы, и построив гистограмму на промежутке цены 0,5 млн - 12 млн, можно утверждать, что самая частая цена продажи квартир - от 3 до 5 миллионов рублей. Предложения, начиная с 5,5 млн плавно убавляются по мере возрастания цены. Среднее значение почти на 2 миллиона выше медианы из-за редких выдающихся значений."
   ]
  },
  {
   "cell_type": "markdown",
   "metadata": {},
   "source": [
    "#### Количество комнат"
   ]
  },
  {
   "cell_type": "code",
   "execution_count": 35,
   "metadata": {},
   "outputs": [
    {
     "data": {
      "text/plain": [
       "count    23650.000000\n",
       "mean         2.070106\n",
       "std          1.078620\n",
       "min          0.000000\n",
       "25%          1.000000\n",
       "50%          2.000000\n",
       "75%          3.000000\n",
       "max         19.000000\n",
       "Name: rooms, dtype: float64"
      ]
     },
     "execution_count": 35,
     "metadata": {},
     "output_type": "execute_result"
    }
   ],
   "source": [
    "data['rooms'].describe()"
   ]
  },
  {
   "cell_type": "code",
   "execution_count": 36,
   "metadata": {},
   "outputs": [
    {
     "data": {
      "image/png": "[encoded data removed]",
      "text/plain": [
       "<Figure size 720x432 with 1 Axes>"
      ]
     },
     "metadata": {
      "needs_background": "light"
     },
     "output_type": "display_data"
    }
   ],
   "source": [
    "q1 = data['rooms'].quantile(.25) #первый квартиль\n",
    "q3 = data['rooms'].quantile(.75) #третий квартиль\n",
    "iqr = q3 - q1 #межквартильный размах\n",
    "data['rooms'].hist(range=(0, q3+1.5*iqr), bins=20, legend=True, grid=True, figsize=(10, 6)) #составление гистограммы без выбросов\n",
    "plt.show() "
   ]
  },
  {
   "cell_type": "markdown",
   "metadata": {},
   "source": [
    "Исходя из гистограммы, можно сделать вывод, что большинство квартир - однушки и двушки. Среднее и медиана совпадают (2 комнаты), что говорит о том, что выдающихся значений мало и они не сильно влияют на исследование. 3-х комнатных квартир чуть меньше, чем 1 и 2 комнатных, но тоже достаточно много, а вот квартир с 4, 5 и 6 комнатами - достаточно мало. Квартиры с 0 комнат тоже мало, скорее всего - это квартиры-студии"
   ]
  },
  {
   "cell_type": "markdown",
   "metadata": {},
   "source": [
    "#### Высота потолков"
   ]
  },
  {
   "cell_type": "code",
   "execution_count": 37,
   "metadata": {},
   "outputs": [
    {
     "data": {
      "text/plain": [
       "count    14490.000000\n",
       "mean         2.771287\n",
       "std          1.261593\n",
       "min          1.000000\n",
       "25%          2.520000\n",
       "50%          2.650000\n",
       "75%          2.800000\n",
       "max        100.000000\n",
       "Name: ceiling_height, dtype: float64"
      ]
     },
     "execution_count": 37,
     "metadata": {},
     "output_type": "execute_result"
    }
   ],
   "source": [
    "data['ceiling_height'].describe()"
   ]
  },
  {
   "cell_type": "code",
   "execution_count": 38,
   "metadata": {},
   "outputs": [
    {
     "data": {
      "image/png": "[encoded data removed]",
      "text/plain": [
       "<Figure size 432x576 with 1 Axes>"
      ]
     },
     "metadata": {
      "needs_background": "light"
     },
     "output_type": "display_data"
    }
   ],
   "source": [
    "data.boxplot('ceiling_height', figsize=(6, 8))\n",
    "plt.show()"
   ]
  },
  {
   "cell_type": "markdown",
   "metadata": {},
   "source": [
    "В столбце с данными о высоте потолков много аномалий, перед исследованием нужно их обработать"
   ]
  },
  {
   "cell_type": "code",
   "execution_count": 39,
   "metadata": {},
   "outputs": [],
   "source": [
    "data.loc[data['ceiling_height'] >= 20, 'ceiling_height'] = data['ceiling_height'] / 2 \n",
    "#есть значения в районе 25-30 метров, что может быть опечаткой, их поделим на 2"
   ]
  },
  {
   "cell_type": "code",
   "execution_count": 40,
   "metadata": {},
   "outputs": [
    {
     "data": {
      "text/plain": [
       "count    14490.000000\n",
       "mean         2.747992\n",
       "std          0.645839\n",
       "min          1.000000\n",
       "25%          2.520000\n",
       "50%          2.650000\n",
       "75%          2.800000\n",
       "max         50.000000\n",
       "Name: ceiling_height, dtype: float64"
      ]
     },
     "execution_count": 40,
     "metadata": {},
     "output_type": "execute_result"
    }
   ],
   "source": [
    "data['ceiling_height'].describe() "
   ]
  },
  {
   "cell_type": "markdown",
   "metadata": {},
   "source": [
    "Среднее немного стало меньше, при округлении - 2.7 метра, а медиана не изменилась - 2,65 метра"
   ]
  },
  {
   "cell_type": "code",
   "execution_count": 41,
   "metadata": {},
   "outputs": [
    {
     "data": {
      "image/png": "[encoded data removed]",
      "text/plain": [
       "<Figure size 720x432 with 1 Axes>"
      ]
     },
     "metadata": {
      "needs_background": "light"
     },
     "output_type": "display_data"
    }
   ],
   "source": [
    "q1 = data['ceiling_height'].quantile(.25) #первый квартиль\n",
    "q3 = data['ceiling_height'].quantile(.75) #третий квартиль\n",
    "iqr = q3 - q1 #межквартильный размах\n",
    "data['ceiling_height'].hist(range=(2.4, q3+1.5*iqr), bins=30, legend=True, grid=True, figsize=(10, 6)) #составление гистограммы без выбросов\n",
    "plt.show() "
   ]
  },
  {
   "cell_type": "markdown",
   "metadata": {},
   "source": [
    "В данных о высоте потолков отсутствует часть данных, но убрав аномалии и проанализировав оставшиеся, можно придти к выводу, что большинство квартир на продаже имеет высоту потолков 2,5 метра. Также распространенной высотой являются 2,6 метра, 2,7 метра"
   ]
  },
  {
   "cell_type": "markdown",
   "metadata": {},
   "source": [
    "#### Тип этажа и общее количество этажей в доме"
   ]
  },
  {
   "cell_type": "code",
   "execution_count": 42,
   "metadata": {},
   "outputs": [
    {
     "data": {
      "text/plain": [
       "другой       17408\n",
       "последний     3330\n",
       "первый        2912\n",
       "Name: floor_type, dtype: int64"
      ]
     },
     "execution_count": 42,
     "metadata": {},
     "output_type": "execute_result"
    }
   ],
   "source": [
    "data['floor_type'].value_counts()"
   ]
  },
  {
   "cell_type": "code",
   "execution_count": 43,
   "metadata": {},
   "outputs": [
    {
     "data": {
      "image/png": "[encoded data removed]",
      "text/plain": [
       "<Figure size 432x288 with 1 Axes>"
      ]
     },
     "metadata": {
      "needs_background": "light"
     },
     "output_type": "display_data"
    }
   ],
   "source": [
    "data['floor_type'].hist(figsize=(6, 4), grid=True, legend=True)\n",
    "plt.show()"
   ]
  },
  {
   "cell_type": "markdown",
   "metadata": {},
   "source": [
    "На этой гистограмме можно увидеть, что подавляющее большинство квартир в продаже расположенны ни на первом, ни на последнем этаже. Доля квартир на первом и на последнем приблизительно равна\n",
    "<br>Далее - изучим какие этажи более популярные"
   ]
  },
  {
   "cell_type": "code",
   "execution_count": 44,
   "metadata": {},
   "outputs": [
    {
     "data": {
      "text/plain": [
       "count    23650.000000\n",
       "mean         5.893277\n",
       "std          4.883317\n",
       "min          1.000000\n",
       "25%          2.000000\n",
       "50%          4.000000\n",
       "75%          8.000000\n",
       "max         33.000000\n",
       "Name: floor, dtype: float64"
      ]
     },
     "execution_count": 44,
     "metadata": {},
     "output_type": "execute_result"
    }
   ],
   "source": [
    "data['floor'].describe()"
   ]
  },
  {
   "cell_type": "code",
   "execution_count": 45,
   "metadata": {},
   "outputs": [
    {
     "data": {
      "image/png": "[encoded data removed]",
      "text/plain": [
       "<Figure size 720x432 with 1 Axes>"
      ]
     },
     "metadata": {
      "needs_background": "light"
     },
     "output_type": "display_data"
    }
   ],
   "source": [
    "q1 = data['floor'].quantile(.25) #первый квартиль\n",
    "q3 = data['floor'].quantile(.75) #третий квартиль\n",
    "iqr = q3 - q1 #межквартильный размах\n",
    "data['floor'].hist(range=(1, q3+1.5*iqr), bins=10, legend=True, grid=True, figsize=(10, 6)) #составление гистограммы без выбросов\n",
    "plt.show() "
   ]
  },
  {
   "cell_type": "markdown",
   "metadata": {},
   "source": [
    "Теперь видно, что чем выше этаж - тем меньше объявлений о продаже квартир на этом этаже. Самые распространенные - первые 5 этажей, а первые два - в лидерах. Медиана близка к популярным этажам на графике (4 этаж)"
   ]
  },
  {
   "cell_type": "markdown",
   "metadata": {},
   "source": [
    "#### Общее количество этажей в доме"
   ]
  },
  {
   "cell_type": "code",
   "execution_count": 46,
   "metadata": {},
   "outputs": [
    {
     "data": {
      "text/plain": [
       "count    23565.000000\n",
       "mean        10.675875\n",
       "std          6.594823\n",
       "min          1.000000\n",
       "25%          5.000000\n",
       "50%          9.000000\n",
       "75%         16.000000\n",
       "max         60.000000\n",
       "Name: floors_total, dtype: float64"
      ]
     },
     "execution_count": 46,
     "metadata": {},
     "output_type": "execute_result"
    }
   ],
   "source": [
    "data['floors_total'].describe()"
   ]
  },
  {
   "cell_type": "code",
   "execution_count": 47,
   "metadata": {},
   "outputs": [
    {
     "data": {
      "image/png": "[encoded data removed]",
      "text/plain": [
       "<Figure size 720x432 with 1 Axes>"
      ]
     },
     "metadata": {
      "needs_background": "light"
     },
     "output_type": "display_data"
    }
   ],
   "source": [
    "q1 = data['floors_total'].quantile(.25) #первый квартиль\n",
    "q3 = data['floors_total'].quantile(.75) #третий квартиль\n",
    "iqr = q3 - q1 #межквартильный размах\n",
    "data['floors_total'].hist(range=(1, q3+1.5*iqr), bins=15, legend=True, grid=True, figsize=(10, 6)) #составление гистограммы без выбросов\n",
    "plt.show() "
   ]
  },
  {
   "cell_type": "markdown",
   "metadata": {},
   "source": [
    "Исходя из гистограммы по данным об общем количестве этажей в доме - очевидно, лидерами оказываются дома 5-и этажные и 9-и этажные. В след за ними идут 16-и этажные высотки. Домов с другой этажностью примерно одинаковое количество"
   ]
  },
  {
   "cell_type": "markdown",
   "metadata": {},
   "source": [
    "#### Расстояние до центра города в метрах и расстояние до ближайшего парка"
   ]
  },
  {
   "cell_type": "code",
   "execution_count": 48,
   "metadata": {},
   "outputs": [
    {
     "data": {
      "text/plain": [
       "count    8064.000000\n",
       "mean      490.830729\n",
       "std       342.554386\n",
       "min         1.000000\n",
       "25%       288.000000\n",
       "50%       454.500000\n",
       "75%       612.000000\n",
       "max      3190.000000\n",
       "Name: parks_nearest, dtype: float64"
      ]
     },
     "execution_count": 48,
     "metadata": {},
     "output_type": "execute_result"
    }
   ],
   "source": [
    "data['parks_nearest'].describe()"
   ]
  },
  {
   "cell_type": "code",
   "execution_count": 49,
   "metadata": {},
   "outputs": [
    {
     "data": {
      "text/plain": [
       "count    18139.000000\n",
       "mean     14197.860742\n",
       "std       8606.830295\n",
       "min        181.000000\n",
       "25%       9241.000000\n",
       "50%      13105.000000\n",
       "75%      16293.000000\n",
       "max      65968.000000\n",
       "Name: city_centers_nearest, dtype: float64"
      ]
     },
     "execution_count": 49,
     "metadata": {},
     "output_type": "execute_result"
    }
   ],
   "source": [
    "data['city_centers_nearest'].describe()"
   ]
  },
  {
   "cell_type": "markdown",
   "metadata": {},
   "source": [
    "Данных с количеством парков меньше, чем данных о расстоянии до центра. Максимальное расстояние до ближайшего парка - 3,2 километра, а максимум расстояния до центра - 66 километров"
   ]
  },
  {
   "cell_type": "code",
   "execution_count": 50,
   "metadata": {},
   "outputs": [
    {
     "data": {
      "image/png": "[encoded data removed]",
      "text/plain": [
       "<Figure size 720x432 with 1 Axes>"
      ]
     },
     "metadata": {
      "needs_background": "light"
     },
     "output_type": "display_data"
    }
   ],
   "source": [
    "q1 = data['parks_nearest'].quantile(.25) #первый квартиль\n",
    "q3 = data['parks_nearest'].quantile(.75) #третий квартиль\n",
    "iqr = q3 - q1 #межквартильный размах\n",
    "data['parks_nearest'].hist(range=(0, q3+1.5*iqr), bins=20, legend=True, grid=True, figsize=(10, 6)) #составление гистограммы без выбросов\n",
    "plt.show() "
   ]
  },
  {
   "cell_type": "code",
   "execution_count": 51,
   "metadata": {},
   "outputs": [
    {
     "data": {
      "image/png": "[encoded data removed]",
      "text/plain": [
       "<Figure size 720x432 with 1 Axes>"
      ]
     },
     "metadata": {
      "needs_background": "light"
     },
     "output_type": "display_data"
    }
   ],
   "source": [
    "q1 = data['city_centers_nearest'].quantile(.25) #первый квартиль\n",
    "q3 = data['city_centers_nearest'].quantile(.75) #третий квартиль\n",
    "iqr = q3 - q1 #межквартильный размах\n",
    "data['city_centers_nearest'].hist(range=(q1-1.5*iqr, q3+1.5*iqr), bins=20, legend=True, grid=True, figsize=(10, 6)) #составление гистограммы без выбросов\n",
    "plt.show() "
   ]
  },
  {
   "cell_type": "markdown",
   "metadata": {},
   "source": [
    "Изучив две гистограммы, можно сделать вывод, что в большинстве случаев, ближайший парк находится в 300-700 метрах от дома, где продается квартира, значений меньше 300м больше, чем значений больше 700м, это говорит о том, что у большинства квартир, по которым есть данные, рядом есть парк. Расстояние до центра - 12-17км самое популярное. Квартир удаленных от центра, больше чем на 18км, намного меньше, чем квартир ближе к центру (до 10 километров)"
   ]
  },
  {
   "cell_type": "markdown",
   "metadata": {},
   "source": [
    "**Изучив гистограммы, я пришел к выводу, что типичный объект недвижимости - это 1-3х комнатная квартира площадью приблизительно 30-45кв.м., с жилой площадью 16-30кв.м., кухней 5,5-12кв.м., потолками 2,5-2,7м в высоту, стоимостью от 3 до 5 миллионов рублей. Такая квартира может находиться на 1-5 этаже, рядом с домом есть парк, а расстояние до центра - 10-17км.**"
   ]
  },
  {
   "cell_type": "markdown",
   "metadata": {},
   "source": [
    "#### Как быстро продаются квартиры?"
   ]
  },
  {
   "cell_type": "code",
   "execution_count": 52,
   "metadata": {},
   "outputs": [
    {
     "data": {
      "text/plain": [
       "count    20470.000000\n",
       "mean       180.753200\n",
       "std        219.777916\n",
       "min          1.000000\n",
       "25%         45.000000\n",
       "50%         95.000000\n",
       "75%        231.000000\n",
       "max       1580.000000\n",
       "Name: days_exposition, dtype: float64"
      ]
     },
     "execution_count": 52,
     "metadata": {},
     "output_type": "execute_result"
    }
   ],
   "source": [
    "data['days_exposition'].describe()"
   ]
  },
  {
   "cell_type": "markdown",
   "metadata": {},
   "source": [
    "Медиана в 95 дней на продаже не совпадает со средним - 180 дней на продаже. Это может происходить из-за выдающихся значений и аномалий, таких как максимум - 1580 дней (более 4-х лет)."
   ]
  },
  {
   "cell_type": "code",
   "execution_count": 53,
   "metadata": {},
   "outputs": [
    {
     "data": {
      "image/png": "[encoded data removed]",
      "text/plain": [
       "<Figure size 720x432 with 1 Axes>"
      ]
     },
     "metadata": {
      "needs_background": "light"
     },
     "output_type": "display_data"
    }
   ],
   "source": [
    "data['days_exposition'].hist(figsize=(10,6), bins=20)\n",
    "plt.show()"
   ]
  },
  {
   "cell_type": "markdown",
   "metadata": {},
   "source": [
    "Наблюдаем множество аномально больших значений, которые нужно отсекать"
   ]
  },
  {
   "cell_type": "code",
   "execution_count": 54,
   "metadata": {},
   "outputs": [
    {
     "data": {
      "image/png": "[encoded data removed]",
      "text/plain": [
       "<Figure size 720x432 with 1 Axes>"
      ]
     },
     "metadata": {
      "needs_background": "light"
     },
     "output_type": "display_data"
    },
    {
     "data": {
      "image/png": "[encoded data removed]",
      "text/plain": [
       "<Figure size 720x432 with 1 Axes>"
      ]
     },
     "metadata": {
      "needs_background": "light"
     },
     "output_type": "display_data"
    }
   ],
   "source": [
    "q1 = data['days_exposition'].quantile(.25) \n",
    "q3 = data['days_exposition'].quantile(.75) \n",
    "iqr = q3 - q1 #построим гистограмму без выбросов\n",
    "\n",
    "data['days_exposition'].hist(range=(1, q3+1.5*iqr), bins=60, figsize=(10, 6))\n",
    "plt.show()\n",
    "data['days_exposition'].hist(range=(1, 100), bins=60, figsize=(10, 6)) #вторая гистограмма для более точного рассмотрения промежутка 0-100 дней\n",
    "plt.show()"
   ]
  },
  {
   "cell_type": "code",
   "execution_count": 55,
   "metadata": {},
   "outputs": [
    {
     "data": {
      "image/png": "[encoded data removed]",
      "text/plain": [
       "<Figure size 432x720 with 1 Axes>"
      ]
     },
     "metadata": {
      "needs_background": "light"
     },
     "output_type": "display_data"
    }
   ],
   "source": [
    "data.boxplot('days_exposition', figsize=(6, 10))\n",
    "plt.show() #квартили на графике размаха - q1 = 45, q3 = 231"
   ]
  },
  {
   "cell_type": "markdown",
   "metadata": {},
   "source": [
    "Глядя на гистограммы, можно сделать вывод, что пики продаж квартир расположены примерно на 45-м и 60-м и 90-м дне продажи (достаточно быстрые продажи). На этих днях на сайте объявления уходят в архив и их нужно публиковать заново. Аномально быстрые продаже расположены до 1-ой квартили q1 - продажи быстрее, чем за 45 дней. В большинстве, квартиры продаются за первые ~230 дней (3-я квартиль q3), дни далее уже можно назвать аномальными (еще могут быть различные факторы, завышенная цена, плохое местоположение, старый дом и т.п., поэтому объявления могут быть активными больше года)"
   ]
  },
  {
   "cell_type": "markdown",
   "metadata": {},
   "source": [
    "#### Зависит ли цена от различных факторов"
   ]
  },
  {
   "cell_type": "markdown",
   "metadata": {},
   "source": [
    "Зависит ли цена общей площади; жилой площади; площади кухни; количества комнат; этажа, на котором расположена квартира (первый, последний, другой); даты размещения (день недели, месяц, год)?"
   ]
  },
  {
   "cell_type": "code",
   "execution_count": 56,
   "metadata": {},
   "outputs": [
    {
     "data": {
      "text/plain": [
       "<function matplotlib.pyplot.show(close=None, block=None)>"
      ]
     },
     "execution_count": 56,
     "metadata": {},
     "output_type": "execute_result"
    },
    {
     "data": {
      "image/png": "[encoded data removed]",
      "text/plain": [
       "<Figure size 720x432 with 1 Axes>"
      ]
     },
     "metadata": {
      "needs_background": "light"
     },
     "output_type": "display_data"
    }
   ],
   "source": [
    "data.plot(x='total_area', y ='last_price', xlim=(0, 400), ylim=(0, 100000000), kind ='scatter', figsize=(10, 6), legend=True, alpha = 0.2)\n",
    "plt.show"
   ]
  },
  {
   "cell_type": "markdown",
   "metadata": {},
   "source": [
    "Из графика видно, что зависимость от общей площади есть: чем больше площадь, тем больше цена. Большинство значений в графике для квартир до 20 миллионов рублей"
   ]
  },
  {
   "cell_type": "code",
   "execution_count": 57,
   "metadata": {
    "scrolled": false
   },
   "outputs": [
    {
     "data": {
      "text/plain": [
       "<function matplotlib.pyplot.show(close=None, block=None)>"
      ]
     },
     "execution_count": 57,
     "metadata": {},
     "output_type": "execute_result"
    },
    {
     "data": {
      "image/png": "[encoded data removed]",
      "text/plain": [
       "<Figure size 720x432 with 1 Axes>"
      ]
     },
     "metadata": {
      "needs_background": "light"
     },
     "output_type": "display_data"
    }
   ],
   "source": [
    "data.plot(x='living_area', y ='last_price', xlim=(0, 300), ylim=(0, 100000000), kind ='scatter', figsize=(10, 6), legend=True, alpha = 0.2)\n",
    "plt.show"
   ]
  },
  {
   "cell_type": "markdown",
   "metadata": {},
   "source": [
    "График зависимости жилой площади похож на график общей площади. Зависимость такая же - чем больше площадь, тем больше цена"
   ]
  },
  {
   "cell_type": "code",
   "execution_count": 58,
   "metadata": {},
   "outputs": [
    {
     "data": {
      "text/plain": [
       "<function matplotlib.pyplot.show(close=None, block=None)>"
      ]
     },
     "execution_count": 58,
     "metadata": {},
     "output_type": "execute_result"
    },
    {
     "data": {
      "image/png": "[encoded data removed]",
      "text/plain": [
       "<Figure size 720x432 with 1 Axes>"
      ]
     },
     "metadata": {
      "needs_background": "light"
     },
     "output_type": "display_data"
    }
   ],
   "source": [
    "data.plot(x='kitchen_area', y ='last_price', xlim=(0, 100), ylim=(0, 100000000), kind ='scatter', figsize=(10, 6), legend=True, alpha = 0.2)\n",
    "plt.show"
   ]
  },
  {
   "cell_type": "markdown",
   "metadata": {},
   "source": [
    "Зависимость цены от площади кухни также прямо пропорциональная - больше площадь кухни - больше цена"
   ]
  },
  {
   "cell_type": "code",
   "execution_count": 59,
   "metadata": {},
   "outputs": [
    {
     "data": {
      "text/plain": [
       "<function matplotlib.pyplot.show(close=None, block=None)>"
      ]
     },
     "execution_count": 59,
     "metadata": {},
     "output_type": "execute_result"
    },
    {
     "data": {
      "image/png": "[encoded data removed]",
      "text/plain": [
       "<Figure size 720x432 with 1 Axes>"
      ]
     },
     "metadata": {
      "needs_background": "light"
     },
     "output_type": "display_data"
    }
   ],
   "source": [
    "data.plot(x='rooms', y ='last_price', xlim=(0, 10), ylim=(0, 100000000), kind ='scatter', figsize=(10, 6), legend=True, alpha = 0.2)\n",
    "plt.show"
   ]
  },
  {
   "cell_type": "markdown",
   "metadata": {},
   "source": [
    "Зависимость наблюдается: больше всего данных для квартир с 1-4 комнатами, больше комнат - цена выше. Цены на 3 и 4 комнатные квартиры примерно одинаковые, на квартиры с 5-ю комнатами цена чуть меньше (обычно 5 комнат в старых домах с маленькой жилой площадью)"
   ]
  },
  {
   "cell_type": "code",
   "execution_count": 60,
   "metadata": {},
   "outputs": [
    {
     "data": {
      "text/html": [
       "<div>\n",
       "<style scoped>\n",
       "    .dataframe tbody tr th:only-of-type {\n",
       "        vertical-align: middle;\n",
       "    }\n",
       "\n",
       "    .dataframe tbody tr th {\n",
       "        vertical-align: top;\n",
       "    }\n",
       "\n",
       "    .dataframe thead tr th {\n",
       "        text-align: left;\n",
       "    }\n",
       "\n",
       "    .dataframe thead tr:last-of-type th {\n",
       "        text-align: right;\n",
       "    }\n",
       "</style>\n",
       "<table border=\"1\" class=\"dataframe\">\n",
       "  <thead>\n",
       "    <tr>\n",
       "      <th></th>\n",
       "      <th>mean</th>\n",
       "      <th>count</th>\n",
       "      <th>median</th>\n",
       "    </tr>\n",
       "    <tr>\n",
       "      <th></th>\n",
       "      <th>last_price</th>\n",
       "      <th>last_price</th>\n",
       "      <th>last_price</th>\n",
       "    </tr>\n",
       "    <tr>\n",
       "      <th>floor_type</th>\n",
       "      <th></th>\n",
       "      <th></th>\n",
       "      <th></th>\n",
       "    </tr>\n",
       "  </thead>\n",
       "  <tbody>\n",
       "    <tr>\n",
       "      <th>другой</th>\n",
       "      <td>6.675825e+06</td>\n",
       "      <td>17408</td>\n",
       "      <td>4850000</td>\n",
       "    </tr>\n",
       "    <tr>\n",
       "      <th>первый</th>\n",
       "      <td>4.800465e+06</td>\n",
       "      <td>2912</td>\n",
       "      <td>3900000</td>\n",
       "    </tr>\n",
       "    <tr>\n",
       "      <th>последний</th>\n",
       "      <td>7.359138e+06</td>\n",
       "      <td>3330</td>\n",
       "      <td>4300000</td>\n",
       "    </tr>\n",
       "  </tbody>\n",
       "</table>\n",
       "</div>"
      ],
      "text/plain": [
       "                    mean      count     median\n",
       "              last_price last_price last_price\n",
       "floor_type                                    \n",
       "другой      6.675825e+06      17408    4850000\n",
       "первый      4.800465e+06       2912    3900000\n",
       "последний   7.359138e+06       3330    4300000"
      ]
     },
     "metadata": {},
     "output_type": "display_data"
    }
   ],
   "source": [
    "floor_category = data.pivot_table(index='floor_type', values='last_price', aggfunc=['mean', 'count', 'median'])\n",
    "display(floor_category)"
   ]
  },
  {
   "cell_type": "code",
   "execution_count": 61,
   "metadata": {},
   "outputs": [
    {
     "data": {
      "text/plain": [
       "<function matplotlib.pyplot.show(close=None, block=None)>"
      ]
     },
     "execution_count": 61,
     "metadata": {},
     "output_type": "execute_result"
    },
    {
     "data": {
      "image/png": "[encoded data removed]",
      "text/plain": [
       "<Figure size 720x432 with 1 Axes>"
      ]
     },
     "metadata": {
      "needs_background": "light"
     },
     "output_type": "display_data"
    }
   ],
   "source": [
    "data.plot(x='floor_type', y ='last_price', xlim=(-1, 3), ylim=(0, 100000000), kind ='scatter', figsize=(10, 6), legend=True, alpha = 0.2)\n",
    "plt.show"
   ]
  },
  {
   "cell_type": "markdown",
   "metadata": {},
   "source": [
    "Из графика и сводной таблицы видно, что квартиры на первом этаже ценятся меньше, чем на последнем, у других этажей максимальный разбег цены, а медиана цен выше"
   ]
  },
  {
   "cell_type": "code",
   "execution_count": 62,
   "metadata": {},
   "outputs": [
    {
     "data": {
      "text/plain": [
       "<function matplotlib.pyplot.show(close=None, block=None)>"
      ]
     },
     "execution_count": 62,
     "metadata": {},
     "output_type": "execute_result"
    },
    {
     "data": {
      "image/png": "[encoded data removed]",
      "text/plain": [
       "<Figure size 720x432 with 1 Axes>"
      ]
     },
     "metadata": {
      "needs_background": "light"
     },
     "output_type": "display_data"
    },
    {
     "data": {
      "image/png": "[encoded data removed]",
      "text/plain": [
       "<Figure size 720x432 with 1 Axes>"
      ]
     },
     "metadata": {
      "needs_background": "light"
     },
     "output_type": "display_data"
    },
    {
     "data": {
      "image/png": "[encoded data removed]",
      "text/plain": [
       "<Figure size 720x432 with 1 Axes>"
      ]
     },
     "metadata": {
      "needs_background": "light"
     },
     "output_type": "display_data"
    }
   ],
   "source": [
    "data.plot(x='day', y ='last_price', xlim=(-1, 7), ylim=(0, 100000000), kind='scatter', figsize=(10, 6), legend=True, alpha = 0.2)\n",
    "plt.show\n",
    "data.plot(x='month', y ='last_price', xlim=(0, 13), ylim=(0, 100000000), kind ='scatter', figsize=(10, 6), legend=True, alpha = 0.2)\n",
    "plt.show\n",
    "data.plot(x='year', y ='last_price', xlim=(2013, 2020), ylim=(0, 100000000), kind ='scatter', figsize=(10, 6), legend=True, alpha = 0.2)\n",
    "plt.show"
   ]
  },
  {
   "cell_type": "code",
   "execution_count": 63,
   "metadata": {},
   "outputs": [
    {
     "data": {
      "text/html": [
       "<div>\n",
       "<style scoped>\n",
       "    .dataframe tbody tr th:only-of-type {\n",
       "        vertical-align: middle;\n",
       "    }\n",
       "\n",
       "    .dataframe tbody tr th {\n",
       "        vertical-align: top;\n",
       "    }\n",
       "\n",
       "    .dataframe thead th {\n",
       "        text-align: right;\n",
       "    }\n",
       "</style>\n",
       "<table border=\"1\" class=\"dataframe\">\n",
       "  <thead>\n",
       "    <tr style=\"text-align: right;\">\n",
       "      <th></th>\n",
       "      <th>total_area</th>\n",
       "    </tr>\n",
       "    <tr>\n",
       "      <th>year</th>\n",
       "      <th></th>\n",
       "    </tr>\n",
       "  </thead>\n",
       "  <tbody>\n",
       "    <tr>\n",
       "      <th>2018</th>\n",
       "      <td>57.666359</td>\n",
       "    </tr>\n",
       "    <tr>\n",
       "      <th>2019</th>\n",
       "      <td>59.467864</td>\n",
       "    </tr>\n",
       "    <tr>\n",
       "      <th>2017</th>\n",
       "      <td>60.746788</td>\n",
       "    </tr>\n",
       "    <tr>\n",
       "      <th>2016</th>\n",
       "      <td>62.143852</td>\n",
       "    </tr>\n",
       "    <tr>\n",
       "      <th>2015</th>\n",
       "      <td>71.569923</td>\n",
       "    </tr>\n",
       "    <tr>\n",
       "      <th>2014</th>\n",
       "      <td>86.225956</td>\n",
       "    </tr>\n",
       "  </tbody>\n",
       "</table>\n",
       "</div>"
      ],
      "text/plain": [
       "      total_area\n",
       "year            \n",
       "2018   57.666359\n",
       "2019   59.467864\n",
       "2017   60.746788\n",
       "2016   62.143852\n",
       "2015   71.569923\n",
       "2014   86.225956"
      ]
     },
     "execution_count": 63,
     "metadata": {},
     "output_type": "execute_result"
    }
   ],
   "source": [
    "data.pivot_table(index='year', \n",
    "                 values='total_area').sort_values(by='total_area') #отслеживаем динамику метража квартир по годам"
   ]
  },
  {
   "cell_type": "markdown",
   "metadata": {},
   "source": [
    "Из графиков зависимости цены от дня недели/месяца/года можно сделать вывод, что зависимости почти нет, значительной корреляции не видно. С 2014 года по 2017 цены росли стабильно, после 2017 последовал небольшой спад цен, что объясняется спадом среднего метража продаваемых квартир"
   ]
  },
  {
   "cell_type": "markdown",
   "metadata": {},
   "source": [
    "**Изучив графики, я пришел к выводу, что цена зависит от общей площади, жилой площади, площади кухни, количества комнат - прямо пропорциаонально; от этажа, на котором расположена квартира - наблюдается зависимость, первый этаж ценится чуть меньше, чем последний; но особой зависимости от даты размещения (день недели, месяц, год) - не наблюдается, но, начиная с 2014 года средняя жилая площадь продаваемых квартир понижается**"
   ]
  },
  {
   "cell_type": "markdown",
   "metadata": {},
   "source": [
    "#### Средняя цена одного квадратного метра в 10 населённых пунктах "
   ]
  },
  {
   "cell_type": "code",
   "execution_count": 64,
   "metadata": {},
   "outputs": [
    {
     "data": {
      "text/plain": [
       "Санкт-Петербург      15721\n",
       "Мурино                 590\n",
       "Кудрово                472\n",
       "поселок Шушары         440\n",
       "Всеволожск             398\n",
       "Пушкин                 369\n",
       "Колпино                338\n",
       "поселок Парголово      327\n",
       "Гатчина                307\n",
       "Выборг                 237\n",
       "Name: locality_name, dtype: int64"
      ]
     },
     "execution_count": 64,
     "metadata": {},
     "output_type": "execute_result"
    }
   ],
   "source": [
    "top10 = data['locality_name'].value_counts().head(10)\n",
    "top10 #переменная для будущей таблицы, которая вклюает в себя топ 10 населенных пунктов по количеству объявлений"
   ]
  },
  {
   "cell_type": "code",
   "execution_count": 65,
   "metadata": {
    "scrolled": false
   },
   "outputs": [],
   "source": [
    "top_10_tab = data.query('locality_name in @top10.index') #создание таблицы с данными только из населенных пунктов топ 10 по количеству объявлений\n",
    "#обращение ко внешней переменной через @"
   ]
  },
  {
   "cell_type": "code",
   "execution_count": 66,
   "metadata": {},
   "outputs": [
    {
     "data": {
      "text/html": [
       "<div>\n",
       "<style scoped>\n",
       "    .dataframe tbody tr th:only-of-type {\n",
       "        vertical-align: middle;\n",
       "    }\n",
       "\n",
       "    .dataframe tbody tr th {\n",
       "        vertical-align: top;\n",
       "    }\n",
       "\n",
       "    .dataframe thead th {\n",
       "        text-align: right;\n",
       "    }\n",
       "</style>\n",
       "<table border=\"1\" class=\"dataframe\">\n",
       "  <thead>\n",
       "    <tr style=\"text-align: right;\">\n",
       "      <th></th>\n",
       "      <th>mean</th>\n",
       "      <th>median</th>\n",
       "    </tr>\n",
       "    <tr>\n",
       "      <th>locality_name</th>\n",
       "      <th></th>\n",
       "      <th></th>\n",
       "    </tr>\n",
       "  </thead>\n",
       "  <tbody>\n",
       "    <tr>\n",
       "      <th>Санкт-Петербург</th>\n",
       "      <td>114849.008793</td>\n",
       "      <td>104761.900</td>\n",
       "    </tr>\n",
       "    <tr>\n",
       "      <th>Пушкин</th>\n",
       "      <td>103125.819377</td>\n",
       "      <td>100000.000</td>\n",
       "    </tr>\n",
       "    <tr>\n",
       "      <th>Кудрово</th>\n",
       "      <td>95324.930508</td>\n",
       "      <td>95675.475</td>\n",
       "    </tr>\n",
       "    <tr>\n",
       "      <th>поселок Парголово</th>\n",
       "      <td>90175.913089</td>\n",
       "      <td>91642.860</td>\n",
       "    </tr>\n",
       "    <tr>\n",
       "      <th>Мурино</th>\n",
       "      <td>86087.512017</td>\n",
       "      <td>86175.640</td>\n",
       "    </tr>\n",
       "    <tr>\n",
       "      <th>поселок Шушары</th>\n",
       "      <td>78677.364318</td>\n",
       "      <td>76876.175</td>\n",
       "    </tr>\n",
       "    <tr>\n",
       "      <th>Колпино</th>\n",
       "      <td>75424.579112</td>\n",
       "      <td>74723.745</td>\n",
       "    </tr>\n",
       "    <tr>\n",
       "      <th>Гатчина</th>\n",
       "      <td>68746.146515</td>\n",
       "      <td>67796.610</td>\n",
       "    </tr>\n",
       "    <tr>\n",
       "      <th>Всеволожск</th>\n",
       "      <td>68654.473970</td>\n",
       "      <td>65789.470</td>\n",
       "    </tr>\n",
       "    <tr>\n",
       "      <th>Выборг</th>\n",
       "      <td>58141.909325</td>\n",
       "      <td>58158.320</td>\n",
       "    </tr>\n",
       "  </tbody>\n",
       "</table>\n",
       "</div>"
      ],
      "text/plain": [
       "                            mean      median\n",
       "locality_name                               \n",
       "Санкт-Петербург    114849.008793  104761.900\n",
       "Пушкин             103125.819377  100000.000\n",
       "Кудрово             95324.930508   95675.475\n",
       "поселок Парголово   90175.913089   91642.860\n",
       "Мурино              86087.512017   86175.640\n",
       "поселок Шушары      78677.364318   76876.175\n",
       "Колпино             75424.579112   74723.745\n",
       "Гатчина             68746.146515   67796.610\n",
       "Всеволожск          68654.473970   65789.470\n",
       "Выборг              58141.909325   58158.320"
      ]
     },
     "execution_count": 66,
     "metadata": {},
     "output_type": "execute_result"
    }
   ],
   "source": [
    "top_10_pivot = top_10_tab.pivot_table(index='locality_name', values='metr_price', aggfunc=['mean', 'median']) #Создание сводной таблицы\n",
    "top_10_pivot.columns = ['mean', 'median'] #переименовываем столбцы\n",
    "top_10_pivot.sort_values(by='median', ascending=False) #сортировка получившихся значений по медиане"
   ]
  },
  {
   "cell_type": "code",
   "execution_count": 67,
   "metadata": {},
   "outputs": [
    {
     "data": {
      "image/png": "[encoded data removed]",
      "text/plain": [
       "<Figure size 720x432 with 1 Axes>"
      ]
     },
     "metadata": {
      "needs_background": "light"
     },
     "output_type": "display_data"
    }
   ],
   "source": [
    "top_10_pivot.sort_values(by='mean').plot(y='mean', kind='bar', grid=True, figsize=(10, 6))\n",
    "plt.show()"
   ]
  },
  {
   "cell_type": "markdown",
   "metadata": {},
   "source": [
    "Из топ-10 населенных пунктов, самая дорогая средняя цена за квадратный метр, ожидаемо в Санкт-Петербурге (114тыс.р.). За ним следует Пушкин (103тыс.р.). Последним в списке средней цены за квадратный метр в топ-10 оказался Выборг с ценой 58тыс.р."
   ]
  },
  {
   "cell_type": "markdown",
   "metadata": {},
   "source": [
    "#### Цена в зависимости от расположения в СПБ"
   ]
  },
  {
   "cell_type": "code",
   "execution_count": 68,
   "metadata": {},
   "outputs": [
    {
     "data": {
      "text/html": [
       "<div>\n",
       "<style scoped>\n",
       "    .dataframe tbody tr th:only-of-type {\n",
       "        vertical-align: middle;\n",
       "    }\n",
       "\n",
       "    .dataframe tbody tr th {\n",
       "        vertical-align: top;\n",
       "    }\n",
       "\n",
       "    .dataframe thead th {\n",
       "        text-align: right;\n",
       "    }\n",
       "</style>\n",
       "<table border=\"1\" class=\"dataframe\">\n",
       "  <thead>\n",
       "    <tr style=\"text-align: right;\">\n",
       "      <th></th>\n",
       "      <th>total_images</th>\n",
       "      <th>last_price</th>\n",
       "      <th>total_area</th>\n",
       "      <th>first_day_exposition</th>\n",
       "      <th>rooms</th>\n",
       "      <th>ceiling_height</th>\n",
       "      <th>floors_total</th>\n",
       "      <th>living_area</th>\n",
       "      <th>floor</th>\n",
       "      <th>is_apartment</th>\n",
       "      <th>...</th>\n",
       "      <th>parks_nearest</th>\n",
       "      <th>ponds_around_3000</th>\n",
       "      <th>ponds_nearest</th>\n",
       "      <th>days_exposition</th>\n",
       "      <th>metr_price</th>\n",
       "      <th>day</th>\n",
       "      <th>month</th>\n",
       "      <th>year</th>\n",
       "      <th>floor_type</th>\n",
       "      <th>center_km</th>\n",
       "    </tr>\n",
       "  </thead>\n",
       "  <tbody>\n",
       "    <tr>\n",
       "      <th>0</th>\n",
       "      <td>20</td>\n",
       "      <td>13000000</td>\n",
       "      <td>108.0</td>\n",
       "      <td>2019-03-07</td>\n",
       "      <td>3</td>\n",
       "      <td>2.70</td>\n",
       "      <td>16.0</td>\n",
       "      <td>51.0</td>\n",
       "      <td>8</td>\n",
       "      <td>False</td>\n",
       "      <td>...</td>\n",
       "      <td>482.0</td>\n",
       "      <td>2.0</td>\n",
       "      <td>755.0</td>\n",
       "      <td>NaN</td>\n",
       "      <td>120370.37</td>\n",
       "      <td>3</td>\n",
       "      <td>3</td>\n",
       "      <td>2019</td>\n",
       "      <td>другой</td>\n",
       "      <td>16.0</td>\n",
       "    </tr>\n",
       "    <tr>\n",
       "      <th>2</th>\n",
       "      <td>10</td>\n",
       "      <td>5196000</td>\n",
       "      <td>56.0</td>\n",
       "      <td>2015-08-20</td>\n",
       "      <td>2</td>\n",
       "      <td>NaN</td>\n",
       "      <td>5.0</td>\n",
       "      <td>34.3</td>\n",
       "      <td>4</td>\n",
       "      <td>False</td>\n",
       "      <td>...</td>\n",
       "      <td>90.0</td>\n",
       "      <td>2.0</td>\n",
       "      <td>574.0</td>\n",
       "      <td>558.0</td>\n",
       "      <td>92785.71</td>\n",
       "      <td>3</td>\n",
       "      <td>8</td>\n",
       "      <td>2015</td>\n",
       "      <td>другой</td>\n",
       "      <td>14.0</td>\n",
       "    </tr>\n",
       "    <tr>\n",
       "      <th>3</th>\n",
       "      <td>0</td>\n",
       "      <td>64900000</td>\n",
       "      <td>159.0</td>\n",
       "      <td>2015-07-24</td>\n",
       "      <td>3</td>\n",
       "      <td>NaN</td>\n",
       "      <td>14.0</td>\n",
       "      <td>NaN</td>\n",
       "      <td>9</td>\n",
       "      <td>False</td>\n",
       "      <td>...</td>\n",
       "      <td>84.0</td>\n",
       "      <td>3.0</td>\n",
       "      <td>234.0</td>\n",
       "      <td>424.0</td>\n",
       "      <td>408176.10</td>\n",
       "      <td>4</td>\n",
       "      <td>7</td>\n",
       "      <td>2015</td>\n",
       "      <td>другой</td>\n",
       "      <td>7.0</td>\n",
       "    </tr>\n",
       "    <tr>\n",
       "      <th>4</th>\n",
       "      <td>2</td>\n",
       "      <td>10000000</td>\n",
       "      <td>100.0</td>\n",
       "      <td>2018-06-19</td>\n",
       "      <td>2</td>\n",
       "      <td>3.03</td>\n",
       "      <td>14.0</td>\n",
       "      <td>32.0</td>\n",
       "      <td>13</td>\n",
       "      <td>False</td>\n",
       "      <td>...</td>\n",
       "      <td>112.0</td>\n",
       "      <td>1.0</td>\n",
       "      <td>48.0</td>\n",
       "      <td>121.0</td>\n",
       "      <td>100000.00</td>\n",
       "      <td>1</td>\n",
       "      <td>6</td>\n",
       "      <td>2018</td>\n",
       "      <td>другой</td>\n",
       "      <td>8.0</td>\n",
       "    </tr>\n",
       "    <tr>\n",
       "      <th>7</th>\n",
       "      <td>5</td>\n",
       "      <td>7915000</td>\n",
       "      <td>71.6</td>\n",
       "      <td>2019-04-18</td>\n",
       "      <td>2</td>\n",
       "      <td>NaN</td>\n",
       "      <td>24.0</td>\n",
       "      <td>NaN</td>\n",
       "      <td>22</td>\n",
       "      <td>False</td>\n",
       "      <td>...</td>\n",
       "      <td>NaN</td>\n",
       "      <td>0.0</td>\n",
       "      <td>NaN</td>\n",
       "      <td>NaN</td>\n",
       "      <td>110544.69</td>\n",
       "      <td>3</td>\n",
       "      <td>4</td>\n",
       "      <td>2019</td>\n",
       "      <td>другой</td>\n",
       "      <td>12.0</td>\n",
       "    </tr>\n",
       "  </tbody>\n",
       "</table>\n",
       "<p>5 rows × 28 columns</p>\n",
       "</div>"
      ],
      "text/plain": [
       "   total_images  last_price  total_area first_day_exposition  rooms  \\\n",
       "0            20    13000000       108.0           2019-03-07      3   \n",
       "2            10     5196000        56.0           2015-08-20      2   \n",
       "3             0    64900000       159.0           2015-07-24      3   \n",
       "4             2    10000000       100.0           2018-06-19      2   \n",
       "7             5     7915000        71.6           2019-04-18      2   \n",
       "\n",
       "   ceiling_height  floors_total  living_area  floor  is_apartment  ...  \\\n",
       "0            2.70          16.0         51.0      8         False  ...   \n",
       "2             NaN           5.0         34.3      4         False  ...   \n",
       "3             NaN          14.0          NaN      9         False  ...   \n",
       "4            3.03          14.0         32.0     13         False  ...   \n",
       "7             NaN          24.0          NaN     22         False  ...   \n",
       "\n",
       "   parks_nearest  ponds_around_3000  ponds_nearest  days_exposition  \\\n",
       "0          482.0                2.0          755.0              NaN   \n",
       "2           90.0                2.0          574.0            558.0   \n",
       "3           84.0                3.0          234.0            424.0   \n",
       "4          112.0                1.0           48.0            121.0   \n",
       "7            NaN                0.0            NaN              NaN   \n",
       "\n",
       "  metr_price  day  month  year  floor_type  center_km  \n",
       "0  120370.37    3      3  2019      другой       16.0  \n",
       "2   92785.71    3      8  2015      другой       14.0  \n",
       "3  408176.10    4      7  2015      другой        7.0  \n",
       "4  100000.00    1      6  2018      другой        8.0  \n",
       "7  110544.69    3      4  2019      другой       12.0  \n",
       "\n",
       "[5 rows x 28 columns]"
      ]
     },
     "metadata": {},
     "output_type": "display_data"
    }
   ],
   "source": [
    "spb_tab = data.query('locality_name == \"Санкт-Петербург\"') #срез с названием населенного пункта Санкт-Петербург\n",
    "display(spb_tab.head())"
   ]
  },
  {
   "cell_type": "code",
   "execution_count": 69,
   "metadata": {},
   "outputs": [
    {
     "data": {
      "text/html": [
       "<div>\n",
       "<style scoped>\n",
       "    .dataframe tbody tr th:only-of-type {\n",
       "        vertical-align: middle;\n",
       "    }\n",
       "\n",
       "    .dataframe tbody tr th {\n",
       "        vertical-align: top;\n",
       "    }\n",
       "\n",
       "    .dataframe thead th {\n",
       "        text-align: right;\n",
       "    }\n",
       "</style>\n",
       "<table border=\"1\" class=\"dataframe\">\n",
       "  <thead>\n",
       "    <tr style=\"text-align: right;\">\n",
       "      <th></th>\n",
       "      <th>mean</th>\n",
       "      <th>median</th>\n",
       "    </tr>\n",
       "    <tr>\n",
       "      <th>center_km</th>\n",
       "      <th></th>\n",
       "      <th></th>\n",
       "    </tr>\n",
       "  </thead>\n",
       "  <tbody>\n",
       "    <tr>\n",
       "      <th>0.0</th>\n",
       "      <td>245833.530370</td>\n",
       "      <td>172619.050</td>\n",
       "    </tr>\n",
       "    <tr>\n",
       "      <th>1.0</th>\n",
       "      <td>177005.407604</td>\n",
       "      <td>128485.110</td>\n",
       "    </tr>\n",
       "    <tr>\n",
       "      <th>2.0</th>\n",
       "      <td>157849.007290</td>\n",
       "      <td>123035.515</td>\n",
       "    </tr>\n",
       "    <tr>\n",
       "      <th>3.0</th>\n",
       "      <td>121387.453743</td>\n",
       "      <td>108469.115</td>\n",
       "    </tr>\n",
       "    <tr>\n",
       "      <th>4.0</th>\n",
       "      <td>133282.874738</td>\n",
       "      <td>117952.265</td>\n",
       "    </tr>\n",
       "    <tr>\n",
       "      <th>5.0</th>\n",
       "      <td>140509.789022</td>\n",
       "      <td>127093.280</td>\n",
       "    </tr>\n",
       "    <tr>\n",
       "      <th>6.0</th>\n",
       "      <td>151012.193673</td>\n",
       "      <td>131835.225</td>\n",
       "    </tr>\n",
       "    <tr>\n",
       "      <th>7.0</th>\n",
       "      <td>156176.879524</td>\n",
       "      <td>127017.080</td>\n",
       "    </tr>\n",
       "    <tr>\n",
       "      <th>8.0</th>\n",
       "      <td>125671.442864</td>\n",
       "      <td>122944.930</td>\n",
       "    </tr>\n",
       "    <tr>\n",
       "      <th>9.0</th>\n",
       "      <td>113131.041939</td>\n",
       "      <td>105813.950</td>\n",
       "    </tr>\n",
       "    <tr>\n",
       "      <th>10.0</th>\n",
       "      <td>112727.516968</td>\n",
       "      <td>106451.610</td>\n",
       "    </tr>\n",
       "    <tr>\n",
       "      <th>11.0</th>\n",
       "      <td>108630.835357</td>\n",
       "      <td>103552.585</td>\n",
       "    </tr>\n",
       "    <tr>\n",
       "      <th>12.0</th>\n",
       "      <td>107488.734106</td>\n",
       "      <td>103988.600</td>\n",
       "    </tr>\n",
       "    <tr>\n",
       "      <th>13.0</th>\n",
       "      <td>108148.127893</td>\n",
       "      <td>104081.630</td>\n",
       "    </tr>\n",
       "    <tr>\n",
       "      <th>14.0</th>\n",
       "      <td>104252.384949</td>\n",
       "      <td>101865.140</td>\n",
       "    </tr>\n",
       "    <tr>\n",
       "      <th>15.0</th>\n",
       "      <td>104231.976231</td>\n",
       "      <td>101300.980</td>\n",
       "    </tr>\n",
       "    <tr>\n",
       "      <th>16.0</th>\n",
       "      <td>100542.613929</td>\n",
       "      <td>97500.000</td>\n",
       "    </tr>\n",
       "    <tr>\n",
       "      <th>17.0</th>\n",
       "      <td>96597.652288</td>\n",
       "      <td>94202.900</td>\n",
       "    </tr>\n",
       "    <tr>\n",
       "      <th>18.0</th>\n",
       "      <td>96362.263870</td>\n",
       "      <td>95000.000</td>\n",
       "    </tr>\n",
       "    <tr>\n",
       "      <th>19.0</th>\n",
       "      <td>98652.735732</td>\n",
       "      <td>97241.380</td>\n",
       "    </tr>\n",
       "    <tr>\n",
       "      <th>20.0</th>\n",
       "      <td>103045.181837</td>\n",
       "      <td>103703.690</td>\n",
       "    </tr>\n",
       "    <tr>\n",
       "      <th>21.0</th>\n",
       "      <td>94469.584444</td>\n",
       "      <td>89705.880</td>\n",
       "    </tr>\n",
       "    <tr>\n",
       "      <th>22.0</th>\n",
       "      <td>91330.425099</td>\n",
       "      <td>88781.475</td>\n",
       "    </tr>\n",
       "    <tr>\n",
       "      <th>23.0</th>\n",
       "      <td>91828.517765</td>\n",
       "      <td>89965.400</td>\n",
       "    </tr>\n",
       "    <tr>\n",
       "      <th>24.0</th>\n",
       "      <td>85736.904615</td>\n",
       "      <td>86353.290</td>\n",
       "    </tr>\n",
       "    <tr>\n",
       "      <th>25.0</th>\n",
       "      <td>91531.371154</td>\n",
       "      <td>93612.160</td>\n",
       "    </tr>\n",
       "    <tr>\n",
       "      <th>26.0</th>\n",
       "      <td>89285.877170</td>\n",
       "      <td>89393.940</td>\n",
       "    </tr>\n",
       "    <tr>\n",
       "      <th>27.0</th>\n",
       "      <td>132115.710000</td>\n",
       "      <td>132115.710</td>\n",
       "    </tr>\n",
       "    <tr>\n",
       "      <th>28.0</th>\n",
       "      <td>81161.914286</td>\n",
       "      <td>79372.090</td>\n",
       "    </tr>\n",
       "    <tr>\n",
       "      <th>29.0</th>\n",
       "      <td>72953.365000</td>\n",
       "      <td>76084.735</td>\n",
       "    </tr>\n",
       "  </tbody>\n",
       "</table>\n",
       "</div>"
      ],
      "text/plain": [
       "                    mean      median\n",
       "center_km                           \n",
       "0.0        245833.530370  172619.050\n",
       "1.0        177005.407604  128485.110\n",
       "2.0        157849.007290  123035.515\n",
       "3.0        121387.453743  108469.115\n",
       "4.0        133282.874738  117952.265\n",
       "5.0        140509.789022  127093.280\n",
       "6.0        151012.193673  131835.225\n",
       "7.0        156176.879524  127017.080\n",
       "8.0        125671.442864  122944.930\n",
       "9.0        113131.041939  105813.950\n",
       "10.0       112727.516968  106451.610\n",
       "11.0       108630.835357  103552.585\n",
       "12.0       107488.734106  103988.600\n",
       "13.0       108148.127893  104081.630\n",
       "14.0       104252.384949  101865.140\n",
       "15.0       104231.976231  101300.980\n",
       "16.0       100542.613929   97500.000\n",
       "17.0        96597.652288   94202.900\n",
       "18.0        96362.263870   95000.000\n",
       "19.0        98652.735732   97241.380\n",
       "20.0       103045.181837  103703.690\n",
       "21.0        94469.584444   89705.880\n",
       "22.0        91330.425099   88781.475\n",
       "23.0        91828.517765   89965.400\n",
       "24.0        85736.904615   86353.290\n",
       "25.0        91531.371154   93612.160\n",
       "26.0        89285.877170   89393.940\n",
       "27.0       132115.710000  132115.710\n",
       "28.0        81161.914286   79372.090\n",
       "29.0        72953.365000   76084.735"
      ]
     },
     "metadata": {},
     "output_type": "display_data"
    }
   ],
   "source": [
    "spb_pivot = spb_tab.pivot_table(index='center_km', #сводная таблица\n",
    "                               values='metr_price',\n",
    "                               aggfunc=['mean', 'median'])\n",
    "spb_pivot.columns=['mean', 'median']\n",
    "spb_pivot.sort_values(by='mean', ascending=False)\n",
    "display(spb_pivot)"
   ]
  },
  {
   "cell_type": "markdown",
   "metadata": {},
   "source": [
    "По сводной таблице сразу видно, что после сортировки значений средней стоимости по убыванию - самая высокая стоимость квадратного метра, ожидаемо, в самом центре. После 8-го километра от центра, сердняя цена начинает постепенно падать по мере удаления от центра."
   ]
  },
  {
   "cell_type": "code",
   "execution_count": 70,
   "metadata": {},
   "outputs": [
    {
     "data": {
      "image/png": "[encoded data removed]",
      "text/plain": [
       "<Figure size 720x432 with 1 Axes>"
      ]
     },
     "metadata": {
      "needs_background": "light"
     },
     "output_type": "display_data"
    }
   ],
   "source": [
    "spb_pivot.plot(y='mean', grid=True, style='-o', figsize=(10, 6))\n",
    "plt.show()"
   ]
  },
  {
   "cell_type": "markdown",
   "metadata": {},
   "source": [
    "На графике отчетливо виден спад после 8-го километра, пик цены в самом центре, а так же пик цены в районе 27-го километра, что может говорить о нахождении там новостроек или элитного жилья."
   ]
  },
  {
   "cell_type": "markdown",
   "metadata": {},
   "source": [
    "### Напишите общий вывод"
   ]
  },
  {
   "cell_type": "markdown",
   "metadata": {},
   "source": [
    "Была проделана работа с пропусками, изменен тип столбцов, изменены названия столбцов, проанализированны данные (без аномалий - при помощи квартили, межквартильного размаха).\n",
    "<br>\n",
    "<br>**Итог исследования: **\n",
    "<br>- большее всего на цену квартиры **влияет ее общая и жилая площадь**, также влияет метраж кухни, количество комнат, расстояние до центра города (Санкт-Петербурга)\n",
    "<br>- квартиры в **центре Санкт-Петербурга - самые дорогие по цене квадратного метра.** После удаления на 8 километров от центра - начинается спад цен на квадратный метр. В районе 27-го километра от СПБ находится элитная недвижимость\n",
    "<br>- квартиры **в Выборге - последние по стоимости квадратного метра,** среди топ-10 населенных пунктов по количеству объявлений\n",
    "<br>- **типичный объект недвижимости** - это 1-3х комнатная квартира площадью приблизительно 30-45кв.м., с жилой площадью 16-30кв.м., кухней 5,5-12кв.м., потолками 2,5-2,7м в высоту, стоимостью от 3 до 5 миллионов рублей. Такая квартира может находиться на 1-5 этаже, рядом с домом есть парк, а расстояние до центра - 10-17км\n",
    "<br>- **время продажи квартиры обычно занимает до 200-240 дней,** пики наблюдаются на 45 и 60 днях. До 45 дней - быстрая продажа. Но есть и объявления, активные уже долгое время"
   ]
  },
  {
   "cell_type": "markdown",
   "metadata": {
    "id": "A90mc0BgAwb-"
   },
   "source": [
    "**Чек-лист готовности проекта**\n",
    "\n",
    "Поставьте 'x' в выполненных пунктах. Далее нажмите Shift+Enter."
   ]
  },
  {
   "cell_type": "markdown",
   "metadata": {
    "id": "ME3sTWm6Awb-"
   },
   "source": [
    "- [x]  Файл с данными открыт.\n",
    "- [x]  Файл с данными изучен: выведены первые строки, использован метод `info()`, построены гистограммы.\n",
    "- [x]  Найдены пропущенные значения.\n",
    "- [x]  Пропущенные значения заполнены там, где это возможно.\n",
    "- [x]  Объяснено, какие пропущенные значения обнаружены.\n",
    "- [x]  В каждом столбце установлен корректный тип данных.\n",
    "- [x]  Объяснено, в каких столбцах изменён тип данных и почему.\n",
    "- [x]  Устранены неявные дубликаты в названиях населённых пунктов.\n",
    "- [x]  Обработаны редкие и выбивающиеся значения (аномалии).\n",
    "- [x]  В таблицу добавлены новые параметры:\n",
    "       – цена одного квадратного метра;\n",
    "       – день публикации объявления (0 - понедельник, 1 - вторник и т. д.);\n",
    "       – месяц публикации объявления;\n",
    "       – год публикации объявления;\n",
    "       – тип этажа квартиры (значения — «первый», «последний», «другой»);\n",
    "       – расстояние до центра города в километрах.\n",
    "- [x]  Изучены и описаны параметры:\n",
    "        - общая площадь;\n",
    "        - жилая площадь;\n",
    "        - площадь кухни;\n",
    "        - цена объекта;\n",
    "        - количество комнат;\n",
    "        - высота потолков;\n",
    "        - тип этажа квартиры («первый», «последний», «другой»);\n",
    "        - общее количество этажей в доме;\n",
    "        - расстояние до центра города в метрах;\n",
    "        - расстояние до ближайшего парка.\n",
    "- [x]  Выполнено задание «Изучите, как быстро продавались квартиры (столбец `days_exposition`)»:\n",
    "    - построена гистограмма;\n",
    "    - рассчитаны среднее и медиана;\n",
    "    - описано, сколько обычно занимает продажа и указано, какие продажи можно считать быстрыми, а какие — необычно долгими.\n",
    "- [x]  Выполнено задание «Определите факторы, которые больше всего влияют на общую (полную) стоимость объекта». Построены графики, которые показывают зависимость цены от параметров:\n",
    "        - общая площадь;\n",
    "        - жилая площадь;\n",
    "        - площадь кухни;\n",
    "        - количество комнат;\n",
    "        - тип этажа, на котором расположена квартира (первый, последний, другой);\n",
    "        - дата размещения (день недели, месяц, год).\n",
    "- [x]  Выполнено задание «Посчитайте среднюю цену одного квадратного метра в 10 населённых пунктах с наибольшим числом объявлений»:\n",
    "    - выделены населённые пункты с самой высокой и низкой стоимостью квадратного метра.\n",
    "- [x]  Выполнено задание «Выделите квартиры в Санкт-Петербурге с помощью столбца `locality_name` и вычислите их среднюю стоимость на разном удалении от центра»:\n",
    "    -  учтён каждый километр расстояния, известны средние цены квартир в одном километре от центра, в двух и так далее;\n",
    "    -  описано, как стоимость объекта зависит от расстояния до центра города;\n",
    "    -  построен график изменения средней цены для каждого километра от центра Петербурга.\n",
    "- [x]  На каждом этапе сделаны промежуточные выводы.\n",
    "- [x]  В конце проекта сделан общий вывод."
   ]
  }
 ],
 "metadata": {
  "ExecuteTimeLog": [
   {
    "duration": 826,
    "start_time": "2024-04-09T09:56:41.229Z"
   },
   {
    "duration": 224,
    "start_time": "2024-04-09T09:57:27.245Z"
   },
   {
    "duration": 11,
    "start_time": "2024-04-09T09:57:33.467Z"
   },
   {
    "duration": 44,
    "start_time": "2024-04-09T09:57:46.420Z"
   },
   {
    "duration": 48,
    "start_time": "2024-04-09T09:57:59.784Z"
   },
   {
    "duration": 86,
    "start_time": "2024-04-09T09:58:08.924Z"
   },
   {
    "duration": 7,
    "start_time": "2024-04-09T09:58:10.726Z"
   },
   {
    "duration": 8,
    "start_time": "2024-04-09T09:58:30.306Z"
   },
   {
    "duration": 55,
    "start_time": "2024-04-09T10:01:05.152Z"
   },
   {
    "duration": 93,
    "start_time": "2024-04-09T10:01:29.449Z"
   },
   {
    "duration": 50,
    "start_time": "2024-04-09T10:02:02.442Z"
   },
   {
    "duration": 47,
    "start_time": "2024-04-09T10:02:04.256Z"
   },
   {
    "duration": 58,
    "start_time": "2024-04-09T10:02:05.321Z"
   },
   {
    "duration": 57,
    "start_time": "2024-04-09T10:02:06.318Z"
   },
   {
    "duration": 60,
    "start_time": "2024-04-09T10:02:14.727Z"
   },
   {
    "duration": 52,
    "start_time": "2024-04-09T10:02:24.918Z"
   },
   {
    "duration": 82,
    "start_time": "2024-04-09T10:03:41.763Z"
   },
   {
    "duration": 95,
    "start_time": "2024-04-09T10:03:56.972Z"
   },
   {
    "duration": 47,
    "start_time": "2024-04-09T10:03:59.352Z"
   },
   {
    "duration": 42,
    "start_time": "2024-04-09T10:04:44.962Z"
   },
   {
    "duration": 15,
    "start_time": "2024-04-09T10:05:03.004Z"
   },
   {
    "duration": 1877,
    "start_time": "2024-04-09T10:05:52.462Z"
   },
   {
    "duration": 2338,
    "start_time": "2024-04-09T10:06:18.332Z"
   },
   {
    "duration": 696,
    "start_time": "2024-04-09T10:06:39.798Z"
   },
   {
    "duration": 101,
    "start_time": "2024-04-09T10:06:40.497Z"
   },
   {
    "duration": 47,
    "start_time": "2024-04-09T10:06:40.600Z"
   },
   {
    "duration": 14,
    "start_time": "2024-04-09T10:06:40.648Z"
   },
   {
    "duration": 2388,
    "start_time": "2024-04-09T10:06:40.663Z"
   },
   {
    "duration": 1862,
    "start_time": "2024-04-09T10:09:28.447Z"
   },
   {
    "duration": 6,
    "start_time": "2024-04-09T10:39:55.444Z"
   },
   {
    "duration": 5,
    "start_time": "2024-04-09T10:46:10.097Z"
   },
   {
    "duration": 6,
    "start_time": "2024-04-09T10:48:32.003Z"
   },
   {
    "duration": 14,
    "start_time": "2024-04-09T10:48:39.416Z"
   },
   {
    "duration": 3,
    "start_time": "2024-04-09T10:49:01.286Z"
   },
   {
    "duration": 79,
    "start_time": "2024-04-09T11:04:46.458Z"
   },
   {
    "duration": 13,
    "start_time": "2024-04-09T11:04:53.598Z"
   },
   {
    "duration": 12,
    "start_time": "2024-04-09T11:07:27.314Z"
   },
   {
    "duration": 11,
    "start_time": "2024-04-09T11:07:34.318Z"
   },
   {
    "duration": 485,
    "start_time": "2024-04-09T11:08:29.318Z"
   },
   {
    "duration": 295,
    "start_time": "2024-04-09T11:08:41.642Z"
   },
   {
    "duration": 4,
    "start_time": "2024-04-09T11:08:54.355Z"
   },
   {
    "duration": 1088,
    "start_time": "2024-04-09T11:11:58.371Z"
   },
   {
    "duration": 525,
    "start_time": "2024-04-09T11:12:15.163Z"
   },
   {
    "duration": 571,
    "start_time": "2024-04-09T11:13:14.035Z"
   },
   {
    "duration": 643,
    "start_time": "2024-04-09T11:15:28.032Z"
   },
   {
    "duration": 562,
    "start_time": "2024-04-09T11:15:54.681Z"
   },
   {
    "duration": 581,
    "start_time": "2024-04-09T11:16:04.593Z"
   },
   {
    "duration": 8,
    "start_time": "2024-04-09T11:16:26.445Z"
   },
   {
    "duration": 22,
    "start_time": "2024-04-09T11:16:35.980Z"
   },
   {
    "duration": 8,
    "start_time": "2024-04-09T11:27:42.473Z"
   },
   {
    "duration": 30,
    "start_time": "2024-04-09T12:55:27.249Z"
   },
   {
    "duration": 19,
    "start_time": "2024-04-09T12:55:43.483Z"
   },
   {
    "duration": 10,
    "start_time": "2024-04-09T12:56:00.703Z"
   },
   {
    "duration": 11,
    "start_time": "2024-04-09T12:56:28.706Z"
   },
   {
    "duration": 628,
    "start_time": "2024-04-09T12:56:38.527Z"
   },
   {
    "duration": 98,
    "start_time": "2024-04-09T12:56:39.157Z"
   },
   {
    "duration": 50,
    "start_time": "2024-04-09T12:56:39.257Z"
   },
   {
    "duration": 16,
    "start_time": "2024-04-09T12:56:39.318Z"
   },
   {
    "duration": 1839,
    "start_time": "2024-04-09T12:56:39.336Z"
   },
   {
    "duration": 9,
    "start_time": "2024-04-09T12:56:41.177Z"
   },
   {
    "duration": 33,
    "start_time": "2024-04-09T12:56:41.188Z"
   },
   {
    "duration": 24,
    "start_time": "2024-04-09T12:57:08.002Z"
   },
   {
    "duration": 83,
    "start_time": "2024-04-09T12:59:12.207Z"
   },
   {
    "duration": 22,
    "start_time": "2024-04-09T13:00:00.647Z"
   },
   {
    "duration": 27,
    "start_time": "2024-04-09T13:00:49.757Z"
   },
   {
    "duration": 27,
    "start_time": "2024-04-09T13:01:19.856Z"
   },
   {
    "duration": 106,
    "start_time": "2024-04-09T13:01:32.104Z"
   },
   {
    "duration": 65,
    "start_time": "2024-04-09T13:01:40.648Z"
   },
   {
    "duration": 676,
    "start_time": "2024-04-09T13:02:43.493Z"
   },
   {
    "duration": 95,
    "start_time": "2024-04-09T13:02:44.171Z"
   },
   {
    "duration": 45,
    "start_time": "2024-04-09T13:02:44.268Z"
   },
   {
    "duration": 14,
    "start_time": "2024-04-09T13:02:44.317Z"
   },
   {
    "duration": 1902,
    "start_time": "2024-04-09T13:02:44.333Z"
   },
   {
    "duration": 9,
    "start_time": "2024-04-09T13:02:46.237Z"
   },
   {
    "duration": 65,
    "start_time": "2024-04-09T13:02:46.247Z"
   },
   {
    "duration": 59,
    "start_time": "2024-04-09T13:03:52.715Z"
   },
   {
    "duration": 57,
    "start_time": "2024-04-09T13:04:14.486Z"
   },
   {
    "duration": 70,
    "start_time": "2024-04-09T13:05:09.596Z"
   },
   {
    "duration": 4,
    "start_time": "2024-04-09T13:09:36.809Z"
   },
   {
    "duration": 9,
    "start_time": "2024-04-09T13:09:37.987Z"
   },
   {
    "duration": 70,
    "start_time": "2024-04-09T13:10:47.857Z"
   },
   {
    "duration": 60,
    "start_time": "2024-04-09T13:10:54.170Z"
   },
   {
    "duration": 71,
    "start_time": "2024-04-09T13:11:10.089Z"
   },
   {
    "duration": 66,
    "start_time": "2024-04-09T13:11:32.754Z"
   },
   {
    "duration": 68,
    "start_time": "2024-04-09T13:12:00.841Z"
   },
   {
    "duration": 47,
    "start_time": "2024-04-09T13:13:25.912Z"
   },
   {
    "duration": 8,
    "start_time": "2024-04-09T13:13:33.096Z"
   },
   {
    "duration": 595,
    "start_time": "2024-04-09T13:46:17.277Z"
   },
   {
    "duration": 98,
    "start_time": "2024-04-09T13:46:17.874Z"
   },
   {
    "duration": 53,
    "start_time": "2024-04-09T13:46:17.973Z"
   },
   {
    "duration": 14,
    "start_time": "2024-04-09T13:46:18.027Z"
   },
   {
    "duration": 78,
    "start_time": "2024-04-09T13:46:18.043Z"
   },
   {
    "duration": 1916,
    "start_time": "2024-04-09T13:46:18.123Z"
   },
   {
    "duration": 6,
    "start_time": "2024-04-09T13:46:20.040Z"
   },
   {
    "duration": 38,
    "start_time": "2024-04-09T13:46:20.047Z"
   },
   {
    "duration": 118,
    "start_time": "2024-04-09T13:49:59.335Z"
   },
   {
    "duration": 14,
    "start_time": "2024-04-09T13:50:13.015Z"
   },
   {
    "duration": 25,
    "start_time": "2024-04-09T13:50:26.726Z"
   },
   {
    "duration": 106,
    "start_time": "2024-04-09T13:50:34.515Z"
   },
   {
    "duration": 25,
    "start_time": "2024-04-09T13:50:37.353Z"
   },
   {
    "duration": 97,
    "start_time": "2024-04-09T13:51:01.221Z"
   },
   {
    "duration": 24,
    "start_time": "2024-04-09T13:51:02.413Z"
   },
   {
    "duration": 5,
    "start_time": "2024-04-09T13:51:16.366Z"
   },
   {
    "duration": 6,
    "start_time": "2024-04-09T13:52:25.224Z"
   },
   {
    "duration": 16,
    "start_time": "2024-04-09T13:52:40.536Z"
   },
   {
    "duration": 4,
    "start_time": "2024-04-09T13:53:44.744Z"
   },
   {
    "duration": 5,
    "start_time": "2024-04-09T13:54:30.640Z"
   },
   {
    "duration": 4,
    "start_time": "2024-04-09T13:54:32.003Z"
   },
   {
    "duration": 634,
    "start_time": "2024-04-09T13:54:48.384Z"
   },
   {
    "duration": 100,
    "start_time": "2024-04-09T13:54:49.020Z"
   },
   {
    "duration": 50,
    "start_time": "2024-04-09T13:54:49.121Z"
   },
   {
    "duration": 16,
    "start_time": "2024-04-09T13:54:49.173Z"
   },
   {
    "duration": 90,
    "start_time": "2024-04-09T13:54:49.191Z"
   },
   {
    "duration": 1940,
    "start_time": "2024-04-09T13:54:49.283Z"
   },
   {
    "duration": 5,
    "start_time": "2024-04-09T13:54:51.225Z"
   },
   {
    "duration": 9,
    "start_time": "2024-04-09T13:54:51.232Z"
   },
   {
    "duration": 9,
    "start_time": "2024-04-09T13:54:51.242Z"
   },
   {
    "duration": 6,
    "start_time": "2024-04-09T13:55:23.330Z"
   },
   {
    "duration": 4,
    "start_time": "2024-04-09T13:55:24.379Z"
   },
   {
    "duration": 71,
    "start_time": "2024-04-09T13:55:31.707Z"
   },
   {
    "duration": 13,
    "start_time": "2024-04-09T13:55:35.967Z"
   },
   {
    "duration": 10,
    "start_time": "2024-04-09T13:56:26.565Z"
   },
   {
    "duration": 624,
    "start_time": "2024-04-09T13:56:35.262Z"
   },
   {
    "duration": 92,
    "start_time": "2024-04-09T13:56:35.888Z"
   },
   {
    "duration": 48,
    "start_time": "2024-04-09T13:56:35.981Z"
   },
   {
    "duration": 15,
    "start_time": "2024-04-09T13:56:36.031Z"
   },
   {
    "duration": 77,
    "start_time": "2024-04-09T13:56:36.047Z"
   },
   {
    "duration": 1858,
    "start_time": "2024-04-09T13:56:36.125Z"
   },
   {
    "duration": 6,
    "start_time": "2024-04-09T13:56:37.984Z"
   },
   {
    "duration": 9,
    "start_time": "2024-04-09T13:56:37.992Z"
   },
   {
    "duration": 6,
    "start_time": "2024-04-09T13:56:38.002Z"
   },
   {
    "duration": 4,
    "start_time": "2024-04-09T13:57:06.880Z"
   },
   {
    "duration": 13,
    "start_time": "2024-04-09T13:57:14.443Z"
   },
   {
    "duration": 49,
    "start_time": "2024-04-10T06:33:14.970Z"
   },
   {
    "duration": 6,
    "start_time": "2024-04-10T06:33:24.465Z"
   },
   {
    "duration": 783,
    "start_time": "2024-04-10T06:33:29.985Z"
   },
   {
    "duration": 287,
    "start_time": "2024-04-10T06:33:30.770Z"
   },
   {
    "duration": 54,
    "start_time": "2024-04-10T06:33:31.059Z"
   },
   {
    "duration": 26,
    "start_time": "2024-04-10T06:33:31.115Z"
   },
   {
    "duration": 145,
    "start_time": "2024-04-10T06:33:31.143Z"
   },
   {
    "duration": 1873,
    "start_time": "2024-04-10T06:33:31.290Z"
   },
   {
    "duration": 6,
    "start_time": "2024-04-10T06:33:33.164Z"
   },
   {
    "duration": 24,
    "start_time": "2024-04-10T06:33:33.171Z"
   },
   {
    "duration": 7,
    "start_time": "2024-04-10T06:33:33.196Z"
   },
   {
    "duration": 27,
    "start_time": "2024-04-10T06:33:33.205Z"
   },
   {
    "duration": 19,
    "start_time": "2024-04-10T06:33:33.233Z"
   },
   {
    "duration": 11,
    "start_time": "2024-04-10T06:33:44.591Z"
   },
   {
    "duration": 20,
    "start_time": "2024-04-10T06:33:52.807Z"
   },
   {
    "duration": 80,
    "start_time": "2024-04-10T06:34:15.308Z"
   },
   {
    "duration": 15,
    "start_time": "2024-04-10T06:34:17.858Z"
   },
   {
    "duration": 18,
    "start_time": "2024-04-10T06:34:53.678Z"
   },
   {
    "duration": 72,
    "start_time": "2024-04-10T06:36:36.175Z"
   },
   {
    "duration": 15,
    "start_time": "2024-04-10T06:37:41.027Z"
   },
   {
    "duration": 7,
    "start_time": "2024-04-10T06:37:48.576Z"
   },
   {
    "duration": 653,
    "start_time": "2024-04-10T06:38:02.019Z"
   },
   {
    "duration": 96,
    "start_time": "2024-04-10T06:38:02.674Z"
   },
   {
    "duration": 44,
    "start_time": "2024-04-10T06:38:02.771Z"
   },
   {
    "duration": 13,
    "start_time": "2024-04-10T06:38:02.816Z"
   },
   {
    "duration": 141,
    "start_time": "2024-04-10T06:38:02.831Z"
   },
   {
    "duration": 1785,
    "start_time": "2024-04-10T06:38:02.974Z"
   },
   {
    "duration": 5,
    "start_time": "2024-04-10T06:38:04.761Z"
   },
   {
    "duration": 15,
    "start_time": "2024-04-10T06:38:04.767Z"
   },
   {
    "duration": 5,
    "start_time": "2024-04-10T06:38:04.783Z"
   },
   {
    "duration": 23,
    "start_time": "2024-04-10T06:38:04.790Z"
   },
   {
    "duration": 11,
    "start_time": "2024-04-10T06:38:04.814Z"
   },
   {
    "duration": 79,
    "start_time": "2024-04-10T06:38:04.827Z"
   },
   {
    "duration": 48,
    "start_time": "2024-04-10T06:38:15.375Z"
   },
   {
    "duration": 10,
    "start_time": "2024-04-10T06:38:26.227Z"
   },
   {
    "duration": 7,
    "start_time": "2024-04-10T06:38:31.543Z"
   },
   {
    "duration": 5,
    "start_time": "2024-04-10T06:39:00.286Z"
   },
   {
    "duration": 13,
    "start_time": "2024-04-10T06:39:47.296Z"
   },
   {
    "duration": 6,
    "start_time": "2024-04-10T06:39:48.292Z"
   },
   {
    "duration": 36,
    "start_time": "2024-04-10T06:39:57.852Z"
   },
   {
    "duration": 13,
    "start_time": "2024-04-10T06:40:10.941Z"
   },
   {
    "duration": 37,
    "start_time": "2024-04-10T06:40:12.238Z"
   },
   {
    "duration": 5,
    "start_time": "2024-04-10T06:40:21.550Z"
   },
   {
    "duration": 6,
    "start_time": "2024-04-10T06:41:31.354Z"
   },
   {
    "duration": 601,
    "start_time": "2024-04-10T06:41:40.912Z"
   },
   {
    "duration": 95,
    "start_time": "2024-04-10T06:41:41.515Z"
   },
   {
    "duration": 50,
    "start_time": "2024-04-10T06:41:41.611Z"
   },
   {
    "duration": 14,
    "start_time": "2024-04-10T06:41:41.663Z"
   },
   {
    "duration": 93,
    "start_time": "2024-04-10T06:41:41.679Z"
   },
   {
    "duration": 1870,
    "start_time": "2024-04-10T06:41:41.773Z"
   },
   {
    "duration": 6,
    "start_time": "2024-04-10T06:41:43.645Z"
   },
   {
    "duration": 9,
    "start_time": "2024-04-10T06:41:43.652Z"
   },
   {
    "duration": 6,
    "start_time": "2024-04-10T06:41:43.662Z"
   },
   {
    "duration": 16,
    "start_time": "2024-04-10T06:41:43.669Z"
   },
   {
    "duration": 10,
    "start_time": "2024-04-10T06:41:43.686Z"
   },
   {
    "duration": 4,
    "start_time": "2024-04-10T06:41:43.698Z"
   },
   {
    "duration": 1662,
    "start_time": "2024-04-10T06:48:36.298Z"
   },
   {
    "duration": 7,
    "start_time": "2024-04-10T06:48:48.439Z"
   },
   {
    "duration": 4,
    "start_time": "2024-04-10T06:49:43.270Z"
   },
   {
    "duration": 1609,
    "start_time": "2024-04-10T06:49:57.728Z"
   },
   {
    "duration": 7,
    "start_time": "2024-04-10T06:50:07.229Z"
   },
   {
    "duration": 2,
    "start_time": "2024-04-10T06:54:58.863Z"
   },
   {
    "duration": 7,
    "start_time": "2024-04-10T07:03:41.028Z"
   },
   {
    "duration": 32,
    "start_time": "2024-04-10T07:03:50.195Z"
   },
   {
    "duration": 22,
    "start_time": "2024-04-10T07:04:09.457Z"
   },
   {
    "duration": 21,
    "start_time": "2024-04-10T07:07:23.356Z"
   },
   {
    "duration": 5,
    "start_time": "2024-04-10T07:14:10.530Z"
   },
   {
    "duration": 21,
    "start_time": "2024-04-10T07:14:28.547Z"
   },
   {
    "duration": 31,
    "start_time": "2024-04-10T07:14:49.303Z"
   },
   {
    "duration": 676,
    "start_time": "2024-04-10T07:15:00.746Z"
   },
   {
    "duration": 101,
    "start_time": "2024-04-10T07:15:01.424Z"
   },
   {
    "duration": 77,
    "start_time": "2024-04-10T07:15:01.527Z"
   },
   {
    "duration": 32,
    "start_time": "2024-04-10T07:15:01.606Z"
   },
   {
    "duration": 106,
    "start_time": "2024-04-10T07:15:01.640Z"
   },
   {
    "duration": 1903,
    "start_time": "2024-04-10T07:15:01.748Z"
   },
   {
    "duration": 5,
    "start_time": "2024-04-10T07:15:03.653Z"
   },
   {
    "duration": 13,
    "start_time": "2024-04-10T07:15:03.660Z"
   },
   {
    "duration": 5,
    "start_time": "2024-04-10T07:15:03.675Z"
   },
   {
    "duration": 17,
    "start_time": "2024-04-10T07:15:03.681Z"
   },
   {
    "duration": 11,
    "start_time": "2024-04-10T07:15:03.699Z"
   },
   {
    "duration": 7,
    "start_time": "2024-04-10T07:15:03.711Z"
   },
   {
    "duration": 22,
    "start_time": "2024-04-10T07:15:03.719Z"
   },
   {
    "duration": 18,
    "start_time": "2024-04-10T07:15:03.758Z"
   },
   {
    "duration": 30,
    "start_time": "2024-04-10T07:15:03.777Z"
   },
   {
    "duration": 32,
    "start_time": "2024-04-10T07:15:41.853Z"
   },
   {
    "duration": 19,
    "start_time": "2024-04-10T07:18:51.532Z"
   },
   {
    "duration": 31,
    "start_time": "2024-04-10T07:18:56.150Z"
   },
   {
    "duration": 89,
    "start_time": "2024-04-10T07:25:54.752Z"
   },
   {
    "duration": 80,
    "start_time": "2024-04-10T07:35:31.439Z"
   },
   {
    "duration": 16,
    "start_time": "2024-04-10T07:39:29.665Z"
   },
   {
    "duration": 11,
    "start_time": "2024-04-10T07:39:40.181Z"
   },
   {
    "duration": 57,
    "start_time": "2024-04-10T07:39:45.568Z"
   },
   {
    "duration": 6,
    "start_time": "2024-04-10T07:47:12.436Z"
   },
   {
    "duration": 23,
    "start_time": "2024-04-10T07:47:27.730Z"
   },
   {
    "duration": 10,
    "start_time": "2024-04-10T07:47:49.195Z"
   },
   {
    "duration": 4,
    "start_time": "2024-04-10T07:55:27.677Z"
   },
   {
    "duration": 28,
    "start_time": "2024-04-10T07:55:50.971Z"
   },
   {
    "duration": 27,
    "start_time": "2024-04-10T07:57:35.584Z"
   },
   {
    "duration": 38,
    "start_time": "2024-04-10T07:57:50.807Z"
   },
   {
    "duration": 30,
    "start_time": "2024-04-10T08:05:12.317Z"
   },
   {
    "duration": 31,
    "start_time": "2024-04-10T08:08:37.325Z"
   },
   {
    "duration": 9,
    "start_time": "2024-04-10T08:12:00.492Z"
   },
   {
    "duration": 41,
    "start_time": "2024-04-10T08:12:06.195Z"
   },
   {
    "duration": 16,
    "start_time": "2024-04-10T08:12:12.398Z"
   },
   {
    "duration": 40,
    "start_time": "2024-04-10T08:12:54.271Z"
   },
   {
    "duration": 6,
    "start_time": "2024-04-10T08:13:03.473Z"
   },
   {
    "duration": 14,
    "start_time": "2024-04-10T08:13:28.393Z"
   },
   {
    "duration": 630,
    "start_time": "2024-04-10T10:43:52.689Z"
   },
   {
    "duration": 99,
    "start_time": "2024-04-10T10:43:53.321Z"
   },
   {
    "duration": 54,
    "start_time": "2024-04-10T10:43:53.423Z"
   },
   {
    "duration": 14,
    "start_time": "2024-04-10T10:43:53.479Z"
   },
   {
    "duration": 92,
    "start_time": "2024-04-10T10:43:53.495Z"
   },
   {
    "duration": 1834,
    "start_time": "2024-04-10T10:43:53.589Z"
   },
   {
    "duration": 7,
    "start_time": "2024-04-10T10:43:55.425Z"
   },
   {
    "duration": 13,
    "start_time": "2024-04-10T10:43:55.434Z"
   },
   {
    "duration": 9,
    "start_time": "2024-04-10T10:43:55.450Z"
   },
   {
    "duration": 10,
    "start_time": "2024-04-10T10:43:55.460Z"
   },
   {
    "duration": 27,
    "start_time": "2024-04-10T10:43:55.472Z"
   },
   {
    "duration": 13,
    "start_time": "2024-04-10T10:43:55.501Z"
   },
   {
    "duration": 24,
    "start_time": "2024-04-10T10:43:55.516Z"
   },
   {
    "duration": 27,
    "start_time": "2024-04-10T10:43:55.542Z"
   },
   {
    "duration": 43,
    "start_time": "2024-04-10T10:43:55.571Z"
   },
   {
    "duration": 75,
    "start_time": "2024-04-10T10:43:55.615Z"
   },
   {
    "duration": 30,
    "start_time": "2024-04-10T10:43:55.691Z"
   },
   {
    "duration": 17,
    "start_time": "2024-04-10T10:43:55.722Z"
   },
   {
    "duration": 66,
    "start_time": "2024-04-10T10:45:26.286Z"
   },
   {
    "duration": 4,
    "start_time": "2024-04-10T10:56:19.377Z"
   },
   {
    "duration": 37,
    "start_time": "2024-04-10T10:56:22.466Z"
   },
   {
    "duration": 7,
    "start_time": "2024-04-10T10:56:59.544Z"
   },
   {
    "duration": 5,
    "start_time": "2024-04-10T10:57:13.973Z"
   },
   {
    "duration": 38,
    "start_time": "2024-04-10T10:57:17.596Z"
   },
   {
    "duration": 4,
    "start_time": "2024-04-10T10:57:50.321Z"
   },
   {
    "duration": 72,
    "start_time": "2024-04-10T11:14:36.558Z"
   },
   {
    "duration": 5,
    "start_time": "2024-04-10T11:15:21.548Z"
   },
   {
    "duration": 8,
    "start_time": "2024-04-10T11:16:04.408Z"
   },
   {
    "duration": 7,
    "start_time": "2024-04-10T11:16:07.437Z"
   },
   {
    "duration": 10,
    "start_time": "2024-04-10T11:16:11.340Z"
   },
   {
    "duration": 6,
    "start_time": "2024-04-10T11:16:27.113Z"
   },
   {
    "duration": 8,
    "start_time": "2024-04-10T11:17:29.825Z"
   },
   {
    "duration": 10,
    "start_time": "2024-04-10T11:17:52.583Z"
   },
   {
    "duration": 8,
    "start_time": "2024-04-10T11:21:24.487Z"
   },
   {
    "duration": 4,
    "start_time": "2024-04-10T11:24:45.928Z"
   },
   {
    "duration": 3,
    "start_time": "2024-04-10T11:25:27.862Z"
   },
   {
    "duration": 1582,
    "start_time": "2024-04-10T11:26:02.850Z"
   },
   {
    "duration": 3,
    "start_time": "2024-04-10T11:27:15.463Z"
   },
   {
    "duration": 36,
    "start_time": "2024-04-10T11:27:23.161Z"
   },
   {
    "duration": 8,
    "start_time": "2024-04-10T11:27:35.807Z"
   },
   {
    "duration": 9,
    "start_time": "2024-04-10T11:27:41.443Z"
   },
   {
    "duration": 1199,
    "start_time": "2024-04-10T11:28:01.742Z"
   },
   {
    "duration": 305,
    "start_time": "2024-04-10T11:28:08.953Z"
   },
   {
    "duration": 266,
    "start_time": "2024-04-10T11:29:18.896Z"
   },
   {
    "duration": 4,
    "start_time": "2024-04-10T11:30:55.550Z"
   },
   {
    "duration": 7,
    "start_time": "2024-04-10T11:31:20.382Z"
   },
   {
    "duration": 5,
    "start_time": "2024-04-10T11:31:56.263Z"
   },
   {
    "duration": 33,
    "start_time": "2024-04-10T11:32:06.231Z"
   },
   {
    "duration": 22,
    "start_time": "2024-04-10T11:36:16.075Z"
   },
   {
    "duration": 8,
    "start_time": "2024-04-10T15:32:22.283Z"
   },
   {
    "duration": 10,
    "start_time": "2024-04-10T15:32:29.729Z"
   },
   {
    "duration": 207,
    "start_time": "2024-04-10T15:32:56.454Z"
   },
   {
    "duration": 113,
    "start_time": "2024-04-10T15:33:39.892Z"
   },
   {
    "duration": 159,
    "start_time": "2024-04-10T15:33:46.954Z"
   },
   {
    "duration": 156,
    "start_time": "2024-04-10T15:33:54.121Z"
   },
   {
    "duration": 126,
    "start_time": "2024-04-10T15:34:03.916Z"
   },
   {
    "duration": 156,
    "start_time": "2024-04-10T15:34:15.853Z"
   },
   {
    "duration": 128,
    "start_time": "2024-04-10T15:34:25.578Z"
   },
   {
    "duration": 9,
    "start_time": "2024-04-10T15:34:56.409Z"
   },
   {
    "duration": 72,
    "start_time": "2024-04-10T15:35:11.668Z"
   },
   {
    "duration": 161,
    "start_time": "2024-04-10T15:35:47.568Z"
   },
   {
    "duration": 165,
    "start_time": "2024-04-10T15:36:09.345Z"
   },
   {
    "duration": 7,
    "start_time": "2024-04-10T15:37:03.355Z"
   },
   {
    "duration": 6,
    "start_time": "2024-04-10T15:40:40.787Z"
   },
   {
    "duration": 186,
    "start_time": "2024-04-10T15:43:25.556Z"
   },
   {
    "duration": 4,
    "start_time": "2024-04-10T15:43:30.118Z"
   },
   {
    "duration": 4,
    "start_time": "2024-04-10T15:43:32.679Z"
   },
   {
    "duration": 151,
    "start_time": "2024-04-10T15:45:02.647Z"
   },
   {
    "duration": 152,
    "start_time": "2024-04-10T15:45:31.291Z"
   },
   {
    "duration": 477,
    "start_time": "2024-04-10T15:45:46.431Z"
   },
   {
    "duration": 177,
    "start_time": "2024-04-10T15:46:09.373Z"
   },
   {
    "duration": 157,
    "start_time": "2024-04-10T15:47:43.740Z"
   },
   {
    "duration": 185,
    "start_time": "2024-04-10T15:48:41.736Z"
   },
   {
    "duration": 163,
    "start_time": "2024-04-10T15:48:46.746Z"
   },
   {
    "duration": 172,
    "start_time": "2024-04-10T15:48:52.282Z"
   },
   {
    "duration": 175,
    "start_time": "2024-04-10T15:49:07.853Z"
   },
   {
    "duration": 10,
    "start_time": "2024-04-10T15:54:01.521Z"
   },
   {
    "duration": 191,
    "start_time": "2024-04-10T15:58:05.957Z"
   },
   {
    "duration": 9,
    "start_time": "2024-04-10T16:04:00.508Z"
   },
   {
    "duration": 185,
    "start_time": "2024-04-10T16:04:32.089Z"
   },
   {
    "duration": 221,
    "start_time": "2024-04-10T16:04:39.937Z"
   },
   {
    "duration": 510,
    "start_time": "2024-04-10T16:04:50.460Z"
   },
   {
    "duration": 195,
    "start_time": "2024-04-10T16:09:02.041Z"
   },
   {
    "duration": 147,
    "start_time": "2024-04-10T16:09:05.282Z"
   },
   {
    "duration": 182,
    "start_time": "2024-04-10T16:09:08.219Z"
   },
   {
    "duration": 10,
    "start_time": "2024-04-10T16:10:47.410Z"
   },
   {
    "duration": 9,
    "start_time": "2024-04-10T16:10:55.603Z"
   },
   {
    "duration": 9,
    "start_time": "2024-04-10T16:10:58.457Z"
   },
   {
    "duration": 9,
    "start_time": "2024-04-10T16:11:00.805Z"
   },
   {
    "duration": 174,
    "start_time": "2024-04-10T16:11:41.667Z"
   },
   {
    "duration": 9,
    "start_time": "2024-04-10T16:21:57.972Z"
   },
   {
    "duration": 193,
    "start_time": "2024-04-10T16:22:30.775Z"
   },
   {
    "duration": 160,
    "start_time": "2024-04-10T16:22:38.401Z"
   },
   {
    "duration": 176,
    "start_time": "2024-04-10T16:23:01.193Z"
   },
   {
    "duration": 193,
    "start_time": "2024-04-10T16:23:14.819Z"
   },
   {
    "duration": 193,
    "start_time": "2024-04-10T16:23:25.079Z"
   },
   {
    "duration": 173,
    "start_time": "2024-04-10T16:23:46.956Z"
   },
   {
    "duration": 165,
    "start_time": "2024-04-10T16:24:14.610Z"
   },
   {
    "duration": 8,
    "start_time": "2024-04-10T16:29:04.330Z"
   },
   {
    "duration": 5,
    "start_time": "2024-04-10T16:29:07.887Z"
   },
   {
    "duration": 7,
    "start_time": "2024-04-10T16:29:29.889Z"
   },
   {
    "duration": 5,
    "start_time": "2024-04-10T16:29:43.130Z"
   },
   {
    "duration": 176,
    "start_time": "2024-04-10T16:31:24.652Z"
   },
   {
    "duration": 191,
    "start_time": "2024-04-10T16:31:28.524Z"
   },
   {
    "duration": 182,
    "start_time": "2024-04-10T16:33:56.775Z"
   },
   {
    "duration": 183,
    "start_time": "2024-04-10T16:34:07.721Z"
   },
   {
    "duration": 184,
    "start_time": "2024-04-10T16:34:16.536Z"
   },
   {
    "duration": 184,
    "start_time": "2024-04-10T16:34:23.258Z"
   },
   {
    "duration": 5,
    "start_time": "2024-04-10T16:36:03.627Z"
   },
   {
    "duration": 8,
    "start_time": "2024-04-10T16:36:21.883Z"
   },
   {
    "duration": 6,
    "start_time": "2024-04-10T16:40:24.987Z"
   },
   {
    "duration": 9,
    "start_time": "2024-04-10T16:40:43.956Z"
   },
   {
    "duration": 13,
    "start_time": "2024-04-10T16:41:03.057Z"
   },
   {
    "duration": 17,
    "start_time": "2024-04-10T16:41:20.294Z"
   },
   {
    "duration": 73,
    "start_time": "2024-04-10T16:43:22.971Z"
   },
   {
    "duration": 10,
    "start_time": "2024-04-10T16:43:53.981Z"
   },
   {
    "duration": 10,
    "start_time": "2024-04-10T16:43:56.831Z"
   },
   {
    "duration": 10,
    "start_time": "2024-04-10T16:44:33.749Z"
   },
   {
    "duration": 14,
    "start_time": "2024-04-10T16:44:36.037Z"
   },
   {
    "duration": 75,
    "start_time": "2024-04-10T16:48:20.268Z"
   },
   {
    "duration": 10,
    "start_time": "2024-04-10T16:48:39.908Z"
   },
   {
    "duration": 18,
    "start_time": "2024-04-10T16:50:12.037Z"
   },
   {
    "duration": 4,
    "start_time": "2024-04-10T16:50:30.911Z"
   },
   {
    "duration": 5,
    "start_time": "2024-04-10T16:50:49.993Z"
   },
   {
    "duration": 5,
    "start_time": "2024-04-10T16:51:22.249Z"
   },
   {
    "duration": 7,
    "start_time": "2024-04-10T16:51:37.376Z"
   },
   {
    "duration": 662,
    "start_time": "2024-04-10T16:51:44.136Z"
   },
   {
    "duration": 100,
    "start_time": "2024-04-10T16:51:44.800Z"
   },
   {
    "duration": 27,
    "start_time": "2024-04-10T16:51:44.902Z"
   },
   {
    "duration": 15,
    "start_time": "2024-04-10T16:51:44.931Z"
   },
   {
    "duration": 81,
    "start_time": "2024-04-10T16:51:44.947Z"
   },
   {
    "duration": 1969,
    "start_time": "2024-04-10T16:51:45.030Z"
   },
   {
    "duration": 6,
    "start_time": "2024-04-10T16:51:47.001Z"
   },
   {
    "duration": 44,
    "start_time": "2024-04-10T16:51:47.008Z"
   },
   {
    "duration": 5,
    "start_time": "2024-04-10T16:51:47.054Z"
   },
   {
    "duration": 15,
    "start_time": "2024-04-10T16:51:47.062Z"
   },
   {
    "duration": 11,
    "start_time": "2024-04-10T16:51:47.078Z"
   },
   {
    "duration": 7,
    "start_time": "2024-04-10T16:51:47.090Z"
   },
   {
    "duration": 32,
    "start_time": "2024-04-10T16:51:47.098Z"
   },
   {
    "duration": 31,
    "start_time": "2024-04-10T16:51:47.131Z"
   },
   {
    "duration": 32,
    "start_time": "2024-04-10T16:51:47.164Z"
   },
   {
    "duration": 69,
    "start_time": "2024-04-10T16:51:47.197Z"
   },
   {
    "duration": 30,
    "start_time": "2024-04-10T16:51:47.268Z"
   },
   {
    "duration": 10,
    "start_time": "2024-04-10T16:51:47.299Z"
   },
   {
    "duration": 1609,
    "start_time": "2024-04-10T16:51:47.310Z"
   },
   {
    "duration": 0,
    "start_time": "2024-04-10T16:51:48.921Z"
   },
   {
    "duration": 0,
    "start_time": "2024-04-10T16:51:48.923Z"
   },
   {
    "duration": 0,
    "start_time": "2024-04-10T16:51:48.924Z"
   },
   {
    "duration": 0,
    "start_time": "2024-04-10T16:51:48.925Z"
   },
   {
    "duration": 0,
    "start_time": "2024-04-10T16:51:48.926Z"
   },
   {
    "duration": 0,
    "start_time": "2024-04-10T16:51:48.927Z"
   },
   {
    "duration": 0,
    "start_time": "2024-04-10T16:51:48.928Z"
   },
   {
    "duration": 0,
    "start_time": "2024-04-10T16:51:48.929Z"
   },
   {
    "duration": 0,
    "start_time": "2024-04-10T16:51:48.930Z"
   },
   {
    "duration": 0,
    "start_time": "2024-04-10T16:51:48.931Z"
   },
   {
    "duration": 0,
    "start_time": "2024-04-10T16:51:48.932Z"
   },
   {
    "duration": 0,
    "start_time": "2024-04-10T16:51:48.933Z"
   },
   {
    "duration": 0,
    "start_time": "2024-04-10T16:51:48.934Z"
   },
   {
    "duration": 0,
    "start_time": "2024-04-10T16:51:48.935Z"
   },
   {
    "duration": 0,
    "start_time": "2024-04-10T16:51:48.936Z"
   },
   {
    "duration": 0,
    "start_time": "2024-04-10T16:51:48.937Z"
   },
   {
    "duration": 0,
    "start_time": "2024-04-10T16:51:48.938Z"
   },
   {
    "duration": 0,
    "start_time": "2024-04-10T16:51:48.940Z"
   },
   {
    "duration": 0,
    "start_time": "2024-04-10T16:51:48.941Z"
   },
   {
    "duration": 628,
    "start_time": "2024-04-10T16:52:22.425Z"
   },
   {
    "duration": 97,
    "start_time": "2024-04-10T16:52:23.054Z"
   },
   {
    "duration": 28,
    "start_time": "2024-04-10T16:52:23.152Z"
   },
   {
    "duration": 15,
    "start_time": "2024-04-10T16:52:23.182Z"
   },
   {
    "duration": 87,
    "start_time": "2024-04-10T16:52:23.198Z"
   },
   {
    "duration": 1909,
    "start_time": "2024-04-10T16:52:23.286Z"
   },
   {
    "duration": 6,
    "start_time": "2024-04-10T16:52:25.196Z"
   },
   {
    "duration": 15,
    "start_time": "2024-04-10T16:52:25.204Z"
   },
   {
    "duration": 7,
    "start_time": "2024-04-10T16:52:25.220Z"
   },
   {
    "duration": 24,
    "start_time": "2024-04-10T16:52:25.229Z"
   },
   {
    "duration": 23,
    "start_time": "2024-04-10T16:52:25.254Z"
   },
   {
    "duration": 10,
    "start_time": "2024-04-10T16:52:25.279Z"
   },
   {
    "duration": 25,
    "start_time": "2024-04-10T16:52:25.290Z"
   },
   {
    "duration": 17,
    "start_time": "2024-04-10T16:52:25.317Z"
   },
   {
    "duration": 36,
    "start_time": "2024-04-10T16:52:25.336Z"
   },
   {
    "duration": 75,
    "start_time": "2024-04-10T16:52:25.374Z"
   },
   {
    "duration": 35,
    "start_time": "2024-04-10T16:52:25.451Z"
   },
   {
    "duration": 14,
    "start_time": "2024-04-10T16:52:25.488Z"
   },
   {
    "duration": 5,
    "start_time": "2024-04-10T16:52:25.503Z"
   },
   {
    "duration": 21,
    "start_time": "2024-04-10T16:52:25.510Z"
   },
   {
    "duration": 3,
    "start_time": "2024-04-10T16:52:25.533Z"
   },
   {
    "duration": 321,
    "start_time": "2024-04-10T16:52:25.538Z"
   },
   {
    "duration": 5,
    "start_time": "2024-04-10T16:52:25.860Z"
   },
   {
    "duration": 28,
    "start_time": "2024-04-10T16:52:25.866Z"
   },
   {
    "duration": 8,
    "start_time": "2024-04-10T16:52:25.895Z"
   },
   {
    "duration": 203,
    "start_time": "2024-04-10T16:52:25.905Z"
   },
   {
    "duration": 8,
    "start_time": "2024-04-10T16:52:26.110Z"
   },
   {
    "duration": 184,
    "start_time": "2024-04-10T16:52:26.121Z"
   },
   {
    "duration": 9,
    "start_time": "2024-04-10T16:52:26.307Z"
   },
   {
    "duration": 197,
    "start_time": "2024-04-10T16:52:26.317Z"
   },
   {
    "duration": 9,
    "start_time": "2024-04-10T16:52:26.515Z"
   },
   {
    "duration": 260,
    "start_time": "2024-04-10T16:52:26.525Z"
   },
   {
    "duration": 10,
    "start_time": "2024-04-10T16:52:26.786Z"
   },
   {
    "duration": 206,
    "start_time": "2024-04-10T16:52:26.798Z"
   },
   {
    "duration": 5,
    "start_time": "2024-04-10T16:52:27.006Z"
   },
   {
    "duration": 9,
    "start_time": "2024-04-10T16:52:27.013Z"
   },
   {
    "duration": 9,
    "start_time": "2024-04-10T16:52:27.023Z"
   },
   {
    "duration": 203,
    "start_time": "2024-04-10T16:52:27.034Z"
   },
   {
    "duration": 76,
    "start_time": "2024-04-10T16:54:48.140Z"
   },
   {
    "duration": 70,
    "start_time": "2024-04-10T16:55:42.540Z"
   },
   {
    "duration": 9,
    "start_time": "2024-04-10T16:56:26.968Z"
   },
   {
    "duration": 10,
    "start_time": "2024-04-10T16:56:31.591Z"
   },
   {
    "duration": 7,
    "start_time": "2024-04-10T16:56:36.263Z"
   },
   {
    "duration": 179,
    "start_time": "2024-04-10T16:56:40.019Z"
   },
   {
    "duration": 8,
    "start_time": "2024-04-10T16:57:04.219Z"
   },
   {
    "duration": 15,
    "start_time": "2024-04-10T16:57:14.395Z"
   },
   {
    "duration": 13,
    "start_time": "2024-04-10T16:57:34.288Z"
   },
   {
    "duration": 10,
    "start_time": "2024-04-10T17:11:17.233Z"
   },
   {
    "duration": 47,
    "start_time": "2024-04-10T17:12:06.121Z"
   },
   {
    "duration": 683,
    "start_time": "2024-04-10T17:12:22.675Z"
   },
   {
    "duration": 287,
    "start_time": "2024-04-10T17:12:23.360Z"
   },
   {
    "duration": 28,
    "start_time": "2024-04-10T17:12:23.648Z"
   },
   {
    "duration": 14,
    "start_time": "2024-04-10T17:12:23.678Z"
   },
   {
    "duration": 74,
    "start_time": "2024-04-10T17:12:23.693Z"
   },
   {
    "duration": 1894,
    "start_time": "2024-04-10T17:12:23.769Z"
   },
   {
    "duration": 7,
    "start_time": "2024-04-10T17:12:25.665Z"
   },
   {
    "duration": 13,
    "start_time": "2024-04-10T17:12:25.674Z"
   },
   {
    "duration": 7,
    "start_time": "2024-04-10T17:12:25.689Z"
   },
   {
    "duration": 8,
    "start_time": "2024-04-10T17:12:25.699Z"
   },
   {
    "duration": 10,
    "start_time": "2024-04-10T17:12:25.709Z"
   },
   {
    "duration": 11,
    "start_time": "2024-04-10T17:12:25.721Z"
   },
   {
    "duration": 48,
    "start_time": "2024-04-10T17:12:25.733Z"
   },
   {
    "duration": 18,
    "start_time": "2024-04-10T17:12:25.783Z"
   },
   {
    "duration": 32,
    "start_time": "2024-04-10T17:12:25.803Z"
   },
   {
    "duration": 77,
    "start_time": "2024-04-10T17:12:25.836Z"
   },
   {
    "duration": 48,
    "start_time": "2024-04-10T17:12:25.915Z"
   },
   {
    "duration": 11,
    "start_time": "2024-04-10T17:12:25.965Z"
   },
   {
    "duration": 9,
    "start_time": "2024-04-10T17:12:25.977Z"
   },
   {
    "duration": 23,
    "start_time": "2024-04-10T17:12:25.987Z"
   },
   {
    "duration": 3,
    "start_time": "2024-04-10T17:12:26.012Z"
   },
   {
    "duration": 292,
    "start_time": "2024-04-10T17:12:26.016Z"
   },
   {
    "duration": 4,
    "start_time": "2024-04-10T17:12:26.309Z"
   },
   {
    "duration": 23,
    "start_time": "2024-04-10T17:12:26.315Z"
   },
   {
    "duration": 20,
    "start_time": "2024-04-10T17:12:26.339Z"
   },
   {
    "duration": 188,
    "start_time": "2024-04-10T17:12:26.360Z"
   },
   {
    "duration": 16,
    "start_time": "2024-04-10T17:12:26.550Z"
   },
   {
    "duration": 202,
    "start_time": "2024-04-10T17:12:26.570Z"
   },
   {
    "duration": 12,
    "start_time": "2024-04-10T17:12:26.774Z"
   },
   {
    "duration": 184,
    "start_time": "2024-04-10T17:12:26.787Z"
   },
   {
    "duration": 8,
    "start_time": "2024-04-10T17:12:26.973Z"
   },
   {
    "duration": 319,
    "start_time": "2024-04-10T17:12:26.982Z"
   },
   {
    "duration": 9,
    "start_time": "2024-04-10T17:12:27.302Z"
   },
   {
    "duration": 202,
    "start_time": "2024-04-10T17:12:27.312Z"
   },
   {
    "duration": 5,
    "start_time": "2024-04-10T17:12:27.516Z"
   },
   {
    "duration": 10,
    "start_time": "2024-04-10T17:12:27.522Z"
   },
   {
    "duration": 45,
    "start_time": "2024-04-10T17:12:57.109Z"
   },
   {
    "duration": 10,
    "start_time": "2024-04-10T17:13:35.372Z"
   },
   {
    "duration": 694,
    "start_time": "2024-04-10T17:13:40.767Z"
   },
   {
    "duration": 293,
    "start_time": "2024-04-10T17:13:41.463Z"
   },
   {
    "duration": 29,
    "start_time": "2024-04-10T17:13:41.757Z"
   },
   {
    "duration": 15,
    "start_time": "2024-04-10T17:13:41.788Z"
   },
   {
    "duration": 90,
    "start_time": "2024-04-10T17:13:41.806Z"
   },
   {
    "duration": 1945,
    "start_time": "2024-04-10T17:13:41.898Z"
   },
   {
    "duration": 5,
    "start_time": "2024-04-10T17:13:43.845Z"
   },
   {
    "duration": 9,
    "start_time": "2024-04-10T17:13:43.851Z"
   },
   {
    "duration": 7,
    "start_time": "2024-04-10T17:13:43.862Z"
   },
   {
    "duration": 15,
    "start_time": "2024-04-10T17:13:43.871Z"
   },
   {
    "duration": 12,
    "start_time": "2024-04-10T17:13:43.887Z"
   },
   {
    "duration": 6,
    "start_time": "2024-04-10T17:13:43.901Z"
   },
   {
    "duration": 22,
    "start_time": "2024-04-10T17:13:43.908Z"
   },
   {
    "duration": 40,
    "start_time": "2024-04-10T17:13:43.932Z"
   },
   {
    "duration": 36,
    "start_time": "2024-04-10T17:13:43.973Z"
   },
   {
    "duration": 81,
    "start_time": "2024-04-10T17:13:44.010Z"
   },
   {
    "duration": 34,
    "start_time": "2024-04-10T17:13:44.092Z"
   },
   {
    "duration": 9,
    "start_time": "2024-04-10T17:13:44.127Z"
   },
   {
    "duration": 5,
    "start_time": "2024-04-10T17:13:44.158Z"
   },
   {
    "duration": 20,
    "start_time": "2024-04-10T17:13:44.164Z"
   },
   {
    "duration": 3,
    "start_time": "2024-04-10T17:13:44.185Z"
   },
   {
    "duration": 313,
    "start_time": "2024-04-10T17:13:44.190Z"
   },
   {
    "duration": 5,
    "start_time": "2024-04-10T17:13:44.505Z"
   },
   {
    "duration": 23,
    "start_time": "2024-04-10T17:13:44.511Z"
   },
   {
    "duration": 23,
    "start_time": "2024-04-10T17:13:44.536Z"
   },
   {
    "duration": 172,
    "start_time": "2024-04-10T17:13:44.560Z"
   },
   {
    "duration": 8,
    "start_time": "2024-04-10T17:13:44.734Z"
   },
   {
    "duration": 194,
    "start_time": "2024-04-10T17:13:44.744Z"
   },
   {
    "duration": 8,
    "start_time": "2024-04-10T17:13:44.940Z"
   },
   {
    "duration": 197,
    "start_time": "2024-04-10T17:13:44.950Z"
   },
   {
    "duration": 15,
    "start_time": "2024-04-10T17:13:45.149Z"
   },
   {
    "duration": 267,
    "start_time": "2024-04-10T17:13:45.166Z"
   },
   {
    "duration": 8,
    "start_time": "2024-04-10T17:13:45.435Z"
   },
   {
    "duration": 211,
    "start_time": "2024-04-10T17:13:45.445Z"
   },
   {
    "duration": 4,
    "start_time": "2024-04-10T17:13:45.658Z"
   },
   {
    "duration": 19,
    "start_time": "2024-04-10T17:13:45.664Z"
   },
   {
    "duration": 46,
    "start_time": "2024-04-10T17:14:03.100Z"
   },
   {
    "duration": 659,
    "start_time": "2024-04-10T17:14:08.043Z"
   },
   {
    "duration": 283,
    "start_time": "2024-04-10T17:14:08.704Z"
   },
   {
    "duration": 30,
    "start_time": "2024-04-10T17:14:08.989Z"
   },
   {
    "duration": 15,
    "start_time": "2024-04-10T17:14:09.021Z"
   },
   {
    "duration": 77,
    "start_time": "2024-04-10T17:14:09.038Z"
   },
   {
    "duration": 1874,
    "start_time": "2024-04-10T17:14:09.117Z"
   },
   {
    "duration": 5,
    "start_time": "2024-04-10T17:14:10.993Z"
   },
   {
    "duration": 44,
    "start_time": "2024-04-10T17:14:11.000Z"
   },
   {
    "duration": 14,
    "start_time": "2024-04-10T17:14:11.045Z"
   },
   {
    "duration": 35,
    "start_time": "2024-04-10T17:14:11.062Z"
   },
   {
    "duration": 23,
    "start_time": "2024-04-10T17:14:11.098Z"
   },
   {
    "duration": 19,
    "start_time": "2024-04-10T17:14:11.122Z"
   },
   {
    "duration": 45,
    "start_time": "2024-04-10T17:14:11.143Z"
   },
   {
    "duration": 43,
    "start_time": "2024-04-10T17:14:11.190Z"
   },
   {
    "duration": 35,
    "start_time": "2024-04-10T17:14:11.234Z"
   },
   {
    "duration": 58,
    "start_time": "2024-04-10T17:14:11.270Z"
   },
   {
    "duration": 40,
    "start_time": "2024-04-10T17:14:11.329Z"
   },
   {
    "duration": 9,
    "start_time": "2024-04-10T17:14:11.371Z"
   },
   {
    "duration": 36,
    "start_time": "2024-04-10T17:14:11.382Z"
   },
   {
    "duration": 28,
    "start_time": "2024-04-10T17:14:11.420Z"
   },
   {
    "duration": 38,
    "start_time": "2024-04-10T17:14:11.450Z"
   },
   {
    "duration": 319,
    "start_time": "2024-04-10T17:14:11.490Z"
   },
   {
    "duration": 5,
    "start_time": "2024-04-10T17:14:11.811Z"
   },
   {
    "duration": 37,
    "start_time": "2024-04-10T17:14:11.818Z"
   },
   {
    "duration": 43,
    "start_time": "2024-04-10T17:14:11.856Z"
   },
   {
    "duration": 206,
    "start_time": "2024-04-10T17:14:11.900Z"
   },
   {
    "duration": 8,
    "start_time": "2024-04-10T17:14:12.108Z"
   },
   {
    "duration": 195,
    "start_time": "2024-04-10T17:14:12.119Z"
   },
   {
    "duration": 9,
    "start_time": "2024-04-10T17:14:12.315Z"
   },
   {
    "duration": 209,
    "start_time": "2024-04-10T17:14:12.325Z"
   },
   {
    "duration": 8,
    "start_time": "2024-04-10T17:14:12.535Z"
   },
   {
    "duration": 257,
    "start_time": "2024-04-10T17:14:12.545Z"
   },
   {
    "duration": 9,
    "start_time": "2024-04-10T17:14:12.803Z"
   },
   {
    "duration": 206,
    "start_time": "2024-04-10T17:14:12.813Z"
   },
   {
    "duration": 5,
    "start_time": "2024-04-10T17:14:13.020Z"
   },
   {
    "duration": 51,
    "start_time": "2024-04-10T17:14:13.026Z"
   },
   {
    "duration": 5,
    "start_time": "2024-04-10T17:14:13.079Z"
   },
   {
    "duration": 196,
    "start_time": "2024-04-10T17:14:13.085Z"
   },
   {
    "duration": 9,
    "start_time": "2024-04-10T17:19:00.869Z"
   },
   {
    "duration": 110,
    "start_time": "2024-04-10T17:19:46.055Z"
   },
   {
    "duration": 671,
    "start_time": "2024-04-10T17:19:53.140Z"
   },
   {
    "duration": 96,
    "start_time": "2024-04-10T17:19:53.813Z"
   },
   {
    "duration": 31,
    "start_time": "2024-04-10T17:19:53.910Z"
   },
   {
    "duration": 24,
    "start_time": "2024-04-10T17:19:53.943Z"
   },
   {
    "duration": 70,
    "start_time": "2024-04-10T17:19:53.968Z"
   },
   {
    "duration": 1939,
    "start_time": "2024-04-10T17:19:54.040Z"
   },
   {
    "duration": 7,
    "start_time": "2024-04-10T17:19:55.982Z"
   },
   {
    "duration": 38,
    "start_time": "2024-04-10T17:19:55.991Z"
   },
   {
    "duration": 8,
    "start_time": "2024-04-10T17:19:56.031Z"
   },
   {
    "duration": 21,
    "start_time": "2024-04-10T17:19:56.041Z"
   },
   {
    "duration": 22,
    "start_time": "2024-04-10T17:19:56.064Z"
   },
   {
    "duration": 8,
    "start_time": "2024-04-10T17:19:56.087Z"
   },
   {
    "duration": 42,
    "start_time": "2024-04-10T17:19:56.096Z"
   },
   {
    "duration": 30,
    "start_time": "2024-04-10T17:19:56.141Z"
   },
   {
    "duration": 34,
    "start_time": "2024-04-10T17:19:56.173Z"
   },
   {
    "duration": 65,
    "start_time": "2024-04-10T17:19:56.208Z"
   },
   {
    "duration": 31,
    "start_time": "2024-04-10T17:19:56.274Z"
   },
   {
    "duration": 9,
    "start_time": "2024-04-10T17:19:56.306Z"
   },
   {
    "duration": 4,
    "start_time": "2024-04-10T17:19:56.317Z"
   },
   {
    "duration": 37,
    "start_time": "2024-04-10T17:19:56.322Z"
   },
   {
    "duration": 3,
    "start_time": "2024-04-10T17:19:56.360Z"
   },
   {
    "duration": 283,
    "start_time": "2024-04-10T17:19:56.365Z"
   },
   {
    "duration": 4,
    "start_time": "2024-04-10T17:19:56.650Z"
   },
   {
    "duration": 28,
    "start_time": "2024-04-10T17:19:56.656Z"
   },
   {
    "duration": 7,
    "start_time": "2024-04-10T17:19:56.686Z"
   },
   {
    "duration": 176,
    "start_time": "2024-04-10T17:19:56.694Z"
   },
   {
    "duration": 9,
    "start_time": "2024-04-10T17:19:56.872Z"
   },
   {
    "duration": 195,
    "start_time": "2024-04-10T17:19:56.882Z"
   },
   {
    "duration": 9,
    "start_time": "2024-04-10T17:19:57.078Z"
   },
   {
    "duration": 187,
    "start_time": "2024-04-10T17:19:57.088Z"
   },
   {
    "duration": 8,
    "start_time": "2024-04-10T17:19:57.276Z"
   },
   {
    "duration": 300,
    "start_time": "2024-04-10T17:19:57.285Z"
   },
   {
    "duration": 8,
    "start_time": "2024-04-10T17:19:57.587Z"
   },
   {
    "duration": 213,
    "start_time": "2024-04-10T17:19:57.597Z"
   },
   {
    "duration": 8,
    "start_time": "2024-04-10T17:19:57.812Z"
   },
   {
    "duration": 101,
    "start_time": "2024-04-10T17:19:57.822Z"
   },
   {
    "duration": 5,
    "start_time": "2024-04-10T17:19:57.924Z"
   },
   {
    "duration": 199,
    "start_time": "2024-04-10T17:19:57.930Z"
   },
   {
    "duration": 103,
    "start_time": "2024-04-10T17:20:47.446Z"
   },
   {
    "duration": 10,
    "start_time": "2024-04-10T17:21:00.073Z"
   },
   {
    "duration": 104,
    "start_time": "2024-04-10T17:23:50.297Z"
   },
   {
    "duration": 111,
    "start_time": "2024-04-10T17:26:20.504Z"
   },
   {
    "duration": 136,
    "start_time": "2024-04-10T17:26:42.189Z"
   },
   {
    "duration": 128,
    "start_time": "2024-04-10T17:26:53.263Z"
   },
   {
    "duration": 127,
    "start_time": "2024-04-10T17:27:01.173Z"
   },
   {
    "duration": 127,
    "start_time": "2024-04-10T17:27:21.337Z"
   },
   {
    "duration": 150,
    "start_time": "2024-04-10T17:28:42.041Z"
   },
   {
    "duration": 215,
    "start_time": "2024-04-10T17:28:46.695Z"
   },
   {
    "duration": 131,
    "start_time": "2024-04-10T17:28:52.360Z"
   },
   {
    "duration": 110,
    "start_time": "2024-04-10T17:29:01.647Z"
   },
   {
    "duration": 135,
    "start_time": "2024-04-10T17:29:19.578Z"
   },
   {
    "duration": 178,
    "start_time": "2024-04-10T17:32:03.557Z"
   },
   {
    "duration": 179,
    "start_time": "2024-04-10T17:32:32.160Z"
   },
   {
    "duration": 173,
    "start_time": "2024-04-10T17:32:51.618Z"
   },
   {
    "duration": 149,
    "start_time": "2024-04-10T17:33:14.822Z"
   },
   {
    "duration": 6,
    "start_time": "2024-04-10T17:34:07.450Z"
   },
   {
    "duration": 4,
    "start_time": "2024-04-10T17:34:39.440Z"
   },
   {
    "duration": 49,
    "start_time": "2024-04-10T17:34:42.152Z"
   },
   {
    "duration": 65,
    "start_time": "2024-04-10T17:34:58.897Z"
   },
   {
    "duration": 71,
    "start_time": "2024-04-10T17:35:15.270Z"
   },
   {
    "duration": 7,
    "start_time": "2024-04-10T17:35:27.212Z"
   },
   {
    "duration": 5,
    "start_time": "2024-04-10T17:35:33.725Z"
   },
   {
    "duration": 9,
    "start_time": "2024-04-10T17:39:16.966Z"
   },
   {
    "duration": 8,
    "start_time": "2024-04-10T17:39:48.976Z"
   },
   {
    "duration": 6,
    "start_time": "2024-04-10T17:41:55.438Z"
   },
   {
    "duration": 124,
    "start_time": "2024-04-10T17:42:19.269Z"
   },
   {
    "duration": 14,
    "start_time": "2024-04-10T17:44:44.162Z"
   },
   {
    "duration": 8,
    "start_time": "2024-04-10T17:45:09.692Z"
   },
   {
    "duration": 171,
    "start_time": "2024-04-10T17:46:06.989Z"
   },
   {
    "duration": 189,
    "start_time": "2024-04-10T17:46:20.204Z"
   },
   {
    "duration": 256,
    "start_time": "2024-04-10T17:46:31.699Z"
   },
   {
    "duration": 190,
    "start_time": "2024-04-10T17:46:41.532Z"
   },
   {
    "duration": 171,
    "start_time": "2024-04-10T17:46:54.550Z"
   },
   {
    "duration": 49,
    "start_time": "2024-04-11T06:56:21.643Z"
   },
   {
    "duration": 9,
    "start_time": "2024-04-11T06:56:24.779Z"
   },
   {
    "duration": 6,
    "start_time": "2024-04-11T06:56:55.228Z"
   },
   {
    "duration": 921,
    "start_time": "2024-04-11T06:57:00.419Z"
   },
   {
    "duration": 295,
    "start_time": "2024-04-11T06:57:01.342Z"
   },
   {
    "duration": 189,
    "start_time": "2024-04-11T06:57:01.639Z"
   },
   {
    "duration": 331,
    "start_time": "2024-04-11T06:57:01.830Z"
   },
   {
    "duration": 87,
    "start_time": "2024-04-11T06:57:02.165Z"
   },
   {
    "duration": 2150,
    "start_time": "2024-04-11T06:57:02.254Z"
   },
   {
    "duration": 7,
    "start_time": "2024-04-11T06:57:04.406Z"
   },
   {
    "duration": 22,
    "start_time": "2024-04-11T06:57:04.414Z"
   },
   {
    "duration": 19,
    "start_time": "2024-04-11T06:57:04.438Z"
   },
   {
    "duration": 38,
    "start_time": "2024-04-11T06:57:04.459Z"
   },
   {
    "duration": 21,
    "start_time": "2024-04-11T06:57:04.498Z"
   },
   {
    "duration": 43,
    "start_time": "2024-04-11T06:57:04.521Z"
   },
   {
    "duration": 55,
    "start_time": "2024-04-11T06:57:04.566Z"
   },
   {
    "duration": 35,
    "start_time": "2024-04-11T06:57:04.625Z"
   },
   {
    "duration": 78,
    "start_time": "2024-04-11T06:57:04.662Z"
   },
   {
    "duration": 76,
    "start_time": "2024-04-11T06:57:04.742Z"
   },
   {
    "duration": 34,
    "start_time": "2024-04-11T06:57:04.820Z"
   },
   {
    "duration": 11,
    "start_time": "2024-04-11T06:57:04.856Z"
   },
   {
    "duration": 27,
    "start_time": "2024-04-11T06:57:04.868Z"
   },
   {
    "duration": 32,
    "start_time": "2024-04-11T06:57:04.897Z"
   },
   {
    "duration": 18,
    "start_time": "2024-04-11T06:57:04.931Z"
   },
   {
    "duration": 326,
    "start_time": "2024-04-11T06:57:04.951Z"
   },
   {
    "duration": 4,
    "start_time": "2024-04-11T06:57:05.279Z"
   },
   {
    "duration": 108,
    "start_time": "2024-04-11T06:57:05.292Z"
   },
   {
    "duration": 34,
    "start_time": "2024-04-11T06:57:05.401Z"
   },
   {
    "duration": 191,
    "start_time": "2024-04-11T06:57:05.437Z"
   },
   {
    "duration": 9,
    "start_time": "2024-04-11T06:57:05.630Z"
   },
   {
    "duration": 219,
    "start_time": "2024-04-11T06:57:05.641Z"
   },
   {
    "duration": 10,
    "start_time": "2024-04-11T06:57:05.862Z"
   },
   {
    "duration": 221,
    "start_time": "2024-04-11T06:57:05.873Z"
   },
   {
    "duration": 10,
    "start_time": "2024-04-11T06:57:06.096Z"
   },
   {
    "duration": 298,
    "start_time": "2024-04-11T06:57:06.107Z"
   },
   {
    "duration": 10,
    "start_time": "2024-04-11T06:57:06.407Z"
   },
   {
    "duration": 213,
    "start_time": "2024-04-11T06:57:06.419Z"
   },
   {
    "duration": 10,
    "start_time": "2024-04-11T06:57:06.633Z"
   },
   {
    "duration": 128,
    "start_time": "2024-04-11T06:57:06.645Z"
   },
   {
    "duration": 16,
    "start_time": "2024-04-11T06:57:06.775Z"
   },
   {
    "duration": 11,
    "start_time": "2024-04-11T06:57:06.793Z"
   },
   {
    "duration": 208,
    "start_time": "2024-04-11T06:57:06.806Z"
   },
   {
    "duration": 8,
    "start_time": "2024-04-11T06:57:07.016Z"
   },
   {
    "duration": 173,
    "start_time": "2024-04-11T06:57:07.029Z"
   },
   {
    "duration": 9,
    "start_time": "2024-04-11T06:57:07.203Z"
   },
   {
    "duration": 181,
    "start_time": "2024-04-11T06:57:07.214Z"
   },
   {
    "duration": 9,
    "start_time": "2024-04-11T06:57:07.396Z"
   },
   {
    "duration": 244,
    "start_time": "2024-04-11T06:57:07.407Z"
   },
   {
    "duration": 23,
    "start_time": "2024-04-11T06:57:07.653Z"
   },
   {
    "duration": 4,
    "start_time": "2024-04-11T06:57:42.645Z"
   },
   {
    "duration": 1620,
    "start_time": "2024-04-11T07:00:09.565Z"
   },
   {
    "duration": 10,
    "start_time": "2024-04-11T07:00:19.175Z"
   },
   {
    "duration": 784,
    "start_time": "2024-04-11T07:05:08.971Z"
   },
   {
    "duration": 893,
    "start_time": "2024-04-11T07:07:16.254Z"
   },
   {
    "duration": 762,
    "start_time": "2024-04-11T07:07:26.375Z"
   },
   {
    "duration": 1393,
    "start_time": "2024-04-11T07:08:18.306Z"
   },
   {
    "duration": 11,
    "start_time": "2024-04-11T07:12:50.480Z"
   },
   {
    "duration": 9,
    "start_time": "2024-04-11T07:12:54.503Z"
   },
   {
    "duration": 8,
    "start_time": "2024-04-11T07:13:05.791Z"
   },
   {
    "duration": 201,
    "start_time": "2024-04-11T07:22:04.070Z"
   },
   {
    "duration": 11,
    "start_time": "2024-04-11T07:28:26.811Z"
   },
   {
    "duration": 10,
    "start_time": "2024-04-11T07:31:46.977Z"
   },
   {
    "duration": 172,
    "start_time": "2024-04-11T07:34:16.950Z"
   },
   {
    "duration": 184,
    "start_time": "2024-04-11T07:34:22.123Z"
   },
   {
    "duration": 177,
    "start_time": "2024-04-11T07:34:53.769Z"
   },
   {
    "duration": 184,
    "start_time": "2024-04-11T07:35:09.906Z"
   },
   {
    "duration": 205,
    "start_time": "2024-04-11T07:35:15.499Z"
   },
   {
    "duration": 190,
    "start_time": "2024-04-11T07:35:29.686Z"
   },
   {
    "duration": 171,
    "start_time": "2024-04-11T07:35:42.129Z"
   },
   {
    "duration": 197,
    "start_time": "2024-04-11T07:36:26.041Z"
   },
   {
    "duration": 24,
    "start_time": "2024-04-11T07:47:50.042Z"
   },
   {
    "duration": 87,
    "start_time": "2024-04-11T07:48:56.064Z"
   },
   {
    "duration": 18,
    "start_time": "2024-04-11T07:49:03.584Z"
   },
   {
    "duration": 23,
    "start_time": "2024-04-11T07:50:06.699Z"
   },
   {
    "duration": 232,
    "start_time": "2024-04-11T07:50:38.537Z"
   },
   {
    "duration": 16,
    "start_time": "2024-04-11T07:51:07.867Z"
   },
   {
    "duration": 431,
    "start_time": "2024-04-11T07:51:23.562Z"
   },
   {
    "duration": 2076,
    "start_time": "2024-04-11T08:01:28.266Z"
   },
   {
    "duration": 198,
    "start_time": "2024-04-11T08:01:46.102Z"
   },
   {
    "duration": 200,
    "start_time": "2024-04-11T08:01:57.129Z"
   },
   {
    "duration": 9,
    "start_time": "2024-04-11T08:03:11.102Z"
   },
   {
    "duration": 8,
    "start_time": "2024-04-11T08:03:17.952Z"
   },
   {
    "duration": 645,
    "start_time": "2024-04-11T08:05:49.847Z"
   },
   {
    "duration": 105,
    "start_time": "2024-04-11T08:05:50.495Z"
   },
   {
    "duration": 32,
    "start_time": "2024-04-11T08:05:50.601Z"
   },
   {
    "duration": 23,
    "start_time": "2024-04-11T08:05:50.635Z"
   },
   {
    "duration": 94,
    "start_time": "2024-04-11T08:05:50.660Z"
   },
   {
    "duration": 2134,
    "start_time": "2024-04-11T08:05:50.756Z"
   },
   {
    "duration": 5,
    "start_time": "2024-04-11T08:05:52.892Z"
   },
   {
    "duration": 15,
    "start_time": "2024-04-11T08:05:52.899Z"
   },
   {
    "duration": 18,
    "start_time": "2024-04-11T08:05:52.915Z"
   },
   {
    "duration": 31,
    "start_time": "2024-04-11T08:05:52.936Z"
   },
   {
    "duration": 14,
    "start_time": "2024-04-11T08:05:52.968Z"
   },
   {
    "duration": 6,
    "start_time": "2024-04-11T08:05:52.984Z"
   },
   {
    "duration": 24,
    "start_time": "2024-04-11T08:05:52.992Z"
   },
   {
    "duration": 21,
    "start_time": "2024-04-11T08:05:53.017Z"
   },
   {
    "duration": 53,
    "start_time": "2024-04-11T08:05:53.039Z"
   },
   {
    "duration": 66,
    "start_time": "2024-04-11T08:05:53.094Z"
   },
   {
    "duration": 58,
    "start_time": "2024-04-11T08:05:53.162Z"
   },
   {
    "duration": 11,
    "start_time": "2024-04-11T08:05:53.221Z"
   },
   {
    "duration": 5,
    "start_time": "2024-04-11T08:05:53.234Z"
   },
   {
    "duration": 21,
    "start_time": "2024-04-11T08:05:53.240Z"
   },
   {
    "duration": 4,
    "start_time": "2024-04-11T08:05:53.262Z"
   },
   {
    "duration": 313,
    "start_time": "2024-04-11T08:05:53.267Z"
   },
   {
    "duration": 5,
    "start_time": "2024-04-11T08:05:53.582Z"
   },
   {
    "duration": 27,
    "start_time": "2024-04-11T08:05:53.591Z"
   },
   {
    "duration": 9,
    "start_time": "2024-04-11T08:05:53.620Z"
   },
   {
    "duration": 219,
    "start_time": "2024-04-11T08:05:53.630Z"
   },
   {
    "duration": 8,
    "start_time": "2024-04-11T08:05:53.851Z"
   },
   {
    "duration": 240,
    "start_time": "2024-04-11T08:05:53.863Z"
   },
   {
    "duration": 10,
    "start_time": "2024-04-11T08:05:54.104Z"
   },
   {
    "duration": 223,
    "start_time": "2024-04-11T08:05:54.116Z"
   },
   {
    "duration": 8,
    "start_time": "2024-04-11T08:05:54.341Z"
   },
   {
    "duration": 290,
    "start_time": "2024-04-11T08:05:54.350Z"
   },
   {
    "duration": 54,
    "start_time": "2024-04-11T08:05:54.642Z"
   },
   {
    "duration": 276,
    "start_time": "2024-04-11T08:05:54.697Z"
   },
   {
    "duration": 23,
    "start_time": "2024-04-11T08:05:54.974Z"
   },
   {
    "duration": 123,
    "start_time": "2024-04-11T08:05:54.998Z"
   },
   {
    "duration": 5,
    "start_time": "2024-04-11T08:05:55.123Z"
   },
   {
    "duration": 13,
    "start_time": "2024-04-11T08:05:55.129Z"
   },
   {
    "duration": 204,
    "start_time": "2024-04-11T08:05:55.143Z"
   },
   {
    "duration": 7,
    "start_time": "2024-04-11T08:05:55.349Z"
   },
   {
    "duration": 164,
    "start_time": "2024-04-11T08:05:55.358Z"
   },
   {
    "duration": 10,
    "start_time": "2024-04-11T08:05:55.524Z"
   },
   {
    "duration": 184,
    "start_time": "2024-04-11T08:05:55.535Z"
   },
   {
    "duration": 10,
    "start_time": "2024-04-11T08:05:55.720Z"
   },
   {
    "duration": 189,
    "start_time": "2024-04-11T08:05:55.731Z"
   },
   {
    "duration": 10,
    "start_time": "2024-04-11T08:05:55.922Z"
   },
   {
    "duration": 18,
    "start_time": "2024-04-11T08:05:55.934Z"
   },
   {
    "duration": 216,
    "start_time": "2024-04-11T08:05:55.953Z"
   },
   {
    "duration": 175,
    "start_time": "2024-04-11T08:05:56.170Z"
   },
   {
    "duration": 74,
    "start_time": "2024-04-11T08:05:56.347Z"
   },
   {
    "duration": 221,
    "start_time": "2024-04-11T08:06:11.881Z"
   },
   {
    "duration": 200,
    "start_time": "2024-04-11T08:06:25.456Z"
   },
   {
    "duration": 304,
    "start_time": "2024-04-11T08:06:29.677Z"
   },
   {
    "duration": 201,
    "start_time": "2024-04-11T08:06:51.667Z"
   },
   {
    "duration": 193,
    "start_time": "2024-04-11T08:07:16.021Z"
   },
   {
    "duration": 202,
    "start_time": "2024-04-11T08:07:22.033Z"
   },
   {
    "duration": 204,
    "start_time": "2024-04-11T08:07:29.205Z"
   },
   {
    "duration": 199,
    "start_time": "2024-04-11T08:07:44.145Z"
   },
   {
    "duration": 217,
    "start_time": "2024-04-11T08:09:00.864Z"
   },
   {
    "duration": 242,
    "start_time": "2024-04-11T08:09:11.051Z"
   },
   {
    "duration": 212,
    "start_time": "2024-04-11T08:10:43.264Z"
   },
   {
    "duration": 209,
    "start_time": "2024-04-11T08:12:17.656Z"
   },
   {
    "duration": 71,
    "start_time": "2024-04-11T08:12:55.600Z"
   },
   {
    "duration": 194,
    "start_time": "2024-04-11T08:13:26.643Z"
   },
   {
    "duration": 212,
    "start_time": "2024-04-11T08:13:32.812Z"
   },
   {
    "duration": 192,
    "start_time": "2024-04-11T08:15:29.459Z"
   },
   {
    "duration": 205,
    "start_time": "2024-04-11T08:15:36.090Z"
   },
   {
    "duration": 192,
    "start_time": "2024-04-11T08:18:02.260Z"
   },
   {
    "duration": 187,
    "start_time": "2024-04-11T08:18:06.512Z"
   },
   {
    "duration": 197,
    "start_time": "2024-04-11T08:18:13.205Z"
   },
   {
    "duration": 18,
    "start_time": "2024-04-11T08:22:15.433Z"
   },
   {
    "duration": 128,
    "start_time": "2024-04-11T08:22:34.661Z"
   },
   {
    "duration": 158,
    "start_time": "2024-04-11T08:23:13.202Z"
   },
   {
    "duration": 83,
    "start_time": "2024-04-11T08:24:08.048Z"
   },
   {
    "duration": 643,
    "start_time": "2024-04-11T08:26:40.945Z"
   },
   {
    "duration": 102,
    "start_time": "2024-04-11T08:26:41.590Z"
   },
   {
    "duration": 30,
    "start_time": "2024-04-11T08:26:41.693Z"
   },
   {
    "duration": 17,
    "start_time": "2024-04-11T08:26:41.725Z"
   },
   {
    "duration": 98,
    "start_time": "2024-04-11T08:26:41.744Z"
   },
   {
    "duration": 2144,
    "start_time": "2024-04-11T08:26:41.843Z"
   },
   {
    "duration": 6,
    "start_time": "2024-04-11T08:26:43.988Z"
   },
   {
    "duration": 30,
    "start_time": "2024-04-11T08:26:43.996Z"
   },
   {
    "duration": 6,
    "start_time": "2024-04-11T08:26:44.028Z"
   },
   {
    "duration": 27,
    "start_time": "2024-04-11T08:26:44.036Z"
   },
   {
    "duration": 12,
    "start_time": "2024-04-11T08:26:44.065Z"
   },
   {
    "duration": 7,
    "start_time": "2024-04-11T08:26:44.079Z"
   },
   {
    "duration": 25,
    "start_time": "2024-04-11T08:26:44.087Z"
   },
   {
    "duration": 20,
    "start_time": "2024-04-11T08:26:44.116Z"
   },
   {
    "duration": 59,
    "start_time": "2024-04-11T08:26:44.139Z"
   },
   {
    "duration": 65,
    "start_time": "2024-04-11T08:26:44.200Z"
   },
   {
    "duration": 52,
    "start_time": "2024-04-11T08:26:44.267Z"
   },
   {
    "duration": 11,
    "start_time": "2024-04-11T08:26:44.321Z"
   },
   {
    "duration": 35,
    "start_time": "2024-04-11T08:26:44.333Z"
   },
   {
    "duration": 21,
    "start_time": "2024-04-11T08:26:44.370Z"
   },
   {
    "duration": 3,
    "start_time": "2024-04-11T08:26:44.392Z"
   },
   {
    "duration": 317,
    "start_time": "2024-04-11T08:26:44.397Z"
   },
   {
    "duration": 5,
    "start_time": "2024-04-11T08:26:44.716Z"
   },
   {
    "duration": 39,
    "start_time": "2024-04-11T08:26:44.722Z"
   },
   {
    "duration": 22,
    "start_time": "2024-04-11T08:26:44.763Z"
   },
   {
    "duration": 221,
    "start_time": "2024-04-11T08:26:44.786Z"
   },
   {
    "duration": 10,
    "start_time": "2024-04-11T08:26:45.009Z"
   },
   {
    "duration": 235,
    "start_time": "2024-04-11T08:26:45.020Z"
   },
   {
    "duration": 10,
    "start_time": "2024-04-11T08:26:45.257Z"
   },
   {
    "duration": 367,
    "start_time": "2024-04-11T08:26:45.269Z"
   },
   {
    "duration": 9,
    "start_time": "2024-04-11T08:26:45.638Z"
   },
   {
    "duration": 284,
    "start_time": "2024-04-11T08:26:45.648Z"
   },
   {
    "duration": 9,
    "start_time": "2024-04-11T08:26:45.934Z"
   },
   {
    "duration": 234,
    "start_time": "2024-04-11T08:26:45.945Z"
   },
   {
    "duration": 15,
    "start_time": "2024-04-11T08:26:46.180Z"
   },
   {
    "duration": 137,
    "start_time": "2024-04-11T08:26:46.196Z"
   },
   {
    "duration": 5,
    "start_time": "2024-04-11T08:26:46.334Z"
   },
   {
    "duration": 13,
    "start_time": "2024-04-11T08:26:46.341Z"
   },
   {
    "duration": 226,
    "start_time": "2024-04-11T08:26:46.355Z"
   },
   {
    "duration": 8,
    "start_time": "2024-04-11T08:26:46.583Z"
   },
   {
    "duration": 153,
    "start_time": "2024-04-11T08:26:46.595Z"
   },
   {
    "duration": 11,
    "start_time": "2024-04-11T08:26:46.750Z"
   },
   {
    "duration": 192,
    "start_time": "2024-04-11T08:26:46.763Z"
   },
   {
    "duration": 10,
    "start_time": "2024-04-11T08:26:46.957Z"
   },
   {
    "duration": 191,
    "start_time": "2024-04-11T08:26:46.969Z"
   },
   {
    "duration": 9,
    "start_time": "2024-04-11T08:26:47.162Z"
   },
   {
    "duration": 22,
    "start_time": "2024-04-11T08:26:47.173Z"
   },
   {
    "duration": 191,
    "start_time": "2024-04-11T08:26:47.197Z"
   },
   {
    "duration": 174,
    "start_time": "2024-04-11T08:26:47.392Z"
   },
   {
    "duration": 241,
    "start_time": "2024-04-11T08:26:47.567Z"
   },
   {
    "duration": 239,
    "start_time": "2024-04-11T08:26:47.809Z"
   },
   {
    "duration": 312,
    "start_time": "2024-04-11T08:26:48.050Z"
   },
   {
    "duration": 197,
    "start_time": "2024-04-11T08:26:48.364Z"
   },
   {
    "duration": 197,
    "start_time": "2024-04-11T08:26:48.563Z"
   },
   {
    "duration": 49,
    "start_time": "2024-04-11T08:26:48.762Z"
   },
   {
    "duration": 550,
    "start_time": "2024-04-11T08:27:31.601Z"
   },
   {
    "duration": 573,
    "start_time": "2024-04-11T08:27:47.336Z"
   },
   {
    "duration": 590,
    "start_time": "2024-04-11T08:27:53.424Z"
   },
   {
    "duration": 616,
    "start_time": "2024-04-11T08:27:59.666Z"
   },
   {
    "duration": 701,
    "start_time": "2024-04-11T08:30:11.032Z"
   },
   {
    "duration": 115,
    "start_time": "2024-04-11T08:30:11.735Z"
   },
   {
    "duration": 42,
    "start_time": "2024-04-11T08:30:11.851Z"
   },
   {
    "duration": 38,
    "start_time": "2024-04-11T08:30:11.895Z"
   },
   {
    "duration": 137,
    "start_time": "2024-04-11T08:30:11.935Z"
   },
   {
    "duration": 2082,
    "start_time": "2024-04-11T08:30:12.074Z"
   },
   {
    "duration": 6,
    "start_time": "2024-04-11T08:30:14.157Z"
   },
   {
    "duration": 43,
    "start_time": "2024-04-11T08:30:14.165Z"
   },
   {
    "duration": 35,
    "start_time": "2024-04-11T08:30:14.210Z"
   },
   {
    "duration": 41,
    "start_time": "2024-04-11T08:30:14.248Z"
   },
   {
    "duration": 21,
    "start_time": "2024-04-11T08:30:14.291Z"
   },
   {
    "duration": 26,
    "start_time": "2024-04-11T08:30:14.313Z"
   },
   {
    "duration": 45,
    "start_time": "2024-04-11T08:30:14.340Z"
   },
   {
    "duration": 35,
    "start_time": "2024-04-11T08:30:14.386Z"
   },
   {
    "duration": 45,
    "start_time": "2024-04-11T08:30:14.423Z"
   },
   {
    "duration": 69,
    "start_time": "2024-04-11T08:30:14.469Z"
   },
   {
    "duration": 34,
    "start_time": "2024-04-11T08:30:14.540Z"
   },
   {
    "duration": 20,
    "start_time": "2024-04-11T08:30:14.575Z"
   },
   {
    "duration": 9,
    "start_time": "2024-04-11T08:30:14.597Z"
   },
   {
    "duration": 38,
    "start_time": "2024-04-11T08:30:14.607Z"
   },
   {
    "duration": 22,
    "start_time": "2024-04-11T08:30:14.646Z"
   },
   {
    "duration": 349,
    "start_time": "2024-04-11T08:30:14.669Z"
   },
   {
    "duration": 4,
    "start_time": "2024-04-11T08:30:15.020Z"
   },
   {
    "duration": 101,
    "start_time": "2024-04-11T08:30:15.026Z"
   },
   {
    "duration": 191,
    "start_time": "2024-04-11T08:30:15.129Z"
   },
   {
    "duration": 235,
    "start_time": "2024-04-11T08:30:15.322Z"
   },
   {
    "duration": 9,
    "start_time": "2024-04-11T08:30:15.559Z"
   },
   {
    "duration": 217,
    "start_time": "2024-04-11T08:30:15.573Z"
   },
   {
    "duration": 11,
    "start_time": "2024-04-11T08:30:15.792Z"
   },
   {
    "duration": 215,
    "start_time": "2024-04-11T08:30:15.805Z"
   },
   {
    "duration": 11,
    "start_time": "2024-04-11T08:30:16.022Z"
   },
   {
    "duration": 298,
    "start_time": "2024-04-11T08:30:16.035Z"
   },
   {
    "duration": 8,
    "start_time": "2024-04-11T08:30:16.335Z"
   },
   {
    "duration": 210,
    "start_time": "2024-04-11T08:30:16.345Z"
   },
   {
    "duration": 9,
    "start_time": "2024-04-11T08:30:16.557Z"
   },
   {
    "duration": 138,
    "start_time": "2024-04-11T08:30:16.568Z"
   },
   {
    "duration": 5,
    "start_time": "2024-04-11T08:30:16.707Z"
   },
   {
    "duration": 18,
    "start_time": "2024-04-11T08:30:16.714Z"
   },
   {
    "duration": 212,
    "start_time": "2024-04-11T08:30:16.733Z"
   },
   {
    "duration": 8,
    "start_time": "2024-04-11T08:30:16.947Z"
   },
   {
    "duration": 161,
    "start_time": "2024-04-11T08:30:16.957Z"
   },
   {
    "duration": 9,
    "start_time": "2024-04-11T08:30:17.120Z"
   },
   {
    "duration": 185,
    "start_time": "2024-04-11T08:30:17.131Z"
   },
   {
    "duration": 10,
    "start_time": "2024-04-11T08:30:17.318Z"
   },
   {
    "duration": 194,
    "start_time": "2024-04-11T08:30:17.329Z"
   },
   {
    "duration": 10,
    "start_time": "2024-04-11T08:30:17.525Z"
   },
   {
    "duration": 11,
    "start_time": "2024-04-11T08:30:17.537Z"
   },
   {
    "duration": 214,
    "start_time": "2024-04-11T08:30:17.550Z"
   },
   {
    "duration": 193,
    "start_time": "2024-04-11T08:30:17.765Z"
   },
   {
    "duration": 245,
    "start_time": "2024-04-11T08:30:17.960Z"
   },
   {
    "duration": 228,
    "start_time": "2024-04-11T08:30:18.207Z"
   },
   {
    "duration": 312,
    "start_time": "2024-04-11T08:30:18.437Z"
   },
   {
    "duration": 211,
    "start_time": "2024-04-11T08:30:18.751Z"
   },
   {
    "duration": 95,
    "start_time": "2024-04-11T08:30:18.964Z"
   },
   {
    "duration": 0,
    "start_time": "2024-04-11T08:30:19.061Z"
   },
   {
    "duration": 0,
    "start_time": "2024-04-11T08:30:19.063Z"
   },
   {
    "duration": 24,
    "start_time": "2024-04-11T08:30:58.728Z"
   },
   {
    "duration": 730,
    "start_time": "2024-04-11T08:31:14.590Z"
   },
   {
    "duration": 107,
    "start_time": "2024-04-11T08:31:15.322Z"
   },
   {
    "duration": 30,
    "start_time": "2024-04-11T08:31:15.430Z"
   },
   {
    "duration": 27,
    "start_time": "2024-04-11T08:31:15.462Z"
   },
   {
    "duration": 109,
    "start_time": "2024-04-11T08:31:15.491Z"
   },
   {
    "duration": 2107,
    "start_time": "2024-04-11T08:31:15.601Z"
   },
   {
    "duration": 6,
    "start_time": "2024-04-11T08:31:17.710Z"
   },
   {
    "duration": 27,
    "start_time": "2024-04-11T08:31:17.718Z"
   },
   {
    "duration": 9,
    "start_time": "2024-04-11T08:31:17.747Z"
   },
   {
    "duration": 9,
    "start_time": "2024-04-11T08:31:17.759Z"
   },
   {
    "duration": 17,
    "start_time": "2024-04-11T08:31:17.769Z"
   },
   {
    "duration": 9,
    "start_time": "2024-04-11T08:31:17.788Z"
   },
   {
    "duration": 25,
    "start_time": "2024-04-11T08:31:17.799Z"
   },
   {
    "duration": 22,
    "start_time": "2024-04-11T08:31:17.826Z"
   },
   {
    "duration": 55,
    "start_time": "2024-04-11T08:31:17.850Z"
   },
   {
    "duration": 86,
    "start_time": "2024-04-11T08:31:17.907Z"
   },
   {
    "duration": 37,
    "start_time": "2024-04-11T08:31:17.995Z"
   },
   {
    "duration": 11,
    "start_time": "2024-04-11T08:31:18.034Z"
   },
   {
    "duration": 12,
    "start_time": "2024-04-11T08:31:18.046Z"
   },
   {
    "duration": 33,
    "start_time": "2024-04-11T08:31:18.060Z"
   },
   {
    "duration": 3,
    "start_time": "2024-04-11T08:31:18.095Z"
   },
   {
    "duration": 325,
    "start_time": "2024-04-11T08:31:18.100Z"
   },
   {
    "duration": 5,
    "start_time": "2024-04-11T08:31:18.426Z"
   },
   {
    "duration": 25,
    "start_time": "2024-04-11T08:31:18.432Z"
   },
   {
    "duration": 8,
    "start_time": "2024-04-11T08:31:18.459Z"
   },
   {
    "duration": 211,
    "start_time": "2024-04-11T08:31:18.469Z"
   },
   {
    "duration": 15,
    "start_time": "2024-04-11T08:31:18.681Z"
   },
   {
    "duration": 208,
    "start_time": "2024-04-11T08:31:18.699Z"
   },
   {
    "duration": 10,
    "start_time": "2024-04-11T08:31:18.909Z"
   },
   {
    "duration": 218,
    "start_time": "2024-04-11T08:31:18.920Z"
   },
   {
    "duration": 9,
    "start_time": "2024-04-11T08:31:19.140Z"
   },
   {
    "duration": 316,
    "start_time": "2024-04-11T08:31:19.151Z"
   },
   {
    "duration": 9,
    "start_time": "2024-04-11T08:31:19.468Z"
   },
   {
    "duration": 200,
    "start_time": "2024-04-11T08:31:19.479Z"
   },
   {
    "duration": 14,
    "start_time": "2024-04-11T08:31:19.681Z"
   },
   {
    "duration": 157,
    "start_time": "2024-04-11T08:31:19.697Z"
   },
   {
    "duration": 6,
    "start_time": "2024-04-11T08:31:19.856Z"
   },
   {
    "duration": 14,
    "start_time": "2024-04-11T08:31:19.864Z"
   },
   {
    "duration": 205,
    "start_time": "2024-04-11T08:31:19.892Z"
   },
   {
    "duration": 8,
    "start_time": "2024-04-11T08:31:20.099Z"
   },
   {
    "duration": 162,
    "start_time": "2024-04-11T08:31:20.108Z"
   },
   {
    "duration": 9,
    "start_time": "2024-04-11T08:31:20.272Z"
   },
   {
    "duration": 185,
    "start_time": "2024-04-11T08:31:20.292Z"
   },
   {
    "duration": 15,
    "start_time": "2024-04-11T08:31:20.479Z"
   },
   {
    "duration": 202,
    "start_time": "2024-04-11T08:31:20.496Z"
   },
   {
    "duration": 11,
    "start_time": "2024-04-11T08:31:20.700Z"
   },
   {
    "duration": 17,
    "start_time": "2024-04-11T08:31:20.713Z"
   },
   {
    "duration": 222,
    "start_time": "2024-04-11T08:31:20.732Z"
   },
   {
    "duration": 185,
    "start_time": "2024-04-11T08:31:20.956Z"
   },
   {
    "duration": 252,
    "start_time": "2024-04-11T08:31:21.143Z"
   },
   {
    "duration": 225,
    "start_time": "2024-04-11T08:31:21.397Z"
   },
   {
    "duration": 313,
    "start_time": "2024-04-11T08:31:21.624Z"
   },
   {
    "duration": 229,
    "start_time": "2024-04-11T08:31:21.939Z"
   },
   {
    "duration": 38,
    "start_time": "2024-04-11T08:31:22.170Z"
   },
   {
    "duration": 184,
    "start_time": "2024-04-11T08:31:22.209Z"
   },
   {
    "duration": 1243,
    "start_time": "2024-04-11T08:31:22.395Z"
   },
   {
    "duration": 270,
    "start_time": "2024-04-11T08:32:08.325Z"
   },
   {
    "duration": 563,
    "start_time": "2024-04-11T08:32:33.536Z"
   },
   {
    "duration": 548,
    "start_time": "2024-04-11T08:32:40.776Z"
   },
   {
    "duration": 601,
    "start_time": "2024-04-11T08:32:46.815Z"
   },
   {
    "duration": 28,
    "start_time": "2024-04-11T08:33:03.938Z"
   },
   {
    "duration": 34,
    "start_time": "2024-04-11T08:33:19.950Z"
   },
   {
    "duration": 2086,
    "start_time": "2024-04-11T08:33:28.673Z"
   },
   {
    "duration": 1736,
    "start_time": "2024-04-11T08:33:57.375Z"
   },
   {
    "duration": 32,
    "start_time": "2024-04-11T08:34:16.860Z"
   },
   {
    "duration": 35,
    "start_time": "2024-04-11T08:34:38.784Z"
   },
   {
    "duration": 31,
    "start_time": "2024-04-11T08:34:42.829Z"
   },
   {
    "duration": 1702,
    "start_time": "2024-04-11T08:34:44.409Z"
   },
   {
    "duration": 189,
    "start_time": "2024-04-11T08:35:19.810Z"
   },
   {
    "duration": 510,
    "start_time": "2024-04-11T08:35:49.004Z"
   },
   {
    "duration": 528,
    "start_time": "2024-04-11T08:36:04.464Z"
   },
   {
    "duration": 535,
    "start_time": "2024-04-11T08:36:13.134Z"
   },
   {
    "duration": 522,
    "start_time": "2024-04-11T08:36:37.283Z"
   },
   {
    "duration": 684,
    "start_time": "2024-04-11T08:37:07.848Z"
   },
   {
    "duration": 593,
    "start_time": "2024-04-11T08:37:16.417Z"
   },
   {
    "duration": 50,
    "start_time": "2024-04-11T09:49:46.696Z"
   },
   {
    "duration": 45,
    "start_time": "2024-04-11T09:51:11.671Z"
   },
   {
    "duration": 29,
    "start_time": "2024-04-11T09:52:00.076Z"
   },
   {
    "duration": 18,
    "start_time": "2024-04-11T09:52:12.544Z"
   },
   {
    "duration": 26,
    "start_time": "2024-04-11T09:52:24.980Z"
   },
   {
    "duration": 27,
    "start_time": "2024-04-11T09:52:36.257Z"
   },
   {
    "duration": 25,
    "start_time": "2024-04-11T09:52:42.339Z"
   },
   {
    "duration": 13,
    "start_time": "2024-04-11T09:53:53.451Z"
   },
   {
    "duration": 24,
    "start_time": "2024-04-11T09:53:58.457Z"
   },
   {
    "duration": 12,
    "start_time": "2024-04-11T09:54:49.355Z"
   },
   {
    "duration": 10,
    "start_time": "2024-04-11T09:55:00.524Z"
   },
   {
    "duration": 9,
    "start_time": "2024-04-11T09:55:09.487Z"
   },
   {
    "duration": 25,
    "start_time": "2024-04-11T09:55:25.503Z"
   },
   {
    "duration": 6,
    "start_time": "2024-04-11T09:56:25.587Z"
   },
   {
    "duration": 9,
    "start_time": "2024-04-11T09:57:14.023Z"
   },
   {
    "duration": 3,
    "start_time": "2024-04-11T09:57:31.975Z"
   },
   {
    "duration": 15,
    "start_time": "2024-04-11T09:57:36.769Z"
   },
   {
    "duration": 10,
    "start_time": "2024-04-11T09:57:45.695Z"
   },
   {
    "duration": 20,
    "start_time": "2024-04-11T10:00:15.078Z"
   },
   {
    "duration": 7,
    "start_time": "2024-04-11T10:00:40.925Z"
   },
   {
    "duration": 18,
    "start_time": "2024-04-11T10:00:46.982Z"
   },
   {
    "duration": 43,
    "start_time": "2024-04-11T10:01:31.910Z"
   },
   {
    "duration": 13,
    "start_time": "2024-04-11T10:02:10.699Z"
   },
   {
    "duration": 30,
    "start_time": "2024-04-11T10:02:22.207Z"
   },
   {
    "duration": 7,
    "start_time": "2024-04-11T10:03:52.603Z"
   },
   {
    "duration": 25,
    "start_time": "2024-04-11T10:05:00.091Z"
   },
   {
    "duration": 24,
    "start_time": "2024-04-11T10:05:17.649Z"
   },
   {
    "duration": 26,
    "start_time": "2024-04-11T10:05:24.381Z"
   },
   {
    "duration": 28,
    "start_time": "2024-04-11T10:05:33.625Z"
   },
   {
    "duration": 24,
    "start_time": "2024-04-11T10:05:44.694Z"
   },
   {
    "duration": 18,
    "start_time": "2024-04-11T10:06:36.784Z"
   },
   {
    "duration": 23,
    "start_time": "2024-04-11T10:06:58.492Z"
   },
   {
    "duration": 27,
    "start_time": "2024-04-11T10:07:14.069Z"
   },
   {
    "duration": 23,
    "start_time": "2024-04-11T10:07:16.261Z"
   },
   {
    "duration": 260,
    "start_time": "2024-04-11T10:08:41.040Z"
   },
   {
    "duration": 1669,
    "start_time": "2024-04-11T10:09:25.933Z"
   },
   {
    "duration": 77,
    "start_time": "2024-04-11T10:09:33.492Z"
   },
   {
    "duration": 133,
    "start_time": "2024-04-11T10:09:36.588Z"
   },
   {
    "duration": 279,
    "start_time": "2024-04-11T10:10:03.684Z"
   },
   {
    "duration": 171,
    "start_time": "2024-04-11T10:10:59.396Z"
   },
   {
    "duration": 160,
    "start_time": "2024-04-11T10:11:05.392Z"
   },
   {
    "duration": 187,
    "start_time": "2024-04-11T10:11:12.158Z"
   },
   {
    "duration": 253,
    "start_time": "2024-04-11T10:11:55.500Z"
   },
   {
    "duration": 11,
    "start_time": "2024-04-11T10:12:08.724Z"
   },
   {
    "duration": 219,
    "start_time": "2024-04-11T10:12:16.284Z"
   },
   {
    "duration": 186,
    "start_time": "2024-04-11T10:12:22.638Z"
   },
   {
    "duration": 211,
    "start_time": "2024-04-11T10:12:31.943Z"
   },
   {
    "duration": 211,
    "start_time": "2024-04-11T10:12:39.658Z"
   },
   {
    "duration": 290,
    "start_time": "2024-04-11T10:12:44.971Z"
   },
   {
    "duration": 184,
    "start_time": "2024-04-11T10:12:53.786Z"
   },
   {
    "duration": 217,
    "start_time": "2024-04-11T10:13:05.948Z"
   },
   {
    "duration": 209,
    "start_time": "2024-04-11T10:13:26.539Z"
   },
   {
    "duration": 48,
    "start_time": "2024-04-11T10:41:20.986Z"
   },
   {
    "duration": 12,
    "start_time": "2024-04-11T10:42:31.411Z"
   },
   {
    "duration": 35,
    "start_time": "2024-04-11T10:42:52.223Z"
   },
   {
    "duration": 24,
    "start_time": "2024-04-11T10:48:24.041Z"
   },
   {
    "duration": 25,
    "start_time": "2024-04-11T10:48:48.665Z"
   },
   {
    "duration": 24,
    "start_time": "2024-04-11T10:48:51.084Z"
   },
   {
    "duration": 23,
    "start_time": "2024-04-11T10:49:13.400Z"
   },
   {
    "duration": 148,
    "start_time": "2024-04-11T10:51:45.071Z"
   },
   {
    "duration": 167,
    "start_time": "2024-04-11T10:54:14.275Z"
   },
   {
    "duration": 81,
    "start_time": "2024-04-11T10:54:31.408Z"
   },
   {
    "duration": 81,
    "start_time": "2024-04-11T10:54:37.368Z"
   },
   {
    "duration": 95,
    "start_time": "2024-04-11T10:54:43.086Z"
   },
   {
    "duration": 262,
    "start_time": "2024-04-11T10:54:46.379Z"
   },
   {
    "duration": 175,
    "start_time": "2024-04-11T10:54:48.579Z"
   },
   {
    "duration": 174,
    "start_time": "2024-04-11T10:54:51.202Z"
   },
   {
    "duration": 165,
    "start_time": "2024-04-11T10:55:26.072Z"
   },
   {
    "duration": 10,
    "start_time": "2024-04-11T10:59:43.628Z"
   },
   {
    "duration": 155,
    "start_time": "2024-04-11T11:02:45.622Z"
   },
   {
    "duration": 150,
    "start_time": "2024-04-11T11:03:10.798Z"
   },
   {
    "duration": 158,
    "start_time": "2024-04-11T11:03:17.608Z"
   },
   {
    "duration": 77,
    "start_time": "2024-04-11T11:07:01.319Z"
   },
   {
    "duration": 162,
    "start_time": "2024-04-11T11:09:07.151Z"
   },
   {
    "duration": 155,
    "start_time": "2024-04-11T11:09:15.309Z"
   },
   {
    "duration": 181,
    "start_time": "2024-04-11T11:09:23.960Z"
   },
   {
    "duration": 204,
    "start_time": "2024-04-11T11:09:42.215Z"
   },
   {
    "duration": 204,
    "start_time": "2024-04-11T11:09:51.370Z"
   },
   {
    "duration": 242,
    "start_time": "2024-04-11T11:11:00.355Z"
   },
   {
    "duration": 335,
    "start_time": "2024-04-11T11:11:10.678Z"
   },
   {
    "duration": 413,
    "start_time": "2024-04-11T11:11:38.573Z"
   },
   {
    "duration": 91,
    "start_time": "2024-04-11T11:21:10.220Z"
   },
   {
    "duration": 2192,
    "start_time": "2024-04-11T11:22:11.622Z"
   },
   {
    "duration": 32,
    "start_time": "2024-04-11T11:24:14.282Z"
   },
   {
    "duration": 659,
    "start_time": "2024-04-11T11:24:34.846Z"
   },
   {
    "duration": 102,
    "start_time": "2024-04-11T11:24:35.507Z"
   },
   {
    "duration": 30,
    "start_time": "2024-04-11T11:24:35.611Z"
   },
   {
    "duration": 42,
    "start_time": "2024-04-11T11:24:35.644Z"
   },
   {
    "duration": 80,
    "start_time": "2024-04-11T11:24:35.688Z"
   },
   {
    "duration": 2354,
    "start_time": "2024-04-11T11:24:35.770Z"
   },
   {
    "duration": 6,
    "start_time": "2024-04-11T11:24:38.125Z"
   },
   {
    "duration": 25,
    "start_time": "2024-04-11T11:24:38.133Z"
   },
   {
    "duration": 9,
    "start_time": "2024-04-11T11:24:38.160Z"
   },
   {
    "duration": 7,
    "start_time": "2024-04-11T11:24:38.171Z"
   },
   {
    "duration": 12,
    "start_time": "2024-04-11T11:24:38.180Z"
   },
   {
    "duration": 23,
    "start_time": "2024-04-11T11:24:38.194Z"
   },
   {
    "duration": 25,
    "start_time": "2024-04-11T11:24:38.219Z"
   },
   {
    "duration": 21,
    "start_time": "2024-04-11T11:24:38.245Z"
   },
   {
    "duration": 39,
    "start_time": "2024-04-11T11:24:38.268Z"
   },
   {
    "duration": 62,
    "start_time": "2024-04-11T11:24:38.309Z"
   },
   {
    "duration": 51,
    "start_time": "2024-04-11T11:24:38.373Z"
   },
   {
    "duration": 10,
    "start_time": "2024-04-11T11:24:38.426Z"
   },
   {
    "duration": 22,
    "start_time": "2024-04-11T11:24:38.438Z"
   },
   {
    "duration": 16,
    "start_time": "2024-04-11T11:24:38.462Z"
   },
   {
    "duration": 6,
    "start_time": "2024-04-11T11:24:38.480Z"
   },
   {
    "duration": 319,
    "start_time": "2024-04-11T11:24:38.492Z"
   },
   {
    "duration": 5,
    "start_time": "2024-04-11T11:24:38.813Z"
   },
   {
    "duration": 48,
    "start_time": "2024-04-11T11:24:38.819Z"
   },
   {
    "duration": 24,
    "start_time": "2024-04-11T11:24:38.869Z"
   },
   {
    "duration": 202,
    "start_time": "2024-04-11T11:24:38.894Z"
   },
   {
    "duration": 9,
    "start_time": "2024-04-11T11:24:39.098Z"
   },
   {
    "duration": 292,
    "start_time": "2024-04-11T11:24:39.111Z"
   },
   {
    "duration": 9,
    "start_time": "2024-04-11T11:24:39.404Z"
   },
   {
    "duration": 200,
    "start_time": "2024-04-11T11:24:39.415Z"
   },
   {
    "duration": 8,
    "start_time": "2024-04-11T11:24:39.617Z"
   },
   {
    "duration": 236,
    "start_time": "2024-04-11T11:24:39.627Z"
   },
   {
    "duration": 13,
    "start_time": "2024-04-11T11:24:39.865Z"
   },
   {
    "duration": 235,
    "start_time": "2024-04-11T11:24:39.892Z"
   },
   {
    "duration": 11,
    "start_time": "2024-04-11T11:24:40.129Z"
   },
   {
    "duration": 128,
    "start_time": "2024-04-11T11:24:40.142Z"
   },
   {
    "duration": 5,
    "start_time": "2024-04-11T11:24:40.272Z"
   },
   {
    "duration": 30,
    "start_time": "2024-04-11T11:24:40.278Z"
   },
   {
    "duration": 198,
    "start_time": "2024-04-11T11:24:40.309Z"
   },
   {
    "duration": 7,
    "start_time": "2024-04-11T11:24:40.509Z"
   },
   {
    "duration": 163,
    "start_time": "2024-04-11T11:24:40.518Z"
   },
   {
    "duration": 9,
    "start_time": "2024-04-11T11:24:40.683Z"
   },
   {
    "duration": 175,
    "start_time": "2024-04-11T11:24:40.694Z"
   },
   {
    "duration": 10,
    "start_time": "2024-04-11T11:24:40.871Z"
   },
   {
    "duration": 181,
    "start_time": "2024-04-11T11:24:40.882Z"
   },
   {
    "duration": 9,
    "start_time": "2024-04-11T11:24:41.065Z"
   },
   {
    "duration": 32,
    "start_time": "2024-04-11T11:24:41.076Z"
   },
   {
    "duration": 200,
    "start_time": "2024-04-11T11:24:41.110Z"
   },
   {
    "duration": 179,
    "start_time": "2024-04-11T11:24:41.312Z"
   },
   {
    "duration": 12,
    "start_time": "2024-04-11T11:24:41.493Z"
   },
   {
    "duration": 291,
    "start_time": "2024-04-11T11:24:41.506Z"
   },
   {
    "duration": 437,
    "start_time": "2024-04-11T11:24:41.799Z"
   },
   {
    "duration": 219,
    "start_time": "2024-04-11T11:24:42.238Z"
   },
   {
    "duration": 215,
    "start_time": "2024-04-11T11:24:42.459Z"
   },
   {
    "duration": 209,
    "start_time": "2024-04-11T11:24:42.675Z"
   },
   {
    "duration": 221,
    "start_time": "2024-04-11T11:24:42.892Z"
   },
   {
    "duration": 35,
    "start_time": "2024-04-11T11:24:43.114Z"
   },
   {
    "duration": 210,
    "start_time": "2024-04-11T11:24:43.151Z"
   },
   {
    "duration": 642,
    "start_time": "2024-04-11T11:24:43.363Z"
   },
   {
    "duration": 60,
    "start_time": "2024-04-11T11:24:44.007Z"
   },
   {
    "duration": 26,
    "start_time": "2024-04-11T11:24:44.069Z"
   },
   {
    "duration": 20,
    "start_time": "2024-04-11T11:24:44.097Z"
   },
   {
    "duration": 32,
    "start_time": "2024-04-11T11:24:44.119Z"
   },
   {
    "duration": 208,
    "start_time": "2024-04-11T11:24:44.153Z"
   },
   {
    "duration": 44,
    "start_time": "2024-04-11T11:24:44.363Z"
   },
   {
    "duration": 30,
    "start_time": "2024-04-11T11:24:44.409Z"
   },
   {
    "duration": 275,
    "start_time": "2024-04-11T11:24:44.441Z"
   },
   {
    "duration": 6,
    "start_time": "2024-04-11T11:35:59.982Z"
   },
   {
    "duration": 418,
    "start_time": "2024-04-11T11:41:28.807Z"
   },
   {
    "duration": 761,
    "start_time": "2024-04-11T12:24:20.394Z"
   },
   {
    "duration": 119,
    "start_time": "2024-04-11T12:24:21.160Z"
   },
   {
    "duration": 58,
    "start_time": "2024-04-11T12:24:21.280Z"
   },
   {
    "duration": 23,
    "start_time": "2024-04-11T12:24:21.341Z"
   },
   {
    "duration": 90,
    "start_time": "2024-04-11T12:24:21.366Z"
   },
   {
    "duration": 2691,
    "start_time": "2024-04-11T12:24:21.458Z"
   },
   {
    "duration": 6,
    "start_time": "2024-04-11T12:24:24.153Z"
   },
   {
    "duration": 10,
    "start_time": "2024-04-11T12:24:24.161Z"
   },
   {
    "duration": 7,
    "start_time": "2024-04-11T12:24:24.172Z"
   },
   {
    "duration": 8,
    "start_time": "2024-04-11T12:24:24.181Z"
   },
   {
    "duration": 14,
    "start_time": "2024-04-11T12:24:24.191Z"
   },
   {
    "duration": 31,
    "start_time": "2024-04-11T12:24:24.207Z"
   },
   {
    "duration": 28,
    "start_time": "2024-04-11T12:24:24.240Z"
   },
   {
    "duration": 33,
    "start_time": "2024-04-11T12:24:24.270Z"
   },
   {
    "duration": 73,
    "start_time": "2024-04-11T12:24:24.305Z"
   },
   {
    "duration": 77,
    "start_time": "2024-04-11T12:24:24.380Z"
   },
   {
    "duration": 37,
    "start_time": "2024-04-11T12:24:24.459Z"
   },
   {
    "duration": 39,
    "start_time": "2024-04-11T12:24:24.498Z"
   },
   {
    "duration": 13,
    "start_time": "2024-04-11T12:24:24.540Z"
   },
   {
    "duration": 19,
    "start_time": "2024-04-11T12:24:24.555Z"
   },
   {
    "duration": 4,
    "start_time": "2024-04-11T12:24:24.576Z"
   },
   {
    "duration": 414,
    "start_time": "2024-04-11T12:24:24.582Z"
   },
   {
    "duration": 5,
    "start_time": "2024-04-11T12:24:24.997Z"
   },
   {
    "duration": 38,
    "start_time": "2024-04-11T12:24:25.004Z"
   },
   {
    "duration": 26,
    "start_time": "2024-04-11T12:24:25.054Z"
   },
   {
    "duration": 254,
    "start_time": "2024-04-11T12:24:25.082Z"
   },
   {
    "duration": 15,
    "start_time": "2024-04-11T12:24:25.341Z"
   },
   {
    "duration": 350,
    "start_time": "2024-04-11T12:24:25.361Z"
   },
   {
    "duration": 23,
    "start_time": "2024-04-11T12:24:25.712Z"
   },
   {
    "duration": 243,
    "start_time": "2024-04-11T12:24:25.744Z"
   },
   {
    "duration": 13,
    "start_time": "2024-04-11T12:24:25.989Z"
   },
   {
    "duration": 234,
    "start_time": "2024-04-11T12:24:26.005Z"
   },
   {
    "duration": 11,
    "start_time": "2024-04-11T12:24:26.242Z"
   },
   {
    "duration": 223,
    "start_time": "2024-04-11T12:24:26.255Z"
   },
   {
    "duration": 10,
    "start_time": "2024-04-11T12:24:26.480Z"
   },
   {
    "duration": 155,
    "start_time": "2024-04-11T12:24:26.492Z"
   },
   {
    "duration": 6,
    "start_time": "2024-04-11T12:24:26.649Z"
   },
   {
    "duration": 11,
    "start_time": "2024-04-11T12:24:26.657Z"
   },
   {
    "duration": 240,
    "start_time": "2024-04-11T12:24:26.669Z"
   },
   {
    "duration": 8,
    "start_time": "2024-04-11T12:24:26.910Z"
   },
   {
    "duration": 180,
    "start_time": "2024-04-11T12:24:26.919Z"
   },
   {
    "duration": 8,
    "start_time": "2024-04-11T12:24:27.101Z"
   },
   {
    "duration": 206,
    "start_time": "2024-04-11T12:24:27.111Z"
   },
   {
    "duration": 9,
    "start_time": "2024-04-11T12:24:27.329Z"
   },
   {
    "duration": 215,
    "start_time": "2024-04-11T12:24:27.340Z"
   },
   {
    "duration": 20,
    "start_time": "2024-04-11T12:24:27.558Z"
   },
   {
    "duration": 16,
    "start_time": "2024-04-11T12:24:27.580Z"
   },
   {
    "duration": 255,
    "start_time": "2024-04-11T12:24:27.598Z"
   },
   {
    "duration": 239,
    "start_time": "2024-04-11T12:24:27.856Z"
   },
   {
    "duration": 9,
    "start_time": "2024-04-11T12:24:28.097Z"
   },
   {
    "duration": 278,
    "start_time": "2024-04-11T12:24:28.108Z"
   },
   {
    "duration": 409,
    "start_time": "2024-04-11T12:24:28.388Z"
   },
   {
    "duration": 221,
    "start_time": "2024-04-11T12:24:28.798Z"
   },
   {
    "duration": 253,
    "start_time": "2024-04-11T12:24:29.021Z"
   },
   {
    "duration": 239,
    "start_time": "2024-04-11T12:24:29.277Z"
   },
   {
    "duration": 265,
    "start_time": "2024-04-11T12:24:29.517Z"
   },
   {
    "duration": 32,
    "start_time": "2024-04-11T12:24:29.784Z"
   },
   {
    "duration": 215,
    "start_time": "2024-04-11T12:24:29.818Z"
   },
   {
    "duration": 646,
    "start_time": "2024-04-11T12:24:30.036Z"
   },
   {
    "duration": 10,
    "start_time": "2024-04-11T12:24:30.684Z"
   },
   {
    "duration": 158,
    "start_time": "2024-04-11T12:24:30.696Z"
   },
   {
    "duration": 85,
    "start_time": "2024-04-11T12:24:30.856Z"
   },
   {
    "duration": 329,
    "start_time": "2024-04-11T12:24:30.943Z"
   },
   {
    "duration": 29,
    "start_time": "2024-04-11T12:24:31.273Z"
   },
   {
    "duration": 110,
    "start_time": "2024-04-11T12:24:31.304Z"
   },
   {
    "duration": 314,
    "start_time": "2024-04-11T12:24:31.416Z"
   },
   {
    "duration": 76,
    "start_time": "2024-04-11T16:46:02.773Z"
   },
   {
    "duration": 114,
    "start_time": "2024-04-11T16:47:08.386Z"
   },
   {
    "duration": 68,
    "start_time": "2024-04-11T16:47:24.923Z"
   },
   {
    "duration": 40,
    "start_time": "2024-04-11T16:52:59.959Z"
   },
   {
    "duration": 816,
    "start_time": "2024-04-11T16:53:13.882Z"
   },
   {
    "duration": 282,
    "start_time": "2024-04-11T16:53:14.701Z"
   },
   {
    "duration": 29,
    "start_time": "2024-04-11T16:53:14.985Z"
   },
   {
    "duration": 15,
    "start_time": "2024-04-11T16:53:15.016Z"
   },
   {
    "duration": 118,
    "start_time": "2024-04-11T16:53:15.032Z"
   },
   {
    "duration": 1956,
    "start_time": "2024-04-11T16:53:15.151Z"
   },
   {
    "duration": 6,
    "start_time": "2024-04-11T16:53:17.108Z"
   },
   {
    "duration": 13,
    "start_time": "2024-04-11T16:53:17.116Z"
   },
   {
    "duration": 7,
    "start_time": "2024-04-11T16:53:17.130Z"
   },
   {
    "duration": 10,
    "start_time": "2024-04-11T16:53:17.140Z"
   },
   {
    "duration": 12,
    "start_time": "2024-04-11T16:53:17.151Z"
   },
   {
    "duration": 7,
    "start_time": "2024-04-11T16:53:17.164Z"
   },
   {
    "duration": 48,
    "start_time": "2024-04-11T16:53:17.173Z"
   },
   {
    "duration": 18,
    "start_time": "2024-04-11T16:53:17.222Z"
   },
   {
    "duration": 27,
    "start_time": "2024-04-11T16:53:17.241Z"
   },
   {
    "duration": 71,
    "start_time": "2024-04-11T16:53:17.269Z"
   },
   {
    "duration": 30,
    "start_time": "2024-04-11T16:53:17.341Z"
   },
   {
    "duration": 9,
    "start_time": "2024-04-11T16:53:17.372Z"
   },
   {
    "duration": 27,
    "start_time": "2024-04-11T16:53:17.382Z"
   },
   {
    "duration": 11,
    "start_time": "2024-04-11T16:53:17.410Z"
   },
   {
    "duration": 10,
    "start_time": "2024-04-11T16:53:17.423Z"
   },
   {
    "duration": 269,
    "start_time": "2024-04-11T16:53:17.434Z"
   },
   {
    "duration": 5,
    "start_time": "2024-04-11T16:53:17.704Z"
   },
   {
    "duration": 31,
    "start_time": "2024-04-11T16:53:17.711Z"
   },
   {
    "duration": 7,
    "start_time": "2024-04-11T16:53:17.743Z"
   },
   {
    "duration": 190,
    "start_time": "2024-04-11T16:53:17.751Z"
   },
   {
    "duration": 73,
    "start_time": "2024-04-11T16:53:17.942Z"
   },
   {
    "duration": 0,
    "start_time": "2024-04-11T16:53:18.018Z"
   },
   {
    "duration": 0,
    "start_time": "2024-04-11T16:53:18.085Z"
   },
   {
    "duration": 0,
    "start_time": "2024-04-11T16:53:18.086Z"
   },
   {
    "duration": 0,
    "start_time": "2024-04-11T16:53:18.088Z"
   },
   {
    "duration": 0,
    "start_time": "2024-04-11T16:53:18.089Z"
   },
   {
    "duration": 0,
    "start_time": "2024-04-11T16:53:18.091Z"
   },
   {
    "duration": 0,
    "start_time": "2024-04-11T16:53:18.093Z"
   },
   {
    "duration": 0,
    "start_time": "2024-04-11T16:53:18.109Z"
   },
   {
    "duration": 0,
    "start_time": "2024-04-11T16:53:18.110Z"
   },
   {
    "duration": 0,
    "start_time": "2024-04-11T16:53:18.111Z"
   },
   {
    "duration": 0,
    "start_time": "2024-04-11T16:53:18.113Z"
   },
   {
    "duration": 0,
    "start_time": "2024-04-11T16:53:18.113Z"
   },
   {
    "duration": 0,
    "start_time": "2024-04-11T16:53:18.114Z"
   },
   {
    "duration": 0,
    "start_time": "2024-04-11T16:53:18.115Z"
   },
   {
    "duration": 0,
    "start_time": "2024-04-11T16:53:18.116Z"
   },
   {
    "duration": 0,
    "start_time": "2024-04-11T16:53:18.118Z"
   },
   {
    "duration": 0,
    "start_time": "2024-04-11T16:53:18.119Z"
   },
   {
    "duration": 0,
    "start_time": "2024-04-11T16:53:18.120Z"
   },
   {
    "duration": 0,
    "start_time": "2024-04-11T16:53:18.121Z"
   },
   {
    "duration": 0,
    "start_time": "2024-04-11T16:53:18.122Z"
   },
   {
    "duration": 0,
    "start_time": "2024-04-11T16:53:18.123Z"
   },
   {
    "duration": 0,
    "start_time": "2024-04-11T16:53:18.124Z"
   },
   {
    "duration": 0,
    "start_time": "2024-04-11T16:53:18.125Z"
   },
   {
    "duration": 0,
    "start_time": "2024-04-11T16:53:18.126Z"
   },
   {
    "duration": 0,
    "start_time": "2024-04-11T16:53:18.127Z"
   },
   {
    "duration": 0,
    "start_time": "2024-04-11T16:53:18.128Z"
   },
   {
    "duration": 0,
    "start_time": "2024-04-11T16:53:18.129Z"
   },
   {
    "duration": 0,
    "start_time": "2024-04-11T16:53:18.130Z"
   },
   {
    "duration": 0,
    "start_time": "2024-04-11T16:53:18.131Z"
   },
   {
    "duration": 0,
    "start_time": "2024-04-11T16:53:18.131Z"
   },
   {
    "duration": 0,
    "start_time": "2024-04-11T16:53:18.132Z"
   },
   {
    "duration": 0,
    "start_time": "2024-04-11T16:53:18.133Z"
   },
   {
    "duration": 0,
    "start_time": "2024-04-11T16:53:18.134Z"
   },
   {
    "duration": 0,
    "start_time": "2024-04-11T16:53:18.135Z"
   },
   {
    "duration": 0,
    "start_time": "2024-04-11T16:53:18.136Z"
   },
   {
    "duration": 0,
    "start_time": "2024-04-11T16:53:18.138Z"
   },
   {
    "duration": 0,
    "start_time": "2024-04-11T16:53:18.138Z"
   },
   {
    "duration": 0,
    "start_time": "2024-04-11T16:53:18.139Z"
   },
   {
    "duration": 0,
    "start_time": "2024-04-11T16:53:18.140Z"
   },
   {
    "duration": 0,
    "start_time": "2024-04-11T16:53:18.141Z"
   },
   {
    "duration": 7,
    "start_time": "2024-04-11T16:54:29.980Z"
   },
   {
    "duration": 3,
    "start_time": "2024-04-11T16:55:24.815Z"
   },
   {
    "duration": 4,
    "start_time": "2024-04-11T16:55:46.803Z"
   },
   {
    "duration": 189,
    "start_time": "2024-04-11T16:56:33.510Z"
   },
   {
    "duration": 3,
    "start_time": "2024-04-11T16:58:35.086Z"
   },
   {
    "duration": 4,
    "start_time": "2024-04-11T16:58:40.796Z"
   },
   {
    "duration": 600,
    "start_time": "2024-04-11T17:01:05.165Z"
   },
   {
    "duration": 99,
    "start_time": "2024-04-11T17:01:05.768Z"
   },
   {
    "duration": 27,
    "start_time": "2024-04-11T17:01:05.868Z"
   },
   {
    "duration": 25,
    "start_time": "2024-04-11T17:01:05.896Z"
   },
   {
    "duration": 82,
    "start_time": "2024-04-11T17:01:05.923Z"
   },
   {
    "duration": 1900,
    "start_time": "2024-04-11T17:01:06.007Z"
   },
   {
    "duration": 6,
    "start_time": "2024-04-11T17:01:07.908Z"
   },
   {
    "duration": 24,
    "start_time": "2024-04-11T17:01:07.915Z"
   },
   {
    "duration": 16,
    "start_time": "2024-04-11T17:01:07.941Z"
   },
   {
    "duration": 11,
    "start_time": "2024-04-11T17:01:07.958Z"
   },
   {
    "duration": 11,
    "start_time": "2024-04-11T17:01:07.970Z"
   },
   {
    "duration": 8,
    "start_time": "2024-04-11T17:01:07.982Z"
   },
   {
    "duration": 24,
    "start_time": "2024-04-11T17:01:07.991Z"
   },
   {
    "duration": 19,
    "start_time": "2024-04-11T17:01:08.019Z"
   },
   {
    "duration": 29,
    "start_time": "2024-04-11T17:01:08.039Z"
   },
   {
    "duration": 68,
    "start_time": "2024-04-11T17:01:08.070Z"
   },
   {
    "duration": 29,
    "start_time": "2024-04-11T17:01:08.140Z"
   },
   {
    "duration": 10,
    "start_time": "2024-04-11T17:01:08.171Z"
   },
   {
    "duration": 29,
    "start_time": "2024-04-11T17:01:08.183Z"
   },
   {
    "duration": 14,
    "start_time": "2024-04-11T17:01:08.213Z"
   },
   {
    "duration": 5,
    "start_time": "2024-04-11T17:01:08.228Z"
   },
   {
    "duration": 271,
    "start_time": "2024-04-11T17:01:08.235Z"
   },
   {
    "duration": 5,
    "start_time": "2024-04-11T17:01:08.508Z"
   },
   {
    "duration": 36,
    "start_time": "2024-04-11T17:01:08.514Z"
   },
   {
    "duration": 4,
    "start_time": "2024-04-11T17:01:08.552Z"
   },
   {
    "duration": 17,
    "start_time": "2024-04-11T17:01:08.557Z"
   },
   {
    "duration": 159,
    "start_time": "2024-04-11T17:01:08.576Z"
   },
   {
    "duration": 9,
    "start_time": "2024-04-11T17:01:08.737Z"
   },
   {
    "duration": 248,
    "start_time": "2024-04-11T17:01:08.747Z"
   },
   {
    "duration": 15,
    "start_time": "2024-04-11T17:01:08.997Z"
   },
   {
    "duration": 176,
    "start_time": "2024-04-11T17:01:09.013Z"
   },
   {
    "duration": 7,
    "start_time": "2024-04-11T17:01:09.190Z"
   },
   {
    "duration": 169,
    "start_time": "2024-04-11T17:01:09.198Z"
   },
   {
    "duration": 7,
    "start_time": "2024-04-11T17:01:09.368Z"
   },
   {
    "duration": 169,
    "start_time": "2024-04-11T17:01:09.377Z"
   },
   {
    "duration": 8,
    "start_time": "2024-04-11T17:01:09.548Z"
   },
   {
    "duration": 116,
    "start_time": "2024-04-11T17:01:09.558Z"
   },
   {
    "duration": 4,
    "start_time": "2024-04-11T17:01:09.676Z"
   },
   {
    "duration": 27,
    "start_time": "2024-04-11T17:01:09.681Z"
   },
   {
    "duration": 169,
    "start_time": "2024-04-11T17:01:09.710Z"
   },
   {
    "duration": 7,
    "start_time": "2024-04-11T17:01:09.883Z"
   },
   {
    "duration": 137,
    "start_time": "2024-04-11T17:01:09.891Z"
   },
   {
    "duration": 7,
    "start_time": "2024-04-11T17:01:10.030Z"
   },
   {
    "duration": 159,
    "start_time": "2024-04-11T17:01:10.038Z"
   },
   {
    "duration": 15,
    "start_time": "2024-04-11T17:01:10.198Z"
   },
   {
    "duration": 168,
    "start_time": "2024-04-11T17:01:10.214Z"
   },
   {
    "duration": 8,
    "start_time": "2024-04-11T17:01:10.383Z"
   },
   {
    "duration": 19,
    "start_time": "2024-04-11T17:01:10.393Z"
   },
   {
    "duration": 167,
    "start_time": "2024-04-11T17:01:10.413Z"
   },
   {
    "duration": 156,
    "start_time": "2024-04-11T17:01:10.582Z"
   },
   {
    "duration": 9,
    "start_time": "2024-04-11T17:01:10.739Z"
   },
   {
    "duration": 239,
    "start_time": "2024-04-11T17:01:10.749Z"
   },
   {
    "duration": 354,
    "start_time": "2024-04-11T17:01:10.989Z"
   },
   {
    "duration": 203,
    "start_time": "2024-04-11T17:01:11.344Z"
   },
   {
    "duration": 200,
    "start_time": "2024-04-11T17:01:11.549Z"
   },
   {
    "duration": 178,
    "start_time": "2024-04-11T17:01:11.751Z"
   },
   {
    "duration": 183,
    "start_time": "2024-04-11T17:01:11.931Z"
   },
   {
    "duration": 30,
    "start_time": "2024-04-11T17:01:12.115Z"
   },
   {
    "duration": 174,
    "start_time": "2024-04-11T17:01:12.146Z"
   },
   {
    "duration": 552,
    "start_time": "2024-04-11T17:01:12.321Z"
   },
   {
    "duration": 8,
    "start_time": "2024-04-11T17:01:12.874Z"
   },
   {
    "duration": 22,
    "start_time": "2024-04-11T17:01:12.883Z"
   },
   {
    "duration": 31,
    "start_time": "2024-04-11T17:01:12.908Z"
   },
   {
    "duration": 183,
    "start_time": "2024-04-11T17:01:12.940Z"
   },
   {
    "duration": 26,
    "start_time": "2024-04-11T17:01:13.124Z"
   },
   {
    "duration": 21,
    "start_time": "2024-04-11T17:01:13.151Z"
   },
   {
    "duration": 248,
    "start_time": "2024-04-11T17:01:13.173Z"
   },
   {
    "duration": 115,
    "start_time": "2024-04-11T17:09:28.209Z"
   },
   {
    "duration": 120,
    "start_time": "2024-04-11T17:09:47.669Z"
   },
   {
    "duration": 134,
    "start_time": "2024-04-11T17:10:15.907Z"
   },
   {
    "duration": 114,
    "start_time": "2024-04-11T17:10:25.744Z"
   },
   {
    "duration": 125,
    "start_time": "2024-04-11T17:11:43.061Z"
   },
   {
    "duration": 12,
    "start_time": "2024-04-11T17:21:03.151Z"
   },
   {
    "duration": 12,
    "start_time": "2024-04-11T17:21:28.837Z"
   },
   {
    "duration": 13,
    "start_time": "2024-04-11T17:24:49.769Z"
   },
   {
    "duration": 13,
    "start_time": "2024-04-11T17:25:00.538Z"
   },
   {
    "duration": 73,
    "start_time": "2024-04-11T17:27:13.810Z"
   },
   {
    "duration": 4,
    "start_time": "2024-04-11T17:32:13.890Z"
   },
   {
    "duration": 4,
    "start_time": "2024-04-11T17:32:22.710Z"
   },
   {
    "duration": 72,
    "start_time": "2024-04-11T17:34:13.680Z"
   },
   {
    "duration": 596,
    "start_time": "2024-04-11T17:34:27.137Z"
   },
   {
    "duration": 107,
    "start_time": "2024-04-11T17:34:27.735Z"
   },
   {
    "duration": 26,
    "start_time": "2024-04-11T17:34:27.843Z"
   },
   {
    "duration": 13,
    "start_time": "2024-04-11T17:34:27.870Z"
   },
   {
    "duration": 80,
    "start_time": "2024-04-11T17:34:27.885Z"
   },
   {
    "duration": 1909,
    "start_time": "2024-04-11T17:34:27.966Z"
   },
   {
    "duration": 7,
    "start_time": "2024-04-11T17:34:29.877Z"
   },
   {
    "duration": 10,
    "start_time": "2024-04-11T17:34:29.885Z"
   },
   {
    "duration": 13,
    "start_time": "2024-04-11T17:34:29.896Z"
   },
   {
    "duration": 26,
    "start_time": "2024-04-11T17:34:29.910Z"
   },
   {
    "duration": 12,
    "start_time": "2024-04-11T17:34:29.938Z"
   },
   {
    "duration": 8,
    "start_time": "2024-04-11T17:34:29.951Z"
   },
   {
    "duration": 23,
    "start_time": "2024-04-11T17:34:29.960Z"
   },
   {
    "duration": 24,
    "start_time": "2024-04-11T17:34:29.987Z"
   },
   {
    "duration": 38,
    "start_time": "2024-04-11T17:34:30.014Z"
   },
   {
    "duration": 71,
    "start_time": "2024-04-11T17:34:30.054Z"
   },
   {
    "duration": 44,
    "start_time": "2024-04-11T17:34:30.127Z"
   },
   {
    "duration": 31,
    "start_time": "2024-04-11T17:34:30.173Z"
   },
   {
    "duration": 36,
    "start_time": "2024-04-11T17:34:30.205Z"
   },
   {
    "duration": 104,
    "start_time": "2024-04-11T17:34:30.243Z"
   },
   {
    "duration": 71,
    "start_time": "2024-04-11T17:34:30.348Z"
   },
   {
    "duration": 390,
    "start_time": "2024-04-11T17:34:30.421Z"
   },
   {
    "duration": 4,
    "start_time": "2024-04-11T17:34:30.813Z"
   },
   {
    "duration": 66,
    "start_time": "2024-04-11T17:34:30.818Z"
   },
   {
    "duration": 69,
    "start_time": "2024-04-11T17:34:30.885Z"
   },
   {
    "duration": 48,
    "start_time": "2024-04-11T17:34:30.956Z"
   },
   {
    "duration": 193,
    "start_time": "2024-04-11T17:34:31.005Z"
   },
   {
    "duration": 9,
    "start_time": "2024-04-11T17:34:31.200Z"
   },
   {
    "duration": 290,
    "start_time": "2024-04-11T17:34:31.210Z"
   },
   {
    "duration": 12,
    "start_time": "2024-04-11T17:34:31.502Z"
   },
   {
    "duration": 209,
    "start_time": "2024-04-11T17:34:31.516Z"
   },
   {
    "duration": 10,
    "start_time": "2024-04-11T17:34:31.727Z"
   },
   {
    "duration": 249,
    "start_time": "2024-04-11T17:34:31.739Z"
   },
   {
    "duration": 8,
    "start_time": "2024-04-11T17:34:31.989Z"
   },
   {
    "duration": 214,
    "start_time": "2024-04-11T17:34:31.998Z"
   },
   {
    "duration": 9,
    "start_time": "2024-04-11T17:34:32.213Z"
   },
   {
    "duration": 125,
    "start_time": "2024-04-11T17:34:32.223Z"
   },
   {
    "duration": 5,
    "start_time": "2024-04-11T17:34:32.349Z"
   },
   {
    "duration": 25,
    "start_time": "2024-04-11T17:34:32.355Z"
   },
   {
    "duration": 197,
    "start_time": "2024-04-11T17:34:32.381Z"
   },
   {
    "duration": 7,
    "start_time": "2024-04-11T17:34:32.582Z"
   },
   {
    "duration": 145,
    "start_time": "2024-04-11T17:34:32.590Z"
   },
   {
    "duration": 8,
    "start_time": "2024-04-11T17:34:32.736Z"
   },
   {
    "duration": 155,
    "start_time": "2024-04-11T17:34:32.746Z"
   },
   {
    "duration": 8,
    "start_time": "2024-04-11T17:34:32.909Z"
   },
   {
    "duration": 157,
    "start_time": "2024-04-11T17:34:32.919Z"
   },
   {
    "duration": 10,
    "start_time": "2024-04-11T17:34:33.077Z"
   },
   {
    "duration": 23,
    "start_time": "2024-04-11T17:34:33.088Z"
   },
   {
    "duration": 169,
    "start_time": "2024-04-11T17:34:33.113Z"
   },
   {
    "duration": 163,
    "start_time": "2024-04-11T17:34:33.283Z"
   },
   {
    "duration": 9,
    "start_time": "2024-04-11T17:34:33.448Z"
   },
   {
    "duration": 249,
    "start_time": "2024-04-11T17:34:33.459Z"
   },
   {
    "duration": 371,
    "start_time": "2024-04-11T17:34:33.710Z"
   },
   {
    "duration": 131,
    "start_time": "2024-04-11T17:34:34.082Z"
   },
   {
    "duration": 199,
    "start_time": "2024-04-11T17:34:34.214Z"
   },
   {
    "duration": 194,
    "start_time": "2024-04-11T17:34:34.415Z"
   },
   {
    "duration": 187,
    "start_time": "2024-04-11T17:34:34.611Z"
   },
   {
    "duration": 187,
    "start_time": "2024-04-11T17:34:34.800Z"
   },
   {
    "duration": 46,
    "start_time": "2024-04-11T17:34:34.989Z"
   },
   {
    "duration": 179,
    "start_time": "2024-04-11T17:34:35.037Z"
   },
   {
    "duration": 648,
    "start_time": "2024-04-11T17:34:35.217Z"
   },
   {
    "duration": 13,
    "start_time": "2024-04-11T17:34:35.866Z"
   },
   {
    "duration": 35,
    "start_time": "2024-04-11T17:34:35.880Z"
   },
   {
    "duration": 34,
    "start_time": "2024-04-11T17:34:35.916Z"
   },
   {
    "duration": 34,
    "start_time": "2024-04-11T17:34:35.951Z"
   },
   {
    "duration": 202,
    "start_time": "2024-04-11T17:34:35.987Z"
   },
   {
    "duration": 38,
    "start_time": "2024-04-11T17:34:36.191Z"
   },
   {
    "duration": 25,
    "start_time": "2024-04-11T17:34:36.231Z"
   },
   {
    "duration": 181,
    "start_time": "2024-04-11T17:34:36.258Z"
   },
   {
    "duration": 57,
    "start_time": "2024-04-12T05:31:20.706Z"
   },
   {
    "duration": 832,
    "start_time": "2024-04-12T05:31:27.422Z"
   },
   {
    "duration": 287,
    "start_time": "2024-04-12T05:31:28.257Z"
   },
   {
    "duration": 32,
    "start_time": "2024-04-12T05:31:28.546Z"
   },
   {
    "duration": 17,
    "start_time": "2024-04-12T05:31:28.580Z"
   },
   {
    "duration": 89,
    "start_time": "2024-04-12T05:31:28.600Z"
   },
   {
    "duration": 2252,
    "start_time": "2024-04-12T05:31:28.690Z"
   },
   {
    "duration": 4,
    "start_time": "2024-04-12T05:31:30.943Z"
   },
   {
    "duration": 104,
    "start_time": "2024-04-12T05:31:30.949Z"
   },
   {
    "duration": 59,
    "start_time": "2024-04-12T05:31:31.055Z"
   },
   {
    "duration": 80,
    "start_time": "2024-04-12T05:31:31.116Z"
   },
   {
    "duration": 60,
    "start_time": "2024-04-12T05:31:31.198Z"
   },
   {
    "duration": 84,
    "start_time": "2024-04-12T05:31:31.260Z"
   },
   {
    "duration": 70,
    "start_time": "2024-04-12T05:31:31.345Z"
   },
   {
    "duration": 89,
    "start_time": "2024-04-12T05:31:31.419Z"
   },
   {
    "duration": 57,
    "start_time": "2024-04-12T05:31:31.509Z"
   },
   {
    "duration": 103,
    "start_time": "2024-04-12T05:31:31.568Z"
   },
   {
    "duration": 105,
    "start_time": "2024-04-12T05:31:31.673Z"
   },
   {
    "duration": 40,
    "start_time": "2024-04-12T05:31:31.780Z"
   },
   {
    "duration": 24,
    "start_time": "2024-04-12T05:31:31.822Z"
   },
   {
    "duration": 28,
    "start_time": "2024-04-12T05:31:31.849Z"
   },
   {
    "duration": 78,
    "start_time": "2024-04-12T05:31:31.879Z"
   },
   {
    "duration": 22,
    "start_time": "2024-04-12T05:31:31.958Z"
   },
   {
    "duration": 368,
    "start_time": "2024-04-12T05:31:31.982Z"
   },
   {
    "duration": 5,
    "start_time": "2024-04-12T05:31:32.351Z"
   },
   {
    "duration": 33,
    "start_time": "2024-04-12T05:31:32.357Z"
   },
   {
    "duration": 9,
    "start_time": "2024-04-12T05:31:32.391Z"
   },
   {
    "duration": 211,
    "start_time": "2024-04-12T05:31:32.402Z"
   },
   {
    "duration": 9,
    "start_time": "2024-04-12T05:31:32.615Z"
   },
   {
    "duration": 274,
    "start_time": "2024-04-12T05:31:32.626Z"
   },
   {
    "duration": 9,
    "start_time": "2024-04-12T05:31:32.902Z"
   },
   {
    "duration": 218,
    "start_time": "2024-04-12T05:31:32.913Z"
   },
   {
    "duration": 9,
    "start_time": "2024-04-12T05:31:33.133Z"
   },
   {
    "duration": 227,
    "start_time": "2024-04-12T05:31:33.143Z"
   },
   {
    "duration": 8,
    "start_time": "2024-04-12T05:31:33.372Z"
   },
   {
    "duration": 213,
    "start_time": "2024-04-12T05:31:33.381Z"
   },
   {
    "duration": 11,
    "start_time": "2024-04-12T05:31:33.596Z"
   },
   {
    "duration": 127,
    "start_time": "2024-04-12T05:31:33.609Z"
   },
   {
    "duration": 5,
    "start_time": "2024-04-12T05:31:33.738Z"
   },
   {
    "duration": 10,
    "start_time": "2024-04-12T05:31:33.745Z"
   },
   {
    "duration": 199,
    "start_time": "2024-04-12T05:31:33.772Z"
   },
   {
    "duration": 8,
    "start_time": "2024-04-12T05:31:33.976Z"
   },
   {
    "duration": 166,
    "start_time": "2024-04-12T05:31:33.986Z"
   },
   {
    "duration": 8,
    "start_time": "2024-04-12T05:31:34.154Z"
   },
   {
    "duration": 170,
    "start_time": "2024-04-12T05:31:34.173Z"
   },
   {
    "duration": 10,
    "start_time": "2024-04-12T05:31:34.345Z"
   },
   {
    "duration": 194,
    "start_time": "2024-04-12T05:31:34.357Z"
   },
   {
    "duration": 19,
    "start_time": "2024-04-12T05:31:34.553Z"
   },
   {
    "duration": 10,
    "start_time": "2024-04-12T05:31:34.574Z"
   },
   {
    "duration": 199,
    "start_time": "2024-04-12T05:31:34.586Z"
   },
   {
    "duration": 174,
    "start_time": "2024-04-12T05:31:34.787Z"
   },
   {
    "duration": 14,
    "start_time": "2024-04-12T05:31:34.963Z"
   },
   {
    "duration": 273,
    "start_time": "2024-04-12T05:31:34.979Z"
   },
   {
    "duration": 410,
    "start_time": "2024-04-12T05:31:35.254Z"
   },
   {
    "duration": 144,
    "start_time": "2024-04-12T05:31:35.666Z"
   },
   {
    "duration": 223,
    "start_time": "2024-04-12T05:31:35.812Z"
   },
   {
    "duration": 228,
    "start_time": "2024-04-12T05:31:36.037Z"
   },
   {
    "duration": 213,
    "start_time": "2024-04-12T05:31:36.266Z"
   },
   {
    "duration": 205,
    "start_time": "2024-04-12T05:31:36.481Z"
   },
   {
    "duration": 33,
    "start_time": "2024-04-12T05:31:36.688Z"
   },
   {
    "duration": 205,
    "start_time": "2024-04-12T05:31:36.722Z"
   },
   {
    "duration": 767,
    "start_time": "2024-04-12T05:31:36.929Z"
   },
   {
    "duration": 15,
    "start_time": "2024-04-12T05:31:37.697Z"
   },
   {
    "duration": 13,
    "start_time": "2024-04-12T05:31:37.714Z"
   },
   {
    "duration": 21,
    "start_time": "2024-04-12T05:31:37.729Z"
   },
   {
    "duration": 37,
    "start_time": "2024-04-12T05:31:37.751Z"
   },
   {
    "duration": 209,
    "start_time": "2024-04-12T05:31:37.790Z"
   },
   {
    "duration": 29,
    "start_time": "2024-04-12T05:31:38.001Z"
   },
   {
    "duration": 42,
    "start_time": "2024-04-12T05:31:38.032Z"
   },
   {
    "duration": 183,
    "start_time": "2024-04-12T05:31:38.076Z"
   },
   {
    "duration": 3,
    "start_time": "2024-04-12T05:31:45.486Z"
   },
   {
    "duration": 4,
    "start_time": "2024-04-12T05:31:50.440Z"
   },
   {
    "duration": 4,
    "start_time": "2024-04-12T06:12:44.555Z"
   },
   {
    "duration": 8,
    "start_time": "2024-04-12T06:13:05.694Z"
   },
   {
    "duration": 789,
    "start_time": "2024-04-12T06:13:12.011Z"
   },
   {
    "duration": 119,
    "start_time": "2024-04-12T06:13:12.803Z"
   },
   {
    "duration": 31,
    "start_time": "2024-04-12T06:13:12.924Z"
   },
   {
    "duration": 33,
    "start_time": "2024-04-12T06:13:12.957Z"
   },
   {
    "duration": 92,
    "start_time": "2024-04-12T06:13:12.994Z"
   },
   {
    "duration": 2535,
    "start_time": "2024-04-12T06:13:13.094Z"
   },
   {
    "duration": 4,
    "start_time": "2024-04-12T06:13:15.631Z"
   },
   {
    "duration": 30,
    "start_time": "2024-04-12T06:13:15.637Z"
   },
   {
    "duration": 34,
    "start_time": "2024-04-12T06:13:15.669Z"
   },
   {
    "duration": 10,
    "start_time": "2024-04-12T06:13:15.705Z"
   },
   {
    "duration": 8,
    "start_time": "2024-04-12T06:13:15.717Z"
   },
   {
    "duration": 22,
    "start_time": "2024-04-12T06:13:15.726Z"
   },
   {
    "duration": 13,
    "start_time": "2024-04-12T06:13:15.750Z"
   },
   {
    "duration": 54,
    "start_time": "2024-04-12T06:13:15.766Z"
   },
   {
    "duration": 22,
    "start_time": "2024-04-12T06:13:15.822Z"
   },
   {
    "duration": 36,
    "start_time": "2024-04-12T06:13:15.846Z"
   },
   {
    "duration": 75,
    "start_time": "2024-04-12T06:13:15.884Z"
   },
   {
    "duration": 58,
    "start_time": "2024-04-12T06:13:15.960Z"
   },
   {
    "duration": 12,
    "start_time": "2024-04-12T06:13:16.019Z"
   },
   {
    "duration": 5,
    "start_time": "2024-04-12T06:13:16.032Z"
   },
   {
    "duration": 30,
    "start_time": "2024-04-12T06:13:16.039Z"
   },
   {
    "duration": 18,
    "start_time": "2024-04-12T06:13:16.071Z"
   },
   {
    "duration": 378,
    "start_time": "2024-04-12T06:13:16.090Z"
   },
   {
    "duration": 15,
    "start_time": "2024-04-12T06:13:16.470Z"
   },
   {
    "duration": 28,
    "start_time": "2024-04-12T06:13:16.495Z"
   },
   {
    "duration": 5,
    "start_time": "2024-04-12T06:13:16.525Z"
   },
   {
    "duration": 12,
    "start_time": "2024-04-12T06:13:16.532Z"
   },
   {
    "duration": 247,
    "start_time": "2024-04-12T06:13:16.545Z"
   },
   {
    "duration": 26,
    "start_time": "2024-04-12T06:13:16.794Z"
   },
   {
    "duration": 339,
    "start_time": "2024-04-12T06:13:16.822Z"
   },
   {
    "duration": 25,
    "start_time": "2024-04-12T06:13:17.162Z"
   },
   {
    "duration": 233,
    "start_time": "2024-04-12T06:13:17.189Z"
   },
   {
    "duration": 9,
    "start_time": "2024-04-12T06:13:17.424Z"
   },
   {
    "duration": 230,
    "start_time": "2024-04-12T06:13:17.435Z"
   },
   {
    "duration": 30,
    "start_time": "2024-04-12T06:13:17.667Z"
   },
   {
    "duration": 230,
    "start_time": "2024-04-12T06:13:17.700Z"
   },
   {
    "duration": 10,
    "start_time": "2024-04-12T06:13:17.931Z"
   },
   {
    "duration": 150,
    "start_time": "2024-04-12T06:13:17.942Z"
   },
   {
    "duration": 13,
    "start_time": "2024-04-12T06:13:18.094Z"
   },
   {
    "duration": 13,
    "start_time": "2024-04-12T06:13:18.109Z"
   },
   {
    "duration": 260,
    "start_time": "2024-04-12T06:13:18.128Z"
   },
   {
    "duration": 10,
    "start_time": "2024-04-12T06:13:18.393Z"
   },
   {
    "duration": 163,
    "start_time": "2024-04-12T06:13:18.405Z"
   },
   {
    "duration": 15,
    "start_time": "2024-04-12T06:13:18.569Z"
   },
   {
    "duration": 201,
    "start_time": "2024-04-12T06:13:18.588Z"
   },
   {
    "duration": 11,
    "start_time": "2024-04-12T06:13:18.792Z"
   },
   {
    "duration": 211,
    "start_time": "2024-04-12T06:13:18.805Z"
   },
   {
    "duration": 10,
    "start_time": "2024-04-12T06:13:19.018Z"
   },
   {
    "duration": 10,
    "start_time": "2024-04-12T06:13:19.030Z"
   },
   {
    "duration": 228,
    "start_time": "2024-04-12T06:13:19.042Z"
   },
   {
    "duration": 195,
    "start_time": "2024-04-12T06:13:19.274Z"
   },
   {
    "duration": 21,
    "start_time": "2024-04-12T06:13:19.472Z"
   },
   {
    "duration": 296,
    "start_time": "2024-04-12T06:13:19.496Z"
   },
   {
    "duration": 506,
    "start_time": "2024-04-12T06:13:19.794Z"
   },
   {
    "duration": 154,
    "start_time": "2024-04-12T06:13:20.302Z"
   },
   {
    "duration": 257,
    "start_time": "2024-04-12T06:13:20.457Z"
   },
   {
    "duration": 223,
    "start_time": "2024-04-12T06:13:20.716Z"
   },
   {
    "duration": 224,
    "start_time": "2024-04-12T06:13:20.941Z"
   },
   {
    "duration": 230,
    "start_time": "2024-04-12T06:13:21.177Z"
   },
   {
    "duration": 45,
    "start_time": "2024-04-12T06:13:21.409Z"
   },
   {
    "duration": 204,
    "start_time": "2024-04-12T06:13:21.456Z"
   },
   {
    "duration": 780,
    "start_time": "2024-04-12T06:13:21.662Z"
   },
   {
    "duration": 15,
    "start_time": "2024-04-12T06:13:22.444Z"
   },
   {
    "duration": 19,
    "start_time": "2024-04-12T06:13:22.480Z"
   },
   {
    "duration": 12,
    "start_time": "2024-04-12T06:13:22.501Z"
   },
   {
    "duration": 36,
    "start_time": "2024-04-12T06:13:22.515Z"
   },
   {
    "duration": 256,
    "start_time": "2024-04-12T06:13:22.553Z"
   },
   {
    "duration": 30,
    "start_time": "2024-04-12T06:13:22.811Z"
   },
   {
    "duration": 50,
    "start_time": "2024-04-12T06:13:22.843Z"
   },
   {
    "duration": 196,
    "start_time": "2024-04-12T06:13:22.894Z"
   },
   {
    "duration": 102,
    "start_time": "2024-04-12T06:16:49.324Z"
   }
  ],
  "colab": {
   "provenance": []
  },
  "kernelspec": {
   "display_name": "Python 3 (ipykernel)",
   "language": "python",
   "name": "python3"
  },
  "language_info": {
   "codemirror_mode": {
    "name": "ipython",
    "version": 3
   },
   "file_extension": ".py",
   "mimetype": "text/x-python",
   "name": "python",
   "nbconvert_exporter": "python",
   "pygments_lexer": "ipython3",
   "version": "3.11.5"
  },
  "toc": {
   "base_numbering": 1,
   "nav_menu": {},
   "number_sections": true,
   "sideBar": true,
   "skip_h1_title": true,
   "title_cell": "Table of Contents",
   "title_sidebar": "Contents",
   "toc_cell": false,
   "toc_position": {},
   "toc_section_display": true,
   "toc_window_display": false
  }
 },
 "nbformat": 4,
 "nbformat_minor": 1
}

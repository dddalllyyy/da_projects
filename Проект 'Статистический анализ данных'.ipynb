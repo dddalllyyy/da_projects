{
 "cells": [
  {
   "cell_type": "markdown",
   "id": "0da30019",
   "metadata": {},
   "source": [
    "# Статистический анализ данных компании аренды самокатов \"GoFast\""
   ]
  },
  {
   "cell_type": "code",
   "execution_count": 1,
   "id": "72576667",
   "metadata": {},
   "outputs": [],
   "source": [
    "import pandas as pd\n",
    "import matplotlib.pyplot as plt\n",
    "from scipy import stats as st\n",
    "from scipy.stats import binom\n",
    "import numpy as np"
   ]
  },
  {
   "cell_type": "markdown",
   "id": "0614bee4",
   "metadata": {},
   "source": [
    "ТЗ проекта:\n",
    "- загрузить данные датаестов\n",
    "- предобработка данных датасетов, проверка дубликатов, имен столбцов, форматов\n",
    "- описать и визуализировать общую информацию о пользователях и поездках\n",
    "- объединить датафреймы в отдельный датафрейм, визуализировать информацию о расстоянии и времени поездок\n",
    "- создать датафрейм с агрегированными данными о поездках, найти суммарное расстояние, количество поездок и суммарное время для каждого пользователя за каждый месяц\n",
    "-  добавить столбец с помесячной выручкой, которую принёс каждый пользователь\n",
    "- проверить 4 гипотезы\n",
    "- установить распределения"
   ]
  },
  {
   "cell_type": "markdown",
   "id": "c80fd090",
   "metadata": {},
   "source": [
    "Содержание датасетов:\n",
    "1. users_go.csv\n",
    "- `user_id` - уникальный идентификатор пользователя\n",
    "- `name` - имя пользователя\n",
    "- `age` - возраст\n",
    "- `city` - город\n",
    "- `subscription_type` - тип подписки (free, ultra)\n",
    "<br>\n",
    "2. rides_go.csv\n",
    "- `user_id` - уникальный идентификатор пользователя\n",
    "- `distance` - расстояние, которое пользователь проехал в текущей сессии (в метрах)\n",
    "- `duration` - продолжительность сессии (в минутах) \n",
    "- `date` - дата совершения поездки\n",
    "<br>\n",
    "3. subscriptions_go.csv\n",
    "- `subscription_type` - тип подписки\n",
    "- `minute_price` - стоимость одной минуты поездки по данной подписке\n",
    "- `start_ride_price` - стоимость начала поездки\n",
    "- `subscription_fee` - стоимость ежемесячного платежа"
   ]
  },
  {
   "cell_type": "markdown",
   "id": "c42cbe00",
   "metadata": {},
   "source": [
    "## Шаг 1. Загрузка данных"
   ]
  },
  {
   "cell_type": "code",
   "execution_count": 2,
   "id": "eff9f206",
   "metadata": {},
   "outputs": [
    {
     "data": {
      "text/html": [
       "<div>\n",
       "<style scoped>\n",
       "    .dataframe tbody tr th:only-of-type {\n",
       "        vertical-align: middle;\n",
       "    }\n",
       "\n",
       "    .dataframe tbody tr th {\n",
       "        vertical-align: top;\n",
       "    }\n",
       "\n",
       "    .dataframe thead th {\n",
       "        text-align: right;\n",
       "    }\n",
       "</style>\n",
       "<table border=\"1\" class=\"dataframe\">\n",
       "  <thead>\n",
       "    <tr style=\"text-align: right;\">\n",
       "      <th></th>\n",
       "      <th>user_id</th>\n",
       "      <th>name</th>\n",
       "      <th>age</th>\n",
       "      <th>city</th>\n",
       "      <th>subscription_type</th>\n",
       "    </tr>\n",
       "  </thead>\n",
       "  <tbody>\n",
       "    <tr>\n",
       "      <th>0</th>\n",
       "      <td>1</td>\n",
       "      <td>Кира</td>\n",
       "      <td>22</td>\n",
       "      <td>Тюмень</td>\n",
       "      <td>ultra</td>\n",
       "    </tr>\n",
       "    <tr>\n",
       "      <th>1</th>\n",
       "      <td>2</td>\n",
       "      <td>Станислав</td>\n",
       "      <td>31</td>\n",
       "      <td>Омск</td>\n",
       "      <td>ultra</td>\n",
       "    </tr>\n",
       "    <tr>\n",
       "      <th>2</th>\n",
       "      <td>3</td>\n",
       "      <td>Алексей</td>\n",
       "      <td>20</td>\n",
       "      <td>Москва</td>\n",
       "      <td>ultra</td>\n",
       "    </tr>\n",
       "    <tr>\n",
       "      <th>3</th>\n",
       "      <td>4</td>\n",
       "      <td>Константин</td>\n",
       "      <td>26</td>\n",
       "      <td>Ростов-на-Дону</td>\n",
       "      <td>ultra</td>\n",
       "    </tr>\n",
       "    <tr>\n",
       "      <th>4</th>\n",
       "      <td>5</td>\n",
       "      <td>Адель</td>\n",
       "      <td>28</td>\n",
       "      <td>Омск</td>\n",
       "      <td>ultra</td>\n",
       "    </tr>\n",
       "  </tbody>\n",
       "</table>\n",
       "</div>"
      ],
      "text/plain": [
       "   user_id        name  age            city subscription_type\n",
       "0        1        Кира   22          Тюмень             ultra\n",
       "1        2   Станислав   31            Омск             ultra\n",
       "2        3     Алексей   20          Москва             ultra\n",
       "3        4  Константин   26  Ростов-на-Дону             ultra\n",
       "4        5       Адель   28            Омск             ultra"
      ]
     },
     "metadata": {},
     "output_type": "display_data"
    },
    {
     "data": {
      "text/html": [
       "<div>\n",
       "<style scoped>\n",
       "    .dataframe tbody tr th:only-of-type {\n",
       "        vertical-align: middle;\n",
       "    }\n",
       "\n",
       "    .dataframe tbody tr th {\n",
       "        vertical-align: top;\n",
       "    }\n",
       "\n",
       "    .dataframe thead th {\n",
       "        text-align: right;\n",
       "    }\n",
       "</style>\n",
       "<table border=\"1\" class=\"dataframe\">\n",
       "  <thead>\n",
       "    <tr style=\"text-align: right;\">\n",
       "      <th></th>\n",
       "      <th>user_id</th>\n",
       "      <th>distance</th>\n",
       "      <th>duration</th>\n",
       "      <th>date</th>\n",
       "    </tr>\n",
       "  </thead>\n",
       "  <tbody>\n",
       "    <tr>\n",
       "      <th>0</th>\n",
       "      <td>1</td>\n",
       "      <td>4409.919140</td>\n",
       "      <td>25.599769</td>\n",
       "      <td>2021-01-01</td>\n",
       "    </tr>\n",
       "    <tr>\n",
       "      <th>1</th>\n",
       "      <td>1</td>\n",
       "      <td>2617.592153</td>\n",
       "      <td>15.816871</td>\n",
       "      <td>2021-01-18</td>\n",
       "    </tr>\n",
       "    <tr>\n",
       "      <th>2</th>\n",
       "      <td>1</td>\n",
       "      <td>754.159807</td>\n",
       "      <td>6.232113</td>\n",
       "      <td>2021-04-20</td>\n",
       "    </tr>\n",
       "    <tr>\n",
       "      <th>3</th>\n",
       "      <td>1</td>\n",
       "      <td>2694.783254</td>\n",
       "      <td>18.511000</td>\n",
       "      <td>2021-08-11</td>\n",
       "    </tr>\n",
       "    <tr>\n",
       "      <th>4</th>\n",
       "      <td>1</td>\n",
       "      <td>4028.687306</td>\n",
       "      <td>26.265803</td>\n",
       "      <td>2021-08-28</td>\n",
       "    </tr>\n",
       "  </tbody>\n",
       "</table>\n",
       "</div>"
      ],
      "text/plain": [
       "   user_id     distance   duration        date\n",
       "0        1  4409.919140  25.599769  2021-01-01\n",
       "1        1  2617.592153  15.816871  2021-01-18\n",
       "2        1   754.159807   6.232113  2021-04-20\n",
       "3        1  2694.783254  18.511000  2021-08-11\n",
       "4        1  4028.687306  26.265803  2021-08-28"
      ]
     },
     "metadata": {},
     "output_type": "display_data"
    },
    {
     "data": {
      "text/html": [
       "<div>\n",
       "<style scoped>\n",
       "    .dataframe tbody tr th:only-of-type {\n",
       "        vertical-align: middle;\n",
       "    }\n",
       "\n",
       "    .dataframe tbody tr th {\n",
       "        vertical-align: top;\n",
       "    }\n",
       "\n",
       "    .dataframe thead th {\n",
       "        text-align: right;\n",
       "    }\n",
       "</style>\n",
       "<table border=\"1\" class=\"dataframe\">\n",
       "  <thead>\n",
       "    <tr style=\"text-align: right;\">\n",
       "      <th></th>\n",
       "      <th>subscription_type</th>\n",
       "      <th>minute_price</th>\n",
       "      <th>start_ride_price</th>\n",
       "      <th>subscription_fee</th>\n",
       "    </tr>\n",
       "  </thead>\n",
       "  <tbody>\n",
       "    <tr>\n",
       "      <th>0</th>\n",
       "      <td>free</td>\n",
       "      <td>8</td>\n",
       "      <td>50</td>\n",
       "      <td>0</td>\n",
       "    </tr>\n",
       "    <tr>\n",
       "      <th>1</th>\n",
       "      <td>ultra</td>\n",
       "      <td>6</td>\n",
       "      <td>0</td>\n",
       "      <td>199</td>\n",
       "    </tr>\n",
       "  </tbody>\n",
       "</table>\n",
       "</div>"
      ],
      "text/plain": [
       "  subscription_type  minute_price  start_ride_price  subscription_fee\n",
       "0              free             8                50                 0\n",
       "1             ultra             6                 0               199"
      ]
     },
     "metadata": {},
     "output_type": "display_data"
    }
   ],
   "source": [
    "users = pd.read_csv('/datasets/users_go.csv')\n",
    "rides = pd.read_csv('/datasets/rides_go.csv')\n",
    "subscriptions = pd.read_csv('/datasets/subscriptions_go.csv')\n",
    "display(users.head())\n",
    "display(rides.head())\n",
    "display(subscriptions.head())"
   ]
  },
  {
   "cell_type": "code",
   "execution_count": 3,
   "id": "417115c6",
   "metadata": {},
   "outputs": [
    {
     "name": "stdout",
     "output_type": "stream",
     "text": [
      "<class 'pandas.core.frame.DataFrame'>\n",
      "RangeIndex: 1565 entries, 0 to 1564\n",
      "Data columns (total 5 columns):\n",
      " #   Column             Non-Null Count  Dtype \n",
      "---  ------             --------------  ----- \n",
      " 0   user_id            1565 non-null   int64 \n",
      " 1   name               1565 non-null   object\n",
      " 2   age                1565 non-null   int64 \n",
      " 3   city               1565 non-null   object\n",
      " 4   subscription_type  1565 non-null   object\n",
      "dtypes: int64(2), object(3)\n",
      "memory usage: 61.3+ KB\n"
     ]
    },
    {
     "data": {
      "text/plain": [
       "None"
      ]
     },
     "metadata": {},
     "output_type": "display_data"
    },
    {
     "name": "stdout",
     "output_type": "stream",
     "text": [
      "\n",
      "<class 'pandas.core.frame.DataFrame'>\n",
      "RangeIndex: 18068 entries, 0 to 18067\n",
      "Data columns (total 4 columns):\n",
      " #   Column    Non-Null Count  Dtype  \n",
      "---  ------    --------------  -----  \n",
      " 0   user_id   18068 non-null  int64  \n",
      " 1   distance  18068 non-null  float64\n",
      " 2   duration  18068 non-null  float64\n",
      " 3   date      18068 non-null  object \n",
      "dtypes: float64(2), int64(1), object(1)\n",
      "memory usage: 564.8+ KB\n"
     ]
    },
    {
     "data": {
      "text/plain": [
       "None"
      ]
     },
     "metadata": {},
     "output_type": "display_data"
    },
    {
     "name": "stdout",
     "output_type": "stream",
     "text": [
      "\n",
      "<class 'pandas.core.frame.DataFrame'>\n",
      "RangeIndex: 2 entries, 0 to 1\n",
      "Data columns (total 4 columns):\n",
      " #   Column             Non-Null Count  Dtype \n",
      "---  ------             --------------  ----- \n",
      " 0   subscription_type  2 non-null      object\n",
      " 1   minute_price       2 non-null      int64 \n",
      " 2   start_ride_price   2 non-null      int64 \n",
      " 3   subscription_fee   2 non-null      int64 \n",
      "dtypes: int64(3), object(1)\n",
      "memory usage: 192.0+ bytes\n"
     ]
    },
    {
     "data": {
      "text/plain": [
       "None"
      ]
     },
     "metadata": {},
     "output_type": "display_data"
    }
   ],
   "source": [
    "display(users.info())\n",
    "print()\n",
    "display(rides.info())\n",
    "print()\n",
    "display(subscriptions.info())"
   ]
  },
  {
   "cell_type": "markdown",
   "id": "94c05424",
   "metadata": {},
   "source": [
    "Из общей информации видно, что столбцы в snake_case, типы данных у столбцов правильные, кроме столбца date, пропусков нет. Теперь нужно посмотреть наличие дубликатов"
   ]
  },
  {
   "cell_type": "code",
   "execution_count": 4,
   "id": "fae79eef",
   "metadata": {},
   "outputs": [
    {
     "name": "stdout",
     "output_type": "stream",
     "text": [
      "31\n",
      "0\n"
     ]
    }
   ],
   "source": [
    "print(users.duplicated().sum())\n",
    "print(rides.duplicated().sum())"
   ]
  },
  {
   "cell_type": "code",
   "execution_count": 5,
   "id": "dc9944a1",
   "metadata": {},
   "outputs": [],
   "source": [
    "shape_users = users.shape[0]#для сравнения после предобработки"
   ]
  },
  {
   "cell_type": "markdown",
   "id": "5200e275",
   "metadata": {},
   "source": [
    "**Изучив информацию о датафреймах имеем:** users - 1565 строк, пропусков нет, rides - 18068 строк, пропусков нет, subscriptions - 2 строки, пропусков нет. Нужно изменить формат столбца date, отработать дубликаты и можно приступать к анализу"
   ]
  },
  {
   "cell_type": "markdown",
   "id": "e95ebca7",
   "metadata": {},
   "source": [
    "## Шаг 2. Предобработка данных"
   ]
  },
  {
   "cell_type": "code",
   "execution_count": 6,
   "id": "af6d202c",
   "metadata": {},
   "outputs": [
    {
     "data": {
      "text/html": [
       "<div>\n",
       "<style scoped>\n",
       "    .dataframe tbody tr th:only-of-type {\n",
       "        vertical-align: middle;\n",
       "    }\n",
       "\n",
       "    .dataframe tbody tr th {\n",
       "        vertical-align: top;\n",
       "    }\n",
       "\n",
       "    .dataframe thead th {\n",
       "        text-align: right;\n",
       "    }\n",
       "</style>\n",
       "<table border=\"1\" class=\"dataframe\">\n",
       "  <thead>\n",
       "    <tr style=\"text-align: right;\">\n",
       "      <th></th>\n",
       "      <th>user_id</th>\n",
       "      <th>distance</th>\n",
       "      <th>duration</th>\n",
       "      <th>date</th>\n",
       "    </tr>\n",
       "  </thead>\n",
       "  <tbody>\n",
       "    <tr>\n",
       "      <th>0</th>\n",
       "      <td>1</td>\n",
       "      <td>4409.919140</td>\n",
       "      <td>25.599769</td>\n",
       "      <td>2021-01-01</td>\n",
       "    </tr>\n",
       "    <tr>\n",
       "      <th>1</th>\n",
       "      <td>1</td>\n",
       "      <td>2617.592153</td>\n",
       "      <td>15.816871</td>\n",
       "      <td>2021-01-18</td>\n",
       "    </tr>\n",
       "    <tr>\n",
       "      <th>2</th>\n",
       "      <td>1</td>\n",
       "      <td>754.159807</td>\n",
       "      <td>6.232113</td>\n",
       "      <td>2021-04-20</td>\n",
       "    </tr>\n",
       "    <tr>\n",
       "      <th>3</th>\n",
       "      <td>1</td>\n",
       "      <td>2694.783254</td>\n",
       "      <td>18.511000</td>\n",
       "      <td>2021-08-11</td>\n",
       "    </tr>\n",
       "    <tr>\n",
       "      <th>4</th>\n",
       "      <td>1</td>\n",
       "      <td>4028.687306</td>\n",
       "      <td>26.265803</td>\n",
       "      <td>2021-08-28</td>\n",
       "    </tr>\n",
       "  </tbody>\n",
       "</table>\n",
       "</div>"
      ],
      "text/plain": [
       "   user_id     distance   duration        date\n",
       "0        1  4409.919140  25.599769  2021-01-01\n",
       "1        1  2617.592153  15.816871  2021-01-18\n",
       "2        1   754.159807   6.232113  2021-04-20\n",
       "3        1  2694.783254  18.511000  2021-08-11\n",
       "4        1  4028.687306  26.265803  2021-08-28"
      ]
     },
     "execution_count": 6,
     "metadata": {},
     "output_type": "execute_result"
    }
   ],
   "source": [
    "rides.head()"
   ]
  },
  {
   "cell_type": "code",
   "execution_count": 7,
   "id": "d50b245e",
   "metadata": {},
   "outputs": [
    {
     "name": "stdout",
     "output_type": "stream",
     "text": [
      "<class 'pandas.core.frame.DataFrame'>\n",
      "RangeIndex: 18068 entries, 0 to 18067\n",
      "Data columns (total 5 columns):\n",
      " #   Column    Non-Null Count  Dtype         \n",
      "---  ------    --------------  -----         \n",
      " 0   user_id   18068 non-null  int64         \n",
      " 1   distance  18068 non-null  float64       \n",
      " 2   duration  18068 non-null  float64       \n",
      " 3   date      18068 non-null  datetime64[ns]\n",
      " 4   month     18068 non-null  int64         \n",
      "dtypes: datetime64[ns](1), float64(2), int64(2)\n",
      "memory usage: 705.9 KB\n"
     ]
    },
    {
     "data": {
      "text/html": [
       "<div>\n",
       "<style scoped>\n",
       "    .dataframe tbody tr th:only-of-type {\n",
       "        vertical-align: middle;\n",
       "    }\n",
       "\n",
       "    .dataframe tbody tr th {\n",
       "        vertical-align: top;\n",
       "    }\n",
       "\n",
       "    .dataframe thead th {\n",
       "        text-align: right;\n",
       "    }\n",
       "</style>\n",
       "<table border=\"1\" class=\"dataframe\">\n",
       "  <thead>\n",
       "    <tr style=\"text-align: right;\">\n",
       "      <th></th>\n",
       "      <th>user_id</th>\n",
       "      <th>distance</th>\n",
       "      <th>duration</th>\n",
       "      <th>date</th>\n",
       "      <th>month</th>\n",
       "    </tr>\n",
       "  </thead>\n",
       "  <tbody>\n",
       "    <tr>\n",
       "      <th>0</th>\n",
       "      <td>1</td>\n",
       "      <td>4409.919140</td>\n",
       "      <td>25.599769</td>\n",
       "      <td>2021-01-01</td>\n",
       "      <td>1</td>\n",
       "    </tr>\n",
       "    <tr>\n",
       "      <th>1</th>\n",
       "      <td>1</td>\n",
       "      <td>2617.592153</td>\n",
       "      <td>15.816871</td>\n",
       "      <td>2021-01-18</td>\n",
       "      <td>1</td>\n",
       "    </tr>\n",
       "    <tr>\n",
       "      <th>2</th>\n",
       "      <td>1</td>\n",
       "      <td>754.159807</td>\n",
       "      <td>6.232113</td>\n",
       "      <td>2021-04-20</td>\n",
       "      <td>4</td>\n",
       "    </tr>\n",
       "    <tr>\n",
       "      <th>3</th>\n",
       "      <td>1</td>\n",
       "      <td>2694.783254</td>\n",
       "      <td>18.511000</td>\n",
       "      <td>2021-08-11</td>\n",
       "      <td>8</td>\n",
       "    </tr>\n",
       "    <tr>\n",
       "      <th>4</th>\n",
       "      <td>1</td>\n",
       "      <td>4028.687306</td>\n",
       "      <td>26.265803</td>\n",
       "      <td>2021-08-28</td>\n",
       "      <td>8</td>\n",
       "    </tr>\n",
       "  </tbody>\n",
       "</table>\n",
       "</div>"
      ],
      "text/plain": [
       "   user_id     distance   duration       date  month\n",
       "0        1  4409.919140  25.599769 2021-01-01      1\n",
       "1        1  2617.592153  15.816871 2021-01-18      1\n",
       "2        1   754.159807   6.232113 2021-04-20      4\n",
       "3        1  2694.783254  18.511000 2021-08-11      8\n",
       "4        1  4028.687306  26.265803 2021-08-28      8"
      ]
     },
     "metadata": {},
     "output_type": "display_data"
    }
   ],
   "source": [
    "rides['date'] = pd.to_datetime(rides['date'], format='%Y-%m-%d')\n",
    "rides['month'] = pd.DatetimeIndex(rides['date']).month #добавляем столбец с месяцем\n",
    "rides.info()\n",
    "display(rides.head())"
   ]
  },
  {
   "cell_type": "code",
   "execution_count": 8,
   "id": "57435b3e",
   "metadata": {},
   "outputs": [
    {
     "data": {
      "text/plain": [
       "0"
      ]
     },
     "execution_count": 8,
     "metadata": {},
     "output_type": "execute_result"
    }
   ],
   "source": [
    "users.drop_duplicates(inplace=True)\n",
    "users.duplicated().sum()"
   ]
  },
  {
   "cell_type": "code",
   "execution_count": 9,
   "id": "890879f9",
   "metadata": {},
   "outputs": [
    {
     "name": "stdout",
     "output_type": "stream",
     "text": [
      "1565 1534\n"
     ]
    }
   ],
   "source": [
    "shape_users_final = users.shape[0]\n",
    "print(shape_users, shape_users_final)"
   ]
  },
  {
   "cell_type": "markdown",
   "id": "da6b8bec",
   "metadata": {},
   "source": [
    "Проведена предобработка данных. Изначально, данные были без пропусков, а дубликаты были только в одном датафрейме. После предобработки сравнили количество строк, для того, чтобы узнать, сколько строк удалилось. Для актуального анализа, от изначального датафрейма должно остаться не менее 90% данных - с этим все в порядке. Добавил столбец с месяцем, и перевел тип данных столбца date.\n",
    "**Можно приступать к анализу данных**"
   ]
  },
  {
   "cell_type": "markdown",
   "id": "212593c7",
   "metadata": {},
   "source": [
    "## Шаг 3. Исследовательский анализ данных"
   ]
  },
  {
   "cell_type": "markdown",
   "id": "7d19236c",
   "metadata": {},
   "source": [
    "### Частота встречаемости городов:"
   ]
  },
  {
   "cell_type": "markdown",
   "id": "b7742a7a",
   "metadata": {},
   "source": [
    "Данные о городе расположенны в датафрейме users"
   ]
  },
  {
   "cell_type": "code",
   "execution_count": 10,
   "id": "c1860c1e",
   "metadata": {},
   "outputs": [
    {
     "data": {
      "text/plain": [
       "Пятигорск         219\n",
       "Екатеринбург      204\n",
       "Ростов-на-Дону    198\n",
       "Краснодар         193\n",
       "Сочи              189\n",
       "Омск              183\n",
       "Тюмень            180\n",
       "Москва            168\n",
       "Name: city, dtype: int64"
      ]
     },
     "execution_count": 10,
     "metadata": {},
     "output_type": "execute_result"
    }
   ],
   "source": [
    "users['city'].value_counts() #количество пользователей разных городов в числовом формате:"
   ]
  },
  {
   "cell_type": "code",
   "execution_count": 11,
   "id": "1229b385",
   "metadata": {},
   "outputs": [
    {
     "data": {
      "image/png": "[encoded data removed]",
      "text/plain": [
       "<Figure size 576x576 with 1 Axes>"
      ]
     },
     "metadata": {
      "needs_background": "light"
     },
     "output_type": "display_data"
    }
   ],
   "source": [
    "users['city'].value_counts().plot(kind='bar',\n",
    "                                  figsize=(8, 8),\n",
    "                                  title='Частота встречаемости городов',\n",
    "                                  grid=True\n",
    "                                 )\n",
    "plt.ylabel('Количество пользователей из города')\n",
    "plt.show()"
   ]
  },
  {
   "cell_type": "markdown",
   "id": "43a1218f",
   "metadata": {},
   "source": [
    "Визуализировав колонку **'city'** мы видим, что большинство пользователей живут в Пятигорске, а меньшинство - в Москве. Возможно, в столицу компания пришла недавно. Остальные города распределенны примерно одинаково в процентном соотношении"
   ]
  },
  {
   "cell_type": "markdown",
   "id": "0c7b1320",
   "metadata": {},
   "source": [
    "### Соотношение пользователей с подпиской и без подписки"
   ]
  },
  {
   "cell_type": "markdown",
   "id": "9c4c77a6",
   "metadata": {},
   "source": [
    "Данные о статусе подписки находятся в датафрейме users"
   ]
  },
  {
   "cell_type": "code",
   "execution_count": 12,
   "id": "5a24c7ae",
   "metadata": {},
   "outputs": [
    {
     "data": {
      "text/plain": [
       "free     835\n",
       "ultra    699\n",
       "Name: subscription_type, dtype: int64"
      ]
     },
     "execution_count": 12,
     "metadata": {},
     "output_type": "execute_result"
    }
   ],
   "source": [
    "users['subscription_type'].value_counts()"
   ]
  },
  {
   "cell_type": "code",
   "execution_count": 13,
   "id": "d6f67022",
   "metadata": {},
   "outputs": [
    {
     "data": {
      "image/png": "[encoded data removed]",
      "text/plain": [
       "<Figure size 576x576 with 1 Axes>"
      ]
     },
     "metadata": {},
     "output_type": "display_data"
    }
   ],
   "source": [
    "users['subscription_type'].value_counts().plot(kind='pie',\n",
    "                                  autopct='%1.0f%%',\n",
    "                                  figsize=(8, 8),\n",
    "                                  legend=True,\n",
    "                                  title='Соотношение пользователей с подпиской и без'\n",
    "                                 )\n",
    "plt.show()"
   ]
  },
  {
   "cell_type": "markdown",
   "id": "cacd4aab",
   "metadata": {},
   "source": [
    "Визуализировав столбец с данными о типе подписки, можно сделать вывод, что большинство пользователей пользуются бесплатной подпиской, но не подавляющее большинство - пользователей с платной подпиской 46%"
   ]
  },
  {
   "cell_type": "markdown",
   "id": "1bdbb4ec",
   "metadata": {},
   "source": [
    "### Возраст пользователей"
   ]
  },
  {
   "cell_type": "markdown",
   "id": "19969da9",
   "metadata": {},
   "source": [
    "Данные о возрасте пользователей находятся так же в датафрейме users"
   ]
  },
  {
   "cell_type": "code",
   "execution_count": 14,
   "id": "6366fc2e",
   "metadata": {},
   "outputs": [
    {
     "data": {
      "text/plain": [
       "12"
      ]
     },
     "metadata": {},
     "output_type": "display_data"
    },
    {
     "data": {
      "text/plain": [
       "43"
      ]
     },
     "metadata": {},
     "output_type": "display_data"
    }
   ],
   "source": [
    "display(users['age'].min())\n",
    "display(users['age'].max())"
   ]
  },
  {
   "cell_type": "code",
   "execution_count": 15,
   "id": "ed491e52",
   "metadata": {},
   "outputs": [
    {
     "data": {
      "image/png": "[encoded data removed]",
      "text/plain": [
       "<Figure size 576x432 with 1 Axes>"
      ]
     },
     "metadata": {
      "needs_background": "light"
     },
     "output_type": "display_data"
    }
   ],
   "source": [
    "users['age'].hist(range=(12, 43), bins=31, figsize=(8, 6), legend=True, grid=True) \n",
    "#количество корзин: возраст максимальный - минимальный, чтобы для каждого года была своя правдивая статистика\n",
    "plt.title('Распределение пользователей по возрасту')\n",
    "plt.xlabel(\"Возраст\")\n",
    "plt.ylabel(\"Количество пользователей\")\n",
    "plt.show()"
   ]
  },
  {
   "cell_type": "markdown",
   "id": "82609f81",
   "metadata": {},
   "source": [
    "Самым младшим пользователям проката самокатов - 12 лет, а старшим - 43. Самый популярный возраст - 25. В основном прокатом самокатов пользуются люди 22-28 лет"
   ]
  },
  {
   "cell_type": "markdown",
   "id": "e59dfdd3",
   "metadata": {},
   "source": [
    "### Расстояние, которое пользователь преодолел за одну поездку"
   ]
  },
  {
   "cell_type": "markdown",
   "id": "6c11473b",
   "metadata": {},
   "source": [
    "Информация о расстоянии поездки находится в датафрейме rides, столбец - distance"
   ]
  },
  {
   "cell_type": "code",
   "execution_count": 16,
   "id": "7fae4bcb",
   "metadata": {},
   "outputs": [
    {
     "data": {
      "image/png": "[encoded data removed]",
      "text/plain": [
       "<Figure size 576x432 with 1 Axes>"
      ]
     },
     "metadata": {
      "needs_background": "light"
     },
     "output_type": "display_data"
    },
    {
     "data": {
      "text/plain": [
       "<function matplotlib.pyplot.show(close=None, block=None)>"
      ]
     },
     "execution_count": 16,
     "metadata": {},
     "output_type": "execute_result"
    },
    {
     "data": {
      "image/png": "[encoded data removed]",
      "text/plain": [
       "<Figure size 576x432 with 1 Axes>"
      ]
     },
     "metadata": {
      "needs_background": "light"
     },
     "output_type": "display_data"
    }
   ],
   "source": [
    "rides['distance'].hist(bins=30, figsize=(8, 6), legend=True, grid=True) \n",
    "plt.title('Расстояние за одну поездку')\n",
    "plt.xlabel(\"Расстояние, в метрах\")\n",
    "plt.ylabel(\"Поездки\")\n",
    "plt.show()\n",
    "\n",
    "rides.boxplot('distance', figsize=(8, 6), vert=False)\n",
    "plt.xlabel('Расстояние')\n",
    "plt.show"
   ]
  },
  {
   "cell_type": "markdown",
   "id": "7eac2843",
   "metadata": {},
   "source": [
    "По графикам видно, что в основном, пользователи проезжаю 2,5 - 4,5 километра. Пик и медиана расположенны в районе 3000-3200 метров. Поездки больше, чем на 5,7 км и меньше, чем на 800 метров - можно считать выбросами, к тому же они встречаются не так часто"
   ]
  },
  {
   "cell_type": "markdown",
   "id": "853ff664",
   "metadata": {},
   "source": [
    "### Продолжительность поездок"
   ]
  },
  {
   "cell_type": "markdown",
   "id": "b55e653a",
   "metadata": {},
   "source": [
    "Продолжительность поездок содержится в rides, столбец - duration"
   ]
  },
  {
   "cell_type": "code",
   "execution_count": 17,
   "id": "5bafe3fe",
   "metadata": {},
   "outputs": [
    {
     "data": {
      "text/plain": [
       "0.5"
      ]
     },
     "metadata": {},
     "output_type": "display_data"
    },
    {
     "data": {
      "text/plain": [
       "40.82396261922424"
      ]
     },
     "metadata": {},
     "output_type": "display_data"
    }
   ],
   "source": [
    "display(rides['duration'].min())\n",
    "display(rides['duration'].max())"
   ]
  },
  {
   "cell_type": "code",
   "execution_count": 18,
   "id": "aaf56583",
   "metadata": {},
   "outputs": [
    {
     "data": {
      "image/png": "[encoded data removed]",
      "text/plain": [
       "<Figure size 576x432 with 1 Axes>"
      ]
     },
     "metadata": {
      "needs_background": "light"
     },
     "output_type": "display_data"
    }
   ],
   "source": [
    "rides['duration'].hist(figsize=(8, 6), bins=20, grid=True, legend=True)\n",
    "plt.title('Продолжительность поездок в минутах')\n",
    "plt.xlabel('Время в минутах')\n",
    "plt.ylabel('Поездки')\n",
    "plt.show()"
   ]
  },
  {
   "cell_type": "markdown",
   "id": "194360d8",
   "metadata": {},
   "source": [
    "В большинстве случаев прокат самоката длится от 10 минут до 25 минут. Пик - поездка на 16-18 минут. Иногда, поездка длится совсем не долго - чуть меньше минуты - скорее всего пользователи случайно начали поездку, или передумали. Максимум - почти 41 минута"
   ]
  },
  {
   "cell_type": "markdown",
   "id": "02317bf5",
   "metadata": {},
   "source": [
    "**Проанализировав общую информацию о поездках и пользователях, я пришел к выводу, что:**\n",
    "- Большинство пользователей живут в Пятигорске, меньше всего - в Москве\n",
    "- Большинство пользователей не пользуются подпиской, но разница с подписанными не особо большая 54% и 46% соответственно\n",
    "- Прокатом пользуются в основном молодые 22-28 лет\n",
    "- Чаще всего, поездка длится 10-25 минут, а проезжают 2,5-4,5 километра\n"
   ]
  },
  {
   "cell_type": "markdown",
   "id": "4ef51331",
   "metadata": {},
   "source": [
    "## Шаг 4. Объединение данных"
   ]
  },
  {
   "cell_type": "markdown",
   "id": "aeca93b3",
   "metadata": {},
   "source": [
    "### Объединение датафреймов"
   ]
  },
  {
   "cell_type": "code",
   "execution_count": 19,
   "id": "6bf288b5",
   "metadata": {},
   "outputs": [
    {
     "data": {
      "text/html": [
       "<div>\n",
       "<style scoped>\n",
       "    .dataframe tbody tr th:only-of-type {\n",
       "        vertical-align: middle;\n",
       "    }\n",
       "\n",
       "    .dataframe tbody tr th {\n",
       "        vertical-align: top;\n",
       "    }\n",
       "\n",
       "    .dataframe thead th {\n",
       "        text-align: right;\n",
       "    }\n",
       "</style>\n",
       "<table border=\"1\" class=\"dataframe\">\n",
       "  <thead>\n",
       "    <tr style=\"text-align: right;\">\n",
       "      <th></th>\n",
       "      <th>user_id</th>\n",
       "      <th>name</th>\n",
       "      <th>age</th>\n",
       "      <th>city</th>\n",
       "      <th>subscription_type</th>\n",
       "      <th>distance</th>\n",
       "      <th>duration</th>\n",
       "      <th>date</th>\n",
       "      <th>month</th>\n",
       "      <th>minute_price</th>\n",
       "      <th>start_ride_price</th>\n",
       "      <th>subscription_fee</th>\n",
       "    </tr>\n",
       "  </thead>\n",
       "  <tbody>\n",
       "    <tr>\n",
       "      <th>0</th>\n",
       "      <td>1</td>\n",
       "      <td>Кира</td>\n",
       "      <td>22</td>\n",
       "      <td>Тюмень</td>\n",
       "      <td>ultra</td>\n",
       "      <td>4409.919140</td>\n",
       "      <td>25.599769</td>\n",
       "      <td>2021-01-01</td>\n",
       "      <td>1</td>\n",
       "      <td>6</td>\n",
       "      <td>0</td>\n",
       "      <td>199</td>\n",
       "    </tr>\n",
       "    <tr>\n",
       "      <th>1</th>\n",
       "      <td>1</td>\n",
       "      <td>Кира</td>\n",
       "      <td>22</td>\n",
       "      <td>Тюмень</td>\n",
       "      <td>ultra</td>\n",
       "      <td>2617.592153</td>\n",
       "      <td>15.816871</td>\n",
       "      <td>2021-01-18</td>\n",
       "      <td>1</td>\n",
       "      <td>6</td>\n",
       "      <td>0</td>\n",
       "      <td>199</td>\n",
       "    </tr>\n",
       "    <tr>\n",
       "      <th>2</th>\n",
       "      <td>1</td>\n",
       "      <td>Кира</td>\n",
       "      <td>22</td>\n",
       "      <td>Тюмень</td>\n",
       "      <td>ultra</td>\n",
       "      <td>754.159807</td>\n",
       "      <td>6.232113</td>\n",
       "      <td>2021-04-20</td>\n",
       "      <td>4</td>\n",
       "      <td>6</td>\n",
       "      <td>0</td>\n",
       "      <td>199</td>\n",
       "    </tr>\n",
       "    <tr>\n",
       "      <th>3</th>\n",
       "      <td>1</td>\n",
       "      <td>Кира</td>\n",
       "      <td>22</td>\n",
       "      <td>Тюмень</td>\n",
       "      <td>ultra</td>\n",
       "      <td>2694.783254</td>\n",
       "      <td>18.511000</td>\n",
       "      <td>2021-08-11</td>\n",
       "      <td>8</td>\n",
       "      <td>6</td>\n",
       "      <td>0</td>\n",
       "      <td>199</td>\n",
       "    </tr>\n",
       "    <tr>\n",
       "      <th>4</th>\n",
       "      <td>1</td>\n",
       "      <td>Кира</td>\n",
       "      <td>22</td>\n",
       "      <td>Тюмень</td>\n",
       "      <td>ultra</td>\n",
       "      <td>4028.687306</td>\n",
       "      <td>26.265803</td>\n",
       "      <td>2021-08-28</td>\n",
       "      <td>8</td>\n",
       "      <td>6</td>\n",
       "      <td>0</td>\n",
       "      <td>199</td>\n",
       "    </tr>\n",
       "    <tr>\n",
       "      <th>...</th>\n",
       "      <td>...</td>\n",
       "      <td>...</td>\n",
       "      <td>...</td>\n",
       "      <td>...</td>\n",
       "      <td>...</td>\n",
       "      <td>...</td>\n",
       "      <td>...</td>\n",
       "      <td>...</td>\n",
       "      <td>...</td>\n",
       "      <td>...</td>\n",
       "      <td>...</td>\n",
       "      <td>...</td>\n",
       "    </tr>\n",
       "    <tr>\n",
       "      <th>18063</th>\n",
       "      <td>1534</td>\n",
       "      <td>Альберт</td>\n",
       "      <td>25</td>\n",
       "      <td>Краснодар</td>\n",
       "      <td>free</td>\n",
       "      <td>3781.098080</td>\n",
       "      <td>19.822962</td>\n",
       "      <td>2021-11-04</td>\n",
       "      <td>11</td>\n",
       "      <td>8</td>\n",
       "      <td>50</td>\n",
       "      <td>0</td>\n",
       "    </tr>\n",
       "    <tr>\n",
       "      <th>18064</th>\n",
       "      <td>1534</td>\n",
       "      <td>Альберт</td>\n",
       "      <td>25</td>\n",
       "      <td>Краснодар</td>\n",
       "      <td>free</td>\n",
       "      <td>2840.423057</td>\n",
       "      <td>21.409799</td>\n",
       "      <td>2021-11-16</td>\n",
       "      <td>11</td>\n",
       "      <td>8</td>\n",
       "      <td>50</td>\n",
       "      <td>0</td>\n",
       "    </tr>\n",
       "    <tr>\n",
       "      <th>18065</th>\n",
       "      <td>1534</td>\n",
       "      <td>Альберт</td>\n",
       "      <td>25</td>\n",
       "      <td>Краснодар</td>\n",
       "      <td>free</td>\n",
       "      <td>3826.185507</td>\n",
       "      <td>18.435051</td>\n",
       "      <td>2021-11-18</td>\n",
       "      <td>11</td>\n",
       "      <td>8</td>\n",
       "      <td>50</td>\n",
       "      <td>0</td>\n",
       "    </tr>\n",
       "    <tr>\n",
       "      <th>18066</th>\n",
       "      <td>1534</td>\n",
       "      <td>Альберт</td>\n",
       "      <td>25</td>\n",
       "      <td>Краснодар</td>\n",
       "      <td>free</td>\n",
       "      <td>2902.308661</td>\n",
       "      <td>16.674362</td>\n",
       "      <td>2021-11-27</td>\n",
       "      <td>11</td>\n",
       "      <td>8</td>\n",
       "      <td>50</td>\n",
       "      <td>0</td>\n",
       "    </tr>\n",
       "    <tr>\n",
       "      <th>18067</th>\n",
       "      <td>1534</td>\n",
       "      <td>Альберт</td>\n",
       "      <td>25</td>\n",
       "      <td>Краснодар</td>\n",
       "      <td>free</td>\n",
       "      <td>2371.711192</td>\n",
       "      <td>15.893917</td>\n",
       "      <td>2021-12-29</td>\n",
       "      <td>12</td>\n",
       "      <td>8</td>\n",
       "      <td>50</td>\n",
       "      <td>0</td>\n",
       "    </tr>\n",
       "  </tbody>\n",
       "</table>\n",
       "<p>18068 rows × 12 columns</p>\n",
       "</div>"
      ],
      "text/plain": [
       "       user_id     name  age       city subscription_type     distance  \\\n",
       "0            1     Кира   22     Тюмень             ultra  4409.919140   \n",
       "1            1     Кира   22     Тюмень             ultra  2617.592153   \n",
       "2            1     Кира   22     Тюмень             ultra   754.159807   \n",
       "3            1     Кира   22     Тюмень             ultra  2694.783254   \n",
       "4            1     Кира   22     Тюмень             ultra  4028.687306   \n",
       "...        ...      ...  ...        ...               ...          ...   \n",
       "18063     1534  Альберт   25  Краснодар              free  3781.098080   \n",
       "18064     1534  Альберт   25  Краснодар              free  2840.423057   \n",
       "18065     1534  Альберт   25  Краснодар              free  3826.185507   \n",
       "18066     1534  Альберт   25  Краснодар              free  2902.308661   \n",
       "18067     1534  Альберт   25  Краснодар              free  2371.711192   \n",
       "\n",
       "        duration       date  month  minute_price  start_ride_price  \\\n",
       "0      25.599769 2021-01-01      1             6                 0   \n",
       "1      15.816871 2021-01-18      1             6                 0   \n",
       "2       6.232113 2021-04-20      4             6                 0   \n",
       "3      18.511000 2021-08-11      8             6                 0   \n",
       "4      26.265803 2021-08-28      8             6                 0   \n",
       "...          ...        ...    ...           ...               ...   \n",
       "18063  19.822962 2021-11-04     11             8                50   \n",
       "18064  21.409799 2021-11-16     11             8                50   \n",
       "18065  18.435051 2021-11-18     11             8                50   \n",
       "18066  16.674362 2021-11-27     11             8                50   \n",
       "18067  15.893917 2021-12-29     12             8                50   \n",
       "\n",
       "       subscription_fee  \n",
       "0                   199  \n",
       "1                   199  \n",
       "2                   199  \n",
       "3                   199  \n",
       "4                   199  \n",
       "...                 ...  \n",
       "18063                 0  \n",
       "18064                 0  \n",
       "18065                 0  \n",
       "18066                 0  \n",
       "18067                 0  \n",
       "\n",
       "[18068 rows x 12 columns]"
      ]
     },
     "execution_count": 19,
     "metadata": {},
     "output_type": "execute_result"
    }
   ],
   "source": [
    "data = pd.merge(users, rides, on='user_id')\n",
    "data = pd.merge(data, subscriptions, on='subscription_type')\n",
    "data #объединенный из 3 в 1 датафрейм"
   ]
  },
  {
   "cell_type": "code",
   "execution_count": 20,
   "id": "2d958d87",
   "metadata": {},
   "outputs": [
    {
     "data": {
      "text/plain": [
       "(6500, 12)"
      ]
     },
     "metadata": {},
     "output_type": "display_data"
    },
    {
     "data": {
      "text/plain": [
       "(11568, 12)"
      ]
     },
     "metadata": {},
     "output_type": "display_data"
    }
   ],
   "source": [
    "data_with_sub = data.query('subscription_type == \"ultra\"') #создание датафрейма с пользователями, у которых есть подписка\n",
    "data_without_sub = data.query('subscription_type == \"free\"') #создание датафрейма с пользователями без подписки\n",
    "display(data_with_sub.shape)\n",
    "display(data_without_sub.shape)"
   ]
  },
  {
   "cell_type": "markdown",
   "id": "81f20cfe",
   "metadata": {},
   "source": [
    "### Визуализация данных объединенных датафреймов"
   ]
  },
  {
   "cell_type": "code",
   "execution_count": 21,
   "id": "07806daf",
   "metadata": {},
   "outputs": [
    {
     "data": {
      "image/png": "[encoded data removed]",
      "text/plain": [
       "<Figure size 576x432 with 1 Axes>"
      ]
     },
     "metadata": {
      "needs_background": "light"
     },
     "output_type": "display_data"
    },
    {
     "data": {
      "image/png": "[encoded data removed]",
      "text/plain": [
       "<Figure size 576x432 with 1 Axes>"
      ]
     },
     "metadata": {
      "needs_background": "light"
     },
     "output_type": "display_data"
    }
   ],
   "source": [
    "data_with_sub['distance'].hist(bins=40, figsize=(8, 6), legend=True)\n",
    "plt.title('Дистанция за поездку у пользователей с подпиской')\n",
    "plt.xlabel('Расстояние в метрах')\n",
    "plt.ylabel('Количество поездок')\n",
    "plt.show()\n",
    "data_with_sub['duration'].hist(bins=30, figsize=(8, 6), legend=True)\n",
    "plt.title('Время поездки у пользователей с подпиской')\n",
    "plt.xlabel('Время в минутах')\n",
    "plt.ylabel('Количество поездок')\n",
    "plt.show()"
   ]
  },
  {
   "cell_type": "code",
   "execution_count": 22,
   "id": "dc0af635",
   "metadata": {},
   "outputs": [
    {
     "data": {
      "image/png": "[encoded data removed]",
      "text/plain": [
       "<Figure size 576x432 with 1 Axes>"
      ]
     },
     "metadata": {
      "needs_background": "light"
     },
     "output_type": "display_data"
    },
    {
     "data": {
      "image/png": "[encoded data removed]",
      "text/plain": [
       "<Figure size 576x432 with 1 Axes>"
      ]
     },
     "metadata": {
      "needs_background": "light"
     },
     "output_type": "display_data"
    }
   ],
   "source": [
    "data_without_sub['distance'].hist(bins=30, figsize=(8, 6), legend=True)\n",
    "plt.title('Дистанция за поездку у пользователей без подписки')\n",
    "plt.xlabel('Расстояние в метрах')\n",
    "plt.ylabel('Количество поездок')\n",
    "plt.show()\n",
    "data_without_sub['duration'].hist(bins=30, figsize=(8, 6), legend=True)\n",
    "plt.title('Время поездки у пользователей без подписки')\n",
    "plt.xlabel('Время в минутах')\n",
    "plt.ylabel('Количество поездок')\n",
    "plt.show()"
   ]
  },
  {
   "cell_type": "markdown",
   "id": "948cf808",
   "metadata": {},
   "source": [
    "Гистограммы для пользователей с подпиской и для пользователей без подписки различаются, для большей наглядности можно построить пересекающиеся гистограммы"
   ]
  },
  {
   "cell_type": "code",
   "execution_count": 23,
   "id": "76d98489",
   "metadata": {},
   "outputs": [
    {
     "data": {
      "image/png": "[encoded data removed]",
      "text/plain": [
       "<Figure size 576x432 with 1 Axes>"
      ]
     },
     "metadata": {
      "needs_background": "light"
     },
     "output_type": "display_data"
    }
   ],
   "source": [
    "data_with_sub['distance'].plot(kind='hist', histtype='step', bins=30, figsize=(8,6), alpha=0.5)\n",
    "data_without_sub['distance'].plot(kind='hist', histtype='step', bins=30, alpha=1)\n",
    "plt.xlabel('Расстояние в метрах')\n",
    "plt.ylabel('Количество поездок')\n",
    "plt.show()"
   ]
  },
  {
   "cell_type": "code",
   "execution_count": 24,
   "id": "43fb300c",
   "metadata": {},
   "outputs": [
    {
     "data": {
      "image/png": "[encoded data removed]",
      "text/plain": [
       "<Figure size 576x432 with 1 Axes>"
      ]
     },
     "metadata": {
      "needs_background": "light"
     },
     "output_type": "display_data"
    }
   ],
   "source": [
    "data_with_sub['duration'].plot(kind='hist', histtype='step', bins=30, figsize=(8,6), alpha=0.5)\n",
    "data_without_sub['duration'].plot(kind='hist', histtype='step', bins=30, alpha=1)\n",
    "plt.xlabel('Время в минутах')\n",
    "plt.ylabel('Количество поездок')\n",
    "plt.show()"
   ]
  },
  {
   "cell_type": "markdown",
   "id": "a3a054e7",
   "metadata": {},
   "source": [
    "После объединения данных методом merge, можно сделать вывод, что расстояние, которое проезжают пользователи с подпиской и без различается - пользователи с подпиской проезжают, в основном, 2,5-3,7 километра, а пользователи без подписки - 2-4,5 километра. Для бесплатного тарифа время поездки 10-25 минут, а для платного - 12-23 минуты. Количество данных по поездкам больше для бесплатных пользователей. **Подписка влияет на расстояние поездок и на время в пути**"
   ]
  },
  {
   "cell_type": "markdown",
   "id": "402d620f",
   "metadata": {},
   "source": [
    "## Шаг 5. Подсчёт выручки"
   ]
  },
  {
   "cell_type": "markdown",
   "id": "ff9ab859",
   "metadata": {},
   "source": [
    "Помесячная выручка считается по формуле: (стоимость старта поездки ×  количество поездок) + стоимость одной минуты поездки × общая продолжительность всех поездок в минутах + стоимость подписки."
   ]
  },
  {
   "cell_type": "code",
   "execution_count": 25,
   "id": "53049e0a",
   "metadata": {},
   "outputs": [
    {
     "data": {
      "text/html": [
       "<div>\n",
       "<style scoped>\n",
       "    .dataframe tbody tr th:only-of-type {\n",
       "        vertical-align: middle;\n",
       "    }\n",
       "\n",
       "    .dataframe tbody tr th {\n",
       "        vertical-align: top;\n",
       "    }\n",
       "\n",
       "    .dataframe thead th {\n",
       "        text-align: right;\n",
       "    }\n",
       "</style>\n",
       "<table border=\"1\" class=\"dataframe\">\n",
       "  <thead>\n",
       "    <tr style=\"text-align: right;\">\n",
       "      <th></th>\n",
       "      <th></th>\n",
       "      <th>distance</th>\n",
       "      <th>duration</th>\n",
       "      <th>minute_price</th>\n",
       "      <th>name</th>\n",
       "      <th>start_ride_price</th>\n",
       "      <th>subscription_fee</th>\n",
       "    </tr>\n",
       "    <tr>\n",
       "      <th>user_id</th>\n",
       "      <th>month</th>\n",
       "      <th></th>\n",
       "      <th></th>\n",
       "      <th></th>\n",
       "      <th></th>\n",
       "      <th></th>\n",
       "      <th></th>\n",
       "    </tr>\n",
       "  </thead>\n",
       "  <tbody>\n",
       "    <tr>\n",
       "      <th rowspan=\"5\" valign=\"top\">1</th>\n",
       "      <th>1</th>\n",
       "      <td>7027.511294</td>\n",
       "      <td>41.416640</td>\n",
       "      <td>6</td>\n",
       "      <td>2</td>\n",
       "      <td>0</td>\n",
       "      <td>199</td>\n",
       "    </tr>\n",
       "    <tr>\n",
       "      <th>4</th>\n",
       "      <td>754.159807</td>\n",
       "      <td>6.232113</td>\n",
       "      <td>6</td>\n",
       "      <td>1</td>\n",
       "      <td>0</td>\n",
       "      <td>199</td>\n",
       "    </tr>\n",
       "    <tr>\n",
       "      <th>8</th>\n",
       "      <td>6723.470560</td>\n",
       "      <td>44.776802</td>\n",
       "      <td>6</td>\n",
       "      <td>2</td>\n",
       "      <td>0</td>\n",
       "      <td>199</td>\n",
       "    </tr>\n",
       "    <tr>\n",
       "      <th>10</th>\n",
       "      <td>5809.911100</td>\n",
       "      <td>31.578017</td>\n",
       "      <td>6</td>\n",
       "      <td>2</td>\n",
       "      <td>0</td>\n",
       "      <td>199</td>\n",
       "    </tr>\n",
       "    <tr>\n",
       "      <th>11</th>\n",
       "      <td>7003.499363</td>\n",
       "      <td>53.397424</td>\n",
       "      <td>6</td>\n",
       "      <td>3</td>\n",
       "      <td>0</td>\n",
       "      <td>199</td>\n",
       "    </tr>\n",
       "  </tbody>\n",
       "</table>\n",
       "</div>"
      ],
      "text/plain": [
       "                  distance   duration  minute_price  name  start_ride_price  \\\n",
       "user_id month                                                                 \n",
       "1       1      7027.511294  41.416640             6     2                 0   \n",
       "        4       754.159807   6.232113             6     1                 0   \n",
       "        8      6723.470560  44.776802             6     2                 0   \n",
       "        10     5809.911100  31.578017             6     2                 0   \n",
       "        11     7003.499363  53.397424             6     3                 0   \n",
       "\n",
       "               subscription_fee  \n",
       "user_id month                    \n",
       "1       1                   199  \n",
       "        4                   199  \n",
       "        8                   199  \n",
       "        10                  199  \n",
       "        11                  199  "
      ]
     },
     "execution_count": 25,
     "metadata": {},
     "output_type": "execute_result"
    }
   ],
   "source": [
    "data_pivot = data.pivot_table(index=['user_id', 'month'], \n",
    "                              values=['distance', 'duration', 'name', 'start_ride_price', 'minute_price', 'subscription_fee'],\n",
    "                             aggfunc={'distance': sum, 'duration': sum, 'name': len, 'start_ride_price': 'mean', 'minute_price': 'mean', 'subscription_fee': 'mean'})\n",
    "data_pivot.head()"
   ]
  },
  {
   "cell_type": "markdown",
   "id": "f3826a78",
   "metadata": {},
   "source": [
    "Создали сводную таблицу, где для каждого пользователя по месяцу расписанны параметры дистанции, продолжительности, цены за минуту, за начало поездки, за подписку"
   ]
  },
  {
   "cell_type": "code",
   "execution_count": 26,
   "id": "69f7e57a",
   "metadata": {},
   "outputs": [],
   "source": [
    "data_pivot = data_pivot.rename(columns = {'name':'rides_count'}) #переименовываем для удобства\n",
    "data_pivot['duration'] = np.ceil(data_pivot['duration']) #округляем длительность по потолку значений"
   ]
  },
  {
   "cell_type": "code",
   "execution_count": 27,
   "id": "d8c92318",
   "metadata": {},
   "outputs": [
    {
     "data": {
      "text/html": [
       "<div>\n",
       "<style scoped>\n",
       "    .dataframe tbody tr th:only-of-type {\n",
       "        vertical-align: middle;\n",
       "    }\n",
       "\n",
       "    .dataframe tbody tr th {\n",
       "        vertical-align: top;\n",
       "    }\n",
       "\n",
       "    .dataframe thead th {\n",
       "        text-align: right;\n",
       "    }\n",
       "</style>\n",
       "<table border=\"1\" class=\"dataframe\">\n",
       "  <thead>\n",
       "    <tr style=\"text-align: right;\">\n",
       "      <th></th>\n",
       "      <th></th>\n",
       "      <th>distance</th>\n",
       "      <th>duration</th>\n",
       "      <th>minute_price</th>\n",
       "      <th>rides_count</th>\n",
       "      <th>start_ride_price</th>\n",
       "      <th>subscription_fee</th>\n",
       "      <th>month_cash</th>\n",
       "    </tr>\n",
       "    <tr>\n",
       "      <th>user_id</th>\n",
       "      <th>month</th>\n",
       "      <th></th>\n",
       "      <th></th>\n",
       "      <th></th>\n",
       "      <th></th>\n",
       "      <th></th>\n",
       "      <th></th>\n",
       "      <th></th>\n",
       "    </tr>\n",
       "  </thead>\n",
       "  <tbody>\n",
       "    <tr>\n",
       "      <th rowspan=\"5\" valign=\"top\">1</th>\n",
       "      <th>1</th>\n",
       "      <td>7027.511294</td>\n",
       "      <td>42.0</td>\n",
       "      <td>6</td>\n",
       "      <td>2</td>\n",
       "      <td>0</td>\n",
       "      <td>199</td>\n",
       "      <td>451.0</td>\n",
       "    </tr>\n",
       "    <tr>\n",
       "      <th>4</th>\n",
       "      <td>754.159807</td>\n",
       "      <td>7.0</td>\n",
       "      <td>6</td>\n",
       "      <td>1</td>\n",
       "      <td>0</td>\n",
       "      <td>199</td>\n",
       "      <td>241.0</td>\n",
       "    </tr>\n",
       "    <tr>\n",
       "      <th>8</th>\n",
       "      <td>6723.470560</td>\n",
       "      <td>45.0</td>\n",
       "      <td>6</td>\n",
       "      <td>2</td>\n",
       "      <td>0</td>\n",
       "      <td>199</td>\n",
       "      <td>469.0</td>\n",
       "    </tr>\n",
       "    <tr>\n",
       "      <th>10</th>\n",
       "      <td>5809.911100</td>\n",
       "      <td>32.0</td>\n",
       "      <td>6</td>\n",
       "      <td>2</td>\n",
       "      <td>0</td>\n",
       "      <td>199</td>\n",
       "      <td>391.0</td>\n",
       "    </tr>\n",
       "    <tr>\n",
       "      <th>11</th>\n",
       "      <td>7003.499363</td>\n",
       "      <td>54.0</td>\n",
       "      <td>6</td>\n",
       "      <td>3</td>\n",
       "      <td>0</td>\n",
       "      <td>199</td>\n",
       "      <td>523.0</td>\n",
       "    </tr>\n",
       "  </tbody>\n",
       "</table>\n",
       "</div>"
      ],
      "text/plain": [
       "                  distance  duration  minute_price  rides_count  \\\n",
       "user_id month                                                     \n",
       "1       1      7027.511294      42.0             6            2   \n",
       "        4       754.159807       7.0             6            1   \n",
       "        8      6723.470560      45.0             6            2   \n",
       "        10     5809.911100      32.0             6            2   \n",
       "        11     7003.499363      54.0             6            3   \n",
       "\n",
       "               start_ride_price  subscription_fee  month_cash  \n",
       "user_id month                                                  \n",
       "1       1                     0               199       451.0  \n",
       "        4                     0               199       241.0  \n",
       "        8                     0               199       469.0  \n",
       "        10                    0               199       391.0  \n",
       "        11                    0               199       523.0  "
      ]
     },
     "execution_count": 27,
     "metadata": {},
     "output_type": "execute_result"
    }
   ],
   "source": [
    "data_pivot['month_cash'] = (data_pivot['start_ride_price'] * \n",
    "                            data_pivot['rides_count']) + (data_pivot['minute_price'] * \n",
    "                                                          data_pivot['duration']) + data_pivot['subscription_fee']\n",
    "data_pivot.head()"
   ]
  },
  {
   "cell_type": "code",
   "execution_count": 28,
   "id": "69f34ab9",
   "metadata": {},
   "outputs": [
    {
     "name": "stdout",
     "output_type": "stream",
     "text": [
      "2021-01-01 00:00:00 2021-12-30 00:00:00\n"
     ]
    }
   ],
   "source": [
    "print(data['date'].min(), data['date'].max()) "
   ]
  },
  {
   "cell_type": "markdown",
   "id": "a28368d2",
   "metadata": {},
   "source": [
    "Данные представлены за 1 год - **2021**"
   ]
  },
  {
   "cell_type": "code",
   "execution_count": 29,
   "id": "4f0a1166",
   "metadata": {},
   "outputs": [
    {
     "name": "stdout",
     "output_type": "stream",
     "text": [
      "Выручка GoFast за 2021 год 3853677.0 рублей\n"
     ]
    }
   ],
   "source": [
    "print('Выручка GoFast за 2021 год', data_pivot['month_cash'].sum(), 'рублей')"
   ]
  },
  {
   "cell_type": "code",
   "execution_count": 30,
   "id": "3dc06257",
   "metadata": {},
   "outputs": [
    {
     "data": {
      "text/html": [
       "<div>\n",
       "<style scoped>\n",
       "    .dataframe tbody tr th:only-of-type {\n",
       "        vertical-align: middle;\n",
       "    }\n",
       "\n",
       "    .dataframe tbody tr th {\n",
       "        vertical-align: top;\n",
       "    }\n",
       "\n",
       "    .dataframe thead th {\n",
       "        text-align: right;\n",
       "    }\n",
       "</style>\n",
       "<table border=\"1\" class=\"dataframe\">\n",
       "  <thead>\n",
       "    <tr style=\"text-align: right;\">\n",
       "      <th></th>\n",
       "      <th>month_cash</th>\n",
       "    </tr>\n",
       "    <tr>\n",
       "      <th>month</th>\n",
       "      <th></th>\n",
       "    </tr>\n",
       "  </thead>\n",
       "  <tbody>\n",
       "    <tr>\n",
       "      <th>1</th>\n",
       "      <td>335864.0</td>\n",
       "    </tr>\n",
       "    <tr>\n",
       "      <th>2</th>\n",
       "      <td>288770.0</td>\n",
       "    </tr>\n",
       "    <tr>\n",
       "      <th>3</th>\n",
       "      <td>327712.0</td>\n",
       "    </tr>\n",
       "    <tr>\n",
       "      <th>4</th>\n",
       "      <td>320760.0</td>\n",
       "    </tr>\n",
       "    <tr>\n",
       "      <th>5</th>\n",
       "      <td>334981.0</td>\n",
       "    </tr>\n",
       "    <tr>\n",
       "      <th>6</th>\n",
       "      <td>333830.0</td>\n",
       "    </tr>\n",
       "    <tr>\n",
       "      <th>7</th>\n",
       "      <td>326454.0</td>\n",
       "    </tr>\n",
       "    <tr>\n",
       "      <th>8</th>\n",
       "      <td>323500.0</td>\n",
       "    </tr>\n",
       "    <tr>\n",
       "      <th>9</th>\n",
       "      <td>320963.0</td>\n",
       "    </tr>\n",
       "    <tr>\n",
       "      <th>10</th>\n",
       "      <td>313178.0</td>\n",
       "    </tr>\n",
       "    <tr>\n",
       "      <th>11</th>\n",
       "      <td>303700.0</td>\n",
       "    </tr>\n",
       "    <tr>\n",
       "      <th>12</th>\n",
       "      <td>323965.0</td>\n",
       "    </tr>\n",
       "  </tbody>\n",
       "</table>\n",
       "</div>"
      ],
      "text/plain": [
       "       month_cash\n",
       "month            \n",
       "1        335864.0\n",
       "2        288770.0\n",
       "3        327712.0\n",
       "4        320760.0\n",
       "5        334981.0\n",
       "6        333830.0\n",
       "7        326454.0\n",
       "8        323500.0\n",
       "9        320963.0\n",
       "10       313178.0\n",
       "11       303700.0\n",
       "12       323965.0"
      ]
     },
     "metadata": {},
     "output_type": "display_data"
    },
    {
     "data": {
      "image/png": "[encoded data removed]",
      "text/plain": [
       "<Figure size 576x432 with 1 Axes>"
      ]
     },
     "metadata": {
      "needs_background": "light"
     },
     "output_type": "display_data"
    }
   ],
   "source": [
    "monthly_value = data_pivot.pivot_table(index='month', values='month_cash', aggfunc='sum')\n",
    "display(monthly_value)#выручка компании за каждый месяц\n",
    "monthly_value.plot(grid=True, figsize=(8, 6), style='-o')\n",
    "plt.title('Выручка за месяц, 2021 год')\n",
    "plt.xlabel('Месяц')\n",
    "plt.ylabel('Выручка в рублях')\n",
    "plt.show()"
   ]
  },
  {
   "cell_type": "code",
   "execution_count": 31,
   "id": "a6b90838",
   "metadata": {},
   "outputs": [
    {
     "data": {
      "text/plain": [
       "1638597.0"
      ]
     },
     "metadata": {},
     "output_type": "display_data"
    },
    {
     "data": {
      "text/plain": [
       "2215080.0"
      ]
     },
     "metadata": {},
     "output_type": "display_data"
    }
   ],
   "source": [
    "ultra = (data_pivot.query('subscription_fee == 199'))\n",
    "free = (data_pivot.query('subscription_fee == 0'))\n",
    "display(ultra['month_cash'].sum())\n",
    "display(free['month_cash'].sum())"
   ]
  },
  {
   "cell_type": "markdown",
   "id": "12ea180d",
   "metadata": {},
   "source": [
    "Изучив выручку, я пришел к выводу, что компания за год заработала 3,85 миллиона рублей. Также, провел дополнительный анализ по сумме выручки за каждый месяц. Выручка в феврале - рекордно низкая, по сравнению с другими месяцами. Пользователи с подпиской принесли компании 1.63 миллиона рублей за год, а пользователи без подписки - 2.21 миллиона рублей"
   ]
  },
  {
   "cell_type": "markdown",
   "id": "41545ac0",
   "metadata": {},
   "source": [
    "## Шаг 6. Проверка гипотез"
   ]
  },
  {
   "cell_type": "markdown",
   "id": "374f66f5",
   "metadata": {},
   "source": [
    "### Важно понять, тратят ли пользователи с подпиской больше времени на поездки? Если да, то пользователи с подпиской могут быть «выгоднее» для компании. Проверьте гипотезу. Используйте исходные данные о продолжительности каждой сессии — отдельно для подписчиков и тех, у кого нет подписки."
   ]
  },
  {
   "cell_type": "markdown",
   "id": "585f4478",
   "metadata": {},
   "source": [
    "Сформулируем гипотезы: \n",
    "- H0: время поездки у пользователей с подпиской и без равны\n",
    "- H1: время поездки у пользователей с подпиской больше, чем у пользователей без подписки"
   ]
  },
  {
   "cell_type": "code",
   "execution_count": 32,
   "id": "cf2d9d2b",
   "metadata": {},
   "outputs": [
    {
     "name": "stdout",
     "output_type": "stream",
     "text": [
      "p-value = 1.2804098316645618e-34\n",
      "Отвергаем нулевую гипотезу\n"
     ]
    }
   ],
   "source": [
    "test = st.ttest_ind(data_with_sub['duration'],\n",
    "             data_without_sub['duration'],\n",
    "             equal_var=True,\n",
    "             alternative='greater'\n",
    "            )\n",
    "alpha = 0.05\n",
    "\n",
    "print('p-value =', test.pvalue)\n",
    "\n",
    "if test.pvalue < alpha:\n",
    "    print('Отвергаем нулевую гипотезу')\n",
    "else:\n",
    "    print('Не получилось отвергнуть нулевую гипотезу')"
   ]
  },
  {
   "cell_type": "markdown",
   "id": "c3e7a289",
   "metadata": {},
   "source": [
    "При уровне значимости в 5% нулевая гипотеза была отвергнута, что значит, что **время поездки у пользователей с подпиской больше, чем у пользователей без подписки**"
   ]
  },
  {
   "cell_type": "markdown",
   "id": "5543dc6c",
   "metadata": {},
   "source": [
    "### Расстояние одной поездки в 3130 метров — оптимальное с точки зрения износа самоката. Можно ли сказать, что расстояние, которое проезжают пользователи с подпиской за одну поездку, не превышает 3130 метров? Проверьте гипотезу и сделайте выводы."
   ]
  },
  {
   "cell_type": "markdown",
   "id": "2a3ad5ba",
   "metadata": {},
   "source": [
    "Сформулируем гипотезы:\n",
    "- H0: Пользователи с подпиской проезжают оптимальные 3130 метров за одну поездку\n",
    "- H1: Пользователи с подпиской проезжают больше 3130 метров за одну поездку"
   ]
  },
  {
   "cell_type": "code",
   "execution_count": 33,
   "id": "0d0a7da5",
   "metadata": {},
   "outputs": [
    {
     "name": "stdout",
     "output_type": "stream",
     "text": [
      "p-value = 0.9195368847849785\n",
      "Не получилось отвергнуть нулевую гипотезу\n"
     ]
    }
   ],
   "source": [
    "value = 3130\n",
    "alpha = 0.05\n",
    "\n",
    "test = st.ttest_1samp(data_with_sub['distance'],\n",
    "                     value,\n",
    "                     alternative='greater'\n",
    "                     )\n",
    "\n",
    "print('p-value =', test.pvalue)\n",
    "\n",
    "if test.pvalue < alpha:\n",
    "    print('Отвергаем нулевую гипотезу')\n",
    "else:\n",
    "    print('Не получилось отвергнуть нулевую гипотезу')"
   ]
  },
  {
   "cell_type": "markdown",
   "id": "74a767a2",
   "metadata": {},
   "source": [
    "При уровне значимости в 5% не удалось отвергнуть нулевую гипотезу, что говорит о том, что **пользователи с подпиской проезжают расстояние не превышающее оптимальное, с точки зрения износа самоката - 3130**"
   ]
  },
  {
   "cell_type": "markdown",
   "id": "ca1e44d5",
   "metadata": {},
   "source": [
    "### Проверьте гипотезу о том, будет ли помесячная выручка от пользователей с подпиской по месяцам выше, чем выручка от пользователей без подписки. Сделайте вывод."
   ]
  },
  {
   "cell_type": "markdown",
   "id": "a848397f",
   "metadata": {},
   "source": [
    "Сформулируем гипотезы:\n",
    "- H0: Пользователи с подпиской приносят столько же выручки, как и пользователи без подписки (в месяц)\n",
    "- H1: Пользователи с подпиской приносят больше выручки, чем пользователи без подписки (в месяц)"
   ]
  },
  {
   "cell_type": "code",
   "execution_count": 34,
   "id": "d44d86e8",
   "metadata": {},
   "outputs": [
    {
     "name": "stdout",
     "output_type": "stream",
     "text": [
      "p-value = 2.8130926188487286e-35\n",
      "Отвергаем нулевую гипотезу\n"
     ]
    }
   ],
   "source": [
    "test = st.ttest_ind(ultra['month_cash'],\n",
    "             free['month_cash'],\n",
    "             equal_var=True,\n",
    "             alternative='greater'\n",
    "            )\n",
    "alpha = 0.05\n",
    "\n",
    "print('p-value =', test.pvalue)\n",
    "\n",
    "if test.pvalue < alpha:\n",
    "    print('Отвергаем нулевую гипотезу')\n",
    "else:\n",
    "    print('Не получилось отвергнуть нулевую гипотезу')"
   ]
  },
  {
   "cell_type": "markdown",
   "id": "4f38bee0",
   "metadata": {},
   "source": [
    "При уровне значимости в 5% мы отвергли нулевую гипотезу, значит можно говорить, что **пользователи с подпиской приносят больше месячной выручки, чем пользователи без подписки**"
   ]
  },
  {
   "cell_type": "markdown",
   "id": "a9cb19b8",
   "metadata": {},
   "source": [
    "### Представьте такую ситуацию: техническая команда сервиса обновила сервера, с которыми взаимодействует мобильное приложение. Она надеется, что из-за этого количество обращений в техподдержку значимо снизилось. Некоторый файл содержит для каждого пользователя данные о количестве обращений до обновления и после него. Какой тест вам понадобился бы для проверки этой гипотезы?\n"
   ]
  },
  {
   "cell_type": "markdown",
   "id": "4100b906",
   "metadata": {},
   "source": [
    "Это две выборки, которые прошли через изменения, значит, нам нужно проверить гипотезу о равенстве среднего значения генеральной совокупности до и после изменения. Для этого отлично подходит **scipy.stats.ttest_rel**, в которой аргументами будут два набора данных - до обновления и после него. При проверке H0 на равенство истинного среднего генеральной совокупности, мы надеемся увидеть снижение количества обращений, значит H1 мы формулируем в левую сторону, задавая параметр **alternative=\"less\"**."
   ]
  },
  {
   "cell_type": "markdown",
   "id": "64ade98c",
   "metadata": {},
   "source": [
    "Вывод по гипотезам:\n",
    "- при проверке первой гипотезы, стало понятно, что, действительно - время поездки у пользователей с подпиской больше, чем у пользователей без подписки\n",
    "- при проверке второй гипотезы, я увидел, что действительно, в большинстве случаев, пользователи с подпиской проезжают расстояние до 3130 метров, оптимального расстояния с точки зрения износа самокатов\n",
    "- при проверке третьей гипотезы, я установил, что помесячная выручка от пользователей с подпиской действительно выше, чем от пользователей без подписки\n",
    "- описал какой тест понадобится для проверки данных о количестве обращений до и после обновления"
   ]
  },
  {
   "cell_type": "markdown",
   "id": "61213c5e",
   "metadata": {},
   "source": [
    "## Шаг 7. Распределения"
   ]
  },
  {
   "cell_type": "markdown",
   "id": "00d4839b",
   "metadata": {},
   "source": [
    "### Отделу маркетинга GoFast поставили задачу: нужно провести акцию с раздачей промокодов на один бесплатный месяц подписки, в рамках которой как минимум 100 существующих клиентов должны продлить эту подписку. То есть по завершении периода действия подписки пользователь может либо отказаться от неё, либо продлить, совершив соответствующий платёж. Эта акция уже проводилась ранее и по итогу выяснилось, что после бесплатного пробного периода подписку продлевают 10% пользователей. Выясните, какое минимальное количество промокодов нужно разослать, чтобы вероятность не выполнить план была примерно 5%. Подберите параметры распределения, описывающего эту ситуацию, постройте график распределения и сформулируйте ответ на вопрос о количестве промокодов."
   ]
  },
  {
   "cell_type": "code",
   "execution_count": 35,
   "id": "d89a2f9b",
   "metadata": {},
   "outputs": [
    {
     "data": {
      "text/plain": [
       "0.5265990812951653"
      ]
     },
     "execution_count": 35,
     "metadata": {},
     "output_type": "execute_result"
    }
   ],
   "source": [
    "k = 100 #цель\n",
    "n = 1000 #количество попыток минимальное при вероятности продления 0.1\n",
    "p = 0.1 #вероятность продления\n",
    "ver = 0.05 #цель по процентам\n",
    "binom.cdf(k, n, p)"
   ]
  },
  {
   "cell_type": "markdown",
   "id": "b4390ef1",
   "metadata": {},
   "source": [
    "При количестве попыток = 1000, вероятность не выполнить план - 52%. Нужно прибавлять n "
   ]
  },
  {
   "cell_type": "code",
   "execution_count": 36,
   "id": "c6d339c3",
   "metadata": {},
   "outputs": [
    {
     "name": "stdout",
     "output_type": "stream",
     "text": [
      "1172\n",
      "0.04954795210203071\n"
     ]
    }
   ],
   "source": [
    "while binom.cdf(k, n, p) > ver:\n",
    "    n+=1\n",
    "    \n",
    "print(n)\n",
    "print(binom.cdf(k, n, p))"
   ]
  },
  {
   "cell_type": "markdown",
   "id": "de0e0768",
   "metadata": {},
   "source": [
    "При количестве попыток: 1172, вероятность не выполнить план примерно 5%"
   ]
  },
  {
   "cell_type": "markdown",
   "id": "3c552684",
   "metadata": {},
   "source": [
    "### Отдел маркетинга рассылает клиентам push-уведомления в мобильном приложении. Клиенты могут открыть его или не открывать. Известно, что уведомления открывают около 40% получивших клиентов. Отдел планирует разослать 1 млн уведомлений. С помощью аппроксимации постройте примерный график распределения и оцените вероятность того, что уведомление откроют не более 399,5 тыс. пользователей."
   ]
  },
  {
   "cell_type": "code",
   "execution_count": 37,
   "id": "fda5e7c6",
   "metadata": {},
   "outputs": [
    {
     "data": {
      "text/plain": [
       "0.1539584359564276"
      ]
     },
     "execution_count": 37,
     "metadata": {},
     "output_type": "execute_result"
    }
   ],
   "source": [
    "k = 399500\n",
    "n = 1000000\n",
    "p = 0.4\n",
    "\n",
    "binom.cdf(k, n, p)"
   ]
  },
  {
   "cell_type": "markdown",
   "id": "3a4c900c",
   "metadata": {},
   "source": [
    "При вероятности открытия уведомлений в 40%, разослав 1 миллион уведомлений, шанс того, что эти уведомления откроет не более 399,5 тысяч пользователей равна 15,4%"
   ]
  },
  {
   "cell_type": "markdown",
   "id": "6dee006f",
   "metadata": {},
   "source": [
    "Проанализировав распределения, можно сделать вывод, что **при количестве попыток: 1172, вероятность не выполнить план примерно 5%**, а шанс что уведомления откроют не более, чем 399,5 тыс. пользователей **равна 15,4%**"
   ]
  },
  {
   "cell_type": "markdown",
   "id": "88ee8fb8",
   "metadata": {},
   "source": [
    "## Общий вывод"
   ]
  },
  {
   "cell_type": "markdown",
   "id": "2422eb65",
   "metadata": {},
   "source": [
    "В ходе работы над проектом, были выполнены все пункты ТЗ:\n",
    "\n",
    "- загрузил данные датаестов, проверил общую информацию \n",
    "- предобработал данные датасетов, удалил дубликаты, изменил формат столбца date, после обработки данных осталось более 90% информации\n",
    "- описал и визуализировал общую информацию о пользователях и поездках:\n",
    "1. Большинство пользователей живут в Пятигорске, меньше всего - в Москве\n",
    "2. Большинство пользователей не пользуются подпиской, но разница с подписанными не особо большая 54% и 46% соответственно\n",
    "3. Прокатом пользуются в основном молодые люди 22-28 лет\n",
    "4. Чаще всего, поездка длится 10-25 минут, а проезжают 2,5-4,5 километра\n",
    "\n",
    "- объединил датафреймы в отдельный датафрейм методом merge, визуализировал информацию о расстоянии и времени поездок: расстояние, которое проезжают пользователи с подпиской и без различается, подписка влияет на расстояние поездок и на время в пути\n",
    "- создал датафрейм с агрегированными данными о поездках data_pivot\n",
    "- добавил столбец с помесячной выручкой, которую принёс каждый пользователь, создал датафреймы из data_pivot для подписчиков ultra и пользователей free\n",
    "- проверил 4 гипотезы:\n",
    "1. Время поездки у пользователей с подпиской больше, чем у пользователей без подписки\n",
    "2. Чаще всего, пользователи с подпиской проезжают расстояние до 3130 метров, оптимального расстояния с точки зрения износа самокатов\n",
    "3. Помесячная выручка от пользователей с подпиской действительно выше, чем от пользователей без подписки\n",
    "4. Для проверки данных о количестве обращений до и после обновления понадобится воспользоваться тестом scipy.stats.ttest_rel(), задавая параметр alternative='less'\n",
    "- Установил распределения: при количестве попыток: 1172, вероятность не выполнить план примерно 5%, а шанс что уведомления откроют не более, чем 399,5 тыс. пользователей равна 15,4%"
   ]
  }
 ],
 "metadata": {
  "ExecuteTimeLog": [
   {
    "duration": 829,
    "start_time": "2024-04-27T07:47:18.646Z"
   },
   {
    "duration": 10,
    "start_time": "2024-04-27T07:47:48.501Z"
   },
   {
    "duration": 1013,
    "start_time": "2024-04-27T07:48:35.208Z"
   },
   {
    "duration": 248,
    "start_time": "2024-04-27T07:59:26.562Z"
   },
   {
    "duration": 166,
    "start_time": "2024-04-27T08:09:11.239Z"
   },
   {
    "duration": 78,
    "start_time": "2024-04-27T08:09:23.706Z"
   },
   {
    "duration": 67,
    "start_time": "2024-04-27T08:09:40.898Z"
   },
   {
    "duration": 89,
    "start_time": "2024-04-27T08:10:00.147Z"
   },
   {
    "duration": 15,
    "start_time": "2024-04-27T08:13:52.522Z"
   },
   {
    "duration": 17,
    "start_time": "2024-04-27T08:14:04.534Z"
   },
   {
    "duration": 26,
    "start_time": "2024-04-27T08:14:10.680Z"
   },
   {
    "duration": 6,
    "start_time": "2024-04-27T08:16:57.229Z"
   },
   {
    "duration": 5,
    "start_time": "2024-04-27T08:17:40.775Z"
   },
   {
    "duration": 8,
    "start_time": "2024-04-27T08:18:56.538Z"
   },
   {
    "duration": 9,
    "start_time": "2024-04-27T08:19:06.458Z"
   },
   {
    "duration": 2,
    "start_time": "2024-04-27T08:19:54.538Z"
   },
   {
    "duration": 4,
    "start_time": "2024-04-27T08:19:58.169Z"
   },
   {
    "duration": 7,
    "start_time": "2024-04-27T08:20:29.481Z"
   },
   {
    "duration": 274,
    "start_time": "2024-04-27T08:20:46.980Z"
   },
   {
    "duration": 6,
    "start_time": "2024-04-27T08:26:58.159Z"
   },
   {
    "duration": 131,
    "start_time": "2024-04-27T08:27:00.894Z"
   },
   {
    "duration": 10,
    "start_time": "2024-04-27T12:06:50.113Z"
   },
   {
    "duration": 16,
    "start_time": "2024-04-27T12:08:10.172Z"
   },
   {
    "duration": 715,
    "start_time": "2024-04-27T12:08:32.900Z"
   },
   {
    "duration": 7,
    "start_time": "2024-04-27T12:08:45.368Z"
   },
   {
    "duration": 123,
    "start_time": "2024-04-27T12:08:53.652Z"
   },
   {
    "duration": 19,
    "start_time": "2024-04-27T12:09:02.068Z"
   },
   {
    "duration": 9,
    "start_time": "2024-04-27T12:10:18.509Z"
   },
   {
    "duration": 5,
    "start_time": "2024-04-27T12:10:29.857Z"
   },
   {
    "duration": 1169,
    "start_time": "2024-04-27T12:10:49.449Z"
   },
   {
    "duration": 87,
    "start_time": "2024-04-27T12:10:50.620Z"
   },
   {
    "duration": 29,
    "start_time": "2024-04-27T12:10:50.709Z"
   },
   {
    "duration": 9,
    "start_time": "2024-04-27T12:10:50.740Z"
   },
   {
    "duration": 15,
    "start_time": "2024-04-27T12:10:50.751Z"
   },
   {
    "duration": 17,
    "start_time": "2024-04-27T12:10:50.768Z"
   },
   {
    "duration": 36,
    "start_time": "2024-04-27T12:10:50.787Z"
   },
   {
    "duration": 26,
    "start_time": "2024-04-27T12:11:05.798Z"
   },
   {
    "duration": 5,
    "start_time": "2024-04-27T12:21:17.547Z"
   },
   {
    "duration": 95,
    "start_time": "2024-04-27T12:21:30.426Z"
   },
   {
    "duration": 8,
    "start_time": "2024-04-27T12:21:33.690Z"
   },
   {
    "duration": 35,
    "start_time": "2024-04-27T12:37:37.810Z"
   },
   {
    "duration": 2,
    "start_time": "2024-04-27T12:38:17.543Z"
   },
   {
    "duration": 2,
    "start_time": "2024-04-27T12:38:41.889Z"
   },
   {
    "duration": 4,
    "start_time": "2024-04-27T12:39:03.713Z"
   },
   {
    "duration": 1051,
    "start_time": "2024-04-27T12:39:26.910Z"
   },
   {
    "duration": 83,
    "start_time": "2024-04-27T12:39:27.963Z"
   },
   {
    "duration": 25,
    "start_time": "2024-04-27T12:39:28.047Z"
   },
   {
    "duration": 8,
    "start_time": "2024-04-27T12:39:28.074Z"
   },
   {
    "duration": 2,
    "start_time": "2024-04-27T12:39:28.084Z"
   },
   {
    "duration": 22,
    "start_time": "2024-04-27T12:39:28.087Z"
   },
   {
    "duration": 20,
    "start_time": "2024-04-27T12:39:28.110Z"
   },
   {
    "duration": 6,
    "start_time": "2024-04-27T12:39:28.131Z"
   },
   {
    "duration": 4,
    "start_time": "2024-04-27T12:39:28.139Z"
   },
   {
    "duration": 86,
    "start_time": "2024-04-27T12:41:39.891Z"
   },
   {
    "duration": 1098,
    "start_time": "2024-04-27T12:41:45.958Z"
   },
   {
    "duration": 87,
    "start_time": "2024-04-27T12:41:47.057Z"
   },
   {
    "duration": 27,
    "start_time": "2024-04-27T12:41:47.145Z"
   },
   {
    "duration": 10,
    "start_time": "2024-04-27T12:41:47.173Z"
   },
   {
    "duration": 16,
    "start_time": "2024-04-27T12:41:47.184Z"
   },
   {
    "duration": 9,
    "start_time": "2024-04-27T12:41:47.202Z"
   },
   {
    "duration": 23,
    "start_time": "2024-04-27T12:41:47.212Z"
   },
   {
    "duration": 7,
    "start_time": "2024-04-27T12:41:47.236Z"
   },
   {
    "duration": 21,
    "start_time": "2024-04-27T12:41:47.244Z"
   },
   {
    "duration": 6,
    "start_time": "2024-04-27T12:51:57.622Z"
   },
   {
    "duration": 123,
    "start_time": "2024-04-27T12:52:32.569Z"
   },
   {
    "duration": 91,
    "start_time": "2024-04-27T12:53:40.058Z"
   },
   {
    "duration": 115,
    "start_time": "2024-04-27T12:55:11.217Z"
   },
   {
    "duration": 120,
    "start_time": "2024-04-27T12:55:28.498Z"
   },
   {
    "duration": 126,
    "start_time": "2024-04-27T12:55:40.486Z"
   },
   {
    "duration": 54,
    "start_time": "2024-04-27T12:55:45.105Z"
   },
   {
    "duration": 127,
    "start_time": "2024-04-27T12:55:48.646Z"
   },
   {
    "duration": 243,
    "start_time": "2024-04-27T12:56:08.217Z"
   },
   {
    "duration": 91,
    "start_time": "2024-04-27T12:56:14.932Z"
   },
   {
    "duration": 139,
    "start_time": "2024-04-27T12:57:04.522Z"
   },
   {
    "duration": 139,
    "start_time": "2024-04-27T12:57:12.570Z"
   },
   {
    "duration": 5,
    "start_time": "2024-04-27T13:02:11.963Z"
   },
   {
    "duration": 88,
    "start_time": "2024-04-27T13:02:41.279Z"
   },
   {
    "duration": 90,
    "start_time": "2024-04-27T13:03:11.661Z"
   },
   {
    "duration": 88,
    "start_time": "2024-04-27T13:03:22.175Z"
   },
   {
    "duration": 177,
    "start_time": "2024-04-27T13:04:26.286Z"
   },
   {
    "duration": 131,
    "start_time": "2024-04-27T13:04:34.105Z"
   },
   {
    "duration": 4,
    "start_time": "2024-04-27T13:09:15.889Z"
   },
   {
    "duration": 6,
    "start_time": "2024-04-27T13:09:42.437Z"
   },
   {
    "duration": 133,
    "start_time": "2024-04-27T13:10:12.345Z"
   },
   {
    "duration": 163,
    "start_time": "2024-04-27T13:10:37.435Z"
   },
   {
    "duration": 173,
    "start_time": "2024-04-27T13:10:59.321Z"
   },
   {
    "duration": 223,
    "start_time": "2024-04-27T13:11:04.543Z"
   },
   {
    "duration": 165,
    "start_time": "2024-04-27T13:11:35.855Z"
   },
   {
    "duration": 116,
    "start_time": "2024-04-27T13:11:54.055Z"
   },
   {
    "duration": 153,
    "start_time": "2024-04-27T13:12:23.919Z"
   },
   {
    "duration": 117,
    "start_time": "2024-04-27T13:13:42.234Z"
   },
   {
    "duration": 134,
    "start_time": "2024-04-27T13:14:58.466Z"
   },
   {
    "duration": 177,
    "start_time": "2024-04-27T13:16:05.502Z"
   },
   {
    "duration": 148,
    "start_time": "2024-04-27T13:16:12.381Z"
   },
   {
    "duration": 154,
    "start_time": "2024-04-27T13:16:53.516Z"
   },
   {
    "duration": 161,
    "start_time": "2024-04-27T13:17:46.032Z"
   },
   {
    "duration": 177,
    "start_time": "2024-04-27T13:18:02.206Z"
   },
   {
    "duration": 283,
    "start_time": "2024-04-27T13:20:12.998Z"
   },
   {
    "duration": 178,
    "start_time": "2024-04-27T13:21:14.432Z"
   },
   {
    "duration": 119,
    "start_time": "2024-04-27T13:28:42.857Z"
   },
   {
    "duration": 161,
    "start_time": "2024-04-27T13:29:06.279Z"
   },
   {
    "duration": 197,
    "start_time": "2024-04-27T13:29:35.837Z"
   },
   {
    "duration": 210,
    "start_time": "2024-04-27T13:30:29.665Z"
   },
   {
    "duration": 208,
    "start_time": "2024-04-27T13:32:49.931Z"
   },
   {
    "duration": 317,
    "start_time": "2024-04-27T13:33:06.083Z"
   },
   {
    "duration": 322,
    "start_time": "2024-04-27T13:33:19.210Z"
   },
   {
    "duration": 404,
    "start_time": "2024-04-27T13:33:41.924Z"
   },
   {
    "duration": 322,
    "start_time": "2024-04-27T13:34:36.775Z"
   },
   {
    "duration": 297,
    "start_time": "2024-04-27T13:34:42.662Z"
   },
   {
    "duration": 298,
    "start_time": "2024-04-27T13:34:50.990Z"
   },
   {
    "duration": 302,
    "start_time": "2024-04-27T13:35:15.154Z"
   },
   {
    "duration": 51,
    "start_time": "2024-04-27T13:38:25.433Z"
   },
   {
    "duration": 116,
    "start_time": "2024-04-27T13:40:44.930Z"
   },
   {
    "duration": 144,
    "start_time": "2024-04-27T13:41:51.503Z"
   },
   {
    "duration": 173,
    "start_time": "2024-04-27T13:41:57.716Z"
   },
   {
    "duration": 168,
    "start_time": "2024-04-27T13:42:02.122Z"
   },
   {
    "duration": 143,
    "start_time": "2024-04-27T13:42:05.828Z"
   },
   {
    "duration": 489,
    "start_time": "2024-04-27T13:43:32.194Z"
   },
   {
    "duration": 173,
    "start_time": "2024-04-27T13:43:57.987Z"
   },
   {
    "duration": 4,
    "start_time": "2024-04-27T13:44:23.133Z"
   },
   {
    "duration": 5,
    "start_time": "2024-04-27T13:44:37.428Z"
   },
   {
    "duration": 1155,
    "start_time": "2024-04-27T13:45:10.571Z"
   },
   {
    "duration": 85,
    "start_time": "2024-04-27T13:45:11.728Z"
   },
   {
    "duration": 27,
    "start_time": "2024-04-27T13:45:11.814Z"
   },
   {
    "duration": 8,
    "start_time": "2024-04-27T13:45:11.843Z"
   },
   {
    "duration": 3,
    "start_time": "2024-04-27T13:45:11.853Z"
   },
   {
    "duration": 7,
    "start_time": "2024-04-27T13:45:11.864Z"
   },
   {
    "duration": 20,
    "start_time": "2024-04-27T13:45:11.872Z"
   },
   {
    "duration": 7,
    "start_time": "2024-04-27T13:45:11.894Z"
   },
   {
    "duration": 3,
    "start_time": "2024-04-27T13:45:11.902Z"
   },
   {
    "duration": 13,
    "start_time": "2024-04-27T13:45:11.907Z"
   },
   {
    "duration": 175,
    "start_time": "2024-04-27T13:45:11.921Z"
   },
   {
    "duration": 5,
    "start_time": "2024-04-27T13:45:12.098Z"
   },
   {
    "duration": 144,
    "start_time": "2024-04-27T13:45:12.105Z"
   },
   {
    "duration": 4,
    "start_time": "2024-04-27T13:45:12.252Z"
   },
   {
    "duration": 195,
    "start_time": "2024-04-27T13:45:12.265Z"
   },
   {
    "duration": 329,
    "start_time": "2024-04-27T13:45:12.464Z"
   },
   {
    "duration": 6,
    "start_time": "2024-04-27T13:45:12.794Z"
   },
   {
    "duration": 184,
    "start_time": "2024-04-27T13:45:12.801Z"
   },
   {
    "duration": 11,
    "start_time": "2024-04-27T13:55:17.843Z"
   },
   {
    "duration": 22,
    "start_time": "2024-04-27T13:55:24.493Z"
   },
   {
    "duration": 107,
    "start_time": "2024-04-27T13:55:38.344Z"
   },
   {
    "duration": 21,
    "start_time": "2024-04-27T13:55:42.667Z"
   },
   {
    "duration": 23,
    "start_time": "2024-04-27T13:56:41.174Z"
   },
   {
    "duration": 27,
    "start_time": "2024-04-27T13:58:51.620Z"
   },
   {
    "duration": 1274,
    "start_time": "2024-04-27T14:01:12.755Z"
   },
   {
    "duration": 84,
    "start_time": "2024-04-27T14:01:14.030Z"
   },
   {
    "duration": 27,
    "start_time": "2024-04-27T14:01:14.115Z"
   },
   {
    "duration": 9,
    "start_time": "2024-04-27T14:01:14.144Z"
   },
   {
    "duration": 2,
    "start_time": "2024-04-27T14:01:14.154Z"
   },
   {
    "duration": 7,
    "start_time": "2024-04-27T14:01:14.164Z"
   },
   {
    "duration": 23,
    "start_time": "2024-04-27T14:01:14.172Z"
   },
   {
    "duration": 6,
    "start_time": "2024-04-27T14:01:14.197Z"
   },
   {
    "duration": 3,
    "start_time": "2024-04-27T14:01:14.204Z"
   },
   {
    "duration": 8,
    "start_time": "2024-04-27T14:01:14.209Z"
   },
   {
    "duration": 170,
    "start_time": "2024-04-27T14:01:14.218Z"
   },
   {
    "duration": 5,
    "start_time": "2024-04-27T14:01:14.389Z"
   },
   {
    "duration": 143,
    "start_time": "2024-04-27T14:01:14.395Z"
   },
   {
    "duration": 6,
    "start_time": "2024-04-27T14:01:14.540Z"
   },
   {
    "duration": 198,
    "start_time": "2024-04-27T14:01:14.547Z"
   },
   {
    "duration": 329,
    "start_time": "2024-04-27T14:01:14.746Z"
   },
   {
    "duration": 6,
    "start_time": "2024-04-27T14:01:15.077Z"
   },
   {
    "duration": 184,
    "start_time": "2024-04-27T14:01:15.084Z"
   },
   {
    "duration": 104,
    "start_time": "2024-04-27T14:01:15.270Z"
   },
   {
    "duration": 14,
    "start_time": "2024-04-27T14:01:28.759Z"
   },
   {
    "duration": 26,
    "start_time": "2024-04-27T14:01:33.970Z"
   },
   {
    "duration": 29,
    "start_time": "2024-04-27T14:02:46.560Z"
   },
   {
    "duration": 30,
    "start_time": "2024-04-27T14:04:10.909Z"
   },
   {
    "duration": 10,
    "start_time": "2024-04-27T14:05:06.317Z"
   },
   {
    "duration": 22,
    "start_time": "2024-04-27T14:05:14.738Z"
   },
   {
    "duration": 21,
    "start_time": "2024-04-27T14:05:38.218Z"
   },
   {
    "duration": 21,
    "start_time": "2024-04-27T14:05:55.275Z"
   },
   {
    "duration": 10,
    "start_time": "2024-04-27T14:07:14.611Z"
   },
   {
    "duration": 12,
    "start_time": "2024-04-27T14:07:58.505Z"
   },
   {
    "duration": 2,
    "start_time": "2024-04-27T14:08:49.081Z"
   },
   {
    "duration": 118,
    "start_time": "2024-04-27T14:10:37.112Z"
   },
   {
    "duration": 235,
    "start_time": "2024-04-27T14:10:39.605Z"
   },
   {
    "duration": 289,
    "start_time": "2024-04-27T14:10:54.083Z"
   },
   {
    "duration": 244,
    "start_time": "2024-04-27T14:11:18.198Z"
   },
   {
    "duration": 240,
    "start_time": "2024-04-27T14:11:33.061Z"
   },
   {
    "duration": 263,
    "start_time": "2024-04-27T14:12:45.598Z"
   },
   {
    "duration": 284,
    "start_time": "2024-04-27T14:12:55.712Z"
   },
   {
    "duration": 398,
    "start_time": "2024-04-27T14:12:58.882Z"
   },
   {
    "duration": 347,
    "start_time": "2024-04-27T14:13:34.289Z"
   },
   {
    "duration": 357,
    "start_time": "2024-04-27T14:14:27.327Z"
   },
   {
    "duration": 358,
    "start_time": "2024-04-27T14:14:42.079Z"
   },
   {
    "duration": 360,
    "start_time": "2024-04-27T14:14:49.907Z"
   },
   {
    "duration": 189,
    "start_time": "2024-04-27T14:35:54.438Z"
   },
   {
    "duration": 1125,
    "start_time": "2024-04-27T14:37:06.449Z"
   },
   {
    "duration": 87,
    "start_time": "2024-04-27T14:37:07.576Z"
   },
   {
    "duration": 29,
    "start_time": "2024-04-27T14:37:07.665Z"
   },
   {
    "duration": 9,
    "start_time": "2024-04-27T14:37:07.696Z"
   },
   {
    "duration": 3,
    "start_time": "2024-04-27T14:37:07.706Z"
   },
   {
    "duration": 9,
    "start_time": "2024-04-27T14:37:07.710Z"
   },
   {
    "duration": 53,
    "start_time": "2024-04-27T14:37:07.721Z"
   },
   {
    "duration": 7,
    "start_time": "2024-04-27T14:37:07.776Z"
   },
   {
    "duration": 4,
    "start_time": "2024-04-27T14:37:07.784Z"
   },
   {
    "duration": 16,
    "start_time": "2024-04-27T14:37:07.790Z"
   },
   {
    "duration": 173,
    "start_time": "2024-04-27T14:37:07.807Z"
   },
   {
    "duration": 5,
    "start_time": "2024-04-27T14:37:07.981Z"
   },
   {
    "duration": 153,
    "start_time": "2024-04-27T14:37:07.988Z"
   },
   {
    "duration": 6,
    "start_time": "2024-04-27T14:37:08.142Z"
   },
   {
    "duration": 218,
    "start_time": "2024-04-27T14:37:08.149Z"
   },
   {
    "duration": 349,
    "start_time": "2024-04-27T14:37:08.368Z"
   },
   {
    "duration": 7,
    "start_time": "2024-04-27T14:37:08.718Z"
   },
   {
    "duration": 204,
    "start_time": "2024-04-27T14:37:08.726Z"
   },
   {
    "duration": 39,
    "start_time": "2024-04-27T14:37:08.932Z"
   },
   {
    "duration": 15,
    "start_time": "2024-04-27T14:37:08.972Z"
   },
   {
    "duration": 418,
    "start_time": "2024-04-27T14:37:08.988Z"
   },
   {
    "duration": 479,
    "start_time": "2024-04-27T14:37:09.408Z"
   },
   {
    "duration": 1165,
    "start_time": "2024-04-27T14:38:38.558Z"
   },
   {
    "duration": 94,
    "start_time": "2024-04-27T14:38:39.725Z"
   },
   {
    "duration": 34,
    "start_time": "2024-04-27T14:38:39.820Z"
   },
   {
    "duration": 12,
    "start_time": "2024-04-27T14:38:39.855Z"
   },
   {
    "duration": 3,
    "start_time": "2024-04-27T14:38:39.868Z"
   },
   {
    "duration": 9,
    "start_time": "2024-04-27T14:38:39.872Z"
   },
   {
    "duration": 25,
    "start_time": "2024-04-27T14:38:39.882Z"
   },
   {
    "duration": 7,
    "start_time": "2024-04-27T14:38:39.908Z"
   },
   {
    "duration": 2,
    "start_time": "2024-04-27T14:38:39.917Z"
   },
   {
    "duration": 6,
    "start_time": "2024-04-27T14:38:39.921Z"
   },
   {
    "duration": 179,
    "start_time": "2024-04-27T14:38:39.929Z"
   },
   {
    "duration": 5,
    "start_time": "2024-04-27T14:38:40.109Z"
   },
   {
    "duration": 143,
    "start_time": "2024-04-27T14:38:40.116Z"
   },
   {
    "duration": 8,
    "start_time": "2024-04-27T14:38:40.260Z"
   },
   {
    "duration": 201,
    "start_time": "2024-04-27T14:38:40.270Z"
   },
   {
    "duration": 322,
    "start_time": "2024-04-27T14:38:40.472Z"
   },
   {
    "duration": 5,
    "start_time": "2024-04-27T14:38:40.796Z"
   },
   {
    "duration": 198,
    "start_time": "2024-04-27T14:38:40.802Z"
   },
   {
    "duration": 28,
    "start_time": "2024-04-27T14:38:41.002Z"
   },
   {
    "duration": 13,
    "start_time": "2024-04-27T14:38:41.031Z"
   },
   {
    "duration": 400,
    "start_time": "2024-04-27T14:38:41.045Z"
   },
   {
    "duration": 460,
    "start_time": "2024-04-27T14:38:41.447Z"
   },
   {
    "duration": 121,
    "start_time": "2024-04-27T14:38:41.909Z"
   },
   {
    "duration": 111,
    "start_time": "2024-04-27T14:39:02.914Z"
   },
   {
    "duration": 223,
    "start_time": "2024-04-27T14:40:01.283Z"
   },
   {
    "duration": 122,
    "start_time": "2024-04-27T14:40:04.160Z"
   },
   {
    "duration": 116,
    "start_time": "2024-04-27T14:40:06.638Z"
   },
   {
    "duration": 119,
    "start_time": "2024-04-27T14:40:09.308Z"
   },
   {
    "duration": 122,
    "start_time": "2024-04-27T14:40:11.959Z"
   },
   {
    "duration": 116,
    "start_time": "2024-04-27T14:40:15.398Z"
   },
   {
    "duration": 121,
    "start_time": "2024-04-27T14:40:37.254Z"
   },
   {
    "duration": 190,
    "start_time": "2024-04-27T14:40:49.892Z"
   },
   {
    "duration": 126,
    "start_time": "2024-04-27T14:41:01.236Z"
   },
   {
    "duration": 141,
    "start_time": "2024-04-27T14:41:28.192Z"
   },
   {
    "duration": 126,
    "start_time": "2024-04-27T14:42:02.069Z"
   },
   {
    "duration": 131,
    "start_time": "2024-04-27T14:42:15.991Z"
   },
   {
    "duration": 147,
    "start_time": "2024-04-27T14:42:55.841Z"
   },
   {
    "duration": 417,
    "start_time": "2024-04-27T14:43:14.271Z"
   },
   {
    "duration": 147,
    "start_time": "2024-04-27T14:45:42.178Z"
   },
   {
    "duration": 150,
    "start_time": "2024-04-27T14:46:11.421Z"
   },
   {
    "duration": 152,
    "start_time": "2024-04-27T14:46:14.828Z"
   },
   {
    "duration": 213,
    "start_time": "2024-04-27T14:47:18.211Z"
   },
   {
    "duration": 164,
    "start_time": "2024-04-27T14:47:31.670Z"
   },
   {
    "duration": 143,
    "start_time": "2024-04-27T14:47:37.396Z"
   },
   {
    "duration": 148,
    "start_time": "2024-04-27T14:47:54.556Z"
   },
   {
    "duration": 146,
    "start_time": "2024-04-27T14:48:00.340Z"
   },
   {
    "duration": 158,
    "start_time": "2024-04-27T14:48:41.864Z"
   },
   {
    "duration": 138,
    "start_time": "2024-04-27T14:48:50.824Z"
   },
   {
    "duration": 142,
    "start_time": "2024-04-27T14:48:55.090Z"
   },
   {
    "duration": 156,
    "start_time": "2024-04-27T14:49:03.176Z"
   },
   {
    "duration": 152,
    "start_time": "2024-04-27T14:50:43.273Z"
   },
   {
    "duration": 163,
    "start_time": "2024-04-27T14:50:52.341Z"
   },
   {
    "duration": 235,
    "start_time": "2024-04-27T14:51:07.837Z"
   },
   {
    "duration": 143,
    "start_time": "2024-04-27T14:51:20.550Z"
   },
   {
    "duration": 157,
    "start_time": "2024-04-27T14:51:23.577Z"
   },
   {
    "duration": 148,
    "start_time": "2024-04-27T14:51:40.797Z"
   },
   {
    "duration": 139,
    "start_time": "2024-04-27T14:51:54.835Z"
   },
   {
    "duration": 127,
    "start_time": "2024-04-27T14:52:08.356Z"
   },
   {
    "duration": 146,
    "start_time": "2024-04-27T14:52:13.050Z"
   },
   {
    "duration": 136,
    "start_time": "2024-04-27T14:52:43.320Z"
   },
   {
    "duration": 150,
    "start_time": "2024-04-27T14:52:52.446Z"
   },
   {
    "duration": 143,
    "start_time": "2024-04-27T14:53:02.565Z"
   },
   {
    "duration": 134,
    "start_time": "2024-04-27T14:53:08.105Z"
   },
   {
    "duration": 192,
    "start_time": "2024-04-27T14:53:12.218Z"
   },
   {
    "duration": 138,
    "start_time": "2024-04-27T14:53:23.864Z"
   },
   {
    "duration": 120,
    "start_time": "2024-04-27T14:53:40.812Z"
   },
   {
    "duration": 130,
    "start_time": "2024-04-27T14:53:47.856Z"
   },
   {
    "duration": 40,
    "start_time": "2024-04-27T15:53:47.484Z"
   },
   {
    "duration": 41,
    "start_time": "2024-04-27T15:54:35.168Z"
   },
   {
    "duration": 49,
    "start_time": "2024-04-27T15:54:44.435Z"
   },
   {
    "duration": 39,
    "start_time": "2024-04-27T15:56:32.130Z"
   },
   {
    "duration": 15,
    "start_time": "2024-04-27T15:59:14.577Z"
   },
   {
    "duration": 23,
    "start_time": "2024-04-27T15:59:19.697Z"
   },
   {
    "duration": 87,
    "start_time": "2024-04-27T16:00:48.739Z"
   },
   {
    "duration": 90,
    "start_time": "2024-04-27T16:01:19.527Z"
   },
   {
    "duration": 84,
    "start_time": "2024-04-27T16:01:47.266Z"
   },
   {
    "duration": 17,
    "start_time": "2024-04-27T16:05:05.819Z"
   },
   {
    "duration": 85,
    "start_time": "2024-04-27T16:08:08.349Z"
   },
   {
    "duration": 84,
    "start_time": "2024-04-27T16:08:12.982Z"
   },
   {
    "duration": 14,
    "start_time": "2024-04-27T16:09:08.819Z"
   },
   {
    "duration": 92,
    "start_time": "2024-04-27T16:09:35.226Z"
   },
   {
    "duration": 95,
    "start_time": "2024-04-27T16:09:52.327Z"
   },
   {
    "duration": 89,
    "start_time": "2024-04-27T16:10:17.327Z"
   },
   {
    "duration": 77,
    "start_time": "2024-04-27T16:13:50.197Z"
   },
   {
    "duration": 64,
    "start_time": "2024-04-27T16:14:36.650Z"
   },
   {
    "duration": 14,
    "start_time": "2024-04-27T16:14:43.216Z"
   },
   {
    "duration": 4,
    "start_time": "2024-04-27T16:14:59.940Z"
   },
   {
    "duration": 15,
    "start_time": "2024-04-27T16:15:05.012Z"
   },
   {
    "duration": 3,
    "start_time": "2024-04-27T16:15:10.236Z"
   },
   {
    "duration": 5,
    "start_time": "2024-04-27T16:17:14.295Z"
   },
   {
    "duration": 16,
    "start_time": "2024-04-27T16:17:19.696Z"
   },
   {
    "duration": 4,
    "start_time": "2024-04-27T16:18:55.705Z"
   },
   {
    "duration": 54,
    "start_time": "2024-04-27T16:19:05.741Z"
   },
   {
    "duration": 14,
    "start_time": "2024-04-27T16:19:13.564Z"
   },
   {
    "duration": 18,
    "start_time": "2024-04-27T16:20:01.074Z"
   },
   {
    "duration": 18,
    "start_time": "2024-04-27T16:20:56.936Z"
   },
   {
    "duration": 4,
    "start_time": "2024-04-27T16:23:50.913Z"
   },
   {
    "duration": 3,
    "start_time": "2024-04-27T16:24:00.317Z"
   },
   {
    "duration": 4,
    "start_time": "2024-04-27T16:24:16.997Z"
   },
   {
    "duration": 9,
    "start_time": "2024-04-27T16:26:17.086Z"
   },
   {
    "duration": 3,
    "start_time": "2024-04-27T16:26:28.954Z"
   },
   {
    "duration": 5,
    "start_time": "2024-04-27T16:26:42.380Z"
   },
   {
    "duration": 11,
    "start_time": "2024-04-27T16:31:17.285Z"
   },
   {
    "duration": 12,
    "start_time": "2024-04-27T16:31:36.770Z"
   },
   {
    "duration": 7,
    "start_time": "2024-04-27T16:31:58.382Z"
   },
   {
    "duration": 11,
    "start_time": "2024-04-27T16:32:06.637Z"
   },
   {
    "duration": 9,
    "start_time": "2024-04-27T16:32:19.079Z"
   },
   {
    "duration": 12,
    "start_time": "2024-04-27T16:32:37.536Z"
   },
   {
    "duration": 20,
    "start_time": "2024-04-27T16:32:47.604Z"
   },
   {
    "duration": 50,
    "start_time": "2024-04-27T16:35:23.066Z"
   },
   {
    "duration": 243,
    "start_time": "2024-04-27T16:35:31.791Z"
   },
   {
    "duration": 131,
    "start_time": "2024-04-27T16:37:51.520Z"
   },
   {
    "duration": 129,
    "start_time": "2024-04-27T16:38:24.605Z"
   },
   {
    "duration": 152,
    "start_time": "2024-04-27T16:38:54.932Z"
   },
   {
    "duration": 146,
    "start_time": "2024-04-27T16:39:13.665Z"
   },
   {
    "duration": 152,
    "start_time": "2024-04-27T16:40:48.957Z"
   },
   {
    "duration": 59,
    "start_time": "2024-04-28T06:12:20.941Z"
   },
   {
    "duration": 1427,
    "start_time": "2024-04-28T06:12:38.711Z"
   },
   {
    "duration": 241,
    "start_time": "2024-04-28T06:12:40.140Z"
   },
   {
    "duration": 32,
    "start_time": "2024-04-28T06:12:40.382Z"
   },
   {
    "duration": 13,
    "start_time": "2024-04-28T06:12:40.416Z"
   },
   {
    "duration": 11,
    "start_time": "2024-04-28T06:12:40.430Z"
   },
   {
    "duration": 11,
    "start_time": "2024-04-28T06:12:40.443Z"
   },
   {
    "duration": 23,
    "start_time": "2024-04-28T06:12:40.456Z"
   },
   {
    "duration": 11,
    "start_time": "2024-04-28T06:12:40.480Z"
   },
   {
    "duration": 31,
    "start_time": "2024-04-28T06:12:40.493Z"
   },
   {
    "duration": 14,
    "start_time": "2024-04-28T06:12:40.527Z"
   },
   {
    "duration": 172,
    "start_time": "2024-04-28T06:12:40.543Z"
   },
   {
    "duration": 12,
    "start_time": "2024-04-28T06:12:40.717Z"
   },
   {
    "duration": 164,
    "start_time": "2024-04-28T06:12:40.731Z"
   },
   {
    "duration": 5,
    "start_time": "2024-04-28T06:12:40.897Z"
   },
   {
    "duration": 219,
    "start_time": "2024-04-28T06:12:40.903Z"
   },
   {
    "duration": 362,
    "start_time": "2024-04-28T06:12:41.124Z"
   },
   {
    "duration": 6,
    "start_time": "2024-04-28T06:12:41.488Z"
   },
   {
    "duration": 244,
    "start_time": "2024-04-28T06:12:41.496Z"
   },
   {
    "duration": 32,
    "start_time": "2024-04-28T06:12:41.742Z"
   },
   {
    "duration": 15,
    "start_time": "2024-04-28T06:12:41.776Z"
   },
   {
    "duration": 472,
    "start_time": "2024-04-28T06:12:41.792Z"
   },
   {
    "duration": 519,
    "start_time": "2024-04-28T06:12:42.266Z"
   },
   {
    "duration": 150,
    "start_time": "2024-04-28T06:12:42.786Z"
   },
   {
    "duration": 166,
    "start_time": "2024-04-28T06:12:42.938Z"
   },
   {
    "duration": 120,
    "start_time": "2024-04-28T06:12:43.106Z"
   },
   {
    "duration": 5,
    "start_time": "2024-04-28T06:12:43.229Z"
   },
   {
    "duration": 40,
    "start_time": "2024-04-28T06:12:43.236Z"
   },
   {
    "duration": 4,
    "start_time": "2024-04-28T06:12:43.280Z"
   },
   {
    "duration": 15,
    "start_time": "2024-04-28T06:12:43.286Z"
   },
   {
    "duration": 232,
    "start_time": "2024-04-28T06:12:43.303Z"
   },
   {
    "duration": 20,
    "start_time": "2024-04-28T06:12:43.536Z"
   },
   {
    "duration": 8,
    "start_time": "2024-04-28T06:13:51.406Z"
   },
   {
    "duration": 11,
    "start_time": "2024-04-28T06:14:36.255Z"
   },
   {
    "duration": 12,
    "start_time": "2024-04-28T06:14:56.295Z"
   },
   {
    "duration": 6,
    "start_time": "2024-04-28T06:32:01.768Z"
   },
   {
    "duration": 5,
    "start_time": "2024-04-28T06:33:31.817Z"
   },
   {
    "duration": 48,
    "start_time": "2024-04-28T06:37:19.666Z"
   },
   {
    "duration": 2,
    "start_time": "2024-04-28T06:38:07.157Z"
   },
   {
    "duration": 4,
    "start_time": "2024-04-28T06:39:42.292Z"
   },
   {
    "duration": 5,
    "start_time": "2024-04-28T06:40:13.305Z"
   },
   {
    "duration": 5,
    "start_time": "2024-04-28T06:50:28.075Z"
   },
   {
    "duration": 5,
    "start_time": "2024-04-28T06:50:37.685Z"
   },
   {
    "duration": 6,
    "start_time": "2024-04-28T07:42:39.333Z"
   },
   {
    "duration": 5,
    "start_time": "2024-04-28T07:42:41.470Z"
   },
   {
    "duration": 30,
    "start_time": "2024-04-28T07:46:20.482Z"
   },
   {
    "duration": 1148,
    "start_time": "2024-04-28T07:52:47.490Z"
   },
   {
    "duration": 1137,
    "start_time": "2024-04-28T07:53:04.532Z"
   },
   {
    "duration": 29,
    "start_time": "2024-04-28T07:53:09.572Z"
   },
   {
    "duration": 380,
    "start_time": "2024-04-28T07:53:55.364Z"
   },
   {
    "duration": 225,
    "start_time": "2024-04-28T08:00:27.765Z"
   },
   {
    "duration": 1165,
    "start_time": "2024-04-28T08:01:36.655Z"
   },
   {
    "duration": 96,
    "start_time": "2024-04-28T08:01:37.821Z"
   },
   {
    "duration": 28,
    "start_time": "2024-04-28T08:01:37.919Z"
   },
   {
    "duration": 8,
    "start_time": "2024-04-28T08:01:37.949Z"
   },
   {
    "duration": 3,
    "start_time": "2024-04-28T08:01:37.959Z"
   },
   {
    "duration": 14,
    "start_time": "2024-04-28T08:01:37.963Z"
   },
   {
    "duration": 52,
    "start_time": "2024-04-28T08:01:37.979Z"
   },
   {
    "duration": 8,
    "start_time": "2024-04-28T08:01:38.033Z"
   },
   {
    "duration": 17,
    "start_time": "2024-04-28T08:01:38.042Z"
   },
   {
    "duration": 18,
    "start_time": "2024-04-28T08:01:38.061Z"
   },
   {
    "duration": 178,
    "start_time": "2024-04-28T08:01:38.081Z"
   },
   {
    "duration": 6,
    "start_time": "2024-04-28T08:01:38.261Z"
   },
   {
    "duration": 171,
    "start_time": "2024-04-28T08:01:38.269Z"
   },
   {
    "duration": 5,
    "start_time": "2024-04-28T08:01:38.443Z"
   },
   {
    "duration": 221,
    "start_time": "2024-04-28T08:01:38.450Z"
   },
   {
    "duration": 381,
    "start_time": "2024-04-28T08:01:38.673Z"
   },
   {
    "duration": 7,
    "start_time": "2024-04-28T08:01:39.057Z"
   },
   {
    "duration": 213,
    "start_time": "2024-04-28T08:01:39.066Z"
   },
   {
    "duration": 33,
    "start_time": "2024-04-28T08:01:39.281Z"
   },
   {
    "duration": 27,
    "start_time": "2024-04-28T08:01:39.316Z"
   },
   {
    "duration": 471,
    "start_time": "2024-04-28T08:01:39.345Z"
   },
   {
    "duration": 544,
    "start_time": "2024-04-28T08:01:39.819Z"
   },
   {
    "duration": 172,
    "start_time": "2024-04-28T08:01:40.366Z"
   },
   {
    "duration": 178,
    "start_time": "2024-04-28T08:01:40.540Z"
   },
   {
    "duration": 113,
    "start_time": "2024-04-28T08:01:40.720Z"
   },
   {
    "duration": 5,
    "start_time": "2024-04-28T08:01:40.835Z"
   },
   {
    "duration": 44,
    "start_time": "2024-04-28T08:01:40.842Z"
   },
   {
    "duration": 6,
    "start_time": "2024-04-28T08:01:40.888Z"
   },
   {
    "duration": 22,
    "start_time": "2024-04-28T08:01:40.896Z"
   },
   {
    "duration": 189,
    "start_time": "2024-04-28T08:01:40.920Z"
   },
   {
    "duration": 21,
    "start_time": "2024-04-28T08:01:41.111Z"
   },
   {
    "duration": 6,
    "start_time": "2024-04-28T08:01:41.133Z"
   },
   {
    "duration": 5,
    "start_time": "2024-04-28T08:01:41.141Z"
   },
   {
    "duration": 7,
    "start_time": "2024-04-28T08:01:41.147Z"
   },
   {
    "duration": 42,
    "start_time": "2024-04-28T08:01:41.156Z"
   },
   {
    "duration": 5,
    "start_time": "2024-04-28T08:06:09.558Z"
   },
   {
    "duration": 4,
    "start_time": "2024-04-28T08:06:21.586Z"
   },
   {
    "duration": 6,
    "start_time": "2024-04-28T08:06:30.187Z"
   },
   {
    "duration": 102,
    "start_time": "2024-04-28T08:14:10.128Z"
   },
   {
    "duration": 10,
    "start_time": "2024-04-28T08:15:08.405Z"
   },
   {
    "duration": 10,
    "start_time": "2024-04-28T08:15:20.227Z"
   },
   {
    "duration": 5,
    "start_time": "2024-04-28T08:15:23.906Z"
   },
   {
    "duration": 3,
    "start_time": "2024-04-28T08:15:25.533Z"
   },
   {
    "duration": 3,
    "start_time": "2024-04-28T08:15:29.720Z"
   },
   {
    "duration": 5,
    "start_time": "2024-04-28T08:15:37.066Z"
   },
   {
    "duration": 4,
    "start_time": "2024-04-28T08:15:40.231Z"
   },
   {
    "duration": 4,
    "start_time": "2024-04-28T08:15:41.964Z"
   },
   {
    "duration": 4,
    "start_time": "2024-04-28T08:15:43.500Z"
   },
   {
    "duration": 33,
    "start_time": "2024-04-28T08:16:03.608Z"
   },
   {
    "duration": 6,
    "start_time": "2024-04-28T08:16:25.841Z"
   },
   {
    "duration": 10,
    "start_time": "2024-04-28T08:17:55.238Z"
   },
   {
    "duration": 9,
    "start_time": "2024-04-28T08:17:58.132Z"
   },
   {
    "duration": 12,
    "start_time": "2024-04-28T08:18:02.567Z"
   },
   {
    "duration": 110,
    "start_time": "2024-04-28T08:18:31.097Z"
   },
   {
    "duration": 171,
    "start_time": "2024-04-28T08:18:55.890Z"
   },
   {
    "duration": 14,
    "start_time": "2024-04-28T08:21:47.877Z"
   },
   {
    "duration": 43,
    "start_time": "2024-04-28T08:22:04.080Z"
   },
   {
    "duration": 45,
    "start_time": "2024-04-28T08:22:26.695Z"
   },
   {
    "duration": 218,
    "start_time": "2024-04-28T08:23:16.977Z"
   },
   {
    "duration": 315,
    "start_time": "2024-04-28T08:23:33.496Z"
   },
   {
    "duration": 5,
    "start_time": "2024-04-28T08:23:36.676Z"
   },
   {
    "duration": 4,
    "start_time": "2024-04-28T08:23:38.099Z"
   },
   {
    "duration": 4,
    "start_time": "2024-04-28T08:23:39.390Z"
   },
   {
    "duration": 5,
    "start_time": "2024-04-28T08:23:48.755Z"
   },
   {
    "duration": 5,
    "start_time": "2024-04-28T08:23:55.505Z"
   },
   {
    "duration": 27,
    "start_time": "2024-04-28T08:23:56.750Z"
   },
   {
    "duration": 199,
    "start_time": "2024-04-28T08:23:58.177Z"
   },
   {
    "duration": 5,
    "start_time": "2024-04-28T08:28:24.919Z"
   },
   {
    "duration": 272,
    "start_time": "2024-04-28T08:29:50.689Z"
   },
   {
    "duration": 49,
    "start_time": "2024-04-28T08:37:24.583Z"
   },
   {
    "duration": 1200,
    "start_time": "2024-04-28T08:52:45.693Z"
   },
   {
    "duration": 91,
    "start_time": "2024-04-28T08:52:46.895Z"
   },
   {
    "duration": 46,
    "start_time": "2024-04-28T08:52:46.988Z"
   },
   {
    "duration": 11,
    "start_time": "2024-04-28T08:52:47.036Z"
   },
   {
    "duration": 4,
    "start_time": "2024-04-28T08:52:47.049Z"
   },
   {
    "duration": 12,
    "start_time": "2024-04-28T08:52:47.054Z"
   },
   {
    "duration": 26,
    "start_time": "2024-04-28T08:52:47.067Z"
   },
   {
    "duration": 35,
    "start_time": "2024-04-28T08:52:47.095Z"
   },
   {
    "duration": 5,
    "start_time": "2024-04-28T08:52:47.132Z"
   },
   {
    "duration": 7,
    "start_time": "2024-04-28T08:52:47.141Z"
   },
   {
    "duration": 198,
    "start_time": "2024-04-28T08:52:47.150Z"
   },
   {
    "duration": 7,
    "start_time": "2024-04-28T08:52:47.349Z"
   },
   {
    "duration": 176,
    "start_time": "2024-04-28T08:52:47.357Z"
   },
   {
    "duration": 7,
    "start_time": "2024-04-28T08:52:47.535Z"
   },
   {
    "duration": 252,
    "start_time": "2024-04-28T08:52:47.544Z"
   },
   {
    "duration": 404,
    "start_time": "2024-04-28T08:52:47.798Z"
   },
   {
    "duration": 8,
    "start_time": "2024-04-28T08:52:48.205Z"
   },
   {
    "duration": 207,
    "start_time": "2024-04-28T08:52:48.230Z"
   },
   {
    "duration": 49,
    "start_time": "2024-04-28T08:52:48.439Z"
   },
   {
    "duration": 38,
    "start_time": "2024-04-28T08:52:48.491Z"
   },
   {
    "duration": 464,
    "start_time": "2024-04-28T08:52:48.532Z"
   },
   {
    "duration": 545,
    "start_time": "2024-04-28T08:52:48.998Z"
   },
   {
    "duration": 192,
    "start_time": "2024-04-28T08:52:49.545Z"
   },
   {
    "duration": 210,
    "start_time": "2024-04-28T08:52:49.739Z"
   },
   {
    "duration": 131,
    "start_time": "2024-04-28T08:52:49.951Z"
   },
   {
    "duration": 7,
    "start_time": "2024-04-28T08:52:50.085Z"
   },
   {
    "duration": 39,
    "start_time": "2024-04-28T08:52:50.094Z"
   },
   {
    "duration": 8,
    "start_time": "2024-04-28T08:52:50.137Z"
   },
   {
    "duration": 12,
    "start_time": "2024-04-28T08:52:50.146Z"
   },
   {
    "duration": 200,
    "start_time": "2024-04-28T08:52:50.160Z"
   },
   {
    "duration": 16,
    "start_time": "2024-04-28T08:52:50.363Z"
   },
   {
    "duration": 6,
    "start_time": "2024-04-28T08:52:50.382Z"
   },
   {
    "duration": 17,
    "start_time": "2024-04-28T08:52:50.390Z"
   },
   {
    "duration": 8,
    "start_time": "2024-04-28T08:52:50.436Z"
   },
   {
    "duration": 8,
    "start_time": "2024-04-28T08:52:50.447Z"
   },
   {
    "duration": 75,
    "start_time": "2024-04-28T08:52:50.458Z"
   },
   {
    "duration": 9,
    "start_time": "2024-04-28T08:52:50.535Z"
   },
   {
    "duration": 3,
    "start_time": "2024-04-28T08:56:01.991Z"
   },
   {
    "duration": 1181,
    "start_time": "2024-04-28T08:56:09.750Z"
   },
   {
    "duration": 88,
    "start_time": "2024-04-28T08:56:10.933Z"
   },
   {
    "duration": 30,
    "start_time": "2024-04-28T08:56:11.023Z"
   },
   {
    "duration": 10,
    "start_time": "2024-04-28T08:56:11.055Z"
   },
   {
    "duration": 3,
    "start_time": "2024-04-28T08:56:11.067Z"
   },
   {
    "duration": 14,
    "start_time": "2024-04-28T08:56:11.071Z"
   },
   {
    "duration": 50,
    "start_time": "2024-04-28T08:56:11.087Z"
   },
   {
    "duration": 9,
    "start_time": "2024-04-28T08:56:11.138Z"
   },
   {
    "duration": 13,
    "start_time": "2024-04-28T08:56:11.148Z"
   },
   {
    "duration": 6,
    "start_time": "2024-04-28T08:56:11.164Z"
   },
   {
    "duration": 190,
    "start_time": "2024-04-28T08:56:11.172Z"
   },
   {
    "duration": 7,
    "start_time": "2024-04-28T08:56:11.364Z"
   },
   {
    "duration": 204,
    "start_time": "2024-04-28T08:56:11.373Z"
   },
   {
    "duration": 7,
    "start_time": "2024-04-28T08:56:11.579Z"
   },
   {
    "duration": 228,
    "start_time": "2024-04-28T08:56:11.588Z"
   },
   {
    "duration": 368,
    "start_time": "2024-04-28T08:56:11.817Z"
   },
   {
    "duration": 6,
    "start_time": "2024-04-28T08:56:12.187Z"
   },
   {
    "duration": 210,
    "start_time": "2024-04-28T08:56:12.195Z"
   },
   {
    "duration": 39,
    "start_time": "2024-04-28T08:56:12.407Z"
   },
   {
    "duration": 16,
    "start_time": "2024-04-28T08:56:12.448Z"
   },
   {
    "duration": 482,
    "start_time": "2024-04-28T08:56:12.466Z"
   },
   {
    "duration": 532,
    "start_time": "2024-04-28T08:56:12.951Z"
   },
   {
    "duration": 169,
    "start_time": "2024-04-28T08:56:13.484Z"
   },
   {
    "duration": 181,
    "start_time": "2024-04-28T08:56:13.655Z"
   },
   {
    "duration": 115,
    "start_time": "2024-04-28T08:56:13.837Z"
   },
   {
    "duration": 5,
    "start_time": "2024-04-28T08:56:13.954Z"
   },
   {
    "duration": 28,
    "start_time": "2024-04-28T08:56:13.961Z"
   },
   {
    "duration": 4,
    "start_time": "2024-04-28T08:56:13.992Z"
   },
   {
    "duration": 9,
    "start_time": "2024-04-28T08:56:13.998Z"
   },
   {
    "duration": 200,
    "start_time": "2024-04-28T08:56:14.008Z"
   },
   {
    "duration": 24,
    "start_time": "2024-04-28T08:56:14.210Z"
   },
   {
    "duration": 5,
    "start_time": "2024-04-28T08:56:14.236Z"
   },
   {
    "duration": 14,
    "start_time": "2024-04-28T08:56:14.243Z"
   },
   {
    "duration": 11,
    "start_time": "2024-04-28T08:56:14.259Z"
   },
   {
    "duration": 7,
    "start_time": "2024-04-28T08:56:14.271Z"
   },
   {
    "duration": 31,
    "start_time": "2024-04-28T08:56:14.279Z"
   },
   {
    "duration": 20,
    "start_time": "2024-04-28T08:56:14.312Z"
   },
   {
    "duration": 1381,
    "start_time": "2024-04-28T14:33:48.532Z"
   },
   {
    "duration": 242,
    "start_time": "2024-04-28T14:33:49.915Z"
   },
   {
    "duration": 32,
    "start_time": "2024-04-28T14:33:50.159Z"
   },
   {
    "duration": 11,
    "start_time": "2024-04-28T14:33:50.193Z"
   },
   {
    "duration": 4,
    "start_time": "2024-04-28T14:33:50.206Z"
   },
   {
    "duration": 14,
    "start_time": "2024-04-28T14:33:50.230Z"
   },
   {
    "duration": 41,
    "start_time": "2024-04-28T14:33:50.246Z"
   },
   {
    "duration": 8,
    "start_time": "2024-04-28T14:33:50.289Z"
   },
   {
    "duration": 14,
    "start_time": "2024-04-28T14:33:50.299Z"
   },
   {
    "duration": 30,
    "start_time": "2024-04-28T14:33:50.316Z"
   },
   {
    "duration": 210,
    "start_time": "2024-04-28T14:33:50.348Z"
   },
   {
    "duration": 8,
    "start_time": "2024-04-28T14:33:50.560Z"
   },
   {
    "duration": 199,
    "start_time": "2024-04-28T14:33:50.570Z"
   },
   {
    "duration": 6,
    "start_time": "2024-04-28T14:33:50.771Z"
   },
   {
    "duration": 246,
    "start_time": "2024-04-28T14:33:50.779Z"
   },
   {
    "duration": 402,
    "start_time": "2024-04-28T14:33:51.029Z"
   },
   {
    "duration": 6,
    "start_time": "2024-04-28T14:33:51.433Z"
   },
   {
    "duration": 228,
    "start_time": "2024-04-28T14:33:51.441Z"
   },
   {
    "duration": 44,
    "start_time": "2024-04-28T14:33:51.672Z"
   },
   {
    "duration": 21,
    "start_time": "2024-04-28T14:33:51.732Z"
   },
   {
    "duration": 494,
    "start_time": "2024-04-28T14:33:51.755Z"
   },
   {
    "duration": 528,
    "start_time": "2024-04-28T14:33:52.251Z"
   },
   {
    "duration": 176,
    "start_time": "2024-04-28T14:33:52.781Z"
   },
   {
    "duration": 179,
    "start_time": "2024-04-28T14:33:52.959Z"
   },
   {
    "duration": 170,
    "start_time": "2024-04-28T14:33:53.140Z"
   },
   {
    "duration": 6,
    "start_time": "2024-04-28T14:33:53.312Z"
   },
   {
    "duration": 31,
    "start_time": "2024-04-28T14:33:53.330Z"
   },
   {
    "duration": 4,
    "start_time": "2024-04-28T14:33:53.365Z"
   },
   {
    "duration": 7,
    "start_time": "2024-04-28T14:33:53.371Z"
   },
   {
    "duration": 246,
    "start_time": "2024-04-28T14:33:53.380Z"
   },
   {
    "duration": 16,
    "start_time": "2024-04-28T14:33:53.629Z"
   },
   {
    "duration": 7,
    "start_time": "2024-04-28T14:33:53.647Z"
   },
   {
    "duration": 10,
    "start_time": "2024-04-28T14:33:53.656Z"
   },
   {
    "duration": 16,
    "start_time": "2024-04-28T14:33:53.668Z"
   },
   {
    "duration": 15,
    "start_time": "2024-04-28T14:33:53.686Z"
   },
   {
    "duration": 85,
    "start_time": "2024-04-28T14:33:53.703Z"
   },
   {
    "duration": 10,
    "start_time": "2024-04-28T14:33:53.790Z"
   },
   {
    "duration": 9,
    "start_time": "2024-04-28T14:41:08.240Z"
   },
   {
    "duration": 8,
    "start_time": "2024-04-28T14:41:28.848Z"
   },
   {
    "duration": 9,
    "start_time": "2024-04-28T14:41:51.343Z"
   },
   {
    "duration": 8,
    "start_time": "2024-04-28T14:42:17.182Z"
   },
   {
    "duration": 8,
    "start_time": "2024-04-28T14:42:35.483Z"
   },
   {
    "duration": 4,
    "start_time": "2024-04-28T14:44:55.378Z"
   },
   {
    "duration": 6,
    "start_time": "2024-04-28T14:45:01.446Z"
   },
   {
    "duration": 6,
    "start_time": "2024-04-28T14:45:01.638Z"
   },
   {
    "duration": 5,
    "start_time": "2024-04-28T14:46:14.929Z"
   },
   {
    "duration": 4,
    "start_time": "2024-04-28T14:46:15.103Z"
   },
   {
    "duration": 6,
    "start_time": "2024-04-28T14:46:21.263Z"
   },
   {
    "duration": 4,
    "start_time": "2024-04-28T14:46:21.423Z"
   },
   {
    "duration": 51,
    "start_time": "2024-04-28T15:34:50.922Z"
   },
   {
    "duration": 1328,
    "start_time": "2024-04-28T15:35:03.941Z"
   },
   {
    "duration": 234,
    "start_time": "2024-04-28T15:35:05.271Z"
   },
   {
    "duration": 32,
    "start_time": "2024-04-28T15:35:05.507Z"
   },
   {
    "duration": 9,
    "start_time": "2024-04-28T15:35:05.542Z"
   },
   {
    "duration": 5,
    "start_time": "2024-04-28T15:35:05.553Z"
   },
   {
    "duration": 13,
    "start_time": "2024-04-28T15:35:05.561Z"
   },
   {
    "duration": 52,
    "start_time": "2024-04-28T15:35:05.576Z"
   },
   {
    "duration": 8,
    "start_time": "2024-04-28T15:35:05.630Z"
   },
   {
    "duration": 4,
    "start_time": "2024-04-28T15:35:05.640Z"
   },
   {
    "duration": 5,
    "start_time": "2024-04-28T15:35:05.647Z"
   },
   {
    "duration": 172,
    "start_time": "2024-04-28T15:35:05.654Z"
   },
   {
    "duration": 6,
    "start_time": "2024-04-28T15:35:05.828Z"
   },
   {
    "duration": 188,
    "start_time": "2024-04-28T15:35:05.836Z"
   },
   {
    "duration": 6,
    "start_time": "2024-04-28T15:35:06.025Z"
   },
   {
    "duration": 242,
    "start_time": "2024-04-28T15:35:06.032Z"
   },
   {
    "duration": 388,
    "start_time": "2024-04-28T15:35:06.276Z"
   },
   {
    "duration": 6,
    "start_time": "2024-04-28T15:35:06.666Z"
   },
   {
    "duration": 222,
    "start_time": "2024-04-28T15:35:06.674Z"
   },
   {
    "duration": 32,
    "start_time": "2024-04-28T15:35:06.897Z"
   },
   {
    "duration": 34,
    "start_time": "2024-04-28T15:35:06.930Z"
   },
   {
    "duration": 466,
    "start_time": "2024-04-28T15:35:06.966Z"
   },
   {
    "duration": 528,
    "start_time": "2024-04-28T15:35:07.434Z"
   },
   {
    "duration": 156,
    "start_time": "2024-04-28T15:35:07.964Z"
   },
   {
    "duration": 170,
    "start_time": "2024-04-28T15:35:08.122Z"
   },
   {
    "duration": 118,
    "start_time": "2024-04-28T15:35:08.293Z"
   },
   {
    "duration": 5,
    "start_time": "2024-04-28T15:35:08.413Z"
   },
   {
    "duration": 22,
    "start_time": "2024-04-28T15:35:08.419Z"
   },
   {
    "duration": 18,
    "start_time": "2024-04-28T15:35:08.445Z"
   },
   {
    "duration": 8,
    "start_time": "2024-04-28T15:35:08.465Z"
   },
   {
    "duration": 181,
    "start_time": "2024-04-28T15:35:08.475Z"
   },
   {
    "duration": 14,
    "start_time": "2024-04-28T15:35:08.657Z"
   },
   {
    "duration": 5,
    "start_time": "2024-04-28T15:35:08.673Z"
   },
   {
    "duration": 5,
    "start_time": "2024-04-28T15:35:08.680Z"
   },
   {
    "duration": 6,
    "start_time": "2024-04-28T15:35:08.686Z"
   },
   {
    "duration": 7,
    "start_time": "2024-04-28T15:35:08.693Z"
   },
   {
    "duration": 70,
    "start_time": "2024-04-28T15:35:08.701Z"
   },
   {
    "duration": 5,
    "start_time": "2024-04-28T15:35:08.773Z"
   },
   {
    "duration": 161,
    "start_time": "2024-04-28T15:35:28.864Z"
   },
   {
    "duration": 164,
    "start_time": "2024-04-28T15:35:54.448Z"
   },
   {
    "duration": 109,
    "start_time": "2024-04-28T15:39:07.446Z"
   },
   {
    "duration": 1195,
    "start_time": "2024-04-28T15:39:13.973Z"
   },
   {
    "duration": 800,
    "start_time": "2024-04-28T15:39:24.534Z"
   },
   {
    "duration": 798,
    "start_time": "2024-04-28T15:39:27.688Z"
   },
   {
    "duration": 1149,
    "start_time": "2024-04-28T15:39:35.770Z"
   },
   {
    "duration": 94,
    "start_time": "2024-04-28T15:39:36.921Z"
   },
   {
    "duration": 35,
    "start_time": "2024-04-28T15:39:37.017Z"
   },
   {
    "duration": 12,
    "start_time": "2024-04-28T15:39:37.060Z"
   },
   {
    "duration": 4,
    "start_time": "2024-04-28T15:39:37.074Z"
   },
   {
    "duration": 19,
    "start_time": "2024-04-28T15:39:37.080Z"
   },
   {
    "duration": 60,
    "start_time": "2024-04-28T15:39:37.101Z"
   },
   {
    "duration": 10,
    "start_time": "2024-04-28T15:39:37.162Z"
   },
   {
    "duration": 3,
    "start_time": "2024-04-28T15:39:37.174Z"
   },
   {
    "duration": 12,
    "start_time": "2024-04-28T15:39:37.180Z"
   },
   {
    "duration": 211,
    "start_time": "2024-04-28T15:39:37.193Z"
   },
   {
    "duration": 6,
    "start_time": "2024-04-28T15:39:37.406Z"
   },
   {
    "duration": 166,
    "start_time": "2024-04-28T15:39:37.414Z"
   },
   {
    "duration": 6,
    "start_time": "2024-04-28T15:39:37.582Z"
   },
   {
    "duration": 228,
    "start_time": "2024-04-28T15:39:37.590Z"
   },
   {
    "duration": 369,
    "start_time": "2024-04-28T15:39:37.820Z"
   },
   {
    "duration": 7,
    "start_time": "2024-04-28T15:39:38.190Z"
   },
   {
    "duration": 200,
    "start_time": "2024-04-28T15:39:38.198Z"
   },
   {
    "duration": 33,
    "start_time": "2024-04-28T15:39:38.400Z"
   },
   {
    "duration": 32,
    "start_time": "2024-04-28T15:39:38.434Z"
   },
   {
    "duration": 473,
    "start_time": "2024-04-28T15:39:38.468Z"
   },
   {
    "duration": 529,
    "start_time": "2024-04-28T15:39:38.943Z"
   },
   {
    "duration": 146,
    "start_time": "2024-04-28T15:39:39.474Z"
   },
   {
    "duration": 161,
    "start_time": "2024-04-28T15:39:39.622Z"
   },
   {
    "duration": 115,
    "start_time": "2024-04-28T15:39:39.785Z"
   },
   {
    "duration": 4,
    "start_time": "2024-04-28T15:39:39.902Z"
   },
   {
    "duration": 20,
    "start_time": "2024-04-28T15:39:39.908Z"
   },
   {
    "duration": 4,
    "start_time": "2024-04-28T15:39:39.931Z"
   },
   {
    "duration": 24,
    "start_time": "2024-04-28T15:39:39.937Z"
   },
   {
    "duration": 190,
    "start_time": "2024-04-28T15:39:39.963Z"
   },
   {
    "duration": 11,
    "start_time": "2024-04-28T15:39:40.160Z"
   },
   {
    "duration": 7,
    "start_time": "2024-04-28T15:39:40.173Z"
   },
   {
    "duration": 5,
    "start_time": "2024-04-28T15:39:40.182Z"
   },
   {
    "duration": 8,
    "start_time": "2024-04-28T15:39:40.189Z"
   },
   {
    "duration": 5,
    "start_time": "2024-04-28T15:39:40.199Z"
   },
   {
    "duration": 62,
    "start_time": "2024-04-28T15:39:40.206Z"
   },
   {
    "duration": 5,
    "start_time": "2024-04-28T15:39:40.269Z"
   },
   {
    "duration": 19,
    "start_time": "2024-04-28T15:39:59.619Z"
   },
   {
    "duration": 52,
    "start_time": "2024-04-28T15:40:18.402Z"
   },
   {
    "duration": 6,
    "start_time": "2024-04-28T15:48:19.740Z"
   },
   {
    "duration": 6,
    "start_time": "2024-04-28T15:49:09.775Z"
   },
   {
    "duration": 7,
    "start_time": "2024-04-28T15:49:20.267Z"
   },
   {
    "duration": 6,
    "start_time": "2024-04-28T15:49:29.717Z"
   },
   {
    "duration": 56,
    "start_time": "2024-04-28T15:52:04.417Z"
   },
   {
    "duration": 133,
    "start_time": "2024-04-28T15:53:31.783Z"
   },
   {
    "duration": 13,
    "start_time": "2024-04-28T15:53:48.380Z"
   },
   {
    "duration": 55,
    "start_time": "2024-04-28T15:55:06.216Z"
   },
   {
    "duration": 1142,
    "start_time": "2024-04-28T15:58:27.209Z"
   },
   {
    "duration": 93,
    "start_time": "2024-04-28T15:58:28.353Z"
   },
   {
    "duration": 30,
    "start_time": "2024-04-28T15:58:28.447Z"
   },
   {
    "duration": 11,
    "start_time": "2024-04-28T15:58:28.480Z"
   },
   {
    "duration": 3,
    "start_time": "2024-04-28T15:58:28.493Z"
   },
   {
    "duration": 10,
    "start_time": "2024-04-28T15:58:28.497Z"
   },
   {
    "duration": 59,
    "start_time": "2024-04-28T15:58:28.508Z"
   },
   {
    "duration": 8,
    "start_time": "2024-04-28T15:58:28.568Z"
   },
   {
    "duration": 5,
    "start_time": "2024-04-28T15:58:28.578Z"
   },
   {
    "duration": 6,
    "start_time": "2024-04-28T15:58:28.586Z"
   },
   {
    "duration": 209,
    "start_time": "2024-04-28T15:58:28.594Z"
   },
   {
    "duration": 5,
    "start_time": "2024-04-28T15:58:28.805Z"
   },
   {
    "duration": 169,
    "start_time": "2024-04-28T15:58:28.812Z"
   },
   {
    "duration": 5,
    "start_time": "2024-04-28T15:58:28.982Z"
   },
   {
    "duration": 225,
    "start_time": "2024-04-28T15:58:28.989Z"
   },
   {
    "duration": 361,
    "start_time": "2024-04-28T15:58:29.216Z"
   },
   {
    "duration": 6,
    "start_time": "2024-04-28T15:58:29.578Z"
   },
   {
    "duration": 215,
    "start_time": "2024-04-28T15:58:29.586Z"
   },
   {
    "duration": 33,
    "start_time": "2024-04-28T15:58:29.803Z"
   },
   {
    "duration": 36,
    "start_time": "2024-04-28T15:58:29.838Z"
   },
   {
    "duration": 478,
    "start_time": "2024-04-28T15:58:29.875Z"
   },
   {
    "duration": 522,
    "start_time": "2024-04-28T15:58:30.354Z"
   },
   {
    "duration": 160,
    "start_time": "2024-04-28T15:58:30.877Z"
   },
   {
    "duration": 184,
    "start_time": "2024-04-28T15:58:31.039Z"
   },
   {
    "duration": 109,
    "start_time": "2024-04-28T15:58:31.225Z"
   },
   {
    "duration": 4,
    "start_time": "2024-04-28T15:58:31.336Z"
   },
   {
    "duration": 45,
    "start_time": "2024-04-28T15:58:31.342Z"
   },
   {
    "duration": 25,
    "start_time": "2024-04-28T15:58:31.390Z"
   },
   {
    "duration": 30,
    "start_time": "2024-04-28T15:58:31.416Z"
   },
   {
    "duration": 258,
    "start_time": "2024-04-28T15:58:31.448Z"
   },
   {
    "duration": 62,
    "start_time": "2024-04-28T15:58:31.708Z"
   },
   {
    "duration": 6,
    "start_time": "2024-04-28T15:58:31.772Z"
   },
   {
    "duration": 6,
    "start_time": "2024-04-28T15:58:31.779Z"
   },
   {
    "duration": 5,
    "start_time": "2024-04-28T15:58:31.786Z"
   },
   {
    "duration": 9,
    "start_time": "2024-04-28T15:58:31.793Z"
   },
   {
    "duration": 74,
    "start_time": "2024-04-28T15:58:31.804Z"
   },
   {
    "duration": 5,
    "start_time": "2024-04-28T15:58:31.880Z"
   },
   {
    "duration": 1157,
    "start_time": "2024-04-28T16:41:34.475Z"
   },
   {
    "duration": 91,
    "start_time": "2024-04-28T16:41:35.634Z"
   },
   {
    "duration": 31,
    "start_time": "2024-04-28T16:41:35.727Z"
   },
   {
    "duration": 10,
    "start_time": "2024-04-28T16:41:35.760Z"
   },
   {
    "duration": 11,
    "start_time": "2024-04-28T16:41:35.772Z"
   },
   {
    "duration": 36,
    "start_time": "2024-04-28T16:41:35.785Z"
   },
   {
    "duration": 48,
    "start_time": "2024-04-28T16:41:35.823Z"
   },
   {
    "duration": 8,
    "start_time": "2024-04-28T16:41:35.873Z"
   },
   {
    "duration": 3,
    "start_time": "2024-04-28T16:41:35.882Z"
   },
   {
    "duration": 21,
    "start_time": "2024-04-28T16:41:35.888Z"
   },
   {
    "duration": 191,
    "start_time": "2024-04-28T16:41:35.911Z"
   },
   {
    "duration": 6,
    "start_time": "2024-04-28T16:41:36.104Z"
   },
   {
    "duration": 166,
    "start_time": "2024-04-28T16:41:36.112Z"
   },
   {
    "duration": 5,
    "start_time": "2024-04-28T16:41:36.280Z"
   },
   {
    "duration": 231,
    "start_time": "2024-04-28T16:41:36.287Z"
   },
   {
    "duration": 389,
    "start_time": "2024-04-28T16:41:36.519Z"
   },
   {
    "duration": 6,
    "start_time": "2024-04-28T16:41:36.909Z"
   },
   {
    "duration": 219,
    "start_time": "2024-04-28T16:41:36.917Z"
   },
   {
    "duration": 36,
    "start_time": "2024-04-28T16:41:37.138Z"
   },
   {
    "duration": 16,
    "start_time": "2024-04-28T16:41:37.176Z"
   },
   {
    "duration": 475,
    "start_time": "2024-04-28T16:41:37.194Z"
   },
   {
    "duration": 548,
    "start_time": "2024-04-28T16:41:37.671Z"
   },
   {
    "duration": 174,
    "start_time": "2024-04-28T16:41:38.221Z"
   },
   {
    "duration": 168,
    "start_time": "2024-04-28T16:41:38.397Z"
   },
   {
    "duration": 100,
    "start_time": "2024-04-28T16:41:38.567Z"
   },
   {
    "duration": 6,
    "start_time": "2024-04-28T16:41:38.669Z"
   },
   {
    "duration": 14,
    "start_time": "2024-04-28T16:41:38.676Z"
   },
   {
    "duration": 4,
    "start_time": "2024-04-28T16:41:38.693Z"
   },
   {
    "duration": 32,
    "start_time": "2024-04-28T16:41:38.698Z"
   },
   {
    "duration": 172,
    "start_time": "2024-04-28T16:41:38.732Z"
   },
   {
    "duration": 12,
    "start_time": "2024-04-28T16:41:38.906Z"
   },
   {
    "duration": 6,
    "start_time": "2024-04-28T16:41:38.929Z"
   },
   {
    "duration": 6,
    "start_time": "2024-04-28T16:41:38.937Z"
   },
   {
    "duration": 6,
    "start_time": "2024-04-28T16:41:38.944Z"
   },
   {
    "duration": 21,
    "start_time": "2024-04-28T16:41:38.951Z"
   },
   {
    "duration": 30,
    "start_time": "2024-04-28T16:41:38.974Z"
   },
   {
    "duration": 5,
    "start_time": "2024-04-28T16:41:39.006Z"
   }
  ],
  "kernelspec": {
   "display_name": "Python 3 (ipykernel)",
   "language": "python",
   "name": "python3"
  },
  "language_info": {
   "codemirror_mode": {
    "name": "ipython",
    "version": 3
   },
   "file_extension": ".py",
   "mimetype": "text/x-python",
   "name": "python",
   "nbconvert_exporter": "python",
   "pygments_lexer": "ipython3",
   "version": "3.9.5"
  },
  "toc": {
   "base_numbering": 1,
   "nav_menu": {},
   "number_sections": true,
   "sideBar": true,
   "skip_h1_title": true,
   "title_cell": "Table of Contents",
   "title_sidebar": "Contents",
   "toc_cell": false,
   "toc_position": {
    "height": "244.688px",
    "left": "24px",
    "top": "111.141px",
    "width": "262.334564px"
   },
   "toc_section_display": true,
   "toc_window_display": true
  }
 },
 "nbformat": 4,
 "nbformat_minor": 5
}

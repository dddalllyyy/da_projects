{
 "cells": [
  {
   "cell_type": "markdown",
   "metadata": {},
   "source": [
    "# Проект: Банки — Анализ оттока клиентов"
   ]
  },
  {
   "cell_type": "markdown",
   "metadata": {},
   "source": [
    "## Задача, этапы выполнения и описание данных:\n",
    "\n",
    "### Задача. \n",
    "- Проанализируйте клиентов регионального банка и выделите сегменты клиентов, которые склонны уходить из банка.\n",
    "- Проведите исследовательский анализ данных, определите все значимые признаки отточности (интервалы значений характеристик, которые связаны с повышенным оттоком, сравните портреты типичных клиентов, которые склонны и не склонны уходить из банка и т.д)\n",
    "- Сформулируйте и проверьте статистические гипотезы.\n",
    "- Проверьте гипотезу различия дохода между теми клиентами, которые ушли и теми, которые остались.\n",
    "- Сформулируйте и проверьте статистическую гипотезу относительно представленных данных, которая поможет внести ясность в исследование\n",
    "- Объединяя признаки отточности, сформируйте сегменты, отберите из них лучшие и дайте по ним рекомендации"
   ]
  },
  {
   "cell_type": "markdown",
   "metadata": {},
   "source": [
    "### Этапы выполнения\n",
    "- предобработка данных\n",
    "- кодирование для анализа корреляции\n",
    "- составить протрет клиента, который склонен уходить из банка, составление сегментов на основе категорий пользователей с наивысшим оттоком\n",
    "- корреляционный анализ\n",
    "- проверка гипотез\n",
    "- сегментация, приоретизация\n",
    "- рекомендации по исправлению, составление презентации"
   ]
  },
  {
   "cell_type": "markdown",
   "metadata": {},
   "source": [
    "### Описание данных \n",
    "\n",
    "**bank_scrooge.csv** <br>\n",
    "\n",
    "`USERID` идентификатор пользователя <br>\n",
    "`score` — баллы кредитного скоринга <br>\n",
    "`city` — город <br>\n",
    "`gender` — пол <br>\n",
    "`age` — возраст <br>\n",
    "`equity` — количество баллов собственности <br>\n",
    "`balance` — баланс на счёте <br>\n",
    "`products` - количество продкутов, которыми пользуется клиент <br>\n",
    "`credit_card` — есть ли кредитная карта <br>\n",
    "`last_activity` — активный клиент <br>\n",
    "`EST_SALARY` — оценочный доход клиента <br>\n",
    "`сhurn` — признак оттока"
   ]
  },
  {
   "cell_type": "markdown",
   "metadata": {},
   "source": [
    "### Презентация"
   ]
  },
  {
   "cell_type": "markdown",
   "metadata": {},
   "source": [
    "https://disk.yandex.ru/i/85vm1ovfb42ZDA"
   ]
  },
  {
   "cell_type": "markdown",
   "metadata": {},
   "source": [
    "## Импорт и предобработка данных"
   ]
  },
  {
   "cell_type": "code",
   "execution_count": 1,
   "metadata": {},
   "outputs": [],
   "source": [
    "import pandas as pd\n",
    "import numpy as np\n",
    "import matplotlib.pyplot as plt\n",
    "from scipy import stats as st\n",
    "from scipy.stats import binom\n",
    "import seaborn as sns\n",
    "from plotly import graph_objects as go\n",
    "import plotly.express as px\n",
    "import warnings\n",
    "warnings.filterwarnings(\"ignore\")\n",
    "try:\n",
    "    import phik\n",
    "except:\n",
    "    !pip install phik -q\n",
    "import phik\n",
    "from phik import phik_matrix\n",
    "from matplotlib import rcParams"
   ]
  },
  {
   "cell_type": "code",
   "execution_count": 2,
   "metadata": {},
   "outputs": [],
   "source": [
    "data = pd.read_csv('https://code.s3.yandex.net/datasets/bank_scrooge.csv')"
   ]
  },
  {
   "cell_type": "code",
   "execution_count": 3,
   "metadata": {},
   "outputs": [
    {
     "data": {
      "text/html": [
       "<div>\n",
       "<style scoped>\n",
       "    .dataframe tbody tr th:only-of-type {\n",
       "        vertical-align: middle;\n",
       "    }\n",
       "\n",
       "    .dataframe tbody tr th {\n",
       "        vertical-align: top;\n",
       "    }\n",
       "\n",
       "    .dataframe thead th {\n",
       "        text-align: right;\n",
       "    }\n",
       "</style>\n",
       "<table border=\"1\" class=\"dataframe\">\n",
       "  <thead>\n",
       "    <tr style=\"text-align: right;\">\n",
       "      <th></th>\n",
       "      <th>USERID</th>\n",
       "      <th>score</th>\n",
       "      <th>city</th>\n",
       "      <th>gender</th>\n",
       "      <th>age</th>\n",
       "      <th>equity</th>\n",
       "      <th>balance</th>\n",
       "      <th>products</th>\n",
       "      <th>credit_card</th>\n",
       "      <th>last_activity</th>\n",
       "      <th>EST_SALARY</th>\n",
       "      <th>churn</th>\n",
       "    </tr>\n",
       "  </thead>\n",
       "  <tbody>\n",
       "    <tr>\n",
       "      <th>0</th>\n",
       "      <td>183012</td>\n",
       "      <td>850.0</td>\n",
       "      <td>Рыбинск</td>\n",
       "      <td>Ж</td>\n",
       "      <td>25.0</td>\n",
       "      <td>1</td>\n",
       "      <td>59214.82</td>\n",
       "      <td>2</td>\n",
       "      <td>0</td>\n",
       "      <td>1</td>\n",
       "      <td>75719.14</td>\n",
       "      <td>1</td>\n",
       "    </tr>\n",
       "    <tr>\n",
       "      <th>1</th>\n",
       "      <td>146556</td>\n",
       "      <td>861.0</td>\n",
       "      <td>Рыбинск</td>\n",
       "      <td>Ж</td>\n",
       "      <td>37.0</td>\n",
       "      <td>5</td>\n",
       "      <td>850594.33</td>\n",
       "      <td>3</td>\n",
       "      <td>1</td>\n",
       "      <td>0</td>\n",
       "      <td>86621.77</td>\n",
       "      <td>0</td>\n",
       "    </tr>\n",
       "    <tr>\n",
       "      <th>2</th>\n",
       "      <td>120722</td>\n",
       "      <td>892.0</td>\n",
       "      <td>Рыбинск</td>\n",
       "      <td>Ж</td>\n",
       "      <td>30.0</td>\n",
       "      <td>0</td>\n",
       "      <td>NaN</td>\n",
       "      <td>1</td>\n",
       "      <td>1</td>\n",
       "      <td>1</td>\n",
       "      <td>107683.34</td>\n",
       "      <td>0</td>\n",
       "    </tr>\n",
       "    <tr>\n",
       "      <th>3</th>\n",
       "      <td>225363</td>\n",
       "      <td>866.0</td>\n",
       "      <td>Ярославль</td>\n",
       "      <td>Ж</td>\n",
       "      <td>51.0</td>\n",
       "      <td>5</td>\n",
       "      <td>1524746.26</td>\n",
       "      <td>2</td>\n",
       "      <td>0</td>\n",
       "      <td>1</td>\n",
       "      <td>174423.53</td>\n",
       "      <td>1</td>\n",
       "    </tr>\n",
       "    <tr>\n",
       "      <th>4</th>\n",
       "      <td>157978</td>\n",
       "      <td>730.0</td>\n",
       "      <td>Ярославль</td>\n",
       "      <td>М</td>\n",
       "      <td>34.0</td>\n",
       "      <td>5</td>\n",
       "      <td>174.00</td>\n",
       "      <td>1</td>\n",
       "      <td>1</td>\n",
       "      <td>0</td>\n",
       "      <td>67353.16</td>\n",
       "      <td>1</td>\n",
       "    </tr>\n",
       "  </tbody>\n",
       "</table>\n",
       "</div>"
      ],
      "text/plain": [
       "   USERID  score       city gender   age  equity     balance  products  \\\n",
       "0  183012  850.0    Рыбинск      Ж  25.0       1    59214.82         2   \n",
       "1  146556  861.0    Рыбинск      Ж  37.0       5   850594.33         3   \n",
       "2  120722  892.0    Рыбинск      Ж  30.0       0         NaN         1   \n",
       "3  225363  866.0  Ярославль      Ж  51.0       5  1524746.26         2   \n",
       "4  157978  730.0  Ярославль      М  34.0       5      174.00         1   \n",
       "\n",
       "   credit_card  last_activity  EST_SALARY  churn  \n",
       "0            0              1    75719.14      1  \n",
       "1            1              0    86621.77      0  \n",
       "2            1              1   107683.34      0  \n",
       "3            0              1   174423.53      1  \n",
       "4            1              0    67353.16      1  "
      ]
     },
     "execution_count": 3,
     "metadata": {},
     "output_type": "execute_result"
    }
   ],
   "source": [
    "data.head()"
   ]
  },
  {
   "cell_type": "code",
   "execution_count": 4,
   "metadata": {},
   "outputs": [
    {
     "name": "stdout",
     "output_type": "stream",
     "text": [
      "<class 'pandas.core.frame.DataFrame'>\n",
      "RangeIndex: 10000 entries, 0 to 9999\n",
      "Data columns (total 12 columns):\n",
      " #   Column         Non-Null Count  Dtype  \n",
      "---  ------         --------------  -----  \n",
      " 0   USERID         10000 non-null  int64  \n",
      " 1   score          10000 non-null  float64\n",
      " 2   city           10000 non-null  object \n",
      " 3   gender         10000 non-null  object \n",
      " 4   age            9974 non-null   float64\n",
      " 5   equity         10000 non-null  int64  \n",
      " 6   balance        7705 non-null   float64\n",
      " 7   products       10000 non-null  int64  \n",
      " 8   credit_card    10000 non-null  int64  \n",
      " 9   last_activity  10000 non-null  int64  \n",
      " 10  EST_SALARY     10000 non-null  float64\n",
      " 11  churn          10000 non-null  int64  \n",
      "dtypes: float64(4), int64(6), object(2)\n",
      "memory usage: 937.6+ KB\n"
     ]
    }
   ],
   "source": [
    "data.info()"
   ]
  },
  {
   "cell_type": "markdown",
   "metadata": {},
   "source": [
    "Есть пропуски в колонке возраста и баланса. Пропуски возраста можно удалить, их всего 26. Пропуски баланса нужно проверить. А также, изменить названия некоторых колонок и типы данных"
   ]
  },
  {
   "cell_type": "code",
   "execution_count": 5,
   "metadata": {},
   "outputs": [],
   "source": [
    "data.rename(columns={'USERID':'user_id', 'EST_SALARY':'est_salary'}, inplace= True)"
   ]
  },
  {
   "cell_type": "code",
   "execution_count": 6,
   "metadata": {},
   "outputs": [],
   "source": [
    "data = data.dropna(subset=['age']).reset_index(drop=True)"
   ]
  },
  {
   "cell_type": "code",
   "execution_count": 7,
   "metadata": {},
   "outputs": [],
   "source": [
    "data['age'] = data['age'].astype('int')"
   ]
  },
  {
   "cell_type": "code",
   "execution_count": 8,
   "metadata": {},
   "outputs": [],
   "source": [
    "data['score'] = data['score'].astype('int')"
   ]
  },
  {
   "cell_type": "code",
   "execution_count": 9,
   "metadata": {},
   "outputs": [
    {
     "name": "stdout",
     "output_type": "stream",
     "text": [
      "0\n",
      "50\n"
     ]
    },
    {
     "data": {
      "text/html": [
       "<div>\n",
       "<style scoped>\n",
       "    .dataframe tbody tr th:only-of-type {\n",
       "        vertical-align: middle;\n",
       "    }\n",
       "\n",
       "    .dataframe tbody tr th {\n",
       "        vertical-align: top;\n",
       "    }\n",
       "\n",
       "    .dataframe thead th {\n",
       "        text-align: right;\n",
       "    }\n",
       "</style>\n",
       "<table border=\"1\" class=\"dataframe\">\n",
       "  <thead>\n",
       "    <tr style=\"text-align: right;\">\n",
       "      <th></th>\n",
       "      <th>user_id</th>\n",
       "      <th>score</th>\n",
       "      <th>city</th>\n",
       "      <th>gender</th>\n",
       "      <th>age</th>\n",
       "      <th>equity</th>\n",
       "      <th>balance</th>\n",
       "      <th>products</th>\n",
       "      <th>credit_card</th>\n",
       "      <th>last_activity</th>\n",
       "      <th>est_salary</th>\n",
       "      <th>churn</th>\n",
       "    </tr>\n",
       "  </thead>\n",
       "  <tbody>\n",
       "    <tr>\n",
       "      <th>2496</th>\n",
       "      <td>199312</td>\n",
       "      <td>948</td>\n",
       "      <td>Ярославль</td>\n",
       "      <td>М</td>\n",
       "      <td>41</td>\n",
       "      <td>5</td>\n",
       "      <td>3095721.85</td>\n",
       "      <td>4</td>\n",
       "      <td>1</td>\n",
       "      <td>1</td>\n",
       "      <td>307234.69</td>\n",
       "      <td>1</td>\n",
       "    </tr>\n",
       "    <tr>\n",
       "      <th>8804</th>\n",
       "      <td>199312</td>\n",
       "      <td>911</td>\n",
       "      <td>Рыбинск</td>\n",
       "      <td>Ж</td>\n",
       "      <td>43</td>\n",
       "      <td>0</td>\n",
       "      <td>NaN</td>\n",
       "      <td>2</td>\n",
       "      <td>1</td>\n",
       "      <td>1</td>\n",
       "      <td>152189.72</td>\n",
       "      <td>0</td>\n",
       "    </tr>\n",
       "  </tbody>\n",
       "</table>\n",
       "</div>"
      ],
      "text/plain": [
       "      user_id  score       city gender  age  equity     balance  products  \\\n",
       "2496   199312    948  Ярославль      М   41       5  3095721.85         4   \n",
       "8804   199312    911    Рыбинск      Ж   43       0         NaN         2   \n",
       "\n",
       "      credit_card  last_activity  est_salary  churn  \n",
       "2496            1              1   307234.69      1  \n",
       "8804            1              1   152189.72      0  "
      ]
     },
     "execution_count": 9,
     "metadata": {},
     "output_type": "execute_result"
    }
   ],
   "source": [
    "print(data.duplicated().sum())\n",
    "print(data['user_id'].duplicated().sum())\n",
    "data.query('user_id == 199312')"
   ]
  },
  {
   "cell_type": "markdown",
   "metadata": {},
   "source": [
    "В датафрейме есть пользователи с одинаковым user_id. Прогнав этих пользователей через query, можно сделать вывод, что это разные люди, у которых отличается город - возможно, для каждого города user_id сбрасывается и не зависит от других городов."
   ]
  },
  {
   "cell_type": "code",
   "execution_count": 10,
   "metadata": {},
   "outputs": [
    {
     "data": {
      "image/png": "[encoded data removed]",
      "text/plain": [
       "<Figure size 1008x864 with 2 Axes>"
      ]
     },
     "metadata": {
      "needs_background": "light"
     },
     "output_type": "display_data"
    }
   ],
   "source": [
    "data_corr = data.copy()\n",
    "data_corr.drop('user_id', axis=1, inplace=True)\n",
    "data_corr['nan'] = data['balance'].isnull().astype(int)\n",
    "plt.figure(figsize = (14, 12))\n",
    "sns.heatmap(\n",
    "    data_corr.phik_matrix(interval_cols=['score', 'age', 'balance', 'est_salary']), \n",
    "    center=0,\n",
    "    annot = True, \n",
    "    fmt = '.2f',\n",
    "    cmap='coolwarm'\n",
    ")\n",
    "plt.title('Корреляция пропусков (nan) от других данных')\n",
    "plt.show()"
   ]
  },
  {
   "cell_type": "markdown",
   "metadata": {},
   "source": [
    "Пропуски баланса коррелируют со столбцами equity, score, products. Пропуски не случайны, их заполнение невозможно, а удаление повлияет на данные. MNAR - тип пропуска"
   ]
  },
  {
   "cell_type": "code",
   "execution_count": 11,
   "metadata": {},
   "outputs": [
    {
     "data": {
      "text/plain": [
       "array(['Рыбинск', 'Ярославль', 'Ростов'], dtype=object)"
      ]
     },
     "execution_count": 11,
     "metadata": {},
     "output_type": "execute_result"
    }
   ],
   "source": [
    "data['city'].unique()"
   ]
  },
  {
   "cell_type": "markdown",
   "metadata": {},
   "source": [
    "В датафрейме данные о трех городах"
   ]
  },
  {
   "cell_type": "code",
   "execution_count": 12,
   "metadata": {},
   "outputs": [
    {
     "data": {
      "text/plain": [
       "array([2, 3, 1, 4, 5, 0])"
      ]
     },
     "execution_count": 12,
     "metadata": {},
     "output_type": "execute_result"
    }
   ],
   "source": [
    "data['products'].unique()"
   ]
  },
  {
   "cell_type": "code",
   "execution_count": 13,
   "metadata": {},
   "outputs": [],
   "source": [
    "data = data.query('products!=0')"
   ]
  },
  {
   "cell_type": "markdown",
   "metadata": {},
   "source": [
    "Есть клиенты, у которых количество продуктов = 0 (1 человек). Удалил эту строку, тк у клиента банка должно быть от 1 продукта"
   ]
  },
  {
   "cell_type": "code",
   "execution_count": 14,
   "metadata": {
    "scrolled": false
   },
   "outputs": [
    {
     "data": {
      "text/html": [
       "<div>\n",
       "<style scoped>\n",
       "    .dataframe tbody tr th:only-of-type {\n",
       "        vertical-align: middle;\n",
       "    }\n",
       "\n",
       "    .dataframe tbody tr th {\n",
       "        vertical-align: top;\n",
       "    }\n",
       "\n",
       "    .dataframe thead th {\n",
       "        text-align: right;\n",
       "    }\n",
       "</style>\n",
       "<table border=\"1\" class=\"dataframe\">\n",
       "  <thead>\n",
       "    <tr style=\"text-align: right;\">\n",
       "      <th></th>\n",
       "      <th>user_id</th>\n",
       "      <th>score</th>\n",
       "      <th>city</th>\n",
       "      <th>gender</th>\n",
       "      <th>age</th>\n",
       "      <th>equity</th>\n",
       "      <th>balance</th>\n",
       "      <th>products</th>\n",
       "      <th>credit_card</th>\n",
       "      <th>last_activity</th>\n",
       "      <th>est_salary</th>\n",
       "      <th>churn</th>\n",
       "      <th>Ростов</th>\n",
       "      <th>Рыбинск</th>\n",
       "      <th>Ярославль</th>\n",
       "      <th>Ж</th>\n",
       "      <th>М</th>\n",
       "    </tr>\n",
       "  </thead>\n",
       "  <tbody>\n",
       "    <tr>\n",
       "      <th>0</th>\n",
       "      <td>183012</td>\n",
       "      <td>850</td>\n",
       "      <td>Рыбинск</td>\n",
       "      <td>Ж</td>\n",
       "      <td>25</td>\n",
       "      <td>1</td>\n",
       "      <td>59214.82</td>\n",
       "      <td>2</td>\n",
       "      <td>0</td>\n",
       "      <td>1</td>\n",
       "      <td>75719.14</td>\n",
       "      <td>1</td>\n",
       "      <td>0</td>\n",
       "      <td>1</td>\n",
       "      <td>0</td>\n",
       "      <td>1</td>\n",
       "      <td>0</td>\n",
       "    </tr>\n",
       "    <tr>\n",
       "      <th>1</th>\n",
       "      <td>146556</td>\n",
       "      <td>861</td>\n",
       "      <td>Рыбинск</td>\n",
       "      <td>Ж</td>\n",
       "      <td>37</td>\n",
       "      <td>5</td>\n",
       "      <td>850594.33</td>\n",
       "      <td>3</td>\n",
       "      <td>1</td>\n",
       "      <td>0</td>\n",
       "      <td>86621.77</td>\n",
       "      <td>0</td>\n",
       "      <td>0</td>\n",
       "      <td>1</td>\n",
       "      <td>0</td>\n",
       "      <td>1</td>\n",
       "      <td>0</td>\n",
       "    </tr>\n",
       "    <tr>\n",
       "      <th>2</th>\n",
       "      <td>120722</td>\n",
       "      <td>892</td>\n",
       "      <td>Рыбинск</td>\n",
       "      <td>Ж</td>\n",
       "      <td>30</td>\n",
       "      <td>0</td>\n",
       "      <td>NaN</td>\n",
       "      <td>1</td>\n",
       "      <td>1</td>\n",
       "      <td>1</td>\n",
       "      <td>107683.34</td>\n",
       "      <td>0</td>\n",
       "      <td>0</td>\n",
       "      <td>1</td>\n",
       "      <td>0</td>\n",
       "      <td>1</td>\n",
       "      <td>0</td>\n",
       "    </tr>\n",
       "    <tr>\n",
       "      <th>3</th>\n",
       "      <td>225363</td>\n",
       "      <td>866</td>\n",
       "      <td>Ярославль</td>\n",
       "      <td>Ж</td>\n",
       "      <td>51</td>\n",
       "      <td>5</td>\n",
       "      <td>1524746.26</td>\n",
       "      <td>2</td>\n",
       "      <td>0</td>\n",
       "      <td>1</td>\n",
       "      <td>174423.53</td>\n",
       "      <td>1</td>\n",
       "      <td>0</td>\n",
       "      <td>0</td>\n",
       "      <td>1</td>\n",
       "      <td>1</td>\n",
       "      <td>0</td>\n",
       "    </tr>\n",
       "    <tr>\n",
       "      <th>4</th>\n",
       "      <td>157978</td>\n",
       "      <td>730</td>\n",
       "      <td>Ярославль</td>\n",
       "      <td>М</td>\n",
       "      <td>34</td>\n",
       "      <td>5</td>\n",
       "      <td>174.00</td>\n",
       "      <td>1</td>\n",
       "      <td>1</td>\n",
       "      <td>0</td>\n",
       "      <td>67353.16</td>\n",
       "      <td>1</td>\n",
       "      <td>0</td>\n",
       "      <td>0</td>\n",
       "      <td>1</td>\n",
       "      <td>0</td>\n",
       "      <td>1</td>\n",
       "    </tr>\n",
       "  </tbody>\n",
       "</table>\n",
       "</div>"
      ],
      "text/plain": [
       "   user_id  score       city gender  age  equity     balance  products  \\\n",
       "0   183012    850    Рыбинск      Ж   25       1    59214.82         2   \n",
       "1   146556    861    Рыбинск      Ж   37       5   850594.33         3   \n",
       "2   120722    892    Рыбинск      Ж   30       0         NaN         1   \n",
       "3   225363    866  Ярославль      Ж   51       5  1524746.26         2   \n",
       "4   157978    730  Ярославль      М   34       5      174.00         1   \n",
       "\n",
       "   credit_card  last_activity  est_salary  churn  Ростов  Рыбинск  Ярославль  \\\n",
       "0            0              1    75719.14      1       0        1          0   \n",
       "1            1              0    86621.77      0       0        1          0   \n",
       "2            1              1   107683.34      0       0        1          0   \n",
       "3            0              1   174423.53      1       0        0          1   \n",
       "4            1              0    67353.16      1       0        0          1   \n",
       "\n",
       "   Ж  М  \n",
       "0  1  0  \n",
       "1  1  0  \n",
       "2  1  0  \n",
       "3  1  0  \n",
       "4  0  1  "
      ]
     },
     "metadata": {},
     "output_type": "display_data"
    }
   ],
   "source": [
    "data['cty_dum'] = data['city']\n",
    "data['gen_dum'] = data['gender']\n",
    "data = pd.get_dummies(data, columns = ['cty_dum', 'gen_dum'], prefix='', prefix_sep='')\n",
    "display(data.head())"
   ]
  },
  {
   "cell_type": "code",
   "execution_count": 15,
   "metadata": {},
   "outputs": [
    {
     "name": "stdout",
     "output_type": "stream",
     "text": [
      "<class 'pandas.core.frame.DataFrame'>\n",
      "Int64Index: 9973 entries, 0 to 9973\n",
      "Data columns (total 17 columns):\n",
      " #   Column         Non-Null Count  Dtype  \n",
      "---  ------         --------------  -----  \n",
      " 0   user_id        9973 non-null   int64  \n",
      " 1   score          9973 non-null   int64  \n",
      " 2   city           9973 non-null   object \n",
      " 3   gender         9973 non-null   object \n",
      " 4   age            9973 non-null   int64  \n",
      " 5   equity         9973 non-null   int64  \n",
      " 6   balance        7695 non-null   float64\n",
      " 7   products       9973 non-null   int64  \n",
      " 8   credit_card    9973 non-null   int64  \n",
      " 9   last_activity  9973 non-null   int64  \n",
      " 10  est_salary     9973 non-null   float64\n",
      " 11  churn          9973 non-null   int64  \n",
      " 12  Ростов         9973 non-null   uint8  \n",
      " 13  Рыбинск        9973 non-null   uint8  \n",
      " 14  Ярославль      9973 non-null   uint8  \n",
      " 15  Ж              9973 non-null   uint8  \n",
      " 16  М              9973 non-null   uint8  \n",
      "dtypes: float64(2), int64(8), object(2), uint8(5)\n",
      "memory usage: 1.0+ MB\n"
     ]
    }
   ],
   "source": [
    "data.info()"
   ]
  },
  {
   "cell_type": "markdown",
   "metadata": {},
   "source": [
    "**Вывод по предобработке:**\n",
    "- колонки приведены к snake_case и правильному типу данных\n",
    "- удалены пропуски в колонке возраста\n",
    "- с пропусками в столбце balance ничего сделать нельзя, так как тип пропусков MNAR\n",
    "- категориальные переменные были закодированы \n",
    "- явных дубликатов нет, а дубликаты по user_id - разные люди в разных городах\n",
    "\n",
    "Датафрейм готов к дальнейшему анализу"
   ]
  },
  {
   "cell_type": "markdown",
   "metadata": {},
   "source": [
    "## Исследовательский анализ данных, категоризация"
   ]
  },
  {
   "cell_type": "markdown",
   "metadata": {},
   "source": [
    "### Распределения"
   ]
  },
  {
   "cell_type": "code",
   "execution_count": 16,
   "metadata": {},
   "outputs": [
    {
     "data": {
      "image/png": "[encoded data removed]",
      "text/plain": [
       "<Figure size 864x576 with 1 Axes>"
      ]
     },
     "metadata": {
      "needs_background": "light"
     },
     "output_type": "display_data"
    },
    {
     "data": {
      "text/plain": [
       "count    9973.000000\n",
       "mean      848.671212\n",
       "std        65.393153\n",
       "min       642.000000\n",
       "25%       802.000000\n",
       "50%       853.000000\n",
       "75%       900.000000\n",
       "max      1000.000000\n",
       "Name: score, dtype: float64"
      ]
     },
     "execution_count": 16,
     "metadata": {},
     "output_type": "execute_result"
    }
   ],
   "source": [
    "rcParams['figure.figsize'] = 12, 8\n",
    "sns.histplot(data = data, x ='score', bins=50)\n",
    "plt.title('Распределение баллов скоринга')\n",
    "plt.xlabel('Баллы')\n",
    "plt.ylabel('Частота')\n",
    "plt.show()\n",
    "data['score'].describe()"
   ]
  },
  {
   "cell_type": "markdown",
   "metadata": {},
   "source": [
    "**По распределению баллов скоринга**\n",
    "- в основном, у большинства клиентов от 770 до 930 баллов доверия\n",
    "- самый низкий балл - 642, самый высокий - 1000\n",
    "- среднее и медиана держатся на уровне 850 баллов"
   ]
  },
  {
   "cell_type": "code",
   "execution_count": 17,
   "metadata": {},
   "outputs": [
    {
     "data": {
      "image/png": "[encoded data removed]",
      "text/plain": [
       "<Figure size 864x576 with 1 Axes>"
      ]
     },
     "metadata": {
      "needs_background": "light"
     },
     "output_type": "display_data"
    },
    {
     "data": {
      "text/plain": [
       "count    9973.000000\n",
       "mean       42.730773\n",
       "std        12.175166\n",
       "min        18.000000\n",
       "25%        33.000000\n",
       "50%        40.000000\n",
       "75%        51.000000\n",
       "max        86.000000\n",
       "Name: age, dtype: float64"
      ]
     },
     "execution_count": 17,
     "metadata": {},
     "output_type": "execute_result"
    }
   ],
   "source": [
    "rcParams['figure.figsize'] = 12, 8\n",
    "sns.histplot(data = data, x ='age', bins=30)\n",
    "plt.title('Распределение возраста')\n",
    "plt.xlabel('Возраст')\n",
    "plt.ylabel('Частота')\n",
    "plt.show()\n",
    "data['age'].describe()"
   ]
  },
  {
   "cell_type": "markdown",
   "metadata": {},
   "source": [
    "**По распределению возраста**\n",
    "- самый младший клиент - 18 лет, самый старший - 86\n",
    "- в основном, клиенты банка это люди от 24 до 60 лет\n",
    "- много клиентов в возрасте 34-36 лет\n",
    "- медиана: 40 лет"
   ]
  },
  {
   "cell_type": "code",
   "execution_count": 18,
   "metadata": {},
   "outputs": [
    {
     "data": {
      "image/png": "[encoded data removed]",
      "text/plain": [
       "<Figure size 864x576 with 1 Axes>"
      ]
     },
     "metadata": {
      "needs_background": "light"
     },
     "output_type": "display_data"
    },
    {
     "data": {
      "text/plain": [
       "count    9.973000e+03\n",
       "mean     1.477991e+05\n",
       "std      1.392871e+05\n",
       "min      2.546300e+03\n",
       "25%      7.525202e+04\n",
       "50%      1.196431e+05\n",
       "75%      1.745000e+05\n",
       "max      1.395064e+06\n",
       "Name: est_salary, dtype: float64"
      ]
     },
     "execution_count": 18,
     "metadata": {},
     "output_type": "execute_result"
    }
   ],
   "source": [
    "rcParams['figure.figsize'] = 12, 8\n",
    "sns.histplot(data = data.query('est_salary < 1000000'), x='est_salary', bins=30)\n",
    "plt.title('Распределение предполагаемой зарплаты клиента')\n",
    "plt.xlabel('Зарплата')\n",
    "plt.ylabel('Частота')\n",
    "plt.show()\n",
    "data['est_salary'].describe()"
   ]
  },
  {
   "cell_type": "markdown",
   "metadata": {},
   "source": [
    "**По распределению предполагаемой зарплаты клиента**\n",
    "- В основном, клиенты банка получают от 30 до 200 тысяч рублей\n",
    "- Максимальная зарплата - 1,4 млн. р., минимальная - 2540. Есть выбросы\n",
    "- Медиана - 119000р"
   ]
  },
  {
   "cell_type": "code",
   "execution_count": 19,
   "metadata": {},
   "outputs": [
    {
     "data": {
      "image/png": "[encoded data removed]",
      "text/plain": [
       "<Figure size 864x576 with 1 Axes>"
      ]
     },
     "metadata": {
      "needs_background": "light"
     },
     "output_type": "display_data"
    },
    {
     "data": {
      "text/plain": [
       "count    7.695000e+03\n",
       "mean     8.272456e+05\n",
       "std      1.980327e+06\n",
       "min      0.000000e+00\n",
       "25%      2.956987e+05\n",
       "50%      5.242953e+05\n",
       "75%      9.800512e+05\n",
       "max      1.191136e+08\n",
       "Name: balance, dtype: float64"
      ]
     },
     "execution_count": 19,
     "metadata": {},
     "output_type": "execute_result"
    }
   ],
   "source": [
    "rcParams['figure.figsize'] = 12, 8\n",
    "sns.histplot(data = data.query('balance < 3000000'), x ='balance', bins=30)\n",
    "plt.title('Распределение баланса на счете клиента')\n",
    "plt.xlabel('Баланс')\n",
    "plt.ylabel('Частота')\n",
    "plt.show()\n",
    "data['balance'].describe()"
   ]
  },
  {
   "cell_type": "markdown",
   "metadata": {},
   "source": [
    "**По распределению баланса на счете**\n",
    "- есть большие выбросы из-за максимального баланса \n",
    "- в основном, у клиента банка на балансе от 0р до 1.8 млн. р. \n",
    "- медиана - 520т.р."
   ]
  },
  {
   "cell_type": "code",
   "execution_count": 20,
   "metadata": {},
   "outputs": [
    {
     "data": {
      "image/png": "[encoded data removed]",
      "text/plain": [
       "<Figure size 864x576 with 1 Axes>"
      ]
     },
     "metadata": {},
     "output_type": "display_data"
    }
   ],
   "source": [
    "gender = data.groupby(['gender']).agg({'user_id':'count'})\n",
    "fig1,ax1 = plt.subplots()\n",
    "ax1.pie(gender['user_id'], labels=gender.index, autopct='%1.1f%%')\n",
    "ax1.set_title('Распределение клиентов по полу')\n",
    "plt.ylabel('Количество клиентов')\n",
    "plt.show()"
   ]
  },
  {
   "cell_type": "code",
   "execution_count": 21,
   "metadata": {},
   "outputs": [
    {
     "data": {
      "image/png": "[encoded data removed]",
      "text/plain": [
       "<Figure size 864x576 with 1 Axes>"
      ]
     },
     "metadata": {},
     "output_type": "display_data"
    }
   ],
   "source": [
    "city = data.groupby(['city']).agg({'user_id':'count'})\n",
    "fig1,ax1 = plt.subplots()\n",
    "ax1.pie(city['user_id'], labels=city.index, autopct='%1.1f%%')\n",
    "ax1.set_title('Распределение клиентов по городу')\n",
    "plt.ylabel('Количество клиентов')\n",
    "plt.show()"
   ]
  },
  {
   "cell_type": "code",
   "execution_count": 22,
   "metadata": {},
   "outputs": [
    {
     "data": {
      "image/png": "[encoded data removed]",
      "text/plain": [
       "<Figure size 864x576 with 1 Axes>"
      ]
     },
     "metadata": {
      "needs_background": "light"
     },
     "output_type": "display_data"
    }
   ],
   "source": [
    "equity = data.groupby(['equity'])['user_id'].count().plot(kind='bar', y='count')\n",
    "plt.ylabel('Количество клиентов')\n",
    "plt.xlabel('Количество баллов собственности')\n",
    "plt.title('Соотношение клиентов по баллам собственности')\n",
    "plt.show()"
   ]
  },
  {
   "cell_type": "code",
   "execution_count": 23,
   "metadata": {},
   "outputs": [
    {
     "data": {
      "image/png": "[encoded data removed]",
      "text/plain": [
       "<Figure size 864x576 with 1 Axes>"
      ]
     },
     "metadata": {
      "needs_background": "light"
     },
     "output_type": "display_data"
    }
   ],
   "source": [
    "data.groupby('products')['user_id'].count().plot(kind='bar', y='count')\n",
    "plt.ylabel('Количество клиентов')\n",
    "plt.xlabel('Количество используемых продуктов')\n",
    "plt.title('Соотношение клиентов по продуктам от банка')\n",
    "plt.show()"
   ]
  },
  {
   "cell_type": "code",
   "execution_count": 24,
   "metadata": {},
   "outputs": [
    {
     "data": {
      "image/png": "[encoded data removed]",
      "text/plain": [
       "<Figure size 864x576 with 1 Axes>"
      ]
     },
     "metadata": {},
     "output_type": "display_data"
    }
   ],
   "source": [
    "credit = data.groupby(['credit_card']).agg({'user_id':'count'})\n",
    "fig1,ax1 = plt.subplots()\n",
    "ax1.pie(credit['user_id'], labels=credit.index, autopct='%1.1f%%')\n",
    "ax1.set_title('Распределение клиентов по наличию кредитной карты')\n",
    "plt.ylabel('Количество клиентов')\n",
    "plt.show()"
   ]
  },
  {
   "cell_type": "code",
   "execution_count": 25,
   "metadata": {},
   "outputs": [
    {
     "data": {
      "image/png": "[encoded data removed]",
      "text/plain": [
       "<Figure size 864x576 with 1 Axes>"
      ]
     },
     "metadata": {},
     "output_type": "display_data"
    }
   ],
   "source": [
    "active = data.groupby(['last_activity']).agg({'user_id':'count'})\n",
    "fig1,ax1 = plt.subplots()\n",
    "ax1.pie(active['user_id'], labels=active.index, autopct='%1.1f%%')\n",
    "ax1.set_title('Распределение клиентов по активности')\n",
    "plt.ylabel('Количество клиентов')\n",
    "plt.show()"
   ]
  },
  {
   "cell_type": "code",
   "execution_count": 26,
   "metadata": {},
   "outputs": [
    {
     "data": {
      "image/png": "[encoded data removed]",
      "text/plain": [
       "<Figure size 864x576 with 1 Axes>"
      ]
     },
     "metadata": {},
     "output_type": "display_data"
    }
   ],
   "source": [
    "churn = data.groupby(['churn']).agg({'user_id':'count'})\n",
    "fig1,ax1 = plt.subplots()\n",
    "ax1.pie(churn['user_id'], labels=churn.index, autopct='%1.1f%%')\n",
    "ax1.set_title('Распределение клиентов по оттоку')\n",
    "plt.ylabel('Количество клиентов')\n",
    "plt.show()"
   ]
  },
  {
   "cell_type": "markdown",
   "metadata": {},
   "source": [
    "**Итого по распределениям, у большинства клиентов:**\n",
    "- от 770 до 930 баллов доверия\n",
    "- возраст от 24 до 60 лет, много клиентов в возрасте 34-36 лет\n",
    "- зарплата от 30 до 200 тысяч рублей\n",
    "- на балансе от 0р до 1.8 млн. р.\n",
    "\n",
    "**Далее - категориальные**\n",
    "\n",
    "- женщин и мужчин - равное количество\n",
    "- в Ярославле больше половины клиентов, затем Рыбинск, Ростов\n",
    "- много клиентов с 0 баллами собственности, затем постепенный рост по баллам собственности от 1 до 5, следом - резкий спад\n",
    "- в основном, клиент пользуется 1 или 2 продуктами от банка\n",
    "- у большинства (68%) есть кредитная карта\n",
    "- 52% клиентов были активны за последний месяц\n",
    "- 18% клиентов с признаками оттока"
   ]
  },
  {
   "cell_type": "markdown",
   "metadata": {},
   "source": [
    "### Распределения по оттоку"
   ]
  },
  {
   "cell_type": "code",
   "execution_count": 27,
   "metadata": {
    "scrolled": false
   },
   "outputs": [
    {
     "data": {
      "image/png": "[encoded data removed]",
      "text/plain": [
       "<Figure size 864x576 with 1 Axes>"
      ]
     },
     "metadata": {
      "needs_background": "light"
     },
     "output_type": "display_data"
    }
   ],
   "source": [
    "fig, axs = plt.subplots(figsize=(12, 8))\n",
    "sns.histplot(data=data, x=data['score'], hue='churn', stat='density', common_norm=False, bins = 30, alpha=0.3)\n",
    "plt.title(\"Распределение признака 'Баллы доверия'\")\n",
    "plt.ylabel(\"Количество\")\n",
    "plt.xlabel('Баллы доверия')\n",
    "plt.show()"
   ]
  },
  {
   "cell_type": "code",
   "execution_count": 28,
   "metadata": {},
   "outputs": [
    {
     "data": {
      "image/png": "[encoded data removed]",
      "text/plain": [
       "<Figure size 864x576 with 1 Axes>"
      ]
     },
     "metadata": {
      "needs_background": "light"
     },
     "output_type": "display_data"
    }
   ],
   "source": [
    "fig, axs = plt.subplots(figsize=(12, 8))\n",
    "sns.histplot(data=data, x=data['age'], hue='churn', stat='density', common_norm=False, bins = 68, alpha=0.3)\n",
    "plt.title(\"Распределение признака 'Возраст'\")\n",
    "plt.ylabel(\"Количество\")\n",
    "plt.xlabel('Возраст')\n",
    "plt.show()"
   ]
  },
  {
   "cell_type": "code",
   "execution_count": 29,
   "metadata": {},
   "outputs": [
    {
     "data": {
      "image/png": "[encoded data removed]",
      "text/plain": [
       "<Figure size 864x576 with 1 Axes>"
      ]
     },
     "metadata": {
      "needs_background": "light"
     },
     "output_type": "display_data"
    }
   ],
   "source": [
    "fig, axs = plt.subplots(figsize=(12, 8))\n",
    "sns.histplot(data=data, x=data['balance'], hue='churn', stat='density', common_norm=False, bins = 1000, alpha=0.3)\n",
    "plt.title(\"Распределение признака 'Баланс на счете'\")\n",
    "plt.ylabel(\"Количество\")\n",
    "plt.xlabel('Баланс')\n",
    "axs.set_xlim(0, 2500000)\n",
    "plt.show()"
   ]
  },
  {
   "cell_type": "code",
   "execution_count": 30,
   "metadata": {},
   "outputs": [
    {
     "data": {
      "image/png": "[encoded data removed]",
      "text/plain": [
       "<Figure size 864x576 with 1 Axes>"
      ]
     },
     "metadata": {
      "needs_background": "light"
     },
     "output_type": "display_data"
    }
   ],
   "source": [
    "fig, axs = plt.subplots(figsize=(12, 8))\n",
    "sns.histplot(data=data, x=data['est_salary'], hue='churn', stat='density', common_norm=False, bins = 80, alpha=0.3)\n",
    "plt.title(\"Распределение признака 'Зарплата'\")\n",
    "plt.ylabel(\"Количество\")\n",
    "plt.xlabel('Зарплата')\n",
    "axs.set_xlim(0, 400000)\n",
    "plt.show()"
   ]
  },
  {
   "cell_type": "markdown",
   "metadata": {},
   "source": [
    "Далее, просмотрим отточность по категориальным переменным и сделаем выводы "
   ]
  },
  {
   "cell_type": "code",
   "execution_count": 31,
   "metadata": {
    "scrolled": false
   },
   "outputs": [
    {
     "name": "stdout",
     "output_type": "stream",
     "text": [
      "Распределение по признаку city\n"
     ]
    },
    {
     "data": {
      "text/html": [
       "<div>\n",
       "<style scoped>\n",
       "    .dataframe tbody tr th:only-of-type {\n",
       "        vertical-align: middle;\n",
       "    }\n",
       "\n",
       "    .dataframe tbody tr th {\n",
       "        vertical-align: top;\n",
       "    }\n",
       "\n",
       "    .dataframe thead th {\n",
       "        text-align: right;\n",
       "    }\n",
       "</style>\n",
       "<table border=\"1\" class=\"dataframe\">\n",
       "  <thead>\n",
       "    <tr style=\"text-align: right;\">\n",
       "      <th></th>\n",
       "      <th>city</th>\n",
       "      <th>notchurn</th>\n",
       "      <th>churn</th>\n",
       "      <th>percent</th>\n",
       "    </tr>\n",
       "  </thead>\n",
       "  <tbody>\n",
       "    <tr>\n",
       "      <th>0</th>\n",
       "      <td>Ростов</td>\n",
       "      <td>1151</td>\n",
       "      <td>265</td>\n",
       "      <td>0.2302</td>\n",
       "    </tr>\n",
       "    <tr>\n",
       "      <th>1</th>\n",
       "      <td>Рыбинск</td>\n",
       "      <td>2246</td>\n",
       "      <td>436</td>\n",
       "      <td>0.1941</td>\n",
       "    </tr>\n",
       "    <tr>\n",
       "      <th>2</th>\n",
       "      <td>Ярославль</td>\n",
       "      <td>4758</td>\n",
       "      <td>1117</td>\n",
       "      <td>0.2348</td>\n",
       "    </tr>\n",
       "  </tbody>\n",
       "</table>\n",
       "</div>"
      ],
      "text/plain": [
       "        city  notchurn  churn  percent\n",
       "0     Ростов      1151    265   0.2302\n",
       "1    Рыбинск      2246    436   0.1941\n",
       "2  Ярославль      4758   1117   0.2348"
      ]
     },
     "metadata": {},
     "output_type": "display_data"
    },
    {
     "data": {
      "image/png": "[encoded data removed]",
      "text/plain": [
       "<Figure size 1080x360 with 2 Axes>"
      ]
     },
     "metadata": {
      "needs_background": "light"
     },
     "output_type": "display_data"
    },
    {
     "name": "stdout",
     "output_type": "stream",
     "text": [
      "------------------------------------------------------------------------------------------\n",
      "\n",
      "\n",
      "Распределение по признаку gender\n"
     ]
    },
    {
     "data": {
      "text/html": [
       "<div>\n",
       "<style scoped>\n",
       "    .dataframe tbody tr th:only-of-type {\n",
       "        vertical-align: middle;\n",
       "    }\n",
       "\n",
       "    .dataframe tbody tr th {\n",
       "        vertical-align: top;\n",
       "    }\n",
       "\n",
       "    .dataframe thead th {\n",
       "        text-align: right;\n",
       "    }\n",
       "</style>\n",
       "<table border=\"1\" class=\"dataframe\">\n",
       "  <thead>\n",
       "    <tr style=\"text-align: right;\">\n",
       "      <th></th>\n",
       "      <th>gender</th>\n",
       "      <th>notchurn</th>\n",
       "      <th>churn</th>\n",
       "      <th>percent</th>\n",
       "    </tr>\n",
       "  </thead>\n",
       "  <tbody>\n",
       "    <tr>\n",
       "      <th>0</th>\n",
       "      <td>Ж</td>\n",
       "      <td>4347</td>\n",
       "      <td>635</td>\n",
       "      <td>0.1461</td>\n",
       "    </tr>\n",
       "    <tr>\n",
       "      <th>1</th>\n",
       "      <td>М</td>\n",
       "      <td>3808</td>\n",
       "      <td>1183</td>\n",
       "      <td>0.3107</td>\n",
       "    </tr>\n",
       "  </tbody>\n",
       "</table>\n",
       "</div>"
      ],
      "text/plain": [
       "  gender  notchurn  churn  percent\n",
       "0      Ж      4347    635   0.1461\n",
       "1      М      3808   1183   0.3107"
      ]
     },
     "metadata": {},
     "output_type": "display_data"
    },
    {
     "data": {
      "image/png": "[encoded data removed]",
      "text/plain": [
       "<Figure size 1080x360 with 2 Axes>"
      ]
     },
     "metadata": {
      "needs_background": "light"
     },
     "output_type": "display_data"
    },
    {
     "name": "stdout",
     "output_type": "stream",
     "text": [
      "------------------------------------------------------------------------------------------\n",
      "\n",
      "\n",
      "Распределение по признаку equity\n"
     ]
    },
    {
     "data": {
      "text/html": [
       "<div>\n",
       "<style scoped>\n",
       "    .dataframe tbody tr th:only-of-type {\n",
       "        vertical-align: middle;\n",
       "    }\n",
       "\n",
       "    .dataframe tbody tr th {\n",
       "        vertical-align: top;\n",
       "    }\n",
       "\n",
       "    .dataframe thead th {\n",
       "        text-align: right;\n",
       "    }\n",
       "</style>\n",
       "<table border=\"1\" class=\"dataframe\">\n",
       "  <thead>\n",
       "    <tr style=\"text-align: right;\">\n",
       "      <th></th>\n",
       "      <th>equity</th>\n",
       "      <th>notchurn</th>\n",
       "      <th>churn</th>\n",
       "      <th>percent</th>\n",
       "    </tr>\n",
       "  </thead>\n",
       "  <tbody>\n",
       "    <tr>\n",
       "      <th>0</th>\n",
       "      <td>0</td>\n",
       "      <td>2486</td>\n",
       "      <td>90</td>\n",
       "      <td>0.0362</td>\n",
       "    </tr>\n",
       "    <tr>\n",
       "      <th>1</th>\n",
       "      <td>1</td>\n",
       "      <td>680</td>\n",
       "      <td>93</td>\n",
       "      <td>0.1368</td>\n",
       "    </tr>\n",
       "    <tr>\n",
       "      <th>2</th>\n",
       "      <td>2</td>\n",
       "      <td>885</td>\n",
       "      <td>166</td>\n",
       "      <td>0.1876</td>\n",
       "    </tr>\n",
       "    <tr>\n",
       "      <th>3</th>\n",
       "      <td>3</td>\n",
       "      <td>1219</td>\n",
       "      <td>321</td>\n",
       "      <td>0.2633</td>\n",
       "    </tr>\n",
       "    <tr>\n",
       "      <th>4</th>\n",
       "      <td>4</td>\n",
       "      <td>1383</td>\n",
       "      <td>464</td>\n",
       "      <td>0.3355</td>\n",
       "    </tr>\n",
       "    <tr>\n",
       "      <th>5</th>\n",
       "      <td>5</td>\n",
       "      <td>1339</td>\n",
       "      <td>576</td>\n",
       "      <td>0.4302</td>\n",
       "    </tr>\n",
       "    <tr>\n",
       "      <th>6</th>\n",
       "      <td>6</td>\n",
       "      <td>103</td>\n",
       "      <td>58</td>\n",
       "      <td>0.5631</td>\n",
       "    </tr>\n",
       "    <tr>\n",
       "      <th>7</th>\n",
       "      <td>7</td>\n",
       "      <td>43</td>\n",
       "      <td>37</td>\n",
       "      <td>0.8605</td>\n",
       "    </tr>\n",
       "    <tr>\n",
       "      <th>8</th>\n",
       "      <td>8</td>\n",
       "      <td>11</td>\n",
       "      <td>6</td>\n",
       "      <td>0.5455</td>\n",
       "    </tr>\n",
       "    <tr>\n",
       "      <th>9</th>\n",
       "      <td>9</td>\n",
       "      <td>6</td>\n",
       "      <td>7</td>\n",
       "      <td>1.1667</td>\n",
       "    </tr>\n",
       "  </tbody>\n",
       "</table>\n",
       "</div>"
      ],
      "text/plain": [
       "   equity  notchurn  churn  percent\n",
       "0       0      2486     90   0.0362\n",
       "1       1       680     93   0.1368\n",
       "2       2       885    166   0.1876\n",
       "3       3      1219    321   0.2633\n",
       "4       4      1383    464   0.3355\n",
       "5       5      1339    576   0.4302\n",
       "6       6       103     58   0.5631\n",
       "7       7        43     37   0.8605\n",
       "8       8        11      6   0.5455\n",
       "9       9         6      7   1.1667"
      ]
     },
     "metadata": {},
     "output_type": "display_data"
    },
    {
     "data": {
      "image/png": "[encoded data removed]",
      "text/plain": [
       "<Figure size 1080x360 with 2 Axes>"
      ]
     },
     "metadata": {
      "needs_background": "light"
     },
     "output_type": "display_data"
    },
    {
     "name": "stdout",
     "output_type": "stream",
     "text": [
      "------------------------------------------------------------------------------------------\n",
      "\n",
      "\n",
      "Распределение по признаку products\n"
     ]
    },
    {
     "data": {
      "text/html": [
       "<div>\n",
       "<style scoped>\n",
       "    .dataframe tbody tr th:only-of-type {\n",
       "        vertical-align: middle;\n",
       "    }\n",
       "\n",
       "    .dataframe tbody tr th {\n",
       "        vertical-align: top;\n",
       "    }\n",
       "\n",
       "    .dataframe thead th {\n",
       "        text-align: right;\n",
       "    }\n",
       "</style>\n",
       "<table border=\"1\" class=\"dataframe\">\n",
       "  <thead>\n",
       "    <tr style=\"text-align: right;\">\n",
       "      <th></th>\n",
       "      <th>products</th>\n",
       "      <th>notchurn</th>\n",
       "      <th>churn</th>\n",
       "      <th>percent</th>\n",
       "    </tr>\n",
       "  </thead>\n",
       "  <tbody>\n",
       "    <tr>\n",
       "      <th>0</th>\n",
       "      <td>1</td>\n",
       "      <td>3088</td>\n",
       "      <td>235</td>\n",
       "      <td>0.0761</td>\n",
       "    </tr>\n",
       "    <tr>\n",
       "      <th>1</th>\n",
       "      <td>2</td>\n",
       "      <td>4141</td>\n",
       "      <td>978</td>\n",
       "      <td>0.2362</td>\n",
       "    </tr>\n",
       "    <tr>\n",
       "      <th>2</th>\n",
       "      <td>3</td>\n",
       "      <td>741</td>\n",
       "      <td>297</td>\n",
       "      <td>0.4008</td>\n",
       "    </tr>\n",
       "    <tr>\n",
       "      <th>3</th>\n",
       "      <td>4</td>\n",
       "      <td>174</td>\n",
       "      <td>300</td>\n",
       "      <td>1.7241</td>\n",
       "    </tr>\n",
       "    <tr>\n",
       "      <th>4</th>\n",
       "      <td>5</td>\n",
       "      <td>11</td>\n",
       "      <td>8</td>\n",
       "      <td>0.7273</td>\n",
       "    </tr>\n",
       "  </tbody>\n",
       "</table>\n",
       "</div>"
      ],
      "text/plain": [
       "   products  notchurn  churn  percent\n",
       "0         1      3088    235   0.0761\n",
       "1         2      4141    978   0.2362\n",
       "2         3       741    297   0.4008\n",
       "3         4       174    300   1.7241\n",
       "4         5        11      8   0.7273"
      ]
     },
     "metadata": {},
     "output_type": "display_data"
    },
    {
     "data": {
      "image/png": "[encoded data removed]",
      "text/plain": [
       "<Figure size 1080x360 with 2 Axes>"
      ]
     },
     "metadata": {
      "needs_background": "light"
     },
     "output_type": "display_data"
    },
    {
     "name": "stdout",
     "output_type": "stream",
     "text": [
      "------------------------------------------------------------------------------------------\n",
      "\n",
      "\n",
      "Распределение по признаку credit_card\n"
     ]
    },
    {
     "data": {
      "text/html": [
       "<div>\n",
       "<style scoped>\n",
       "    .dataframe tbody tr th:only-of-type {\n",
       "        vertical-align: middle;\n",
       "    }\n",
       "\n",
       "    .dataframe tbody tr th {\n",
       "        vertical-align: top;\n",
       "    }\n",
       "\n",
       "    .dataframe thead th {\n",
       "        text-align: right;\n",
       "    }\n",
       "</style>\n",
       "<table border=\"1\" class=\"dataframe\">\n",
       "  <thead>\n",
       "    <tr style=\"text-align: right;\">\n",
       "      <th></th>\n",
       "      <th>credit_card</th>\n",
       "      <th>notchurn</th>\n",
       "      <th>churn</th>\n",
       "      <th>percent</th>\n",
       "    </tr>\n",
       "  </thead>\n",
       "  <tbody>\n",
       "    <tr>\n",
       "      <th>0</th>\n",
       "      <td>0</td>\n",
       "      <td>2374</td>\n",
       "      <td>815</td>\n",
       "      <td>0.3433</td>\n",
       "    </tr>\n",
       "    <tr>\n",
       "      <th>1</th>\n",
       "      <td>1</td>\n",
       "      <td>5781</td>\n",
       "      <td>1003</td>\n",
       "      <td>0.1735</td>\n",
       "    </tr>\n",
       "  </tbody>\n",
       "</table>\n",
       "</div>"
      ],
      "text/plain": [
       "   credit_card  notchurn  churn  percent\n",
       "0            0      2374    815   0.3433\n",
       "1            1      5781   1003   0.1735"
      ]
     },
     "metadata": {},
     "output_type": "display_data"
    },
    {
     "data": {
      "image/png": "[encoded data removed]",
      "text/plain": [
       "<Figure size 1080x360 with 2 Axes>"
      ]
     },
     "metadata": {
      "needs_background": "light"
     },
     "output_type": "display_data"
    },
    {
     "name": "stdout",
     "output_type": "stream",
     "text": [
      "------------------------------------------------------------------------------------------\n",
      "\n",
      "\n",
      "Распределение по признаку last_activity\n"
     ]
    },
    {
     "data": {
      "text/html": [
       "<div>\n",
       "<style scoped>\n",
       "    .dataframe tbody tr th:only-of-type {\n",
       "        vertical-align: middle;\n",
       "    }\n",
       "\n",
       "    .dataframe tbody tr th {\n",
       "        vertical-align: top;\n",
       "    }\n",
       "\n",
       "    .dataframe thead th {\n",
       "        text-align: right;\n",
       "    }\n",
       "</style>\n",
       "<table border=\"1\" class=\"dataframe\">\n",
       "  <thead>\n",
       "    <tr style=\"text-align: right;\">\n",
       "      <th></th>\n",
       "      <th>last_activity</th>\n",
       "      <th>notchurn</th>\n",
       "      <th>churn</th>\n",
       "      <th>percent</th>\n",
       "    </tr>\n",
       "  </thead>\n",
       "  <tbody>\n",
       "    <tr>\n",
       "      <th>0</th>\n",
       "      <td>0</td>\n",
       "      <td>4217</td>\n",
       "      <td>541</td>\n",
       "      <td>0.1283</td>\n",
       "    </tr>\n",
       "    <tr>\n",
       "      <th>1</th>\n",
       "      <td>1</td>\n",
       "      <td>3938</td>\n",
       "      <td>1277</td>\n",
       "      <td>0.3243</td>\n",
       "    </tr>\n",
       "  </tbody>\n",
       "</table>\n",
       "</div>"
      ],
      "text/plain": [
       "   last_activity  notchurn  churn  percent\n",
       "0              0      4217    541   0.1283\n",
       "1              1      3938   1277   0.3243"
      ]
     },
     "metadata": {},
     "output_type": "display_data"
    },
    {
     "data": {
      "image/png": "[encoded data removed]",
      "text/plain": [
       "<Figure size 1080x360 with 2 Axes>"
      ]
     },
     "metadata": {
      "needs_background": "light"
     },
     "output_type": "display_data"
    },
    {
     "name": "stdout",
     "output_type": "stream",
     "text": [
      "------------------------------------------------------------------------------------------\n",
      "\n",
      "\n"
     ]
    }
   ],
   "source": [
    "for i in ['city', 'gender', 'equity', 'products', 'credit_card', 'last_activity']:\n",
    "    print(f'Распределение по признаку {i}')\n",
    "    cat_churn = data.pivot_table(index=[i], columns='churn', values='user_id', aggfunc='count').reset_index()\n",
    "    cat_churn.columns = (f\"{i}\", 'notchurn', 'churn')\n",
    "    cat_churn['percent'] = (cat_churn['churn']/cat_churn['notchurn'] ).round(4)\n",
    "    display(cat_churn)\n",
    "    \n",
    "    plt.figure(figsize=(15, 5))\n",
    "    \n",
    "    ax1 = plt.subplot(1, 2, 1)\n",
    "    sns.barplot(x=cat_churn[i], y=cat_churn['percent'], data=cat_churn[i], color='green')\n",
    "    plt.axhline(y=data['churn'].mean(), color='r', linestyle = '--')\n",
    "    plt.grid()\n",
    "    plt.title('График оттока в процентном представлении')\n",
    "    \n",
    "    \n",
    "    ax2 = plt.subplot(1, 2, 2)\n",
    "    plt.bar(cat_churn[i], cat_churn['notchurn'], width = 0.5, label='Активные клиенты')\n",
    "    plt.bar(cat_churn[i], cat_churn['churn'], width=0.45, label='Отток')\n",
    "    plt.axhline(y=cat_churn['churn'].median(), color='r', linestyle = '--')\n",
    "    plt.grid()\n",
    "    plt.legend()\n",
    "    plt.title('График оттока по количеству клиентов')\n",
    "    \n",
    "    plt.tight_layout()\n",
    "    plt.show() \n",
    "    \n",
    "    print('------------------------------------------------------------------------------------------')\n",
    "    print()\n",
    "    print()"
   ]
  },
  {
   "cell_type": "markdown",
   "metadata": {},
   "source": [
    "_**Итого по распределению оттока**_\n",
    "\n",
    "**Чаще всего уходят клиенты:**\n",
    "- с высоким рейтингом доверия от 830 до 940\n",
    "- с возрастом клиента 25-35 и 50-60\n",
    "- с балансом на счете от 700 и далее\n",
    "- с зарплатой от 100 тысяч и далее (в основном, до 200)\n",
    "- жители Ярославля (большой город и самый большой процент оттока в соотношении с другими городами), за ним - Ростов\n",
    "- мужчины (процент оттока 31%)\n",
    "- клиенты с 3 и выше единицами собственности (процент оттока возрастает по мере повышения числа объъектов собственности. По числу клиентов - начиная с 2 единиц собственности отток уже ощущается)\n",
    "- клиенты пользующиеся 3 и более продуктами банка (4 продукта - отток 170%)\n",
    "- клиенты, не имеющие кредитную карту, по процентному соотношению (но общий отток больше у тех, кто имеет кредитку, т.к. клиентов с ней большинство)\n",
    "- клиенты, которые пользовались банком в течении последнего месяца уходят с большей вероятностью (32%), чем те, кто не был активен (12%)"
   ]
  },
  {
   "cell_type": "markdown",
   "metadata": {},
   "source": [
    "### Корреляционный анализ"
   ]
  },
  {
   "cell_type": "code",
   "execution_count": 32,
   "metadata": {},
   "outputs": [
    {
     "data": {
      "image/png": "[encoded data removed]",
      "text/plain": [
       "<Figure size 1008x864 with 2 Axes>"
      ]
     },
     "metadata": {
      "needs_background": "light"
     },
     "output_type": "display_data"
    }
   ],
   "source": [
    "data_corr = data.copy()\n",
    "data_corr.drop('user_id', axis=1, inplace=True)\n",
    "plt.figure(figsize = (14, 12))\n",
    "sns.heatmap(\n",
    "    data_corr.corr(),\n",
    "    annot = True, \n",
    "    center=0,\n",
    "    fmt = '.2f',\n",
    "    cmap='coolwarm'\n",
    ")\n",
    "plt.title('Корреляция данных в датафрейие')\n",
    "plt.show()"
   ]
  },
  {
   "cell_type": "markdown",
   "metadata": {},
   "source": [
    "**По анализу корреляции**\n",
    "- прослеживается небольшая положительная корреляция между churn и признаками: score, equity, products, last_activity, gender(Мужчины). **По шкале Чеддока корреляция с этими признаками - от 10 до 30% - слабая связь корреляции. Также, есть обратная слабая связь (-10% до -30%) со столбцами credit_card и gender(Женщины)**"
   ]
  },
  {
   "cell_type": "markdown",
   "metadata": {},
   "source": [
    "_**Общий вывод по ИАД**_\n",
    "\n",
    "**Распределение в среднем по данным:**\n",
    "- от 770 до 930 баллов доверия\n",
    "- возраст от 24 до 60 лет, много клиентов в возрасте 34-36 лет\n",
    "- зарплата от 30 до 200 тысяч рублей\n",
    "- на балансе от 0р до 1.8 млн. р.\n",
    "- женщин и мужчин - равное количество\n",
    "- в Ярославле больше половины клиентов, затем Рыбинск, Ростов\n",
    "- много клиентов с 0 баллами собственности, затем постепенный рост по баллам собственности от 1 до 5, следом - резкий спад\n",
    "- в основном, клиент пользуется 1 или 2 продуктами от банка\n",
    "- у большинства (68%) есть кредитная карта\n",
    "- 52% клиентов были активны за последний месяц\n",
    "- 18% клиентов с признаками оттока\n",
    "\n",
    "**Распределение по признакам оттока (чаще всего уходят клиенты):**\n",
    "- с высоким рейтингом доверия от 830 до 940\n",
    "- с возрастом клиента 25-35 и 50-60\n",
    "- с балансом на счете от 700 и далее\n",
    "- с зарплатой от 100 тысяч и далее (в основном, до 200)\n",
    "- жители Ярославля (большой город и самый большой процент оттока в соотношении с другими городами), за ним - Ростов\n",
    "- мужчины (процент оттока 31%)\n",
    "- клиенты с 3 и выше единицами собственности (процент оттока возрастает по мере повышения числа объъектов собственности. По числу клиентов - начиная с 2 единиц собственности отток уже ощущается)\n",
    "- клиенты пользующиеся 3 и более продуктами банка (4 продукта - отток 170%)\n",
    "- клиенты, не имеющие кредитную карту, по процентному соотношению (но общий отток больше у тех, кто имеет кредитку, т.к. клиентов с ней большинство)\n",
    "- клиенты, которые пользовались банком в течении последнего месяца уходят с большей вероятностью (32%), чем те, кто не был активен (12%)\n",
    "\n",
    "**Анализ корреляции**\n",
    "- прослеживается небольшая положительная корреляция между churn и признаками: score, equity, products, last_activity, gender(Мужчины). **По шкале Чеддока корреляция с этими признаками - от 10 до 30% - слабая связь корреляции. Также, есть обратная слабая связь (-10% до -30%) со столбцами credit_card и gender(Женщины)**"
   ]
  },
  {
   "cell_type": "markdown",
   "metadata": {},
   "source": [
    "## Проверка гипотез"
   ]
  },
  {
   "cell_type": "markdown",
   "metadata": {},
   "source": [
    "Проверка гипотез через метод t-test - приоритетна. Но нужно, чтобы были выполнены три условия:\n",
    "- Генеральные совокупности не зависят друг от друга (нельзя, если сравниваются данные до и после изменений)\n",
    "- Выборочные средние нормально распределены (чем больше выборка - тем лучше)\n",
    "- Дисперсии рассматриваемых генеральных совокупностей равны (если есть подозрения на неравномерность - equal_var=False)"
   ]
  },
  {
   "cell_type": "markdown",
   "metadata": {},
   "source": [
    "Разделим данные на клиентов без признаков и с признаками оттока"
   ]
  },
  {
   "cell_type": "code",
   "execution_count": 33,
   "metadata": {},
   "outputs": [
    {
     "data": {
      "text/plain": [
       "8155"
      ]
     },
     "metadata": {},
     "output_type": "display_data"
    },
    {
     "data": {
      "text/plain": [
       "1818"
      ]
     },
     "metadata": {},
     "output_type": "display_data"
    },
    {
     "name": "stdout",
     "output_type": "stream",
     "text": [
      "<class 'pandas.core.frame.DataFrame'>\n",
      "Int64Index: 9973 entries, 0 to 9973\n",
      "Data columns (total 17 columns):\n",
      " #   Column         Non-Null Count  Dtype  \n",
      "---  ------         --------------  -----  \n",
      " 0   user_id        9973 non-null   int64  \n",
      " 1   score          9973 non-null   int64  \n",
      " 2   city           9973 non-null   object \n",
      " 3   gender         9973 non-null   object \n",
      " 4   age            9973 non-null   int64  \n",
      " 5   equity         9973 non-null   int64  \n",
      " 6   balance        7695 non-null   float64\n",
      " 7   products       9973 non-null   int64  \n",
      " 8   credit_card    9973 non-null   int64  \n",
      " 9   last_activity  9973 non-null   int64  \n",
      " 10  est_salary     9973 non-null   float64\n",
      " 11  churn          9973 non-null   int64  \n",
      " 12  Ростов         9973 non-null   uint8  \n",
      " 13  Рыбинск        9973 non-null   uint8  \n",
      " 14  Ярославль      9973 non-null   uint8  \n",
      " 15  Ж              9973 non-null   uint8  \n",
      " 16  М              9973 non-null   uint8  \n",
      "dtypes: float64(2), int64(8), object(2), uint8(5)\n",
      "memory usage: 1.0+ MB\n"
     ]
    }
   ],
   "source": [
    "data_churn_0 = data.query('churn == 0')\n",
    "display(data_churn_0.shape[0])\n",
    "data_churn_1 = data.query('churn == 1')\n",
    "display(data_churn_1.shape[0])\n",
    "data.info()"
   ]
  },
  {
   "cell_type": "markdown",
   "metadata": {},
   "source": [
    "После разделения получилось 8155 клиентов без признаков оттока, и 1818 с признаками оттока. Генеральные совокупности не зависят друг от друга, выборки достаточно большие, но равность дисперсий невозможно определить точно. Поэтому т-тест можно использовать, но с equal_var=False."
   ]
  },
  {
   "cell_type": "markdown",
   "metadata": {},
   "source": [
    "**Гипотеза №1**\n",
    "- H0 - доход пользователей с признаками оттока и доход пользователей без признаков оттока равны\n",
    "- H1 - доход пользователей с признаками оттока и доход пользователей без признаков оттока отличаются"
   ]
  },
  {
   "cell_type": "code",
   "execution_count": 34,
   "metadata": {},
   "outputs": [
    {
     "name": "stdout",
     "output_type": "stream",
     "text": [
      "Не получилось отвергнуть нулевую гипотезу\n",
      "147674.63788105457\n"
     ]
    },
    {
     "data": {
      "text/plain": [
       "148357.48315731573"
      ]
     },
     "execution_count": 34,
     "metadata": {},
     "output_type": "execute_result"
    }
   ],
   "source": [
    "alpha=0.05\n",
    "test = st.ttest_ind(data_churn_0['est_salary'],\n",
    "                    data_churn_1['est_salary'],\n",
    "                    equal_var=False,\n",
    "                    alternative='two-sided')\n",
    "\n",
    "if test.pvalue < alpha:\n",
    "    print('Отвергаем нулевую гипотезу')\n",
    "else:\n",
    "    print('Не получилось отвергнуть нулевую гипотезу')\n",
    "    \n",
    "print(data_churn_0['est_salary'].mean())\n",
    "data_churn_1['est_salary'].mean()"
   ]
  },
  {
   "cell_type": "markdown",
   "metadata": {},
   "source": [
    "Действительно, оценочный доход пользователей с признаками оттока приблизительно равен оценочному доходу пользователей без признаков оттока. Не отвергаем нулевую гипотезу"
   ]
  },
  {
   "cell_type": "markdown",
   "metadata": {},
   "source": [
    "**Гипотеза №2**\n",
    "- H0 - баланс на счете у пользователей с признаками и без признаков оттока равны\n",
    "- H1 - баланс на счете у пользователей с признаками оттока отличается от пользователей без признаков оттока"
   ]
  },
  {
   "cell_type": "code",
   "execution_count": 35,
   "metadata": {
    "scrolled": true
   },
   "outputs": [
    {
     "name": "stdout",
     "output_type": "stream",
     "text": [
      "Отвергаем нулевую гипотезу\n",
      "661447.2757682402\n"
     ]
    },
    {
     "data": {
      "text/plain": [
       "1132144.3524642466"
      ]
     },
     "execution_count": 35,
     "metadata": {},
     "output_type": "execute_result"
    }
   ],
   "source": [
    "data_churn_0 = data_churn_0.fillna(data_churn_0['balance'].median())\n",
    "data_churn_1 = data_churn_1.fillna(data_churn_1['balance'].median())\n",
    "alpha=0.05\n",
    "test = st.ttest_ind(data_churn_0['balance'],\n",
    "                    data_churn_1['balance'],\n",
    "                    equal_var=False,\n",
    "                    alternative='two-sided')\n",
    "\n",
    "if test.pvalue < alpha:\n",
    "    print('Отвергаем нулевую гипотезу')\n",
    "else:\n",
    "    print('Не получилось отвергнуть нулевую гипотезу')\n",
    "    \n",
    "print(data_churn_0['balance'].mean())\n",
    "data_churn_1['balance'].mean()"
   ]
  },
  {
   "cell_type": "markdown",
   "metadata": {},
   "source": [
    "Отвергаем нулевую гипотезу, баланс на счете не равен между активными и отточными пользователями "
   ]
  },
  {
   "cell_type": "markdown",
   "metadata": {},
   "source": [
    "**Гипотеза №3**\n",
    "- H0 - рейтинг доверия у пользователей с признаками и без признаков оттока равны\n",
    "- H1 - рейтинг доверия у пользователей с признаками оттока отличается от пользователей без признаков оттока"
   ]
  },
  {
   "cell_type": "code",
   "execution_count": 36,
   "metadata": {},
   "outputs": [
    {
     "name": "stdout",
     "output_type": "stream",
     "text": [
      "Отвергаем нулевую гипотезу\n",
      "845.3961986511342\n"
     ]
    },
    {
     "data": {
      "text/plain": [
       "863.3619361936194"
      ]
     },
     "execution_count": 36,
     "metadata": {},
     "output_type": "execute_result"
    }
   ],
   "source": [
    "alpha=0.05\n",
    "test = st.ttest_ind(data_churn_0['score'],\n",
    "                    data_churn_1['score'],\n",
    "                    equal_var=False,\n",
    "                    alternative='two-sided')\n",
    "\n",
    "if test.pvalue < alpha:\n",
    "    print('Отвергаем нулевую гипотезу')\n",
    "else:\n",
    "    print('Не получилось отвергнуть нулевую гипотезу')\n",
    "    \n",
    "print(data_churn_0['score'].mean())\n",
    "data_churn_1['score'].mean()"
   ]
  },
  {
   "cell_type": "markdown",
   "metadata": {},
   "source": [
    "Отвергаем нулевую гипотезу, рейтинг доверия у активных и отточных пользователей разный"
   ]
  },
  {
   "cell_type": "markdown",
   "metadata": {},
   "source": [
    "**Были проверены три гипотезы для клиентов с признаком оттока и без признака оттока**\n",
    "- о равенстве предполагаемой зарплаты\n",
    "- о равенстве баланса на счете\n",
    "- о равенстве баллов скоринга\n",
    "\n",
    "Гипотезу о равенстве предполагаемой зарплаты не получилось отклонить. Она приблизительно одинакова у отточных и активных клиентов. Две другие гипотезы были отвергнуты, значения у отточных клиентов оказались выше"
   ]
  },
  {
   "cell_type": "markdown",
   "metadata": {},
   "source": [
    "## Общие выводы"
   ]
  },
  {
   "cell_type": "markdown",
   "metadata": {},
   "source": [
    "_**1. Предобработка**_\n",
    "- столбцы переименованы и преведены к правильному типу данных\n",
    "- пропуски возраста удалены, пропуски баланса имеют тип MNAR - их удалять нельзя\n",
    "- явных дубликатов не нашлось, по колонкам есть совпадения в user_id, но пользователи с одинаковым идентификатором имеют разные данные. Скорее всего, в каждом городе свой user_id\n",
    "\n",
    "_**2. Исследовательский анализ данных**_\n",
    "\n",
    "**Распределение в среднем по данным:**\n",
    "- от 770 до 930 баллов доверия\n",
    "- возраст от 24 до 60 лет, много клиентов в возрасте 34-36 лет\n",
    "- зарплата от 30 до 200 тысяч рублей\n",
    "- на балансе от 0р до 1.8 млн. р.\n",
    "- женщин и мужчин - равное количество\n",
    "- в Ярославле больше половины клиентов, затем Рыбинск, Ростов\n",
    "- много клиентов с 0 баллами собственности, затем постепенный рост по баллам собственности от 1 до 5, следом - резкий спад\n",
    "- в основном, клиент пользуется 1 или 2 продуктами от банка\n",
    "- у большинства (68%) есть кредитная карта\n",
    "- 52% клиентов были активны за последний месяц\n",
    "- 18% клиентов с признаками оттока\n",
    "\n",
    "**Распределение по признакам оттока (чаще всего уходят клиенты):**\n",
    "- с высоким рейтингом доверия от 830 до 940\n",
    "- с возрастом клиента 25-35 и 50-60\n",
    "- с балансом на счете от 700 и далее\n",
    "- с зарплатой от 100 тысяч и далее (в основном, до 200)\n",
    "- жители Ярославля (большой город и самый большой процент оттока в соотношении с другими городами), за ним - Ростов\n",
    "- мужчины (процент оттока 31%)\n",
    "- клиенты с 3 и выше единицами собственности (процент оттока возрастает по мере повышения числа объъектов собственности. По числу клиентов - начиная с 2 единиц собственности отток уже ощущается)\n",
    "- клиенты пользующиеся 3 и более продуктами банка (4 продукта - отток 170%)\n",
    "- клиенты, не имеющие кредитную карту, по процентному соотношению (но общий отток больше у тех, кто имеет кредитку, т.к. клиентов с ней большинство)\n",
    "- клиенты, которые пользовались банком в течении последнего месяца уходят с большей вероятностью (32%), чем те, кто не был активен (12%)\n",
    "\n",
    "**Анализ корреляции**\n",
    "- прослеживается небольшая положительная корреляция между churn и признаками: score, equity, products, last_activity, gender(Мужчины). **По шкале Чеддока корреляция с этими признаками - от 10 до 30% - слабая связь корреляции. Также, есть обратная слабая связь (-10% до -30%) со столбцами credit_card и gender(Женщины)**\n",
    "\n",
    "_**3. Проверка гипотез**_\n",
    "\n",
    "Были проверены три гипотезы для клиентов с признаком оттока и без признака оттока\n",
    "\n",
    "- о равенстве предполагаемой зарплаты\n",
    "- о равенстве баланса на счете\n",
    "- о равенстве баллов скоринга\n",
    "\n",
    "Гипотезу о равенстве предполагаемой зарплаты не получилось отклонить. Она приблизительно одинакова у отточных и активных клиентов. Две другие гипотезы были отвергнуты, значения у отточных клиентов оказались выше"
   ]
  },
  {
   "cell_type": "markdown",
   "metadata": {},
   "source": [
    "## Сегментация клиентов"
   ]
  },
  {
   "cell_type": "markdown",
   "metadata": {},
   "source": [
    "**Условия выделения отточного сегмента**\n",
    "- сегмент от 500 клиентов\n",
    "- процент оттока по банку больше 23%\n",
    "\n",
    "По результатам анализа данных (распределения по оттоку) сегменты будут сформированны из выделенных признаков, которые включающие наибольший процент оттока клиентов"
   ]
  },
  {
   "cell_type": "markdown",
   "metadata": {},
   "source": [
    "### Сегмент №1"
   ]
  },
  {
   "cell_type": "code",
   "execution_count": 37,
   "metadata": {},
   "outputs": [
    {
     "data": {
      "text/html": [
       "<div>\n",
       "<style scoped>\n",
       "    .dataframe tbody tr th:only-of-type {\n",
       "        vertical-align: middle;\n",
       "    }\n",
       "\n",
       "    .dataframe tbody tr th {\n",
       "        vertical-align: top;\n",
       "    }\n",
       "\n",
       "    .dataframe thead th {\n",
       "        text-align: right;\n",
       "    }\n",
       "</style>\n",
       "<table border=\"1\" class=\"dataframe\">\n",
       "  <thead>\n",
       "    <tr style=\"text-align: right;\">\n",
       "      <th></th>\n",
       "      <th>user_id</th>\n",
       "      <th>score</th>\n",
       "      <th>city</th>\n",
       "      <th>gender</th>\n",
       "      <th>age</th>\n",
       "      <th>equity</th>\n",
       "      <th>balance</th>\n",
       "      <th>products</th>\n",
       "      <th>credit_card</th>\n",
       "      <th>last_activity</th>\n",
       "      <th>est_salary</th>\n",
       "      <th>churn</th>\n",
       "      <th>Ростов</th>\n",
       "      <th>Рыбинск</th>\n",
       "      <th>Ярославль</th>\n",
       "      <th>Ж</th>\n",
       "      <th>М</th>\n",
       "    </tr>\n",
       "  </thead>\n",
       "  <tbody>\n",
       "    <tr>\n",
       "      <th>5</th>\n",
       "      <td>202305</td>\n",
       "      <td>856</td>\n",
       "      <td>Рыбинск</td>\n",
       "      <td>М</td>\n",
       "      <td>56</td>\n",
       "      <td>4</td>\n",
       "      <td>863687.24</td>\n",
       "      <td>3</td>\n",
       "      <td>1</td>\n",
       "      <td>0</td>\n",
       "      <td>156619.80</td>\n",
       "      <td>0</td>\n",
       "      <td>0</td>\n",
       "      <td>1</td>\n",
       "      <td>0</td>\n",
       "      <td>0</td>\n",
       "      <td>1</td>\n",
       "    </tr>\n",
       "    <tr>\n",
       "      <th>8</th>\n",
       "      <td>211686</td>\n",
       "      <td>923</td>\n",
       "      <td>Ярославль</td>\n",
       "      <td>М</td>\n",
       "      <td>54</td>\n",
       "      <td>5</td>\n",
       "      <td>1206337.87</td>\n",
       "      <td>2</td>\n",
       "      <td>1</td>\n",
       "      <td>0</td>\n",
       "      <td>155371.79</td>\n",
       "      <td>0</td>\n",
       "      <td>0</td>\n",
       "      <td>0</td>\n",
       "      <td>1</td>\n",
       "      <td>0</td>\n",
       "      <td>1</td>\n",
       "    </tr>\n",
       "    <tr>\n",
       "      <th>10</th>\n",
       "      <td>148929</td>\n",
       "      <td>927</td>\n",
       "      <td>Ростов</td>\n",
       "      <td>М</td>\n",
       "      <td>52</td>\n",
       "      <td>0</td>\n",
       "      <td>NaN</td>\n",
       "      <td>1</td>\n",
       "      <td>1</td>\n",
       "      <td>1</td>\n",
       "      <td>196820.07</td>\n",
       "      <td>0</td>\n",
       "      <td>1</td>\n",
       "      <td>0</td>\n",
       "      <td>0</td>\n",
       "      <td>0</td>\n",
       "      <td>1</td>\n",
       "    </tr>\n",
       "    <tr>\n",
       "      <th>17</th>\n",
       "      <td>214277</td>\n",
       "      <td>793</td>\n",
       "      <td>Ярославль</td>\n",
       "      <td>М</td>\n",
       "      <td>53</td>\n",
       "      <td>3</td>\n",
       "      <td>627034.50</td>\n",
       "      <td>2</td>\n",
       "      <td>1</td>\n",
       "      <td>0</td>\n",
       "      <td>183430.19</td>\n",
       "      <td>0</td>\n",
       "      <td>0</td>\n",
       "      <td>0</td>\n",
       "      <td>1</td>\n",
       "      <td>0</td>\n",
       "      <td>1</td>\n",
       "    </tr>\n",
       "    <tr>\n",
       "      <th>22</th>\n",
       "      <td>161656</td>\n",
       "      <td>871</td>\n",
       "      <td>Ярославль</td>\n",
       "      <td>М</td>\n",
       "      <td>51</td>\n",
       "      <td>4</td>\n",
       "      <td>708866.92</td>\n",
       "      <td>1</td>\n",
       "      <td>1</td>\n",
       "      <td>0</td>\n",
       "      <td>106407.26</td>\n",
       "      <td>0</td>\n",
       "      <td>0</td>\n",
       "      <td>0</td>\n",
       "      <td>1</td>\n",
       "      <td>0</td>\n",
       "      <td>1</td>\n",
       "    </tr>\n",
       "  </tbody>\n",
       "</table>\n",
       "</div>"
      ],
      "text/plain": [
       "    user_id  score       city gender  age  equity     balance  products  \\\n",
       "5    202305    856    Рыбинск      М   56       4   863687.24         3   \n",
       "8    211686    923  Ярославль      М   54       5  1206337.87         2   \n",
       "10   148929    927     Ростов      М   52       0         NaN         1   \n",
       "17   214277    793  Ярославль      М   53       3   627034.50         2   \n",
       "22   161656    871  Ярославль      М   51       4   708866.92         1   \n",
       "\n",
       "    credit_card  last_activity  est_salary  churn  Ростов  Рыбинск  Ярославль  \\\n",
       "5             1              0   156619.80      0       0        1          0   \n",
       "8             1              0   155371.79      0       0        0          1   \n",
       "10            1              1   196820.07      0       1        0          0   \n",
       "17            1              0   183430.19      0       0        0          1   \n",
       "22            1              0   106407.26      0       0        0          1   \n",
       "\n",
       "    Ж  М  \n",
       "5   0  1  \n",
       "8   0  1  \n",
       "10  0  1  \n",
       "17  0  1  \n",
       "22  0  1  "
      ]
     },
     "metadata": {},
     "output_type": "display_data"
    },
    {
     "data": {
      "text/plain": [
       "777"
      ]
     },
     "metadata": {},
     "output_type": "display_data"
    },
    {
     "data": {
      "text/plain": [
       "259"
      ]
     },
     "metadata": {},
     "output_type": "display_data"
    },
    {
     "data": {
      "text/plain": [
       "33.33"
      ]
     },
     "execution_count": 37,
     "metadata": {},
     "output_type": "execute_result"
    }
   ],
   "source": [
    "seg_1 = data.query('gender==\"М\" & 49 < age < 61')\n",
    "display(seg_1.head(), seg_1.shape[0], len(seg_1.query('churn == 1')))\n",
    "round(len(seg_1.query('churn == 1')) / len(seg_1) * 100, 2)"
   ]
  },
  {
   "cell_type": "markdown",
   "metadata": {},
   "source": [
    "Первый сегмент - мужчины от 50 до 60 лет. 777 клиентов, 259 отточных, процент оттока - 33%."
   ]
  },
  {
   "cell_type": "markdown",
   "metadata": {},
   "source": [
    "### Сегмент №2"
   ]
  },
  {
   "cell_type": "code",
   "execution_count": 38,
   "metadata": {},
   "outputs": [
    {
     "data": {
      "text/html": [
       "<div>\n",
       "<style scoped>\n",
       "    .dataframe tbody tr th:only-of-type {\n",
       "        vertical-align: middle;\n",
       "    }\n",
       "\n",
       "    .dataframe tbody tr th {\n",
       "        vertical-align: top;\n",
       "    }\n",
       "\n",
       "    .dataframe thead th {\n",
       "        text-align: right;\n",
       "    }\n",
       "</style>\n",
       "<table border=\"1\" class=\"dataframe\">\n",
       "  <thead>\n",
       "    <tr style=\"text-align: right;\">\n",
       "      <th></th>\n",
       "      <th>user_id</th>\n",
       "      <th>score</th>\n",
       "      <th>city</th>\n",
       "      <th>gender</th>\n",
       "      <th>age</th>\n",
       "      <th>equity</th>\n",
       "      <th>balance</th>\n",
       "      <th>products</th>\n",
       "      <th>credit_card</th>\n",
       "      <th>last_activity</th>\n",
       "      <th>est_salary</th>\n",
       "      <th>churn</th>\n",
       "      <th>Ростов</th>\n",
       "      <th>Рыбинск</th>\n",
       "      <th>Ярославль</th>\n",
       "      <th>Ж</th>\n",
       "      <th>М</th>\n",
       "    </tr>\n",
       "  </thead>\n",
       "  <tbody>\n",
       "    <tr>\n",
       "      <th>3</th>\n",
       "      <td>225363</td>\n",
       "      <td>866</td>\n",
       "      <td>Ярославль</td>\n",
       "      <td>Ж</td>\n",
       "      <td>51</td>\n",
       "      <td>5</td>\n",
       "      <td>1524746.26</td>\n",
       "      <td>2</td>\n",
       "      <td>0</td>\n",
       "      <td>1</td>\n",
       "      <td>174423.53</td>\n",
       "      <td>1</td>\n",
       "      <td>0</td>\n",
       "      <td>0</td>\n",
       "      <td>1</td>\n",
       "      <td>1</td>\n",
       "      <td>0</td>\n",
       "    </tr>\n",
       "    <tr>\n",
       "      <th>8</th>\n",
       "      <td>211686</td>\n",
       "      <td>923</td>\n",
       "      <td>Ярославль</td>\n",
       "      <td>М</td>\n",
       "      <td>54</td>\n",
       "      <td>5</td>\n",
       "      <td>1206337.87</td>\n",
       "      <td>2</td>\n",
       "      <td>1</td>\n",
       "      <td>0</td>\n",
       "      <td>155371.79</td>\n",
       "      <td>0</td>\n",
       "      <td>0</td>\n",
       "      <td>0</td>\n",
       "      <td>1</td>\n",
       "      <td>0</td>\n",
       "      <td>1</td>\n",
       "    </tr>\n",
       "    <tr>\n",
       "      <th>18</th>\n",
       "      <td>136651</td>\n",
       "      <td>876</td>\n",
       "      <td>Ярославль</td>\n",
       "      <td>М</td>\n",
       "      <td>40</td>\n",
       "      <td>5</td>\n",
       "      <td>2307947.36</td>\n",
       "      <td>2</td>\n",
       "      <td>0</td>\n",
       "      <td>0</td>\n",
       "      <td>287010.61</td>\n",
       "      <td>0</td>\n",
       "      <td>0</td>\n",
       "      <td>0</td>\n",
       "      <td>1</td>\n",
       "      <td>0</td>\n",
       "      <td>1</td>\n",
       "    </tr>\n",
       "    <tr>\n",
       "      <th>22</th>\n",
       "      <td>161656</td>\n",
       "      <td>871</td>\n",
       "      <td>Ярославль</td>\n",
       "      <td>М</td>\n",
       "      <td>51</td>\n",
       "      <td>4</td>\n",
       "      <td>708866.92</td>\n",
       "      <td>1</td>\n",
       "      <td>1</td>\n",
       "      <td>0</td>\n",
       "      <td>106407.26</td>\n",
       "      <td>0</td>\n",
       "      <td>0</td>\n",
       "      <td>0</td>\n",
       "      <td>1</td>\n",
       "      <td>0</td>\n",
       "      <td>1</td>\n",
       "    </tr>\n",
       "    <tr>\n",
       "      <th>36</th>\n",
       "      <td>199614</td>\n",
       "      <td>822</td>\n",
       "      <td>Ярославль</td>\n",
       "      <td>М</td>\n",
       "      <td>60</td>\n",
       "      <td>5</td>\n",
       "      <td>1472483.77</td>\n",
       "      <td>1</td>\n",
       "      <td>1</td>\n",
       "      <td>1</td>\n",
       "      <td>89132.67</td>\n",
       "      <td>0</td>\n",
       "      <td>0</td>\n",
       "      <td>0</td>\n",
       "      <td>1</td>\n",
       "      <td>0</td>\n",
       "      <td>1</td>\n",
       "    </tr>\n",
       "  </tbody>\n",
       "</table>\n",
       "</div>"
      ],
      "text/plain": [
       "    user_id  score       city gender  age  equity     balance  products  \\\n",
       "3    225363    866  Ярославль      Ж   51       5  1524746.26         2   \n",
       "8    211686    923  Ярославль      М   54       5  1206337.87         2   \n",
       "18   136651    876  Ярославль      М   40       5  2307947.36         2   \n",
       "22   161656    871  Ярославль      М   51       4   708866.92         1   \n",
       "36   199614    822  Ярославль      М   60       5  1472483.77         1   \n",
       "\n",
       "    credit_card  last_activity  est_salary  churn  Ростов  Рыбинск  Ярославль  \\\n",
       "3             0              1   174423.53      1       0        0          1   \n",
       "8             1              0   155371.79      0       0        0          1   \n",
       "18            0              0   287010.61      0       0        0          1   \n",
       "22            1              0   106407.26      0       0        0          1   \n",
       "36            1              1    89132.67      0       0        0          1   \n",
       "\n",
       "    Ж  М  \n",
       "3   1  0  \n",
       "8   0  1  \n",
       "18  0  1  \n",
       "22  0  1  \n",
       "36  0  1  "
      ]
     },
     "metadata": {},
     "output_type": "display_data"
    },
    {
     "data": {
      "text/plain": [
       "1601"
      ]
     },
     "metadata": {},
     "output_type": "display_data"
    },
    {
     "data": {
      "text/plain": [
       "615"
      ]
     },
     "metadata": {},
     "output_type": "display_data"
    },
    {
     "data": {
      "text/plain": [
       "38.41"
      ]
     },
     "execution_count": 38,
     "metadata": {},
     "output_type": "execute_result"
    }
   ],
   "source": [
    "seg_2 = data.query('city==\"Ярославль\" & balance > 700000 & equity >= 3')\n",
    "display(seg_2.head(), seg_2.shape[0], len(seg_2.query('churn == 1')))\n",
    "round(len(seg_2.query('churn == 1')) / len(seg_2) * 100, 2)"
   ]
  },
  {
   "cell_type": "markdown",
   "metadata": {},
   "source": [
    "Второй сегмент - жители Ярославля, с балансом более 700000 и баллами собственности от 3. 1601 клиент, 651 отточных и процент оттока 38%"
   ]
  },
  {
   "cell_type": "markdown",
   "metadata": {},
   "source": [
    "### Сегмент №3"
   ]
  },
  {
   "cell_type": "code",
   "execution_count": 39,
   "metadata": {},
   "outputs": [
    {
     "data": {
      "text/html": [
       "<div>\n",
       "<style scoped>\n",
       "    .dataframe tbody tr th:only-of-type {\n",
       "        vertical-align: middle;\n",
       "    }\n",
       "\n",
       "    .dataframe tbody tr th {\n",
       "        vertical-align: top;\n",
       "    }\n",
       "\n",
       "    .dataframe thead th {\n",
       "        text-align: right;\n",
       "    }\n",
       "</style>\n",
       "<table border=\"1\" class=\"dataframe\">\n",
       "  <thead>\n",
       "    <tr style=\"text-align: right;\">\n",
       "      <th></th>\n",
       "      <th>user_id</th>\n",
       "      <th>score</th>\n",
       "      <th>city</th>\n",
       "      <th>gender</th>\n",
       "      <th>age</th>\n",
       "      <th>equity</th>\n",
       "      <th>balance</th>\n",
       "      <th>products</th>\n",
       "      <th>credit_card</th>\n",
       "      <th>last_activity</th>\n",
       "      <th>est_salary</th>\n",
       "      <th>churn</th>\n",
       "      <th>Ростов</th>\n",
       "      <th>Рыбинск</th>\n",
       "      <th>Ярославль</th>\n",
       "      <th>Ж</th>\n",
       "      <th>М</th>\n",
       "    </tr>\n",
       "  </thead>\n",
       "  <tbody>\n",
       "    <tr>\n",
       "      <th>2</th>\n",
       "      <td>120722</td>\n",
       "      <td>892</td>\n",
       "      <td>Рыбинск</td>\n",
       "      <td>Ж</td>\n",
       "      <td>30</td>\n",
       "      <td>0</td>\n",
       "      <td>NaN</td>\n",
       "      <td>1</td>\n",
       "      <td>1</td>\n",
       "      <td>1</td>\n",
       "      <td>107683.34</td>\n",
       "      <td>0</td>\n",
       "      <td>0</td>\n",
       "      <td>1</td>\n",
       "      <td>0</td>\n",
       "      <td>1</td>\n",
       "      <td>0</td>\n",
       "    </tr>\n",
       "    <tr>\n",
       "      <th>3</th>\n",
       "      <td>225363</td>\n",
       "      <td>866</td>\n",
       "      <td>Ярославль</td>\n",
       "      <td>Ж</td>\n",
       "      <td>51</td>\n",
       "      <td>5</td>\n",
       "      <td>1524746.26</td>\n",
       "      <td>2</td>\n",
       "      <td>0</td>\n",
       "      <td>1</td>\n",
       "      <td>174423.53</td>\n",
       "      <td>1</td>\n",
       "      <td>0</td>\n",
       "      <td>0</td>\n",
       "      <td>1</td>\n",
       "      <td>1</td>\n",
       "      <td>0</td>\n",
       "    </tr>\n",
       "    <tr>\n",
       "      <th>9</th>\n",
       "      <td>133130</td>\n",
       "      <td>906</td>\n",
       "      <td>Ярославль</td>\n",
       "      <td>Ж</td>\n",
       "      <td>67</td>\n",
       "      <td>0</td>\n",
       "      <td>NaN</td>\n",
       "      <td>1</td>\n",
       "      <td>0</td>\n",
       "      <td>1</td>\n",
       "      <td>238055.53</td>\n",
       "      <td>0</td>\n",
       "      <td>0</td>\n",
       "      <td>0</td>\n",
       "      <td>1</td>\n",
       "      <td>1</td>\n",
       "      <td>0</td>\n",
       "    </tr>\n",
       "    <tr>\n",
       "      <th>10</th>\n",
       "      <td>148929</td>\n",
       "      <td>927</td>\n",
       "      <td>Ростов</td>\n",
       "      <td>М</td>\n",
       "      <td>52</td>\n",
       "      <td>0</td>\n",
       "      <td>NaN</td>\n",
       "      <td>1</td>\n",
       "      <td>1</td>\n",
       "      <td>1</td>\n",
       "      <td>196820.07</td>\n",
       "      <td>0</td>\n",
       "      <td>1</td>\n",
       "      <td>0</td>\n",
       "      <td>0</td>\n",
       "      <td>0</td>\n",
       "      <td>1</td>\n",
       "    </tr>\n",
       "    <tr>\n",
       "      <th>11</th>\n",
       "      <td>172184</td>\n",
       "      <td>921</td>\n",
       "      <td>Ростов</td>\n",
       "      <td>М</td>\n",
       "      <td>41</td>\n",
       "      <td>0</td>\n",
       "      <td>NaN</td>\n",
       "      <td>1</td>\n",
       "      <td>1</td>\n",
       "      <td>1</td>\n",
       "      <td>217469.48</td>\n",
       "      <td>0</td>\n",
       "      <td>1</td>\n",
       "      <td>0</td>\n",
       "      <td>0</td>\n",
       "      <td>0</td>\n",
       "      <td>1</td>\n",
       "    </tr>\n",
       "  </tbody>\n",
       "</table>\n",
       "</div>"
      ],
      "text/plain": [
       "    user_id  score       city gender  age  equity     balance  products  \\\n",
       "2    120722    892    Рыбинск      Ж   30       0         NaN         1   \n",
       "3    225363    866  Ярославль      Ж   51       5  1524746.26         2   \n",
       "9    133130    906  Ярославль      Ж   67       0         NaN         1   \n",
       "10   148929    927     Ростов      М   52       0         NaN         1   \n",
       "11   172184    921     Ростов      М   41       0         NaN         1   \n",
       "\n",
       "    credit_card  last_activity  est_salary  churn  Ростов  Рыбинск  Ярославль  \\\n",
       "2             1              1   107683.34      0       0        1          0   \n",
       "3             0              1   174423.53      1       0        0          1   \n",
       "9             0              1   238055.53      0       0        0          1   \n",
       "10            1              1   196820.07      0       1        0          0   \n",
       "11            1              1   217469.48      0       1        0          0   \n",
       "\n",
       "    Ж  М  \n",
       "2   1  0  \n",
       "3   1  0  \n",
       "9   1  0  \n",
       "10  0  1  \n",
       "11  0  1  "
      ]
     },
     "metadata": {},
     "output_type": "display_data"
    },
    {
     "data": {
      "text/plain": [
       "1771"
      ]
     },
     "metadata": {},
     "output_type": "display_data"
    },
    {
     "data": {
      "text/plain": [
       "684"
      ]
     },
     "metadata": {},
     "output_type": "display_data"
    },
    {
     "data": {
      "text/plain": [
       "38.62"
      ]
     },
     "execution_count": 39,
     "metadata": {},
     "output_type": "execute_result"
    }
   ],
   "source": [
    "seg_3 = data.query('830 < score < 940 & est_salary > 100000 & last_activity == 1')\n",
    "display(seg_3.head(), seg_3.shape[0], len(seg_3.query('churn == 1')))\n",
    "round(len(seg_3.query('churn == 1')) / len(seg_3) * 100, 2)"
   ]
  },
  {
   "cell_type": "markdown",
   "metadata": {},
   "source": [
    "Третий сегмент - активные клиенты с баллами скоринга от 830 до 940 и предполагаемой зарплатой от 100т.р. 1771 клиент, 684 отточных и 39% оттока."
   ]
  },
  {
   "cell_type": "markdown",
   "metadata": {},
   "source": [
    "### Приоретизация"
   ]
  },
  {
   "cell_type": "markdown",
   "metadata": {},
   "source": [
    "Приоретизация сегментов производится по большему количеству отточных клиентов: \n",
    "- Сегмент №3: активные клиенты с баллами скоринга о 830 до 940 и предполагаемой зарплатой от 100т.р. \n",
    "- Сегмент №2: жители Ярославля, с балансом более 700000 и баллами собственности от 3\n",
    "- Сегмент №1: мужчины от 50 до 60 лет"
   ]
  },
  {
   "cell_type": "markdown",
   "metadata": {},
   "source": [
    "## Рекомендации по работе с оттоком в сегментах"
   ]
  },
  {
   "cell_type": "markdown",
   "metadata": {},
   "source": [
    "**Предположительные рекомендации**\n",
    "- По сегменту №3 - хороший скоринг, хорошие зарплаты, возможно клиентов не устраивают кредитные/ипотечные условия. Пересмотреть условия кредитования, может в банке слишком высокий процент по ставке, в сравнении с конкурентами\n",
    "- Сегмент №2 - обеспеченные люди из большого города. Возможно, не особо привлекательные условия по вкладам, не выгодно хранить деньги, нет возможности открыть инвестиционный счет. Предложить лучшие условия по этим продуктам, добавить обучение и подарки за регистрацию брокерских и ИИС счетов\n",
    "- Сегмент №1 - мужчины в возрасте. Возможно, нет выгодных категорий кэшбэка, скидок в магазинах партнеров, возможности завести специализированную карту по типу \"Драйв\" (скидки на обслуживание автомобиля). Предлагать больше кэшбэка по категориям активного отдыха и соответствующих магазинов. Возможен выпуск продукта специально для автолюбителей или любителей охоты/рыбалки"
   ]
  }
 ],
 "metadata": {
  "ExecuteTimeLog": [
   {
    "duration": 1448,
    "start_time": "2024-09-08T14:00:25.086Z"
   },
   {
    "duration": 144,
    "start_time": "2024-09-08T14:02:11.361Z"
   },
   {
    "duration": 16,
    "start_time": "2024-09-08T14:02:25.558Z"
   },
   {
    "duration": 11,
    "start_time": "2024-09-08T14:02:31.994Z"
   },
   {
    "duration": 3,
    "start_time": "2024-09-08T14:02:54.114Z"
   },
   {
    "duration": 105,
    "start_time": "2024-09-08T14:03:00.091Z"
   },
   {
    "duration": 61,
    "start_time": "2024-09-08T14:04:01.059Z"
   },
   {
    "duration": 9,
    "start_time": "2024-09-08T14:04:06.067Z"
   },
   {
    "duration": 10,
    "start_time": "2024-09-08T14:04:13.189Z"
   },
   {
    "duration": 4,
    "start_time": "2024-09-08T14:04:18.987Z"
   },
   {
    "duration": 12,
    "start_time": "2024-09-08T14:04:22.525Z"
   },
   {
    "duration": 21,
    "start_time": "2024-09-08T14:04:31.939Z"
   },
   {
    "duration": 345,
    "start_time": "2024-09-08T14:04:58.893Z"
   },
   {
    "duration": 19,
    "start_time": "2024-09-08T14:05:12.734Z"
   },
   {
    "duration": 20,
    "start_time": "2024-09-08T14:05:23.123Z"
   },
   {
    "duration": 20,
    "start_time": "2024-09-08T14:06:27.923Z"
   },
   {
    "duration": 18,
    "start_time": "2024-09-08T14:06:44.673Z"
   },
   {
    "duration": 4,
    "start_time": "2024-09-08T14:06:49.864Z"
   },
   {
    "duration": 76,
    "start_time": "2024-09-08T14:07:45.180Z"
   },
   {
    "duration": 144,
    "start_time": "2024-09-08T14:07:52.320Z"
   },
   {
    "duration": 11,
    "start_time": "2024-09-08T14:07:53.898Z"
   },
   {
    "duration": 13,
    "start_time": "2024-09-08T14:07:56.350Z"
   },
   {
    "duration": 3,
    "start_time": "2024-09-08T14:08:15.116Z"
   },
   {
    "duration": 12,
    "start_time": "2024-09-08T14:08:19.344Z"
   },
   {
    "duration": 12,
    "start_time": "2024-09-08T14:08:25.243Z"
   },
   {
    "duration": 13,
    "start_time": "2024-09-08T14:08:37.959Z"
   },
   {
    "duration": 1136,
    "start_time": "2024-09-08T14:09:12.404Z"
   },
   {
    "duration": 82,
    "start_time": "2024-09-08T14:09:13.542Z"
   },
   {
    "duration": 16,
    "start_time": "2024-09-08T14:09:13.625Z"
   },
   {
    "duration": 11,
    "start_time": "2024-09-08T14:09:13.644Z"
   },
   {
    "duration": 3,
    "start_time": "2024-09-08T14:09:13.657Z"
   },
   {
    "duration": 111,
    "start_time": "2024-09-08T14:09:13.661Z"
   },
   {
    "duration": 7,
    "start_time": "2024-09-08T14:10:53.794Z"
   },
   {
    "duration": 23,
    "start_time": "2024-09-08T14:10:57.672Z"
   },
   {
    "duration": 7,
    "start_time": "2024-09-08T14:11:03.932Z"
   },
   {
    "duration": 4,
    "start_time": "2024-09-08T14:11:13.607Z"
   },
   {
    "duration": 22,
    "start_time": "2024-09-08T14:11:20.131Z"
   },
   {
    "duration": 5,
    "start_time": "2024-09-08T14:11:38.594Z"
   },
   {
    "duration": 4,
    "start_time": "2024-09-08T14:11:57.994Z"
   },
   {
    "duration": 5,
    "start_time": "2024-09-08T14:12:05.254Z"
   },
   {
    "duration": 21,
    "start_time": "2024-09-08T14:12:29.839Z"
   },
   {
    "duration": 5,
    "start_time": "2024-09-08T14:16:10.224Z"
   },
   {
    "duration": 32,
    "start_time": "2024-09-08T14:16:12.779Z"
   },
   {
    "duration": 27,
    "start_time": "2024-09-08T14:24:24.767Z"
   },
   {
    "duration": 23,
    "start_time": "2024-09-08T14:25:02.284Z"
   },
   {
    "duration": 435,
    "start_time": "2024-09-08T14:26:39.278Z"
   },
   {
    "duration": 1552,
    "start_time": "2024-09-08T14:27:09.419Z"
   },
   {
    "duration": 1566,
    "start_time": "2024-09-08T14:27:42.394Z"
   },
   {
    "duration": 1586,
    "start_time": "2024-09-08T14:27:53.610Z"
   },
   {
    "duration": 1592,
    "start_time": "2024-09-08T14:28:33.408Z"
   },
   {
    "duration": 1520,
    "start_time": "2024-09-08T14:29:16.399Z"
   },
   {
    "duration": 1724,
    "start_time": "2024-09-08T14:29:24.189Z"
   },
   {
    "duration": 1697,
    "start_time": "2024-09-08T14:30:04.991Z"
   },
   {
    "duration": 30,
    "start_time": "2024-09-08T14:33:27.219Z"
   },
   {
    "duration": 1629,
    "start_time": "2024-09-08T14:33:34.385Z"
   },
   {
    "duration": 10,
    "start_time": "2024-09-08T14:37:01.744Z"
   },
   {
    "duration": 71,
    "start_time": "2024-09-08T14:37:50.111Z"
   },
   {
    "duration": 9,
    "start_time": "2024-09-08T14:37:58.359Z"
   },
   {
    "duration": 3,
    "start_time": "2024-09-08T14:38:06.458Z"
   },
   {
    "duration": 8,
    "start_time": "2024-09-08T14:38:20.331Z"
   },
   {
    "duration": 66,
    "start_time": "2024-09-08T14:39:09.109Z"
   },
   {
    "duration": 92,
    "start_time": "2024-09-08T14:39:30.465Z"
   },
   {
    "duration": 66,
    "start_time": "2024-09-08T14:40:53.644Z"
   },
   {
    "duration": 3334,
    "start_time": "2024-09-08T14:43:28.347Z"
   },
   {
    "duration": 84,
    "start_time": "2024-09-08T14:43:52.574Z"
   },
   {
    "duration": 10,
    "start_time": "2024-09-08T14:44:07.261Z"
   },
   {
    "duration": 1275,
    "start_time": "2024-09-08T14:44:12.833Z"
   },
   {
    "duration": 83,
    "start_time": "2024-09-08T14:44:14.109Z"
   },
   {
    "duration": 15,
    "start_time": "2024-09-08T14:44:14.194Z"
   },
   {
    "duration": 11,
    "start_time": "2024-09-08T14:44:14.210Z"
   },
   {
    "duration": 3,
    "start_time": "2024-09-08T14:44:14.223Z"
   },
   {
    "duration": 13,
    "start_time": "2024-09-08T14:44:14.227Z"
   },
   {
    "duration": 3,
    "start_time": "2024-09-08T14:44:14.242Z"
   },
   {
    "duration": 36,
    "start_time": "2024-09-08T14:44:14.246Z"
   },
   {
    "duration": 5,
    "start_time": "2024-09-08T14:44:14.283Z"
   },
   {
    "duration": 9,
    "start_time": "2024-09-08T14:44:14.289Z"
   },
   {
    "duration": 8,
    "start_time": "2024-09-08T14:44:14.299Z"
   },
   {
    "duration": 1131,
    "start_time": "2024-09-08T14:44:14.308Z"
   },
   {
    "duration": 22,
    "start_time": "2024-09-08T14:44:15.441Z"
   },
   {
    "duration": 2947,
    "start_time": "2024-09-08T14:46:19.290Z"
   },
   {
    "duration": 110,
    "start_time": "2024-09-08T14:46:44.030Z"
   },
   {
    "duration": 13568,
    "start_time": "2024-09-08T14:48:09.160Z"
   },
   {
    "duration": 13335,
    "start_time": "2024-09-08T14:49:13.689Z"
   },
   {
    "duration": 13369,
    "start_time": "2024-09-08T14:49:41.120Z"
   },
   {
    "duration": 13373,
    "start_time": "2024-09-08T14:51:18.094Z"
   },
   {
    "duration": 13623,
    "start_time": "2024-09-08T14:52:25.715Z"
   },
   {
    "duration": 1395,
    "start_time": "2024-09-08T14:53:18.421Z"
   },
   {
    "duration": 66,
    "start_time": "2024-09-08T14:53:19.818Z"
   },
   {
    "duration": 17,
    "start_time": "2024-09-08T14:53:19.885Z"
   },
   {
    "duration": 97,
    "start_time": "2024-09-08T14:53:19.904Z"
   },
   {
    "duration": 10,
    "start_time": "2024-09-08T14:53:20.002Z"
   },
   {
    "duration": 10,
    "start_time": "2024-09-08T14:53:20.013Z"
   },
   {
    "duration": 5,
    "start_time": "2024-09-08T14:53:20.024Z"
   },
   {
    "duration": 38,
    "start_time": "2024-09-08T14:53:20.031Z"
   },
   {
    "duration": 6,
    "start_time": "2024-09-08T14:53:20.070Z"
   },
   {
    "duration": 4,
    "start_time": "2024-09-08T14:53:20.079Z"
   },
   {
    "duration": 24,
    "start_time": "2024-09-08T14:53:20.085Z"
   },
   {
    "duration": 11469,
    "start_time": "2024-09-08T14:53:20.110Z"
   },
   {
    "duration": 21,
    "start_time": "2024-09-08T14:53:31.581Z"
   },
   {
    "duration": 13397,
    "start_time": "2024-09-08T14:54:05.277Z"
   },
   {
    "duration": 1174,
    "start_time": "2024-09-08T14:54:25.901Z"
   },
   {
    "duration": 66,
    "start_time": "2024-09-08T14:54:27.076Z"
   },
   {
    "duration": 18,
    "start_time": "2024-09-08T14:54:27.143Z"
   },
   {
    "duration": 25,
    "start_time": "2024-09-08T14:54:27.163Z"
   },
   {
    "duration": 3,
    "start_time": "2024-09-08T14:54:27.191Z"
   },
   {
    "duration": 9,
    "start_time": "2024-09-08T14:54:27.196Z"
   },
   {
    "duration": 9,
    "start_time": "2024-09-08T14:54:27.206Z"
   },
   {
    "duration": 37,
    "start_time": "2024-09-08T14:54:27.217Z"
   },
   {
    "duration": 5,
    "start_time": "2024-09-08T14:54:27.256Z"
   },
   {
    "duration": 16,
    "start_time": "2024-09-08T14:54:27.262Z"
   },
   {
    "duration": 7,
    "start_time": "2024-09-08T14:54:27.280Z"
   },
   {
    "duration": 11802,
    "start_time": "2024-09-08T14:54:27.289Z"
   },
   {
    "duration": 23,
    "start_time": "2024-09-08T14:54:39.093Z"
   },
   {
    "duration": 49,
    "start_time": "2024-09-08T14:58:37.287Z"
   },
   {
    "duration": 1276,
    "start_time": "2024-09-08T14:58:43.249Z"
   },
   {
    "duration": 63,
    "start_time": "2024-09-08T14:58:44.527Z"
   },
   {
    "duration": 15,
    "start_time": "2024-09-08T14:58:44.592Z"
   },
   {
    "duration": 11,
    "start_time": "2024-09-08T14:58:44.608Z"
   },
   {
    "duration": 3,
    "start_time": "2024-09-08T14:58:44.622Z"
   },
   {
    "duration": 54,
    "start_time": "2024-09-08T14:58:44.626Z"
   },
   {
    "duration": 7,
    "start_time": "2024-09-08T14:58:44.682Z"
   },
   {
    "duration": 22,
    "start_time": "2024-09-08T14:58:44.690Z"
   },
   {
    "duration": 4,
    "start_time": "2024-09-08T14:58:44.714Z"
   },
   {
    "duration": 12,
    "start_time": "2024-09-08T14:58:44.719Z"
   },
   {
    "duration": 11,
    "start_time": "2024-09-08T14:58:44.732Z"
   },
   {
    "duration": 11563,
    "start_time": "2024-09-08T14:58:44.745Z"
   },
   {
    "duration": 23,
    "start_time": "2024-09-08T14:58:56.309Z"
   },
   {
    "duration": 13667,
    "start_time": "2024-09-08T14:59:41.598Z"
   },
   {
    "duration": 12331,
    "start_time": "2024-09-08T15:00:18.896Z"
   },
   {
    "duration": 14168,
    "start_time": "2024-09-08T15:00:49.189Z"
   },
   {
    "duration": 1279,
    "start_time": "2024-09-08T15:01:16.433Z"
   },
   {
    "duration": 67,
    "start_time": "2024-09-08T15:01:17.713Z"
   },
   {
    "duration": 16,
    "start_time": "2024-09-08T15:01:17.781Z"
   },
   {
    "duration": 12,
    "start_time": "2024-09-08T15:01:17.798Z"
   },
   {
    "duration": 3,
    "start_time": "2024-09-08T15:01:17.812Z"
   },
   {
    "duration": 9,
    "start_time": "2024-09-08T15:01:17.816Z"
   },
   {
    "duration": 5,
    "start_time": "2024-09-08T15:01:17.826Z"
   },
   {
    "duration": 38,
    "start_time": "2024-09-08T15:01:17.833Z"
   },
   {
    "duration": 13,
    "start_time": "2024-09-08T15:01:17.873Z"
   },
   {
    "duration": 15,
    "start_time": "2024-09-08T15:01:17.888Z"
   },
   {
    "duration": 7,
    "start_time": "2024-09-08T15:01:17.905Z"
   },
   {
    "duration": 12170,
    "start_time": "2024-09-08T15:01:17.913Z"
   },
   {
    "duration": 24,
    "start_time": "2024-09-08T15:01:30.085Z"
   },
   {
    "duration": 11340,
    "start_time": "2024-09-08T15:01:52.899Z"
   },
   {
    "duration": 13741,
    "start_time": "2024-09-08T15:04:28.697Z"
   },
   {
    "duration": 1320,
    "start_time": "2024-09-08T15:08:25.492Z"
   },
   {
    "duration": 101,
    "start_time": "2024-09-08T15:08:26.814Z"
   },
   {
    "duration": 16,
    "start_time": "2024-09-08T15:08:26.917Z"
   },
   {
    "duration": 12,
    "start_time": "2024-09-08T15:08:26.935Z"
   },
   {
    "duration": 4,
    "start_time": "2024-09-08T15:08:26.949Z"
   },
   {
    "duration": 8,
    "start_time": "2024-09-08T15:08:26.954Z"
   },
   {
    "duration": 4,
    "start_time": "2024-09-08T15:08:26.964Z"
   },
   {
    "duration": 22,
    "start_time": "2024-09-08T15:08:26.970Z"
   },
   {
    "duration": 12798,
    "start_time": "2024-09-08T15:08:26.993Z"
   },
   {
    "duration": 5,
    "start_time": "2024-09-08T15:08:39.793Z"
   },
   {
    "duration": 14,
    "start_time": "2024-09-08T15:08:39.799Z"
   },
   {
    "duration": 12,
    "start_time": "2024-09-08T15:08:39.815Z"
   },
   {
    "duration": 29,
    "start_time": "2024-09-08T15:08:39.829Z"
   },
   {
    "duration": 6714,
    "start_time": "2024-09-09T13:59:15.363Z"
   },
   {
    "duration": 104,
    "start_time": "2024-09-09T13:59:22.079Z"
   },
   {
    "duration": 13,
    "start_time": "2024-09-09T13:59:22.185Z"
   },
   {
    "duration": 10,
    "start_time": "2024-09-09T13:59:22.200Z"
   },
   {
    "duration": 5,
    "start_time": "2024-09-09T13:59:22.212Z"
   },
   {
    "duration": 12,
    "start_time": "2024-09-09T13:59:22.218Z"
   },
   {
    "duration": 5,
    "start_time": "2024-09-09T13:59:22.232Z"
   },
   {
    "duration": 18,
    "start_time": "2024-09-09T13:59:22.238Z"
   },
   {
    "duration": 10911,
    "start_time": "2024-09-09T13:59:22.258Z"
   },
   {
    "duration": 5,
    "start_time": "2024-09-09T13:59:33.171Z"
   },
   {
    "duration": 29,
    "start_time": "2024-09-09T13:59:33.177Z"
   },
   {
    "duration": 88,
    "start_time": "2024-09-09T13:59:33.208Z"
   },
   {
    "duration": 33,
    "start_time": "2024-09-09T13:59:33.298Z"
   },
   {
    "duration": 7572,
    "start_time": "2024-09-10T14:41:31.939Z"
   },
   {
    "duration": 168,
    "start_time": "2024-09-10T14:41:39.513Z"
   },
   {
    "duration": 17,
    "start_time": "2024-09-10T14:41:39.682Z"
   },
   {
    "duration": 16,
    "start_time": "2024-09-10T14:41:39.700Z"
   },
   {
    "duration": 21,
    "start_time": "2024-09-10T14:41:39.717Z"
   },
   {
    "duration": 31,
    "start_time": "2024-09-10T14:41:39.740Z"
   },
   {
    "duration": 20,
    "start_time": "2024-09-10T14:41:39.773Z"
   },
   {
    "duration": 65,
    "start_time": "2024-09-10T14:41:39.794Z"
   },
   {
    "duration": 11986,
    "start_time": "2024-09-10T14:41:39.861Z"
   },
   {
    "duration": 5,
    "start_time": "2024-09-10T14:41:51.850Z"
   },
   {
    "duration": 6,
    "start_time": "2024-09-10T14:41:51.856Z"
   },
   {
    "duration": 8,
    "start_time": "2024-09-10T14:41:51.864Z"
   },
   {
    "duration": 23,
    "start_time": "2024-09-10T14:41:51.873Z"
   },
   {
    "duration": 23,
    "start_time": "2024-09-10T14:52:23.792Z"
   },
   {
    "duration": 13,
    "start_time": "2024-09-10T14:53:40.100Z"
   },
   {
    "duration": 116,
    "start_time": "2024-09-10T14:54:54.104Z"
   },
   {
    "duration": 27,
    "start_time": "2024-09-10T14:55:39.669Z"
   },
   {
    "duration": 24,
    "start_time": "2024-09-10T14:55:45.557Z"
   },
   {
    "duration": 1155,
    "start_time": "2024-09-10T14:55:54.262Z"
   },
   {
    "duration": 153,
    "start_time": "2024-09-10T14:55:55.419Z"
   },
   {
    "duration": 15,
    "start_time": "2024-09-10T14:55:55.574Z"
   },
   {
    "duration": 12,
    "start_time": "2024-09-10T14:55:55.591Z"
   },
   {
    "duration": 3,
    "start_time": "2024-09-10T14:55:55.604Z"
   },
   {
    "duration": 8,
    "start_time": "2024-09-10T14:55:55.608Z"
   },
   {
    "duration": 5,
    "start_time": "2024-09-10T14:55:55.617Z"
   },
   {
    "duration": 20,
    "start_time": "2024-09-10T14:55:55.623Z"
   },
   {
    "duration": 11186,
    "start_time": "2024-09-10T14:55:55.645Z"
   },
   {
    "duration": 5,
    "start_time": "2024-09-10T14:56:06.833Z"
   },
   {
    "duration": 48,
    "start_time": "2024-09-10T14:56:06.839Z"
   },
   {
    "duration": 6,
    "start_time": "2024-09-10T14:56:06.888Z"
   },
   {
    "duration": 22,
    "start_time": "2024-09-10T14:56:06.895Z"
   },
   {
    "duration": 11,
    "start_time": "2024-09-10T14:56:06.918Z"
   },
   {
    "duration": 14,
    "start_time": "2024-09-10T14:56:26.566Z"
   },
   {
    "duration": 9,
    "start_time": "2024-09-10T15:09:46.837Z"
   },
   {
    "duration": 95,
    "start_time": "2024-09-10T15:10:14.164Z"
   },
   {
    "duration": 93,
    "start_time": "2024-09-10T15:10:31.414Z"
   },
   {
    "duration": 162,
    "start_time": "2024-09-10T15:10:41.979Z"
   },
   {
    "duration": 396,
    "start_time": "2024-09-10T15:12:54.866Z"
   },
   {
    "duration": 350,
    "start_time": "2024-09-10T15:13:06.233Z"
   },
   {
    "duration": 16,
    "start_time": "2024-09-10T15:13:26.209Z"
   },
   {
    "duration": 33,
    "start_time": "2024-09-10T15:13:30.735Z"
   },
   {
    "duration": 33,
    "start_time": "2024-09-10T15:13:41.668Z"
   },
   {
    "duration": 161,
    "start_time": "2024-09-10T15:13:45.534Z"
   },
   {
    "duration": 145,
    "start_time": "2024-09-10T15:14:50.112Z"
   },
   {
    "duration": 37,
    "start_time": "2024-09-10T15:14:53.717Z"
   },
   {
    "duration": 38,
    "start_time": "2024-09-10T15:14:57.243Z"
   },
   {
    "duration": 205,
    "start_time": "2024-09-10T15:15:11.864Z"
   },
   {
    "duration": 14,
    "start_time": "2024-09-10T15:17:34.555Z"
   },
   {
    "duration": 212,
    "start_time": "2024-09-10T15:18:48.369Z"
   },
   {
    "duration": 48,
    "start_time": "2024-09-10T15:19:14.635Z"
   },
   {
    "duration": 62,
    "start_time": "2024-09-10T15:19:21.092Z"
   },
   {
    "duration": 231,
    "start_time": "2024-09-10T15:19:34.363Z"
   },
   {
    "duration": 5,
    "start_time": "2024-09-10T15:20:17.026Z"
   },
   {
    "duration": 5,
    "start_time": "2024-09-10T15:20:23.205Z"
   },
   {
    "duration": 155,
    "start_time": "2024-09-10T15:20:38.555Z"
   },
   {
    "duration": 245,
    "start_time": "2024-09-10T15:20:44.976Z"
   },
   {
    "duration": 262,
    "start_time": "2024-09-10T15:20:54.139Z"
   },
   {
    "duration": 217,
    "start_time": "2024-09-10T15:20:57.458Z"
   },
   {
    "duration": 228,
    "start_time": "2024-09-10T15:21:13.772Z"
   },
   {
    "duration": 219,
    "start_time": "2024-09-10T15:21:25.448Z"
   },
   {
    "duration": 218,
    "start_time": "2024-09-10T15:21:33.422Z"
   },
   {
    "duration": 221,
    "start_time": "2024-09-10T15:22:49.237Z"
   },
   {
    "duration": 220,
    "start_time": "2024-09-10T15:22:56.673Z"
   },
   {
    "duration": 240,
    "start_time": "2024-09-10T15:23:09.785Z"
   },
   {
    "duration": 56,
    "start_time": "2024-09-10T15:25:01.212Z"
   },
   {
    "duration": 57,
    "start_time": "2024-09-10T15:25:08.924Z"
   },
   {
    "duration": 55,
    "start_time": "2024-09-10T15:25:14.054Z"
   },
   {
    "duration": 13,
    "start_time": "2024-09-10T15:25:19.718Z"
   },
   {
    "duration": 431,
    "start_time": "2024-09-10T15:26:46.007Z"
   },
   {
    "duration": 313,
    "start_time": "2024-09-10T15:27:43.833Z"
   },
   {
    "duration": 393,
    "start_time": "2024-09-10T15:27:49.127Z"
   },
   {
    "duration": 365,
    "start_time": "2024-09-10T15:28:47.385Z"
   },
   {
    "duration": 355,
    "start_time": "2024-09-10T15:29:18.914Z"
   },
   {
    "duration": 452,
    "start_time": "2024-09-10T15:30:18.040Z"
   },
   {
    "duration": 369,
    "start_time": "2024-09-10T15:32:59.809Z"
   },
   {
    "duration": 497,
    "start_time": "2024-09-10T15:33:11.219Z"
   },
   {
    "duration": 2428,
    "start_time": "2024-09-10T15:33:23.862Z"
   },
   {
    "duration": 390,
    "start_time": "2024-09-10T15:33:28.997Z"
   },
   {
    "duration": 423,
    "start_time": "2024-09-10T15:33:38.623Z"
   },
   {
    "duration": 397,
    "start_time": "2024-09-10T15:33:44.354Z"
   },
   {
    "duration": 524,
    "start_time": "2024-09-10T15:34:06.128Z"
   },
   {
    "duration": 341,
    "start_time": "2024-09-10T15:34:44.636Z"
   },
   {
    "duration": 227,
    "start_time": "2024-09-10T15:34:53.167Z"
   },
   {
    "duration": 355,
    "start_time": "2024-09-10T15:35:20.344Z"
   },
   {
    "duration": 244,
    "start_time": "2024-09-10T15:35:26.009Z"
   },
   {
    "duration": 232,
    "start_time": "2024-09-10T15:35:38.667Z"
   },
   {
    "duration": 8,
    "start_time": "2024-09-10T15:36:03.442Z"
   },
   {
    "duration": 5,
    "start_time": "2024-09-10T15:36:08.302Z"
   },
   {
    "duration": 247,
    "start_time": "2024-09-10T15:36:36.490Z"
   },
   {
    "duration": 483,
    "start_time": "2024-09-10T15:36:42.187Z"
   },
   {
    "duration": 256,
    "start_time": "2024-09-10T15:38:15.302Z"
   },
   {
    "duration": 247,
    "start_time": "2024-09-10T15:38:34.310Z"
   },
   {
    "duration": 205,
    "start_time": "2024-09-10T15:38:58.188Z"
   },
   {
    "duration": 222,
    "start_time": "2024-09-10T15:39:17.410Z"
   },
   {
    "duration": 177,
    "start_time": "2024-09-10T15:41:00.457Z"
   },
   {
    "duration": 201,
    "start_time": "2024-09-10T15:45:06.638Z"
   },
   {
    "duration": 215,
    "start_time": "2024-09-10T15:45:21.928Z"
   },
   {
    "duration": 294,
    "start_time": "2024-09-10T15:46:09.278Z"
   },
   {
    "duration": 218,
    "start_time": "2024-09-10T15:46:18.906Z"
   },
   {
    "duration": 217,
    "start_time": "2024-09-10T15:47:03.568Z"
   },
   {
    "duration": 348,
    "start_time": "2024-09-10T15:47:30.492Z"
   },
   {
    "duration": 215,
    "start_time": "2024-09-10T15:47:50.411Z"
   },
   {
    "duration": 221,
    "start_time": "2024-09-10T15:48:00.918Z"
   },
   {
    "duration": 221,
    "start_time": "2024-09-10T15:48:10.029Z"
   },
   {
    "duration": 6,
    "start_time": "2024-09-10T15:52:41.385Z"
   },
   {
    "duration": 4,
    "start_time": "2024-09-10T15:52:56.355Z"
   },
   {
    "duration": 239,
    "start_time": "2024-09-10T15:53:00.438Z"
   },
   {
    "duration": 221,
    "start_time": "2024-09-10T16:06:52.844Z"
   },
   {
    "duration": 160,
    "start_time": "2024-09-10T16:07:34.158Z"
   },
   {
    "duration": 230,
    "start_time": "2024-09-10T16:07:37.078Z"
   },
   {
    "duration": 198,
    "start_time": "2024-09-10T16:07:45.185Z"
   },
   {
    "duration": 270,
    "start_time": "2024-09-10T16:10:27.092Z"
   },
   {
    "duration": 231,
    "start_time": "2024-09-10T16:10:55.951Z"
   },
   {
    "duration": 343,
    "start_time": "2024-09-10T16:11:06.869Z"
   },
   {
    "duration": 212,
    "start_time": "2024-09-10T16:11:15.004Z"
   },
   {
    "duration": 214,
    "start_time": "2024-09-10T16:11:22.398Z"
   },
   {
    "duration": 9,
    "start_time": "2024-09-10T16:13:21.756Z"
   },
   {
    "duration": 5574,
    "start_time": "2024-09-10T18:56:00.871Z"
   },
   {
    "duration": 253,
    "start_time": "2024-09-10T18:56:06.448Z"
   },
   {
    "duration": 18,
    "start_time": "2024-09-10T18:56:06.703Z"
   },
   {
    "duration": 13,
    "start_time": "2024-09-10T18:56:06.722Z"
   },
   {
    "duration": 3,
    "start_time": "2024-09-10T18:56:06.737Z"
   },
   {
    "duration": 13,
    "start_time": "2024-09-10T18:56:06.742Z"
   },
   {
    "duration": 41,
    "start_time": "2024-09-10T18:56:06.757Z"
   },
   {
    "duration": 31,
    "start_time": "2024-09-10T18:56:06.800Z"
   },
   {
    "duration": 52,
    "start_time": "2024-09-10T18:56:06.833Z"
   },
   {
    "duration": 13646,
    "start_time": "2024-09-10T18:56:06.886Z"
   },
   {
    "duration": 5,
    "start_time": "2024-09-10T18:56:20.534Z"
   },
   {
    "duration": 15,
    "start_time": "2024-09-10T18:56:20.541Z"
   },
   {
    "duration": 10,
    "start_time": "2024-09-10T18:56:20.557Z"
   },
   {
    "duration": 28,
    "start_time": "2024-09-10T18:56:20.572Z"
   },
   {
    "duration": 288,
    "start_time": "2024-09-10T18:56:20.601Z"
   },
   {
    "duration": 297,
    "start_time": "2024-09-10T18:56:20.891Z"
   },
   {
    "duration": 221,
    "start_time": "2024-09-10T18:56:21.189Z"
   },
   {
    "duration": 268,
    "start_time": "2024-09-10T18:56:21.412Z"
   },
   {
    "duration": 9,
    "start_time": "2024-09-10T18:56:21.684Z"
   },
   {
    "duration": 135,
    "start_time": "2024-09-10T18:56:28.082Z"
   },
   {
    "duration": 132,
    "start_time": "2024-09-10T18:57:18.454Z"
   },
   {
    "duration": 249,
    "start_time": "2024-09-10T18:59:13.648Z"
   },
   {
    "duration": 157,
    "start_time": "2024-09-10T18:59:31.453Z"
   },
   {
    "duration": 136,
    "start_time": "2024-09-10T18:59:38.356Z"
   },
   {
    "duration": 1345,
    "start_time": "2024-09-10T19:01:28.211Z"
   },
   {
    "duration": 78,
    "start_time": "2024-09-10T19:01:29.558Z"
   },
   {
    "duration": 17,
    "start_time": "2024-09-10T19:01:29.638Z"
   },
   {
    "duration": 21,
    "start_time": "2024-09-10T19:01:29.657Z"
   },
   {
    "duration": 3,
    "start_time": "2024-09-10T19:01:29.681Z"
   },
   {
    "duration": 8,
    "start_time": "2024-09-10T19:01:29.686Z"
   },
   {
    "duration": 4,
    "start_time": "2024-09-10T19:01:29.696Z"
   },
   {
    "duration": 11,
    "start_time": "2024-09-10T19:01:29.701Z"
   },
   {
    "duration": 22,
    "start_time": "2024-09-10T19:01:29.713Z"
   },
   {
    "duration": 13495,
    "start_time": "2024-09-10T19:01:29.737Z"
   },
   {
    "duration": 5,
    "start_time": "2024-09-10T19:01:43.234Z"
   },
   {
    "duration": 23,
    "start_time": "2024-09-10T19:01:43.240Z"
   },
   {
    "duration": 7,
    "start_time": "2024-09-10T19:01:43.269Z"
   },
   {
    "duration": 41,
    "start_time": "2024-09-10T19:01:43.279Z"
   },
   {
    "duration": 257,
    "start_time": "2024-09-10T19:01:43.322Z"
   },
   {
    "duration": 311,
    "start_time": "2024-09-10T19:01:43.581Z"
   },
   {
    "duration": 237,
    "start_time": "2024-09-10T19:01:43.894Z"
   },
   {
    "duration": 244,
    "start_time": "2024-09-10T19:01:44.132Z"
   },
   {
    "duration": 16,
    "start_time": "2024-09-10T19:01:44.378Z"
   },
   {
    "duration": 1364,
    "start_time": "2024-09-10T19:02:25.272Z"
   },
   {
    "duration": 78,
    "start_time": "2024-09-10T19:02:26.638Z"
   },
   {
    "duration": 16,
    "start_time": "2024-09-10T19:02:26.717Z"
   },
   {
    "duration": 13,
    "start_time": "2024-09-10T19:02:26.736Z"
   },
   {
    "duration": 4,
    "start_time": "2024-09-10T19:02:26.752Z"
   },
   {
    "duration": 13,
    "start_time": "2024-09-10T19:02:26.757Z"
   },
   {
    "duration": 9,
    "start_time": "2024-09-10T19:02:26.772Z"
   },
   {
    "duration": 3,
    "start_time": "2024-09-10T19:02:26.783Z"
   },
   {
    "duration": 20,
    "start_time": "2024-09-10T19:02:26.788Z"
   },
   {
    "duration": 13654,
    "start_time": "2024-09-10T19:02:26.810Z"
   },
   {
    "duration": 12,
    "start_time": "2024-09-10T19:02:40.469Z"
   },
   {
    "duration": 15,
    "start_time": "2024-09-10T19:02:40.483Z"
   },
   {
    "duration": 8,
    "start_time": "2024-09-10T19:02:40.500Z"
   },
   {
    "duration": 29,
    "start_time": "2024-09-10T19:02:40.511Z"
   },
   {
    "duration": 297,
    "start_time": "2024-09-10T19:02:40.541Z"
   },
   {
    "duration": 310,
    "start_time": "2024-09-10T19:02:40.840Z"
   },
   {
    "duration": 247,
    "start_time": "2024-09-10T19:02:41.151Z"
   },
   {
    "duration": 242,
    "start_time": "2024-09-10T19:02:41.400Z"
   },
   {
    "duration": 9,
    "start_time": "2024-09-10T19:02:41.644Z"
   },
   {
    "duration": 277,
    "start_time": "2024-09-10T19:02:41.654Z"
   },
   {
    "duration": 11,
    "start_time": "2024-09-10T19:05:15.218Z"
   },
   {
    "duration": 14,
    "start_time": "2024-09-10T19:05:47.220Z"
   },
   {
    "duration": 142,
    "start_time": "2024-09-10T19:06:19.272Z"
   },
   {
    "duration": 125,
    "start_time": "2024-09-10T19:06:34.518Z"
   },
   {
    "duration": 131,
    "start_time": "2024-09-10T19:07:23.188Z"
   },
   {
    "duration": 17,
    "start_time": "2024-09-10T19:07:27.758Z"
   },
   {
    "duration": 1303,
    "start_time": "2024-09-10T19:12:27.275Z"
   },
   {
    "duration": 14,
    "start_time": "2024-09-10T19:12:36.117Z"
   },
   {
    "duration": 1263,
    "start_time": "2024-09-10T19:12:46.728Z"
   },
   {
    "duration": 15,
    "start_time": "2024-09-10T19:13:03.713Z"
   },
   {
    "duration": 8,
    "start_time": "2024-09-10T19:13:22.635Z"
   },
   {
    "duration": 106,
    "start_time": "2024-09-10T19:13:33.017Z"
   },
   {
    "duration": 4,
    "start_time": "2024-09-10T19:14:18.299Z"
   },
   {
    "duration": 11,
    "start_time": "2024-09-10T19:14:21.782Z"
   },
   {
    "duration": 107,
    "start_time": "2024-09-10T19:14:37.731Z"
   },
   {
    "duration": 139,
    "start_time": "2024-09-10T19:15:35.249Z"
   },
   {
    "duration": 123,
    "start_time": "2024-09-10T19:16:02.767Z"
   },
   {
    "duration": 133,
    "start_time": "2024-09-10T19:16:39.595Z"
   },
   {
    "duration": 102,
    "start_time": "2024-09-10T19:16:49.140Z"
   },
   {
    "duration": 205,
    "start_time": "2024-09-10T19:16:54.952Z"
   },
   {
    "duration": 111,
    "start_time": "2024-09-10T19:17:14.081Z"
   },
   {
    "duration": 120,
    "start_time": "2024-09-10T19:17:15.303Z"
   },
   {
    "duration": 189,
    "start_time": "2024-09-10T19:17:32.407Z"
   },
   {
    "duration": 177,
    "start_time": "2024-09-10T19:19:00.552Z"
   },
   {
    "duration": 176,
    "start_time": "2024-09-10T19:19:10.323Z"
   },
   {
    "duration": 142,
    "start_time": "2024-09-10T19:19:17.096Z"
   },
   {
    "duration": 160,
    "start_time": "2024-09-10T19:19:30.681Z"
   },
   {
    "duration": 111,
    "start_time": "2024-09-10T19:19:37.903Z"
   },
   {
    "duration": 189,
    "start_time": "2024-09-10T19:19:47.675Z"
   },
   {
    "duration": 154,
    "start_time": "2024-09-10T19:20:27.793Z"
   },
   {
    "duration": 195,
    "start_time": "2024-09-10T19:21:25.962Z"
   },
   {
    "duration": 148,
    "start_time": "2024-09-10T19:21:26.978Z"
   },
   {
    "duration": 13,
    "start_time": "2024-09-10T19:22:41.395Z"
   },
   {
    "duration": 101,
    "start_time": "2024-09-10T19:22:56.883Z"
   },
   {
    "duration": 5148,
    "start_time": "2024-09-11T16:35:31.675Z"
   },
   {
    "duration": 67,
    "start_time": "2024-09-11T16:35:36.826Z"
   },
   {
    "duration": 19,
    "start_time": "2024-09-11T16:35:36.895Z"
   },
   {
    "duration": 14,
    "start_time": "2024-09-11T16:35:36.916Z"
   },
   {
    "duration": 11,
    "start_time": "2024-09-11T16:35:36.932Z"
   },
   {
    "duration": 15,
    "start_time": "2024-09-11T16:35:36.945Z"
   },
   {
    "duration": 22,
    "start_time": "2024-09-11T16:35:36.961Z"
   },
   {
    "duration": 28,
    "start_time": "2024-09-11T16:35:36.984Z"
   },
   {
    "duration": 38,
    "start_time": "2024-09-11T16:35:37.014Z"
   },
   {
    "duration": 12995,
    "start_time": "2024-09-11T16:35:37.054Z"
   },
   {
    "duration": 5,
    "start_time": "2024-09-11T16:35:50.051Z"
   },
   {
    "duration": 53,
    "start_time": "2024-09-11T16:35:50.058Z"
   },
   {
    "duration": 9,
    "start_time": "2024-09-11T16:35:50.112Z"
   },
   {
    "duration": 26,
    "start_time": "2024-09-11T16:35:50.124Z"
   },
   {
    "duration": 259,
    "start_time": "2024-09-11T16:35:50.151Z"
   },
   {
    "duration": 288,
    "start_time": "2024-09-11T16:35:50.412Z"
   },
   {
    "duration": 224,
    "start_time": "2024-09-11T16:35:50.702Z"
   },
   {
    "duration": 225,
    "start_time": "2024-09-11T16:35:50.928Z"
   },
   {
    "duration": 9,
    "start_time": "2024-09-11T16:35:51.154Z"
   },
   {
    "duration": 130,
    "start_time": "2024-09-11T16:35:51.164Z"
   },
   {
    "duration": 109,
    "start_time": "2024-09-11T16:35:51.296Z"
   },
   {
    "duration": 213,
    "start_time": "2024-09-11T16:35:51.407Z"
   },
   {
    "duration": 156,
    "start_time": "2024-09-11T16:35:51.622Z"
   },
   {
    "duration": 107,
    "start_time": "2024-09-11T16:35:51.780Z"
   },
   {
    "duration": 103,
    "start_time": "2024-09-11T16:37:35.419Z"
   },
   {
    "duration": 20,
    "start_time": "2024-09-11T16:37:48.423Z"
   },
   {
    "duration": 97,
    "start_time": "2024-09-11T16:38:33.062Z"
   },
   {
    "duration": 100,
    "start_time": "2024-09-11T16:39:07.933Z"
   },
   {
    "duration": 108,
    "start_time": "2024-09-11T16:43:33.077Z"
   },
   {
    "duration": 103,
    "start_time": "2024-09-11T16:44:39.785Z"
   },
   {
    "duration": 181,
    "start_time": "2024-09-11T16:44:47.295Z"
   },
   {
    "duration": 67,
    "start_time": "2024-09-11T16:45:32.199Z"
   },
   {
    "duration": 1263,
    "start_time": "2024-09-11T16:46:12.347Z"
   },
   {
    "duration": 157,
    "start_time": "2024-09-11T16:46:23.806Z"
   },
   {
    "duration": 72,
    "start_time": "2024-09-11T16:49:03.190Z"
   },
   {
    "duration": 93,
    "start_time": "2024-09-11T16:49:19.111Z"
   },
   {
    "duration": 125,
    "start_time": "2024-09-11T16:50:33.862Z"
   },
   {
    "duration": 20,
    "start_time": "2024-09-11T16:50:44.195Z"
   },
   {
    "duration": 1389,
    "start_time": "2024-09-11T16:50:51.685Z"
   },
   {
    "duration": 67,
    "start_time": "2024-09-11T16:50:53.076Z"
   },
   {
    "duration": 16,
    "start_time": "2024-09-11T16:50:53.144Z"
   },
   {
    "duration": 22,
    "start_time": "2024-09-11T16:50:53.161Z"
   },
   {
    "duration": 4,
    "start_time": "2024-09-11T16:50:53.185Z"
   },
   {
    "duration": 8,
    "start_time": "2024-09-11T16:50:53.191Z"
   },
   {
    "duration": 4,
    "start_time": "2024-09-11T16:50:53.200Z"
   },
   {
    "duration": 4,
    "start_time": "2024-09-11T16:50:53.206Z"
   },
   {
    "duration": 22,
    "start_time": "2024-09-11T16:50:53.211Z"
   },
   {
    "duration": 12383,
    "start_time": "2024-09-11T16:50:53.234Z"
   },
   {
    "duration": 5,
    "start_time": "2024-09-11T16:51:05.619Z"
   },
   {
    "duration": 63,
    "start_time": "2024-09-11T16:51:05.625Z"
   },
   {
    "duration": 12,
    "start_time": "2024-09-11T16:51:05.690Z"
   },
   {
    "duration": 30,
    "start_time": "2024-09-11T16:51:05.705Z"
   },
   {
    "duration": 237,
    "start_time": "2024-09-11T16:51:05.737Z"
   },
   {
    "duration": 301,
    "start_time": "2024-09-11T16:51:05.975Z"
   },
   {
    "duration": 209,
    "start_time": "2024-09-11T16:51:06.278Z"
   },
   {
    "duration": 209,
    "start_time": "2024-09-11T16:51:06.489Z"
   },
   {
    "duration": 8,
    "start_time": "2024-09-11T16:51:06.704Z"
   },
   {
    "duration": 107,
    "start_time": "2024-09-11T16:51:06.714Z"
   },
   {
    "duration": 262,
    "start_time": "2024-09-11T16:51:06.823Z"
   },
   {
    "duration": 0,
    "start_time": "2024-09-11T16:51:07.087Z"
   },
   {
    "duration": 1,
    "start_time": "2024-09-11T16:51:07.088Z"
   },
   {
    "duration": 0,
    "start_time": "2024-09-11T16:51:07.090Z"
   },
   {
    "duration": 0,
    "start_time": "2024-09-11T16:51:07.091Z"
   },
   {
    "duration": 0,
    "start_time": "2024-09-11T16:51:07.106Z"
   },
   {
    "duration": 108,
    "start_time": "2024-09-11T16:51:30.388Z"
   },
   {
    "duration": 20,
    "start_time": "2024-09-11T16:52:03.429Z"
   },
   {
    "duration": 192,
    "start_time": "2024-09-11T16:52:38.809Z"
   },
   {
    "duration": 1387,
    "start_time": "2024-09-11T16:52:57.983Z"
   },
   {
    "duration": 71,
    "start_time": "2024-09-11T16:52:59.372Z"
   },
   {
    "duration": 18,
    "start_time": "2024-09-11T16:52:59.445Z"
   },
   {
    "duration": 34,
    "start_time": "2024-09-11T16:52:59.464Z"
   },
   {
    "duration": 8,
    "start_time": "2024-09-11T16:52:59.501Z"
   },
   {
    "duration": 30,
    "start_time": "2024-09-11T16:52:59.511Z"
   },
   {
    "duration": 8,
    "start_time": "2024-09-11T16:52:59.542Z"
   },
   {
    "duration": 16,
    "start_time": "2024-09-11T16:52:59.552Z"
   },
   {
    "duration": 32,
    "start_time": "2024-09-11T16:52:59.569Z"
   },
   {
    "duration": 12386,
    "start_time": "2024-09-11T16:52:59.603Z"
   },
   {
    "duration": 5,
    "start_time": "2024-09-11T16:53:11.991Z"
   },
   {
    "duration": 9,
    "start_time": "2024-09-11T16:53:11.997Z"
   },
   {
    "duration": 7,
    "start_time": "2024-09-11T16:53:12.008Z"
   },
   {
    "duration": 24,
    "start_time": "2024-09-11T16:53:12.018Z"
   },
   {
    "duration": 268,
    "start_time": "2024-09-11T16:53:12.044Z"
   },
   {
    "duration": 282,
    "start_time": "2024-09-11T16:53:12.313Z"
   },
   {
    "duration": 229,
    "start_time": "2024-09-11T16:53:12.596Z"
   },
   {
    "duration": 229,
    "start_time": "2024-09-11T16:53:12.826Z"
   },
   {
    "duration": 9,
    "start_time": "2024-09-11T16:53:13.057Z"
   },
   {
    "duration": 106,
    "start_time": "2024-09-11T16:53:13.067Z"
   },
   {
    "duration": 108,
    "start_time": "2024-09-11T16:53:13.175Z"
   },
   {
    "duration": 183,
    "start_time": "2024-09-11T16:53:13.285Z"
   },
   {
    "duration": 152,
    "start_time": "2024-09-11T16:53:13.470Z"
   },
   {
    "duration": 104,
    "start_time": "2024-09-11T16:53:13.624Z"
   },
   {
    "duration": 104,
    "start_time": "2024-09-11T16:53:13.730Z"
   },
   {
    "duration": 19,
    "start_time": "2024-09-11T16:53:13.836Z"
   },
   {
    "duration": 247,
    "start_time": "2024-09-11T16:54:24.753Z"
   },
   {
    "duration": 127,
    "start_time": "2024-09-11T16:54:35.672Z"
   },
   {
    "duration": 143,
    "start_time": "2024-09-11T16:54:38.610Z"
   },
   {
    "duration": 243,
    "start_time": "2024-09-11T16:55:00.490Z"
   },
   {
    "duration": 140,
    "start_time": "2024-09-11T16:55:43.212Z"
   },
   {
    "duration": 173,
    "start_time": "2024-09-11T16:56:06.667Z"
   },
   {
    "duration": 95,
    "start_time": "2024-09-11T16:56:47.689Z"
   },
   {
    "duration": 107,
    "start_time": "2024-09-11T16:57:27.219Z"
   },
   {
    "duration": 110,
    "start_time": "2024-09-11T16:58:10.792Z"
   },
   {
    "duration": 107,
    "start_time": "2024-09-11T17:03:23.629Z"
   },
   {
    "duration": 101,
    "start_time": "2024-09-11T17:12:25.523Z"
   },
   {
    "duration": 1380,
    "start_time": "2024-09-11T17:26:14.869Z"
   },
   {
    "duration": 67,
    "start_time": "2024-09-11T17:26:16.251Z"
   },
   {
    "duration": 16,
    "start_time": "2024-09-11T17:26:16.320Z"
   },
   {
    "duration": 25,
    "start_time": "2024-09-11T17:26:16.338Z"
   },
   {
    "duration": 4,
    "start_time": "2024-09-11T17:26:16.364Z"
   },
   {
    "duration": 10,
    "start_time": "2024-09-11T17:26:16.370Z"
   },
   {
    "duration": 4,
    "start_time": "2024-09-11T17:26:16.381Z"
   },
   {
    "duration": 9,
    "start_time": "2024-09-11T17:26:16.387Z"
   },
   {
    "duration": 26,
    "start_time": "2024-09-11T17:26:16.398Z"
   },
   {
    "duration": 12418,
    "start_time": "2024-09-11T17:26:16.427Z"
   },
   {
    "duration": 4,
    "start_time": "2024-09-11T17:26:28.848Z"
   },
   {
    "duration": 5,
    "start_time": "2024-09-11T17:26:28.854Z"
   },
   {
    "duration": 10,
    "start_time": "2024-09-11T17:26:28.861Z"
   },
   {
    "duration": 33,
    "start_time": "2024-09-11T17:26:28.873Z"
   },
   {
    "duration": 251,
    "start_time": "2024-09-11T17:26:28.908Z"
   },
   {
    "duration": 280,
    "start_time": "2024-09-11T17:26:29.161Z"
   },
   {
    "duration": 211,
    "start_time": "2024-09-11T17:26:29.443Z"
   },
   {
    "duration": 211,
    "start_time": "2024-09-11T17:26:29.656Z"
   },
   {
    "duration": 8,
    "start_time": "2024-09-11T17:26:29.869Z"
   },
   {
    "duration": 101,
    "start_time": "2024-09-11T17:26:29.878Z"
   },
   {
    "duration": 114,
    "start_time": "2024-09-11T17:26:29.981Z"
   },
   {
    "duration": 222,
    "start_time": "2024-09-11T17:26:30.097Z"
   },
   {
    "duration": 147,
    "start_time": "2024-09-11T17:26:30.321Z"
   },
   {
    "duration": 110,
    "start_time": "2024-09-11T17:26:30.469Z"
   },
   {
    "duration": 104,
    "start_time": "2024-09-11T17:26:30.581Z"
   },
   {
    "duration": 98,
    "start_time": "2024-09-11T17:26:30.687Z"
   },
   {
    "duration": 471,
    "start_time": "2024-09-11T17:30:58.771Z"
   },
   {
    "duration": 287,
    "start_time": "2024-09-11T17:31:16.333Z"
   },
   {
    "duration": 1153,
    "start_time": "2024-09-11T17:31:55.282Z"
   },
   {
    "duration": 1244,
    "start_time": "2024-09-11T17:33:23.533Z"
   },
   {
    "duration": 238,
    "start_time": "2024-09-11T17:34:11.637Z"
   },
   {
    "duration": 398,
    "start_time": "2024-09-11T17:34:45.871Z"
   },
   {
    "duration": 11,
    "start_time": "2024-09-11T17:41:20.241Z"
   },
   {
    "duration": 377,
    "start_time": "2024-09-11T17:41:53.332Z"
   },
   {
    "duration": 1149,
    "start_time": "2024-09-11T17:42:16.396Z"
   },
   {
    "duration": 21,
    "start_time": "2024-09-11T17:50:11.692Z"
   },
   {
    "duration": 12,
    "start_time": "2024-09-11T17:50:14.430Z"
   },
   {
    "duration": 13,
    "start_time": "2024-09-11T17:50:16.701Z"
   },
   {
    "duration": 12,
    "start_time": "2024-09-11T17:51:06.155Z"
   },
   {
    "duration": 18,
    "start_time": "2024-09-11T17:52:00.881Z"
   },
   {
    "duration": 1361,
    "start_time": "2024-09-11T17:53:35.658Z"
   },
   {
    "duration": 86,
    "start_time": "2024-09-11T17:53:37.021Z"
   },
   {
    "duration": 16,
    "start_time": "2024-09-11T17:53:37.108Z"
   },
   {
    "duration": 23,
    "start_time": "2024-09-11T17:53:37.125Z"
   },
   {
    "duration": 3,
    "start_time": "2024-09-11T17:53:37.150Z"
   },
   {
    "duration": 12,
    "start_time": "2024-09-11T17:53:37.154Z"
   },
   {
    "duration": 7,
    "start_time": "2024-09-11T17:53:37.167Z"
   },
   {
    "duration": 23,
    "start_time": "2024-09-11T17:53:37.175Z"
   },
   {
    "duration": 25,
    "start_time": "2024-09-11T17:53:37.200Z"
   },
   {
    "duration": 12674,
    "start_time": "2024-09-11T17:53:37.227Z"
   },
   {
    "duration": 7,
    "start_time": "2024-09-11T17:53:49.903Z"
   },
   {
    "duration": 11,
    "start_time": "2024-09-11T17:53:49.911Z"
   },
   {
    "duration": 8,
    "start_time": "2024-09-11T17:53:49.923Z"
   },
   {
    "duration": 18,
    "start_time": "2024-09-11T17:53:49.934Z"
   },
   {
    "duration": 29,
    "start_time": "2024-09-11T17:53:49.953Z"
   },
   {
    "duration": 256,
    "start_time": "2024-09-11T17:53:49.983Z"
   },
   {
    "duration": 288,
    "start_time": "2024-09-11T17:53:50.240Z"
   },
   {
    "duration": 215,
    "start_time": "2024-09-11T17:53:50.530Z"
   },
   {
    "duration": 231,
    "start_time": "2024-09-11T17:53:50.746Z"
   },
   {
    "duration": 8,
    "start_time": "2024-09-11T17:53:50.979Z"
   },
   {
    "duration": 109,
    "start_time": "2024-09-11T17:53:50.989Z"
   },
   {
    "duration": 109,
    "start_time": "2024-09-11T17:53:51.100Z"
   },
   {
    "duration": 198,
    "start_time": "2024-09-11T17:53:51.211Z"
   },
   {
    "duration": 164,
    "start_time": "2024-09-11T17:53:51.411Z"
   },
   {
    "duration": 103,
    "start_time": "2024-09-11T17:53:51.576Z"
   },
   {
    "duration": 100,
    "start_time": "2024-09-11T17:53:51.681Z"
   },
   {
    "duration": 107,
    "start_time": "2024-09-11T17:53:51.783Z"
   },
   {
    "duration": 1231,
    "start_time": "2024-09-11T17:53:51.892Z"
   },
   {
    "duration": 10,
    "start_time": "2024-09-11T17:53:53.125Z"
   },
   {
    "duration": 12,
    "start_time": "2024-09-11T17:53:53.137Z"
   },
   {
    "duration": 1305,
    "start_time": "2024-09-11T17:54:18.650Z"
   },
   {
    "duration": 73,
    "start_time": "2024-09-11T17:54:19.957Z"
   },
   {
    "duration": 16,
    "start_time": "2024-09-11T17:54:20.032Z"
   },
   {
    "duration": 21,
    "start_time": "2024-09-11T17:54:20.050Z"
   },
   {
    "duration": 8,
    "start_time": "2024-09-11T17:54:20.074Z"
   },
   {
    "duration": 18,
    "start_time": "2024-09-11T17:54:20.084Z"
   },
   {
    "duration": 5,
    "start_time": "2024-09-11T17:54:20.109Z"
   },
   {
    "duration": 15,
    "start_time": "2024-09-11T17:54:20.116Z"
   },
   {
    "duration": 32,
    "start_time": "2024-09-11T17:54:20.133Z"
   },
   {
    "duration": 12487,
    "start_time": "2024-09-11T17:54:20.166Z"
   },
   {
    "duration": 5,
    "start_time": "2024-09-11T17:54:32.655Z"
   },
   {
    "duration": 6,
    "start_time": "2024-09-11T17:54:32.662Z"
   },
   {
    "duration": 13,
    "start_time": "2024-09-11T17:54:32.669Z"
   },
   {
    "duration": 24,
    "start_time": "2024-09-11T17:54:32.685Z"
   },
   {
    "duration": 12,
    "start_time": "2024-09-11T17:54:32.711Z"
   },
   {
    "duration": 250,
    "start_time": "2024-09-11T17:54:32.724Z"
   },
   {
    "duration": 289,
    "start_time": "2024-09-11T17:54:32.976Z"
   },
   {
    "duration": 202,
    "start_time": "2024-09-11T17:54:33.266Z"
   },
   {
    "duration": 215,
    "start_time": "2024-09-11T17:54:33.470Z"
   },
   {
    "duration": 8,
    "start_time": "2024-09-11T17:54:33.687Z"
   },
   {
    "duration": 97,
    "start_time": "2024-09-11T17:54:33.696Z"
   },
   {
    "duration": 112,
    "start_time": "2024-09-11T17:54:33.795Z"
   },
   {
    "duration": 185,
    "start_time": "2024-09-11T17:54:33.908Z"
   },
   {
    "duration": 150,
    "start_time": "2024-09-11T17:54:34.095Z"
   },
   {
    "duration": 110,
    "start_time": "2024-09-11T17:54:34.247Z"
   },
   {
    "duration": 104,
    "start_time": "2024-09-11T17:54:34.358Z"
   },
   {
    "duration": 105,
    "start_time": "2024-09-11T17:54:34.464Z"
   },
   {
    "duration": 1277,
    "start_time": "2024-09-11T17:54:34.571Z"
   },
   {
    "duration": 12,
    "start_time": "2024-09-11T17:54:35.850Z"
   },
   {
    "duration": 25,
    "start_time": "2024-09-11T17:54:35.864Z"
   },
   {
    "duration": 1277,
    "start_time": "2024-09-11T17:55:24.058Z"
   },
   {
    "duration": 75,
    "start_time": "2024-09-11T17:55:25.337Z"
   },
   {
    "duration": 18,
    "start_time": "2024-09-11T17:55:25.413Z"
   },
   {
    "duration": 13,
    "start_time": "2024-09-11T17:55:25.433Z"
   },
   {
    "duration": 3,
    "start_time": "2024-09-11T17:55:25.449Z"
   },
   {
    "duration": 8,
    "start_time": "2024-09-11T17:55:25.454Z"
   },
   {
    "duration": 4,
    "start_time": "2024-09-11T17:55:25.464Z"
   },
   {
    "duration": 9,
    "start_time": "2024-09-11T17:55:25.469Z"
   },
   {
    "duration": 23,
    "start_time": "2024-09-11T17:55:25.506Z"
   },
   {
    "duration": 12418,
    "start_time": "2024-09-11T17:55:25.531Z"
   },
   {
    "duration": 5,
    "start_time": "2024-09-11T17:55:37.951Z"
   },
   {
    "duration": 31,
    "start_time": "2024-09-11T17:55:37.958Z"
   },
   {
    "duration": 11,
    "start_time": "2024-09-11T17:55:37.991Z"
   },
   {
    "duration": 23,
    "start_time": "2024-09-11T17:55:38.005Z"
   },
   {
    "duration": 11,
    "start_time": "2024-09-11T17:55:38.029Z"
   },
   {
    "duration": 257,
    "start_time": "2024-09-11T17:55:38.042Z"
   },
   {
    "duration": 277,
    "start_time": "2024-09-11T17:55:38.304Z"
   },
   {
    "duration": 230,
    "start_time": "2024-09-11T17:55:38.583Z"
   },
   {
    "duration": 248,
    "start_time": "2024-09-11T17:55:38.815Z"
   },
   {
    "duration": 3,
    "start_time": "2024-09-11T17:55:39.064Z"
   },
   {
    "duration": 106,
    "start_time": "2024-09-11T17:55:39.068Z"
   },
   {
    "duration": 115,
    "start_time": "2024-09-11T17:55:39.176Z"
   },
   {
    "duration": 180,
    "start_time": "2024-09-11T17:55:39.293Z"
   },
   {
    "duration": 157,
    "start_time": "2024-09-11T17:55:39.474Z"
   },
   {
    "duration": 103,
    "start_time": "2024-09-11T17:55:39.633Z"
   },
   {
    "duration": 103,
    "start_time": "2024-09-11T17:55:39.737Z"
   },
   {
    "duration": 101,
    "start_time": "2024-09-11T17:55:39.841Z"
   },
   {
    "duration": 1267,
    "start_time": "2024-09-11T17:55:39.944Z"
   },
   {
    "duration": 12,
    "start_time": "2024-09-11T17:55:41.212Z"
   },
   {
    "duration": 15,
    "start_time": "2024-09-11T17:55:41.225Z"
   },
   {
    "duration": 1310,
    "start_time": "2024-09-11T17:56:30.946Z"
   },
   {
    "duration": 94,
    "start_time": "2024-09-11T17:56:32.258Z"
   },
   {
    "duration": 17,
    "start_time": "2024-09-11T17:56:32.353Z"
   },
   {
    "duration": 14,
    "start_time": "2024-09-11T17:56:32.372Z"
   },
   {
    "duration": 4,
    "start_time": "2024-09-11T17:56:32.389Z"
   },
   {
    "duration": 9,
    "start_time": "2024-09-11T17:56:32.395Z"
   },
   {
    "duration": 5,
    "start_time": "2024-09-11T17:56:32.405Z"
   },
   {
    "duration": 11,
    "start_time": "2024-09-11T17:56:32.411Z"
   },
   {
    "duration": 24,
    "start_time": "2024-09-11T17:56:32.424Z"
   },
   {
    "duration": 12391,
    "start_time": "2024-09-11T17:56:32.450Z"
   },
   {
    "duration": 6,
    "start_time": "2024-09-11T17:56:44.843Z"
   },
   {
    "duration": 8,
    "start_time": "2024-09-11T17:56:44.850Z"
   },
   {
    "duration": 20,
    "start_time": "2024-09-11T17:56:44.860Z"
   },
   {
    "duration": 23,
    "start_time": "2024-09-11T17:56:44.883Z"
   },
   {
    "duration": 13,
    "start_time": "2024-09-11T17:56:44.908Z"
   },
   {
    "duration": 248,
    "start_time": "2024-09-11T17:56:44.923Z"
   },
   {
    "duration": 296,
    "start_time": "2024-09-11T17:56:45.173Z"
   },
   {
    "duration": 223,
    "start_time": "2024-09-11T17:56:45.471Z"
   },
   {
    "duration": 219,
    "start_time": "2024-09-11T17:56:45.695Z"
   },
   {
    "duration": 6,
    "start_time": "2024-09-11T17:56:45.915Z"
   },
   {
    "duration": 153,
    "start_time": "2024-09-11T17:56:45.922Z"
   },
   {
    "duration": 142,
    "start_time": "2024-09-11T17:56:46.077Z"
   },
   {
    "duration": 195,
    "start_time": "2024-09-11T17:56:46.221Z"
   },
   {
    "duration": 154,
    "start_time": "2024-09-11T17:56:46.418Z"
   },
   {
    "duration": 103,
    "start_time": "2024-09-11T17:56:46.574Z"
   },
   {
    "duration": 106,
    "start_time": "2024-09-11T17:56:46.678Z"
   },
   {
    "duration": 110,
    "start_time": "2024-09-11T17:56:46.786Z"
   },
   {
    "duration": 1281,
    "start_time": "2024-09-11T17:56:46.904Z"
   },
   {
    "duration": 11,
    "start_time": "2024-09-11T17:56:48.187Z"
   },
   {
    "duration": 11,
    "start_time": "2024-09-11T17:56:48.205Z"
   },
   {
    "duration": 10,
    "start_time": "2024-09-11T17:57:36.771Z"
   },
   {
    "duration": 1383,
    "start_time": "2024-09-11T17:57:41.288Z"
   },
   {
    "duration": 95,
    "start_time": "2024-09-11T17:57:42.673Z"
   },
   {
    "duration": 19,
    "start_time": "2024-09-11T17:57:42.769Z"
   },
   {
    "duration": 18,
    "start_time": "2024-09-11T17:57:42.789Z"
   },
   {
    "duration": 3,
    "start_time": "2024-09-11T17:57:42.810Z"
   },
   {
    "duration": 14,
    "start_time": "2024-09-11T17:57:42.815Z"
   },
   {
    "duration": 4,
    "start_time": "2024-09-11T17:57:42.830Z"
   },
   {
    "duration": 5,
    "start_time": "2024-09-11T17:57:42.836Z"
   },
   {
    "duration": 30,
    "start_time": "2024-09-11T17:57:42.843Z"
   },
   {
    "duration": 12554,
    "start_time": "2024-09-11T17:57:42.875Z"
   },
   {
    "duration": 6,
    "start_time": "2024-09-11T17:57:55.431Z"
   },
   {
    "duration": 28,
    "start_time": "2024-09-11T17:57:55.438Z"
   },
   {
    "duration": 22,
    "start_time": "2024-09-11T17:57:55.468Z"
   },
   {
    "duration": 24,
    "start_time": "2024-09-11T17:57:55.492Z"
   },
   {
    "duration": 12,
    "start_time": "2024-09-11T17:57:55.518Z"
   },
   {
    "duration": 237,
    "start_time": "2024-09-11T17:57:55.531Z"
   },
   {
    "duration": 305,
    "start_time": "2024-09-11T17:57:55.770Z"
   },
   {
    "duration": 216,
    "start_time": "2024-09-11T17:57:56.078Z"
   },
   {
    "duration": 222,
    "start_time": "2024-09-11T17:57:56.296Z"
   },
   {
    "duration": 9,
    "start_time": "2024-09-11T17:57:56.520Z"
   },
   {
    "duration": 115,
    "start_time": "2024-09-11T17:57:56.530Z"
   },
   {
    "duration": 123,
    "start_time": "2024-09-11T17:57:56.646Z"
   },
   {
    "duration": 211,
    "start_time": "2024-09-11T17:57:56.771Z"
   },
   {
    "duration": 147,
    "start_time": "2024-09-11T17:57:56.983Z"
   },
   {
    "duration": 106,
    "start_time": "2024-09-11T17:57:57.132Z"
   },
   {
    "duration": 102,
    "start_time": "2024-09-11T17:57:57.239Z"
   },
   {
    "duration": 110,
    "start_time": "2024-09-11T17:57:57.343Z"
   },
   {
    "duration": 1306,
    "start_time": "2024-09-11T17:57:57.455Z"
   },
   {
    "duration": 12,
    "start_time": "2024-09-11T17:57:58.763Z"
   },
   {
    "duration": 12,
    "start_time": "2024-09-11T17:57:58.776Z"
   },
   {
    "duration": 219,
    "start_time": "2024-09-11T17:57:59.656Z"
   },
   {
    "duration": 1587,
    "start_time": "2024-09-11T17:58:07.507Z"
   },
   {
    "duration": 72,
    "start_time": "2024-09-11T17:58:09.096Z"
   },
   {
    "duration": 23,
    "start_time": "2024-09-11T17:58:09.170Z"
   },
   {
    "duration": 15,
    "start_time": "2024-09-11T17:58:09.195Z"
   },
   {
    "duration": 3,
    "start_time": "2024-09-11T17:58:09.213Z"
   },
   {
    "duration": 25,
    "start_time": "2024-09-11T17:58:09.217Z"
   },
   {
    "duration": 14,
    "start_time": "2024-09-11T17:58:09.244Z"
   },
   {
    "duration": 16,
    "start_time": "2024-09-11T17:58:09.260Z"
   },
   {
    "duration": 35,
    "start_time": "2024-09-11T17:58:09.277Z"
   },
   {
    "duration": 12511,
    "start_time": "2024-09-11T17:58:09.314Z"
   },
   {
    "duration": 5,
    "start_time": "2024-09-11T17:58:21.827Z"
   },
   {
    "duration": 8,
    "start_time": "2024-09-11T17:58:21.833Z"
   },
   {
    "duration": 6,
    "start_time": "2024-09-11T17:58:21.843Z"
   },
   {
    "duration": 23,
    "start_time": "2024-09-11T17:58:21.852Z"
   },
   {
    "duration": 12,
    "start_time": "2024-09-11T17:58:21.876Z"
   },
   {
    "duration": 246,
    "start_time": "2024-09-11T17:58:21.889Z"
   },
   {
    "duration": 293,
    "start_time": "2024-09-11T17:58:22.136Z"
   },
   {
    "duration": 236,
    "start_time": "2024-09-11T17:58:22.431Z"
   },
   {
    "duration": 233,
    "start_time": "2024-09-11T17:58:22.669Z"
   },
   {
    "duration": 15,
    "start_time": "2024-09-11T17:58:22.905Z"
   },
   {
    "duration": 107,
    "start_time": "2024-09-11T17:58:22.922Z"
   },
   {
    "duration": 116,
    "start_time": "2024-09-11T17:58:23.031Z"
   },
   {
    "duration": 188,
    "start_time": "2024-09-11T17:58:23.148Z"
   },
   {
    "duration": 155,
    "start_time": "2024-09-11T17:58:23.338Z"
   },
   {
    "duration": 110,
    "start_time": "2024-09-11T17:58:23.495Z"
   },
   {
    "duration": 102,
    "start_time": "2024-09-11T17:58:23.608Z"
   },
   {
    "duration": 106,
    "start_time": "2024-09-11T17:58:23.712Z"
   },
   {
    "duration": 1266,
    "start_time": "2024-09-11T17:58:23.819Z"
   },
   {
    "duration": 21,
    "start_time": "2024-09-11T17:58:25.087Z"
   },
   {
    "duration": 13,
    "start_time": "2024-09-11T17:58:25.110Z"
   },
   {
    "duration": 31,
    "start_time": "2024-09-11T17:58:32.342Z"
   },
   {
    "duration": 119,
    "start_time": "2024-09-11T17:58:51.606Z"
   },
   {
    "duration": 31,
    "start_time": "2024-09-11T17:59:09.124Z"
   },
   {
    "duration": 16,
    "start_time": "2024-09-11T17:59:30.117Z"
   },
   {
    "duration": 19,
    "start_time": "2024-09-11T18:00:12.450Z"
   },
   {
    "duration": 123,
    "start_time": "2024-09-11T18:00:25.572Z"
   },
   {
    "duration": 129,
    "start_time": "2024-09-11T18:00:40.288Z"
   },
   {
    "duration": 142,
    "start_time": "2024-09-11T18:01:05.039Z"
   },
   {
    "duration": 143,
    "start_time": "2024-09-11T18:01:25.737Z"
   },
   {
    "duration": 146,
    "start_time": "2024-09-11T18:01:36.257Z"
   },
   {
    "duration": 148,
    "start_time": "2024-09-11T18:01:52.178Z"
   },
   {
    "duration": 250,
    "start_time": "2024-09-11T18:02:17.633Z"
   },
   {
    "duration": 20,
    "start_time": "2024-09-11T18:02:51.633Z"
   },
   {
    "duration": 23,
    "start_time": "2024-09-11T18:03:09.412Z"
   },
   {
    "duration": 17,
    "start_time": "2024-09-11T18:03:23.430Z"
   },
   {
    "duration": 18,
    "start_time": "2024-09-11T18:03:29.748Z"
   },
   {
    "duration": 16,
    "start_time": "2024-09-11T18:03:35.953Z"
   },
   {
    "duration": 14,
    "start_time": "2024-09-11T18:04:19.101Z"
   },
   {
    "duration": 13,
    "start_time": "2024-09-11T18:04:28.099Z"
   },
   {
    "duration": 18,
    "start_time": "2024-09-11T18:04:33.208Z"
   },
   {
    "duration": 131,
    "start_time": "2024-09-11T18:04:47.902Z"
   },
   {
    "duration": 134,
    "start_time": "2024-09-11T18:04:51.727Z"
   },
   {
    "duration": 131,
    "start_time": "2024-09-11T18:05:13.964Z"
   },
   {
    "duration": 71,
    "start_time": "2024-09-11T18:05:25.251Z"
   },
   {
    "duration": 19,
    "start_time": "2024-09-11T18:05:40.262Z"
   },
   {
    "duration": 128,
    "start_time": "2024-09-11T18:05:47.052Z"
   },
   {
    "duration": 141,
    "start_time": "2024-09-11T18:05:59.210Z"
   },
   {
    "duration": 145,
    "start_time": "2024-09-11T18:06:11.988Z"
   },
   {
    "duration": 153,
    "start_time": "2024-09-11T18:06:18.387Z"
   },
   {
    "duration": 129,
    "start_time": "2024-09-11T18:10:43.930Z"
   },
   {
    "duration": 111,
    "start_time": "2024-09-11T18:10:53.198Z"
   },
   {
    "duration": 126,
    "start_time": "2024-09-11T18:11:36.326Z"
   },
   {
    "duration": 129,
    "start_time": "2024-09-11T18:11:48.114Z"
   },
   {
    "duration": 147,
    "start_time": "2024-09-11T18:12:30.655Z"
   },
   {
    "duration": 151,
    "start_time": "2024-09-11T18:12:41.713Z"
   },
   {
    "duration": 29,
    "start_time": "2024-09-11T18:13:31.419Z"
   },
   {
    "duration": 148,
    "start_time": "2024-09-11T18:13:43.684Z"
   },
   {
    "duration": 278,
    "start_time": "2024-09-11T18:13:48.770Z"
   },
   {
    "duration": 149,
    "start_time": "2024-09-11T18:13:59.293Z"
   },
   {
    "duration": 164,
    "start_time": "2024-09-11T18:15:01.542Z"
   },
   {
    "duration": 146,
    "start_time": "2024-09-11T18:15:07.996Z"
   },
   {
    "duration": 155,
    "start_time": "2024-09-11T18:17:11.074Z"
   },
   {
    "duration": 147,
    "start_time": "2024-09-11T18:17:18.176Z"
   },
   {
    "duration": 149,
    "start_time": "2024-09-11T18:18:16.838Z"
   },
   {
    "duration": 139,
    "start_time": "2024-09-11T18:18:27.140Z"
   },
   {
    "duration": 86,
    "start_time": "2024-09-11T18:19:22.574Z"
   },
   {
    "duration": 76,
    "start_time": "2024-09-11T18:19:32.477Z"
   },
   {
    "duration": 23,
    "start_time": "2024-09-11T18:21:17.520Z"
   },
   {
    "duration": 27,
    "start_time": "2024-09-11T18:21:42.824Z"
   },
   {
    "duration": 190,
    "start_time": "2024-09-11T18:21:59.878Z"
   },
   {
    "duration": 296,
    "start_time": "2024-09-11T18:22:06.117Z"
   },
   {
    "duration": 169,
    "start_time": "2024-09-11T18:23:05.859Z"
   },
   {
    "duration": 150,
    "start_time": "2024-09-11T18:23:23.693Z"
   },
   {
    "duration": 147,
    "start_time": "2024-09-11T18:23:36.487Z"
   },
   {
    "duration": 253,
    "start_time": "2024-09-11T18:23:43.287Z"
   },
   {
    "duration": 156,
    "start_time": "2024-09-11T18:23:57.501Z"
   },
   {
    "duration": 20,
    "start_time": "2024-09-11T18:24:29.269Z"
   },
   {
    "duration": 1127,
    "start_time": "2024-09-11T18:27:06.443Z"
   },
   {
    "duration": 358,
    "start_time": "2024-09-11T18:27:19.530Z"
   },
   {
    "duration": 1072,
    "start_time": "2024-09-11T18:27:57.117Z"
   },
   {
    "duration": 1385,
    "start_time": "2024-09-11T18:28:16.358Z"
   },
   {
    "duration": 1416,
    "start_time": "2024-09-11T18:28:46.924Z"
   },
   {
    "duration": 1387,
    "start_time": "2024-09-11T18:28:54.795Z"
   },
   {
    "duration": 1268,
    "start_time": "2024-09-11T18:29:13.588Z"
   },
   {
    "duration": 1223,
    "start_time": "2024-09-11T18:30:01.987Z"
   },
   {
    "duration": 1220,
    "start_time": "2024-09-11T18:30:27.020Z"
   },
   {
    "duration": 1084,
    "start_time": "2024-09-11T18:30:34.903Z"
   },
   {
    "duration": 1185,
    "start_time": "2024-09-11T18:30:47.737Z"
   },
   {
    "duration": 1099,
    "start_time": "2024-09-11T18:30:52.977Z"
   },
   {
    "duration": 1121,
    "start_time": "2024-09-11T18:31:02.811Z"
   },
   {
    "duration": 1266,
    "start_time": "2024-09-11T18:31:06.895Z"
   },
   {
    "duration": 1140,
    "start_time": "2024-09-11T18:31:11.080Z"
   },
   {
    "duration": 1267,
    "start_time": "2024-09-11T18:32:44.927Z"
   },
   {
    "duration": 1340,
    "start_time": "2024-09-11T18:35:11.733Z"
   },
   {
    "duration": 71,
    "start_time": "2024-09-11T18:35:13.075Z"
   },
   {
    "duration": 16,
    "start_time": "2024-09-11T18:35:13.148Z"
   },
   {
    "duration": 31,
    "start_time": "2024-09-11T18:35:13.166Z"
   },
   {
    "duration": 11,
    "start_time": "2024-09-11T18:35:13.200Z"
   },
   {
    "duration": 35,
    "start_time": "2024-09-11T18:35:13.213Z"
   },
   {
    "duration": 41,
    "start_time": "2024-09-11T18:35:13.249Z"
   },
   {
    "duration": 26,
    "start_time": "2024-09-11T18:35:13.292Z"
   },
   {
    "duration": 47,
    "start_time": "2024-09-11T18:35:13.320Z"
   },
   {
    "duration": 12717,
    "start_time": "2024-09-11T18:35:13.368Z"
   },
   {
    "duration": 6,
    "start_time": "2024-09-11T18:35:26.087Z"
   },
   {
    "duration": 13,
    "start_time": "2024-09-11T18:35:26.094Z"
   },
   {
    "duration": 17,
    "start_time": "2024-09-11T18:35:26.108Z"
   },
   {
    "duration": 25,
    "start_time": "2024-09-11T18:35:26.128Z"
   },
   {
    "duration": 13,
    "start_time": "2024-09-11T18:35:26.154Z"
   },
   {
    "duration": 340,
    "start_time": "2024-09-11T18:35:26.168Z"
   },
   {
    "duration": 287,
    "start_time": "2024-09-11T18:35:26.510Z"
   },
   {
    "duration": 234,
    "start_time": "2024-09-11T18:35:26.799Z"
   },
   {
    "duration": 209,
    "start_time": "2024-09-11T18:35:27.034Z"
   },
   {
    "duration": 7,
    "start_time": "2024-09-11T18:35:27.245Z"
   },
   {
    "duration": 106,
    "start_time": "2024-09-11T18:35:27.253Z"
   },
   {
    "duration": 114,
    "start_time": "2024-09-11T18:35:27.361Z"
   },
   {
    "duration": 196,
    "start_time": "2024-09-11T18:35:27.477Z"
   },
   {
    "duration": 153,
    "start_time": "2024-09-11T18:35:27.675Z"
   },
   {
    "duration": 111,
    "start_time": "2024-09-11T18:35:27.830Z"
   },
   {
    "duration": 106,
    "start_time": "2024-09-11T18:35:27.942Z"
   },
   {
    "duration": 128,
    "start_time": "2024-09-11T18:35:28.050Z"
   },
   {
    "duration": 1257,
    "start_time": "2024-09-11T18:35:28.179Z"
   },
   {
    "duration": 170,
    "start_time": "2024-09-11T18:35:29.437Z"
   },
   {
    "duration": 1186,
    "start_time": "2024-09-11T18:35:29.608Z"
   },
   {
    "duration": 1098,
    "start_time": "2024-09-11T18:37:43.662Z"
   },
   {
    "duration": 1222,
    "start_time": "2024-09-11T18:37:49.587Z"
   },
   {
    "duration": 113,
    "start_time": "2024-09-11T18:38:10.309Z"
   },
   {
    "duration": 22,
    "start_time": "2024-09-11T18:38:55.497Z"
   },
   {
    "duration": 1208,
    "start_time": "2024-09-11T18:39:54.999Z"
   },
   {
    "duration": 1304,
    "start_time": "2024-09-11T18:39:57.751Z"
   },
   {
    "duration": 1203,
    "start_time": "2024-09-11T18:40:00.702Z"
   },
   {
    "duration": 15493,
    "start_time": "2024-09-11T18:53:23.226Z"
   },
   {
    "duration": 14,
    "start_time": "2024-09-11T19:04:31.985Z"
   },
   {
    "duration": 2302,
    "start_time": "2024-09-11T19:04:38.516Z"
   },
   {
    "duration": 1691,
    "start_time": "2024-09-11T19:04:52.028Z"
   },
   {
    "duration": 91,
    "start_time": "2024-09-11T19:06:03.903Z"
   },
   {
    "duration": 14,
    "start_time": "2024-09-11T19:06:08.649Z"
   },
   {
    "duration": 22,
    "start_time": "2024-09-11T19:06:16.018Z"
   },
   {
    "duration": 1738,
    "start_time": "2024-09-11T19:06:26.803Z"
   },
   {
    "duration": 2787,
    "start_time": "2024-09-11T19:07:40.738Z"
   },
   {
    "duration": 1379,
    "start_time": "2024-09-11T19:09:06.461Z"
   },
   {
    "duration": 63,
    "start_time": "2024-09-11T19:09:11.823Z"
   },
   {
    "duration": 23,
    "start_time": "2024-09-11T19:09:16.590Z"
   },
   {
    "duration": 1195,
    "start_time": "2024-09-11T19:10:40.057Z"
   },
   {
    "duration": 1492,
    "start_time": "2024-09-11T19:12:04.273Z"
   },
   {
    "duration": 1284,
    "start_time": "2024-09-11T19:12:21.156Z"
   },
   {
    "duration": 118,
    "start_time": "2024-09-11T19:12:22.443Z"
   },
   {
    "duration": 19,
    "start_time": "2024-09-11T19:12:22.563Z"
   },
   {
    "duration": 26,
    "start_time": "2024-09-11T19:12:22.584Z"
   },
   {
    "duration": 11,
    "start_time": "2024-09-11T19:12:22.615Z"
   },
   {
    "duration": 27,
    "start_time": "2024-09-11T19:12:22.628Z"
   },
   {
    "duration": 20,
    "start_time": "2024-09-11T19:12:22.657Z"
   },
   {
    "duration": 23,
    "start_time": "2024-09-11T19:12:22.679Z"
   },
   {
    "duration": 37,
    "start_time": "2024-09-11T19:12:22.704Z"
   },
   {
    "duration": 13338,
    "start_time": "2024-09-11T19:12:22.743Z"
   },
   {
    "duration": 6,
    "start_time": "2024-09-11T19:12:36.084Z"
   },
   {
    "duration": 40,
    "start_time": "2024-09-11T19:12:36.092Z"
   },
   {
    "duration": 34,
    "start_time": "2024-09-11T19:12:36.135Z"
   },
   {
    "duration": 38,
    "start_time": "2024-09-11T19:12:36.173Z"
   },
   {
    "duration": 16,
    "start_time": "2024-09-11T19:12:36.212Z"
   },
   {
    "duration": 246,
    "start_time": "2024-09-11T19:12:36.230Z"
   },
   {
    "duration": 293,
    "start_time": "2024-09-11T19:12:36.478Z"
   },
   {
    "duration": 236,
    "start_time": "2024-09-11T19:12:36.772Z"
   },
   {
    "duration": 228,
    "start_time": "2024-09-11T19:12:37.012Z"
   },
   {
    "duration": 9,
    "start_time": "2024-09-11T19:12:37.242Z"
   },
   {
    "duration": 120,
    "start_time": "2024-09-11T19:12:37.252Z"
   },
   {
    "duration": 122,
    "start_time": "2024-09-11T19:12:37.373Z"
   },
   {
    "duration": 189,
    "start_time": "2024-09-11T19:12:37.497Z"
   },
   {
    "duration": 174,
    "start_time": "2024-09-11T19:12:37.688Z"
   },
   {
    "duration": 112,
    "start_time": "2024-09-11T19:12:37.863Z"
   },
   {
    "duration": 122,
    "start_time": "2024-09-11T19:12:37.977Z"
   },
   {
    "duration": 124,
    "start_time": "2024-09-11T19:12:38.100Z"
   },
   {
    "duration": 1458,
    "start_time": "2024-09-11T19:12:38.225Z"
   },
   {
    "duration": 1347,
    "start_time": "2024-09-11T19:12:39.685Z"
   },
   {
    "duration": 1701,
    "start_time": "2024-09-11T19:12:41.034Z"
   },
   {
    "duration": 1383,
    "start_time": "2024-09-11T19:14:16.304Z"
   },
   {
    "duration": 76,
    "start_time": "2024-09-11T19:14:17.689Z"
   },
   {
    "duration": 16,
    "start_time": "2024-09-11T19:14:17.767Z"
   },
   {
    "duration": 12,
    "start_time": "2024-09-11T19:14:17.784Z"
   },
   {
    "duration": 4,
    "start_time": "2024-09-11T19:14:17.798Z"
   },
   {
    "duration": 18,
    "start_time": "2024-09-11T19:14:17.803Z"
   },
   {
    "duration": 6,
    "start_time": "2024-09-11T19:14:17.822Z"
   },
   {
    "duration": 30,
    "start_time": "2024-09-11T19:14:17.829Z"
   },
   {
    "duration": 61,
    "start_time": "2024-09-11T19:14:17.861Z"
   },
   {
    "duration": 13454,
    "start_time": "2024-09-11T19:14:17.923Z"
   },
   {
    "duration": 5,
    "start_time": "2024-09-11T19:14:31.379Z"
   },
   {
    "duration": 10,
    "start_time": "2024-09-11T19:14:31.385Z"
   },
   {
    "duration": 6,
    "start_time": "2024-09-11T19:14:31.397Z"
   },
   {
    "duration": 27,
    "start_time": "2024-09-11T19:14:31.407Z"
   },
   {
    "duration": 12,
    "start_time": "2024-09-11T19:14:31.435Z"
   },
   {
    "duration": 266,
    "start_time": "2024-09-11T19:14:31.449Z"
   },
   {
    "duration": 281,
    "start_time": "2024-09-11T19:14:31.716Z"
   },
   {
    "duration": 260,
    "start_time": "2024-09-11T19:14:31.998Z"
   },
   {
    "duration": 233,
    "start_time": "2024-09-11T19:14:32.261Z"
   },
   {
    "duration": 25,
    "start_time": "2024-09-11T19:14:32.496Z"
   },
   {
    "duration": 119,
    "start_time": "2024-09-11T19:14:32.522Z"
   },
   {
    "duration": 113,
    "start_time": "2024-09-11T19:14:32.643Z"
   },
   {
    "duration": 210,
    "start_time": "2024-09-11T19:14:32.758Z"
   },
   {
    "duration": 156,
    "start_time": "2024-09-11T19:14:32.969Z"
   },
   {
    "duration": 117,
    "start_time": "2024-09-11T19:14:33.127Z"
   },
   {
    "duration": 109,
    "start_time": "2024-09-11T19:14:33.246Z"
   },
   {
    "duration": 121,
    "start_time": "2024-09-11T19:14:33.357Z"
   },
   {
    "duration": 1437,
    "start_time": "2024-09-11T19:14:33.481Z"
   },
   {
    "duration": 1376,
    "start_time": "2024-09-11T19:14:34.923Z"
   },
   {
    "duration": 1760,
    "start_time": "2024-09-11T19:14:36.300Z"
   },
   {
    "duration": 116,
    "start_time": "2024-09-11T19:17:55.361Z"
   },
   {
    "duration": 4,
    "start_time": "2024-09-11T19:17:58.066Z"
   },
   {
    "duration": 20,
    "start_time": "2024-09-11T19:18:05.644Z"
   },
   {
    "duration": 17,
    "start_time": "2024-09-11T19:18:54.628Z"
   },
   {
    "duration": 18,
    "start_time": "2024-09-11T19:19:03.753Z"
   },
   {
    "duration": 121,
    "start_time": "2024-09-11T19:19:12.133Z"
   },
   {
    "duration": 91,
    "start_time": "2024-09-11T19:19:28.529Z"
   },
   {
    "duration": 185,
    "start_time": "2024-09-11T19:20:07.178Z"
   },
   {
    "duration": 85,
    "start_time": "2024-09-11T19:21:12.296Z"
   },
   {
    "duration": 497,
    "start_time": "2024-09-11T19:21:31.764Z"
   },
   {
    "duration": 82,
    "start_time": "2024-09-11T19:21:53.958Z"
   },
   {
    "duration": 22,
    "start_time": "2024-09-11T19:22:17.350Z"
   },
   {
    "duration": 39,
    "start_time": "2024-09-11T19:22:59.816Z"
   },
   {
    "duration": 30,
    "start_time": "2024-09-11T19:23:18.119Z"
   },
   {
    "duration": 12,
    "start_time": "2024-09-11T19:24:21.714Z"
   },
   {
    "duration": 91,
    "start_time": "2024-09-11T19:24:29.666Z"
   },
   {
    "duration": 4,
    "start_time": "2024-09-11T19:25:08.925Z"
   },
   {
    "duration": 13,
    "start_time": "2024-09-11T19:25:13.217Z"
   },
   {
    "duration": 66,
    "start_time": "2024-09-11T19:25:23.761Z"
   },
   {
    "duration": 22,
    "start_time": "2024-09-11T19:25:27.870Z"
   },
   {
    "duration": 32,
    "start_time": "2024-09-11T19:25:46.994Z"
   },
   {
    "duration": 34,
    "start_time": "2024-09-11T19:25:53.311Z"
   },
   {
    "duration": 21,
    "start_time": "2024-09-11T19:26:02.029Z"
   },
   {
    "duration": 1933,
    "start_time": "2024-09-11T19:37:00.481Z"
   },
   {
    "duration": 1953,
    "start_time": "2024-09-11T19:37:51.564Z"
   },
   {
    "duration": 1795,
    "start_time": "2024-09-11T19:40:05.416Z"
   },
   {
    "duration": 43,
    "start_time": "2024-09-11T19:43:08.706Z"
   },
   {
    "duration": 1851,
    "start_time": "2024-09-11T19:43:40.917Z"
   },
   {
    "duration": 1010,
    "start_time": "2024-09-11T19:43:50.566Z"
   },
   {
    "duration": 1948,
    "start_time": "2024-09-11T19:44:16.086Z"
   },
   {
    "duration": 1771,
    "start_time": "2024-09-11T19:45:02.583Z"
   },
   {
    "duration": 3261,
    "start_time": "2024-09-11T19:46:53.329Z"
   },
   {
    "duration": 2066,
    "start_time": "2024-09-11T19:48:35.341Z"
   },
   {
    "duration": 3117,
    "start_time": "2024-09-11T19:52:54.434Z"
   },
   {
    "duration": 2761,
    "start_time": "2024-09-11T19:53:06.201Z"
   },
   {
    "duration": 2628,
    "start_time": "2024-09-11T19:53:34.097Z"
   },
   {
    "duration": 3184,
    "start_time": "2024-09-11T19:53:53.487Z"
   },
   {
    "duration": 3346,
    "start_time": "2024-09-11T19:54:07.638Z"
   },
   {
    "duration": 3340,
    "start_time": "2024-09-11T19:54:23.355Z"
   },
   {
    "duration": 3244,
    "start_time": "2024-09-11T19:54:39.337Z"
   },
   {
    "duration": 3077,
    "start_time": "2024-09-11T19:54:51.188Z"
   },
   {
    "duration": 3152,
    "start_time": "2024-09-11T19:55:00.107Z"
   },
   {
    "duration": 3280,
    "start_time": "2024-09-11T19:55:59.920Z"
   },
   {
    "duration": 3386,
    "start_time": "2024-09-11T19:56:21.320Z"
   },
   {
    "duration": 3541,
    "start_time": "2024-09-11T19:56:52.934Z"
   },
   {
    "duration": 3532,
    "start_time": "2024-09-11T19:57:05.907Z"
   },
   {
    "duration": 1380,
    "start_time": "2024-09-11T20:03:54.408Z"
   },
   {
    "duration": 74,
    "start_time": "2024-09-11T20:03:55.790Z"
   },
   {
    "duration": 17,
    "start_time": "2024-09-11T20:03:55.866Z"
   },
   {
    "duration": 13,
    "start_time": "2024-09-11T20:03:55.884Z"
   },
   {
    "duration": 3,
    "start_time": "2024-09-11T20:03:55.900Z"
   },
   {
    "duration": 9,
    "start_time": "2024-09-11T20:03:55.905Z"
   },
   {
    "duration": 5,
    "start_time": "2024-09-11T20:03:55.916Z"
   },
   {
    "duration": 4,
    "start_time": "2024-09-11T20:03:55.922Z"
   },
   {
    "duration": 22,
    "start_time": "2024-09-11T20:03:55.927Z"
   },
   {
    "duration": 12966,
    "start_time": "2024-09-11T20:03:55.951Z"
   },
   {
    "duration": 7,
    "start_time": "2024-09-11T20:04:08.919Z"
   },
   {
    "duration": 25,
    "start_time": "2024-09-11T20:04:08.928Z"
   },
   {
    "duration": 22,
    "start_time": "2024-09-11T20:04:08.954Z"
   },
   {
    "duration": 30,
    "start_time": "2024-09-11T20:04:08.979Z"
   },
   {
    "duration": 17,
    "start_time": "2024-09-11T20:04:09.011Z"
   },
   {
    "duration": 251,
    "start_time": "2024-09-11T20:04:09.030Z"
   },
   {
    "duration": 290,
    "start_time": "2024-09-11T20:04:09.283Z"
   },
   {
    "duration": 224,
    "start_time": "2024-09-11T20:04:09.575Z"
   },
   {
    "duration": 215,
    "start_time": "2024-09-11T20:04:09.805Z"
   },
   {
    "duration": 9,
    "start_time": "2024-09-11T20:04:10.022Z"
   },
   {
    "duration": 107,
    "start_time": "2024-09-11T20:04:10.033Z"
   },
   {
    "duration": 125,
    "start_time": "2024-09-11T20:04:10.142Z"
   },
   {
    "duration": 196,
    "start_time": "2024-09-11T20:04:10.269Z"
   },
   {
    "duration": 155,
    "start_time": "2024-09-11T20:04:10.467Z"
   },
   {
    "duration": 123,
    "start_time": "2024-09-11T20:04:10.624Z"
   },
   {
    "duration": 109,
    "start_time": "2024-09-11T20:04:10.749Z"
   },
   {
    "duration": 114,
    "start_time": "2024-09-11T20:04:10.859Z"
   },
   {
    "duration": 1265,
    "start_time": "2024-09-11T20:04:10.975Z"
   },
   {
    "duration": 3577,
    "start_time": "2024-09-11T20:04:12.241Z"
   },
   {
    "duration": 1633,
    "start_time": "2024-09-11T20:04:15.819Z"
   },
   {
    "duration": 23,
    "start_time": "2024-09-11T20:04:17.454Z"
   },
   {
    "duration": 1384,
    "start_time": "2024-09-11T20:07:33.428Z"
   },
   {
    "duration": 63,
    "start_time": "2024-09-11T20:07:34.814Z"
   },
   {
    "duration": 24,
    "start_time": "2024-09-11T20:07:34.879Z"
   },
   {
    "duration": 33,
    "start_time": "2024-09-11T20:07:34.905Z"
   },
   {
    "duration": 6,
    "start_time": "2024-09-11T20:07:34.941Z"
   },
   {
    "duration": 14,
    "start_time": "2024-09-11T20:07:34.948Z"
   },
   {
    "duration": 21,
    "start_time": "2024-09-11T20:07:34.964Z"
   },
   {
    "duration": 11,
    "start_time": "2024-09-11T20:07:34.987Z"
   },
   {
    "duration": 30,
    "start_time": "2024-09-11T20:07:34.999Z"
   },
   {
    "duration": 12662,
    "start_time": "2024-09-11T20:07:35.031Z"
   },
   {
    "duration": 5,
    "start_time": "2024-09-11T20:07:47.695Z"
   },
   {
    "duration": 7,
    "start_time": "2024-09-11T20:07:47.702Z"
   },
   {
    "duration": 8,
    "start_time": "2024-09-11T20:07:47.710Z"
   },
   {
    "duration": 41,
    "start_time": "2024-09-11T20:07:47.720Z"
   },
   {
    "duration": 14,
    "start_time": "2024-09-11T20:07:47.762Z"
   },
   {
    "duration": 247,
    "start_time": "2024-09-11T20:07:47.777Z"
   },
   {
    "duration": 291,
    "start_time": "2024-09-11T20:07:48.026Z"
   },
   {
    "duration": 228,
    "start_time": "2024-09-11T20:07:48.319Z"
   },
   {
    "duration": 218,
    "start_time": "2024-09-11T20:07:48.549Z"
   },
   {
    "duration": 10,
    "start_time": "2024-09-11T20:07:48.769Z"
   },
   {
    "duration": 134,
    "start_time": "2024-09-11T20:07:48.781Z"
   },
   {
    "duration": 132,
    "start_time": "2024-09-11T20:07:48.918Z"
   },
   {
    "duration": 201,
    "start_time": "2024-09-11T20:07:49.052Z"
   },
   {
    "duration": 167,
    "start_time": "2024-09-11T20:07:49.255Z"
   },
   {
    "duration": 113,
    "start_time": "2024-09-11T20:07:49.424Z"
   },
   {
    "duration": 104,
    "start_time": "2024-09-11T20:07:49.539Z"
   },
   {
    "duration": 108,
    "start_time": "2024-09-11T20:07:49.645Z"
   },
   {
    "duration": 1296,
    "start_time": "2024-09-11T20:07:49.755Z"
   },
   {
    "duration": 3545,
    "start_time": "2024-09-11T20:07:51.054Z"
   },
   {
    "duration": 1638,
    "start_time": "2024-09-11T20:07:54.605Z"
   },
   {
    "duration": 24,
    "start_time": "2024-09-11T20:07:56.245Z"
   },
   {
    "duration": 4689,
    "start_time": "2024-09-12T14:19:03.941Z"
   },
   {
    "duration": 124,
    "start_time": "2024-09-12T14:19:08.633Z"
   },
   {
    "duration": 19,
    "start_time": "2024-09-12T14:19:08.759Z"
   },
   {
    "duration": 15,
    "start_time": "2024-09-12T14:19:08.779Z"
   },
   {
    "duration": 3,
    "start_time": "2024-09-12T14:19:08.797Z"
   },
   {
    "duration": 9,
    "start_time": "2024-09-12T14:19:08.801Z"
   },
   {
    "duration": 7,
    "start_time": "2024-09-12T14:19:08.812Z"
   },
   {
    "duration": 4,
    "start_time": "2024-09-12T14:19:08.820Z"
   },
   {
    "duration": 22,
    "start_time": "2024-09-12T14:19:08.825Z"
   },
   {
    "duration": 12246,
    "start_time": "2024-09-12T14:19:08.848Z"
   },
   {
    "duration": 5,
    "start_time": "2024-09-12T14:19:21.095Z"
   },
   {
    "duration": 34,
    "start_time": "2024-09-12T14:19:21.102Z"
   },
   {
    "duration": 27,
    "start_time": "2024-09-12T14:19:21.137Z"
   },
   {
    "duration": 46,
    "start_time": "2024-09-12T14:19:21.168Z"
   },
   {
    "duration": 12,
    "start_time": "2024-09-12T14:19:21.215Z"
   },
   {
    "duration": 237,
    "start_time": "2024-09-12T14:19:21.228Z"
   },
   {
    "duration": 273,
    "start_time": "2024-09-12T14:19:21.467Z"
   },
   {
    "duration": 216,
    "start_time": "2024-09-12T14:19:21.742Z"
   },
   {
    "duration": 223,
    "start_time": "2024-09-12T14:19:21.960Z"
   },
   {
    "duration": 8,
    "start_time": "2024-09-12T14:19:22.185Z"
   },
   {
    "duration": 103,
    "start_time": "2024-09-12T14:19:22.194Z"
   },
   {
    "duration": 106,
    "start_time": "2024-09-12T14:19:22.307Z"
   },
   {
    "duration": 199,
    "start_time": "2024-09-12T14:19:22.415Z"
   },
   {
    "duration": 146,
    "start_time": "2024-09-12T14:19:22.615Z"
   },
   {
    "duration": 99,
    "start_time": "2024-09-12T14:19:22.762Z"
   },
   {
    "duration": 113,
    "start_time": "2024-09-12T14:19:22.863Z"
   },
   {
    "duration": 109,
    "start_time": "2024-09-12T14:19:22.977Z"
   },
   {
    "duration": 1213,
    "start_time": "2024-09-12T14:19:23.087Z"
   },
   {
    "duration": 3385,
    "start_time": "2024-09-12T14:19:24.302Z"
   },
   {
    "duration": 1555,
    "start_time": "2024-09-12T14:19:27.689Z"
   },
   {
    "duration": 22,
    "start_time": "2024-09-12T14:19:29.246Z"
   },
   {
    "duration": 121,
    "start_time": "2024-09-12T15:24:31.458Z"
   },
   {
    "duration": 8,
    "start_time": "2024-09-12T15:24:36.027Z"
   },
   {
    "duration": 8,
    "start_time": "2024-09-12T15:24:59.403Z"
   },
   {
    "duration": 16,
    "start_time": "2024-09-12T15:25:09.947Z"
   },
   {
    "duration": 24,
    "start_time": "2024-09-12T15:25:22.540Z"
   },
   {
    "duration": 38,
    "start_time": "2024-09-12T15:25:37.138Z"
   },
   {
    "duration": 33,
    "start_time": "2024-09-12T15:25:43.839Z"
   },
   {
    "duration": 27,
    "start_time": "2024-09-12T15:25:49.591Z"
   },
   {
    "duration": 27,
    "start_time": "2024-09-12T15:26:07.472Z"
   },
   {
    "duration": 27,
    "start_time": "2024-09-12T15:26:23.999Z"
   },
   {
    "duration": 1337,
    "start_time": "2024-09-12T16:21:38.118Z"
   },
   {
    "duration": 146,
    "start_time": "2024-09-12T16:21:39.457Z"
   },
   {
    "duration": 18,
    "start_time": "2024-09-12T16:21:39.605Z"
   },
   {
    "duration": 22,
    "start_time": "2024-09-12T16:21:39.625Z"
   },
   {
    "duration": 27,
    "start_time": "2024-09-12T16:21:39.649Z"
   },
   {
    "duration": 67,
    "start_time": "2024-09-12T16:21:39.678Z"
   },
   {
    "duration": 24,
    "start_time": "2024-09-12T16:21:39.747Z"
   },
   {
    "duration": 17,
    "start_time": "2024-09-12T16:21:39.772Z"
   },
   {
    "duration": 39,
    "start_time": "2024-09-12T16:21:39.790Z"
   },
   {
    "duration": 13046,
    "start_time": "2024-09-12T16:21:39.830Z"
   },
   {
    "duration": 5,
    "start_time": "2024-09-12T16:21:52.879Z"
   },
   {
    "duration": 13,
    "start_time": "2024-09-12T16:21:52.886Z"
   },
   {
    "duration": 22,
    "start_time": "2024-09-12T16:21:52.900Z"
   },
   {
    "duration": 29,
    "start_time": "2024-09-12T16:21:52.925Z"
   },
   {
    "duration": 12,
    "start_time": "2024-09-12T16:21:52.956Z"
   },
   {
    "duration": 248,
    "start_time": "2024-09-12T16:21:52.970Z"
   },
   {
    "duration": 312,
    "start_time": "2024-09-12T16:21:53.219Z"
   },
   {
    "duration": 225,
    "start_time": "2024-09-12T16:21:53.532Z"
   },
   {
    "duration": 221,
    "start_time": "2024-09-12T16:21:53.758Z"
   },
   {
    "duration": 8,
    "start_time": "2024-09-12T16:21:53.980Z"
   },
   {
    "duration": 108,
    "start_time": "2024-09-12T16:21:53.989Z"
   },
   {
    "duration": 137,
    "start_time": "2024-09-12T16:21:54.099Z"
   },
   {
    "duration": 202,
    "start_time": "2024-09-12T16:21:54.238Z"
   },
   {
    "duration": 150,
    "start_time": "2024-09-12T16:21:54.442Z"
   },
   {
    "duration": 115,
    "start_time": "2024-09-12T16:21:54.594Z"
   },
   {
    "duration": 104,
    "start_time": "2024-09-12T16:21:54.710Z"
   },
   {
    "duration": 112,
    "start_time": "2024-09-12T16:21:54.815Z"
   },
   {
    "duration": 1265,
    "start_time": "2024-09-12T16:21:54.928Z"
   },
   {
    "duration": 3836,
    "start_time": "2024-09-12T16:21:56.195Z"
   },
   {
    "duration": 1648,
    "start_time": "2024-09-12T16:22:00.033Z"
   },
   {
    "duration": 28,
    "start_time": "2024-09-12T16:22:01.683Z"
   },
   {
    "duration": 24,
    "start_time": "2024-09-12T16:22:01.713Z"
   },
   {
    "duration": 31,
    "start_time": "2024-09-12T16:22:01.738Z"
   },
   {
    "duration": 110,
    "start_time": "2024-09-12T16:34:12.425Z"
   },
   {
    "duration": 5,
    "start_time": "2024-09-12T16:34:22.031Z"
   },
   {
    "duration": 7,
    "start_time": "2024-09-12T16:35:07.272Z"
   },
   {
    "duration": 8,
    "start_time": "2024-09-12T16:42:10.151Z"
   },
   {
    "duration": 8,
    "start_time": "2024-09-12T16:42:37.562Z"
   },
   {
    "duration": 8,
    "start_time": "2024-09-12T16:43:15.320Z"
   },
   {
    "duration": 6,
    "start_time": "2024-09-12T16:45:20.789Z"
   },
   {
    "duration": 7,
    "start_time": "2024-09-12T16:45:28.592Z"
   },
   {
    "duration": 7,
    "start_time": "2024-09-12T16:45:32.159Z"
   },
   {
    "duration": 7,
    "start_time": "2024-09-12T16:45:35.202Z"
   },
   {
    "duration": 10,
    "start_time": "2024-09-12T16:45:37.342Z"
   },
   {
    "duration": 8,
    "start_time": "2024-09-12T16:45:39.351Z"
   },
   {
    "duration": 7,
    "start_time": "2024-09-12T16:46:13.872Z"
   },
   {
    "duration": 6,
    "start_time": "2024-09-12T16:46:33.018Z"
   },
   {
    "duration": 6,
    "start_time": "2024-09-12T16:46:53.871Z"
   },
   {
    "duration": 7,
    "start_time": "2024-09-12T16:47:02.345Z"
   },
   {
    "duration": 6,
    "start_time": "2024-09-12T16:47:16.514Z"
   },
   {
    "duration": 7,
    "start_time": "2024-09-12T16:47:21.969Z"
   },
   {
    "duration": 8,
    "start_time": "2024-09-12T16:47:31.327Z"
   },
   {
    "duration": 1256,
    "start_time": "2024-09-12T16:48:05.983Z"
   },
   {
    "duration": 85,
    "start_time": "2024-09-12T16:48:07.241Z"
   },
   {
    "duration": 22,
    "start_time": "2024-09-12T16:48:07.328Z"
   },
   {
    "duration": 14,
    "start_time": "2024-09-12T16:48:07.353Z"
   },
   {
    "duration": 3,
    "start_time": "2024-09-12T16:48:07.369Z"
   },
   {
    "duration": 15,
    "start_time": "2024-09-12T16:48:07.374Z"
   },
   {
    "duration": 22,
    "start_time": "2024-09-12T16:48:07.390Z"
   },
   {
    "duration": 12,
    "start_time": "2024-09-12T16:48:07.413Z"
   },
   {
    "duration": 22,
    "start_time": "2024-09-12T16:48:07.427Z"
   },
   {
    "duration": 11887,
    "start_time": "2024-09-12T16:48:07.452Z"
   },
   {
    "duration": 4,
    "start_time": "2024-09-12T16:48:19.341Z"
   },
   {
    "duration": 14,
    "start_time": "2024-09-12T16:48:19.346Z"
   },
   {
    "duration": 19,
    "start_time": "2024-09-12T16:48:19.361Z"
   },
   {
    "duration": 42,
    "start_time": "2024-09-12T16:48:19.382Z"
   },
   {
    "duration": 11,
    "start_time": "2024-09-12T16:48:19.425Z"
   },
   {
    "duration": 232,
    "start_time": "2024-09-12T16:48:19.438Z"
   },
   {
    "duration": 255,
    "start_time": "2024-09-12T16:48:19.671Z"
   },
   {
    "duration": 211,
    "start_time": "2024-09-12T16:48:19.928Z"
   },
   {
    "duration": 202,
    "start_time": "2024-09-12T16:48:20.140Z"
   },
   {
    "duration": 8,
    "start_time": "2024-09-12T16:48:20.343Z"
   },
   {
    "duration": 102,
    "start_time": "2024-09-12T16:48:20.352Z"
   },
   {
    "duration": 111,
    "start_time": "2024-09-12T16:48:20.455Z"
   },
   {
    "duration": 176,
    "start_time": "2024-09-12T16:48:20.568Z"
   },
   {
    "duration": 137,
    "start_time": "2024-09-12T16:48:20.746Z"
   },
   {
    "duration": 100,
    "start_time": "2024-09-12T16:48:20.884Z"
   },
   {
    "duration": 95,
    "start_time": "2024-09-12T16:48:20.986Z"
   },
   {
    "duration": 103,
    "start_time": "2024-09-12T16:48:21.083Z"
   },
   {
    "duration": 1138,
    "start_time": "2024-09-12T16:48:21.189Z"
   },
   {
    "duration": 3472,
    "start_time": "2024-09-12T16:48:22.329Z"
   },
   {
    "duration": 1545,
    "start_time": "2024-09-12T16:48:25.807Z"
   },
   {
    "duration": 20,
    "start_time": "2024-09-12T16:48:27.354Z"
   },
   {
    "duration": 9,
    "start_time": "2024-09-12T16:48:27.375Z"
   },
   {
    "duration": 28,
    "start_time": "2024-09-12T16:48:27.386Z"
   },
   {
    "duration": 7,
    "start_time": "2024-09-12T16:48:27.416Z"
   },
   {
    "duration": 5,
    "start_time": "2024-09-12T16:48:27.425Z"
   },
   {
    "duration": 5,
    "start_time": "2024-09-12T16:48:27.432Z"
   },
   {
    "duration": 7,
    "start_time": "2024-09-12T16:49:15.162Z"
   },
   {
    "duration": 7,
    "start_time": "2024-09-12T16:49:19.197Z"
   },
   {
    "duration": 7,
    "start_time": "2024-09-12T16:49:34.643Z"
   },
   {
    "duration": 6,
    "start_time": "2024-09-12T16:49:37.787Z"
   },
   {
    "duration": 6,
    "start_time": "2024-09-12T16:49:43.339Z"
   },
   {
    "duration": 6,
    "start_time": "2024-09-12T16:49:49.365Z"
   },
   {
    "duration": 7,
    "start_time": "2024-09-12T16:51:55.885Z"
   },
   {
    "duration": 7,
    "start_time": "2024-09-12T16:52:09.460Z"
   },
   {
    "duration": 7,
    "start_time": "2024-09-12T16:52:50.890Z"
   },
   {
    "duration": 8,
    "start_time": "2024-09-12T16:52:57.852Z"
   },
   {
    "duration": 6,
    "start_time": "2024-09-12T16:53:06.554Z"
   },
   {
    "duration": 7,
    "start_time": "2024-09-12T16:53:30.537Z"
   },
   {
    "duration": 9,
    "start_time": "2024-09-12T16:58:20.677Z"
   },
   {
    "duration": 1294,
    "start_time": "2024-09-12T18:05:47.190Z"
   },
   {
    "duration": 161,
    "start_time": "2024-09-12T18:05:48.485Z"
   },
   {
    "duration": 16,
    "start_time": "2024-09-12T18:05:48.648Z"
   },
   {
    "duration": 13,
    "start_time": "2024-09-12T18:05:48.666Z"
   },
   {
    "duration": 4,
    "start_time": "2024-09-12T18:05:48.681Z"
   },
   {
    "duration": 19,
    "start_time": "2024-09-12T18:05:48.686Z"
   },
   {
    "duration": 10,
    "start_time": "2024-09-12T18:05:48.706Z"
   },
   {
    "duration": 4,
    "start_time": "2024-09-12T18:05:48.718Z"
   },
   {
    "duration": 23,
    "start_time": "2024-09-12T18:05:48.723Z"
   },
   {
    "duration": 12640,
    "start_time": "2024-09-12T18:05:48.748Z"
   },
   {
    "duration": 6,
    "start_time": "2024-09-12T18:06:01.390Z"
   },
   {
    "duration": 38,
    "start_time": "2024-09-12T18:06:01.397Z"
   },
   {
    "duration": 35,
    "start_time": "2024-09-12T18:06:01.437Z"
   },
   {
    "duration": 51,
    "start_time": "2024-09-12T18:06:01.475Z"
   },
   {
    "duration": 16,
    "start_time": "2024-09-12T18:06:01.527Z"
   },
   {
    "duration": 249,
    "start_time": "2024-09-12T18:06:01.545Z"
   },
   {
    "duration": 258,
    "start_time": "2024-09-12T18:06:01.795Z"
   },
   {
    "duration": 210,
    "start_time": "2024-09-12T18:06:02.055Z"
   },
   {
    "duration": 234,
    "start_time": "2024-09-12T18:06:02.266Z"
   },
   {
    "duration": 14,
    "start_time": "2024-09-12T18:06:02.508Z"
   },
   {
    "duration": 108,
    "start_time": "2024-09-12T18:06:02.524Z"
   },
   {
    "duration": 113,
    "start_time": "2024-09-12T18:06:02.634Z"
   },
   {
    "duration": 207,
    "start_time": "2024-09-12T18:06:02.749Z"
   },
   {
    "duration": 140,
    "start_time": "2024-09-12T18:06:02.958Z"
   },
   {
    "duration": 99,
    "start_time": "2024-09-12T18:06:03.099Z"
   },
   {
    "duration": 114,
    "start_time": "2024-09-12T18:06:03.200Z"
   },
   {
    "duration": 107,
    "start_time": "2024-09-12T18:06:03.316Z"
   },
   {
    "duration": 1245,
    "start_time": "2024-09-12T18:06:03.425Z"
   },
   {
    "duration": 3550,
    "start_time": "2024-09-12T18:06:04.672Z"
   },
   {
    "duration": 1542,
    "start_time": "2024-09-12T18:06:08.224Z"
   },
   {
    "duration": 23,
    "start_time": "2024-09-12T18:06:09.768Z"
   },
   {
    "duration": 18,
    "start_time": "2024-09-12T18:06:09.806Z"
   },
   {
    "duration": 21,
    "start_time": "2024-09-12T18:06:09.826Z"
   },
   {
    "duration": 18,
    "start_time": "2024-09-12T18:06:09.849Z"
   },
   {
    "duration": 30,
    "start_time": "2024-09-12T18:06:09.868Z"
   },
   {
    "duration": 34,
    "start_time": "2024-09-12T18:07:51.697Z"
   },
   {
    "duration": 22,
    "start_time": "2024-09-12T18:08:30.501Z"
   },
   {
    "duration": 22,
    "start_time": "2024-09-12T18:08:56.155Z"
   },
   {
    "duration": 23,
    "start_time": "2024-09-12T18:08:59.812Z"
   },
   {
    "duration": 126,
    "start_time": "2024-09-12T18:10:55.166Z"
   },
   {
    "duration": 18,
    "start_time": "2024-09-12T18:11:03.080Z"
   },
   {
    "duration": 22,
    "start_time": "2024-09-12T18:11:31.054Z"
   },
   {
    "duration": 20,
    "start_time": "2024-09-12T18:11:49.012Z"
   },
   {
    "duration": 29,
    "start_time": "2024-09-12T18:11:56.118Z"
   },
   {
    "duration": 21,
    "start_time": "2024-09-12T18:12:07.985Z"
   },
   {
    "duration": 19,
    "start_time": "2024-09-12T18:12:53.648Z"
   },
   {
    "duration": 19,
    "start_time": "2024-09-12T18:13:02.579Z"
   },
   {
    "duration": 21,
    "start_time": "2024-09-12T18:13:05.652Z"
   },
   {
    "duration": 22,
    "start_time": "2024-09-12T18:13:43.235Z"
   },
   {
    "duration": 10,
    "start_time": "2024-09-12T18:15:03.061Z"
   },
   {
    "duration": 10,
    "start_time": "2024-09-12T18:16:23.104Z"
   },
   {
    "duration": 11,
    "start_time": "2024-09-12T18:16:36.096Z"
   },
   {
    "duration": 11,
    "start_time": "2024-09-12T18:16:38.609Z"
   },
   {
    "duration": 20,
    "start_time": "2024-09-12T18:16:49.876Z"
   },
   {
    "duration": 20,
    "start_time": "2024-09-12T18:16:55.577Z"
   },
   {
    "duration": 26,
    "start_time": "2024-09-12T18:30:02.864Z"
   },
   {
    "duration": 37,
    "start_time": "2024-09-12T18:31:29.258Z"
   },
   {
    "duration": 28,
    "start_time": "2024-09-12T18:31:32.283Z"
   },
   {
    "duration": 21,
    "start_time": "2024-09-12T18:31:39.682Z"
   },
   {
    "duration": 22,
    "start_time": "2024-09-12T18:32:15.952Z"
   },
   {
    "duration": 55,
    "start_time": "2024-09-12T18:34:49.430Z"
   },
   {
    "duration": 63,
    "start_time": "2024-09-12T18:35:14.835Z"
   },
   {
    "duration": 68,
    "start_time": "2024-09-12T18:35:21.706Z"
   },
   {
    "duration": 22,
    "start_time": "2024-09-12T18:35:55.495Z"
   },
   {
    "duration": 60,
    "start_time": "2024-09-12T18:36:16.417Z"
   },
   {
    "duration": 54,
    "start_time": "2024-09-12T18:36:26.789Z"
   },
   {
    "duration": 28,
    "start_time": "2024-09-12T18:36:42.585Z"
   },
   {
    "duration": 24,
    "start_time": "2024-09-12T18:36:48.002Z"
   },
   {
    "duration": 23,
    "start_time": "2024-09-12T18:36:54.519Z"
   },
   {
    "duration": 24,
    "start_time": "2024-09-12T18:37:10.615Z"
   },
   {
    "duration": 22,
    "start_time": "2024-09-12T18:37:21.418Z"
   },
   {
    "duration": 51,
    "start_time": "2024-09-12T18:44:08.658Z"
   },
   {
    "duration": 2093,
    "start_time": "2024-09-12T19:26:16.042Z"
   },
   {
    "duration": 110,
    "start_time": "2024-09-12T19:26:18.137Z"
   },
   {
    "duration": 17,
    "start_time": "2024-09-12T19:26:18.249Z"
   },
   {
    "duration": 13,
    "start_time": "2024-09-12T19:26:18.267Z"
   },
   {
    "duration": 3,
    "start_time": "2024-09-12T19:26:18.282Z"
   },
   {
    "duration": 18,
    "start_time": "2024-09-12T19:26:18.286Z"
   },
   {
    "duration": 8,
    "start_time": "2024-09-12T19:26:18.305Z"
   },
   {
    "duration": 21,
    "start_time": "2024-09-12T19:26:18.314Z"
   },
   {
    "duration": 30,
    "start_time": "2024-09-12T19:26:18.337Z"
   },
   {
    "duration": 12281,
    "start_time": "2024-09-12T19:26:18.369Z"
   },
   {
    "duration": 5,
    "start_time": "2024-09-12T19:26:30.651Z"
   },
   {
    "duration": 17,
    "start_time": "2024-09-12T19:26:30.657Z"
   },
   {
    "duration": 6,
    "start_time": "2024-09-12T19:26:30.675Z"
   },
   {
    "duration": 35,
    "start_time": "2024-09-12T19:26:30.691Z"
   },
   {
    "duration": 13,
    "start_time": "2024-09-12T19:26:30.728Z"
   },
   {
    "duration": 245,
    "start_time": "2024-09-12T19:26:30.743Z"
   },
   {
    "duration": 302,
    "start_time": "2024-09-12T19:26:30.989Z"
   },
   {
    "duration": 222,
    "start_time": "2024-09-12T19:26:31.292Z"
   },
   {
    "duration": 219,
    "start_time": "2024-09-12T19:26:31.516Z"
   },
   {
    "duration": 9,
    "start_time": "2024-09-12T19:26:31.737Z"
   },
   {
    "duration": 114,
    "start_time": "2024-09-12T19:26:31.748Z"
   },
   {
    "duration": 123,
    "start_time": "2024-09-12T19:26:31.864Z"
   },
   {
    "duration": 195,
    "start_time": "2024-09-12T19:26:31.988Z"
   },
   {
    "duration": 156,
    "start_time": "2024-09-12T19:26:32.185Z"
   },
   {
    "duration": 113,
    "start_time": "2024-09-12T19:26:32.343Z"
   },
   {
    "duration": 116,
    "start_time": "2024-09-12T19:26:32.458Z"
   },
   {
    "duration": 108,
    "start_time": "2024-09-12T19:26:32.576Z"
   },
   {
    "duration": 1260,
    "start_time": "2024-09-12T19:26:32.686Z"
   },
   {
    "duration": 3449,
    "start_time": "2024-09-12T19:26:33.948Z"
   },
   {
    "duration": 1574,
    "start_time": "2024-09-12T19:26:37.399Z"
   },
   {
    "duration": 22,
    "start_time": "2024-09-12T19:26:38.975Z"
   },
   {
    "duration": 10,
    "start_time": "2024-09-12T19:26:38.998Z"
   },
   {
    "duration": 7,
    "start_time": "2024-09-12T19:26:39.026Z"
   },
   {
    "duration": 7,
    "start_time": "2024-09-12T19:26:39.035Z"
   },
   {
    "duration": 7,
    "start_time": "2024-09-12T19:26:39.043Z"
   },
   {
    "duration": 23,
    "start_time": "2024-09-12T19:26:39.051Z"
   },
   {
    "duration": 62,
    "start_time": "2024-09-12T19:26:39.076Z"
   },
   {
    "duration": 24,
    "start_time": "2024-09-12T19:26:39.139Z"
   },
   {
    "duration": 49,
    "start_time": "2024-09-13T12:22:19.698Z"
   },
   {
    "duration": 4877,
    "start_time": "2024-09-13T12:22:24.351Z"
   },
   {
    "duration": 102,
    "start_time": "2024-09-13T12:22:29.231Z"
   },
   {
    "duration": 16,
    "start_time": "2024-09-13T12:22:29.335Z"
   },
   {
    "duration": 13,
    "start_time": "2024-09-13T12:22:29.352Z"
   },
   {
    "duration": 4,
    "start_time": "2024-09-13T12:22:29.366Z"
   },
   {
    "duration": 48,
    "start_time": "2024-09-13T12:22:29.371Z"
   },
   {
    "duration": 4,
    "start_time": "2024-09-13T12:22:29.420Z"
   },
   {
    "duration": 8,
    "start_time": "2024-09-13T12:22:29.425Z"
   },
   {
    "duration": 23,
    "start_time": "2024-09-13T12:22:29.434Z"
   },
   {
    "duration": 116,
    "start_time": "2024-09-13T12:22:29.459Z"
   },
   {
    "duration": 0,
    "start_time": "2024-09-13T12:22:29.577Z"
   },
   {
    "duration": 0,
    "start_time": "2024-09-13T12:22:29.579Z"
   },
   {
    "duration": 0,
    "start_time": "2024-09-13T12:22:29.580Z"
   },
   {
    "duration": 0,
    "start_time": "2024-09-13T12:22:29.581Z"
   },
   {
    "duration": 0,
    "start_time": "2024-09-13T12:22:29.582Z"
   },
   {
    "duration": 0,
    "start_time": "2024-09-13T12:22:29.583Z"
   },
   {
    "duration": 0,
    "start_time": "2024-09-13T12:22:29.585Z"
   },
   {
    "duration": 0,
    "start_time": "2024-09-13T12:22:29.586Z"
   },
   {
    "duration": 0,
    "start_time": "2024-09-13T12:22:29.587Z"
   },
   {
    "duration": 0,
    "start_time": "2024-09-13T12:22:29.588Z"
   },
   {
    "duration": 0,
    "start_time": "2024-09-13T12:22:29.589Z"
   },
   {
    "duration": 0,
    "start_time": "2024-09-13T12:22:29.590Z"
   },
   {
    "duration": 0,
    "start_time": "2024-09-13T12:22:29.592Z"
   },
   {
    "duration": 0,
    "start_time": "2024-09-13T12:22:29.593Z"
   },
   {
    "duration": 0,
    "start_time": "2024-09-13T12:22:29.594Z"
   },
   {
    "duration": 0,
    "start_time": "2024-09-13T12:22:29.595Z"
   },
   {
    "duration": 0,
    "start_time": "2024-09-13T12:22:29.596Z"
   },
   {
    "duration": 0,
    "start_time": "2024-09-13T12:22:29.597Z"
   },
   {
    "duration": 0,
    "start_time": "2024-09-13T12:22:29.598Z"
   },
   {
    "duration": 0,
    "start_time": "2024-09-13T12:22:29.600Z"
   },
   {
    "duration": 0,
    "start_time": "2024-09-13T12:22:29.601Z"
   },
   {
    "duration": 0,
    "start_time": "2024-09-13T12:22:29.602Z"
   },
   {
    "duration": 0,
    "start_time": "2024-09-13T12:22:29.603Z"
   },
   {
    "duration": 0,
    "start_time": "2024-09-13T12:22:29.652Z"
   },
   {
    "duration": 0,
    "start_time": "2024-09-13T12:22:29.653Z"
   },
   {
    "duration": 0,
    "start_time": "2024-09-13T12:22:29.655Z"
   },
   {
    "duration": 0,
    "start_time": "2024-09-13T12:22:29.656Z"
   },
   {
    "duration": 0,
    "start_time": "2024-09-13T12:22:29.657Z"
   },
   {
    "duration": 18,
    "start_time": "2024-09-13T12:23:49.667Z"
   },
   {
    "duration": 1249,
    "start_time": "2024-09-13T12:23:57.335Z"
   },
   {
    "duration": 136,
    "start_time": "2024-09-13T12:23:58.586Z"
   },
   {
    "duration": 16,
    "start_time": "2024-09-13T12:23:58.723Z"
   },
   {
    "duration": 12,
    "start_time": "2024-09-13T12:23:58.740Z"
   },
   {
    "duration": 3,
    "start_time": "2024-09-13T12:23:58.753Z"
   },
   {
    "duration": 10,
    "start_time": "2024-09-13T12:23:58.757Z"
   },
   {
    "duration": 7,
    "start_time": "2024-09-13T12:23:58.769Z"
   },
   {
    "duration": 4,
    "start_time": "2024-09-13T12:23:58.777Z"
   },
   {
    "duration": 21,
    "start_time": "2024-09-13T12:23:58.782Z"
   },
   {
    "duration": 1976,
    "start_time": "2024-09-13T12:23:58.805Z"
   },
   {
    "duration": 6,
    "start_time": "2024-09-13T12:24:00.782Z"
   },
   {
    "duration": 64,
    "start_time": "2024-09-13T12:24:00.789Z"
   },
   {
    "duration": 17,
    "start_time": "2024-09-13T12:24:00.855Z"
   },
   {
    "duration": 25,
    "start_time": "2024-09-13T12:24:00.874Z"
   },
   {
    "duration": 59,
    "start_time": "2024-09-13T12:24:00.901Z"
   },
   {
    "duration": 434,
    "start_time": "2024-09-13T12:24:00.961Z"
   },
   {
    "duration": 243,
    "start_time": "2024-09-13T12:24:01.396Z"
   },
   {
    "duration": 288,
    "start_time": "2024-09-13T12:24:01.640Z"
   },
   {
    "duration": 212,
    "start_time": "2024-09-13T12:24:01.929Z"
   },
   {
    "duration": 14,
    "start_time": "2024-09-13T12:24:02.142Z"
   },
   {
    "duration": 114,
    "start_time": "2024-09-13T12:24:02.157Z"
   },
   {
    "duration": 0,
    "start_time": "2024-09-13T12:24:02.273Z"
   },
   {
    "duration": 0,
    "start_time": "2024-09-13T12:24:02.274Z"
   },
   {
    "duration": 0,
    "start_time": "2024-09-13T12:24:02.275Z"
   },
   {
    "duration": 0,
    "start_time": "2024-09-13T12:24:02.276Z"
   },
   {
    "duration": 0,
    "start_time": "2024-09-13T12:24:02.277Z"
   },
   {
    "duration": 0,
    "start_time": "2024-09-13T12:24:02.278Z"
   },
   {
    "duration": 0,
    "start_time": "2024-09-13T12:24:02.279Z"
   },
   {
    "duration": 0,
    "start_time": "2024-09-13T12:24:02.280Z"
   },
   {
    "duration": 0,
    "start_time": "2024-09-13T12:24:02.281Z"
   },
   {
    "duration": 0,
    "start_time": "2024-09-13T12:24:02.282Z"
   },
   {
    "duration": 0,
    "start_time": "2024-09-13T12:24:02.283Z"
   },
   {
    "duration": 0,
    "start_time": "2024-09-13T12:24:02.284Z"
   },
   {
    "duration": 0,
    "start_time": "2024-09-13T12:24:02.285Z"
   },
   {
    "duration": 0,
    "start_time": "2024-09-13T12:24:02.286Z"
   },
   {
    "duration": 0,
    "start_time": "2024-09-13T12:24:02.287Z"
   },
   {
    "duration": 0,
    "start_time": "2024-09-13T12:24:02.288Z"
   },
   {
    "duration": 0,
    "start_time": "2024-09-13T12:24:02.289Z"
   },
   {
    "duration": 1273,
    "start_time": "2024-09-13T12:29:15.725Z"
   },
   {
    "duration": 70,
    "start_time": "2024-09-13T12:29:17.000Z"
   },
   {
    "duration": 16,
    "start_time": "2024-09-13T12:29:17.072Z"
   },
   {
    "duration": 12,
    "start_time": "2024-09-13T12:29:17.090Z"
   },
   {
    "duration": 3,
    "start_time": "2024-09-13T12:29:17.103Z"
   },
   {
    "duration": 12,
    "start_time": "2024-09-13T12:29:17.108Z"
   },
   {
    "duration": 26,
    "start_time": "2024-09-13T12:29:17.121Z"
   },
   {
    "duration": 4,
    "start_time": "2024-09-13T12:29:17.148Z"
   },
   {
    "duration": 20,
    "start_time": "2024-09-13T12:29:17.153Z"
   },
   {
    "duration": 2293,
    "start_time": "2024-09-13T12:29:17.175Z"
   },
   {
    "duration": 5,
    "start_time": "2024-09-13T12:29:19.470Z"
   },
   {
    "duration": 6,
    "start_time": "2024-09-13T12:29:19.476Z"
   },
   {
    "duration": 21,
    "start_time": "2024-09-13T12:29:19.483Z"
   },
   {
    "duration": 27,
    "start_time": "2024-09-13T12:29:19.505Z"
   },
   {
    "duration": 20,
    "start_time": "2024-09-13T12:29:19.534Z"
   },
   {
    "duration": 239,
    "start_time": "2024-09-13T12:29:19.555Z"
   },
   {
    "duration": 219,
    "start_time": "2024-09-13T12:29:19.796Z"
   },
   {
    "duration": 303,
    "start_time": "2024-09-13T12:29:20.016Z"
   },
   {
    "duration": 213,
    "start_time": "2024-09-13T12:29:20.321Z"
   },
   {
    "duration": 17,
    "start_time": "2024-09-13T12:29:20.535Z"
   },
   {
    "duration": 121,
    "start_time": "2024-09-13T12:29:20.554Z"
   },
   {
    "duration": 0,
    "start_time": "2024-09-13T12:29:20.677Z"
   },
   {
    "duration": 0,
    "start_time": "2024-09-13T12:29:20.678Z"
   },
   {
    "duration": 0,
    "start_time": "2024-09-13T12:29:20.679Z"
   },
   {
    "duration": 0,
    "start_time": "2024-09-13T12:29:20.680Z"
   },
   {
    "duration": 0,
    "start_time": "2024-09-13T12:29:20.681Z"
   },
   {
    "duration": 0,
    "start_time": "2024-09-13T12:29:20.682Z"
   },
   {
    "duration": 0,
    "start_time": "2024-09-13T12:29:20.683Z"
   },
   {
    "duration": 0,
    "start_time": "2024-09-13T12:29:20.684Z"
   },
   {
    "duration": 0,
    "start_time": "2024-09-13T12:29:20.685Z"
   },
   {
    "duration": 0,
    "start_time": "2024-09-13T12:29:20.686Z"
   },
   {
    "duration": 0,
    "start_time": "2024-09-13T12:29:20.687Z"
   },
   {
    "duration": 0,
    "start_time": "2024-09-13T12:29:20.687Z"
   },
   {
    "duration": 0,
    "start_time": "2024-09-13T12:29:20.689Z"
   },
   {
    "duration": 0,
    "start_time": "2024-09-13T12:29:20.690Z"
   },
   {
    "duration": 0,
    "start_time": "2024-09-13T12:29:20.691Z"
   },
   {
    "duration": 0,
    "start_time": "2024-09-13T12:29:20.692Z"
   },
   {
    "duration": 0,
    "start_time": "2024-09-13T12:29:20.693Z"
   },
   {
    "duration": 17,
    "start_time": "2024-09-13T12:29:54.834Z"
   },
   {
    "duration": 1268,
    "start_time": "2024-09-13T12:30:03.826Z"
   },
   {
    "duration": 73,
    "start_time": "2024-09-13T12:30:05.096Z"
   },
   {
    "duration": 17,
    "start_time": "2024-09-13T12:30:05.170Z"
   },
   {
    "duration": 25,
    "start_time": "2024-09-13T12:30:05.188Z"
   },
   {
    "duration": 4,
    "start_time": "2024-09-13T12:30:05.215Z"
   },
   {
    "duration": 8,
    "start_time": "2024-09-13T12:30:05.220Z"
   },
   {
    "duration": 12,
    "start_time": "2024-09-13T12:30:05.230Z"
   },
   {
    "duration": 12,
    "start_time": "2024-09-13T12:30:05.243Z"
   },
   {
    "duration": 21,
    "start_time": "2024-09-13T12:30:05.256Z"
   },
   {
    "duration": 108,
    "start_time": "2024-09-13T12:30:05.279Z"
   },
   {
    "duration": 0,
    "start_time": "2024-09-13T12:30:05.389Z"
   },
   {
    "duration": 0,
    "start_time": "2024-09-13T12:30:05.391Z"
   },
   {
    "duration": 0,
    "start_time": "2024-09-13T12:30:05.392Z"
   },
   {
    "duration": 0,
    "start_time": "2024-09-13T12:30:05.394Z"
   },
   {
    "duration": 0,
    "start_time": "2024-09-13T12:30:05.396Z"
   },
   {
    "duration": 0,
    "start_time": "2024-09-13T12:30:05.397Z"
   },
   {
    "duration": 0,
    "start_time": "2024-09-13T12:30:05.399Z"
   },
   {
    "duration": 0,
    "start_time": "2024-09-13T12:30:05.399Z"
   },
   {
    "duration": 0,
    "start_time": "2024-09-13T12:30:05.401Z"
   },
   {
    "duration": 0,
    "start_time": "2024-09-13T12:30:05.402Z"
   },
   {
    "duration": 0,
    "start_time": "2024-09-13T12:30:05.404Z"
   },
   {
    "duration": 0,
    "start_time": "2024-09-13T12:30:05.405Z"
   },
   {
    "duration": 0,
    "start_time": "2024-09-13T12:30:05.406Z"
   },
   {
    "duration": 0,
    "start_time": "2024-09-13T12:30:05.407Z"
   },
   {
    "duration": 0,
    "start_time": "2024-09-13T12:30:05.409Z"
   },
   {
    "duration": 0,
    "start_time": "2024-09-13T12:30:05.410Z"
   },
   {
    "duration": 0,
    "start_time": "2024-09-13T12:30:05.412Z"
   },
   {
    "duration": 0,
    "start_time": "2024-09-13T12:30:05.453Z"
   },
   {
    "duration": 0,
    "start_time": "2024-09-13T12:30:05.454Z"
   },
   {
    "duration": 0,
    "start_time": "2024-09-13T12:30:05.455Z"
   },
   {
    "duration": 0,
    "start_time": "2024-09-13T12:30:05.457Z"
   },
   {
    "duration": 0,
    "start_time": "2024-09-13T12:30:05.458Z"
   },
   {
    "duration": 0,
    "start_time": "2024-09-13T12:30:05.461Z"
   },
   {
    "duration": 0,
    "start_time": "2024-09-13T12:30:05.462Z"
   },
   {
    "duration": 0,
    "start_time": "2024-09-13T12:30:05.463Z"
   },
   {
    "duration": 0,
    "start_time": "2024-09-13T12:30:05.465Z"
   },
   {
    "duration": 0,
    "start_time": "2024-09-13T12:30:05.466Z"
   },
   {
    "duration": 0,
    "start_time": "2024-09-13T12:30:05.467Z"
   },
   {
    "duration": 17,
    "start_time": "2024-09-13T12:30:31.031Z"
   },
   {
    "duration": 1210,
    "start_time": "2024-09-13T12:30:48.479Z"
   },
   {
    "duration": 160,
    "start_time": "2024-09-13T12:30:49.691Z"
   },
   {
    "duration": 16,
    "start_time": "2024-09-13T12:30:49.853Z"
   },
   {
    "duration": 12,
    "start_time": "2024-09-13T12:30:49.870Z"
   },
   {
    "duration": 3,
    "start_time": "2024-09-13T12:30:49.884Z"
   },
   {
    "duration": 17,
    "start_time": "2024-09-13T12:30:49.888Z"
   },
   {
    "duration": 6,
    "start_time": "2024-09-13T12:30:49.907Z"
   },
   {
    "duration": 30,
    "start_time": "2024-09-13T12:30:49.915Z"
   },
   {
    "duration": 40,
    "start_time": "2024-09-13T12:30:49.947Z"
   },
   {
    "duration": 17,
    "start_time": "2024-09-13T12:30:49.988Z"
   },
   {
    "duration": 120,
    "start_time": "2024-09-13T12:30:50.007Z"
   },
   {
    "duration": 0,
    "start_time": "2024-09-13T12:30:50.130Z"
   },
   {
    "duration": 0,
    "start_time": "2024-09-13T12:30:50.131Z"
   },
   {
    "duration": 0,
    "start_time": "2024-09-13T12:30:50.132Z"
   },
   {
    "duration": 0,
    "start_time": "2024-09-13T12:30:50.133Z"
   },
   {
    "duration": 0,
    "start_time": "2024-09-13T12:30:50.134Z"
   },
   {
    "duration": 0,
    "start_time": "2024-09-13T12:30:50.135Z"
   },
   {
    "duration": 0,
    "start_time": "2024-09-13T12:30:50.158Z"
   },
   {
    "duration": 0,
    "start_time": "2024-09-13T12:30:50.159Z"
   },
   {
    "duration": 0,
    "start_time": "2024-09-13T12:30:50.161Z"
   },
   {
    "duration": 0,
    "start_time": "2024-09-13T12:30:50.162Z"
   },
   {
    "duration": 0,
    "start_time": "2024-09-13T12:30:50.163Z"
   },
   {
    "duration": 0,
    "start_time": "2024-09-13T12:30:50.164Z"
   },
   {
    "duration": 0,
    "start_time": "2024-09-13T12:30:50.165Z"
   },
   {
    "duration": 0,
    "start_time": "2024-09-13T12:30:50.165Z"
   },
   {
    "duration": 0,
    "start_time": "2024-09-13T12:30:50.167Z"
   },
   {
    "duration": 0,
    "start_time": "2024-09-13T12:30:50.168Z"
   },
   {
    "duration": 0,
    "start_time": "2024-09-13T12:30:50.169Z"
   },
   {
    "duration": 0,
    "start_time": "2024-09-13T12:30:50.170Z"
   },
   {
    "duration": 0,
    "start_time": "2024-09-13T12:30:50.171Z"
   },
   {
    "duration": 0,
    "start_time": "2024-09-13T12:30:50.172Z"
   },
   {
    "duration": 0,
    "start_time": "2024-09-13T12:30:50.173Z"
   },
   {
    "duration": 0,
    "start_time": "2024-09-13T12:30:50.174Z"
   },
   {
    "duration": 0,
    "start_time": "2024-09-13T12:30:50.175Z"
   },
   {
    "duration": 0,
    "start_time": "2024-09-13T12:30:50.176Z"
   },
   {
    "duration": 0,
    "start_time": "2024-09-13T12:30:50.177Z"
   },
   {
    "duration": 0,
    "start_time": "2024-09-13T12:30:50.178Z"
   },
   {
    "duration": 0,
    "start_time": "2024-09-13T12:30:50.179Z"
   },
   {
    "duration": 0,
    "start_time": "2024-09-13T12:30:50.180Z"
   },
   {
    "duration": 1650,
    "start_time": "2024-09-13T12:31:23.858Z"
   },
   {
    "duration": 1314,
    "start_time": "2024-09-13T12:31:33.477Z"
   },
   {
    "duration": 79,
    "start_time": "2024-09-13T12:31:34.793Z"
   },
   {
    "duration": 16,
    "start_time": "2024-09-13T12:31:34.873Z"
   },
   {
    "duration": 15,
    "start_time": "2024-09-13T12:31:34.891Z"
   },
   {
    "duration": 3,
    "start_time": "2024-09-13T12:31:34.908Z"
   },
   {
    "duration": 7,
    "start_time": "2024-09-13T12:31:34.912Z"
   },
   {
    "duration": 3,
    "start_time": "2024-09-13T12:31:34.920Z"
   },
   {
    "duration": 6,
    "start_time": "2024-09-13T12:31:34.925Z"
   },
   {
    "duration": 37,
    "start_time": "2024-09-13T12:31:34.932Z"
   },
   {
    "duration": 16,
    "start_time": "2024-09-13T12:31:34.972Z"
   },
   {
    "duration": 2262,
    "start_time": "2024-09-13T12:31:34.990Z"
   },
   {
    "duration": 6,
    "start_time": "2024-09-13T12:31:37.254Z"
   },
   {
    "duration": 11,
    "start_time": "2024-09-13T12:31:37.261Z"
   },
   {
    "duration": 23,
    "start_time": "2024-09-13T12:31:37.273Z"
   },
   {
    "duration": 120,
    "start_time": "2024-09-13T12:31:37.297Z"
   },
   {
    "duration": 0,
    "start_time": "2024-09-13T12:31:37.419Z"
   },
   {
    "duration": 0,
    "start_time": "2024-09-13T12:31:37.420Z"
   },
   {
    "duration": 0,
    "start_time": "2024-09-13T12:31:37.421Z"
   },
   {
    "duration": 0,
    "start_time": "2024-09-13T12:31:37.423Z"
   },
   {
    "duration": 0,
    "start_time": "2024-09-13T12:31:37.423Z"
   },
   {
    "duration": 0,
    "start_time": "2024-09-13T12:31:37.424Z"
   },
   {
    "duration": 0,
    "start_time": "2024-09-13T12:31:37.425Z"
   },
   {
    "duration": 0,
    "start_time": "2024-09-13T12:31:37.426Z"
   },
   {
    "duration": 0,
    "start_time": "2024-09-13T12:31:37.427Z"
   },
   {
    "duration": 0,
    "start_time": "2024-09-13T12:31:37.428Z"
   },
   {
    "duration": 0,
    "start_time": "2024-09-13T12:31:37.429Z"
   },
   {
    "duration": 0,
    "start_time": "2024-09-13T12:31:37.430Z"
   },
   {
    "duration": 0,
    "start_time": "2024-09-13T12:31:37.431Z"
   },
   {
    "duration": 0,
    "start_time": "2024-09-13T12:31:37.452Z"
   },
   {
    "duration": 0,
    "start_time": "2024-09-13T12:31:37.453Z"
   },
   {
    "duration": 0,
    "start_time": "2024-09-13T12:31:37.454Z"
   },
   {
    "duration": 0,
    "start_time": "2024-09-13T12:31:37.455Z"
   },
   {
    "duration": 0,
    "start_time": "2024-09-13T12:31:37.456Z"
   },
   {
    "duration": 0,
    "start_time": "2024-09-13T12:31:37.457Z"
   },
   {
    "duration": 0,
    "start_time": "2024-09-13T12:31:37.459Z"
   },
   {
    "duration": 0,
    "start_time": "2024-09-13T12:31:37.460Z"
   },
   {
    "duration": 0,
    "start_time": "2024-09-13T12:31:37.461Z"
   },
   {
    "duration": 0,
    "start_time": "2024-09-13T12:31:37.461Z"
   },
   {
    "duration": 0,
    "start_time": "2024-09-13T12:31:37.462Z"
   },
   {
    "duration": 24,
    "start_time": "2024-09-13T12:32:00.911Z"
   },
   {
    "duration": 1215,
    "start_time": "2024-09-13T12:32:06.465Z"
   },
   {
    "duration": 81,
    "start_time": "2024-09-13T12:32:07.682Z"
   },
   {
    "duration": 16,
    "start_time": "2024-09-13T12:32:07.765Z"
   },
   {
    "duration": 71,
    "start_time": "2024-09-13T12:32:07.783Z"
   },
   {
    "duration": 7,
    "start_time": "2024-09-13T12:32:07.856Z"
   },
   {
    "duration": 12,
    "start_time": "2024-09-13T12:32:07.864Z"
   },
   {
    "duration": 3,
    "start_time": "2024-09-13T12:32:07.878Z"
   },
   {
    "duration": 12,
    "start_time": "2024-09-13T12:32:07.882Z"
   },
   {
    "duration": 26,
    "start_time": "2024-09-13T12:32:07.895Z"
   },
   {
    "duration": 16,
    "start_time": "2024-09-13T12:32:07.923Z"
   },
   {
    "duration": 2313,
    "start_time": "2024-09-13T12:32:07.940Z"
   },
   {
    "duration": 5,
    "start_time": "2024-09-13T12:32:10.254Z"
   },
   {
    "duration": 5,
    "start_time": "2024-09-13T12:32:10.260Z"
   },
   {
    "duration": 8,
    "start_time": "2024-09-13T12:32:10.268Z"
   },
   {
    "duration": 21,
    "start_time": "2024-09-13T12:32:10.277Z"
   },
   {
    "duration": 12,
    "start_time": "2024-09-13T12:32:10.351Z"
   },
   {
    "duration": 239,
    "start_time": "2024-09-13T12:32:10.365Z"
   },
   {
    "duration": 202,
    "start_time": "2024-09-13T12:32:10.605Z"
   },
   {
    "duration": 270,
    "start_time": "2024-09-13T12:32:10.809Z"
   },
   {
    "duration": 204,
    "start_time": "2024-09-13T12:32:11.080Z"
   },
   {
    "duration": 8,
    "start_time": "2024-09-13T12:32:11.285Z"
   },
   {
    "duration": 107,
    "start_time": "2024-09-13T12:32:11.294Z"
   },
   {
    "duration": 105,
    "start_time": "2024-09-13T12:32:11.403Z"
   },
   {
    "duration": 181,
    "start_time": "2024-09-13T12:32:11.510Z"
   },
   {
    "duration": 153,
    "start_time": "2024-09-13T12:32:11.692Z"
   },
   {
    "duration": 107,
    "start_time": "2024-09-13T12:32:11.846Z"
   },
   {
    "duration": 101,
    "start_time": "2024-09-13T12:32:11.955Z"
   },
   {
    "duration": 101,
    "start_time": "2024-09-13T12:32:12.057Z"
   },
   {
    "duration": 1268,
    "start_time": "2024-09-13T12:32:12.160Z"
   },
   {
    "duration": 3313,
    "start_time": "2024-09-13T12:32:13.430Z"
   },
   {
    "duration": 1486,
    "start_time": "2024-09-13T12:32:16.751Z"
   },
   {
    "duration": 24,
    "start_time": "2024-09-13T12:32:18.239Z"
   },
   {
    "duration": 9,
    "start_time": "2024-09-13T12:32:18.264Z"
   },
   {
    "duration": 7,
    "start_time": "2024-09-13T12:32:18.274Z"
   },
   {
    "duration": 8,
    "start_time": "2024-09-13T12:32:18.284Z"
   },
   {
    "duration": 8,
    "start_time": "2024-09-13T12:32:18.293Z"
   },
   {
    "duration": 63,
    "start_time": "2024-09-13T12:32:18.303Z"
   },
   {
    "duration": 23,
    "start_time": "2024-09-13T12:32:18.368Z"
   },
   {
    "duration": 24,
    "start_time": "2024-09-13T12:32:18.393Z"
   },
   {
    "duration": 1399,
    "start_time": "2024-09-13T12:36:59.587Z"
   },
   {
    "duration": 1270,
    "start_time": "2024-09-13T12:37:41.932Z"
   },
   {
    "duration": 82,
    "start_time": "2024-09-13T12:37:43.204Z"
   },
   {
    "duration": 17,
    "start_time": "2024-09-13T12:37:43.287Z"
   },
   {
    "duration": 16,
    "start_time": "2024-09-13T12:37:43.305Z"
   },
   {
    "duration": 3,
    "start_time": "2024-09-13T12:37:43.323Z"
   },
   {
    "duration": 13,
    "start_time": "2024-09-13T12:37:43.327Z"
   },
   {
    "duration": 10,
    "start_time": "2024-09-13T12:37:43.341Z"
   },
   {
    "duration": 4,
    "start_time": "2024-09-13T12:37:43.352Z"
   },
   {
    "duration": 19,
    "start_time": "2024-09-13T12:37:43.357Z"
   },
   {
    "duration": 16,
    "start_time": "2024-09-13T12:37:43.378Z"
   },
   {
    "duration": 1580,
    "start_time": "2024-09-13T12:37:43.396Z"
   },
   {
    "duration": 4,
    "start_time": "2024-09-13T12:37:44.978Z"
   },
   {
    "duration": 8,
    "start_time": "2024-09-13T12:37:44.983Z"
   },
   {
    "duration": 45,
    "start_time": "2024-09-13T12:37:44.993Z"
   },
   {
    "duration": 43,
    "start_time": "2024-09-13T12:37:45.040Z"
   },
   {
    "duration": 11,
    "start_time": "2024-09-13T12:37:45.085Z"
   },
   {
    "duration": 237,
    "start_time": "2024-09-13T12:37:45.098Z"
   },
   {
    "duration": 208,
    "start_time": "2024-09-13T12:37:45.336Z"
   },
   {
    "duration": 285,
    "start_time": "2024-09-13T12:37:45.545Z"
   },
   {
    "duration": 205,
    "start_time": "2024-09-13T12:37:45.832Z"
   },
   {
    "duration": 14,
    "start_time": "2024-09-13T12:37:46.038Z"
   },
   {
    "duration": 99,
    "start_time": "2024-09-13T12:37:46.053Z"
   },
   {
    "duration": 110,
    "start_time": "2024-09-13T12:37:46.154Z"
   },
   {
    "duration": 187,
    "start_time": "2024-09-13T12:37:46.265Z"
   },
   {
    "duration": 147,
    "start_time": "2024-09-13T12:37:46.453Z"
   },
   {
    "duration": 99,
    "start_time": "2024-09-13T12:37:46.602Z"
   },
   {
    "duration": 166,
    "start_time": "2024-09-13T12:37:46.703Z"
   },
   {
    "duration": 200,
    "start_time": "2024-09-13T12:37:46.871Z"
   },
   {
    "duration": 1822,
    "start_time": "2024-09-13T12:37:47.073Z"
   },
   {
    "duration": 3458,
    "start_time": "2024-09-13T12:37:48.897Z"
   },
   {
    "duration": 1382,
    "start_time": "2024-09-13T12:37:52.356Z"
   },
   {
    "duration": 27,
    "start_time": "2024-09-13T12:37:53.740Z"
   },
   {
    "duration": 88,
    "start_time": "2024-09-13T12:37:53.768Z"
   },
   {
    "duration": 21,
    "start_time": "2024-09-13T12:37:53.857Z"
   },
   {
    "duration": 10,
    "start_time": "2024-09-13T12:37:53.880Z"
   },
   {
    "duration": 28,
    "start_time": "2024-09-13T12:37:53.891Z"
   },
   {
    "duration": 55,
    "start_time": "2024-09-13T12:37:53.921Z"
   },
   {
    "duration": 50,
    "start_time": "2024-09-13T12:37:53.980Z"
   },
   {
    "duration": 32,
    "start_time": "2024-09-13T12:37:54.032Z"
   },
   {
    "duration": 1341,
    "start_time": "2024-09-13T12:43:21.203Z"
   },
   {
    "duration": 1445,
    "start_time": "2024-09-13T12:43:28.227Z"
   },
   {
    "duration": 854,
    "start_time": "2024-09-13T12:49:10.736Z"
   },
   {
    "duration": 919,
    "start_time": "2024-09-13T12:49:40.389Z"
   },
   {
    "duration": 298,
    "start_time": "2024-09-13T12:52:31.887Z"
   },
   {
    "duration": 201,
    "start_time": "2024-09-13T12:53:38.263Z"
   },
   {
    "duration": 275,
    "start_time": "2024-09-13T12:53:47.379Z"
   },
   {
    "duration": 281,
    "start_time": "2024-09-13T12:54:49.063Z"
   },
   {
    "duration": 371,
    "start_time": "2024-09-13T12:54:55.706Z"
   },
   {
    "duration": 281,
    "start_time": "2024-09-13T12:55:02.706Z"
   },
   {
    "duration": 374,
    "start_time": "2024-09-13T12:55:25.225Z"
   },
   {
    "duration": 284,
    "start_time": "2024-09-13T12:56:28.160Z"
   },
   {
    "duration": 241,
    "start_time": "2024-09-13T12:56:45.228Z"
   },
   {
    "duration": 320,
    "start_time": "2024-09-13T13:03:13.604Z"
   },
   {
    "duration": 382,
    "start_time": "2024-09-13T13:03:44.098Z"
   },
   {
    "duration": 305,
    "start_time": "2024-09-13T13:03:49.242Z"
   },
   {
    "duration": 305,
    "start_time": "2024-09-13T13:03:58.378Z"
   },
   {
    "duration": 282,
    "start_time": "2024-09-13T13:04:04.408Z"
   },
   {
    "duration": 295,
    "start_time": "2024-09-13T13:04:11.525Z"
   },
   {
    "duration": 297,
    "start_time": "2024-09-13T13:04:21.833Z"
   },
   {
    "duration": 385,
    "start_time": "2024-09-13T13:04:26.176Z"
   },
   {
    "duration": 278,
    "start_time": "2024-09-13T13:04:30.922Z"
   },
   {
    "duration": 3490,
    "start_time": "2024-09-13T13:08:40.266Z"
   },
   {
    "duration": 3120,
    "start_time": "2024-09-13T13:09:24.842Z"
   },
   {
    "duration": 3224,
    "start_time": "2024-09-13T13:09:37.498Z"
   },
   {
    "duration": 47,
    "start_time": "2024-09-13T13:12:21.637Z"
   },
   {
    "duration": 1289,
    "start_time": "2024-09-13T13:12:32.417Z"
   },
   {
    "duration": 73,
    "start_time": "2024-09-13T13:12:33.708Z"
   },
   {
    "duration": 16,
    "start_time": "2024-09-13T13:12:33.783Z"
   },
   {
    "duration": 12,
    "start_time": "2024-09-13T13:12:33.800Z"
   },
   {
    "duration": 6,
    "start_time": "2024-09-13T13:12:33.814Z"
   },
   {
    "duration": 9,
    "start_time": "2024-09-13T13:12:33.821Z"
   },
   {
    "duration": 5,
    "start_time": "2024-09-13T13:12:33.832Z"
   },
   {
    "duration": 14,
    "start_time": "2024-09-13T13:12:33.838Z"
   },
   {
    "duration": 126,
    "start_time": "2024-09-13T13:12:33.854Z"
   },
   {
    "duration": 18,
    "start_time": "2024-09-13T13:12:33.983Z"
   },
   {
    "duration": 1799,
    "start_time": "2024-09-13T13:12:34.002Z"
   },
   {
    "duration": 51,
    "start_time": "2024-09-13T13:12:35.802Z"
   },
   {
    "duration": 97,
    "start_time": "2024-09-13T13:12:35.855Z"
   },
   {
    "duration": 7,
    "start_time": "2024-09-13T13:12:35.955Z"
   },
   {
    "duration": 23,
    "start_time": "2024-09-13T13:12:35.963Z"
   },
   {
    "duration": 65,
    "start_time": "2024-09-13T13:12:35.987Z"
   },
   {
    "duration": 106,
    "start_time": "2024-09-13T13:12:36.054Z"
   },
   {
    "duration": 493,
    "start_time": "2024-09-13T13:12:36.162Z"
   },
   {
    "duration": 220,
    "start_time": "2024-09-13T13:12:36.656Z"
   },
   {
    "duration": 282,
    "start_time": "2024-09-13T13:12:36.877Z"
   },
   {
    "duration": 210,
    "start_time": "2024-09-13T13:12:37.161Z"
   },
   {
    "duration": 8,
    "start_time": "2024-09-13T13:12:37.372Z"
   },
   {
    "duration": 107,
    "start_time": "2024-09-13T13:12:37.381Z"
   },
   {
    "duration": 114,
    "start_time": "2024-09-13T13:12:37.489Z"
   },
   {
    "duration": 188,
    "start_time": "2024-09-13T13:12:37.604Z"
   },
   {
    "duration": 148,
    "start_time": "2024-09-13T13:12:37.794Z"
   },
   {
    "duration": 102,
    "start_time": "2024-09-13T13:12:37.951Z"
   },
   {
    "duration": 103,
    "start_time": "2024-09-13T13:12:38.055Z"
   },
   {
    "duration": 107,
    "start_time": "2024-09-13T13:12:38.160Z"
   },
   {
    "duration": 286,
    "start_time": "2024-09-13T13:12:38.268Z"
   },
   {
    "duration": 469,
    "start_time": "2024-09-13T13:12:38.556Z"
   },
   {
    "duration": 321,
    "start_time": "2024-09-13T13:12:39.026Z"
   },
   {
    "duration": 3384,
    "start_time": "2024-09-13T13:12:39.349Z"
   },
   {
    "duration": 1472,
    "start_time": "2024-09-13T13:12:42.735Z"
   },
   {
    "duration": 26,
    "start_time": "2024-09-13T13:12:44.209Z"
   },
   {
    "duration": 13,
    "start_time": "2024-09-13T13:12:44.252Z"
   },
   {
    "duration": 12,
    "start_time": "2024-09-13T13:12:44.266Z"
   },
   {
    "duration": 9,
    "start_time": "2024-09-13T13:12:44.279Z"
   },
   {
    "duration": 31,
    "start_time": "2024-09-13T13:12:44.289Z"
   },
   {
    "duration": 30,
    "start_time": "2024-09-13T13:12:44.322Z"
   },
   {
    "duration": 24,
    "start_time": "2024-09-13T13:12:44.356Z"
   },
   {
    "duration": 24,
    "start_time": "2024-09-13T13:12:44.382Z"
   },
   {
    "duration": 1304,
    "start_time": "2024-09-13T13:14:31.890Z"
   },
   {
    "duration": 78,
    "start_time": "2024-09-13T13:14:33.196Z"
   },
   {
    "duration": 18,
    "start_time": "2024-09-13T13:14:33.276Z"
   },
   {
    "duration": 20,
    "start_time": "2024-09-13T13:14:33.296Z"
   },
   {
    "duration": 3,
    "start_time": "2024-09-13T13:14:33.318Z"
   },
   {
    "duration": 34,
    "start_time": "2024-09-13T13:14:33.323Z"
   },
   {
    "duration": 9,
    "start_time": "2024-09-13T13:14:33.359Z"
   },
   {
    "duration": 15,
    "start_time": "2024-09-13T13:14:33.370Z"
   },
   {
    "duration": 39,
    "start_time": "2024-09-13T13:14:33.387Z"
   },
   {
    "duration": 18,
    "start_time": "2024-09-13T13:14:33.428Z"
   },
   {
    "duration": 2377,
    "start_time": "2024-09-13T13:14:33.448Z"
   },
   {
    "duration": 6,
    "start_time": "2024-09-13T13:14:35.827Z"
   },
   {
    "duration": 9,
    "start_time": "2024-09-13T13:14:35.834Z"
   },
   {
    "duration": 38,
    "start_time": "2024-09-13T13:14:35.845Z"
   },
   {
    "duration": 86,
    "start_time": "2024-09-13T13:14:35.884Z"
   },
   {
    "duration": 17,
    "start_time": "2024-09-13T13:14:35.972Z"
   },
   {
    "duration": 51,
    "start_time": "2024-09-13T13:14:35.990Z"
   },
   {
    "duration": 243,
    "start_time": "2024-09-13T13:14:36.043Z"
   },
   {
    "duration": 204,
    "start_time": "2024-09-13T13:14:36.287Z"
   },
   {
    "duration": 285,
    "start_time": "2024-09-13T13:14:36.492Z"
   },
   {
    "duration": 202,
    "start_time": "2024-09-13T13:14:36.778Z"
   },
   {
    "duration": 99,
    "start_time": "2024-09-13T13:14:36.982Z"
   },
   {
    "duration": 110,
    "start_time": "2024-09-13T13:14:37.082Z"
   },
   {
    "duration": 170,
    "start_time": "2024-09-13T13:14:37.194Z"
   },
   {
    "duration": 151,
    "start_time": "2024-09-13T13:14:37.365Z"
   },
   {
    "duration": 107,
    "start_time": "2024-09-13T13:14:37.518Z"
   },
   {
    "duration": 95,
    "start_time": "2024-09-13T13:14:37.626Z"
   },
   {
    "duration": 110,
    "start_time": "2024-09-13T13:14:37.722Z"
   },
   {
    "duration": 314,
    "start_time": "2024-09-13T13:14:37.833Z"
   },
   {
    "duration": 468,
    "start_time": "2024-09-13T13:14:38.148Z"
   },
   {
    "duration": 307,
    "start_time": "2024-09-13T13:14:38.618Z"
   },
   {
    "duration": 3345,
    "start_time": "2024-09-13T13:14:38.927Z"
   },
   {
    "duration": 1393,
    "start_time": "2024-09-13T13:14:42.274Z"
   },
   {
    "duration": 23,
    "start_time": "2024-09-13T13:14:43.669Z"
   },
   {
    "duration": 13,
    "start_time": "2024-09-13T13:14:43.693Z"
   },
   {
    "duration": 9,
    "start_time": "2024-09-13T13:14:43.707Z"
   },
   {
    "duration": 41,
    "start_time": "2024-09-13T13:14:43.717Z"
   },
   {
    "duration": 11,
    "start_time": "2024-09-13T13:14:43.760Z"
   },
   {
    "duration": 27,
    "start_time": "2024-09-13T13:14:43.772Z"
   },
   {
    "duration": 56,
    "start_time": "2024-09-13T13:14:43.801Z"
   },
   {
    "duration": 123,
    "start_time": "2024-09-13T13:14:43.860Z"
   },
   {
    "duration": 274,
    "start_time": "2024-09-13T13:17:23.626Z"
   },
   {
    "duration": 269,
    "start_time": "2024-09-13T13:17:37.738Z"
   },
   {
    "duration": 278,
    "start_time": "2024-09-13T13:17:42.266Z"
   },
   {
    "duration": 372,
    "start_time": "2024-09-13T13:17:52.346Z"
   },
   {
    "duration": 282,
    "start_time": "2024-09-13T13:18:04.971Z"
   },
   {
    "duration": 1070,
    "start_time": "2024-09-13T13:18:18.543Z"
   },
   {
    "duration": 1803,
    "start_time": "2024-09-13T13:18:27.123Z"
   },
   {
    "duration": 1733,
    "start_time": "2024-09-13T13:18:49.278Z"
   },
   {
    "duration": 2018,
    "start_time": "2024-09-13T13:18:57.729Z"
   },
   {
    "duration": 3470,
    "start_time": "2024-09-13T13:19:06.582Z"
   },
   {
    "duration": 3474,
    "start_time": "2024-09-13T13:19:51.984Z"
   },
   {
    "duration": 3599,
    "start_time": "2024-09-13T13:20:08.692Z"
   },
   {
    "duration": 3494,
    "start_time": "2024-09-13T13:20:22.670Z"
   },
   {
    "duration": 3597,
    "start_time": "2024-09-13T13:20:30.716Z"
   },
   {
    "duration": 344,
    "start_time": "2024-09-13T13:20:37.683Z"
   },
   {
    "duration": 395,
    "start_time": "2024-09-13T13:20:42.434Z"
   },
   {
    "duration": 1262,
    "start_time": "2024-09-13T13:20:56.538Z"
   },
   {
    "duration": 75,
    "start_time": "2024-09-13T13:20:57.802Z"
   },
   {
    "duration": 16,
    "start_time": "2024-09-13T13:20:57.879Z"
   },
   {
    "duration": 54,
    "start_time": "2024-09-13T13:20:57.896Z"
   },
   {
    "duration": 3,
    "start_time": "2024-09-13T13:20:57.952Z"
   },
   {
    "duration": 13,
    "start_time": "2024-09-13T13:20:57.957Z"
   },
   {
    "duration": 4,
    "start_time": "2024-09-13T13:20:57.972Z"
   },
   {
    "duration": 8,
    "start_time": "2024-09-13T13:20:57.977Z"
   },
   {
    "duration": 21,
    "start_time": "2024-09-13T13:20:57.986Z"
   },
   {
    "duration": 2164,
    "start_time": "2024-09-13T13:20:58.008Z"
   },
   {
    "duration": 5,
    "start_time": "2024-09-13T13:21:00.174Z"
   },
   {
    "duration": 19,
    "start_time": "2024-09-13T13:21:00.180Z"
   },
   {
    "duration": 19,
    "start_time": "2024-09-13T13:21:00.200Z"
   },
   {
    "duration": 54,
    "start_time": "2024-09-13T13:21:00.222Z"
   },
   {
    "duration": 20,
    "start_time": "2024-09-13T13:21:00.278Z"
   },
   {
    "duration": 345,
    "start_time": "2024-09-13T13:21:00.299Z"
   },
   {
    "duration": 206,
    "start_time": "2024-09-13T13:21:00.646Z"
   },
   {
    "duration": 292,
    "start_time": "2024-09-13T13:21:00.854Z"
   },
   {
    "duration": 207,
    "start_time": "2024-09-13T13:21:01.152Z"
   },
   {
    "duration": 100,
    "start_time": "2024-09-13T13:21:01.361Z"
   },
   {
    "duration": 125,
    "start_time": "2024-09-13T13:21:01.463Z"
   },
   {
    "duration": 169,
    "start_time": "2024-09-13T13:21:01.590Z"
   },
   {
    "duration": 160,
    "start_time": "2024-09-13T13:21:01.761Z"
   },
   {
    "duration": 101,
    "start_time": "2024-09-13T13:21:01.922Z"
   },
   {
    "duration": 102,
    "start_time": "2024-09-13T13:21:02.025Z"
   },
   {
    "duration": 111,
    "start_time": "2024-09-13T13:21:02.129Z"
   },
   {
    "duration": 320,
    "start_time": "2024-09-13T13:21:02.242Z"
   },
   {
    "duration": 461,
    "start_time": "2024-09-13T13:21:02.563Z"
   },
   {
    "duration": 3369,
    "start_time": "2024-09-13T13:21:03.025Z"
   },
   {
    "duration": 413,
    "start_time": "2024-09-13T13:21:06.395Z"
   },
   {
    "duration": 3466,
    "start_time": "2024-09-13T13:21:06.809Z"
   },
   {
    "duration": 1362,
    "start_time": "2024-09-13T13:21:10.276Z"
   },
   {
    "duration": 32,
    "start_time": "2024-09-13T13:21:11.639Z"
   },
   {
    "duration": 10,
    "start_time": "2024-09-13T13:21:11.672Z"
   },
   {
    "duration": 7,
    "start_time": "2024-09-13T13:21:11.684Z"
   },
   {
    "duration": 24,
    "start_time": "2024-09-13T13:21:11.693Z"
   },
   {
    "duration": 8,
    "start_time": "2024-09-13T13:21:11.719Z"
   },
   {
    "duration": 25,
    "start_time": "2024-09-13T13:21:11.753Z"
   },
   {
    "duration": 24,
    "start_time": "2024-09-13T13:21:11.780Z"
   },
   {
    "duration": 49,
    "start_time": "2024-09-13T13:21:11.805Z"
   },
   {
    "duration": 508,
    "start_time": "2024-09-13T13:22:00.001Z"
   },
   {
    "duration": 403,
    "start_time": "2024-09-13T13:27:06.793Z"
   },
   {
    "duration": 390,
    "start_time": "2024-09-13T13:27:15.618Z"
   },
   {
    "duration": 389,
    "start_time": "2024-09-13T13:27:22.912Z"
   },
   {
    "duration": 396,
    "start_time": "2024-09-13T13:27:28.379Z"
   },
   {
    "duration": 489,
    "start_time": "2024-09-13T13:27:34.720Z"
   },
   {
    "duration": 54,
    "start_time": "2024-09-13T13:27:39.266Z"
   },
   {
    "duration": 384,
    "start_time": "2024-09-13T13:27:43.105Z"
   },
   {
    "duration": 58,
    "start_time": "2024-09-13T13:33:49.358Z"
   },
   {
    "duration": 24,
    "start_time": "2024-09-13T13:38:01.070Z"
   },
   {
    "duration": 1288,
    "start_time": "2024-09-13T13:40:02.875Z"
   },
   {
    "duration": 158,
    "start_time": "2024-09-13T13:40:04.165Z"
   },
   {
    "duration": 16,
    "start_time": "2024-09-13T13:40:04.325Z"
   },
   {
    "duration": 30,
    "start_time": "2024-09-13T13:40:04.342Z"
   },
   {
    "duration": 3,
    "start_time": "2024-09-13T13:40:04.375Z"
   },
   {
    "duration": 8,
    "start_time": "2024-09-13T13:40:04.379Z"
   },
   {
    "duration": 17,
    "start_time": "2024-09-13T13:40:04.388Z"
   },
   {
    "duration": 13,
    "start_time": "2024-09-13T13:40:04.406Z"
   },
   {
    "duration": 20,
    "start_time": "2024-09-13T13:40:04.421Z"
   },
   {
    "duration": 1589,
    "start_time": "2024-09-13T13:40:04.443Z"
   },
   {
    "duration": 5,
    "start_time": "2024-09-13T13:40:06.034Z"
   },
   {
    "duration": 15,
    "start_time": "2024-09-13T13:40:06.041Z"
   },
   {
    "duration": 7,
    "start_time": "2024-09-13T13:40:06.057Z"
   },
   {
    "duration": 23,
    "start_time": "2024-09-13T13:40:06.067Z"
   },
   {
    "duration": 12,
    "start_time": "2024-09-13T13:40:06.092Z"
   },
   {
    "duration": 250,
    "start_time": "2024-09-13T13:40:06.105Z"
   },
   {
    "duration": 209,
    "start_time": "2024-09-13T13:40:06.356Z"
   },
   {
    "duration": 287,
    "start_time": "2024-09-13T13:40:06.567Z"
   },
   {
    "duration": 210,
    "start_time": "2024-09-13T13:40:06.855Z"
   },
   {
    "duration": 104,
    "start_time": "2024-09-13T13:40:07.067Z"
   },
   {
    "duration": 114,
    "start_time": "2024-09-13T13:40:07.172Z"
   },
   {
    "duration": 180,
    "start_time": "2024-09-13T13:40:07.287Z"
   },
   {
    "duration": 153,
    "start_time": "2024-09-13T13:40:07.469Z"
   },
   {
    "duration": 103,
    "start_time": "2024-09-13T13:40:07.624Z"
   },
   {
    "duration": 105,
    "start_time": "2024-09-13T13:40:07.729Z"
   },
   {
    "duration": 107,
    "start_time": "2024-09-13T13:40:07.836Z"
   },
   {
    "duration": 323,
    "start_time": "2024-09-13T13:40:07.951Z"
   },
   {
    "duration": 904,
    "start_time": "2024-09-13T13:40:08.276Z"
   },
   {
    "duration": 3813,
    "start_time": "2024-09-13T13:40:09.182Z"
   },
   {
    "duration": 420,
    "start_time": "2024-09-13T13:40:12.996Z"
   },
   {
    "duration": 3540,
    "start_time": "2024-09-13T13:40:13.418Z"
   },
   {
    "duration": 1380,
    "start_time": "2024-09-13T13:40:16.959Z"
   },
   {
    "duration": 17,
    "start_time": "2024-09-13T13:40:18.341Z"
   },
   {
    "duration": 8,
    "start_time": "2024-09-13T13:40:18.359Z"
   },
   {
    "duration": 21,
    "start_time": "2024-09-13T13:40:18.368Z"
   },
   {
    "duration": 11,
    "start_time": "2024-09-13T13:40:18.390Z"
   },
   {
    "duration": 43,
    "start_time": "2024-09-13T13:40:18.402Z"
   },
   {
    "duration": 23,
    "start_time": "2024-09-13T13:40:18.452Z"
   },
   {
    "duration": 25,
    "start_time": "2024-09-13T13:40:18.476Z"
   },
   {
    "duration": 8,
    "start_time": "2024-09-13T13:40:52.264Z"
   },
   {
    "duration": 7,
    "start_time": "2024-09-13T13:40:57.522Z"
   },
   {
    "duration": 7,
    "start_time": "2024-09-13T13:41:08.923Z"
   },
   {
    "duration": 109,
    "start_time": "2024-09-13T13:41:13.391Z"
   },
   {
    "duration": 57,
    "start_time": "2024-09-13T13:41:17.590Z"
   },
   {
    "duration": 7,
    "start_time": "2024-09-13T13:41:23.722Z"
   },
   {
    "duration": 12,
    "start_time": "2024-09-13T13:41:56.662Z"
   },
   {
    "duration": 55,
    "start_time": "2024-09-13T13:41:59.459Z"
   },
   {
    "duration": 6,
    "start_time": "2024-09-13T13:42:02.475Z"
   },
   {
    "duration": 7,
    "start_time": "2024-09-13T13:42:06.563Z"
   },
   {
    "duration": 7,
    "start_time": "2024-09-13T13:42:09.783Z"
   },
   {
    "duration": 10,
    "start_time": "2024-09-13T13:44:16.200Z"
   },
   {
    "duration": 9,
    "start_time": "2024-09-13T13:44:28.639Z"
   },
   {
    "duration": 25,
    "start_time": "2024-09-13T13:44:35.989Z"
   },
   {
    "duration": 17,
    "start_time": "2024-09-13T13:44:41.709Z"
   },
   {
    "duration": 16,
    "start_time": "2024-09-13T13:45:04.352Z"
   },
   {
    "duration": 7,
    "start_time": "2024-09-13T13:45:07.636Z"
   },
   {
    "duration": 12,
    "start_time": "2024-09-13T13:45:15.841Z"
   },
   {
    "duration": 1348,
    "start_time": "2024-09-13T13:45:20.432Z"
   },
   {
    "duration": 81,
    "start_time": "2024-09-13T13:45:21.782Z"
   },
   {
    "duration": 16,
    "start_time": "2024-09-13T13:45:21.865Z"
   },
   {
    "duration": 14,
    "start_time": "2024-09-13T13:45:21.883Z"
   },
   {
    "duration": 3,
    "start_time": "2024-09-13T13:45:21.899Z"
   },
   {
    "duration": 15,
    "start_time": "2024-09-13T13:45:21.904Z"
   },
   {
    "duration": 4,
    "start_time": "2024-09-13T13:45:21.921Z"
   },
   {
    "duration": 8,
    "start_time": "2024-09-13T13:45:21.927Z"
   },
   {
    "duration": 107,
    "start_time": "2024-09-13T13:45:21.937Z"
   },
   {
    "duration": 1647,
    "start_time": "2024-09-13T13:45:22.046Z"
   },
   {
    "duration": 5,
    "start_time": "2024-09-13T13:45:23.694Z"
   },
   {
    "duration": 7,
    "start_time": "2024-09-13T13:45:23.700Z"
   },
   {
    "duration": 15,
    "start_time": "2024-09-13T13:45:23.708Z"
   },
   {
    "duration": 25,
    "start_time": "2024-09-13T13:45:23.725Z"
   },
   {
    "duration": 14,
    "start_time": "2024-09-13T13:45:23.752Z"
   },
   {
    "duration": 323,
    "start_time": "2024-09-13T13:45:23.769Z"
   },
   {
    "duration": 223,
    "start_time": "2024-09-13T13:45:24.094Z"
   },
   {
    "duration": 301,
    "start_time": "2024-09-13T13:45:24.320Z"
   },
   {
    "duration": 220,
    "start_time": "2024-09-13T13:45:24.622Z"
   },
   {
    "duration": 108,
    "start_time": "2024-09-13T13:45:24.844Z"
   },
   {
    "duration": 115,
    "start_time": "2024-09-13T13:45:24.954Z"
   },
   {
    "duration": 186,
    "start_time": "2024-09-13T13:45:25.071Z"
   },
   {
    "duration": 169,
    "start_time": "2024-09-13T13:45:25.259Z"
   },
   {
    "duration": 108,
    "start_time": "2024-09-13T13:45:25.430Z"
   },
   {
    "duration": 105,
    "start_time": "2024-09-13T13:45:25.540Z"
   },
   {
    "duration": 110,
    "start_time": "2024-09-13T13:45:25.646Z"
   },
   {
    "duration": 334,
    "start_time": "2024-09-13T13:45:25.757Z"
   },
   {
    "duration": 505,
    "start_time": "2024-09-13T13:45:26.094Z"
   },
   {
    "duration": 3282,
    "start_time": "2024-09-13T13:45:26.600Z"
   },
   {
    "duration": 404,
    "start_time": "2024-09-13T13:45:29.884Z"
   },
   {
    "duration": 3483,
    "start_time": "2024-09-13T13:45:30.289Z"
   },
   {
    "duration": 1409,
    "start_time": "2024-09-13T13:45:33.773Z"
   },
   {
    "duration": 12,
    "start_time": "2024-09-13T13:45:35.184Z"
   },
   {
    "duration": 19,
    "start_time": "2024-09-13T13:45:35.198Z"
   },
   {
    "duration": 36,
    "start_time": "2024-09-13T13:45:35.218Z"
   },
   {
    "duration": 8,
    "start_time": "2024-09-13T13:45:35.255Z"
   },
   {
    "duration": 24,
    "start_time": "2024-09-13T13:45:35.264Z"
   },
   {
    "duration": 26,
    "start_time": "2024-09-13T13:45:35.289Z"
   },
   {
    "duration": 51,
    "start_time": "2024-09-13T13:45:35.316Z"
   },
   {
    "duration": 28,
    "start_time": "2024-09-13T13:45:45.978Z"
   },
   {
    "duration": 21,
    "start_time": "2024-09-13T13:46:34.314Z"
   },
   {
    "duration": 7,
    "start_time": "2024-09-13T13:46:38.810Z"
   },
   {
    "duration": 17,
    "start_time": "2024-09-13T13:47:29.357Z"
   },
   {
    "duration": 112,
    "start_time": "2024-09-13T13:48:05.746Z"
   },
   {
    "duration": 10,
    "start_time": "2024-09-13T13:48:18.110Z"
   },
   {
    "duration": 11,
    "start_time": "2024-09-13T13:48:45.515Z"
   },
   {
    "duration": 11,
    "start_time": "2024-09-13T13:48:55.701Z"
   },
   {
    "duration": 11,
    "start_time": "2024-09-13T13:49:03.946Z"
   },
   {
    "duration": 15,
    "start_time": "2024-09-13T13:49:07.459Z"
   },
   {
    "duration": 1286,
    "start_time": "2024-09-13T13:49:21.751Z"
   },
   {
    "duration": 63,
    "start_time": "2024-09-13T13:49:23.039Z"
   },
   {
    "duration": 16,
    "start_time": "2024-09-13T13:49:23.104Z"
   },
   {
    "duration": 13,
    "start_time": "2024-09-13T13:49:23.121Z"
   },
   {
    "duration": 3,
    "start_time": "2024-09-13T13:49:23.136Z"
   },
   {
    "duration": 10,
    "start_time": "2024-09-13T13:49:23.140Z"
   },
   {
    "duration": 3,
    "start_time": "2024-09-13T13:49:23.151Z"
   },
   {
    "duration": 23,
    "start_time": "2024-09-13T13:49:23.155Z"
   },
   {
    "duration": 22,
    "start_time": "2024-09-13T13:49:23.179Z"
   },
   {
    "duration": 1643,
    "start_time": "2024-09-13T13:49:23.202Z"
   },
   {
    "duration": 5,
    "start_time": "2024-09-13T13:49:24.846Z"
   },
   {
    "duration": 9,
    "start_time": "2024-09-13T13:49:24.852Z"
   },
   {
    "duration": 5,
    "start_time": "2024-09-13T13:49:24.863Z"
   },
   {
    "duration": 21,
    "start_time": "2024-09-13T13:49:24.871Z"
   },
   {
    "duration": 14,
    "start_time": "2024-09-13T13:49:24.893Z"
   },
   {
    "duration": 251,
    "start_time": "2024-09-13T13:49:24.908Z"
   },
   {
    "duration": 204,
    "start_time": "2024-09-13T13:49:25.161Z"
   },
   {
    "duration": 289,
    "start_time": "2024-09-13T13:49:25.366Z"
   },
   {
    "duration": 206,
    "start_time": "2024-09-13T13:49:25.656Z"
   },
   {
    "duration": 100,
    "start_time": "2024-09-13T13:49:25.863Z"
   },
   {
    "duration": 119,
    "start_time": "2024-09-13T13:49:25.965Z"
   },
   {
    "duration": 180,
    "start_time": "2024-09-13T13:49:26.086Z"
   },
   {
    "duration": 155,
    "start_time": "2024-09-13T13:49:26.267Z"
   },
   {
    "duration": 102,
    "start_time": "2024-09-13T13:49:26.423Z"
   },
   {
    "duration": 101,
    "start_time": "2024-09-13T13:49:26.527Z"
   },
   {
    "duration": 107,
    "start_time": "2024-09-13T13:49:26.630Z"
   },
   {
    "duration": 304,
    "start_time": "2024-09-13T13:49:26.739Z"
   },
   {
    "duration": 479,
    "start_time": "2024-09-13T13:49:27.051Z"
   },
   {
    "duration": 4051,
    "start_time": "2024-09-13T13:49:27.532Z"
   },
   {
    "duration": 417,
    "start_time": "2024-09-13T13:49:31.585Z"
   },
   {
    "duration": 3564,
    "start_time": "2024-09-13T13:49:32.003Z"
   },
   {
    "duration": 1368,
    "start_time": "2024-09-13T13:49:35.569Z"
   },
   {
    "duration": 29,
    "start_time": "2024-09-13T13:49:36.939Z"
   },
   {
    "duration": 63,
    "start_time": "2024-09-13T13:49:36.970Z"
   },
   {
    "duration": 12,
    "start_time": "2024-09-13T13:49:37.034Z"
   },
   {
    "duration": 6,
    "start_time": "2024-09-13T13:49:37.048Z"
   },
   {
    "duration": 23,
    "start_time": "2024-09-13T13:49:37.056Z"
   },
   {
    "duration": 25,
    "start_time": "2024-09-13T13:49:37.080Z"
   },
   {
    "duration": 54,
    "start_time": "2024-09-13T13:49:37.106Z"
   },
   {
    "duration": 27,
    "start_time": "2024-09-13T13:55:08.562Z"
   },
   {
    "duration": 25,
    "start_time": "2024-09-13T13:55:39.066Z"
   },
   {
    "duration": 1302,
    "start_time": "2024-09-13T14:04:01.824Z"
   },
   {
    "duration": 81,
    "start_time": "2024-09-13T14:04:03.128Z"
   },
   {
    "duration": 17,
    "start_time": "2024-09-13T14:04:03.210Z"
   },
   {
    "duration": 18,
    "start_time": "2024-09-13T14:04:03.229Z"
   },
   {
    "duration": 3,
    "start_time": "2024-09-13T14:04:03.249Z"
   },
   {
    "duration": 20,
    "start_time": "2024-09-13T14:04:03.253Z"
   },
   {
    "duration": 5,
    "start_time": "2024-09-13T14:04:03.274Z"
   },
   {
    "duration": 6,
    "start_time": "2024-09-13T14:04:03.280Z"
   },
   {
    "duration": 37,
    "start_time": "2024-09-13T14:04:03.288Z"
   },
   {
    "duration": 2468,
    "start_time": "2024-09-13T14:04:03.328Z"
   },
   {
    "duration": 5,
    "start_time": "2024-09-13T14:04:05.798Z"
   },
   {
    "duration": 34,
    "start_time": "2024-09-13T14:04:05.804Z"
   },
   {
    "duration": 15,
    "start_time": "2024-09-13T14:04:05.840Z"
   },
   {
    "duration": 30,
    "start_time": "2024-09-13T14:04:05.856Z"
   },
   {
    "duration": 14,
    "start_time": "2024-09-13T14:04:05.888Z"
   },
   {
    "duration": 262,
    "start_time": "2024-09-13T14:04:05.903Z"
   },
   {
    "duration": 227,
    "start_time": "2024-09-13T14:04:06.167Z"
   },
   {
    "duration": 304,
    "start_time": "2024-09-13T14:04:06.395Z"
   },
   {
    "duration": 216,
    "start_time": "2024-09-13T14:04:06.700Z"
   },
   {
    "duration": 107,
    "start_time": "2024-09-13T14:04:06.918Z"
   },
   {
    "duration": 119,
    "start_time": "2024-09-13T14:04:07.026Z"
   },
   {
    "duration": 194,
    "start_time": "2024-09-13T14:04:07.146Z"
   },
   {
    "duration": 154,
    "start_time": "2024-09-13T14:04:07.341Z"
   },
   {
    "duration": 104,
    "start_time": "2024-09-13T14:04:07.496Z"
   },
   {
    "duration": 101,
    "start_time": "2024-09-13T14:04:07.601Z"
   },
   {
    "duration": 112,
    "start_time": "2024-09-13T14:04:07.704Z"
   },
   {
    "duration": 321,
    "start_time": "2024-09-13T14:04:07.817Z"
   },
   {
    "duration": 490,
    "start_time": "2024-09-13T14:04:08.141Z"
   },
   {
    "duration": 3330,
    "start_time": "2024-09-13T14:04:08.633Z"
   },
   {
    "duration": 423,
    "start_time": "2024-09-13T14:04:11.965Z"
   },
   {
    "duration": 3575,
    "start_time": "2024-09-13T14:04:12.389Z"
   },
   {
    "duration": 1400,
    "start_time": "2024-09-13T14:04:15.966Z"
   },
   {
    "duration": 20,
    "start_time": "2024-09-13T14:04:17.368Z"
   },
   {
    "duration": 7,
    "start_time": "2024-09-13T14:04:17.390Z"
   },
   {
    "duration": 15,
    "start_time": "2024-09-13T14:04:17.399Z"
   },
   {
    "duration": 7,
    "start_time": "2024-09-13T14:04:17.415Z"
   },
   {
    "duration": 26,
    "start_time": "2024-09-13T14:04:17.453Z"
   },
   {
    "duration": 26,
    "start_time": "2024-09-13T14:04:17.481Z"
   },
   {
    "duration": 63,
    "start_time": "2024-09-13T14:04:17.509Z"
   },
   {
    "duration": 522,
    "start_time": "2024-09-13T14:12:32.973Z"
   },
   {
    "duration": 453,
    "start_time": "2024-09-13T14:12:43.119Z"
   },
   {
    "duration": 5247,
    "start_time": "2024-09-14T07:22:25.962Z"
   },
   {
    "duration": 148,
    "start_time": "2024-09-14T07:22:31.211Z"
   },
   {
    "duration": 15,
    "start_time": "2024-09-14T07:22:31.362Z"
   },
   {
    "duration": 27,
    "start_time": "2024-09-14T07:22:31.378Z"
   },
   {
    "duration": 8,
    "start_time": "2024-09-14T07:22:31.407Z"
   },
   {
    "duration": 14,
    "start_time": "2024-09-14T07:22:31.416Z"
   },
   {
    "duration": 5,
    "start_time": "2024-09-14T07:22:31.431Z"
   },
   {
    "duration": 5,
    "start_time": "2024-09-14T07:22:31.438Z"
   },
   {
    "duration": 32,
    "start_time": "2024-09-14T07:22:31.445Z"
   },
   {
    "duration": 1303,
    "start_time": "2024-09-14T07:22:31.478Z"
   },
   {
    "duration": 4,
    "start_time": "2024-09-14T07:22:32.783Z"
   },
   {
    "duration": 37,
    "start_time": "2024-09-14T07:22:32.788Z"
   },
   {
    "duration": 19,
    "start_time": "2024-09-14T07:22:32.826Z"
   },
   {
    "duration": 29,
    "start_time": "2024-09-14T07:22:32.846Z"
   },
   {
    "duration": 10,
    "start_time": "2024-09-14T07:22:32.876Z"
   },
   {
    "duration": 245,
    "start_time": "2024-09-14T07:22:32.887Z"
   },
   {
    "duration": 178,
    "start_time": "2024-09-14T07:22:33.134Z"
   },
   {
    "duration": 238,
    "start_time": "2024-09-14T07:22:33.313Z"
   },
   {
    "duration": 171,
    "start_time": "2024-09-14T07:22:33.552Z"
   },
   {
    "duration": 84,
    "start_time": "2024-09-14T07:22:33.724Z"
   },
   {
    "duration": 173,
    "start_time": "2024-09-14T07:22:33.810Z"
   },
   {
    "duration": 146,
    "start_time": "2024-09-14T07:22:33.984Z"
   },
   {
    "duration": 134,
    "start_time": "2024-09-14T07:22:34.131Z"
   },
   {
    "duration": 87,
    "start_time": "2024-09-14T07:22:34.266Z"
   },
   {
    "duration": 82,
    "start_time": "2024-09-14T07:22:34.354Z"
   },
   {
    "duration": 85,
    "start_time": "2024-09-14T07:22:34.438Z"
   },
   {
    "duration": 251,
    "start_time": "2024-09-14T07:22:34.526Z"
   },
   {
    "duration": 368,
    "start_time": "2024-09-14T07:22:34.779Z"
   },
   {
    "duration": 2513,
    "start_time": "2024-09-14T07:22:35.148Z"
   },
   {
    "duration": 336,
    "start_time": "2024-09-14T07:22:37.662Z"
   },
   {
    "duration": 2821,
    "start_time": "2024-09-14T07:22:37.999Z"
   },
   {
    "duration": 1089,
    "start_time": "2024-09-14T07:22:40.821Z"
   },
   {
    "duration": 14,
    "start_time": "2024-09-14T07:22:41.912Z"
   },
   {
    "duration": 9,
    "start_time": "2024-09-14T07:22:41.927Z"
   },
   {
    "duration": 9,
    "start_time": "2024-09-14T07:22:41.937Z"
   },
   {
    "duration": 5,
    "start_time": "2024-09-14T07:22:41.947Z"
   },
   {
    "duration": 20,
    "start_time": "2024-09-14T07:22:41.953Z"
   },
   {
    "duration": 43,
    "start_time": "2024-09-14T07:22:41.974Z"
   },
   {
    "duration": 19,
    "start_time": "2024-09-14T07:22:42.019Z"
   },
   {
    "duration": 76,
    "start_time": "2024-09-14T07:36:35.026Z"
   },
   {
    "duration": 1190,
    "start_time": "2024-09-14T08:32:27.830Z"
   },
   {
    "duration": 104,
    "start_time": "2024-09-14T08:32:29.022Z"
   },
   {
    "duration": 15,
    "start_time": "2024-09-14T08:32:29.129Z"
   },
   {
    "duration": 10,
    "start_time": "2024-09-14T08:32:29.145Z"
   },
   {
    "duration": 80,
    "start_time": "2024-09-14T08:32:29.157Z"
   },
   {
    "duration": 8,
    "start_time": "2024-09-14T08:32:29.239Z"
   },
   {
    "duration": 24,
    "start_time": "2024-09-14T08:32:29.249Z"
   },
   {
    "duration": 78,
    "start_time": "2024-09-14T08:32:29.274Z"
   },
   {
    "duration": 160,
    "start_time": "2024-09-14T08:32:29.354Z"
   },
   {
    "duration": 1797,
    "start_time": "2024-09-14T08:32:29.516Z"
   },
   {
    "duration": 5,
    "start_time": "2024-09-14T08:32:31.315Z"
   },
   {
    "duration": 166,
    "start_time": "2024-09-14T08:32:31.321Z"
   },
   {
    "duration": 14,
    "start_time": "2024-09-14T08:32:31.489Z"
   },
   {
    "duration": 22,
    "start_time": "2024-09-14T08:32:31.504Z"
   },
   {
    "duration": 26,
    "start_time": "2024-09-14T08:32:31.527Z"
   },
   {
    "duration": 196,
    "start_time": "2024-09-14T08:32:31.554Z"
   },
   {
    "duration": 176,
    "start_time": "2024-09-14T08:32:31.751Z"
   },
   {
    "duration": 238,
    "start_time": "2024-09-14T08:32:31.928Z"
   },
   {
    "duration": 173,
    "start_time": "2024-09-14T08:32:32.167Z"
   },
   {
    "duration": 93,
    "start_time": "2024-09-14T08:32:32.341Z"
   },
   {
    "duration": 95,
    "start_time": "2024-09-14T08:32:32.435Z"
   },
   {
    "duration": 193,
    "start_time": "2024-09-14T08:32:32.532Z"
   },
   {
    "duration": 134,
    "start_time": "2024-09-14T08:32:32.726Z"
   },
   {
    "duration": 102,
    "start_time": "2024-09-14T08:32:32.861Z"
   },
   {
    "duration": 103,
    "start_time": "2024-09-14T08:32:32.965Z"
   },
   {
    "duration": 97,
    "start_time": "2024-09-14T08:32:33.069Z"
   },
   {
    "duration": 278,
    "start_time": "2024-09-14T08:32:33.168Z"
   },
   {
    "duration": 399,
    "start_time": "2024-09-14T08:32:33.449Z"
   },
   {
    "duration": 2534,
    "start_time": "2024-09-14T08:32:33.849Z"
   },
   {
    "duration": 374,
    "start_time": "2024-09-14T08:32:36.385Z"
   },
   {
    "duration": 3031,
    "start_time": "2024-09-14T08:32:36.761Z"
   },
   {
    "duration": 1139,
    "start_time": "2024-09-14T08:32:39.794Z"
   },
   {
    "duration": 17,
    "start_time": "2024-09-14T08:32:40.935Z"
   },
   {
    "duration": 24,
    "start_time": "2024-09-14T08:32:40.953Z"
   },
   {
    "duration": 29,
    "start_time": "2024-09-14T08:32:40.978Z"
   },
   {
    "duration": 6,
    "start_time": "2024-09-14T08:32:41.009Z"
   },
   {
    "duration": 22,
    "start_time": "2024-09-14T08:32:41.016Z"
   },
   {
    "duration": 19,
    "start_time": "2024-09-14T08:32:41.039Z"
   },
   {
    "duration": 52,
    "start_time": "2024-09-14T08:32:41.060Z"
   }
  ],
  "kernelspec": {
   "display_name": "Python 3 (ipykernel)",
   "language": "python",
   "name": "python3"
  },
  "language_info": {
   "codemirror_mode": {
    "name": "ipython",
    "version": 3
   },
   "file_extension": ".py",
   "mimetype": "text/x-python",
   "name": "python",
   "nbconvert_exporter": "python",
   "pygments_lexer": "ipython3",
   "version": "3.9.5"
  },
  "toc": {
   "base_numbering": 1,
   "nav_menu": {
    "height": "226px",
    "width": "350px"
   },
   "number_sections": true,
   "sideBar": true,
   "skip_h1_title": true,
   "title_cell": "Table of Contents",
   "title_sidebar": "Contents",
   "toc_cell": false,
   "toc_position": {},
   "toc_section_display": true,
   "toc_window_display": true
  }
 },
 "nbformat": 4,
 "nbformat_minor": 2
}
